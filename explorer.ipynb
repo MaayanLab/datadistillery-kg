{
 "cells": [
  {
   "cell_type": "code",
   "execution_count": 1,
   "metadata": {},
   "outputs": [
    {
     "data": {
      "text/plain": [
       "'2.0.2'"
      ]
     },
     "execution_count": 1,
     "metadata": {},
     "output_type": "execute_result"
    }
   ],
   "source": [
    "import pandas as pd\n",
    "from glob import glob\n",
    "from IPython.display import display, Markdown\n",
    "from tqdm import tqdm\n",
    "import csv\n",
    "pd.__version__"
   ]
  },
  {
   "attachments": {},
   "cell_type": "markdown",
   "metadata": {},
   "source": [
    "# Unified Biomedical Knowledge Graph (UBKG)\n",
    "## Nodes\n",
    "### Concept"
   ]
  },
  {
   "cell_type": "code",
   "execution_count": 2,
   "metadata": {},
   "outputs": [
    {
     "data": {
      "text/html": [
       "<div>\n",
       "<style scoped>\n",
       "    .dataframe tbody tr th:only-of-type {\n",
       "        vertical-align: middle;\n",
       "    }\n",
       "\n",
       "    .dataframe tbody tr th {\n",
       "        vertical-align: top;\n",
       "    }\n",
       "\n",
       "    .dataframe thead th {\n",
       "        text-align: right;\n",
       "    }\n",
       "</style>\n",
       "<table border=\"1\" class=\"dataframe\">\n",
       "  <thead>\n",
       "    <tr style=\"text-align: right;\">\n",
       "      <th></th>\n",
       "    </tr>\n",
       "    <tr>\n",
       "      <th>id</th>\n",
       "    </tr>\n",
       "  </thead>\n",
       "  <tbody>\n",
       "    <tr>\n",
       "      <th>C0000097</th>\n",
       "    </tr>\n",
       "    <tr>\n",
       "      <th>C0000359</th>\n",
       "    </tr>\n",
       "    <tr>\n",
       "      <th>C0000610</th>\n",
       "    </tr>\n",
       "    <tr>\n",
       "      <th>C0000739</th>\n",
       "    </tr>\n",
       "    <tr>\n",
       "      <th>C0000873</th>\n",
       "    </tr>\n",
       "  </tbody>\n",
       "</table>\n",
       "</div>"
      ],
      "text/plain": [
       "Empty DataFrame\n",
       "Columns: []\n",
       "Index: [C0000097, C0000359, C0000610, C0000739, C0000873]"
      ]
     },
     "execution_count": 2,
     "metadata": {},
     "output_type": "execute_result"
    }
   ],
   "source": [
    "concepts = pd.read_csv(\"neo4j/import/CUIs.csv\")\n",
    "concepts = pd.DataFrame(index=concepts[\"CUI:ID\"].unique())\n",
    "concepts.index.name = \"id\"\n",
    "concepts.head()"
   ]
  },
  {
   "attachments": {},
   "cell_type": "markdown",
   "metadata": {},
   "source": [
    "### Semantics"
   ]
  },
  {
   "cell_type": "code",
   "execution_count": 3,
   "metadata": {},
   "outputs": [
    {
     "data": {
      "text/html": [
       "<div>\n",
       "<style scoped>\n",
       "    .dataframe tbody tr th:only-of-type {\n",
       "        vertical-align: middle;\n",
       "    }\n",
       "\n",
       "    .dataframe tbody tr th {\n",
       "        vertical-align: top;\n",
       "    }\n",
       "\n",
       "    .dataframe thead th {\n",
       "        text-align: right;\n",
       "    }\n",
       "</style>\n",
       "<table border=\"1\" class=\"dataframe\">\n",
       "  <thead>\n",
       "    <tr style=\"text-align: right;\">\n",
       "      <th></th>\n",
       "      <th>name</th>\n",
       "      <th>STN</th>\n",
       "      <th>DEF</th>\n",
       "    </tr>\n",
       "    <tr>\n",
       "      <th>TUI:ID</th>\n",
       "      <th></th>\n",
       "      <th></th>\n",
       "      <th></th>\n",
       "    </tr>\n",
       "  </thead>\n",
       "  <tbody>\n",
       "    <tr>\n",
       "      <th>T012</th>\n",
       "      <td>Bird</td>\n",
       "      <td>A1.1.3.1.1.2</td>\n",
       "      <td>A vertebrate having a constant body temperatur...</td>\n",
       "    </tr>\n",
       "    <tr>\n",
       "      <th>T014</th>\n",
       "      <td>Reptile</td>\n",
       "      <td>A1.1.3.1.1.5</td>\n",
       "      <td>A cold-blooded vertebrate having an external c...</td>\n",
       "    </tr>\n",
       "    <tr>\n",
       "      <th>T015</th>\n",
       "      <td>Mammal</td>\n",
       "      <td>A1.1.3.1.1.4</td>\n",
       "      <td>A vertebrate having a constant body temperatur...</td>\n",
       "    </tr>\n",
       "    <tr>\n",
       "      <th>T021</th>\n",
       "      <td>Fully Formed Anatomical Structure</td>\n",
       "      <td>A1.2.3</td>\n",
       "      <td>An anatomical structure in a fully formed orga...</td>\n",
       "    </tr>\n",
       "    <tr>\n",
       "      <th>T022</th>\n",
       "      <td>Body System</td>\n",
       "      <td>A2.1.4.1</td>\n",
       "      <td>A complex of anatomical structures that perfor...</td>\n",
       "    </tr>\n",
       "  </tbody>\n",
       "</table>\n",
       "</div>"
      ],
      "text/plain": [
       "                                     name           STN  \\\n",
       "TUI:ID                                                    \n",
       "T012                                 Bird  A1.1.3.1.1.2   \n",
       "T014                              Reptile  A1.1.3.1.1.5   \n",
       "T015                               Mammal  A1.1.3.1.1.4   \n",
       "T021    Fully Formed Anatomical Structure        A1.2.3   \n",
       "T022                          Body System      A2.1.4.1   \n",
       "\n",
       "                                                      DEF  \n",
       "TUI:ID                                                     \n",
       "T012    A vertebrate having a constant body temperatur...  \n",
       "T014    A cold-blooded vertebrate having an external c...  \n",
       "T015    A vertebrate having a constant body temperatur...  \n",
       "T021    An anatomical structure in a fully formed orga...  \n",
       "T022    A complex of anatomical structures that perfor...  "
      ]
     },
     "execution_count": 3,
     "metadata": {},
     "output_type": "execute_result"
    }
   ],
   "source": [
    "semantics = pd.read_csv(\"neo4j/import/TUIs.csv\", index_col=0)\n",
    "semantics.head()"
   ]
  },
  {
   "attachments": {},
   "cell_type": "markdown",
   "metadata": {},
   "source": [
    "### Definition"
   ]
  },
  {
   "cell_type": "code",
   "execution_count": 4,
   "metadata": {},
   "outputs": [
    {
     "data": {
      "text/html": [
       "<div>\n",
       "<style scoped>\n",
       "    .dataframe tbody tr th:only-of-type {\n",
       "        vertical-align: middle;\n",
       "    }\n",
       "\n",
       "    .dataframe tbody tr th {\n",
       "        vertical-align: top;\n",
       "    }\n",
       "\n",
       "    .dataframe thead th {\n",
       "        text-align: right;\n",
       "    }\n",
       "</style>\n",
       "<table border=\"1\" class=\"dataframe\">\n",
       "  <thead>\n",
       "    <tr style=\"text-align: right;\">\n",
       "      <th></th>\n",
       "      <th>SAB</th>\n",
       "      <th>DEF</th>\n",
       "    </tr>\n",
       "    <tr>\n",
       "      <th>ATUI:ID</th>\n",
       "      <th></th>\n",
       "      <th></th>\n",
       "    </tr>\n",
       "  </thead>\n",
       "  <tbody>\n",
       "    <tr>\n",
       "      <th>AT38138756</th>\n",
       "      <td>MSH</td>\n",
       "      <td>A tool for the study of liver damage which cau...</td>\n",
       "    </tr>\n",
       "    <tr>\n",
       "      <th>AT43116097</th>\n",
       "      <td>MSH</td>\n",
       "      <td>A hepatic carcinogen whose mechanism of activa...</td>\n",
       "    </tr>\n",
       "    <tr>\n",
       "      <th>AT38141939</th>\n",
       "      <td>MSH</td>\n",
       "      <td>Simple amine found in the brain. It may be mod...</td>\n",
       "    </tr>\n",
       "    <tr>\n",
       "      <th>AT235449311</th>\n",
       "      <td>MSH</td>\n",
       "      <td>A physiologically active metabolite of VITAMIN...</td>\n",
       "    </tr>\n",
       "    <tr>\n",
       "      <th>AT38137186</th>\n",
       "      <td>MSH</td>\n",
       "      <td>A material used in the manufacture of azo dyes...</td>\n",
       "    </tr>\n",
       "  </tbody>\n",
       "</table>\n",
       "</div>"
      ],
      "text/plain": [
       "             SAB                                                DEF\n",
       "ATUI:ID                                                            \n",
       "AT38138756   MSH  A tool for the study of liver damage which cau...\n",
       "AT43116097   MSH  A hepatic carcinogen whose mechanism of activa...\n",
       "AT38141939   MSH  Simple amine found in the brain. It may be mod...\n",
       "AT235449311  MSH  A physiologically active metabolite of VITAMIN...\n",
       "AT38137186   MSH  A material used in the manufacture of azo dyes..."
      ]
     },
     "execution_count": 4,
     "metadata": {},
     "output_type": "execute_result"
    }
   ],
   "source": [
    "definition = pd.read_csv(\"neo4j/import/DEFs.csv\", index_col=0)\n",
    "definition.head()"
   ]
  },
  {
   "attachments": {},
   "cell_type": "markdown",
   "metadata": {},
   "source": [
    "### Term"
   ]
  },
  {
   "cell_type": "code",
   "execution_count": 5,
   "metadata": {},
   "outputs": [
    {
     "data": {
      "text/html": [
       "<div>\n",
       "<style scoped>\n",
       "    .dataframe tbody tr th:only-of-type {\n",
       "        vertical-align: middle;\n",
       "    }\n",
       "\n",
       "    .dataframe tbody tr th {\n",
       "        vertical-align: top;\n",
       "    }\n",
       "\n",
       "    .dataframe thead th {\n",
       "        text-align: right;\n",
       "    }\n",
       "</style>\n",
       "<table border=\"1\" class=\"dataframe\">\n",
       "  <thead>\n",
       "    <tr style=\"text-align: right;\">\n",
       "      <th></th>\n",
       "      <th>name</th>\n",
       "    </tr>\n",
       "    <tr>\n",
       "      <th>SUI:ID</th>\n",
       "      <th></th>\n",
       "    </tr>\n",
       "  </thead>\n",
       "  <tbody>\n",
       "    <tr>\n",
       "      <th>S0009776</th>\n",
       "      <td>Acid, 2-Aminohexanedioic</td>\n",
       "    </tr>\n",
       "    <tr>\n",
       "      <th>S7249234</th>\n",
       "      <td>BR CAMP</td>\n",
       "    </tr>\n",
       "    <tr>\n",
       "      <th>S11872577</th>\n",
       "      <td>cramps abdominal</td>\n",
       "    </tr>\n",
       "    <tr>\n",
       "      <th>S14680596</th>\n",
       "      <td>Retained tissue after pregnancy loss</td>\n",
       "    </tr>\n",
       "    <tr>\n",
       "      <th>S3417882</th>\n",
       "      <td>Missed miscarriage</td>\n",
       "    </tr>\n",
       "  </tbody>\n",
       "</table>\n",
       "</div>"
      ],
      "text/plain": [
       "                                           name\n",
       "SUI:ID                                         \n",
       "S0009776               Acid, 2-Aminohexanedioic\n",
       "S7249234                                BR CAMP\n",
       "S11872577                      cramps abdominal\n",
       "S14680596  Retained tissue after pregnancy loss\n",
       "S3417882                     Missed miscarriage"
      ]
     },
     "execution_count": 5,
     "metadata": {},
     "output_type": "execute_result"
    }
   ],
   "source": [
    "terms = pd.read_csv(\"neo4j/import/SUIs.csv\", index_col=0)\n",
    "terms.head()"
   ]
  },
  {
   "attachments": {},
   "cell_type": "markdown",
   "metadata": {},
   "source": [
    "### Code"
   ]
  },
  {
   "cell_type": "code",
   "execution_count": 6,
   "metadata": {},
   "outputs": [
    {
     "name": "stderr",
     "output_type": "stream",
     "text": [
      "/var/folders/wq/7bkxhy8j7ql194c1fbby4gy40000gn/T/ipykernel_91263/1519649826.py:1: DtypeWarning: Columns (2) have mixed types. Specify dtype option on import or set low_memory=False.\n",
      "  codes = pd.read_csv(\"neo4j/import/CODEs.csv\", index_col=0)\n"
     ]
    },
    {
     "data": {
      "text/html": [
       "<div>\n",
       "<style scoped>\n",
       "    .dataframe tbody tr th:only-of-type {\n",
       "        vertical-align: middle;\n",
       "    }\n",
       "\n",
       "    .dataframe tbody tr th {\n",
       "        vertical-align: top;\n",
       "    }\n",
       "\n",
       "    .dataframe thead th {\n",
       "        text-align: right;\n",
       "    }\n",
       "</style>\n",
       "<table border=\"1\" class=\"dataframe\">\n",
       "  <thead>\n",
       "    <tr style=\"text-align: right;\">\n",
       "      <th></th>\n",
       "      <th>SAB</th>\n",
       "      <th>CODE</th>\n",
       "      <th>value:float</th>\n",
       "      <th>lowerbound:float</th>\n",
       "      <th>upperbound:float</th>\n",
       "      <th>unit</th>\n",
       "    </tr>\n",
       "    <tr>\n",
       "      <th>CodeID:ID</th>\n",
       "      <th></th>\n",
       "      <th></th>\n",
       "      <th></th>\n",
       "      <th></th>\n",
       "      <th></th>\n",
       "      <th></th>\n",
       "    </tr>\n",
       "  </thead>\n",
       "  <tbody>\n",
       "    <tr>\n",
       "      <th>MTHSPL J7A92W69L7</th>\n",
       "      <td>MTHSPL</td>\n",
       "      <td>J7A92W69L7</td>\n",
       "      <td>NaN</td>\n",
       "      <td>NaN</td>\n",
       "      <td>NaN</td>\n",
       "      <td>NaN</td>\n",
       "    </tr>\n",
       "    <tr>\n",
       "      <th>NCI C76777</th>\n",
       "      <td>NCI</td>\n",
       "      <td>C76777</td>\n",
       "      <td>NaN</td>\n",
       "      <td>NaN</td>\n",
       "      <td>NaN</td>\n",
       "      <td>NaN</td>\n",
       "    </tr>\n",
       "    <tr>\n",
       "      <th>ATC N07XX07</th>\n",
       "      <td>ATC</td>\n",
       "      <td>N07XX07</td>\n",
       "      <td>NaN</td>\n",
       "      <td>NaN</td>\n",
       "      <td>NaN</td>\n",
       "      <td>NaN</td>\n",
       "    </tr>\n",
       "    <tr>\n",
       "      <th>GS 1946</th>\n",
       "      <td>GS</td>\n",
       "      <td>1946</td>\n",
       "      <td>NaN</td>\n",
       "      <td>NaN</td>\n",
       "      <td>NaN</td>\n",
       "      <td>NaN</td>\n",
       "    </tr>\n",
       "    <tr>\n",
       "      <th>NOC 040413</th>\n",
       "      <td>NOC</td>\n",
       "      <td>040413</td>\n",
       "      <td>NaN</td>\n",
       "      <td>NaN</td>\n",
       "      <td>NaN</td>\n",
       "      <td>NaN</td>\n",
       "    </tr>\n",
       "  </tbody>\n",
       "</table>\n",
       "</div>"
      ],
      "text/plain": [
       "                      SAB        CODE  value:float  lowerbound:float  \\\n",
       "CodeID:ID                                                              \n",
       "MTHSPL J7A92W69L7  MTHSPL  J7A92W69L7          NaN               NaN   \n",
       "NCI C76777            NCI      C76777          NaN               NaN   \n",
       "ATC N07XX07           ATC     N07XX07          NaN               NaN   \n",
       "GS 1946                GS        1946          NaN               NaN   \n",
       "NOC 040413            NOC      040413          NaN               NaN   \n",
       "\n",
       "                   upperbound:float  unit  \n",
       "CodeID:ID                                  \n",
       "MTHSPL J7A92W69L7               NaN   NaN  \n",
       "NCI C76777                      NaN   NaN  \n",
       "ATC N07XX07                     NaN   NaN  \n",
       "GS 1946                         NaN   NaN  \n",
       "NOC 040413                      NaN   NaN  "
      ]
     },
     "execution_count": 6,
     "metadata": {},
     "output_type": "execute_result"
    }
   ],
   "source": [
    "codes = pd.read_csv(\"neo4j/import/CODEs.csv\", index_col=0)\n",
    "codes.head()"
   ]
  },
  {
   "attachments": {},
   "cell_type": "markdown",
   "metadata": {},
   "source": [
    "## Edges\n",
    "### Concept-Term"
   ]
  },
  {
   "cell_type": "code",
   "execution_count": 7,
   "metadata": {},
   "outputs": [
    {
     "data": {
      "text/html": [
       "<div>\n",
       "<style scoped>\n",
       "    .dataframe tbody tr th:only-of-type {\n",
       "        vertical-align: middle;\n",
       "    }\n",
       "\n",
       "    .dataframe tbody tr th {\n",
       "        vertical-align: top;\n",
       "    }\n",
       "\n",
       "    .dataframe thead th {\n",
       "        text-align: right;\n",
       "    }\n",
       "</style>\n",
       "<table border=\"1\" class=\"dataframe\">\n",
       "  <thead>\n",
       "    <tr style=\"text-align: right;\">\n",
       "      <th></th>\n",
       "      <th>:START_ID</th>\n",
       "      <th>:END_ID</th>\n",
       "    </tr>\n",
       "  </thead>\n",
       "  <tbody>\n",
       "    <tr>\n",
       "      <th>0</th>\n",
       "      <td>C0000163</td>\n",
       "      <td>S0007806</td>\n",
       "    </tr>\n",
       "    <tr>\n",
       "      <th>1</th>\n",
       "      <td>C0000427</td>\n",
       "      <td>S0008336</td>\n",
       "    </tr>\n",
       "    <tr>\n",
       "      <th>2</th>\n",
       "      <td>C0000665</td>\n",
       "      <td>S11922611</td>\n",
       "    </tr>\n",
       "    <tr>\n",
       "      <th>3</th>\n",
       "      <td>C0000992</td>\n",
       "      <td>S1577859</td>\n",
       "    </tr>\n",
       "    <tr>\n",
       "      <th>4</th>\n",
       "      <td>C0001021</td>\n",
       "      <td>S0797872</td>\n",
       "    </tr>\n",
       "  </tbody>\n",
       "</table>\n",
       "</div>"
      ],
      "text/plain": [
       "  :START_ID    :END_ID\n",
       "0  C0000163   S0007806\n",
       "1  C0000427   S0008336\n",
       "2  C0000665  S11922611\n",
       "3  C0000992   S1577859\n",
       "4  C0001021   S0797872"
      ]
     },
     "execution_count": 7,
     "metadata": {},
     "output_type": "execute_result"
    }
   ],
   "source": [
    "concept_term = pd.read_csv(\"neo4j/import/CUI-SUIs.csv\")\n",
    "concept_term.head()"
   ]
  },
  {
   "attachments": {},
   "cell_type": "markdown",
   "metadata": {},
   "source": [
    "### Concept-Semantics"
   ]
  },
  {
   "cell_type": "code",
   "execution_count": 8,
   "metadata": {},
   "outputs": [
    {
     "data": {
      "text/html": [
       "<div>\n",
       "<style scoped>\n",
       "    .dataframe tbody tr th:only-of-type {\n",
       "        vertical-align: middle;\n",
       "    }\n",
       "\n",
       "    .dataframe tbody tr th {\n",
       "        vertical-align: top;\n",
       "    }\n",
       "\n",
       "    .dataframe thead th {\n",
       "        text-align: right;\n",
       "    }\n",
       "</style>\n",
       "<table border=\"1\" class=\"dataframe\">\n",
       "  <thead>\n",
       "    <tr style=\"text-align: right;\">\n",
       "      <th></th>\n",
       "      <th>:START_ID</th>\n",
       "      <th>:END_ID</th>\n",
       "    </tr>\n",
       "  </thead>\n",
       "  <tbody>\n",
       "    <tr>\n",
       "      <th>0</th>\n",
       "      <td>C0000132</td>\n",
       "      <td>T126</td>\n",
       "    </tr>\n",
       "    <tr>\n",
       "      <th>1</th>\n",
       "      <td>C0000246</td>\n",
       "      <td>T116</td>\n",
       "    </tr>\n",
       "    <tr>\n",
       "      <th>2</th>\n",
       "      <td>C0000895</td>\n",
       "      <td>T060</td>\n",
       "    </tr>\n",
       "    <tr>\n",
       "      <th>3</th>\n",
       "      <td>C0000908</td>\n",
       "      <td>T037</td>\n",
       "    </tr>\n",
       "    <tr>\n",
       "      <th>4</th>\n",
       "      <td>C0000931</td>\n",
       "      <td>T067</td>\n",
       "    </tr>\n",
       "  </tbody>\n",
       "</table>\n",
       "</div>"
      ],
      "text/plain": [
       "  :START_ID :END_ID\n",
       "0  C0000132    T126\n",
       "1  C0000246    T116\n",
       "2  C0000895    T060\n",
       "3  C0000908    T037\n",
       "4  C0000931    T067"
      ]
     },
     "execution_count": 8,
     "metadata": {},
     "output_type": "execute_result"
    }
   ],
   "source": [
    "concept_semantics = pd.read_csv(\"neo4j/import/CUI-TUIs.csv\")\n",
    "concept_semantics.head()"
   ]
  },
  {
   "attachments": {},
   "cell_type": "markdown",
   "metadata": {},
   "source": [
    "### Concept-Code"
   ]
  },
  {
   "cell_type": "code",
   "execution_count": 9,
   "metadata": {},
   "outputs": [
    {
     "data": {
      "text/html": [
       "<div>\n",
       "<style scoped>\n",
       "    .dataframe tbody tr th:only-of-type {\n",
       "        vertical-align: middle;\n",
       "    }\n",
       "\n",
       "    .dataframe tbody tr th {\n",
       "        vertical-align: top;\n",
       "    }\n",
       "\n",
       "    .dataframe thead th {\n",
       "        text-align: right;\n",
       "    }\n",
       "</style>\n",
       "<table border=\"1\" class=\"dataframe\">\n",
       "  <thead>\n",
       "    <tr style=\"text-align: right;\">\n",
       "      <th></th>\n",
       "      <th>:START_ID</th>\n",
       "      <th>:END_ID</th>\n",
       "    </tr>\n",
       "  </thead>\n",
       "  <tbody>\n",
       "    <tr>\n",
       "      <th>0</th>\n",
       "      <td>C0000294</td>\n",
       "      <td>ATC V03AF01</td>\n",
       "    </tr>\n",
       "    <tr>\n",
       "      <th>1</th>\n",
       "      <td>C0000481</td>\n",
       "      <td>CHV 0000000513</td>\n",
       "    </tr>\n",
       "    <tr>\n",
       "      <th>2</th>\n",
       "      <td>C0000661</td>\n",
       "      <td>MSH D015124</td>\n",
       "    </tr>\n",
       "    <tr>\n",
       "      <th>3</th>\n",
       "      <td>C0000665</td>\n",
       "      <td>VANDF 4020847</td>\n",
       "    </tr>\n",
       "    <tr>\n",
       "      <th>4</th>\n",
       "      <td>C0000737</td>\n",
       "      <td>LNC LA15468-4</td>\n",
       "    </tr>\n",
       "  </tbody>\n",
       "</table>\n",
       "</div>"
      ],
      "text/plain": [
       "  :START_ID         :END_ID\n",
       "0  C0000294     ATC V03AF01\n",
       "1  C0000481  CHV 0000000513\n",
       "2  C0000661     MSH D015124\n",
       "3  C0000665   VANDF 4020847\n",
       "4  C0000737   LNC LA15468-4"
      ]
     },
     "execution_count": 9,
     "metadata": {},
     "output_type": "execute_result"
    }
   ],
   "source": [
    "concept_code = pd.read_csv(\"neo4j/import/CUI-CODEs.csv\")\n",
    "concept_code.head()"
   ]
  },
  {
   "attachments": {},
   "cell_type": "markdown",
   "metadata": {},
   "source": [
    "### Concept-Concept"
   ]
  },
  {
   "cell_type": "code",
   "execution_count": 10,
   "metadata": {},
   "outputs": [],
   "source": [
    "# concept_concept = pd.read_csv(\"neo4j/import/CUI-CUIs.csv\", dtype_backend=\"pyarrow\")\n",
    "# concept_concept.head()"
   ]
  },
  {
   "attachments": {},
   "cell_type": "markdown",
   "metadata": {},
   "source": [
    "### Semantic-Semantic\n",
    "Prolly skip this"
   ]
  },
  {
   "cell_type": "code",
   "execution_count": 11,
   "metadata": {},
   "outputs": [
    {
     "data": {
      "text/html": [
       "<div>\n",
       "<style scoped>\n",
       "    .dataframe tbody tr th:only-of-type {\n",
       "        vertical-align: middle;\n",
       "    }\n",
       "\n",
       "    .dataframe tbody tr th {\n",
       "        vertical-align: top;\n",
       "    }\n",
       "\n",
       "    .dataframe thead th {\n",
       "        text-align: right;\n",
       "    }\n",
       "</style>\n",
       "<table border=\"1\" class=\"dataframe\">\n",
       "  <thead>\n",
       "    <tr style=\"text-align: right;\">\n",
       "      <th></th>\n",
       "      <th>:END_ID</th>\n",
       "      <th>:START_ID</th>\n",
       "    </tr>\n",
       "  </thead>\n",
       "  <tbody>\n",
       "    <tr>\n",
       "      <th>0</th>\n",
       "      <td>T204</td>\n",
       "      <td>T002</td>\n",
       "    </tr>\n",
       "    <tr>\n",
       "      <th>1</th>\n",
       "      <td>T001</td>\n",
       "      <td>T004</td>\n",
       "    </tr>\n",
       "    <tr>\n",
       "      <th>2</th>\n",
       "      <td>T071</td>\n",
       "      <td>T004</td>\n",
       "    </tr>\n",
       "    <tr>\n",
       "      <th>3</th>\n",
       "      <td>T072</td>\n",
       "      <td>T010</td>\n",
       "    </tr>\n",
       "    <tr>\n",
       "      <th>4</th>\n",
       "      <td>T204</td>\n",
       "      <td>T010</td>\n",
       "    </tr>\n",
       "  </tbody>\n",
       "</table>\n",
       "</div>"
      ],
      "text/plain": [
       "  :END_ID :START_ID\n",
       "0    T204      T002\n",
       "1    T001      T004\n",
       "2    T071      T004\n",
       "3    T072      T010\n",
       "4    T204      T010"
      ]
     },
     "execution_count": 11,
     "metadata": {},
     "output_type": "execute_result"
    }
   ],
   "source": [
    "semantics_semantics = pd.read_csv(\"neo4j/import/TUIrel.csv\")\n",
    "semantics_semantics.head()"
   ]
  },
  {
   "attachments": {},
   "cell_type": "markdown",
   "metadata": {},
   "source": [
    "### Concept-Definition"
   ]
  },
  {
   "cell_type": "code",
   "execution_count": 12,
   "metadata": {},
   "outputs": [
    {
     "data": {
      "text/html": [
       "<div>\n",
       "<style scoped>\n",
       "    .dataframe tbody tr th:only-of-type {\n",
       "        vertical-align: middle;\n",
       "    }\n",
       "\n",
       "    .dataframe tbody tr th {\n",
       "        vertical-align: top;\n",
       "    }\n",
       "\n",
       "    .dataframe thead th {\n",
       "        text-align: right;\n",
       "    }\n",
       "</style>\n",
       "<table border=\"1\" class=\"dataframe\">\n",
       "  <thead>\n",
       "    <tr style=\"text-align: right;\">\n",
       "      <th></th>\n",
       "      <th>:END_ID</th>\n",
       "      <th>:START_ID</th>\n",
       "    </tr>\n",
       "  </thead>\n",
       "  <tbody>\n",
       "    <tr>\n",
       "      <th>0</th>\n",
       "      <td>AT38152019</td>\n",
       "      <td>C0000039</td>\n",
       "    </tr>\n",
       "    <tr>\n",
       "      <th>1</th>\n",
       "      <td>AT69817678</td>\n",
       "      <td>C0000039</td>\n",
       "    </tr>\n",
       "    <tr>\n",
       "      <th>2</th>\n",
       "      <td>AT264439104</td>\n",
       "      <td>C0000039</td>\n",
       "    </tr>\n",
       "    <tr>\n",
       "      <th>3</th>\n",
       "      <td>AT254753550</td>\n",
       "      <td>C0000039</td>\n",
       "    </tr>\n",
       "    <tr>\n",
       "      <th>4</th>\n",
       "      <td>AT267611046</td>\n",
       "      <td>C0000039</td>\n",
       "    </tr>\n",
       "  </tbody>\n",
       "</table>\n",
       "</div>"
      ],
      "text/plain": [
       "       :END_ID :START_ID\n",
       "0   AT38152019  C0000039\n",
       "1   AT69817678  C0000039\n",
       "2  AT264439104  C0000039\n",
       "3  AT254753550  C0000039\n",
       "4  AT267611046  C0000039"
      ]
     },
     "execution_count": 12,
     "metadata": {},
     "output_type": "execute_result"
    }
   ],
   "source": [
    "concept_definition = pd.read_csv(\"neo4j/import/DEFrel.csv\")\n",
    "concept_definition.head()"
   ]
  },
  {
   "attachments": {},
   "cell_type": "markdown",
   "metadata": {},
   "source": [
    "### Code-Term"
   ]
  },
  {
   "cell_type": "code",
   "execution_count": 13,
   "metadata": {},
   "outputs": [
    {
     "data": {
      "text/html": [
       "<div>\n",
       "<style scoped>\n",
       "    .dataframe tbody tr th:only-of-type {\n",
       "        vertical-align: middle;\n",
       "    }\n",
       "\n",
       "    .dataframe tbody tr th {\n",
       "        vertical-align: top;\n",
       "    }\n",
       "\n",
       "    .dataframe thead th {\n",
       "        text-align: right;\n",
       "    }\n",
       "</style>\n",
       "<table border=\"1\" class=\"dataframe\">\n",
       "  <thead>\n",
       "    <tr style=\"text-align: right;\">\n",
       "      <th></th>\n",
       "      <th>:END_ID</th>\n",
       "      <th>:START_ID</th>\n",
       "      <th>:TYPE</th>\n",
       "      <th>CUI</th>\n",
       "    </tr>\n",
       "  </thead>\n",
       "  <tbody>\n",
       "    <tr>\n",
       "      <th>0</th>\n",
       "      <td>S1424701</td>\n",
       "      <td>RXNORM 74</td>\n",
       "      <td>IN</td>\n",
       "      <td>C0000473</td>\n",
       "    </tr>\n",
       "    <tr>\n",
       "      <th>1</th>\n",
       "      <td>S18541041</td>\n",
       "      <td>SNOMEDCT_US 80994002</td>\n",
       "      <td>FN</td>\n",
       "      <td>C0000477</td>\n",
       "    </tr>\n",
       "    <tr>\n",
       "      <th>2</th>\n",
       "      <td>S11730064</td>\n",
       "      <td>SNOMEDCT_US 226367006</td>\n",
       "      <td>SY</td>\n",
       "      <td>C0000545</td>\n",
       "    </tr>\n",
       "    <tr>\n",
       "      <th>3</th>\n",
       "      <td>S0288461</td>\n",
       "      <td>CSP 2005-4146</td>\n",
       "      <td>PT</td>\n",
       "      <td>C0000735</td>\n",
       "    </tr>\n",
       "    <tr>\n",
       "      <th>4</th>\n",
       "      <td>S1957040</td>\n",
       "      <td>MDR 10048885</td>\n",
       "      <td>LLT</td>\n",
       "      <td>C0000735</td>\n",
       "    </tr>\n",
       "  </tbody>\n",
       "</table>\n",
       "</div>"
      ],
      "text/plain": [
       "     :END_ID              :START_ID :TYPE       CUI\n",
       "0   S1424701              RXNORM 74    IN  C0000473\n",
       "1  S18541041   SNOMEDCT_US 80994002    FN  C0000477\n",
       "2  S11730064  SNOMEDCT_US 226367006    SY  C0000545\n",
       "3   S0288461          CSP 2005-4146    PT  C0000735\n",
       "4   S1957040           MDR 10048885   LLT  C0000735"
      ]
     },
     "execution_count": 13,
     "metadata": {},
     "output_type": "execute_result"
    }
   ],
   "source": [
    "code_term = pd.read_csv(\"neo4j/import/CODE-SUIs.csv\")\n",
    "code_term.head()"
   ]
  },
  {
   "attachments": {},
   "cell_type": "markdown",
   "metadata": {},
   "source": [
    "## Merge Concept and Terms"
   ]
  },
  {
   "cell_type": "code",
   "execution_count": 14,
   "metadata": {},
   "outputs": [
    {
     "data": {
      "text/plain": [
       "(4508555, 2)"
      ]
     },
     "execution_count": 14,
     "metadata": {},
     "output_type": "execute_result"
    }
   ],
   "source": [
    "concept_term.columns = [\"CUI:ID\", \"SUI:ID\"]\n",
    "concept_term.shape"
   ]
  },
  {
   "cell_type": "code",
   "execution_count": 15,
   "metadata": {},
   "outputs": [
    {
     "data": {
      "text/html": [
       "<div>\n",
       "<style scoped>\n",
       "    .dataframe tbody tr th:only-of-type {\n",
       "        vertical-align: middle;\n",
       "    }\n",
       "\n",
       "    .dataframe tbody tr th {\n",
       "        vertical-align: top;\n",
       "    }\n",
       "\n",
       "    .dataframe thead th {\n",
       "        text-align: right;\n",
       "    }\n",
       "</style>\n",
       "<table border=\"1\" class=\"dataframe\">\n",
       "  <thead>\n",
       "    <tr style=\"text-align: right;\">\n",
       "      <th></th>\n",
       "      <th>SUI:ID</th>\n",
       "      <th>name</th>\n",
       "    </tr>\n",
       "    <tr>\n",
       "      <th>CUI:ID</th>\n",
       "      <th></th>\n",
       "      <th></th>\n",
       "    </tr>\n",
       "  </thead>\n",
       "  <tbody>\n",
       "    <tr>\n",
       "      <th>C0000005</th>\n",
       "      <td>S0007492</td>\n",
       "      <td>(131)I-Macroaggregated Albumin</td>\n",
       "    </tr>\n",
       "    <tr>\n",
       "      <th>C0000039</th>\n",
       "      <td>S17175117</td>\n",
       "      <td>1,2-dipalmitoylphosphatidylcholine</td>\n",
       "    </tr>\n",
       "    <tr>\n",
       "      <th>C0000052</th>\n",
       "      <td>S0007584</td>\n",
       "      <td>1,4-alpha-Glucan Branching Enzyme</td>\n",
       "    </tr>\n",
       "    <tr>\n",
       "      <th>C0000074</th>\n",
       "      <td>S0007615</td>\n",
       "      <td>1-Alkyl-2-Acylphosphatidates</td>\n",
       "    </tr>\n",
       "    <tr>\n",
       "      <th>C0000084</th>\n",
       "      <td>S0007627</td>\n",
       "      <td>1-Carboxyglutamic Acid</td>\n",
       "    </tr>\n",
       "  </tbody>\n",
       "</table>\n",
       "</div>"
      ],
      "text/plain": [
       "             SUI:ID                                name\n",
       "CUI:ID                                                 \n",
       "C0000005   S0007492      (131)I-Macroaggregated Albumin\n",
       "C0000039  S17175117  1,2-dipalmitoylphosphatidylcholine\n",
       "C0000052   S0007584   1,4-alpha-Glucan Branching Enzyme\n",
       "C0000074   S0007615        1-Alkyl-2-Acylphosphatidates\n",
       "C0000084   S0007627              1-Carboxyglutamic Acid"
      ]
     },
     "execution_count": 15,
     "metadata": {},
     "output_type": "execute_result"
    }
   ],
   "source": [
    "concept_term = pd.merge(concept_term, terms, on=\"SUI:ID\", how='outer')\n",
    "concept_term = concept_term.groupby('CUI:ID').first()\n",
    "concept_term.head()"
   ]
  },
  {
   "cell_type": "code",
   "execution_count": 16,
   "metadata": {},
   "outputs": [
    {
     "data": {
      "text/plain": [
       "(4508537, 2)"
      ]
     },
     "execution_count": 16,
     "metadata": {},
     "output_type": "execute_result"
    }
   ],
   "source": [
    "concept_term.shape"
   ]
  },
  {
   "cell_type": "code",
   "execution_count": 17,
   "metadata": {},
   "outputs": [
    {
     "data": {
      "text/html": [
       "<div>\n",
       "<style scoped>\n",
       "    .dataframe tbody tr th:only-of-type {\n",
       "        vertical-align: middle;\n",
       "    }\n",
       "\n",
       "    .dataframe tbody tr th {\n",
       "        vertical-align: top;\n",
       "    }\n",
       "\n",
       "    .dataframe thead th {\n",
       "        text-align: right;\n",
       "    }\n",
       "</style>\n",
       "<table border=\"1\" class=\"dataframe\">\n",
       "  <thead>\n",
       "    <tr style=\"text-align: right;\">\n",
       "      <th></th>\n",
       "      <th>label</th>\n",
       "    </tr>\n",
       "    <tr>\n",
       "      <th>CUI:ID</th>\n",
       "      <th></th>\n",
       "    </tr>\n",
       "  </thead>\n",
       "  <tbody>\n",
       "    <tr>\n",
       "      <th>C0000005</th>\n",
       "      <td>(131)I-Macroaggregated Albumin</td>\n",
       "    </tr>\n",
       "    <tr>\n",
       "      <th>C0000039</th>\n",
       "      <td>1,2-dipalmitoylphosphatidylcholine</td>\n",
       "    </tr>\n",
       "    <tr>\n",
       "      <th>C0000052</th>\n",
       "      <td>1,4-alpha-Glucan Branching Enzyme</td>\n",
       "    </tr>\n",
       "    <tr>\n",
       "      <th>C0000074</th>\n",
       "      <td>1-Alkyl-2-Acylphosphatidates</td>\n",
       "    </tr>\n",
       "    <tr>\n",
       "      <th>C0000084</th>\n",
       "      <td>1-Carboxyglutamic Acid</td>\n",
       "    </tr>\n",
       "  </tbody>\n",
       "</table>\n",
       "</div>"
      ],
      "text/plain": [
       "                                       label\n",
       "CUI:ID                                      \n",
       "C0000005      (131)I-Macroaggregated Albumin\n",
       "C0000039  1,2-dipalmitoylphosphatidylcholine\n",
       "C0000052   1,4-alpha-Glucan Branching Enzyme\n",
       "C0000074        1-Alkyl-2-Acylphosphatidates\n",
       "C0000084              1-Carboxyglutamic Acid"
      ]
     },
     "execution_count": 17,
     "metadata": {},
     "output_type": "execute_result"
    }
   ],
   "source": [
    "concept_term.columns = [\"SUI:ID\", \"label\"]\n",
    "concept_term = concept_term[[\"label\"]]\n",
    "concept_term.head()"
   ]
  },
  {
   "cell_type": "code",
   "execution_count": 18,
   "metadata": {},
   "outputs": [
    {
     "data": {
      "text/plain": [
       "(4508537, 1)"
      ]
     },
     "execution_count": 18,
     "metadata": {},
     "output_type": "execute_result"
    }
   ],
   "source": [
    "concept_term.shape"
   ]
  },
  {
   "cell_type": "code",
   "execution_count": 19,
   "metadata": {},
   "outputs": [
    {
     "data": {
      "text/html": [
       "<div>\n",
       "<style scoped>\n",
       "    .dataframe tbody tr th:only-of-type {\n",
       "        vertical-align: middle;\n",
       "    }\n",
       "\n",
       "    .dataframe tbody tr th {\n",
       "        vertical-align: top;\n",
       "    }\n",
       "\n",
       "    .dataframe thead th {\n",
       "        text-align: right;\n",
       "    }\n",
       "</style>\n",
       "<table border=\"1\" class=\"dataframe\">\n",
       "  <thead>\n",
       "    <tr style=\"text-align: right;\">\n",
       "      <th></th>\n",
       "      <th>label</th>\n",
       "    </tr>\n",
       "    <tr>\n",
       "      <th>id</th>\n",
       "      <th></th>\n",
       "    </tr>\n",
       "  </thead>\n",
       "  <tbody>\n",
       "    <tr>\n",
       "      <th>C0000097</th>\n",
       "      <td>1-Methyl-4-phenyl-1,2,3,6-tetrahydropyridine</td>\n",
       "    </tr>\n",
       "    <tr>\n",
       "      <th>C0000359</th>\n",
       "      <td>3',5'-Cyclic-Nucleotide Phosphodiesterase</td>\n",
       "    </tr>\n",
       "    <tr>\n",
       "      <th>C0000610</th>\n",
       "      <td>6-Aminonicotinamide</td>\n",
       "    </tr>\n",
       "    <tr>\n",
       "      <th>C0000739</th>\n",
       "      <td>Abdominal Muscles</td>\n",
       "    </tr>\n",
       "    <tr>\n",
       "      <th>C0000873</th>\n",
       "      <td>Academic Problem</td>\n",
       "    </tr>\n",
       "  </tbody>\n",
       "</table>\n",
       "</div>"
      ],
      "text/plain": [
       "                                                 label\n",
       "id                                                    \n",
       "C0000097  1-Methyl-4-phenyl-1,2,3,6-tetrahydropyridine\n",
       "C0000359     3',5'-Cyclic-Nucleotide Phosphodiesterase\n",
       "C0000610                           6-Aminonicotinamide\n",
       "C0000739                             Abdominal Muscles\n",
       "C0000873                              Academic Problem"
      ]
     },
     "execution_count": 19,
     "metadata": {},
     "output_type": "execute_result"
    }
   ],
   "source": [
    "concepts.loc[concept_term.index, 'label'] = concept_term.loc[concept_term.index, 'label']\n",
    "concepts.head()"
   ]
  },
  {
   "cell_type": "code",
   "execution_count": 20,
   "metadata": {},
   "outputs": [
    {
     "data": {
      "text/plain": [
       "(11424664, 1)"
      ]
     },
     "execution_count": 20,
     "metadata": {},
     "output_type": "execute_result"
    }
   ],
   "source": [
    "concepts.label = concepts.label.fillna(\"-\")\n",
    "concepts.shape"
   ]
  },
  {
   "attachments": {},
   "cell_type": "markdown",
   "metadata": {},
   "source": [
    "## Merge Concept and Type"
   ]
  },
  {
   "cell_type": "code",
   "execution_count": 21,
   "metadata": {},
   "outputs": [
    {
     "data": {
      "text/html": [
       "<div>\n",
       "<style scoped>\n",
       "    .dataframe tbody tr th:only-of-type {\n",
       "        vertical-align: middle;\n",
       "    }\n",
       "\n",
       "    .dataframe tbody tr th {\n",
       "        vertical-align: top;\n",
       "    }\n",
       "\n",
       "    .dataframe thead th {\n",
       "        text-align: right;\n",
       "    }\n",
       "</style>\n",
       "<table border=\"1\" class=\"dataframe\">\n",
       "  <thead>\n",
       "    <tr style=\"text-align: right;\">\n",
       "      <th></th>\n",
       "      <th>name</th>\n",
       "      <th>STN</th>\n",
       "      <th>DEF</th>\n",
       "    </tr>\n",
       "    <tr>\n",
       "      <th>TUI:ID</th>\n",
       "      <th></th>\n",
       "      <th></th>\n",
       "      <th></th>\n",
       "    </tr>\n",
       "  </thead>\n",
       "  <tbody>\n",
       "    <tr>\n",
       "      <th>T012</th>\n",
       "      <td>Bird</td>\n",
       "      <td>A1.1.3.1.1.2</td>\n",
       "      <td>A vertebrate having a constant body temperatur...</td>\n",
       "    </tr>\n",
       "    <tr>\n",
       "      <th>T014</th>\n",
       "      <td>Reptile</td>\n",
       "      <td>A1.1.3.1.1.5</td>\n",
       "      <td>A cold-blooded vertebrate having an external c...</td>\n",
       "    </tr>\n",
       "    <tr>\n",
       "      <th>T015</th>\n",
       "      <td>Mammal</td>\n",
       "      <td>A1.1.3.1.1.4</td>\n",
       "      <td>A vertebrate having a constant body temperatur...</td>\n",
       "    </tr>\n",
       "    <tr>\n",
       "      <th>T021</th>\n",
       "      <td>Fully Formed Anatomical Structure</td>\n",
       "      <td>A1.2.3</td>\n",
       "      <td>An anatomical structure in a fully formed orga...</td>\n",
       "    </tr>\n",
       "    <tr>\n",
       "      <th>T022</th>\n",
       "      <td>Body System</td>\n",
       "      <td>A2.1.4.1</td>\n",
       "      <td>A complex of anatomical structures that perfor...</td>\n",
       "    </tr>\n",
       "  </tbody>\n",
       "</table>\n",
       "</div>"
      ],
      "text/plain": [
       "                                     name           STN  \\\n",
       "TUI:ID                                                    \n",
       "T012                                 Bird  A1.1.3.1.1.2   \n",
       "T014                              Reptile  A1.1.3.1.1.5   \n",
       "T015                               Mammal  A1.1.3.1.1.4   \n",
       "T021    Fully Formed Anatomical Structure        A1.2.3   \n",
       "T022                          Body System      A2.1.4.1   \n",
       "\n",
       "                                                      DEF  \n",
       "TUI:ID                                                     \n",
       "T012    A vertebrate having a constant body temperatur...  \n",
       "T014    A cold-blooded vertebrate having an external c...  \n",
       "T015    A vertebrate having a constant body temperatur...  \n",
       "T021    An anatomical structure in a fully formed orga...  \n",
       "T022    A complex of anatomical structures that perfor...  "
      ]
     },
     "execution_count": 21,
     "metadata": {},
     "output_type": "execute_result"
    }
   ],
   "source": [
    "semantics.head()"
   ]
  },
  {
   "cell_type": "code",
   "execution_count": 22,
   "metadata": {},
   "outputs": [
    {
     "data": {
      "text/html": [
       "<div>\n",
       "<style scoped>\n",
       "    .dataframe tbody tr th:only-of-type {\n",
       "        vertical-align: middle;\n",
       "    }\n",
       "\n",
       "    .dataframe tbody tr th {\n",
       "        vertical-align: top;\n",
       "    }\n",
       "\n",
       "    .dataframe thead th {\n",
       "        text-align: right;\n",
       "    }\n",
       "</style>\n",
       "<table border=\"1\" class=\"dataframe\">\n",
       "  <thead>\n",
       "    <tr style=\"text-align: right;\">\n",
       "      <th></th>\n",
       "      <th>:START_ID</th>\n",
       "      <th>:END_ID</th>\n",
       "    </tr>\n",
       "  </thead>\n",
       "  <tbody>\n",
       "    <tr>\n",
       "      <th>0</th>\n",
       "      <td>C0000132</td>\n",
       "      <td>T126</td>\n",
       "    </tr>\n",
       "    <tr>\n",
       "      <th>1</th>\n",
       "      <td>C0000246</td>\n",
       "      <td>T116</td>\n",
       "    </tr>\n",
       "    <tr>\n",
       "      <th>2</th>\n",
       "      <td>C0000895</td>\n",
       "      <td>T060</td>\n",
       "    </tr>\n",
       "    <tr>\n",
       "      <th>3</th>\n",
       "      <td>C0000908</td>\n",
       "      <td>T037</td>\n",
       "    </tr>\n",
       "    <tr>\n",
       "      <th>4</th>\n",
       "      <td>C0000931</td>\n",
       "      <td>T067</td>\n",
       "    </tr>\n",
       "  </tbody>\n",
       "</table>\n",
       "</div>"
      ],
      "text/plain": [
       "  :START_ID :END_ID\n",
       "0  C0000132    T126\n",
       "1  C0000246    T116\n",
       "2  C0000895    T060\n",
       "3  C0000908    T037\n",
       "4  C0000931    T067"
      ]
     },
     "execution_count": 22,
     "metadata": {},
     "output_type": "execute_result"
    }
   ],
   "source": [
    "concept_semantics.head()"
   ]
  },
  {
   "cell_type": "code",
   "execution_count": 23,
   "metadata": {},
   "outputs": [
    {
     "data": {
      "text/plain": [
       "8161231"
      ]
     },
     "execution_count": 23,
     "metadata": {},
     "output_type": "execute_result"
    }
   ],
   "source": [
    "no_type = set(concepts.index) - set(concept_semantics[':START_ID'])\n",
    "len(no_type)"
   ]
  },
  {
   "cell_type": "code",
   "execution_count": 24,
   "metadata": {},
   "outputs": [],
   "source": [
    "# unique_relation = set()\n",
    "# unique_sab = set()\n",
    "# examples = set()\n",
    "# with open(\"neo4j/import/CUI-CUIs.csv\") as o:\n",
    "#     csv_reader = csv.reader(o)\n",
    "#     headers = None\n",
    "#     for row in tqdm(csv_reader):\n",
    "#         if not headers:\n",
    "#             headers = row\n",
    "#         else:\n",
    "#             source = row[0]\n",
    "#             target = row[1]\n",
    "#             relation = row[2]\n",
    "#             sab = row[3]\n",
    "#             if source in no_type or target in no_type:\n",
    "#                 if relation not in unique_relation or sab not in unique_sab:\n",
    "#                     examples.add((source, relation, sab, target))\n",
    "#                     unique_relation.add(relation)\n",
    "#                     unique_sab.add(sab)"
   ]
  },
  {
   "cell_type": "code",
   "execution_count": 25,
   "metadata": {},
   "outputs": [],
   "source": [
    "# with open(\"no_types.txt\", \"w\") as o:\n",
    "#     o.write(\"\\n\".join([\",\".join(i) for i in examples]))"
   ]
  },
  {
   "cell_type": "code",
   "execution_count": 26,
   "metadata": {},
   "outputs": [],
   "source": [
    "# with open(\"SABs_no_semantic.txt\", \"w\") as o:\n",
    "#     o.write(\"\\n\".join(unique_sab))"
   ]
  },
  {
   "cell_type": "code",
   "execution_count": 27,
   "metadata": {},
   "outputs": [],
   "source": [
    "with open('out/semantics_ranked.tsv') as o:\n",
    "    ranked_type = [i.strip() for i in o.read().strip().split(\"\\n\")]"
   ]
  },
  {
   "cell_type": "code",
   "execution_count": 28,
   "metadata": {},
   "outputs": [
    {
     "data": {
      "text/html": [
       "<div>\n",
       "<style scoped>\n",
       "    .dataframe tbody tr th:only-of-type {\n",
       "        vertical-align: middle;\n",
       "    }\n",
       "\n",
       "    .dataframe tbody tr th {\n",
       "        vertical-align: top;\n",
       "    }\n",
       "\n",
       "    .dataframe thead th {\n",
       "        text-align: right;\n",
       "    }\n",
       "</style>\n",
       "<table border=\"1\" class=\"dataframe\">\n",
       "  <thead>\n",
       "    <tr style=\"text-align: right;\">\n",
       "      <th></th>\n",
       "      <th>id</th>\n",
       "      <th>TUI:ID</th>\n",
       "      <th>type</th>\n",
       "    </tr>\n",
       "  </thead>\n",
       "  <tbody>\n",
       "    <tr>\n",
       "      <th>0</th>\n",
       "      <td>C0000132</td>\n",
       "      <td>T126</td>\n",
       "      <td>Enzyme</td>\n",
       "    </tr>\n",
       "    <tr>\n",
       "      <th>1</th>\n",
       "      <td>C0000246</td>\n",
       "      <td>T116</td>\n",
       "      <td>Amino Acid, Peptide, or Protein</td>\n",
       "    </tr>\n",
       "    <tr>\n",
       "      <th>2</th>\n",
       "      <td>C0000895</td>\n",
       "      <td>T060</td>\n",
       "      <td>Diagnostic Procedure</td>\n",
       "    </tr>\n",
       "    <tr>\n",
       "      <th>3</th>\n",
       "      <td>C0000908</td>\n",
       "      <td>T037</td>\n",
       "      <td>Injury or Poisoning</td>\n",
       "    </tr>\n",
       "    <tr>\n",
       "      <th>4</th>\n",
       "      <td>C0000931</td>\n",
       "      <td>T067</td>\n",
       "      <td>Phenomenon or Process</td>\n",
       "    </tr>\n",
       "  </tbody>\n",
       "</table>\n",
       "</div>"
      ],
      "text/plain": [
       "         id TUI:ID                             type\n",
       "0  C0000132   T126                           Enzyme\n",
       "1  C0000246   T116  Amino Acid, Peptide, or Protein\n",
       "2  C0000895   T060             Diagnostic Procedure\n",
       "3  C0000908   T037              Injury or Poisoning\n",
       "4  C0000931   T067            Phenomenon or Process"
      ]
     },
     "execution_count": 28,
     "metadata": {},
     "output_type": "execute_result"
    }
   ],
   "source": [
    "concept_semantics.columns = [\"id\", \"TUI:ID\"]\n",
    "concept_semantics[\"type\"] = [semantics.at[i, 'name'] for i in concept_semantics['TUI:ID']]\n",
    "concept_semantics.head()"
   ]
  },
  {
   "cell_type": "code",
   "execution_count": 29,
   "metadata": {},
   "outputs": [],
   "source": [
    "def fetch_type(v):\n",
    "    cat = \"\"\n",
    "    rank = len(ranked_type)\n",
    "    for i in v:\n",
    "        r = ranked_type.index(i)\n",
    "        if r < rank:\n",
    "            cat = i\n",
    "            rank = r\n",
    "    return cat"
   ]
  },
  {
   "cell_type": "code",
   "execution_count": 30,
   "metadata": {},
   "outputs": [
    {
     "data": {
      "text/plain": [
       "id\n",
       "C0000005    Pharmacologic Substance; Amino Acid, Peptide, ...\n",
       "C0000039            Pharmacologic Substance; Organic Chemical\n",
       "C0000052              Enzyme; Amino Acid, Peptide, or Protein\n",
       "C0000074                                     Organic Chemical\n",
       "C0000084    Biologically Active Substance; Amino Acid, Pep...\n",
       "Name: type, dtype: object"
      ]
     },
     "execution_count": 30,
     "metadata": {},
     "output_type": "execute_result"
    }
   ],
   "source": [
    "cs = concept_semantics.groupby('id')['type'].apply(lambda x: \"; \".join(set(x)))\n",
    "cs.head()"
   ]
  },
  {
   "cell_type": "code",
   "execution_count": 31,
   "metadata": {},
   "outputs": [
    {
     "data": {
      "text/plain": [
       "id\n",
       "C0000005    Amino Acid, Peptide, or Protein\n",
       "C0000039                   Organic Chemical\n",
       "C0000052                             Enzyme\n",
       "C0000074                   Organic Chemical\n",
       "C0000084    Amino Acid, Peptide, or Protein\n",
       "Name: type, dtype: object"
      ]
     },
     "execution_count": 31,
     "metadata": {},
     "output_type": "execute_result"
    }
   ],
   "source": [
    "cs_ranked = concept_semantics.groupby('id')['type'].apply(fetch_type)\n",
    "cs_ranked.head()"
   ]
  },
  {
   "cell_type": "code",
   "execution_count": 32,
   "metadata": {},
   "outputs": [
    {
     "data": {
      "text/plain": [
       "id\n",
       "C2872811     Injury or Poisoning\n",
       "C5697998    Laboratory Procedure\n",
       "C4297234      Clinical Attribute\n",
       "C1263700      Neoplastic Process\n",
       "C2840805     Injury or Poisoning\n",
       "Name: type, dtype: object"
      ]
     },
     "execution_count": 32,
     "metadata": {},
     "output_type": "execute_result"
    }
   ],
   "source": [
    "common = list(set(concepts.index).intersection(cs.index))\n",
    "cs[common].head()"
   ]
  },
  {
   "cell_type": "code",
   "execution_count": 33,
   "metadata": {},
   "outputs": [
    {
     "data": {
      "text/html": [
       "<div>\n",
       "<style scoped>\n",
       "    .dataframe tbody tr th:only-of-type {\n",
       "        vertical-align: middle;\n",
       "    }\n",
       "\n",
       "    .dataframe tbody tr th {\n",
       "        vertical-align: top;\n",
       "    }\n",
       "\n",
       "    .dataframe thead th {\n",
       "        text-align: right;\n",
       "    }\n",
       "</style>\n",
       "<table border=\"1\" class=\"dataframe\">\n",
       "  <thead>\n",
       "    <tr style=\"text-align: right;\">\n",
       "      <th></th>\n",
       "      <th>label</th>\n",
       "      <th>type</th>\n",
       "      <th>type_combined</th>\n",
       "    </tr>\n",
       "    <tr>\n",
       "      <th>id</th>\n",
       "      <th></th>\n",
       "      <th></th>\n",
       "      <th></th>\n",
       "    </tr>\n",
       "  </thead>\n",
       "  <tbody>\n",
       "    <tr>\n",
       "      <th>C0000097</th>\n",
       "      <td>1-Methyl-4-phenyl-1,2,3,6-tetrahydropyridine</td>\n",
       "      <td>Organic Chemical</td>\n",
       "      <td>Organic Chemical; Hazardous or Poisonous Subst...</td>\n",
       "    </tr>\n",
       "    <tr>\n",
       "      <th>C0000359</th>\n",
       "      <td>3',5'-Cyclic-Nucleotide Phosphodiesterase</td>\n",
       "      <td>Enzyme</td>\n",
       "      <td>Enzyme; Amino Acid, Peptide, or Protein</td>\n",
       "    </tr>\n",
       "    <tr>\n",
       "      <th>C0000610</th>\n",
       "      <td>6-Aminonicotinamide</td>\n",
       "      <td>Pharmacologic Substance</td>\n",
       "      <td>Pharmacologic Substance; Vitamin</td>\n",
       "    </tr>\n",
       "    <tr>\n",
       "      <th>C0000739</th>\n",
       "      <td>Abdominal Muscles</td>\n",
       "      <td>Body Part, Organ, or Organ Component</td>\n",
       "      <td>Body Part, Organ, or Organ Component</td>\n",
       "    </tr>\n",
       "    <tr>\n",
       "      <th>C0000873</th>\n",
       "      <td>Academic Problem</td>\n",
       "      <td>Finding</td>\n",
       "      <td>Finding</td>\n",
       "    </tr>\n",
       "  </tbody>\n",
       "</table>\n",
       "</div>"
      ],
      "text/plain": [
       "                                                 label  \\\n",
       "id                                                       \n",
       "C0000097  1-Methyl-4-phenyl-1,2,3,6-tetrahydropyridine   \n",
       "C0000359     3',5'-Cyclic-Nucleotide Phosphodiesterase   \n",
       "C0000610                           6-Aminonicotinamide   \n",
       "C0000739                             Abdominal Muscles   \n",
       "C0000873                              Academic Problem   \n",
       "\n",
       "                                          type  \\\n",
       "id                                               \n",
       "C0000097                      Organic Chemical   \n",
       "C0000359                                Enzyme   \n",
       "C0000610               Pharmacologic Substance   \n",
       "C0000739  Body Part, Organ, or Organ Component   \n",
       "C0000873                               Finding   \n",
       "\n",
       "                                              type_combined  \n",
       "id                                                           \n",
       "C0000097  Organic Chemical; Hazardous or Poisonous Subst...  \n",
       "C0000359            Enzyme; Amino Acid, Peptide, or Protein  \n",
       "C0000610                   Pharmacologic Substance; Vitamin  \n",
       "C0000739               Body Part, Organ, or Organ Component  \n",
       "C0000873                                            Finding  "
      ]
     },
     "execution_count": 33,
     "metadata": {},
     "output_type": "execute_result"
    }
   ],
   "source": [
    "concept_semantics\n",
    "concepts.loc[common, 'type'] = cs_ranked[common]\n",
    "concepts.loc[common, 'type_combined'] = cs[common]\n",
    "concepts.head()"
   ]
  },
  {
   "cell_type": "code",
   "execution_count": 34,
   "metadata": {},
   "outputs": [],
   "source": [
    "concepts.groupby(\"type_combined\").first().to_csv('out/semantics.tsv', sep=\"\\t\")"
   ]
  },
  {
   "cell_type": "code",
   "execution_count": 35,
   "metadata": {},
   "outputs": [
    {
     "data": {
      "text/html": [
       "<div>\n",
       "<style scoped>\n",
       "    .dataframe tbody tr th:only-of-type {\n",
       "        vertical-align: middle;\n",
       "    }\n",
       "\n",
       "    .dataframe tbody tr th {\n",
       "        vertical-align: top;\n",
       "    }\n",
       "\n",
       "    .dataframe thead th {\n",
       "        text-align: right;\n",
       "    }\n",
       "</style>\n",
       "<table border=\"1\" class=\"dataframe\">\n",
       "  <thead>\n",
       "    <tr style=\"text-align: right;\">\n",
       "      <th></th>\n",
       "      <th>label</th>\n",
       "      <th>type</th>\n",
       "      <th>type_combined</th>\n",
       "    </tr>\n",
       "    <tr>\n",
       "      <th>id</th>\n",
       "      <th></th>\n",
       "      <th></th>\n",
       "      <th></th>\n",
       "    </tr>\n",
       "  </thead>\n",
       "  <tbody>\n",
       "    <tr>\n",
       "      <th>C0000097</th>\n",
       "      <td>1-Methyl-4-phenyl-1,2,3,6-tetrahydropyridine</td>\n",
       "      <td>Organic Chemical</td>\n",
       "      <td>Organic Chemical; Hazardous or Poisonous Subst...</td>\n",
       "    </tr>\n",
       "    <tr>\n",
       "      <th>C0000359</th>\n",
       "      <td>3',5'-Cyclic-Nucleotide Phosphodiesterase</td>\n",
       "      <td>Enzyme</td>\n",
       "      <td>Enzyme; Amino Acid, Peptide, or Protein</td>\n",
       "    </tr>\n",
       "    <tr>\n",
       "      <th>C0000610</th>\n",
       "      <td>6-Aminonicotinamide</td>\n",
       "      <td>Pharmacologic Substance</td>\n",
       "      <td>Pharmacologic Substance; Vitamin</td>\n",
       "    </tr>\n",
       "    <tr>\n",
       "      <th>C0000739</th>\n",
       "      <td>Abdominal Muscles</td>\n",
       "      <td>Body Part, Organ, or Organ Component</td>\n",
       "      <td>Body Part, Organ, or Organ Component</td>\n",
       "    </tr>\n",
       "    <tr>\n",
       "      <th>C0000873</th>\n",
       "      <td>Academic Problem</td>\n",
       "      <td>Finding</td>\n",
       "      <td>Finding</td>\n",
       "    </tr>\n",
       "  </tbody>\n",
       "</table>\n",
       "</div>"
      ],
      "text/plain": [
       "                                                 label  \\\n",
       "id                                                       \n",
       "C0000097  1-Methyl-4-phenyl-1,2,3,6-tetrahydropyridine   \n",
       "C0000359     3',5'-Cyclic-Nucleotide Phosphodiesterase   \n",
       "C0000610                           6-Aminonicotinamide   \n",
       "C0000739                             Abdominal Muscles   \n",
       "C0000873                              Academic Problem   \n",
       "\n",
       "                                          type  \\\n",
       "id                                               \n",
       "C0000097                      Organic Chemical   \n",
       "C0000359                                Enzyme   \n",
       "C0000610               Pharmacologic Substance   \n",
       "C0000739  Body Part, Organ, or Organ Component   \n",
       "C0000873                               Finding   \n",
       "\n",
       "                                              type_combined  \n",
       "id                                                           \n",
       "C0000097  Organic Chemical; Hazardous or Poisonous Subst...  \n",
       "C0000359            Enzyme; Amino Acid, Peptide, or Protein  \n",
       "C0000610                   Pharmacologic Substance; Vitamin  \n",
       "C0000739               Body Part, Organ, or Organ Component  \n",
       "C0000873                                            Finding  "
      ]
     },
     "execution_count": 35,
     "metadata": {},
     "output_type": "execute_result"
    }
   ],
   "source": [
    "concepts.head()"
   ]
  },
  {
   "cell_type": "code",
   "execution_count": 36,
   "metadata": {},
   "outputs": [
    {
     "data": {
      "text/plain": [
       "(11424664, 3)"
      ]
     },
     "execution_count": 36,
     "metadata": {},
     "output_type": "execute_result"
    }
   ],
   "source": [
    "concepts.shape"
   ]
  },
  {
   "cell_type": "code",
   "execution_count": 37,
   "metadata": {},
   "outputs": [],
   "source": [
    "with open('out/semantics_list.tsv', 'w') as o:\n",
    "    o.write(\"\\n\".join([str(i) for i in concept_semantics.type.unique()]))"
   ]
  },
  {
   "attachments": {},
   "cell_type": "markdown",
   "metadata": {},
   "source": [
    "## Merge Concept and Code"
   ]
  },
  {
   "cell_type": "code",
   "execution_count": 38,
   "metadata": {},
   "outputs": [
    {
     "data": {
      "text/html": [
       "<div>\n",
       "<style scoped>\n",
       "    .dataframe tbody tr th:only-of-type {\n",
       "        vertical-align: middle;\n",
       "    }\n",
       "\n",
       "    .dataframe tbody tr th {\n",
       "        vertical-align: top;\n",
       "    }\n",
       "\n",
       "    .dataframe thead th {\n",
       "        text-align: right;\n",
       "    }\n",
       "</style>\n",
       "<table border=\"1\" class=\"dataframe\">\n",
       "  <thead>\n",
       "    <tr style=\"text-align: right;\">\n",
       "      <th></th>\n",
       "      <th>SAB</th>\n",
       "      <th>CODE</th>\n",
       "      <th>value:float</th>\n",
       "      <th>lowerbound:float</th>\n",
       "      <th>upperbound:float</th>\n",
       "      <th>unit</th>\n",
       "    </tr>\n",
       "    <tr>\n",
       "      <th>CodeID:ID</th>\n",
       "      <th></th>\n",
       "      <th></th>\n",
       "      <th></th>\n",
       "      <th></th>\n",
       "      <th></th>\n",
       "      <th></th>\n",
       "    </tr>\n",
       "  </thead>\n",
       "  <tbody>\n",
       "    <tr>\n",
       "      <th>MTHSPL J7A92W69L7</th>\n",
       "      <td>MTHSPL</td>\n",
       "      <td>J7A92W69L7</td>\n",
       "      <td>NaN</td>\n",
       "      <td>NaN</td>\n",
       "      <td>NaN</td>\n",
       "      <td>NaN</td>\n",
       "    </tr>\n",
       "    <tr>\n",
       "      <th>NCI C76777</th>\n",
       "      <td>NCI</td>\n",
       "      <td>C76777</td>\n",
       "      <td>NaN</td>\n",
       "      <td>NaN</td>\n",
       "      <td>NaN</td>\n",
       "      <td>NaN</td>\n",
       "    </tr>\n",
       "    <tr>\n",
       "      <th>ATC N07XX07</th>\n",
       "      <td>ATC</td>\n",
       "      <td>N07XX07</td>\n",
       "      <td>NaN</td>\n",
       "      <td>NaN</td>\n",
       "      <td>NaN</td>\n",
       "      <td>NaN</td>\n",
       "    </tr>\n",
       "    <tr>\n",
       "      <th>GS 1946</th>\n",
       "      <td>GS</td>\n",
       "      <td>1946</td>\n",
       "      <td>NaN</td>\n",
       "      <td>NaN</td>\n",
       "      <td>NaN</td>\n",
       "      <td>NaN</td>\n",
       "    </tr>\n",
       "    <tr>\n",
       "      <th>NOC 040413</th>\n",
       "      <td>NOC</td>\n",
       "      <td>040413</td>\n",
       "      <td>NaN</td>\n",
       "      <td>NaN</td>\n",
       "      <td>NaN</td>\n",
       "      <td>NaN</td>\n",
       "    </tr>\n",
       "  </tbody>\n",
       "</table>\n",
       "</div>"
      ],
      "text/plain": [
       "                      SAB        CODE  value:float  lowerbound:float  \\\n",
       "CodeID:ID                                                              \n",
       "MTHSPL J7A92W69L7  MTHSPL  J7A92W69L7          NaN               NaN   \n",
       "NCI C76777            NCI      C76777          NaN               NaN   \n",
       "ATC N07XX07           ATC     N07XX07          NaN               NaN   \n",
       "GS 1946                GS        1946          NaN               NaN   \n",
       "NOC 040413            NOC      040413          NaN               NaN   \n",
       "\n",
       "                   upperbound:float  unit  \n",
       "CodeID:ID                                  \n",
       "MTHSPL J7A92W69L7               NaN   NaN  \n",
       "NCI C76777                      NaN   NaN  \n",
       "ATC N07XX07                     NaN   NaN  \n",
       "GS 1946                         NaN   NaN  \n",
       "NOC 040413                      NaN   NaN  "
      ]
     },
     "execution_count": 38,
     "metadata": {},
     "output_type": "execute_result"
    }
   ],
   "source": [
    "codes.head()"
   ]
  },
  {
   "cell_type": "code",
   "execution_count": 39,
   "metadata": {},
   "outputs": [
    {
     "data": {
      "text/html": [
       "<div>\n",
       "<style scoped>\n",
       "    .dataframe tbody tr th:only-of-type {\n",
       "        vertical-align: middle;\n",
       "    }\n",
       "\n",
       "    .dataframe tbody tr th {\n",
       "        vertical-align: top;\n",
       "    }\n",
       "\n",
       "    .dataframe thead th {\n",
       "        text-align: right;\n",
       "    }\n",
       "</style>\n",
       "<table border=\"1\" class=\"dataframe\">\n",
       "  <thead>\n",
       "    <tr style=\"text-align: right;\">\n",
       "      <th></th>\n",
       "      <th>id</th>\n",
       "      <th>CodeID:ID</th>\n",
       "    </tr>\n",
       "  </thead>\n",
       "  <tbody>\n",
       "    <tr>\n",
       "      <th>0</th>\n",
       "      <td>C0000294</td>\n",
       "      <td>ATC V03AF01</td>\n",
       "    </tr>\n",
       "    <tr>\n",
       "      <th>1</th>\n",
       "      <td>C0000481</td>\n",
       "      <td>CHV 0000000513</td>\n",
       "    </tr>\n",
       "    <tr>\n",
       "      <th>2</th>\n",
       "      <td>C0000661</td>\n",
       "      <td>MSH D015124</td>\n",
       "    </tr>\n",
       "    <tr>\n",
       "      <th>3</th>\n",
       "      <td>C0000665</td>\n",
       "      <td>VANDF 4020847</td>\n",
       "    </tr>\n",
       "    <tr>\n",
       "      <th>4</th>\n",
       "      <td>C0000737</td>\n",
       "      <td>LNC LA15468-4</td>\n",
       "    </tr>\n",
       "  </tbody>\n",
       "</table>\n",
       "</div>"
      ],
      "text/plain": [
       "         id       CodeID:ID\n",
       "0  C0000294     ATC V03AF01\n",
       "1  C0000481  CHV 0000000513\n",
       "2  C0000661     MSH D015124\n",
       "3  C0000665   VANDF 4020847\n",
       "4  C0000737   LNC LA15468-4"
      ]
     },
     "execution_count": 39,
     "metadata": {},
     "output_type": "execute_result"
    }
   ],
   "source": [
    "concept_code.columns = [\"id\", \"CodeID:ID\"]\n",
    "concept_code.head()"
   ]
  },
  {
   "cell_type": "code",
   "execution_count": 40,
   "metadata": {},
   "outputs": [
    {
     "data": {
      "text/html": [
       "<div>\n",
       "<style scoped>\n",
       "    .dataframe tbody tr th:only-of-type {\n",
       "        vertical-align: middle;\n",
       "    }\n",
       "\n",
       "    .dataframe tbody tr th {\n",
       "        vertical-align: top;\n",
       "    }\n",
       "\n",
       "    .dataframe thead th {\n",
       "        text-align: right;\n",
       "    }\n",
       "</style>\n",
       "<table border=\"1\" class=\"dataframe\">\n",
       "  <thead>\n",
       "    <tr style=\"text-align: right;\">\n",
       "      <th></th>\n",
       "      <th>id</th>\n",
       "      <th>CodeID:ID</th>\n",
       "      <th>SAB</th>\n",
       "      <th>CODE</th>\n",
       "      <th>value:float</th>\n",
       "      <th>lowerbound:float</th>\n",
       "      <th>upperbound:float</th>\n",
       "      <th>unit</th>\n",
       "    </tr>\n",
       "  </thead>\n",
       "  <tbody>\n",
       "    <tr>\n",
       "      <th>0</th>\n",
       "      <td>C0000294</td>\n",
       "      <td>ATC V03AF01</td>\n",
       "      <td>ATC</td>\n",
       "      <td>V03AF01</td>\n",
       "      <td>NaN</td>\n",
       "      <td>NaN</td>\n",
       "      <td>NaN</td>\n",
       "      <td>NaN</td>\n",
       "    </tr>\n",
       "    <tr>\n",
       "      <th>1</th>\n",
       "      <td>C0000481</td>\n",
       "      <td>CHV 0000000513</td>\n",
       "      <td>CHV</td>\n",
       "      <td>0000000513</td>\n",
       "      <td>NaN</td>\n",
       "      <td>NaN</td>\n",
       "      <td>NaN</td>\n",
       "      <td>NaN</td>\n",
       "    </tr>\n",
       "    <tr>\n",
       "      <th>2</th>\n",
       "      <td>C0000661</td>\n",
       "      <td>MSH D015124</td>\n",
       "      <td>MSH</td>\n",
       "      <td>D015124</td>\n",
       "      <td>NaN</td>\n",
       "      <td>NaN</td>\n",
       "      <td>NaN</td>\n",
       "      <td>NaN</td>\n",
       "    </tr>\n",
       "    <tr>\n",
       "      <th>3</th>\n",
       "      <td>C0000665</td>\n",
       "      <td>VANDF 4020847</td>\n",
       "      <td>VANDF</td>\n",
       "      <td>4020847</td>\n",
       "      <td>NaN</td>\n",
       "      <td>NaN</td>\n",
       "      <td>NaN</td>\n",
       "      <td>NaN</td>\n",
       "    </tr>\n",
       "    <tr>\n",
       "      <th>4</th>\n",
       "      <td>C0000737</td>\n",
       "      <td>LNC LA15468-4</td>\n",
       "      <td>LNC</td>\n",
       "      <td>LA15468-4</td>\n",
       "      <td>NaN</td>\n",
       "      <td>NaN</td>\n",
       "      <td>NaN</td>\n",
       "      <td>NaN</td>\n",
       "    </tr>\n",
       "  </tbody>\n",
       "</table>\n",
       "</div>"
      ],
      "text/plain": [
       "         id       CodeID:ID    SAB        CODE  value:float  lowerbound:float  \\\n",
       "0  C0000294     ATC V03AF01    ATC     V03AF01          NaN               NaN   \n",
       "1  C0000481  CHV 0000000513    CHV  0000000513          NaN               NaN   \n",
       "2  C0000661     MSH D015124    MSH     D015124          NaN               NaN   \n",
       "3  C0000665   VANDF 4020847  VANDF     4020847          NaN               NaN   \n",
       "4  C0000737   LNC LA15468-4    LNC   LA15468-4          NaN               NaN   \n",
       "\n",
       "   upperbound:float  unit  \n",
       "0               NaN   NaN  \n",
       "1               NaN   NaN  \n",
       "2               NaN   NaN  \n",
       "3               NaN   NaN  \n",
       "4               NaN   NaN  "
      ]
     },
     "execution_count": 40,
     "metadata": {},
     "output_type": "execute_result"
    }
   ],
   "source": [
    "concept_code = pd.merge(concept_code, codes, on=\"CodeID:ID\", how='left')\n",
    "concept_code.head()"
   ]
  },
  {
   "cell_type": "code",
   "execution_count": 41,
   "metadata": {},
   "outputs": [
    {
     "data": {
      "text/html": [
       "<div>\n",
       "<style scoped>\n",
       "    .dataframe tbody tr th:only-of-type {\n",
       "        vertical-align: middle;\n",
       "    }\n",
       "\n",
       "    .dataframe tbody tr th {\n",
       "        vertical-align: top;\n",
       "    }\n",
       "\n",
       "    .dataframe thead th {\n",
       "        text-align: right;\n",
       "    }\n",
       "</style>\n",
       "<table border=\"1\" class=\"dataframe\">\n",
       "  <thead>\n",
       "    <tr style=\"text-align: right;\">\n",
       "      <th></th>\n",
       "      <th>id</th>\n",
       "      <th>CodeID:ID</th>\n",
       "      <th>SAB</th>\n",
       "      <th>CODE</th>\n",
       "      <th>value:float</th>\n",
       "      <th>lowerbound:float</th>\n",
       "      <th>upperbound:float</th>\n",
       "      <th>unit</th>\n",
       "    </tr>\n",
       "  </thead>\n",
       "  <tbody>\n",
       "    <tr>\n",
       "      <th>623690</th>\n",
       "      <td>C0000097</td>\n",
       "      <td>LCH_NW sh86002892</td>\n",
       "      <td>LCH_NW</td>\n",
       "      <td>sh86002892</td>\n",
       "      <td>NaN</td>\n",
       "      <td>NaN</td>\n",
       "      <td>NaN</td>\n",
       "      <td>NaN</td>\n",
       "    </tr>\n",
       "    <tr>\n",
       "      <th>1108107</th>\n",
       "      <td>C0000097</td>\n",
       "      <td>CSP 2511-0411</td>\n",
       "      <td>CSP</td>\n",
       "      <td>2511-0411</td>\n",
       "      <td>NaN</td>\n",
       "      <td>NaN</td>\n",
       "      <td>NaN</td>\n",
       "      <td>NaN</td>\n",
       "    </tr>\n",
       "    <tr>\n",
       "      <th>1246274</th>\n",
       "      <td>C0000097</td>\n",
       "      <td>PSY 31213</td>\n",
       "      <td>PSY</td>\n",
       "      <td>31213</td>\n",
       "      <td>NaN</td>\n",
       "      <td>NaN</td>\n",
       "      <td>NaN</td>\n",
       "      <td>NaN</td>\n",
       "    </tr>\n",
       "    <tr>\n",
       "      <th>2179442</th>\n",
       "      <td>C0000097</td>\n",
       "      <td>MSH D015632</td>\n",
       "      <td>MSH</td>\n",
       "      <td>D015632</td>\n",
       "      <td>NaN</td>\n",
       "      <td>NaN</td>\n",
       "      <td>NaN</td>\n",
       "      <td>NaN</td>\n",
       "    </tr>\n",
       "    <tr>\n",
       "      <th>3529094</th>\n",
       "      <td>C0000097</td>\n",
       "      <td>CHV 0000000501</td>\n",
       "      <td>CHV</td>\n",
       "      <td>0000000501</td>\n",
       "      <td>NaN</td>\n",
       "      <td>NaN</td>\n",
       "      <td>NaN</td>\n",
       "      <td>NaN</td>\n",
       "    </tr>\n",
       "    <tr>\n",
       "      <th>3736237</th>\n",
       "      <td>C0000097</td>\n",
       "      <td>PSY 32433</td>\n",
       "      <td>PSY</td>\n",
       "      <td>32433</td>\n",
       "      <td>NaN</td>\n",
       "      <td>NaN</td>\n",
       "      <td>NaN</td>\n",
       "      <td>NaN</td>\n",
       "    </tr>\n",
       "    <tr>\n",
       "      <th>4116966</th>\n",
       "      <td>C0000097</td>\n",
       "      <td>SNOMEDCT_US 285407008</td>\n",
       "      <td>SNOMEDCT_US</td>\n",
       "      <td>285407008</td>\n",
       "      <td>NaN</td>\n",
       "      <td>NaN</td>\n",
       "      <td>NaN</td>\n",
       "      <td>NaN</td>\n",
       "    </tr>\n",
       "  </tbody>\n",
       "</table>\n",
       "</div>"
      ],
      "text/plain": [
       "               id              CodeID:ID          SAB        CODE  \\\n",
       "623690   C0000097      LCH_NW sh86002892       LCH_NW  sh86002892   \n",
       "1108107  C0000097          CSP 2511-0411          CSP   2511-0411   \n",
       "1246274  C0000097              PSY 31213          PSY       31213   \n",
       "2179442  C0000097            MSH D015632          MSH     D015632   \n",
       "3529094  C0000097         CHV 0000000501          CHV  0000000501   \n",
       "3736237  C0000097              PSY 32433          PSY       32433   \n",
       "4116966  C0000097  SNOMEDCT_US 285407008  SNOMEDCT_US   285407008   \n",
       "\n",
       "         value:float  lowerbound:float  upperbound:float  unit  \n",
       "623690           NaN               NaN               NaN   NaN  \n",
       "1108107          NaN               NaN               NaN   NaN  \n",
       "1246274          NaN               NaN               NaN   NaN  \n",
       "2179442          NaN               NaN               NaN   NaN  \n",
       "3529094          NaN               NaN               NaN   NaN  \n",
       "3736237          NaN               NaN               NaN   NaN  \n",
       "4116966          NaN               NaN               NaN   NaN  "
      ]
     },
     "execution_count": 41,
     "metadata": {},
     "output_type": "execute_result"
    }
   ],
   "source": [
    "concept_code[concept_code.id == 'C0000097']"
   ]
  },
  {
   "cell_type": "code",
   "execution_count": 42,
   "metadata": {},
   "outputs": [
    {
     "data": {
      "text/html": [
       "<div>\n",
       "<style scoped>\n",
       "    .dataframe tbody tr th:only-of-type {\n",
       "        vertical-align: middle;\n",
       "    }\n",
       "\n",
       "    .dataframe tbody tr th {\n",
       "        vertical-align: top;\n",
       "    }\n",
       "\n",
       "    .dataframe thead th {\n",
       "        text-align: right;\n",
       "    }\n",
       "</style>\n",
       "<table border=\"1\" class=\"dataframe\">\n",
       "  <thead>\n",
       "    <tr style=\"text-align: right;\">\n",
       "      <th></th>\n",
       "      <th>label</th>\n",
       "      <th>type</th>\n",
       "      <th>type_combined</th>\n",
       "    </tr>\n",
       "    <tr>\n",
       "      <th>id</th>\n",
       "      <th></th>\n",
       "      <th></th>\n",
       "      <th></th>\n",
       "    </tr>\n",
       "  </thead>\n",
       "  <tbody>\n",
       "    <tr>\n",
       "      <th>C0000097</th>\n",
       "      <td>1-Methyl-4-phenyl-1,2,3,6-tetrahydropyridine</td>\n",
       "      <td>Organic Chemical</td>\n",
       "      <td>Organic Chemical; Hazardous or Poisonous Subst...</td>\n",
       "    </tr>\n",
       "    <tr>\n",
       "      <th>C0000359</th>\n",
       "      <td>3',5'-Cyclic-Nucleotide Phosphodiesterase</td>\n",
       "      <td>Enzyme</td>\n",
       "      <td>Enzyme; Amino Acid, Peptide, or Protein</td>\n",
       "    </tr>\n",
       "    <tr>\n",
       "      <th>C0000610</th>\n",
       "      <td>6-Aminonicotinamide</td>\n",
       "      <td>Pharmacologic Substance</td>\n",
       "      <td>Pharmacologic Substance; Vitamin</td>\n",
       "    </tr>\n",
       "    <tr>\n",
       "      <th>C0000739</th>\n",
       "      <td>Abdominal Muscles</td>\n",
       "      <td>Body Part, Organ, or Organ Component</td>\n",
       "      <td>Body Part, Organ, or Organ Component</td>\n",
       "    </tr>\n",
       "    <tr>\n",
       "      <th>C0000873</th>\n",
       "      <td>Academic Problem</td>\n",
       "      <td>Finding</td>\n",
       "      <td>Finding</td>\n",
       "    </tr>\n",
       "  </tbody>\n",
       "</table>\n",
       "</div>"
      ],
      "text/plain": [
       "                                                 label  \\\n",
       "id                                                       \n",
       "C0000097  1-Methyl-4-phenyl-1,2,3,6-tetrahydropyridine   \n",
       "C0000359     3',5'-Cyclic-Nucleotide Phosphodiesterase   \n",
       "C0000610                           6-Aminonicotinamide   \n",
       "C0000739                             Abdominal Muscles   \n",
       "C0000873                              Academic Problem   \n",
       "\n",
       "                                          type  \\\n",
       "id                                               \n",
       "C0000097                      Organic Chemical   \n",
       "C0000359                                Enzyme   \n",
       "C0000610               Pharmacologic Substance   \n",
       "C0000739  Body Part, Organ, or Organ Component   \n",
       "C0000873                               Finding   \n",
       "\n",
       "                                              type_combined  \n",
       "id                                                           \n",
       "C0000097  Organic Chemical; Hazardous or Poisonous Subst...  \n",
       "C0000359            Enzyme; Amino Acid, Peptide, or Protein  \n",
       "C0000610                   Pharmacologic Substance; Vitamin  \n",
       "C0000739               Body Part, Organ, or Organ Component  \n",
       "C0000873                                            Finding  "
      ]
     },
     "execution_count": 42,
     "metadata": {},
     "output_type": "execute_result"
    }
   ],
   "source": [
    "concepts.head()"
   ]
  },
  {
   "cell_type": "code",
   "execution_count": 42,
   "metadata": {},
   "outputs": [],
   "source": [
    "with open(\"unique_SABS_of_Concepr.txt\", \"w\") as o:\n",
    "    sabs = [str(i) for i in concept_code[concept_code.id.isin(concepts[concepts.type.isna()].index)].SAB.unique()]\n",
    "    o.write(\"\\n\".join(sabs))"
   ]
  },
  {
   "cell_type": "code",
   "execution_count": 43,
   "metadata": {},
   "outputs": [],
   "source": [
    "type_mapper = {}\n",
    "with open(\"unique_SABS_of_Concept.txt\") as o:\n",
    "    for line in o:\n",
    "        r = line.strip().split(\":\")\n",
    "        if len(r) == 2:\n",
    "            type_mapper[r[0]] = r[1]\n",
    "        else:\n",
    "            type_mapper[r[0]] = r[0]"
   ]
  },
  {
   "cell_type": "code",
   "execution_count": 44,
   "metadata": {},
   "outputs": [
    {
     "name": "stderr",
     "output_type": "stream",
     "text": [
      "11606580it [05:24, 35770.17it/s]\n"
     ]
    }
   ],
   "source": [
    "for i,row in tqdm(concept_code[concept_code.id.isin(concepts[concepts.type.isna()].index)].iterrows()):\n",
    "    sab = row[\"SAB\"]\n",
    "    ind = row[\"id\"]\n",
    "    if type(sab) == str:\n",
    "        tp = type_mapper[sab]\n",
    "        if tp:\n",
    "            concepts.at[ind, \"type\"] = tp\n",
    "            concepts.at[ind, \"type_combined\"] = tp\n"
   ]
  },
  {
   "cell_type": "code",
   "execution_count": 88,
   "metadata": {},
   "outputs": [
    {
     "name": "stderr",
     "output_type": "stream",
     "text": [
      "100%|██████████| 262/262 [13:45<00:00,  3.15s/it] \n"
     ]
    }
   ],
   "source": [
    "for type in tqdm(concepts.type.unique()):\n",
    "    con = concepts[concepts.type==type].copy()\n",
    "    cc = concept_code[concept_code.id.isin(con.index)]\n",
    "    for sab in cc.SAB.unique():\n",
    "        c = cc[cc.SAB == sab]\n",
    "        c = c.groupby('id').first()\n",
    "        common = list(set(con.index).intersection(c.index))\n",
    "        con.loc[common, sab] = c.loc[common, \"CodeID:ID\"]\n",
    "        if c.loc[common, \"value:float\"].isna().sum() != len(common):\n",
    "            con.loc[common, \"%s value\"%sab] = c.loc[common, \"value:float\"]\n",
    "        if c.loc[common, \"lowerbound:float\"].isna().sum() != len(common):\n",
    "            con.loc[common, \"%s lowerbound\"%sab] = c.loc[common, \"lowerbound:float\"]\n",
    "        if c.loc[common, \"upperbound:float\"].isna().sum() != len(common):\n",
    "            con.loc[common, \"%s upperbound\"%sab] = c.loc[common, \"upperbound:float\"]\n",
    "        if c.loc[common, \"unit\"].isna().sum() != len(common):\n",
    "            con.loc[common, \"%s unit\"%sab] = c.loc[common, \"unit\"]\n",
    "        if \"-\" in list(con[\"label\"]):\n",
    "            tmp = con[con.label == \"-\"]\n",
    "            ind = set(tmp.index).intersection(con.index)\n",
    "            ind2 = set(tmp.index).intersection(c.index)\n",
    "            if len(ind.intersection(ind2)) > 0:\n",
    "                l = list(ind.intersection(ind2))\n",
    "                con.loc[l, \"label\"] = c.loc[l, 'CodeID:ID']\n",
    "        con.to_csv(\"out/serialization/nodes/%s.nodes.csv\"%(type))\n"
   ]
  },
  {
   "cell_type": "code",
   "execution_count": 89,
   "metadata": {},
   "outputs": [],
   "source": [
    "import os"
   ]
  },
  {
   "cell_type": "code",
   "execution_count": 96,
   "metadata": {},
   "outputs": [
    {
     "name": "stderr",
     "output_type": "stream",
     "text": [
      "127920727it [2:37:49, 13508.20it/s]\n"
     ]
    }
   ],
   "source": [
    "row_headers = [\"source\", \"relation\", \"target\", \"source_label\", \"target_label\", \"SAB\", \"evidence\"]\n",
    "with open(\"neo4j/import/CUI-CUIs.csv\") as o:\n",
    "    csv_reader = csv.reader(o)\n",
    "    headers = None\n",
    "    for row in tqdm(csv_reader):\n",
    "        if not headers:\n",
    "            headers = row\n",
    "        else:\n",
    "            source = row[0]\n",
    "            target = row[1]\n",
    "            if source in concepts.index and target in concepts.index:\n",
    "                source_label = concepts.at[source, 'label']\n",
    "                source_type = concepts.at[source, 'type']\n",
    "                \n",
    "                target_label = concepts.at[target, 'label']\n",
    "                target_type = concepts.at[target, 'type']\n",
    "                relation = row[2]\n",
    "                sab = row[3]\n",
    "                evidence = ''\n",
    "                if len(row) > 4:\n",
    "                    evidence = row[4]\n",
    "                filename = 'out/serialization/edges/%s.%s.%s.edges.csv'%(source_type, relation, target_type)\n",
    "                write_header = False\n",
    "                operation = \"a\"\n",
    "                if not os.path.isfile(filename):\n",
    "                    write_header = True\n",
    "                    operation = \"w\"\n",
    "                # source_list = set()\n",
    "                # target_list = set()\n",
    "                with open(filename, operation) as w:\n",
    "                    csv_writer = csv.writer(w)\n",
    "                    if write_header:\n",
    "                        csv_writer.writerow(row_headers)\n",
    "                    csv_writer.writerow([source, relation, target, source_label, target_label, sab, evidence])\n",
    "                #     source_list.add(source)\n",
    "                #     target_list.add(target)\n",
    "\n",
    "                # # take note of nodes that are used for source and target\n",
    "                # source_ids = \"out/serialization/ids/%s.txt\"%source_type\n",
    "                # if not os.path.isfile(source_ids):\n",
    "                #     with open(source_ids, 'w') as o:\n",
    "                #         o.write(\"\\n\".join(source_list))\n",
    "                # else:\n",
    "                #     with open(source_ids) as o:\n",
    "                #         source_list = source_list.union(o.read().strip().split(\"\\n\"))\n",
    "                #     with open(source_ids, 'w') as o:\n",
    "                #         o.write(\"\\n\".join(source_list))\n",
    "                # target_ids = \"out/serialization/ids/%s.txt\"%target_type\n",
    "                # if not os.path.isfile(target_ids):\n",
    "                #     with open(target_ids, 'w') as o:\n",
    "                #         o.write(\"\\n\".join(target_list))\n",
    "                # else:\n",
    "                #     with open(target_ids) as o:\n",
    "                #         target_list = target_list.union(o.read().strip().split(\"\\n\"))\n",
    "                #     with open(target_ids, 'w') as o:\n",
    "                #         o.write(\"\\n\".join(target_list))"
   ]
  },
  {
   "cell_type": "code",
   "execution_count": null,
   "metadata": {},
   "outputs": [],
   "source": [
    "with open(\"relationship_SABs.txt\", \"w\") as o:\n",
    "    o.write(\"\\n\".join(sabs))"
   ]
  },
  {
   "cell_type": "code",
   "execution_count": 95,
   "metadata": {},
   "outputs": [
    {
     "name": "stderr",
     "output_type": "stream",
     "text": [
      "127920727it [02:08, 997041.95it/s] \n"
     ]
    }
   ],
   "source": [
    "relationships = set()\n",
    "with open(\"neo4j/import/CUI-CUIs.csv\") as o:\n",
    "    csv_reader = csv.reader(o)\n",
    "    headers = None\n",
    "    for row in tqdm(csv_reader):\n",
    "        if not headers:\n",
    "            headers = row\n",
    "        else:\n",
    "            source = row[0]\n",
    "            target = row[1]\n",
    "            relation = row[2]\n",
    "            sab = row[3]\n",
    "            relationships.add(relation)"
   ]
  },
  {
   "cell_type": "code",
   "execution_count": 97,
   "metadata": {},
   "outputs": [],
   "source": [
    "with open(\"relationships.txt\", \"w\") as o:\n",
    "    o.write(\"\\n\".join(relationships))"
   ]
  },
  {
   "cell_type": "code",
   "execution_count": 171,
   "metadata": {},
   "outputs": [],
   "source": [
    "# with open(\"edge_filenames\", \"w\") as o:\n",
    "#     o.write(\"\\n\".join(edge_filenames))"
   ]
  },
  {
   "cell_type": "code",
   "execution_count": 172,
   "metadata": {},
   "outputs": [],
   "source": [
    "# with open(\"node_filenames\", \"w\") as o:\n",
    "#     o.write(\"\\n\".join(node_filenames))"
   ]
  },
  {
   "cell_type": "code",
   "execution_count": 97,
   "metadata": {},
   "outputs": [],
   "source": [
    "with open(\"relationship_SABs_keep.txt\") as o:\n",
    "    sabs_to_keep = set(o.read().strip().split(\"\\n\"))"
   ]
  },
  {
   "cell_type": "code",
   "execution_count": 98,
   "metadata": {},
   "outputs": [],
   "source": [
    "import re\n",
    "import os\n",
    "edge_pattern = \"(?P<directory>.+)/(?P<source_type>.+)\\.(?P<relation>.+)\\.(?P<target_type>.+)\\.(?P<entity>.+)\\.csv\"\n"
   ]
  },
  {
   "cell_type": "code",
   "execution_count": 103,
   "metadata": {},
   "outputs": [],
   "source": [
    "node_base = \"out/serialization/nodes/%s.nodes.csv\"\n",
    "new_node_base = \"out/dd/nodes/%s.nodes.csv\"\n",
    "new_edge_base = \"out/dd/edges/%s.%s.%s.edges.csv\"\n",
    "ids_base = \"out/dd/ids/%s.txt\"\n",
    "node_ids = {}\n",
    "sab_relations = {}\n",
    "processed = set()"
   ]
  },
  {
   "cell_type": "code",
   "execution_count": 104,
   "metadata": {},
   "outputs": [],
   "source": [
    "def glygen(s):\n",
    "    return s.replace(\"GLYGEN.RESIDUE\", \"GLYGEN_RESIDUE\").replace(\"GLYCAN.MOTIF\", \"GLYCAN_MOTIF\").replace('GLYCOSYLTRANSFERASE.REACTION', 'GLYCOSYLTRANSFERASE_REACTION').replace(\"GLYGEN.SRC\", \"GLYGEN_SRC\").replace('GLYGEN.GLYCOSYLATION', 'GLYGEN_GLYCOSYLATION')\n",
    "\n",
    "def glygen_reverse(s):\n",
    "    return s.replace(\"GLYGEN_RESIDUE\", \"GLYGEN.RESIDUE\").replace(\"GLYCAN_MOTIF\", \"GLYCAN.MOTIF\").replace('GLYCOSYLTRANSFERASE_REACTION', 'GLYCOSYLTRANSFERASE.REACTION').replace(\"GLYGEN_SRC\", \"GLYGEN.SRC\").replace('GLYGEN_GLYCOSYLATION', 'GLYGEN.GLYCOSYLATION')\n"
   ]
  },
  {
   "cell_type": "code",
   "execution_count": 107,
   "metadata": {},
   "outputs": [
    {
     "name": "stderr",
     "output_type": "stream",
     "text": [
      "100%|██████████| 75964/75964 [04:37<00:00, 273.97it/s] \n"
     ]
    }
   ],
   "source": [
    "for filename in tqdm(glob(\"out/serialization/edges/*.csv\")):\n",
    "    if filename not in processed:\n",
    "        match = re.match(edge_pattern, glygen(filename)).groupdict()\n",
    "        entity = match[\"entity\"]\n",
    "        source_type = glygen_reverse(match[\"source_type\"])\n",
    "        relation = match[\"relation\"].replace(\"_\", \" \")\n",
    "        target_type = glygen_reverse(match[\"target_type\"])\n",
    "        if \"inverse\" not in relation:\n",
    "            edge_df = pd.read_csv(filename, low_memory=False)\n",
    "            # filter for SAB\n",
    "            sabs = sabs_to_keep.intersection(edge_df.SAB.unique())\n",
    "            for sab in sabs:\n",
    "                if sab not in sab_relations:\n",
    "                    sab_relations[sab] = set()\n",
    "                sab_relations[sab].add(relation)\n",
    "            if len(sabs) > 0:\n",
    "                edge_df = edge_df[edge_df.SAB.isin(sabs)]\n",
    "                if not os.path.isfile(ids_base%source_type):\n",
    "                    with open(ids_base%source_type, 'w') as o:\n",
    "                        o.write(\"\\n\".join(edge_df.source))\n",
    "                else:\n",
    "                    with open(ids_base%source_type) as o:\n",
    "                        ids = set(o.read().strip().split(\"\\n\"))\n",
    "                    with open(ids_base%source_type, 'w') as o:\n",
    "                        ids = ids.union(edge_df.source)\n",
    "                        o.write(\"\\n\".join(ids))\n",
    "                if not os.path.isfile(ids_base%target_type):\n",
    "                    with open(ids_base%target_type, 'w') as o:\n",
    "                        o.write(\"\\n\".join(edge_df.target))\n",
    "                else:\n",
    "                    with open(ids_base%target_type) as o:\n",
    "                        ids = set(o.read().strip().split(\"\\n\"))\n",
    "                    with open(ids_base%target_type, 'w') as o:\n",
    "                        ids = ids.union(edge_df.target)\n",
    "                        o.write(\"\\n\".join(ids))\n",
    "                # source_df = pd.read_csv(node_base%source_type, index_col=0, low_memory=False)\n",
    "                # if os.path.isfile(new_node_base%(source_type)):\n",
    "                #     new_source_df = pd.read_csv(new_node_base%(source_type), index_col=0, low_memory=False)\n",
    "                #     pd.concat([new_source_df, source_df]).dropna(axis=1).to_csv(new_node_base%(source_type))\n",
    "                # else:\n",
    "                #     source_df.dropna(axis=1).to_csv(new_node_base%(source_type))\n",
    "                \n",
    "                # target_df = pd.read_csv(node_base%target_type, index_col=0, low_memory=False)\n",
    "                # if os.path.isfile(new_node_base%(target_type)):\n",
    "                #     new_target_df = pd.read_csv(new_node_base%(target_type), index_col=0, low_memory=False)\n",
    "                #     pd.concat([new_target_df, target_df]).dropna(axis=1).to_csv(new_node_base%(target_type))\n",
    "                # else:\n",
    "                #     target_df.dropna(axis=1).to_csv(new_node_base%(target_type))\n",
    "                edge_df.to_csv(new_edge_base%(source_type, relation, target_type), index=False)\n",
    "        processed.add(filename.replace(\"GLYGEN_RESIDUE\", \"GLYGEN.RESIDUE\"))\n",
    "                "
   ]
  },
  {
   "cell_type": "code",
   "execution_count": 109,
   "metadata": {},
   "outputs": [
    {
     "name": "stderr",
     "output_type": "stream",
     "text": [
      "100%|██████████| 87/87 [00:00<00:00, 1158426.82it/s]\n"
     ]
    },
    {
     "data": {
      "text/plain": [
       "87"
      ]
     },
     "execution_count": 109,
     "metadata": {},
     "output_type": "execute_result"
    }
   ],
   "source": [
    "count = 0\n",
    "for filename in tqdm(glob(\"out/dd/ids/*.txt\")):\n",
    "    count+=1\n",
    "count"
   ]
  },
  {
   "cell_type": "code",
   "execution_count": 114,
   "metadata": {},
   "outputs": [
    {
     "name": "stderr",
     "output_type": "stream",
     "text": [
      "100%|██████████| 86/86 [00:56<00:00,  1.51it/s]\n"
     ]
    }
   ],
   "source": [
    "id_pattern = \"(?P<directory>.+)/(?P<type>.+)\\.txt\"\n",
    "for filename in tqdm(glob(\"out/dd/ids/*.txt\")):\n",
    "    match = re.match(id_pattern, filename).groupdict()\n",
    "    node_type = match[\"type\"]\n",
    "    node_df = pd.read_csv(node_base%node_type, index_col=0, low_memory=False)\n",
    "    with open(filename) as o:\n",
    "        ids = list(set(o.read().strip().split(\"\\n\")))\n",
    "    node_df.loc[ids].dropna(axis=1, how=\"all\").to_csv(new_node_base%node_type)\n",
    "\n"
   ]
  },
  {
   "cell_type": "code",
   "execution_count": 3,
   "metadata": {},
   "outputs": [],
   "source": [
    "node_base = \"out/serialization/nodes/%s.nodes.csv\"\n",
    "new_node_base = \"out/filtered/nodes/%s.nodes.csv\"\n",
    "new_edge_base = \"out/filtered/edges/%s.%s.%s.edges.csv\"\n",
    "sab_relations = {}\n",
    "processed = set()"
   ]
  },
  {
   "cell_type": "code",
   "execution_count": 12,
   "metadata": {},
   "outputs": [],
   "source": [
    "def glygen(s):\n",
    "    return s.replace(\"GLYGEN.RESIDUE\", \"GLYGEN_RESIDUE\").replace(\"GLYCAN.MOTIF\", \"GLYCAN_MOTIF\").replace('GLYCOSYLTRANSFERASE.REACTION', 'GLYCOSYLTRANSFERASE_REACTION').replace(\"GLYGEN.SRC\", \"GLYGEN_SRC\").replace('GLYGEN.GLYCOSYLATION', 'GLYGEN_GLYCOSYLATION').replace(\"GLYGEN.GLYCOSEQUENCE\", \"GLYGEN_GLYCOSEQUENCE\")\n",
    "\n",
    "def glygen_reverse(s):\n",
    "    return s.replace(\"GLYGEN_RESIDUE\", \"GLYGEN.RESIDUE\").replace(\"GLYCAN_MOTIF\", \"GLYCAN.MOTIF\").replace('GLYCOSYLTRANSFERASE_REACTION', 'GLYCOSYLTRANSFERASE.REACTION').replace(\"GLYGEN_SRC\", \"GLYGEN.SRC\").replace('GLYGEN_GLYCOSYLATION', 'GLYGEN.GLYCOSYLATION').replace(\"GLYGEN_GLYCOSEQUENCE\", \"GLYGEN.GLYCOSEQUENCE\")\n"
   ]
  },
  {
   "cell_type": "code",
   "execution_count": 13,
   "metadata": {},
   "outputs": [
    {
     "name": "stderr",
     "output_type": "stream",
     "text": [
      "100%|██████████| 75964/75964 [01:14<00:00, 1018.49it/s] \n"
     ]
    }
   ],
   "source": [
    "for filename in tqdm(glob(\"out/serialization/edges/*.csv\")):\n",
    "    if filename not in processed:\n",
    "        match = re.match(edge_pattern, glygen(filename)).groupdict()\n",
    "        entity = match[\"entity\"]\n",
    "        source_type = match[\"source_type\"]\n",
    "        relation = match[\"relation\"].replace(\"_\", \" \")\n",
    "        target_type = match[\"target_type\"]\n",
    "        if \"inverse\" not in relation:\n",
    "            edge_df = pd.read_csv(filename, low_memory=False)\n",
    "            # filter for SAB\n",
    "            sabs = sabs_to_keep.intersection(edge_df.SAB.unique())\n",
    "            for sab in sabs:\n",
    "                if sab not in sab_relations:\n",
    "                    sab_relations[sab] = set()\n",
    "                sab_relations[sab].add(relation)\n",
    "            if len(sabs) > 0:\n",
    "                edge_df = edge_df[edge_df.SAB.isin(sabs)]\n",
    "                source_df = pd.read_csv(node_base%glygen_reverse(source_type), index_col=0, low_memory=False)\n",
    "                if not os.path.isfile(new_node_base%(source_type)):\n",
    "                    # new_source_df = pd.read_csv(new_node_base%(source_type), index_col=0, low_memory=False)\n",
    "                    # pd.concat([new_source_df, source_df]).dropna(axis=1).to_csv(new_node_base%(source_type))\n",
    "                    source_df.to_csv(new_node_base%(source_type))\n",
    "                # else:\n",
    "                #     source_df.dropna(axis=1).to_csv(new_node_base%(source_type))\n",
    "                \n",
    "                target_df = pd.read_csv(node_base%glygen_reverse(target_type), index_col=0, low_memory=False)\n",
    "                if not os.path.isfile(new_node_base%(target_type)):\n",
    "                    # new_target_df = pd.read_csv(new_node_base%(target_type), index_col=0, low_memory=False)\n",
    "                    # pd.concat([new_target_df, target_df]).dropna(axis=1).to_csv(new_node_base%(target_type))\n",
    "                    target_df.to_csv(new_node_base%(target_type))\n",
    "                # else:\n",
    "                #     target_df.dropna(axis=1).to_csv(new_node_base%(target_type))\n",
    "                edge_df.to_csv(new_edge_base%(source_type, relation, target_type), index=False)\n",
    "        processed.add(filename)\n",
    "                "
   ]
  },
  {
   "cell_type": "code",
   "execution_count": 11,
   "metadata": {},
   "outputs": [
    {
     "data": {
      "text/plain": [
       "'out/serialization/edges/GLYTOUCAN.has_glycosequence.GLYGEN.GLYCOSEQUENCE.edges.csv'"
      ]
     },
     "execution_count": 11,
     "metadata": {},
     "output_type": "execute_result"
    }
   ],
   "source": [
    "match = re.match(edge_pattern, glygen(filename)).groupdict()\n",
    "entity = match[\"entity\"]\n",
    "source_type = glygen_reverse(match[\"source_type\"]).replace(\"_\", \" \")\n",
    "relation = match[\"relation\"].replace(\"_\", \" \")\n",
    "target_type = glygen_reverse(match[\"target_type\"]).replace(\"_\", \" \")\n",
    "filename"
   ]
  },
  {
   "cell_type": "code",
   "execution_count": 14,
   "metadata": {},
   "outputs": [],
   "source": [
    "a = \"WURCS=2.0/4,37,36/[AUd21122h_5*NCC/3=O][uxxxxm][uxxxxh_2*NCC/3=O][uxxxxh]/1-1-2-2-2-2-2-2-3-3-3-3-3-3-3-3-3-3-3-3-3-3-4-4-4-4-4-4-4-4-4-4-4-4-4-4-4/a?|b?|c?|d?|e?|f?|g?|h?|i?|j?|k?|l?|m?|n?|o?|p?|q?|r?|s?|t?|u?|v?|w?|x?|y?|z?|A?|B?|C?|D?|E?|F?|G?|H?|I?|J?|K?}-{a?|b?|c?|d?|e?|f?|g?|h?|i?|j?|k?|l?|m?|n?|o?|p?|q?|r?|s?|t?|u?|v?|w?|x?|y?|z?|A?|B?|C?|D?|E?|F?|G?|H?|I?|J?|K?_a?|b?|c?|d?|e?|f?|g?|h?|i?|j?|k?|l?|m?|n?|o?|p?|q?|r?|s?|t?|u?|v?|w?|x?|y?|z?|A?|B?|C?|D?|E?|F?|G?|H?|I?|J?|K?}-{a?|b?|c?|d?|e?|f?|g?|h?|i?|j?|k?|l?|m?|n?|o?|p?|q?|r?|s?|t?|u?|v?|w?|x?|y?|z?|A?|B?|C?|D?|E?|F?|G?|H?|I?|J?|K?_a?|b?|c?|d?|e?|f?|g?|h?|i?|j?|k?|l?|m?|n?|o?|p?|q?|r?|s?|t?|u?|v?|w?|x?|y?|z?|A?|B?|C?|D?|E?|F?|G?|H?|I?|J?|K?}-{a?|b?|c?|d?|e?|f?|g?|h?|i?|j?|k?|l?|m?|n?|o?|p?|q?|r?|s?|t?|u?|v?|w?|x?|y?|z?|A?|B?|C?|D?|E?|F?|G?|H?|I?|J?|K?_a?|b?|c?|d?|e?|f?|g?|h?|i?|j?|k?|l?|m?|n?|o?|p?|q?|r?|s?|t?|u?|v?|w?|x?|y?|z?|A?|B?|C?|D?|E?|F?|G?|H?|I?|J?|K?}-{a?|b?|c?|d?|e?|f?|g?|h?|i?|j?|k?|l?|m?|n?|o?|p?|q?|r?|s?|t?|u?|v?|w?|x?|y?|z?|A?|B?|C?|D?|E?|F?|G?|H?|I?|J?|K?_a?|b?|c?|d?|e?|f?|g?|h?|i?|j?|k?|l?|m?|n?|o?|p?|q?|r?|s?|t?|u?|v?|w?|x?|y?|z?|A?|B?|C?|D?|E?|F?|G?|H?|I?|J?|K?}-{a?|b?|c?|d?|e?|f?|g?|h?|i?|j?|k?|l?|m?|n?|o?|p?|q?|r?|s?|t?|u?|v?|w?|x?|y?|z?|A?|B?|C?|D?|E?|F?|G?|H?|I?|J?|K?_a?|b?|c?|d?|e?|f?|g?|h?|i?|j?|k?|l?|m?|n?|o?|p?|q?|r?|s?|t?|u?|v?|w?|x?|y?|z?|A?|B?|C?|D?|E?|F?|G?|H?|I?|J?|K?}-{a?|b?|c?|d?|e?|f?|g?|h?|i?|j?|k?|l?|m?|n?|o?|p?|q?|r?|s?|t?|u?|v?|w?|x?|y?|z?|A?|B?|C?|D?|E?|F?|G?|H?|I?|J?|K?_a?|b?|c?|d?|e?|f?|g?|h?|i?|j?|k?|l?|m?|n?|o?|p?|q?|r?|s?|t?|u?|v?|w?|x?|y?|z?|A?|B?|C?|D?|E?|F?|G?|H?|I?|J?|K?}-{a?|b?|c?|d?|e?|f?|g?|h?|i?|j?|k?|l?|m?|n?|o?|p?|q?|r?|s?|t?|u?|v?|w?|x?|y?|z?|A?|B?|C?|D?|E?|F?|G?|H?|I?|J?|K?_a?|b?|c?|d?|e?|f?|g?|h?|i?|j?|k?|l?|m?|n?|o?|p?|q?|r?|s?|t?|u?|v?|w?|x?|y?|z?|A?|B?|C?|D?|E?|F?|G?|H?|I?|J?|K?}-{a?|b?|c?|d?|e?|f?|g?|h?|i?|j?|k?|l?|m?|n?|o?|p?|q?|r?|s?|t?|u?|v?|w?|x?|y?|z?|A?|B?|C?|D?|E?|F?|G?|H?|I?|J?|K?_a?|b?|c?|d?|e?|f?|g?|h?|i?|j?|k?|l?|m?|n?|o?|p?|q?|r?|s?|t?|u?|v?|w?|x?|y?|z?|A?|B?|C?|D?|E?|F?|G?|H?|I?|J?|K?}-{a?|b?|c?|d?|e?|f?|g?|h?|i?|j?|k?|l?|m?|n?|o?|p?|q?|r?|s?|t?|u?|v?|w?|x?|y?|z?|A?|B?|C?|D?|E?|F?|G?|H?|I?|J?|K?_a?|b?|c?|d?|e?|f?|g?|h?|i?|j?|k?|l?|m?|n?|o?|p?|q?|r?|s?|t?|u?|v?|w?|x?|y?|z?|A?|B?|C?|D?|E?|F?|G?|H?|I?|J?|K?}-{a?|b?|c?|d?|e?|f?|g?|h?|i?|j?|k?|l?|m?|n?|o?|p?|q?|r?|s?|t?|u?|v?|w?|x?|y?|z?|A?|B?|C?|D?|E?|F?|G?|H?|I?|J?|K?_a?|b?|c?|d?|e?|f?|g?|h?|i?|j?|k?|l?|m?|n?|o?|p?|q?|r?|s?|t?|u?|v?|w?|x?|y?|z?|A?|B?|C?|D?|E?|F?|G?|H?|I?|J?|K?}-{a?|b?|c?|d?|e?|f?|g?|h?|i?|j?|k?|l?|m?|n?|o?|p?|q?|r?|s?|t?|u?|v?|w?|x?|y?|z?|A?|B?|C?|D?|E?|F?|G?|H?|I?|J?|K?_a?|b?|c?|d?|e?|f?|g?|h?|i?|j?|k?|l?|m?|n?|o?|p?|q?|r?|s?|t?|u?|v?|w?|x?|y?|z?|A?|B?|C?|D?|E?|F?|G?|H?|I?|J?|K?}-{a?|b?|c?|d?|e?|f?|g?|h?|i?|j?|k?|l?|m?|n?|o?|p?|q?|r?|s?|t?|u?|v?|w?|x?|y?|z?|A?|B?|C?|D?|E?|F?|G?|H?|I?|J?|K?_a?|b?|c?|d?|e?|f?|g?|h?|i?|j?|k?|l?|m?|n?|o?|p?|q?|r?|s?|t?|u?|v?|w?|x?|y?|z?|A?|B?|C?|D?|E?|F?|G?|H?|I?|J?|K?}-{a?|b?|c?|d?|e?|f?|g?|h?|i?|j?|k?|l?|m?|n?|o?|p?|q?|r?|s?|t?|u?|v?|w?|x?|y?|z?|A?|B?|C?|D?|E?|F?|G?|H?|I?|J?|K?_a?|b?|c?|d?|e?|f?|g?|h?|i?|j?|k?|l?|m?|n?|o?|p?|q?|r?|s?|t?|u?|v?|w?|x?|y?|z?|A?|B?|C?|D?|E?|F?|G?|H?|I?|J?|K?}-{a?|b?|c?|d?|e?|f?|g?|h?|i?|j?|k?|l?|m?|n?|o?|p?|q?|r?|s?|t?|u?|v?|w?|x?|y?|z?|A?|B?|C?|D?|E?|F?|G?|H?|I?|J?|K?_a?|b?|c?|d?|e?|f?|g?|h?|i?|j?|k?|l?|m?|n?|o?|p?|q?|r?|s?|t?|u?|v?|w?|x?|y?|z?|A?|B?|C?|D?|E?|F?|G?|H?|I?|J?|K?}-{a?|b?|c?|d?|e?|f?|g?|h?|i?|j?|k?|l?|m?|n?|o?|p?|q?|r?|s?|t?|u?|v?|w?|x?|y?|z?|A?|B?|C?|D?|E?|F?|G?|H?|I?|J?|K?_a?|b?|c?|d?|e?|f?|g?|h?|i?|j?|k?|l?|m?|n?|o?|p?|q?|r?|s?|t?|u?|v?|w?|x?|y?|z?|A?|B?|C?|D?|E?|F?|G?|H?|I?|J?|K?}-{a?|b?|c?|d?|e?|f?|g?|h?|i?|j?|k?|l?|m?|n?|o?|p?|q?|r?|s?|t?|u?|v?|w?|x?|y?|z?|A?|B?|C?|D?|E?|F?|G?|H?|I?|J?|K?_a?|b?|c?|d?|e?|f?|g?|h?|i?|j?|k?|l?|m?|n?|o?|p?|q?|r?|s?|t?|u?|v?|w?|x?|y?|z?|A?|B?|C?|D?|E?|F?|G?|H?|I?|J?|K?}-{a?|b?|c?|d?|e?|f?|g?|h?|i?|j?|k?|l?|m?|n?|o?|p?|q?|r?|s?|t?|u?|v?|w?|x?|y?|z?|A?|B?|C?|D?|E?|F?|G?|H?|I?|J?|K?_a?|b?|c?|d?|e?|f?|g?|h?|i?|j?|k?|l?|m?|n?|o?|p?|q?|r?|s?|t?|u?|v?|w?|x?|y?|z?|A?|B?|C?|D?|E?|F?|G?|H?|I?|J?|K?}-{a?|b?|c?|d?|e?|f?|g?|h?|i?|j?|k?|l?|m?|n?|o?|p?|q?|r?|s?|t?|u?|v?|w?|x?|y?|z?|A?|B?|C?|D?|E?|F?|G?|H?|I?|J?|K?_a?|b?|c?|d?|e?|f?|g?|h?|i?|j?|k?|l?|m?|n?|o?|p?|q?|r?|s?|t?|u?|v?|w?|x?|y?|z?|A?|B?|C?|D?|E?|F?|G?|H?|I?|J?|K?}-{a?|b?|c?|d?|e?|f?|g?|h?|i?|j?|k?|l?|m?|n?|o?|p?|q?|r?|s?|t?|u?|v?|w?|x?|y?|z?|A?|B?|C?|D?|E?|F?|G?|H?|I?|J?|K?_a?|b?|c?|d?|e?|f?|g?|h?|i?|j?|k?|l?|m?|n?|o?|p?|q?|r?|s?|t?|u?|v?|w?|x?|y?|z?|A?|B?|C?|D?|E?|F?|G?|H?|I?|J?|K?}-{a?|b?|c?|d?|e?|f?|g?|h?|i?|j?|k?|l?|m?|n?|o?|p?|q?|r?|s?|t?|u?|v?|w?|x?|y?|z?|A?|B?|C?|D?|E?|F?|G?|H?|I?|J?|K?_a?|b?|c?|d?|e?|f?|g?|h?|i?|j?|k?|l?|m?|n?|o?|p?|q?|r?|s?|t?|u?|v?|w?|x?|y?|z?|A?|B?|C?|D?|E?|F?|G?|H?|I?|J?|K?}-{a?|b?|c?|d?|e?|f?|g?|h?|i?|j?|k?|l?|m?|n?|o?|p?|q?|r?|s?|t?|u?|v?|w?|x?|y?|z?|A?|B?|C?|D?|E?|F?|G?|H?|I?|J?|K?_a?|b?|c?|d?|e?|f?|g?|h?|i?|j?|k?|l?|m?|n?|o?|p?|q?|r?|s?|t?|u?|v?|w?|x?|y?|z?|A?|B?|C?|D?|E?|F?|G?|H?|I?|J?|K?}-{a?|b?|c?|d?|e?|f?|g?|h?|i?|j?|k?|l?|m?|n?|o?|p?|q?|r?|s?|t?|u?|v?|w?|x?|y?|z?|A?|B?|C?|D?|E?|F?|G?|H?|I?|J?|K?_a?|b?|c?|d?|e?|f?|g?|h?|i?|j?|k?|l?|m?|n?|o?|p?|q?|r?|s?|t?|u?|v?|w?|x?|y?|z?|A?|B?|C?|D?|E?|F?|G?|H?|I?|J?|K?}-{a?|b?|c?|d?|e?|f?|g?|h?|i?|j?|k?|l?|m?|n?|o?|p?|q?|r?|s?|t?|u?|v?|w?|x?|y?|z?|A?|B?|C?|D?|E?|F?|G?|H?|I?|J?|K?_a?|b?|c?|d?|e?|f?|g?|h?|i?|j?|k?|l?|m?|n?|o?|p?|q?|r?|s?|t?|u?|v?|w?|x?|y?|z?|A?|B?|C?|D?|E?|F?|G?|H?|I?|J?|K?}-{a?|b?|c?|d?|e?|f?|g?|h?|i?|j?|k?|l?|m?|n?|o?|p?|q?|r?|s?|t?|u?|v?|w?|x?|y?|z?|A?|B?|C?|D?|E?|F?|G?|H?|I?|J?|K?_a?|b?|c?|d?|e?|f?|g?|h?|i?|j?|k?|l?|m?|n?|o?|p?|q?|r?|s?|t?|u?|v?|w?|x?|y?|z?|A?|B?|C?|D?|E?|F?|G?|H?|I?|J?|K?}-{a?|b?|c?|d?|e?|f?|g?|h?|i?|j?|k?|l?|m?|n?|o?|p?|q?|r?|s?|t?|u?|v?|w?|x?|y?|z?|A?|B?|C?|D?|E?|F?|G?|H?|I?|J?|K?_a?|b?|c?|d?|e?|f?|g?|h?|i?|j?|k?|l?|m?|n?|o?|p?|q?|r?|s?|t?|u?|v?|w?|x?|y?|z?|A?|B?|C?|D?|E?|F?|G?|H?|I?|J?|K?}-{a?|b?|c?|d?|e?|f?|g?|h?|i?|j?|k?|l?|m?|n?|o?|p?|q?|r?|s?|t?|u?|v?|w?|x?|y?|z?|A?|B?|C?|D?|E?|F?|G?|H?|I?|J?|K?_a?|b?|c?|d?|e?|f?|g?|h?|i?|j?|k?|l?|m?|n?|o?|p?|q?|r?|s?|t?|u?|v?|w?|x?|y?|z?|A?|B?|C?|D?|E?|F?|G?|H?|I?|J?|K?}-{a?|b?|c?|d?|e?|f?|g?|h?|i?|j?|k?|l?|m?|n?|o?|p?|q?|r?|s?|t?|u?|v?|w?|x?|y?|z?|A?|B?|C?|D?|E?|F?|G?|H?|I?|J?|K?_a?|b?|c?|d?|e?|f?|g?|h?|i?|j?|k?|l?|m?|n?|o?|p?|q?|r?|s?|t?|u?|v?|w?|x?|y?|z?|A?|B?|C?|D?|E?|F?|G?|H?|I?|J?|K?}-{a?|b?|c?|d?|e?|f?|g?|h?|i?|j?|k?|l?|m?|n?|o?|p?|q?|r?|s?|t?|u?|v?|w?|x?|y?|z?|A?|B?|C?|D?|E?|F?|G?|H?|I?|J?|K?_a?|b?|c?|d?|e?|f?|g?|h?|i?|j?|k?|l?|m?|n?|o?|p?|q?|r?|s?|t?|u?|v?|w?|x?|y?|z?|A?|B?|C?|D?|E?|F?|G?|H?|I?|J?|K?}-{a?|b?|c?|d?|e?|f?|g?|h?|i?|j?|k?|l?|m?|n?|o?|p?|q?|r?|s?|t?|u?|v?|w?|x?|y?|z?|A?|B?|C?|D?|E?|F?|G?|H?|I?|J?|K?_a?|b?|c?|d?|e?|f?|g?|h?|i?|j?|k?|l?|m?|n?|o?|p?|q?|r?|s?|t?|u?|v?|w?|x?|y?|z?|A?|B?|C?|D?|E?|F?|G?|H?|I?|J?|K?}-{a?|b?|c?|d?|e?|f?|g?|h?|i?|j?|k?|l?|m?|n?|o?|p?|q?|r?|s?|t?|u?|v?|w?|x?|y?|z?|A?|B?|C?|D?|E?|F?|G?|H?|I?|J?|K?_a?|b?|c?|d?|e?|f?|g?|h?|i?|j?|k?|l?|m?|n?|o?|p?|q?|r?|s?|t?|u?|v?|w?|x?|y?|z?|A?|B?|C?|D?|E?|F?|G?|H?|I?|J?|K?}-{a?|b?|c?|d?|e?|f?|g?|h?|i?|j?|k?|l?|m?|n?|o?|p?|q?|r?|s?|t?|u?|v?|w?|x?|y?|z?|A?|B?|C?|D?|E?|F?|G?|H?|I?|J?|K?_a?|b?|c?|d?|e?|f?|g?|h?|i?|j?|k?|l?|m?|n?|o?|p?|q?|r?|s?|t?|u?|v?|w?|x?|y?|z?|A?|B?|C?|D?|E?|F?|G?|H?|I?|J?|K?}-{a?|b?|c?|d?|e?|f?|g?|h?|i?|j?|k?|l?|m?|n?|o?|p?|q?|r?|s?|t?|u?|v?|w?|x?|y?|z?|A?|B?|C?|D?|E?|F?|G?|H?|I?|J?|K?_a?|b?|c?|d?|e?|f?|g?|h?|i?|j?|k?|l?|m?|n?|o?|p?|q?|r?|s?|t?|u?|v?|w?|x?|y?|z?|A?|B?|C?|D?|E?|F?|G?|H?|I?|J?|K?}-{a?|b?|c?|d?|e?|f?|g?|h?|i?|j?|k?|l?|m?|n?|o?|p?|q?|r?|s?|t?|u?|v?|w?|x?|y?|z?|A?|B?|C?|D?|E?|F?|G?|H?|I?|J?|K?_a?|b?|c?|d?|e?|f?|g?|h?|i?|j?|k?|l?|m?|n?|o?|p?|q?|r?|s?|t?|u?|v?|w?|x?|y?|z?|A?|B?|C?|D?|E?|F?|G?|H?|I?|J?|K?}-{a?|b?|c?|d?|e?|f?|g?|h?|i?|j?|k?|l?|m?|n?|o?|p?|q?|r?|s?|t?|u?|v?|w?|x?|y?|z?|A?|B?|C?|D?|E?|F?|G?|H?|I?|J?|K?_a?|b?|c?|d?|e?|f?|g?|h?|i?|j?|k?|l?|m?|n?|o?|p?|q?|r?|s?|t?|u?|v?|w?|x?|y?|z?|A?|B?|C?|D?|E?|F?|G?|H?|I?|J?|K?}-{a?|b?|c?|d?|e?|f?|g?|h?|i?|j?|k?|l?|m?|n?|o?|p?|q?|r?|s?|t?|u?|v?|w?|x?|y?|z?|A?|B?|C?|D?|E?|F?|G?|H?|I?|J?|K?_a?|b?|c?|d?|e?|f?|g?|h?|i?|j?|k?|l?|m?|n?|o?|p?|q?|r?|s?|t?|u?|v?|w?|x?|y?|z?|A?|B?|C?|D?|E?|F?|G?|H?|I?|J?|K?}-{a?|b?|c?|d?|e?|f?|g?|h?|i?|j?|k?|l?|m?|n?|o?|p?|q?|r?|s?|t?|u?|v?|w?|x?|y?|z?|A?|B?|C?|D?|E?|F?|G?|H?|I?|J?|K?\""
   ]
  },
  {
   "cell_type": "code",
   "execution_count": 15,
   "metadata": {},
   "outputs": [
    {
     "data": {
      "text/plain": [
       "8211"
      ]
     },
     "execution_count": 15,
     "metadata": {},
     "output_type": "execute_result"
    }
   ],
   "source": [
    "len(a)"
   ]
  },
  {
   "cell_type": "code",
   "execution_count": 18,
   "metadata": {},
   "outputs": [],
   "source": [
    "source_df = pd.read_csv(node_base%glygen_reverse(\"Gene or Genome\"), index_col=0, low_memory=False)\n"
   ]
  },
  {
   "cell_type": "code",
   "execution_count": 19,
   "metadata": {},
   "outputs": [
    {
     "data": {
      "text/html": [
       "<div>\n",
       "<style scoped>\n",
       "    .dataframe tbody tr th:only-of-type {\n",
       "        vertical-align: middle;\n",
       "    }\n",
       "\n",
       "    .dataframe tbody tr th {\n",
       "        vertical-align: top;\n",
       "    }\n",
       "\n",
       "    .dataframe thead th {\n",
       "        text-align: right;\n",
       "    }\n",
       "</style>\n",
       "<table border=\"1\" class=\"dataframe\">\n",
       "  <thead>\n",
       "    <tr style=\"text-align: right;\">\n",
       "      <th></th>\n",
       "      <th>label</th>\n",
       "      <th>type</th>\n",
       "      <th>type_combined</th>\n",
       "      <th>NCI</th>\n",
       "      <th>LCH_NW</th>\n",
       "      <th>MSH</th>\n",
       "      <th>CSP</th>\n",
       "      <th>SNOMEDCT_US</th>\n",
       "      <th>HGNC</th>\n",
       "      <th>MTH</th>\n",
       "      <th>...</th>\n",
       "      <th>HPO</th>\n",
       "      <th>EFO</th>\n",
       "      <th>CHEBI</th>\n",
       "      <th>ENSEMBL</th>\n",
       "      <th>ENSEMBL lowerbound</th>\n",
       "      <th>ENSEMBL upperbound</th>\n",
       "      <th>ENTREZ</th>\n",
       "      <th>ENTREZ lowerbound</th>\n",
       "      <th>ENTREZ upperbound</th>\n",
       "      <th>PUBCHEM</th>\n",
       "    </tr>\n",
       "    <tr>\n",
       "      <th>id</th>\n",
       "      <th></th>\n",
       "      <th></th>\n",
       "      <th></th>\n",
       "      <th></th>\n",
       "      <th></th>\n",
       "      <th></th>\n",
       "      <th></th>\n",
       "      <th></th>\n",
       "      <th></th>\n",
       "      <th></th>\n",
       "      <th></th>\n",
       "      <th></th>\n",
       "      <th></th>\n",
       "      <th></th>\n",
       "      <th></th>\n",
       "      <th></th>\n",
       "      <th></th>\n",
       "      <th></th>\n",
       "      <th></th>\n",
       "      <th></th>\n",
       "      <th></th>\n",
       "    </tr>\n",
       "  </thead>\n",
       "  <tbody>\n",
       "    <tr>\n",
       "      <th>C0079559</th>\n",
       "      <td>HTLV-I tax Genes</td>\n",
       "      <td>Gene or Genome</td>\n",
       "      <td>Gene or Genome</td>\n",
       "      <td>NCI C17366</td>\n",
       "      <td>NaN</td>\n",
       "      <td>MSH D016355</td>\n",
       "      <td>NaN</td>\n",
       "      <td>NaN</td>\n",
       "      <td>NaN</td>\n",
       "      <td>NaN</td>\n",
       "      <td>...</td>\n",
       "      <td>NaN</td>\n",
       "      <td>NaN</td>\n",
       "      <td>NaN</td>\n",
       "      <td>NaN</td>\n",
       "      <td>NaN</td>\n",
       "      <td>NaN</td>\n",
       "      <td>NaN</td>\n",
       "      <td>NaN</td>\n",
       "      <td>NaN</td>\n",
       "      <td>NaN</td>\n",
       "    </tr>\n",
       "    <tr>\n",
       "      <th>C0314607</th>\n",
       "      <td>Human structural gene</td>\n",
       "      <td>Gene or Genome</td>\n",
       "      <td>Gene or Genome</td>\n",
       "      <td>NaN</td>\n",
       "      <td>NaN</td>\n",
       "      <td>NaN</td>\n",
       "      <td>NaN</td>\n",
       "      <td>SNOMEDCT_US 49046007</td>\n",
       "      <td>NaN</td>\n",
       "      <td>NaN</td>\n",
       "      <td>...</td>\n",
       "      <td>NaN</td>\n",
       "      <td>NaN</td>\n",
       "      <td>NaN</td>\n",
       "      <td>NaN</td>\n",
       "      <td>NaN</td>\n",
       "      <td>NaN</td>\n",
       "      <td>NaN</td>\n",
       "      <td>NaN</td>\n",
       "      <td>NaN</td>\n",
       "      <td>NaN</td>\n",
       "    </tr>\n",
       "    <tr>\n",
       "      <th>C0440471</th>\n",
       "      <td>Genetic Materials</td>\n",
       "      <td>Gene or Genome</td>\n",
       "      <td>Gene or Genome</td>\n",
       "      <td>NaN</td>\n",
       "      <td>NaN</td>\n",
       "      <td>MSH D005796</td>\n",
       "      <td>NaN</td>\n",
       "      <td>SNOMEDCT_US 256926007</td>\n",
       "      <td>NaN</td>\n",
       "      <td>NaN</td>\n",
       "      <td>...</td>\n",
       "      <td>NaN</td>\n",
       "      <td>NaN</td>\n",
       "      <td>NaN</td>\n",
       "      <td>NaN</td>\n",
       "      <td>NaN</td>\n",
       "      <td>NaN</td>\n",
       "      <td>NaN</td>\n",
       "      <td>NaN</td>\n",
       "      <td>NaN</td>\n",
       "      <td>NaN</td>\n",
       "    </tr>\n",
       "    <tr>\n",
       "      <th>C0440482</th>\n",
       "      <td>A*1102</td>\n",
       "      <td>Gene or Genome</td>\n",
       "      <td>Gene or Genome</td>\n",
       "      <td>NaN</td>\n",
       "      <td>NaN</td>\n",
       "      <td>NaN</td>\n",
       "      <td>NaN</td>\n",
       "      <td>SNOMEDCT_US 256943005</td>\n",
       "      <td>NaN</td>\n",
       "      <td>NaN</td>\n",
       "      <td>...</td>\n",
       "      <td>NaN</td>\n",
       "      <td>NaN</td>\n",
       "      <td>NaN</td>\n",
       "      <td>NaN</td>\n",
       "      <td>NaN</td>\n",
       "      <td>NaN</td>\n",
       "      <td>NaN</td>\n",
       "      <td>NaN</td>\n",
       "      <td>NaN</td>\n",
       "      <td>NaN</td>\n",
       "    </tr>\n",
       "    <tr>\n",
       "      <th>C0440498</th>\n",
       "      <td>A*6602</td>\n",
       "      <td>Gene or Genome</td>\n",
       "      <td>Gene or Genome</td>\n",
       "      <td>NaN</td>\n",
       "      <td>NaN</td>\n",
       "      <td>NaN</td>\n",
       "      <td>NaN</td>\n",
       "      <td>SNOMEDCT_US 256962008</td>\n",
       "      <td>NaN</td>\n",
       "      <td>NaN</td>\n",
       "      <td>...</td>\n",
       "      <td>NaN</td>\n",
       "      <td>NaN</td>\n",
       "      <td>NaN</td>\n",
       "      <td>NaN</td>\n",
       "      <td>NaN</td>\n",
       "      <td>NaN</td>\n",
       "      <td>NaN</td>\n",
       "      <td>NaN</td>\n",
       "      <td>NaN</td>\n",
       "      <td>NaN</td>\n",
       "    </tr>\n",
       "  </tbody>\n",
       "</table>\n",
       "<p>5 rows × 34 columns</p>\n",
       "</div>"
      ],
      "text/plain": [
       "                          label            type   type_combined         NCI  \\\n",
       "id                                                                            \n",
       "C0079559       HTLV-I tax Genes  Gene or Genome  Gene or Genome  NCI C17366   \n",
       "C0314607  Human structural gene  Gene or Genome  Gene or Genome         NaN   \n",
       "C0440471      Genetic Materials  Gene or Genome  Gene or Genome         NaN   \n",
       "C0440482                 A*1102  Gene or Genome  Gene or Genome         NaN   \n",
       "C0440498                 A*6602  Gene or Genome  Gene or Genome         NaN   \n",
       "\n",
       "         LCH_NW          MSH  CSP            SNOMEDCT_US HGNC  MTH  ...  HPO  \\\n",
       "id                                                                  ...        \n",
       "C0079559    NaN  MSH D016355  NaN                    NaN  NaN  NaN  ...  NaN   \n",
       "C0314607    NaN          NaN  NaN   SNOMEDCT_US 49046007  NaN  NaN  ...  NaN   \n",
       "C0440471    NaN  MSH D005796  NaN  SNOMEDCT_US 256926007  NaN  NaN  ...  NaN   \n",
       "C0440482    NaN          NaN  NaN  SNOMEDCT_US 256943005  NaN  NaN  ...  NaN   \n",
       "C0440498    NaN          NaN  NaN  SNOMEDCT_US 256962008  NaN  NaN  ...  NaN   \n",
       "\n",
       "          EFO CHEBI ENSEMBL ENSEMBL lowerbound ENSEMBL upperbound ENTREZ  \\\n",
       "id                                                                         \n",
       "C0079559  NaN   NaN     NaN                NaN                NaN    NaN   \n",
       "C0314607  NaN   NaN     NaN                NaN                NaN    NaN   \n",
       "C0440471  NaN   NaN     NaN                NaN                NaN    NaN   \n",
       "C0440482  NaN   NaN     NaN                NaN                NaN    NaN   \n",
       "C0440498  NaN   NaN     NaN                NaN                NaN    NaN   \n",
       "\n",
       "         ENTREZ lowerbound ENTREZ upperbound PUBCHEM  \n",
       "id                                                    \n",
       "C0079559               NaN               NaN     NaN  \n",
       "C0314607               NaN               NaN     NaN  \n",
       "C0440471               NaN               NaN     NaN  \n",
       "C0440482               NaN               NaN     NaN  \n",
       "C0440498               NaN               NaN     NaN  \n",
       "\n",
       "[5 rows x 34 columns]"
      ]
     },
     "execution_count": 19,
     "metadata": {},
     "output_type": "execute_result"
    }
   ],
   "source": [
    "source_df.head()"
   ]
  },
  {
   "cell_type": "code",
   "execution_count": 29,
   "metadata": {},
   "outputs": [
    {
     "name": "stdout",
     "output_type": "stream",
     "text": [
      "out/filtered/edges/Gene or Genome.coexpression Thyroid.Gene or Genome.edges.csv (31591, 7)\n",
      "out/filtered/edges/HGNC.coexpression Thyroid.Gene or Genome.edges.csv (2, 7)\n"
     ]
    }
   ],
   "source": [
    "for i in glob('out/filtered/edges/*Thyroid*'):\n",
    "    print(i, pd.read_csv(i).shape)"
   ]
  },
  {
   "cell_type": "code",
   "execution_count": 11,
   "metadata": {},
   "outputs": [],
   "source": [
    "rows = []\n",
    "with open(\"neo4j/import/CUI-CUIs.csv\") as o:\n",
    "    csv_reader = csv.reader(o)\n",
    "    headers = None\n",
    "    for row in csv_reader:\n",
    "        if not headers:\n",
    "            headers = row\n",
    "        else:\n",
    "            if row[3] == \"LINCS\":\n",
    "                rows.append(row + [\"\"])\n",
    "                if len(rows) == 5:\n",
    "                    break"
   ]
  },
  {
   "cell_type": "code",
   "execution_count": 13,
   "metadata": {},
   "outputs": [
    {
     "data": {
      "text/plain": [
       "[':START_ID', ':END_ID', ':TYPE', 'SAB', 'evidence_class:string', '']"
      ]
     },
     "execution_count": 13,
     "metadata": {},
     "output_type": "execute_result"
    }
   ],
   "source": [
    "headers + [\"\"]"
   ]
  },
  {
   "cell_type": "code",
   "execution_count": 15,
   "metadata": {},
   "outputs": [
    {
     "data": {
      "text/html": [
       "<div>\n",
       "<style scoped>\n",
       "    .dataframe tbody tr th:only-of-type {\n",
       "        vertical-align: middle;\n",
       "    }\n",
       "\n",
       "    .dataframe tbody tr th {\n",
       "        vertical-align: top;\n",
       "    }\n",
       "\n",
       "    .dataframe thead th {\n",
       "        text-align: right;\n",
       "    }\n",
       "</style>\n",
       "<table border=\"1\" class=\"dataframe\">\n",
       "  <thead>\n",
       "    <tr style=\"text-align: right;\">\n",
       "      <th></th>\n",
       "      <th>:START_ID</th>\n",
       "      <th>:END_ID</th>\n",
       "      <th>:TYPE</th>\n",
       "      <th>SAB</th>\n",
       "      <th>evidence_class:string</th>\n",
       "      <th></th>\n",
       "    </tr>\n",
       "  </thead>\n",
       "  <tbody>\n",
       "    <tr>\n",
       "      <th>0</th>\n",
       "      <td>C1412480</td>\n",
       "      <td>UFVCQ0hFTSA5ODMwMTkx</td>\n",
       "      <td>positively_regulated_by</td>\n",
       "      <td>LINCS</td>\n",
       "      <td>0.0037570596</td>\n",
       "      <td></td>\n",
       "    </tr>\n",
       "    <tr>\n",
       "      <th>1</th>\n",
       "      <td>C1412234</td>\n",
       "      <td>UFVCQ0hFTSAzMzQwMDc=</td>\n",
       "      <td>negatively_regulated_by</td>\n",
       "      <td>LINCS</td>\n",
       "      <td>-0.010075697</td>\n",
       "      <td></td>\n",
       "    </tr>\n",
       "    <tr>\n",
       "      <th>2</th>\n",
       "      <td>C1416933</td>\n",
       "      <td>UFVCQ0hFTSA2NDgxMjM2</td>\n",
       "      <td>negatively_regulated_by</td>\n",
       "      <td>LINCS</td>\n",
       "      <td>-0.0066971174</td>\n",
       "      <td></td>\n",
       "    </tr>\n",
       "    <tr>\n",
       "      <th>3</th>\n",
       "      <td>C1416717</td>\n",
       "      <td>UFVCQ0hFTSA3NzE5MTA=</td>\n",
       "      <td>negatively_regulated_by</td>\n",
       "      <td>LINCS</td>\n",
       "      <td>-0.02080909</td>\n",
       "      <td></td>\n",
       "    </tr>\n",
       "    <tr>\n",
       "      <th>4</th>\n",
       "      <td>C1423844</td>\n",
       "      <td>UFVCQ0hFTSAxMjI3MTg=</td>\n",
       "      <td>positively_regulated_by</td>\n",
       "      <td>LINCS</td>\n",
       "      <td>0.015338226</td>\n",
       "      <td></td>\n",
       "    </tr>\n",
       "  </tbody>\n",
       "</table>\n",
       "</div>"
      ],
      "text/plain": [
       "  :START_ID               :END_ID                    :TYPE    SAB  \\\n",
       "0  C1412480  UFVCQ0hFTSA5ODMwMTkx  positively_regulated_by  LINCS   \n",
       "1  C1412234  UFVCQ0hFTSAzMzQwMDc=  negatively_regulated_by  LINCS   \n",
       "2  C1416933  UFVCQ0hFTSA2NDgxMjM2  negatively_regulated_by  LINCS   \n",
       "3  C1416717  UFVCQ0hFTSA3NzE5MTA=  negatively_regulated_by  LINCS   \n",
       "4  C1423844  UFVCQ0hFTSAxMjI3MTg=  positively_regulated_by  LINCS   \n",
       "\n",
       "  evidence_class:string    \n",
       "0          0.0037570596    \n",
       "1          -0.010075697    \n",
       "2         -0.0066971174    \n",
       "3           -0.02080909    \n",
       "4           0.015338226    "
      ]
     },
     "execution_count": 15,
     "metadata": {},
     "output_type": "execute_result"
    }
   ],
   "source": [
    "pd.DataFrame(rows, columns=headers+ [\"\"])"
   ]
  },
  {
   "cell_type": "code",
   "execution_count": 7,
   "metadata": {},
   "outputs": [
    {
     "data": {
      "text/plain": [
       "[['C0027934', 'C0000097', 'RB', 'MTH'],\n",
       " ['C0039795', 'C0000232', 'AQ', 'MSH'],\n",
       " ['C1522005', 'C0000246', 'AQ', 'MSH'],\n",
       " ['C1168993', 'C0000294', 'has_ingredient', 'MMSL'],\n",
       " ['C4763809', 'C0000294', 'subset_includes_concept', 'NCI']]"
      ]
     },
     "execution_count": 7,
     "metadata": {},
     "output_type": "execute_result"
    }
   ],
   "source": [
    "rows"
   ]
  },
  {
   "cell_type": "code",
   "execution_count": 25,
   "metadata": {},
   "outputs": [
    {
     "name": "stderr",
     "output_type": "stream",
     "text": [
      "/var/folders/wq/7bkxhy8j7ql194c1fbby4gy40000gn/T/ipykernel_3750/2562025370.py:1: DtypeWarning: Columns (4,5) have mixed types. Specify dtype option on import or set low_memory=False.\n",
      "  pd.read_csv(\"out/filtered/nodes/Drug.nodes.csv\", index_col=0).tail()\n"
     ]
    },
    {
     "data": {
      "text/html": [
       "<div>\n",
       "<style scoped>\n",
       "    .dataframe tbody tr th:only-of-type {\n",
       "        vertical-align: middle;\n",
       "    }\n",
       "\n",
       "    .dataframe tbody tr th {\n",
       "        vertical-align: top;\n",
       "    }\n",
       "\n",
       "    .dataframe thead th {\n",
       "        text-align: right;\n",
       "    }\n",
       "</style>\n",
       "<table border=\"1\" class=\"dataframe\">\n",
       "  <thead>\n",
       "    <tr style=\"text-align: right;\">\n",
       "      <th></th>\n",
       "      <th>label</th>\n",
       "      <th>type</th>\n",
       "      <th>type_combined</th>\n",
       "      <th>CHEBI</th>\n",
       "      <th>PUBCHEM</th>\n",
       "    </tr>\n",
       "    <tr>\n",
       "      <th>id</th>\n",
       "      <th></th>\n",
       "      <th></th>\n",
       "      <th></th>\n",
       "      <th></th>\n",
       "      <th></th>\n",
       "    </tr>\n",
       "  </thead>\n",
       "  <tbody>\n",
       "    <tr>\n",
       "      <th>UFVCQ0hFTSA3MDIwMjE1</th>\n",
       "      <td>Val-Val-Val</td>\n",
       "      <td>Drug</td>\n",
       "      <td>Drug</td>\n",
       "      <td>NaN</td>\n",
       "      <td>PUBCHEM 7020215</td>\n",
       "    </tr>\n",
       "    <tr>\n",
       "      <th>UFVCQ0hFTSAxODY0OA==</th>\n",
       "      <td>xi-2-Ethylheptanoic acid</td>\n",
       "      <td>Drug</td>\n",
       "      <td>Drug</td>\n",
       "      <td>NaN</td>\n",
       "      <td>PUBCHEM 18648</td>\n",
       "    </tr>\n",
       "    <tr>\n",
       "      <th>UFVCQ0hFTSAxMDI2Nzc=</th>\n",
       "      <td>xi-2,3-Dihydro-3-methylfuran</td>\n",
       "      <td>Drug</td>\n",
       "      <td>Drug</td>\n",
       "      <td>NaN</td>\n",
       "      <td>PUBCHEM 102677</td>\n",
       "    </tr>\n",
       "    <tr>\n",
       "      <th>UFVCQ0hFTSAxMTUyMA==</th>\n",
       "      <td>xi-3-Heptanol</td>\n",
       "      <td>Drug</td>\n",
       "      <td>Drug</td>\n",
       "      <td>NaN</td>\n",
       "      <td>PUBCHEM 11520</td>\n",
       "    </tr>\n",
       "    <tr>\n",
       "      <th>Q0hFQkkgMzMyNDM=</th>\n",
       "      <td>natural product</td>\n",
       "      <td>Drug</td>\n",
       "      <td>Drug</td>\n",
       "      <td>CHEBI 33243</td>\n",
       "      <td>NaN</td>\n",
       "    </tr>\n",
       "  </tbody>\n",
       "</table>\n",
       "</div>"
      ],
      "text/plain": [
       "                                             label  type type_combined  \\\n",
       "id                                                                       \n",
       "UFVCQ0hFTSA3MDIwMjE1                   Val-Val-Val  Drug          Drug   \n",
       "UFVCQ0hFTSAxODY0OA==      xi-2-Ethylheptanoic acid  Drug          Drug   \n",
       "UFVCQ0hFTSAxMDI2Nzc=  xi-2,3-Dihydro-3-methylfuran  Drug          Drug   \n",
       "UFVCQ0hFTSAxMTUyMA==                 xi-3-Heptanol  Drug          Drug   \n",
       "Q0hFQkkgMzMyNDM=                   natural product  Drug          Drug   \n",
       "\n",
       "                            CHEBI          PUBCHEM  \n",
       "id                                                  \n",
       "UFVCQ0hFTSA3MDIwMjE1          NaN  PUBCHEM 7020215  \n",
       "UFVCQ0hFTSAxODY0OA==          NaN    PUBCHEM 18648  \n",
       "UFVCQ0hFTSAxMDI2Nzc=          NaN   PUBCHEM 102677  \n",
       "UFVCQ0hFTSAxMTUyMA==          NaN    PUBCHEM 11520  \n",
       "Q0hFQkkgMzMyNDM=      CHEBI 33243              NaN  "
      ]
     },
     "execution_count": 25,
     "metadata": {},
     "output_type": "execute_result"
    }
   ],
   "source": [
    "pd.read_csv(\"out/filtered/nodes/Drug.nodes.csv\", index_col=0).tail()"
   ]
  },
  {
   "cell_type": "code",
   "execution_count": 32,
   "metadata": {},
   "outputs": [],
   "source": [
    "import re\n",
    "node_pattern = \"(?P<directory>.+)/(?P<label>.+)\\.(?P<entity>.+)\\.csv\""
   ]
  },
  {
   "cell_type": "code",
   "execution_count": 38,
   "metadata": {},
   "outputs": [
    {
     "name": "stderr",
     "output_type": "stream",
     "text": [
      "/var/folders/wq/7bkxhy8j7ql194c1fbby4gy40000gn/T/ipykernel_3750/931648177.py:6: DtypeWarning: Columns (29,38,40,41,42,43,44,45,46,47,48,49,51) have mixed types. Specify dtype option on import or set low_memory=False.\n",
      "  df = pd.read_csv(filename)\n",
      "/var/folders/wq/7bkxhy8j7ql194c1fbby4gy40000gn/T/ipykernel_3750/931648177.py:6: DtypeWarning: Columns (45,47,49,50,51) have mixed types. Specify dtype option on import or set low_memory=False.\n",
      "  df = pd.read_csv(filename)\n",
      "/var/folders/wq/7bkxhy8j7ql194c1fbby4gy40000gn/T/ipykernel_3750/931648177.py:6: DtypeWarning: Columns (23,24,28,29,32) have mixed types. Specify dtype option on import or set low_memory=False.\n",
      "  df = pd.read_csv(filename)\n",
      "/var/folders/wq/7bkxhy8j7ql194c1fbby4gy40000gn/T/ipykernel_3750/931648177.py:6: DtypeWarning: Columns (15,16,17,19,20,21,22,23,25,26,27,34) have mixed types. Specify dtype option on import or set low_memory=False.\n",
      "  df = pd.read_csv(filename)\n",
      "/var/folders/wq/7bkxhy8j7ql194c1fbby4gy40000gn/T/ipykernel_3750/931648177.py:6: DtypeWarning: Columns (15,16,17,18,19,20,21,22,23,24,25,26,27,28,29) have mixed types. Specify dtype option on import or set low_memory=False.\n",
      "  df = pd.read_csv(filename)\n",
      "/var/folders/wq/7bkxhy8j7ql194c1fbby4gy40000gn/T/ipykernel_3750/931648177.py:6: DtypeWarning: Columns (5,6,9,11,12,13,14,15,16,17,18,19,20,21,22,23,24,25,26) have mixed types. Specify dtype option on import or set low_memory=False.\n",
      "  df = pd.read_csv(filename)\n",
      "/var/folders/wq/7bkxhy8j7ql194c1fbby4gy40000gn/T/ipykernel_3750/931648177.py:6: DtypeWarning: Columns (39,44,50,51,52,53,58) have mixed types. Specify dtype option on import or set low_memory=False.\n",
      "  df = pd.read_csv(filename)\n",
      "/var/folders/wq/7bkxhy8j7ql194c1fbby4gy40000gn/T/ipykernel_3750/931648177.py:6: DtypeWarning: Columns (23,24,25,26,27,28,30) have mixed types. Specify dtype option on import or set low_memory=False.\n",
      "  df = pd.read_csv(filename)\n",
      "/var/folders/wq/7bkxhy8j7ql194c1fbby4gy40000gn/T/ipykernel_3750/931648177.py:6: DtypeWarning: Columns (4,10,11,18,19,20,26,27,28,31,32,33,34,35,36,37,38,39,40,41,42,43,44,45,46,47,48,52,53) have mixed types. Specify dtype option on import or set low_memory=False.\n",
      "  df = pd.read_csv(filename)\n",
      "/var/folders/wq/7bkxhy8j7ql194c1fbby4gy40000gn/T/ipykernel_3750/931648177.py:6: DtypeWarning: Columns (25,30,33,34,35,36,37,38,39,40,41,42,43,45,46,48) have mixed types. Specify dtype option on import or set low_memory=False.\n",
      "  df = pd.read_csv(filename)\n",
      "/var/folders/wq/7bkxhy8j7ql194c1fbby4gy40000gn/T/ipykernel_3750/931648177.py:6: DtypeWarning: Columns (34,35,36,37) have mixed types. Specify dtype option on import or set low_memory=False.\n",
      "  df = pd.read_csv(filename)\n",
      "/var/folders/wq/7bkxhy8j7ql194c1fbby4gy40000gn/T/ipykernel_3750/931648177.py:6: DtypeWarning: Columns (17,23,24,26,27,29,30,31,32) have mixed types. Specify dtype option on import or set low_memory=False.\n",
      "  df = pd.read_csv(filename)\n",
      "/var/folders/wq/7bkxhy8j7ql194c1fbby4gy40000gn/T/ipykernel_3750/931648177.py:6: DtypeWarning: Columns (32,35,36,37,38,39,40,42,43,44) have mixed types. Specify dtype option on import or set low_memory=False.\n",
      "  df = pd.read_csv(filename)\n",
      "/var/folders/wq/7bkxhy8j7ql194c1fbby4gy40000gn/T/ipykernel_3750/931648177.py:6: DtypeWarning: Columns (18,19,24,30,36,37,41,42,43,44,45,46,47,48,49,50,51,52,53,54,55,56,57,58,59) have mixed types. Specify dtype option on import or set low_memory=False.\n",
      "  df = pd.read_csv(filename)\n",
      "/var/folders/wq/7bkxhy8j7ql194c1fbby4gy40000gn/T/ipykernel_3750/931648177.py:6: DtypeWarning: Columns (19,21,26,32,33,34,35,36,37,38,39,40,41,42,43,44,45,46,47,48,49,50,51,52,53,54,55,56,57,58,60,61,62,63) have mixed types. Specify dtype option on import or set low_memory=False.\n",
      "  df = pd.read_csv(filename)\n",
      "/var/folders/wq/7bkxhy8j7ql194c1fbby4gy40000gn/T/ipykernel_3750/931648177.py:6: DtypeWarning: Columns (30,32,33,34,35,38,39,40,41,42,43,44,45,47,48,50) have mixed types. Specify dtype option on import or set low_memory=False.\n",
      "  df = pd.read_csv(filename)\n",
      "/var/folders/wq/7bkxhy8j7ql194c1fbby4gy40000gn/T/ipykernel_3750/931648177.py:6: DtypeWarning: Columns (19,27,28,29,30,32,33,34,35,38,39,40,41,42,43,44,45,46,47,48) have mixed types. Specify dtype option on import or set low_memory=False.\n",
      "  df = pd.read_csv(filename)\n",
      "/var/folders/wq/7bkxhy8j7ql194c1fbby4gy40000gn/T/ipykernel_3750/931648177.py:6: DtypeWarning: Columns (4,5,6,7,8,10,12,13,14,15,19,22,24,25,26,28,31,33,34,35,36,37,38,39,40,41,42,43) have mixed types. Specify dtype option on import or set low_memory=False.\n",
      "  df = pd.read_csv(filename)\n",
      "/var/folders/wq/7bkxhy8j7ql194c1fbby4gy40000gn/T/ipykernel_3750/931648177.py:6: DtypeWarning: Columns (11,14,15,17,19,20,21,22,23,24,25,26,27,28,29,30,31,32,33,34,35,37) have mixed types. Specify dtype option on import or set low_memory=False.\n",
      "  df = pd.read_csv(filename)\n",
      "/var/folders/wq/7bkxhy8j7ql194c1fbby4gy40000gn/T/ipykernel_3750/931648177.py:6: DtypeWarning: Columns (4,5) have mixed types. Specify dtype option on import or set low_memory=False.\n",
      "  df = pd.read_csv(filename)\n",
      "/var/folders/wq/7bkxhy8j7ql194c1fbby4gy40000gn/T/ipykernel_3750/931648177.py:6: DtypeWarning: Columns (18,33,39,40,41,42,43,44,45,46,48,49) have mixed types. Specify dtype option on import or set low_memory=False.\n",
      "  df = pd.read_csv(filename)\n",
      "/var/folders/wq/7bkxhy8j7ql194c1fbby4gy40000gn/T/ipykernel_3750/931648177.py:6: DtypeWarning: Columns (7,10,16,19,24,25,29,31,33,34,35,38,39,40,41,42,43,45,46,47,48,49,50,51,52,53,54,55,56,57,58,59,60,61,62,63,64,65,68,69) have mixed types. Specify dtype option on import or set low_memory=False.\n",
      "  df = pd.read_csv(filename)\n"
     ]
    }
   ],
   "source": [
    "nodes_list = []\n",
    "for filename in glob('out/filtered/nodes/*.csv'):\n",
    "    match = re.match(node_pattern, filename).groupdict()\n",
    "    entity = match[\"entity\"]\n",
    "    label = match[\"label\"]\n",
    "    df = pd.read_csv(filename)\n",
    "    nodes_list.append({\n",
    "        \"node\": label,\n",
    "        \"count\": len(df.index)\n",
    "    })"
   ]
  },
  {
   "cell_type": "code",
   "execution_count": 39,
   "metadata": {},
   "outputs": [],
   "source": [
    "pd.DataFrame.from_records(nodes_list).to_csv(\"nodes_count.csv\", index=False)"
   ]
  },
  {
   "cell_type": "code",
   "execution_count": 42,
   "metadata": {},
   "outputs": [],
   "source": [
    "edge_count = {}\n",
    "edge_pattern = \"(?P<directory>.+)/(?P<source_type>.+)\\.(?P<relation>.+)\\.(?P<target_type>.+)\\.(?P<entity>.+)\\.csv\"\n",
    "\n",
    "for filename in glob('out/filtered/edges/*.csv'):\n",
    "    match = re.match(edge_pattern, filename).groupdict()\n",
    "    entity = match[\"entity\"]\n",
    "    relation = match[\"relation\"].replace(\"_\", \" \")\n",
    "    with open(filename) as o:\n",
    "        csv_reader = csv.reader(o, delimiter=\",\")\n",
    "        count = 0\n",
    "        for i in csv_reader:\n",
    "            count += 1\n",
    "    if relation not in edge_count:\n",
    "        edge_count[relation] = {\n",
    "            \"relation\": relation,\n",
    "            \"count\": 0\n",
    "        }\n",
    "    edge_count[relation][\"count\"] += count"
   ]
  },
  {
   "cell_type": "code",
   "execution_count": 44,
   "metadata": {},
   "outputs": [],
   "source": [
    "pd.DataFrame.from_records(list(edge_count.values())).to_csv(\"edges_count.csv\", index=False)"
   ]
  },
  {
   "cell_type": "code",
   "execution_count": 4,
   "metadata": {},
   "outputs": [],
   "source": [
    "with open('SABS_DCC') as o:\n",
    "    dccs = {}\n",
    "    for line in o:\n",
    "        dcc,sabs = line.strip().split(\":\")\n",
    "        for sab in sabs.split(\",\"):\n",
    "            dccs[sab] = dcc"
   ]
  },
  {
   "cell_type": "code",
   "execution_count": 5,
   "metadata": {},
   "outputs": [
    {
     "data": {
      "text/plain": [
       "{'GLYCORDF': 'Glygen',\n",
       " 'GLYCANS': 'Glygen',\n",
       " 'GLYCOCOO': 'Glygen',\n",
       " 'LINCS': 'LINCS',\n",
       " 'MW': 'MW',\n",
       " 'GTEXEXP': 'GTEX',\n",
       " 'GTEXEQTL': 'GTEX',\n",
       " 'GTEXCOEXP': 'GTEX',\n",
       " 'IDGP': 'IDG',\n",
       " 'IDGD': 'IDG',\n",
       " '4DN': '4DN'}"
      ]
     },
     "execution_count": 5,
     "metadata": {},
     "output_type": "execute_result"
    }
   ],
   "source": [
    "dccs"
   ]
  },
  {
   "cell_type": "code",
   "execution_count": 10,
   "metadata": {},
   "outputs": [
    {
     "name": "stderr",
     "output_type": "stream",
     "text": [
      "127920727it [02:30, 848771.43it/s]\n"
     ]
    }
   ],
   "source": [
    "dcc_counter = {}\n",
    "with open(\"neo4j/import/CUI-CUIs.csv\") as o:\n",
    "    csv_reader = csv.reader(o)\n",
    "    headers = None\n",
    "    for row in tqdm(csv_reader):\n",
    "        if not headers:\n",
    "            headers = row\n",
    "        else:\n",
    "            source = row[0]\n",
    "            target = row[1]\n",
    "            relation = row[2]\n",
    "            sab = row[3]\n",
    "            if sab in dccs:\n",
    "                dcc = dccs[sab]\n",
    "                if dcc not in dcc_counter:\n",
    "                    dcc_counter[dcc] = {\n",
    "                        \"nodes\": set(),\n",
    "                        \"edges\": 0\n",
    "                    }\n",
    "                dcc_counter[dcc][\"nodes\"].add(source)\n",
    "                dcc_counter[dcc][\"nodes\"].add(target)\n",
    "                dcc_counter[dcc][\"edges\"] += 1"
   ]
  },
  {
   "cell_type": "code",
   "execution_count": 11,
   "metadata": {},
   "outputs": [],
   "source": [
    "for k in dcc_counter:\n",
    "    dcc_counter[k][\"nodes\"] = len(dcc_counter[k][\"nodes\"])"
   ]
  },
  {
   "cell_type": "code",
   "execution_count": 12,
   "metadata": {},
   "outputs": [
    {
     "data": {
      "text/plain": [
       "{'4DN': {'nodes': 766621, 'edges': 5265898},\n",
       " 'Glygen': {'nodes': 182490, 'edges': 929548},\n",
       " 'GTEX': {'nodes': 2862268, 'edges': 65966674},\n",
       " 'IDG': {'nodes': 329119, 'edges': 873144},\n",
       " 'LINCS': {'nodes': 8942, 'edges': 492588},\n",
       " 'MW': {'nodes': 2465, 'edges': 33144}}"
      ]
     },
     "execution_count": 12,
     "metadata": {},
     "output_type": "execute_result"
    }
   ],
   "source": [
    "dcc_counter"
   ]
  },
  {
   "cell_type": "code",
   "execution_count": 15,
   "metadata": {},
   "outputs": [],
   "source": [
    "pd.DataFrame.from_records(dcc_counter).T.to_csv(\"dcc_counts.csv\")"
   ]
  },
  {
   "cell_type": "code",
   "execution_count": 16,
   "metadata": {},
   "outputs": [
    {
     "data": {
      "text/html": [
       "<div>\n",
       "<style scoped>\n",
       "    .dataframe tbody tr th:only-of-type {\n",
       "        vertical-align: middle;\n",
       "    }\n",
       "\n",
       "    .dataframe tbody tr th {\n",
       "        vertical-align: top;\n",
       "    }\n",
       "\n",
       "    .dataframe thead th {\n",
       "        text-align: right;\n",
       "    }\n",
       "</style>\n",
       "<table border=\"1\" class=\"dataframe\">\n",
       "  <thead>\n",
       "    <tr style=\"text-align: right;\">\n",
       "      <th></th>\n",
       "      <th>id</th>\n",
       "      <th>label</th>\n",
       "      <th>type</th>\n",
       "      <th>type_combined</th>\n",
       "      <th>GTEXEXP</th>\n",
       "    </tr>\n",
       "  </thead>\n",
       "  <tbody>\n",
       "    <tr>\n",
       "      <th>0</th>\n",
       "      <td>R1RFWEVYUCBFTlNHMDAwMDAyMjM5NzItNS1BZGlwb3NlLV...</td>\n",
       "      <td>-</td>\n",
       "      <td>GTEXEXP</td>\n",
       "      <td>GTEXEXP</td>\n",
       "      <td>GTEXEXP ENSG00000223972-5-Adipose-Subcutaneous</td>\n",
       "    </tr>\n",
       "    <tr>\n",
       "      <th>1</th>\n",
       "      <td>R1RFWEVYUCBFTlNHMDAwMDAyMjM5NzItNS1BZHJlbmFsLU...</td>\n",
       "      <td>-</td>\n",
       "      <td>GTEXEXP</td>\n",
       "      <td>GTEXEXP</td>\n",
       "      <td>GTEXEXP ENSG00000223972-5-Adrenal-Gland</td>\n",
       "    </tr>\n",
       "    <tr>\n",
       "      <th>2</th>\n",
       "      <td>R1RFWEVYUCBFTlNHMDAwMDAyMjM5NzItNS1BcnRlcnktQW...</td>\n",
       "      <td>-</td>\n",
       "      <td>GTEXEXP</td>\n",
       "      <td>GTEXEXP</td>\n",
       "      <td>GTEXEXP ENSG00000223972-5-Artery-Aorta</td>\n",
       "    </tr>\n",
       "    <tr>\n",
       "      <th>3</th>\n",
       "      <td>R1RFWEVYUCBFTlNHMDAwMDAyMjM5NzItNS1BcnRlcnktQ2...</td>\n",
       "      <td>-</td>\n",
       "      <td>GTEXEXP</td>\n",
       "      <td>GTEXEXP</td>\n",
       "      <td>GTEXEXP ENSG00000223972-5-Artery-Coronary</td>\n",
       "    </tr>\n",
       "    <tr>\n",
       "      <th>4</th>\n",
       "      <td>R1RFWEVYUCBFTlNHMDAwMDAyMjM5NzItNS1BcnRlcnktVG...</td>\n",
       "      <td>-</td>\n",
       "      <td>GTEXEXP</td>\n",
       "      <td>GTEXEXP</td>\n",
       "      <td>GTEXEXP ENSG00000223972-5-Artery-Tibial</td>\n",
       "    </tr>\n",
       "  </tbody>\n",
       "</table>\n",
       "</div>"
      ],
      "text/plain": [
       "                                                  id label     type  \\\n",
       "0  R1RFWEVYUCBFTlNHMDAwMDAyMjM5NzItNS1BZGlwb3NlLV...     -  GTEXEXP   \n",
       "1  R1RFWEVYUCBFTlNHMDAwMDAyMjM5NzItNS1BZHJlbmFsLU...     -  GTEXEXP   \n",
       "2  R1RFWEVYUCBFTlNHMDAwMDAyMjM5NzItNS1BcnRlcnktQW...     -  GTEXEXP   \n",
       "3  R1RFWEVYUCBFTlNHMDAwMDAyMjM5NzItNS1BcnRlcnktQ2...     -  GTEXEXP   \n",
       "4  R1RFWEVYUCBFTlNHMDAwMDAyMjM5NzItNS1BcnRlcnktVG...     -  GTEXEXP   \n",
       "\n",
       "  type_combined                                         GTEXEXP  \n",
       "0       GTEXEXP  GTEXEXP ENSG00000223972-5-Adipose-Subcutaneous  \n",
       "1       GTEXEXP         GTEXEXP ENSG00000223972-5-Adrenal-Gland  \n",
       "2       GTEXEXP          GTEXEXP ENSG00000223972-5-Artery-Aorta  \n",
       "3       GTEXEXP       GTEXEXP ENSG00000223972-5-Artery-Coronary  \n",
       "4       GTEXEXP         GTEXEXP ENSG00000223972-5-Artery-Tibial  "
      ]
     },
     "execution_count": 16,
     "metadata": {},
     "output_type": "execute_result"
    }
   ],
   "source": [
    "df = pd.read_csv('out/filtered/nodes/GTEXEXP.nodes.csv')\n",
    "df.head()"
   ]
  },
  {
   "cell_type": "code",
   "execution_count": 18,
   "metadata": {},
   "outputs": [
    {
     "data": {
      "text/plain": [
       "(1573920, 5)"
      ]
     },
     "execution_count": 18,
     "metadata": {},
     "output_type": "execute_result"
    }
   ],
   "source": [
    "df.shape"
   ]
  },
  {
   "cell_type": "code",
   "execution_count": 21,
   "metadata": {},
   "outputs": [],
   "source": [
    "import re"
   ]
  },
  {
   "cell_type": "code",
   "execution_count": 48,
   "metadata": {},
   "outputs": [],
   "source": [
    "tissues = {}\n",
    "genes = {}\n",
    "g = set()\n",
    "gtex_pattern = \"GTEXEXP (?P<Gene>ENSG[0-9]+)-[A-Za-z0-9 ]+-(?P<Tissue>.+)\"\n",
    "for i in df.GTEXEXP:\n",
    "    match = re.match(gtex_pattern, i).groupdict()\n",
    "    if \"Gland\" in i:\n",
    "        g.add(i)\n",
    "    if match[\"Tissue\"] not in tissues:\n",
    "        tissues[match[\"Tissue\"]] = 0\n",
    "    tissues[match[\"Tissue\"]] += 1\n",
    "    if match[\"Gene\"] not in genes:\n",
    "        genes[match[\"Gene\"]] = 0\n",
    "    genes[match[\"Gene\"]] += 1"
   ]
  },
  {
   "cell_type": "code",
   "execution_count": 49,
   "metadata": {},
   "outputs": [
    {
     "data": {
      "text/plain": [
       "{'Gene': 'ENSG00000178921', 'Tissue': 'Adrenal-Gland'}"
      ]
     },
     "execution_count": 49,
     "metadata": {},
     "output_type": "execute_result"
    }
   ],
   "source": [
    "i = list(g)[0]\n",
    "match = re.match(gtex_pattern, i).groupdict()\n",
    "match"
   ]
  },
  {
   "cell_type": "code",
   "execution_count": 50,
   "metadata": {},
   "outputs": [
    {
     "data": {
      "text/plain": [
       "[('ENSG00000223972', 45),\n",
       " ('ENSG00000227232', 45),\n",
       " ('ENSG00000278267', 45),\n",
       " ('ENSG00000243485', 45),\n",
       " ('ENSG00000237613', 45)]"
      ]
     },
     "execution_count": 50,
     "metadata": {},
     "output_type": "execute_result"
    }
   ],
   "source": [
    "list(genes.items())[0:5]"
   ]
  },
  {
   "cell_type": "code",
   "execution_count": 58,
   "metadata": {},
   "outputs": [
    {
     "data": {
      "text/plain": [
       "(45, 34940, 1572300)"
      ]
     },
     "execution_count": 58,
     "metadata": {},
     "output_type": "execute_result"
    }
   ],
   "source": [
    "len(tissues), len(genes), len(tissues)*len(genes)"
   ]
  },
  {
   "cell_type": "code",
   "execution_count": 54,
   "metadata": {},
   "outputs": [
    {
     "data": {
      "text/plain": [
       "{'Adipose-Subcutaneous': 34976,\n",
       " 'Adrenal-Gland': 34976,\n",
       " 'Artery-Aorta': 34976,\n",
       " 'Artery-Coronary': 34976,\n",
       " 'Artery-Tibial': 34976,\n",
       " 'Bladder': 34976,\n",
       " 'Brain-Amygdala': 34976,\n",
       " 'Brain-Cerebellar-Hemisphere': 34976,\n",
       " 'Brain-Cerebellum': 34976,\n",
       " 'Brain-Cortex': 34976,\n",
       " 'Brain-Hippocampus': 34976,\n",
       " 'Brain-Hypothalamus': 34976,\n",
       " 'Brain-Substantia-nigra': 34976,\n",
       " 'Breast-Mammary-Tissue': 34976,\n",
       " 'Cells-Cultured-fibroblasts': 34976,\n",
       " 'Cells-EBV-transformed-lymphocytes': 34976,\n",
       " 'Cervix-Ectocervix': 34976,\n",
       " 'Cervix-Endocervix': 34976,\n",
       " 'Colon-Sigmoid': 34976,\n",
       " 'Colon-Transverse': 34976,\n",
       " 'Esophagus-Gastroesophageal-Junction': 34976,\n",
       " 'Esophagus-Mucosa': 34976,\n",
       " 'Esophagus-Muscularis': 34976,\n",
       " 'Fallopian-Tube': 34976,\n",
       " 'Heart-Atrial-Appendage': 34976,\n",
       " 'Heart-Left-Ventricle': 34976,\n",
       " 'Kidney-Cortex': 34976,\n",
       " 'Kidney-Medulla': 34976,\n",
       " 'Liver': 34976,\n",
       " 'Lung': 34976,\n",
       " 'Minor-Salivary-Gland': 34976,\n",
       " 'Muscle-Skeletal': 34976,\n",
       " 'Nerve-Tibial': 34976,\n",
       " 'Ovary': 34976,\n",
       " 'Pancreas': 34976,\n",
       " 'Pituitary': 34976,\n",
       " 'Prostate': 34976,\n",
       " 'Small-Intestine-Terminal-Ileum': 34976,\n",
       " 'Spleen': 34976,\n",
       " 'Stomach': 34976,\n",
       " 'Testis': 34976,\n",
       " 'Thyroid': 34976,\n",
       " 'Uterus': 34976,\n",
       " 'Vagina': 34976,\n",
       " 'Whole-Blood': 34976}"
      ]
     },
     "execution_count": 54,
     "metadata": {},
     "output_type": "execute_result"
    }
   ],
   "source": [
    "tissues"
   ]
  },
  {
   "cell_type": "code",
   "execution_count": 56,
   "metadata": {},
   "outputs": [
    {
     "name": "stdout",
     "output_type": "stream",
     "text": [
      "out/filtered/edges/GTEXEXP.expressed in.Tissue.edges.csv\n",
      "out/filtered/edges/Gene or Genome.expresses.GTEXEXP.edges.csv\n",
      "out/filtered/edges/GTEXEXP.has expression.EXPBINS.edges.csv\n",
      "out/filtered/edges/GTEXEXP.expressed in.Body Location or Region.edges.csv\n",
      "out/filtered/edges/Tissue.expresses.GTEXEXP.edges.csv\n",
      "out/filtered/edges/Body Part, Organ, or Organ Component.expresses.GTEXEXP.edges.csv\n",
      "out/filtered/edges/GTEXEXP.expressed in.Body Part, Organ, or Organ Component.edges.csv\n",
      "out/filtered/edges/Body Location or Region.expresses.GTEXEXP.edges.csv\n",
      "out/filtered/edges/GTEXEXP.expressed in.Gene or Genome.edges.csv\n"
     ]
    }
   ],
   "source": [
    "for i in glob(\"out/filtered/edges/*.csv\"):\n",
    "    if \"GTEXEXP\" in i:\n",
    "        print(i)"
   ]
  },
  {
   "cell_type": "code",
   "execution_count": 59,
   "metadata": {},
   "outputs": [
    {
     "data": {
      "text/plain": [
       "(1573785, 7)"
      ]
     },
     "execution_count": 59,
     "metadata": {},
     "output_type": "execute_result"
    }
   ],
   "source": [
    "df = pd.read_csv(\"out/filtered/edges/Gene or Genome.expresses.GTEXEXP.edges.csv\")\n",
    "df.shape"
   ]
  },
  {
   "cell_type": "code",
   "execution_count": 61,
   "metadata": {},
   "outputs": [
    {
     "data": {
      "text/html": [
       "<div>\n",
       "<style scoped>\n",
       "    .dataframe tbody tr th:only-of-type {\n",
       "        vertical-align: middle;\n",
       "    }\n",
       "\n",
       "    .dataframe tbody tr th {\n",
       "        vertical-align: top;\n",
       "    }\n",
       "\n",
       "    .dataframe thead th {\n",
       "        text-align: right;\n",
       "    }\n",
       "</style>\n",
       "<table border=\"1\" class=\"dataframe\">\n",
       "  <thead>\n",
       "    <tr style=\"text-align: right;\">\n",
       "      <th></th>\n",
       "      <th>source</th>\n",
       "      <th>relation</th>\n",
       "      <th>target</th>\n",
       "      <th>source_label</th>\n",
       "      <th>target_label</th>\n",
       "      <th>SAB</th>\n",
       "      <th>evidence</th>\n",
       "    </tr>\n",
       "  </thead>\n",
       "  <tbody>\n",
       "    <tr>\n",
       "      <th>0</th>\n",
       "      <td>C2239334</td>\n",
       "      <td>expresses</td>\n",
       "      <td>R1RFWEVYUCBFTlNHMDAwMDAyMjM5NzItNS1BZGlwb3NlLV...</td>\n",
       "      <td>DDX11L1 gene</td>\n",
       "      <td>-</td>\n",
       "      <td>GTEXEXP</td>\n",
       "      <td>NaN</td>\n",
       "    </tr>\n",
       "    <tr>\n",
       "      <th>1</th>\n",
       "      <td>C2239334</td>\n",
       "      <td>expresses</td>\n",
       "      <td>R1RFWEVYUCBFTlNHMDAwMDAyMjM5NzItNS1BZHJlbmFsLU...</td>\n",
       "      <td>DDX11L1 gene</td>\n",
       "      <td>-</td>\n",
       "      <td>GTEXEXP</td>\n",
       "      <td>NaN</td>\n",
       "    </tr>\n",
       "    <tr>\n",
       "      <th>2</th>\n",
       "      <td>C2239334</td>\n",
       "      <td>expresses</td>\n",
       "      <td>R1RFWEVYUCBFTlNHMDAwMDAyMjM5NzItNS1BcnRlcnktQW...</td>\n",
       "      <td>DDX11L1 gene</td>\n",
       "      <td>-</td>\n",
       "      <td>GTEXEXP</td>\n",
       "      <td>NaN</td>\n",
       "    </tr>\n",
       "    <tr>\n",
       "      <th>3</th>\n",
       "      <td>C2239334</td>\n",
       "      <td>expresses</td>\n",
       "      <td>R1RFWEVYUCBFTlNHMDAwMDAyMjM5NzItNS1BcnRlcnktQ2...</td>\n",
       "      <td>DDX11L1 gene</td>\n",
       "      <td>-</td>\n",
       "      <td>GTEXEXP</td>\n",
       "      <td>NaN</td>\n",
       "    </tr>\n",
       "    <tr>\n",
       "      <th>4</th>\n",
       "      <td>C2239334</td>\n",
       "      <td>expresses</td>\n",
       "      <td>R1RFWEVYUCBFTlNHMDAwMDAyMjM5NzItNS1BcnRlcnktVG...</td>\n",
       "      <td>DDX11L1 gene</td>\n",
       "      <td>-</td>\n",
       "      <td>GTEXEXP</td>\n",
       "      <td>NaN</td>\n",
       "    </tr>\n",
       "  </tbody>\n",
       "</table>\n",
       "</div>"
      ],
      "text/plain": [
       "     source   relation                                             target  \\\n",
       "0  C2239334  expresses  R1RFWEVYUCBFTlNHMDAwMDAyMjM5NzItNS1BZGlwb3NlLV...   \n",
       "1  C2239334  expresses  R1RFWEVYUCBFTlNHMDAwMDAyMjM5NzItNS1BZHJlbmFsLU...   \n",
       "2  C2239334  expresses  R1RFWEVYUCBFTlNHMDAwMDAyMjM5NzItNS1BcnRlcnktQW...   \n",
       "3  C2239334  expresses  R1RFWEVYUCBFTlNHMDAwMDAyMjM5NzItNS1BcnRlcnktQ2...   \n",
       "4  C2239334  expresses  R1RFWEVYUCBFTlNHMDAwMDAyMjM5NzItNS1BcnRlcnktVG...   \n",
       "\n",
       "   source_label target_label      SAB  evidence  \n",
       "0  DDX11L1 gene            -  GTEXEXP       NaN  \n",
       "1  DDX11L1 gene            -  GTEXEXP       NaN  \n",
       "2  DDX11L1 gene            -  GTEXEXP       NaN  \n",
       "3  DDX11L1 gene            -  GTEXEXP       NaN  \n",
       "4  DDX11L1 gene            -  GTEXEXP       NaN  "
      ]
     },
     "execution_count": 61,
     "metadata": {},
     "output_type": "execute_result"
    }
   ],
   "source": [
    "df.head()"
   ]
  },
  {
   "cell_type": "code",
   "execution_count": 137,
   "metadata": {},
   "outputs": [
    {
     "name": "stdout",
     "output_type": "stream",
     "text": [
      "out/serialization/edges/Amino Acid, Peptide, or Protein.use.Amino Acid, Peptide, or Protein.edges.csv\n",
      "out/serialization/edges/Amino Acid, Peptide, or Protein.used_for.Amino Acid, Peptide, or Protein.edges.csv\n",
      "out/serialization/edges/Amino Acid Sequence.RB.Amino Acid, Peptide, or Protein.edges.csv\n",
      "out/serialization/edges/Amino Acid, Peptide, or Protein.ingredient_of.Amino Acid, Peptide, or Protein.edges.csv\n",
      "out/serialization/edges/Amino Acid, Peptide, or Protein.mapped_to.Amino Acid Sequence.edges.csv\n",
      "out/serialization/edges/Amino Acid, Peptide, or Protein.has_parent.Amino Acid, Peptide, or Protein.edges.csv\n",
      "out/serialization/edges/Amino Acid Sequence.isa.Amino Acid, Peptide, or Protein.edges.csv\n",
      "out/serialization/edges/Protein.isa.Protein.edges.csv\n",
      "out/serialization/edges/Protein.inverse_member.Protein.edges.csv\n",
      "out/serialization/edges/Amino Acid, Peptide, or Protein.RN.Amino Acid Sequence.edges.csv\n",
      "out/serialization/edges/Amino Acid, Peptide, or Protein.gene_product_has_structural_domain_or_motif.Amino Acid Sequence.edges.csv\n",
      "out/serialization/edges/Amino Acid, Peptide, or Protein.refers_to.Amino Acid, Peptide, or Protein.edges.csv\n",
      "out/serialization/edges/Amino Acid, Peptide, or Protein.is_component_of_chemotherapy_regimen.Amino Acid, Peptide, or Protein.edges.csv\n",
      "out/serialization/edges/Amino Acid, Peptide, or Protein.has_part.Amino Acid, Peptide, or Protein.edges.csv\n",
      "out/serialization/edges/Amino Acid, Peptide, or Protein.has_physical_part_of_anatomic_structure.Amino Acid Sequence.edges.csv\n",
      "out/serialization/edges/Protein.based_on.Protein.edges.csv\n",
      "out/serialization/edges/Amino Acid, Peptide, or Protein.chemotherapy_regimen_has_component.Amino Acid, Peptide, or Protein.edges.csv\n",
      "out/serialization/edges/Amino Acid, Peptide, or Protein.replaces.Amino Acid, Peptide, or Protein.edges.csv\n",
      "out/serialization/edges/Amino Acid, Peptide, or Protein.possibly_replaces.Amino Acid, Peptide, or Protein.edges.csv\n",
      "out/serialization/edges/Amino Acid, Peptide, or Protein.member_of.Amino Acid, Peptide, or Protein.edges.csv\n",
      "out/serialization/edges/Amino Acid, Peptide, or Protein.structural_class_of.Amino Acid, Peptide, or Protein.edges.csv\n",
      "out/serialization/edges/Amino Acid, Peptide, or Protein.anatomic_structure_is_physical_part_of.Amino Acid, Peptide, or Protein.edges.csv\n",
      "out/serialization/edges/Protein.sequence.Protein.edges.csv\n",
      "out/serialization/edges/Amino Acid, Peptide, or Protein.inverse_isa.Amino Acid, Peptide, or Protein.edges.csv\n",
      "out/serialization/edges/Protein.method.Protein.edges.csv\n",
      "out/serialization/edges/Amino Acid Sequence.anatomic_structure_is_physical_part_of.Amino Acid, Peptide, or Protein.edges.csv\n",
      "out/serialization/edges/Amino Acid Sequence.used_for.Amino Acid, Peptide, or Protein.edges.csv\n",
      "out/serialization/edges/Amino Acid, Peptide, or Protein.is_chemical_classification_of_gene_product.Amino Acid, Peptide, or Protein.edges.csv\n",
      "out/serialization/edges/Amino Acid Sequence.use.Amino Acid, Peptide, or Protein.edges.csv\n",
      "out/serialization/edges/Amino Acid, Peptide, or Protein.has_modification.Amino Acid, Peptide, or Protein.edges.csv\n",
      "out/serialization/edges/Amino Acid Sequence.used_for.Amino Acid Sequence.edges.csv\n",
      "out/serialization/edges/Amino Acid, Peptide, or Protein.isa.Amino Acid, Peptide, or Protein.edges.csv\n",
      "out/serialization/edges/Amino Acid, Peptide, or Protein.contains.Amino Acid, Peptide, or Protein.edges.csv\n",
      "out/serialization/edges/Amino Acid, Peptide, or Protein.mapped_to.Amino Acid, Peptide, or Protein.edges.csv\n",
      "out/serialization/edges/Amino Acid, Peptide, or Protein.see.Amino Acid, Peptide, or Protein.edges.csv\n",
      "out/serialization/edges/Amino Acid, Peptide, or Protein.chemical_or_drug_affects_gene_product.Amino Acid, Peptide, or Protein.edges.csv\n",
      "out/serialization/edges/Amino Acid, Peptide, or Protein.has_contraindicated_class.Amino Acid, Peptide, or Protein.edges.csv\n",
      "out/serialization/edges/Amino Acid Sequence.mapped_from.Amino Acid Sequence.edges.csv\n",
      "out/serialization/edges/Protein.existence.Protein.edges.csv\n",
      "out/serialization/edges/GLYCOPROTEIN.EVIDENCE.is_evidence_for.GLYCOPROTEIN.edges.csv\n",
      "out/serialization/edges/Amino Acid, Peptide, or Protein.has_structural_class.Amino Acid, Peptide, or Protein.edges.csv\n",
      "out/serialization/edges/Amino Acid, Peptide, or Protein.related_part.Amino Acid, Peptide, or Protein.edges.csv\n",
      "out/serialization/edges/Amino Acid, Peptide, or Protein.RN.Amino Acid, Peptide, or Protein.edges.csv\n",
      "out/serialization/edges/Amino Acid, Peptide, or Protein.contraindicated_with_disease.Amino Acid, Peptide, or Protein.edges.csv\n",
      "out/serialization/edges/Amino Acid, Peptide, or Protein.has_consumer_friendly_form.Amino Acid, Peptide, or Protein.edges.csv\n",
      "out/serialization/edges/Amino Acid, Peptide, or Protein.has_salt_form.Amino Acid, Peptide, or Protein.edges.csv\n",
      "out/serialization/edges/Amino Acid, Peptide, or Protein.is_value_for_gdc_property.Amino Acid, Peptide, or Protein.edges.csv\n",
      "out/serialization/edges/Amino Acid, Peptide, or Protein.inverse_was_a.Amino Acid, Peptide, or Protein.edges.csv\n",
      "out/serialization/edges/Amino Acid, Peptide, or Protein.has_active_ingredient.Amino Acid, Peptide, or Protein.edges.csv\n",
      "out/serialization/edges/Amino Acid Sequence.CHD.Amino Acid, Peptide, or Protein.edges.csv\n",
      "out/serialization/edges/Amino Acid Sequence.PAR.Amino Acid, Peptide, or Protein.edges.csv\n",
      "out/serialization/edges/Amino Acid, Peptide, or Protein.mapped_from.Amino Acid, Peptide, or Protein.edges.csv\n",
      "out/serialization/edges/Amino Acid, Peptide, or Protein.gene_product_has_associated_anatomy.Amino Acid Sequence.edges.csv\n",
      "out/serialization/edges/Amino Acid, Peptide, or Protein.contained_in.Amino Acid, Peptide, or Protein.edges.csv\n",
      "out/serialization/edges/Amino Acid, Peptide, or Protein.active_ingredient_of.Amino Acid, Peptide, or Protein.edges.csv\n",
      "out/serialization/edges/Amino Acid, Peptide, or Protein.RO.Amino Acid Sequence.edges.csv\n",
      "out/serialization/edges/Amino Acid, Peptide, or Protein.RO.Amino Acid, Peptide, or Protein.edges.csv\n",
      "out/serialization/edges/Amino Acid, Peptide, or Protein.is_biochemical_function_of_gene_product.Amino Acid, Peptide, or Protein.edges.csv\n",
      "out/serialization/edges/Amino Acid, Peptide, or Protein.lab_number_of.Amino Acid, Peptide, or Protein.edges.csv\n",
      "out/serialization/edges/Protein.inverse_existence.Protein.edges.csv\n",
      "out/serialization/edges/Protein.modification.Protein.edges.csv\n",
      "out/serialization/edges/Amino Acid, Peptide, or Protein.form_of.Amino Acid, Peptide, or Protein.edges.csv\n",
      "out/serialization/edges/Amino Acid, Peptide, or Protein.has_target.Amino Acid, Peptide, or Protein.edges.csv\n",
      "out/serialization/edges/Amino Acid, Peptide, or Protein.CHD.Amino Acid, Peptide, or Protein.edges.csv\n",
      "out/serialization/edges/Amino Acid, Peptide, or Protein.has_member.Amino Acid, Peptide, or Protein.edges.csv\n",
      "out/serialization/edges/Amino Acid, Peptide, or Protein.has_precise_ingredient.Amino Acid, Peptide, or Protein.edges.csv\n",
      "out/serialization/edges/Amino Acid, Peptide, or Protein.gene_product_has_biochemical_function.Amino Acid, Peptide, or Protein.edges.csv\n",
      "out/serialization/edges/Amino Acid, Peptide, or Protein.PAR.Amino Acid, Peptide, or Protein.edges.csv\n",
      "out/serialization/edges/Amino Acid, Peptide, or Protein.is_related_to_endogenous_product.Amino Acid, Peptide, or Protein.edges.csv\n",
      "out/serialization/edges/Amino Acid, Peptide, or Protein.gene_product_has_associated_anatomy.Amino Acid, Peptide, or Protein.edges.csv\n",
      "out/serialization/edges/Amino Acid Sequence.RB.Amino Acid Sequence.edges.csv\n",
      "out/serialization/edges/Protein.inverse_sequence.Protein.edges.csv\n",
      "out/serialization/edges/Protein.inverse_based_on.Protein.edges.csv\n",
      "out/serialization/edges/Amino Acid, Peptide, or Protein.has_lab_number.Amino Acid, Peptide, or Protein.edges.csv\n",
      "out/serialization/edges/Amino Acid, Peptide, or Protein.is_associated_anatomy_of_gene_product.Amino Acid, Peptide, or Protein.edges.csv\n",
      "out/serialization/edges/Amino Acid Sequence.is_associated_anatomy_of_gene_product.Amino Acid, Peptide, or Protein.edges.csv\n",
      "out/serialization/edges/Amino Acid Sequence.is_structural_domain_or_motif_of_gene_product.Amino Acid, Peptide, or Protein.edges.csv\n",
      "out/serialization/edges/Amino Acid, Peptide, or Protein.same_as.Amino Acid, Peptide, or Protein.edges.csv\n",
      "out/serialization/edges/Amino Acid, Peptide, or Protein.possibly_equivalent_to.Amino Acid, Peptide, or Protein.edges.csv\n",
      "out/serialization/edges/Amino Acid, Peptide, or Protein.component_of.Amino Acid, Peptide, or Protein.edges.csv\n",
      "out/serialization/edges/Protein.inverse_modification.Protein.edges.csv\n",
      "out/serialization/edges/Amino Acid Sequence.RN.Amino Acid Sequence.edges.csv\n",
      "out/serialization/edges/Amino Acid, Peptide, or Protein.regional_part_of.Amino Acid, Peptide, or Protein.edges.csv\n",
      "out/serialization/edges/Amino Acid, Peptide, or Protein.see.Amino Acid Sequence.edges.csv\n",
      "out/serialization/edges/Amino Acid, Peptide, or Protein.isa.Amino Acid Sequence.edges.csv\n",
      "out/serialization/edges/Amino Acid, Peptide, or Protein.PAR.Amino Acid Sequence.edges.csv\n",
      "out/serialization/edges/Amino Acid Sequence.mapped_to.Amino Acid Sequence.edges.csv\n",
      "out/serialization/edges/Amino Acid, Peptide, or Protein.parent_of.Amino Acid, Peptide, or Protein.edges.csv\n",
      "out/serialization/edges/Amino Acid, Peptide, or Protein.RB.Amino Acid, Peptide, or Protein.edges.csv\n",
      "out/serialization/edges/Amino Acid, Peptide, or Protein.inverse_has_functional_parent.Amino Acid, Peptide, or Protein.edges.csv\n",
      "out/serialization/edges/Amino Acid, Peptide, or Protein.see_from.Amino Acid, Peptide, or Protein.edges.csv\n",
      "out/serialization/edges/Amino Acid, Peptide, or Protein.uses_substance.Amino Acid, Peptide, or Protein.edges.csv\n",
      "out/serialization/edges/Amino Acid, Peptide, or Protein.has_contraindicated_drug.Amino Acid, Peptide, or Protein.edges.csv\n",
      "out/serialization/edges/Protein.inverse_method.Protein.edges.csv\n",
      "out/serialization/edges/Amino Acid, Peptide, or Protein.has_physical_part_of_anatomic_structure.Amino Acid, Peptide, or Protein.edges.csv\n",
      "out/serialization/edges/Amino Acid, Peptide, or Protein.precise_ingredient_of.Amino Acid, Peptide, or Protein.edges.csv\n",
      "out/serialization/edges/Amino Acid, Peptide, or Protein.complex_has_physical_part.Amino Acid, Peptide, or Protein.edges.csv\n",
      "out/serialization/edges/Amino Acid, Peptide, or Protein.substance_used_by.Amino Acid, Peptide, or Protein.edges.csv\n",
      "out/serialization/edges/Amino Acid, Peptide, or Protein.consumer_friendly_form_of.Amino Acid, Peptide, or Protein.edges.csv\n",
      "out/serialization/edges/Amino Acid, Peptide, or Protein.has_regional_part.Amino Acid, Peptide, or Protein.edges.csv\n",
      "out/serialization/edges/Amino Acid Sequence.inverse_isa.Amino Acid, Peptide, or Protein.edges.csv\n",
      "out/serialization/edges/Protein.member.Protein.edges.csv\n",
      "out/serialization/edges/Amino Acid, Peptide, or Protein.is_structural_domain_or_motif_of_gene_product.Amino Acid, Peptide, or Protein.edges.csv\n",
      "out/serialization/edges/Amino Acid Sequence.isa.Amino Acid Sequence.edges.csv\n",
      "out/serialization/edges/Amino Acid Sequence.see_from.Amino Acid, Peptide, or Protein.edges.csv\n",
      "out/serialization/edges/Amino Acid, Peptide, or Protein.has_tradename.Amino Acid, Peptide, or Protein.edges.csv\n",
      "out/serialization/edges/Amino Acid, Peptide, or Protein.has_active_moiety.Amino Acid, Peptide, or Protein.edges.csv\n",
      "out/serialization/edges/Amino Acid, Peptide, or Protein.is_enantiomer_of.Amino Acid, Peptide, or Protein.edges.csv\n",
      "out/serialization/edges/Amino Acid Sequence.PAR.Amino Acid Sequence.edges.csv\n",
      "out/serialization/edges/Amino Acid, Peptide, or Protein.was_a.Amino Acid, Peptide, or Protein.edges.csv\n",
      "out/serialization/edges/Amino Acid, Peptide, or Protein.has_constitutional_part.Amino Acid, Peptide, or Protein.edges.csv\n",
      "out/serialization/edges/Amino Acid, Peptide, or Protein.inverse_isa.Amino Acid Sequence.edges.csv\n",
      "out/serialization/edges/Amino Acid, Peptide, or Protein.has_ingredient.Amino Acid, Peptide, or Protein.edges.csv\n",
      "out/serialization/edges/Amino Acid, Peptide, or Protein.RQ.Amino Acid, Peptide, or Protein.edges.csv\n",
      "out/serialization/edges/Amino Acid, Peptide, or Protein.used_for.Amino Acid Sequence.edges.csv\n",
      "out/serialization/edges/Amino Acid, Peptide, or Protein.is_modification_of.Amino Acid, Peptide, or Protein.edges.csv\n",
      "out/serialization/edges/Amino Acid, Peptide, or Protein.inverse_is_enantiomer_of.Amino Acid, Peptide, or Protein.edges.csv\n",
      "out/serialization/edges/Amino Acid, Peptide, or Protein.gene_product_is_physical_part_of.Amino Acid, Peptide, or Protein.edges.csv\n",
      "out/serialization/edges/Amino Acid, Peptide, or Protein.referred_to_by.Amino Acid, Peptide, or Protein.edges.csv\n",
      "out/serialization/edges/Amino Acid Sequence.RO.Amino Acid, Peptide, or Protein.edges.csv\n",
      "out/serialization/edges/Amino Acid, Peptide, or Protein.has_form.Amino Acid, Peptide, or Protein.edges.csv\n",
      "out/serialization/edges/Amino Acid, Peptide, or Protein.gene_product_affected_by_chemical_or_drug.Amino Acid, Peptide, or Protein.edges.csv\n",
      "out/serialization/edges/Amino Acid, Peptide, or Protein.CHD.Amino Acid Sequence.edges.csv\n",
      "out/serialization/edges/Amino Acid, Peptide, or Protein.replaced_by.Amino Acid, Peptide, or Protein.edges.csv\n",
      "out/serialization/edges/Amino Acid, Peptide, or Protein.has_gdc_value.Amino Acid, Peptide, or Protein.edges.csv\n",
      "out/serialization/edges/Protein.context.Protein.edges.csv\n",
      "out/serialization/edges/Protein.inverse_isa.Protein.edges.csv\n",
      "out/serialization/edges/Protein.inverse_context.Protein.edges.csv\n",
      "out/serialization/edges/Amino Acid, Peptide, or Protein.gene_product_has_structural_domain_or_motif.Amino Acid, Peptide, or Protein.edges.csv\n",
      "out/serialization/edges/Amino Acid, Peptide, or Protein.endogenous_product_related_to.Amino Acid, Peptide, or Protein.edges.csv\n",
      "out/serialization/edges/Amino Acid, Peptide, or Protein.has_component.Amino Acid, Peptide, or Protein.edges.csv\n",
      "out/serialization/edges/Amino Acid Sequence.RN.Amino Acid, Peptide, or Protein.edges.csv\n",
      "out/serialization/edges/Amino Acid, Peptide, or Protein.part_of.Amino Acid, Peptide, or Protein.edges.csv\n",
      "out/serialization/edges/Amino Acid Sequence.RO.Amino Acid Sequence.edges.csv\n",
      "out/serialization/edges/Amino Acid, Peptide, or Protein.gene_product_has_chemical_classification.Amino Acid, Peptide, or Protein.edges.csv\n",
      "out/serialization/edges/Amino Acid Sequence.use.Amino Acid Sequence.edges.csv\n",
      "out/serialization/edges/Amino Acid, Peptide, or Protein.has_input.Amino Acid, Peptide, or Protein.edges.csv\n",
      "out/serialization/edges/Amino Acid, Peptide, or Protein.SY.Amino Acid, Peptide, or Protein.edges.csv\n",
      "out/serialization/edges/Amino Acid, Peptide, or Protein.contraindicated_class_of.Amino Acid, Peptide, or Protein.edges.csv\n",
      "out/serialization/edges/Amino Acid, Peptide, or Protein.related_to.Amino Acid, Peptide, or Protein.edges.csv\n",
      "out/serialization/edges/Amino Acid, Peptide, or Protein.constitutional_part_of.Amino Acid, Peptide, or Protein.edges.csv\n",
      "out/serialization/edges/Amino Acid Sequence.mapped_from.Amino Acid, Peptide, or Protein.edges.csv\n",
      "out/serialization/edges/Amino Acid, Peptide, or Protein.is_target.Amino Acid, Peptide, or Protein.edges.csv\n",
      "out/serialization/edges/Amino Acid, Peptide, or Protein.possibly_replaced_by.Amino Acid, Peptide, or Protein.edges.csv\n",
      "out/serialization/edges/Amino Acid, Peptide, or Protein.tradename_of.Amino Acid, Peptide, or Protein.edges.csv\n",
      "out/serialization/edges/Amino Acid, Peptide, or Protein.use.Amino Acid Sequence.edges.csv\n",
      "out/serialization/edges/Amino Acid, Peptide, or Protein.has_functional_parent.Amino Acid, Peptide, or Protein.edges.csv\n",
      "out/serialization/edges/Amino Acid Sequence.inverse_isa.Amino Acid Sequence.edges.csv\n",
      "out/serialization/edges/Amino Acid, Peptide, or Protein.input_of.Amino Acid, Peptide, or Protein.edges.csv\n",
      "out/serialization/edges/Amino Acid, Peptide, or Protein.active_moiety_of.Amino Acid, Peptide, or Protein.edges.csv\n",
      "out/serialization/edges/Amino Acid, Peptide, or Protein.has_free_acid_or_base_form.Amino Acid, Peptide, or Protein.edges.csv\n",
      "out/serialization/edges/Amino Acid Sequence.CHD.Amino Acid Sequence.edges.csv\n",
      "out/serialization/edges/Amino Acid, Peptide, or Protein.RB.Amino Acid Sequence.edges.csv\n"
     ]
    },
    {
     "data": {
      "text/plain": [
       "75964"
      ]
     },
     "execution_count": 137,
     "metadata": {},
     "output_type": "execute_result"
    }
   ],
   "source": [
    "counter = 0\n",
    "rels = set()\n",
    "for i in glob(\"out/serialization/edges/*.csv\"):\n",
    "    counter += 1\n",
    "    match = re.match(edge_pattern, i).groupdict()\n",
    "    source_type = match[\"source_type\"]\n",
    "    target_type = match[\"target_type\"]\n",
    "    relation = match[\"relation\"]\n",
    "    if (\"protein\" in source_type.lower() or \"amino\" in source_type.lower()) and (\"protein\" in target_type.lower() or \"amino\" in target_type.lower()):\n",
    "        rels.add(relation)\n",
    "        print(i)\n",
    "counter"
   ]
  },
  {
   "cell_type": "code",
   "execution_count": 138,
   "metadata": {},
   "outputs": [
    {
     "data": {
      "text/plain": [
       "{'CHD',\n",
       " 'PAR',\n",
       " 'RB',\n",
       " 'RN',\n",
       " 'RO',\n",
       " 'RQ',\n",
       " 'SY',\n",
       " 'active_ingredient_of',\n",
       " 'active_moiety_of',\n",
       " 'anatomic_structure_is_physical_part_of',\n",
       " 'based_on',\n",
       " 'chemical_or_drug_affects_gene_product',\n",
       " 'chemotherapy_regimen_has_component',\n",
       " 'complex_has_physical_part',\n",
       " 'component_of',\n",
       " 'constitutional_part_of',\n",
       " 'consumer_friendly_form_of',\n",
       " 'contained_in',\n",
       " 'contains',\n",
       " 'context',\n",
       " 'contraindicated_class_of',\n",
       " 'contraindicated_with_disease',\n",
       " 'endogenous_product_related_to',\n",
       " 'existence',\n",
       " 'form_of',\n",
       " 'gene_product_affected_by_chemical_or_drug',\n",
       " 'gene_product_has_associated_anatomy',\n",
       " 'gene_product_has_biochemical_function',\n",
       " 'gene_product_has_chemical_classification',\n",
       " 'gene_product_has_structural_domain_or_motif',\n",
       " 'gene_product_is_physical_part_of',\n",
       " 'has_active_ingredient',\n",
       " 'has_active_moiety',\n",
       " 'has_component',\n",
       " 'has_constitutional_part',\n",
       " 'has_consumer_friendly_form',\n",
       " 'has_contraindicated_class',\n",
       " 'has_contraindicated_drug',\n",
       " 'has_form',\n",
       " 'has_free_acid_or_base_form',\n",
       " 'has_functional_parent',\n",
       " 'has_gdc_value',\n",
       " 'has_ingredient',\n",
       " 'has_input',\n",
       " 'has_lab_number',\n",
       " 'has_member',\n",
       " 'has_modification',\n",
       " 'has_parent',\n",
       " 'has_part',\n",
       " 'has_physical_part_of_anatomic_structure',\n",
       " 'has_precise_ingredient',\n",
       " 'has_regional_part',\n",
       " 'has_salt_form',\n",
       " 'has_structural_class',\n",
       " 'has_target',\n",
       " 'has_tradename',\n",
       " 'ingredient_of',\n",
       " 'input_of',\n",
       " 'inverse_based_on',\n",
       " 'inverse_context',\n",
       " 'inverse_existence',\n",
       " 'inverse_has_functional_parent',\n",
       " 'inverse_is_enantiomer_of',\n",
       " 'inverse_isa',\n",
       " 'inverse_member',\n",
       " 'inverse_method',\n",
       " 'inverse_modification',\n",
       " 'inverse_sequence',\n",
       " 'inverse_was_a',\n",
       " 'is_associated_anatomy_of_gene_product',\n",
       " 'is_biochemical_function_of_gene_product',\n",
       " 'is_chemical_classification_of_gene_product',\n",
       " 'is_component_of_chemotherapy_regimen',\n",
       " 'is_enantiomer_of',\n",
       " 'is_evidence_for',\n",
       " 'is_modification_of',\n",
       " 'is_related_to_endogenous_product',\n",
       " 'is_structural_domain_or_motif_of_gene_product',\n",
       " 'is_target',\n",
       " 'is_value_for_gdc_property',\n",
       " 'isa',\n",
       " 'lab_number_of',\n",
       " 'mapped_from',\n",
       " 'mapped_to',\n",
       " 'member',\n",
       " 'member_of',\n",
       " 'method',\n",
       " 'modification',\n",
       " 'parent_of',\n",
       " 'part_of',\n",
       " 'possibly_equivalent_to',\n",
       " 'possibly_replaced_by',\n",
       " 'possibly_replaces',\n",
       " 'precise_ingredient_of',\n",
       " 'referred_to_by',\n",
       " 'refers_to',\n",
       " 'regional_part_of',\n",
       " 'related_part',\n",
       " 'related_to',\n",
       " 'replaced_by',\n",
       " 'replaces',\n",
       " 'same_as',\n",
       " 'see',\n",
       " 'see_from',\n",
       " 'sequence',\n",
       " 'structural_class_of',\n",
       " 'substance_used_by',\n",
       " 'tradename_of',\n",
       " 'use',\n",
       " 'used_for',\n",
       " 'uses_substance',\n",
       " 'was_a'}"
      ]
     },
     "execution_count": 138,
     "metadata": {},
     "output_type": "execute_result"
    }
   ],
   "source": [
    "rels"
   ]
  },
  {
   "cell_type": "code",
   "execution_count": 127,
   "metadata": {},
   "outputs": [
    {
     "data": {
      "text/html": [
       "<div>\n",
       "<style scoped>\n",
       "    .dataframe tbody tr th:only-of-type {\n",
       "        vertical-align: middle;\n",
       "    }\n",
       "\n",
       "    .dataframe tbody tr th {\n",
       "        vertical-align: top;\n",
       "    }\n",
       "\n",
       "    .dataframe thead th {\n",
       "        text-align: right;\n",
       "    }\n",
       "</style>\n",
       "<table border=\"1\" class=\"dataframe\">\n",
       "  <thead>\n",
       "    <tr style=\"text-align: right;\">\n",
       "      <th></th>\n",
       "      <th>source</th>\n",
       "      <th>relation</th>\n",
       "      <th>target</th>\n",
       "      <th>source_label</th>\n",
       "      <th>target_label</th>\n",
       "      <th>SAB</th>\n",
       "      <th>evidence</th>\n",
       "    </tr>\n",
       "  </thead>\n",
       "  <tbody>\n",
       "    <tr>\n",
       "      <th>0</th>\n",
       "      <td>C1449226</td>\n",
       "      <td>gene_product_has_associated_anatomy</td>\n",
       "      <td>C0022009</td>\n",
       "      <td>TRPC6 protein, human</td>\n",
       "      <td>Ion Channel</td>\n",
       "      <td>NCI</td>\n",
       "      <td>NaN</td>\n",
       "    </tr>\n",
       "    <tr>\n",
       "      <th>1</th>\n",
       "      <td>C3890928</td>\n",
       "      <td>gene_product_has_associated_anatomy</td>\n",
       "      <td>C0028623</td>\n",
       "      <td>Histone H2B Type 1-D, human</td>\n",
       "      <td>Nucleosomes</td>\n",
       "      <td>NCI</td>\n",
       "      <td>NaN</td>\n",
       "    </tr>\n",
       "    <tr>\n",
       "      <th>2</th>\n",
       "      <td>C2986623</td>\n",
       "      <td>gene_product_has_associated_anatomy</td>\n",
       "      <td>C0022009</td>\n",
       "      <td>Potassium Channel Subfamily K Member 18</td>\n",
       "      <td>Ion Channel</td>\n",
       "      <td>NCI</td>\n",
       "      <td>NaN</td>\n",
       "    </tr>\n",
       "    <tr>\n",
       "      <th>3</th>\n",
       "      <td>C0086411</td>\n",
       "      <td>gene_product_has_associated_anatomy</td>\n",
       "      <td>C0028623</td>\n",
       "      <td>Histone H2b</td>\n",
       "      <td>Nucleosomes</td>\n",
       "      <td>NCI</td>\n",
       "      <td>NaN</td>\n",
       "    </tr>\n",
       "    <tr>\n",
       "      <th>4</th>\n",
       "      <td>C5202827</td>\n",
       "      <td>gene_product_has_associated_anatomy</td>\n",
       "      <td>C0008546</td>\n",
       "      <td>Histone H2B Type 2-F</td>\n",
       "      <td>Chromatin</td>\n",
       "      <td>NCI</td>\n",
       "      <td>NaN</td>\n",
       "    </tr>\n",
       "  </tbody>\n",
       "</table>\n",
       "</div>"
      ],
      "text/plain": [
       "     source                             relation    target  \\\n",
       "0  C1449226  gene_product_has_associated_anatomy  C0022009   \n",
       "1  C3890928  gene_product_has_associated_anatomy  C0028623   \n",
       "2  C2986623  gene_product_has_associated_anatomy  C0022009   \n",
       "3  C0086411  gene_product_has_associated_anatomy  C0028623   \n",
       "4  C5202827  gene_product_has_associated_anatomy  C0008546   \n",
       "\n",
       "                              source_label target_label  SAB  evidence  \n",
       "0                     TRPC6 protein, human  Ion Channel  NCI       NaN  \n",
       "1              Histone H2B Type 1-D, human  Nucleosomes  NCI       NaN  \n",
       "2  Potassium Channel Subfamily K Member 18  Ion Channel  NCI       NaN  \n",
       "3                              Histone H2b  Nucleosomes  NCI       NaN  \n",
       "4                     Histone H2B Type 2-F    Chromatin  NCI       NaN  "
      ]
     },
     "execution_count": 127,
     "metadata": {},
     "output_type": "execute_result"
    }
   ],
   "source": [
    "filename = \"out/serialization/edges/Amino Acid, Peptide, or Protein.gene_product_has_associated_anatomy.Amino Acid, Peptide, or Protein.edges.csv\"\n",
    "pd.read_csv(filename).head()"
   ]
  },
  {
   "cell_type": "code",
   "execution_count": 139,
   "metadata": {},
   "outputs": [
    {
     "data": {
      "text/plain": [
       "75964"
      ]
     },
     "execution_count": 139,
     "metadata": {},
     "output_type": "execute_result"
    }
   ],
   "source": [
    "counter = 0\n",
    "rels = set()\n",
    "for i in glob(\"out/serialization/edges/*.csv\"):\n",
    "    counter += 1\n",
    "    match = re.match(edge_pattern, i).groupdict()\n",
    "    source_type = match[\"source_type\"]\n",
    "    target_type = match[\"target_type\"]\n",
    "    relation = match[\"relation\"]\n",
    "    if \"idg\" in i.lower():\n",
    "        rels.add(relation)\n",
    "        print(i)\n",
    "counter"
   ]
  },
  {
   "cell_type": "code",
   "execution_count": 141,
   "metadata": {},
   "outputs": [
    {
     "name": "stdout",
     "output_type": "stream",
     "text": [
      "out/dd/edges/Drug.indication.Therapeutic or Preventive Procedure.edges.csv IDGD\n",
      "out/dd/edges/Drug.indication.Organ or Tissue Function.edges.csv IDGD\n",
      "out/dd/edges/Drug.indication.Indicator, Reagent, or Diagnostic Aid.edges.csv IDGD\n",
      "out/dd/edges/Drug.indication.Disease or Syndrome.edges.csv IDGD\n",
      "out/dd/edges/Drug.indication.Organism Function.edges.csv IDGD\n",
      "out/dd/edges/Drug.indication.Pathologic Function.edges.csv IDGD\n",
      "out/dd/edges/Drug.indication.Bacterium.edges.csv IDGD\n",
      "out/dd/edges/Drug.indication.Laboratory Procedure.edges.csv IDGD\n",
      "out/dd/edges/Drug.indication.SNOMEDCT_US.edges.csv IDGD\n",
      "out/dd/edges/Drug.indication.Pharmacologic Substance.edges.csv IDGD\n",
      "out/dd/edges/Drug.indication.Functional Concept.edges.csv IDGD\n",
      "out/dd/edges/Drug.indication.Hazardous or Poisonous Substance.edges.csv IDGD\n",
      "out/dd/edges/Drug.indication.Diagnostic Procedure.edges.csv IDGD\n",
      "out/dd/edges/Drug.indication.Plant.edges.csv IDGD\n",
      "out/dd/edges/Drug.indication.Health Care Activity.edges.csv IDGD\n",
      "out/dd/edges/Drug.indication.Congenital Abnormality.edges.csv IDGD\n",
      "out/dd/edges/Drug.indication.Substance.edges.csv IDGD\n",
      "out/dd/edges/Drug.indication.Injury or Poisoning.edges.csv IDGD\n",
      "out/dd/edges/Drug.indication.Mental or Behavioral Dysfunction.edges.csv IDGD\n",
      "out/dd/edges/Drug.indication.Sign or Symptom.edges.csv IDGD\n",
      "out/dd/edges/Drug.indication.Neoplastic Process.edges.csv IDGD\n",
      "out/dd/edges/Drug.indication.Anatomical Abnormality.edges.csv IDGD\n",
      "out/dd/edges/Drug.indication.Organism Attribute.edges.csv IDGD\n",
      "out/dd/edges/Drug.bioactivity.UNIPROTKB.edges.csv IDGP\n",
      "out/dd/edges/Drug.indication.Finding.edges.csv IDGD\n",
      "out/dd/edges/Drug.indication.Acquired Abnormality.edges.csv IDGD\n"
     ]
    },
    {
     "data": {
      "text/plain": [
       "331"
      ]
     },
     "execution_count": 141,
     "metadata": {},
     "output_type": "execute_result"
    }
   ],
   "source": [
    "counter = 0\n",
    "rels = set()\n",
    "for i in glob(\"out/dd/edges/*.csv\"):\n",
    "    counter += 1\n",
    "    match = re.match(edge_pattern, i).groupdict()\n",
    "    source_type = match[\"source_type\"]\n",
    "    target_type = match[\"target_type\"]\n",
    "    relation = match[\"relation\"]\n",
    "    df = pd.read_csv(i)\n",
    "    if \"idg\" in df.at[0, \"SAB\"].lower():\n",
    "        rels.add(relation)\n",
    "        print(i, df.at[0, \"SAB\"])\n",
    "counter"
   ]
  },
  {
   "cell_type": "code",
   "execution_count": 7,
   "metadata": {},
   "outputs": [],
   "source": [
    "import datetime\n",
    "import pandas as pd"
   ]
  },
  {
   "cell_type": "code",
   "execution_count": 8,
   "metadata": {},
   "outputs": [
    {
     "data": {
      "text/html": [
       "<div>\n",
       "<style scoped>\n",
       "    .dataframe tbody tr th:only-of-type {\n",
       "        vertical-align: middle;\n",
       "    }\n",
       "\n",
       "    .dataframe tbody tr th {\n",
       "        vertical-align: top;\n",
       "    }\n",
       "\n",
       "    .dataframe thead th {\n",
       "        text-align: right;\n",
       "    }\n",
       "</style>\n",
       "<table border=\"1\" class=\"dataframe\">\n",
       "  <thead>\n",
       "    <tr style=\"text-align: right;\">\n",
       "      <th></th>\n",
       "      <th>tool_homepage_url</th>\n",
       "      <th>url_status</th>\n",
       "      <th>Tool_Name</th>\n",
       "      <th>Tool_Description</th>\n",
       "      <th>PMID</th>\n",
       "      <th>DOI</th>\n",
       "      <th>Article_Title</th>\n",
       "      <th>Abstract</th>\n",
       "      <th>Author_Information</th>\n",
       "      <th>Publication_Type</th>\n",
       "      <th>...</th>\n",
       "      <th>Cited_By_Posts_Count</th>\n",
       "      <th>Twitter_accounts_that_tweeted_this_publication</th>\n",
       "      <th>Users_who_mentioned_the_publication_on_Twitter</th>\n",
       "      <th>Scientists_who_mentioned_the_publication_on_Twitter</th>\n",
       "      <th>News_sources_that_mentioned_the_publication</th>\n",
       "      <th>Mentions_in_social_media</th>\n",
       "      <th>Facebook_Shares</th>\n",
       "      <th>is_tool</th>\n",
       "      <th>Country</th>\n",
       "      <th>Year</th>\n",
       "    </tr>\n",
       "  </thead>\n",
       "  <tbody>\n",
       "    <tr>\n",
       "      <th>0</th>\n",
       "      <td>https://github.com/Bhattacharya-Lab/rrQNet</td>\n",
       "      <td>200</td>\n",
       "      <td>rrQNet</td>\n",
       "      <td>Protein contact map quality estimation by deep...</td>\n",
       "      <td>35751651</td>\n",
       "      <td>10.1002/prot.26394</td>\n",
       "      <td>rrQNet: Protein contact map quality estimation...</td>\n",
       "      <td>Protein contact maps have proven to be a val...</td>\n",
       "      <td>[{'Identifier': [], 'AffiliationInfo': [{'Iden...</td>\n",
       "      <td>['Journal Article', 'Research Support, N.I.H.,...</td>\n",
       "      <td>...</td>\n",
       "      <td>1.0</td>\n",
       "      <td>NaN</td>\n",
       "      <td>NaN</td>\n",
       "      <td>NaN</td>\n",
       "      <td>NaN</td>\n",
       "      <td>NaN</td>\n",
       "      <td>NaN</td>\n",
       "      <td>1</td>\n",
       "      <td>USA</td>\n",
       "      <td>2023</td>\n",
       "    </tr>\n",
       "    <tr>\n",
       "      <th>1</th>\n",
       "      <td>http://trams.chem.uoa.gr/semiquantification/</td>\n",
       "      <td>200</td>\n",
       "      <td>semiquantification</td>\n",
       "      <td>First Novel Workflow for Semiquantification of...</td>\n",
       "      <td>35760399</td>\n",
       "      <td>10.1021/acs.analchem.2c01432</td>\n",
       "      <td>First Novel Workflow for Semiquantification of...</td>\n",
       "      <td>The ionization efficiency of emerging contam...</td>\n",
       "      <td>[{'Identifier': ['0000-0001-9167-9060'], 'Affi...</td>\n",
       "      <td>['Journal Article', \"Research Support, Non-U.S...</td>\n",
       "      <td>...</td>\n",
       "      <td>28.0</td>\n",
       "      <td>NaN</td>\n",
       "      <td>NaN</td>\n",
       "      <td>NaN</td>\n",
       "      <td>NaN</td>\n",
       "      <td>NaN</td>\n",
       "      <td>NaN</td>\n",
       "      <td>1</td>\n",
       "      <td>Greece</td>\n",
       "      <td>2023</td>\n",
       "    </tr>\n",
       "    <tr>\n",
       "      <th>2</th>\n",
       "      <td>https://NationalGenomicsCenter.shinyapps.io/eD...</td>\n",
       "      <td>405</td>\n",
       "      <td>eDNAssay</td>\n",
       "      <td>A machine learning tool that accurately predic...</td>\n",
       "      <td>35778862</td>\n",
       "      <td>10.1111/1755-0998.13681</td>\n",
       "      <td>eDNAssay: A machine learning tool that accurat...</td>\n",
       "      <td>Environmental DNA  eDNA  sampling is a highl...</td>\n",
       "      <td>[{'Identifier': ['0000-0003-3588-7572'], 'Affi...</td>\n",
       "      <td>['Journal Article']</td>\n",
       "      <td>...</td>\n",
       "      <td>59.0</td>\n",
       "      <td>NaN</td>\n",
       "      <td>NaN</td>\n",
       "      <td>NaN</td>\n",
       "      <td>NaN</td>\n",
       "      <td>NaN</td>\n",
       "      <td>NaN</td>\n",
       "      <td>1</td>\n",
       "      <td>USA</td>\n",
       "      <td>2023</td>\n",
       "    </tr>\n",
       "    <tr>\n",
       "      <th>3</th>\n",
       "      <td>https://www.humanmine.org</td>\n",
       "      <td>200</td>\n",
       "      <td>HumanMine</td>\n",
       "      <td>advanced data searching  analysis and cross-sp...</td>\n",
       "      <td>35820040</td>\n",
       "      <td>10.1093/database/baac054</td>\n",
       "      <td>HumanMine: advanced data searching  analysis a...</td>\n",
       "      <td>HumanMine  www.humanmine.org  is an integrat...</td>\n",
       "      <td>[{'Identifier': ['0000-0001-8050-402X'], 'Affi...</td>\n",
       "      <td>['Journal Article', \"Research Support, Non-U.S...</td>\n",
       "      <td>...</td>\n",
       "      <td>10.0</td>\n",
       "      <td>NaN</td>\n",
       "      <td>NaN</td>\n",
       "      <td>NaN</td>\n",
       "      <td>NaN</td>\n",
       "      <td>NaN</td>\n",
       "      <td>NaN</td>\n",
       "      <td>1</td>\n",
       "      <td>UK</td>\n",
       "      <td>2023</td>\n",
       "    </tr>\n",
       "    <tr>\n",
       "      <th>4</th>\n",
       "      <td>https://github.com/scDLC-code/code</td>\n",
       "      <td>301</td>\n",
       "      <td>scDLC</td>\n",
       "      <td>a deep learning framework to classify large sa...</td>\n",
       "      <td>35831808</td>\n",
       "      <td>10.1186/s12864-022-08715-1</td>\n",
       "      <td>scDLC: a deep learning framework to classify l...</td>\n",
       "      <td>Using single-cell RNA sequencing  scRNA-seq ...</td>\n",
       "      <td>[{'Identifier': [], 'AffiliationInfo': [{'Iden...</td>\n",
       "      <td>['Journal Article']</td>\n",
       "      <td>...</td>\n",
       "      <td>10.0</td>\n",
       "      <td>NaN</td>\n",
       "      <td>NaN</td>\n",
       "      <td>NaN</td>\n",
       "      <td>NaN</td>\n",
       "      <td>NaN</td>\n",
       "      <td>NaN</td>\n",
       "      <td>1</td>\n",
       "      <td>China</td>\n",
       "      <td>2023</td>\n",
       "    </tr>\n",
       "  </tbody>\n",
       "</table>\n",
       "<p>5 rows × 36 columns</p>\n",
       "</div>"
      ],
      "text/plain": [
       "                                   tool_homepage_url  url_status  \\\n",
       "0         https://github.com/Bhattacharya-Lab/rrQNet         200   \n",
       "1       http://trams.chem.uoa.gr/semiquantification/         200   \n",
       "2  https://NationalGenomicsCenter.shinyapps.io/eD...         405   \n",
       "3                          https://www.humanmine.org         200   \n",
       "4                 https://github.com/scDLC-code/code         301   \n",
       "\n",
       "            Tool_Name                                   Tool_Description  \\\n",
       "0              rrQNet  Protein contact map quality estimation by deep...   \n",
       "1  semiquantification  First Novel Workflow for Semiquantification of...   \n",
       "2            eDNAssay  A machine learning tool that accurately predic...   \n",
       "3           HumanMine  advanced data searching  analysis and cross-sp...   \n",
       "4               scDLC  a deep learning framework to classify large sa...   \n",
       "\n",
       "       PMID                           DOI  \\\n",
       "0  35751651            10.1002/prot.26394   \n",
       "1  35760399  10.1021/acs.analchem.2c01432   \n",
       "2  35778862       10.1111/1755-0998.13681   \n",
       "3  35820040      10.1093/database/baac054   \n",
       "4  35831808    10.1186/s12864-022-08715-1   \n",
       "\n",
       "                                       Article_Title  \\\n",
       "0  rrQNet: Protein contact map quality estimation...   \n",
       "1  First Novel Workflow for Semiquantification of...   \n",
       "2  eDNAssay: A machine learning tool that accurat...   \n",
       "3  HumanMine: advanced data searching  analysis a...   \n",
       "4  scDLC: a deep learning framework to classify l...   \n",
       "\n",
       "                                            Abstract  \\\n",
       "0    Protein contact maps have proven to be a val...   \n",
       "1    The ionization efficiency of emerging contam...   \n",
       "2    Environmental DNA  eDNA  sampling is a highl...   \n",
       "3    HumanMine  www.humanmine.org  is an integrat...   \n",
       "4    Using single-cell RNA sequencing  scRNA-seq ...   \n",
       "\n",
       "                                  Author_Information  \\\n",
       "0  [{'Identifier': [], 'AffiliationInfo': [{'Iden...   \n",
       "1  [{'Identifier': ['0000-0001-9167-9060'], 'Affi...   \n",
       "2  [{'Identifier': ['0000-0003-3588-7572'], 'Affi...   \n",
       "3  [{'Identifier': ['0000-0001-8050-402X'], 'Affi...   \n",
       "4  [{'Identifier': [], 'AffiliationInfo': [{'Iden...   \n",
       "\n",
       "                                    Publication_Type  ...  \\\n",
       "0  ['Journal Article', 'Research Support, N.I.H.,...  ...   \n",
       "1  ['Journal Article', \"Research Support, Non-U.S...  ...   \n",
       "2                                ['Journal Article']  ...   \n",
       "3  ['Journal Article', \"Research Support, Non-U.S...  ...   \n",
       "4                                ['Journal Article']  ...   \n",
       "\n",
       "  Cited_By_Posts_Count Twitter_accounts_that_tweeted_this_publication  \\\n",
       "0                  1.0                                            NaN   \n",
       "1                 28.0                                            NaN   \n",
       "2                 59.0                                            NaN   \n",
       "3                 10.0                                            NaN   \n",
       "4                 10.0                                            NaN   \n",
       "\n",
       "   Users_who_mentioned_the_publication_on_Twitter  \\\n",
       "0                                             NaN   \n",
       "1                                             NaN   \n",
       "2                                             NaN   \n",
       "3                                             NaN   \n",
       "4                                             NaN   \n",
       "\n",
       "  Scientists_who_mentioned_the_publication_on_Twitter  \\\n",
       "0                                                NaN    \n",
       "1                                                NaN    \n",
       "2                                                NaN    \n",
       "3                                                NaN    \n",
       "4                                                NaN    \n",
       "\n",
       "  News_sources_that_mentioned_the_publication  Mentions_in_social_media  \\\n",
       "0                                         NaN                       NaN   \n",
       "1                                         NaN                       NaN   \n",
       "2                                         NaN                       NaN   \n",
       "3                                         NaN                       NaN   \n",
       "4                                         NaN                       NaN   \n",
       "\n",
       "   Facebook_Shares  is_tool Country  Year  \n",
       "0              NaN        1     USA  2023  \n",
       "1              NaN        1  Greece  2023  \n",
       "2              NaN        1     USA  2023  \n",
       "3              NaN        1      UK  2023  \n",
       "4              NaN        1   China  2023  \n",
       "\n",
       "[5 rows x 36 columns]"
      ]
     },
     "execution_count": 8,
     "metadata": {},
     "output_type": "execute_result"
    }
   ],
   "source": [
    "df = pd.read_csv(\"/Users/maayanlab/Downloads/classified_tools (2).csv\") \n",
    "df.head()"
   ]
  },
  {
   "cell_type": "code",
   "execution_count": 11,
   "metadata": {},
   "outputs": [],
   "source": [
    "df = df[['Tool_Name', 'PMID', 'Last_Updated', 'Added_On', 'Published_On']].head()"
   ]
  },
  {
   "cell_type": "code",
   "execution_count": 13,
   "metadata": {},
   "outputs": [
    {
     "data": {
      "text/plain": [
       "35751651"
      ]
     },
     "execution_count": 13,
     "metadata": {},
     "output_type": "execute_result"
    }
   ],
   "source": [
    "df.at[0, 'PMID']"
   ]
  },
  {
   "cell_type": "code",
   "execution_count": 20,
   "metadata": {},
   "outputs": [
    {
     "data": {
      "text/plain": [
       "7"
      ]
     },
     "execution_count": 20,
     "metadata": {},
     "output_type": "execute_result"
    }
   ],
   "source": [
    "t = df.at[0, 'Published_On']\n",
    "datetime.datetime.fromtimestamp(t).date().month"
   ]
  },
  {
   "cell_type": "code",
   "execution_count": null,
   "metadata": {},
   "outputs": [],
   "source": [
    "sabs = set()\n",
    "with open(\"neo4j/import/CUI-CUIs.csv\") as o:\n",
    "    csv_reader = csv.reader(o)\n",
    "    headers = None\n",
    "    for row in tqdm(csv_reader):\n",
    "        if not headers:\n",
    "            headers = row\n",
    "        else:\n",
    "            print(row)\n",
    "            break"
   ]
  },
  {
   "cell_type": "code",
   "execution_count": null,
   "metadata": {},
   "outputs": [],
   "source": [
    "import pandas as pd"
   ]
  },
  {
   "cell_type": "code",
   "execution_count": null,
   "metadata": {},
   "outputs": [],
   "source": [
    "pd.read_csv(\"out/0802/filtered/edges/GTEXEQTL.p value.PVALUEBINS.edges.csv\").head()"
   ]
  },
  {
   "cell_type": "code",
   "execution_count": 1,
   "metadata": {},
   "outputs": [],
   "source": [
    "import requests"
   ]
  },
  {
   "cell_type": "code",
   "execution_count": 11,
   "metadata": {},
   "outputs": [],
   "source": [
    "\n",
    "base_url = \"http://ec2-44-200-7-229.compute-1.amazonaws.com/speedrichr\"\n",
    "\n",
    "genes = [\n",
    "    'PHF14', 'RBM3', 'MSL1', 'PHF21A', 'ARL10', 'INSR', 'JADE2', 'P2RX7',\n",
    "    'LINC00662', 'CCDC101', 'PPM1B', 'KANSL1L', 'CRYZL1', 'ANAPC16', 'TMCC1',\n",
    "    'CDH8', 'RBM11', 'CNPY2', 'HSPA1L', 'CUL2', 'PLBD2', 'LARP7', 'TECPR2', \n",
    "    'ZNF302', 'CUX1', 'MOB2', 'CYTH2', 'SEC22C', 'EIF4E3', 'ROBO2',\n",
    "    'ADAMTS9-AS2', 'CXXC1', 'LINC01314', 'ATF7', 'ATP5F1'\n",
    "]\n",
    "background = [\n",
    "\t'NSUN3','POLRMT','NLRX1','SFXN5','ZC3H12C','SLC25A39','ARSG',\n",
    "\t'DEFB29','PCMTD2','ACAA1A','LRRC1','2810432D09RIK','SEPHS2',\n",
    "\t'SAC3D1','TMLHE','LOC623451','TSR2','PLEKHA7','GYS2','ARHGEF12',\n",
    "\t'HIBCH','LYRM2','ZBTB44','ENTPD5','RAB11FIP2','LIPT1',\n",
    "\t'INTU','ANXA13','KLF12','SAT2','GAL3ST2','VAMP8','FKBPL',\n",
    "\t'AQP11','TRAP1','PMPCB','TM7SF3','RBM39','BRI3','KDR','ZFP748',\n",
    "\t'NAP1L1','DHRS1','LRRC56','WDR20A','STXBP2','KLF1','UFC1',\n",
    "\t'CCDC16','9230114K14RIK','RWDD3','2610528K11RIK','ACO1',\n",
    "\t'CABLES1', 'LOC100047214','YARS2','LYPLA1','KALRN','GYK',\n",
    "\t'ZFP787','ZFP655','RABEPK','ZFP650','4732466D17RIK','EXOSC4',\n",
    "\t'WDR42A','GPHN','2610528J11RIK','1110003E01RIK','MDH1','1200014M14RIK',\n",
    "\t'AW209491','MUT','1700123L14RIK','2610036D13RIK',\n",
    "\t'PHF14', 'RBM3', 'MSL1', 'PHF21A', 'ARL10', 'INSR', 'JADE2', \n",
    "\t'P2RX7', 'LINC00662', 'CCDC101', 'PPM1B', 'KANSL1L', 'CRYZL1', \n",
    "\t'ANAPC16', 'TMCC1','CDH8', 'RBM11', 'CNPY2', 'HSPA1L', 'CUL2', \n",
    "\t'PLBD2', 'LARP7', 'TECPR2', 'ZNF302', 'CUX1', 'MOB2', 'CYTH2', \n",
    "\t'SEC22C', 'EIF4E3', 'ROBO2', 'ADAMTS9-AS2', 'CXXC1', 'LINC01314', 'ATF7', \n",
    "\t'ATP5F1''COX15','TMEM30A','NSMCE4A','TM2D2','RHBDD3','ATXN2','NFS1',\n",
    "\t'3110001I20RIK','BC038156','C330002I19RIK','ZFYVE20','POLI','TOMM70A',\n",
    "\t'LOC100047782','2410012H22RIK','RILP','A230062G08RIK',\n",
    "\t'PTTG1IP','RAB1','AFAP1L1', 'LYRM5','2310026E23RIK',\n",
    "\t'SLC7A6OS','MAT2B','4932438A13RIK','LRRC8A','SMO','NUPL2'\n",
    "]\n",
    "\n",
    "library = \"ChEA_2022\"\n",
    "description = \"sample gene set with background\"\n",
    "userlist_response = requests.post(\n",
    "    base_url+'/api/addList',\n",
    "    files=dict(\n",
    "      list=(None, '\\n'.join(genes)),\n",
    "      description=(None, description),\n",
    "    )\n",
    "  ).json()"
   ]
  },
  {
   "cell_type": "code",
   "execution_count": 12,
   "metadata": {},
   "outputs": [
    {
     "data": {
      "text/plain": [
       "{'userListId': 667152768, 'shortId': '27c3f180'}"
      ]
     },
     "execution_count": 12,
     "metadata": {},
     "output_type": "execute_result"
    }
   ],
   "source": [
    "userlist_response"
   ]
  },
  {
   "cell_type": "code",
   "execution_count": 13,
   "metadata": {},
   "outputs": [
    {
     "name": "stdout",
     "output_type": "stream",
     "text": [
      "{'ChEA_2022': [[1, 'VDR 24787735 ChIP-Seq THP-1 Human', 0.000842494387359289, 13.092592592592593, 92.6843425047622, ['P2RX7', 'ROBO2', 'CUX1', 'INSR', 'CRYZL1', 'CUL2', 'TMCC1'], 0.5054966324155734, 0, 0], [2, 'VDR 24763502 ChIP-Seq THP-1 Human', 0.0030556207159606777, 10.821428571428571, 62.66443127053085, ['P2RX7', 'ROBO2', 'CUX1', 'INSR', 'CRYZL1', 'ATF7'], 0.8705497905175607, 0, 0], [3, 'AR 27623747 ChIP-Seq 22Rv1 Mouse Prostate Carcinoma', 0.006587337926355807, 4.9743589743589745, 24.98424507470899, ['CYTH2', 'MOB2', 'CUL2', 'CXXC1', 'TMCC1', 'KANSL1L', 'PHF21A', 'SEC22C'], 0.8705497905175607, 0, 0], [4, 'PHOX2B 30127528 ChIP-Seq KELLY Human BrainNeuroblastoma', 0.011529666607536841, 4.21978021978022, 18.832169608455832, ['ROBO2', 'ANAPC16', 'CRYZL1', 'PHF14', 'ATF7', 'TMCC1', 'KANSL1L', 'CDH8'], 0.8705497905175607, 0, 0], [5, 'GLI1 17442700 ChIP-ChIP MESCs Mouse', 0.014274005241901594, inf, inf, ['ROBO2', 'PHF21A', 'CDH8'], 0.8705497905175607, 0, 0], [6, 'BRD4 28847988 ChIP-Seq BCBL1 Human Blood Lymphoma', 0.014274005241901594, inf, inf, ['CUX1', 'PHF21A', 'MSL1'], 0.8705497905175607, 0, 0], [7, 'POU2F1 35413990 ChIP-Seq Human ARposCRProstateCancer', 0.014274005241901594, inf, inf, ['ANAPC16', 'CRYZL1', 'KANSL1L'], 0.8705497905175607, 0, 0], [8, 'FOXH1 21741376 ChIP-Seq EPCs Human', 0.01526246766312718, 5.303571428571429, 22.18143735363733, ['RBM3', 'ARL10', 'CUX1', 'CXXC1', 'TMCC1', 'RBM11'], 0.8705497905175607, 0, 0], [9, 'SMC3 22415368 ChIP-Seq MEFs Mouse', 0.02274495914462972, 5.747126436781609, 21.7437455988334, ['ROBO2', 'EIF4E3', 'ANAPC16', 'TMCC1', 'PLBD2'], 0.8705497905175607, 0, 0], [10, 'OCT1 27270436 Chip-Seq PROSTATE Human', 0.02274495914462972, 5.747126436781609, 21.7437455988334, ['P2RX7', 'HSPA1L', 'TMCC1', 'TECPR2', 'SEC22C'], 0.8705497905175607, 0, 0], [11, 'TCF4 23295773 ChIP-Seq U87 Human', 0.02592404065798786, 2.8846153846153846, 10.536301529032837, ['ROBO2', 'PPM1B', 'CUX1', 'CRYZL1', 'CUL2', 'PHF14', 'CXXC1', 'PHF21A', 'CDH8', 'MSL1'], 0.8705497905175607, 0, 0], [12, 'DMRT1 23473982 ChIP-Seq TESTES Mouse', 0.028999613825035127, 3.213675213675214, 11.377929571058736, ['P2RX7', 'ROBO2', 'EIF4E3', 'CUX1', 'INSR', 'LARP7', 'ATF7', 'MSL1'], 0.8705497905175607, 0, 0], [13, 'LMO2 26923725 Chip-Seq HEMOGENIC-ENDOTHELIUM Mouse', 0.02910244310425482, 3.5555555555555554, 12.57576232126606, ['P2RX7', 'PPM1B', 'CUX1', 'INSR', 'CRYZL1', 'ATF7', 'PHF21A'], 0.8705497905175607, 0, 0], [14, 'RUNX2 24655370 ChIP-Seq MC3T3E1 Mouse Bone', 0.029407501644410628, 2.4347826086956523, 8.586274210254354, ['ARL10', 'EIF4E3', 'INSR', 'LARP7', 'PHF21A', 'MSL1', 'CYTH2', 'CUX1', 'MOB2', 'PHF14', 'TMCC1', 'TECPR2', 'PLBD2', 'SEC22C'], 0.8705497905175607, 0, 0], [15, 'BCAT 22108803 ChIP-Seq LS180 Human', 0.033292861668360076, 6.733333333333333, 22.909575946542994, ['PPM1B', 'CXXC1', 'CDH8', 'PLBD2'], 0.8705497905175607, 0, 0], [16, 'ERA 27197147 Chip-Seq ENDOMETRIOID-ADENOCARCINOMA Human', 0.033292861668360076, 6.733333333333333, 22.909575946542994, ['ROBO2', 'PPM1B', 'CUX1', 'MOB2'], 0.8705497905175607, 0, 0], [17, 'SOX11 22085726 ChIP-Seq ESNs Mouse', 0.033292861668360076, 6.733333333333333, 22.909575946542994, ['P2RX7', 'CNPY2', 'TECPR2', 'SEC22C'], 0.8705497905175607, 0, 0], [18, 'ZBTB16 27035670 ChIP-Seq hESC Human Endometrial', 0.033292861668360076, 6.733333333333333, 22.909575946542994, ['PPM1B', 'CNPY2', 'ATF7', 'ZNF302'], 0.8705497905175607, 0, 0], [19, 'CDX2 22108803 ChIP-Seq LS180 Human', 0.04182382752918618, 4.267241379310345, 13.545457649243062, ['P2RX7', 'PPM1B', 'MOB2', 'CXXC1', 'TMCC1'], 0.8705497905175607, 0, 0], [20, 'PADI4 21655091 ChIP-ChIP MCF-7 Human', 0.04182382752918618, 4.267241379310345, 13.545457649243062, ['PPM1B', 'CRYZL1', 'PHF14', 'LARP7', 'ATF7'], 0.8705497905175607, 0, 0], [21, 'MEIS1 20887958 ChIP-Seq HPC-7 Mouse', 0.04182382752918618, 4.267241379310345, 13.545457649243062, ['CUX1', 'CXXC1', 'TMCC1', 'PHF21A', 'SEC22C'], 0.8705497905175607, 0, 0], [22, 'ISL1 27105846 Chip-Seq CPCs Mouse', 0.04182382752918618, 4.267241379310345, 13.545457649243062, ['ROBO2', 'CYTH2', 'CUX1', 'INSR', 'MSL1'], 0.8705497905175607, 0, 0], [23, 'ETS1 20019798 ChIP-Seq JURKAT Human', 0.04182382752918618, 4.267241379310345, 13.545457649243062, ['CXXC1', 'LARP7', 'CNPY2', 'ZNF302', 'PHF21A'], 0.8705497905175607, 0, 0], [24, 'FOXA1 26743006 Chip-Seq LNCaP-abl Human', 0.0444786441257573, 3.0787037037037037, 9.58322298459238, ['PPM1B', 'ANAPC16', 'INSR', 'CUL2', 'CXXC1', 'PHF21A', 'MSL1'], 0.8705497905175607, 0, 0], [25, 'CREB1 23762244 ChIP-Seq HIPPOCAMPUS Rat', 0.0444786441257573, 3.0787037037037037, 9.58322298459238, ['RBM3', 'CYTH2', 'PPM1B', 'CRYZL1', 'CXXC1', 'LARP7', 'ATF7'], 0.8705497905175607, 0, 0], [26, 'SOX17 20123909 ChIP-Seq XEN Mouse', 0.044689868760363065, 3.4642857142857144, 10.767029282595004, ['ROBO2', 'PPM1B', 'INSR', 'CRYZL1', 'CXXC1', 'LARP7'], 0.8705497905175607, 0, 0], [27, 'SMARCD1 25818293 ChIP-Seq ESCs Mouse', 0.044689868760363065, 3.4642857142857144, 10.767029282595004, ['ROBO2', 'CUX1', 'CUL2', 'PHF14', 'KANSL1L', 'CDH8'], 0.8705497905175607, 0, 0], [28, 'NR1I2 20693526 ChIP-Seq LIVER Mouse', 0.047189585636851675, 9.870967741935484, 30.141809952613926, ['P2RX7', 'HSPA1L', 'INSR'], 0.8705497905175607, 0, 0], [29, 'TCF3 18692474 ChIP-Seq MESCs Mouse', 0.047189585636851675, 9.870967741935484, 30.141809952613926, ['CRYZL1', 'CUL2', 'LARP7'], 0.8705497905175607, 0, 0], [30, 'TCF3 18692474 ChIP-Seq MEFs Mouse', 0.047189585636851675, 9.870967741935484, 30.141809952613926, ['CRYZL1', 'CUL2', 'LARP7'], 0.8705497905175607, 0, 0], [31, 'CHD4 35695185 ChIP-Seq nicBasalRootGanglia Mouse Embryo', 0.05988628741288343, 2.5734265734265733, 7.244987711187346, ['ARL10', 'ROBO2', 'CUX1', 'CXXC1', 'ATF7', 'JADE2', 'TMCC1', 'KANSL1L'], 0.8705497905175607, 0, 0], [32, 'DROSHA 22980978 ChIP-Seq HELA Human', 0.06021875140234558, inf, inf, ['INSR', 'PLBD2'], 0.8705497905175607, 0, 0], [33, 'EED 16625203 ChIP-ChIP MESCs Mouse', 0.06021875140234558, inf, inf, ['HSPA1L', 'CDH8'], 0.8705497905175607, 0, 0], [34, 'JARID2 20075857 ChIP-Seq MESCs Mouse', 0.06021875140234558, inf, inf, ['CRYZL1', 'CDH8'], 0.8705497905175607, 0, 0], [35, 'SOX4 29892750 ChIP-Seq EML Mouse BoneMarrow', 0.06021875140234558, inf, inf, ['PPM1B', 'INSR'], 0.8705497905175607, 0, 0], [36, 'OCT4 19829295 ChIP-Seq ESCs Human', 0.06376457555658176, 4.444444444444445, 12.233588821756426, ['MOB2', 'CUL2', 'TMCC1', 'TECPR2'], 0.8705497905175607, 0, 0], [37, 'TAF2 19829295 ChIP-Seq ESCs Human', 0.06376457555658176, 4.444444444444445, 12.233588821756426, ['PPM1B', 'MOB2', 'CUL2', 'PHF21A'], 0.8705497905175607, 0, 0], [38, 'WT1 25993318 ChIP-Seq PODOCYTE Human', 0.0654526597682093, 2.265625, 6.177063775717482, ['ROBO2', 'PPM1B', 'ANAPC16', 'CUX1', 'INSR', 'MOB2', 'CUL2', 'TMCC1', 'KANSL1L', 'PHF21A'], 0.8705497905175607, 0, 0], [39, 'MBD3 35695185 ChIP-Seq nicBasalRootGanglia Mouse Embryo', 0.0654526597682093, 2.265625, 6.177063775717482, ['ARL10', 'EIF4E3', 'CUX1', 'CXXC1', 'ATF7', 'TMCC1', 'KANSL1L', 'PHF21A', 'CDH8', 'SEC22C'], 0.8705497905175607, 0, 0], [40, 'YAP1 20516196 ChIP-Seq MESCs Mouse', 0.06769988432255548, 2.938775510204082, 7.913155026835217, ['ARL10', 'ROBO2', 'CUX1', 'INSR', 'LARP7', 'CDH8'], 0.8705497905175607, 0, 0], [41, 'FOXA1 27270436 ChIP-Seq LNCaP Human Prostate Carcinoma', 0.06769988432255548, 2.938775510204082, 7.913155026835217, ['EIF4E3', 'PHF14', 'ATF7', 'JADE2', 'TMCC1', 'PHF21A'], 0.8705497905175607, 0, 0], [42, 'HOXB7 26014856 ChIP-Seq BT474 Human', 0.06838521935866877, 3.3793103448275863, 9.065333095079993, ['PPM1B', 'ANAPC16', 'CUX1', 'PHF14', 'PLBD2'], 0.8705497905175607, 0, 0], [43, 'STAT1 17558387 ChIP-Seq HELA Human', 0.06838521935866877, 3.3793103448275863, 9.065333095079993, ['ROBO2', 'CUX1', 'PHF14', 'TECPR2', 'CDH8'], 0.8705497905175607, 0, 0], [44, 'FLI1 21571218 ChIP-Seq MEGAKARYOCYTES Human', 0.07183132334502426, 2.0376984126984126, 5.366145585411867, ['INSR', 'CUL2', 'CXXC1', 'LARP7', 'MSL1', 'RBM3', 'P2RX7', 'CYTH2', 'PPM1B', 'CUX1', 'PHF14', 'TMCC1', 'TECPR2'], 0.8705497905175607, 0, 0], [45, 'STAT3 23295773 ChIP-Seq U87 Human', 0.0812832413895794, 2.3333333333333335, 5.856235972174457, ['ROBO2', 'CUX1', 'CUL2', 'PHF14', 'TMCC1', 'ZNF302', 'PHF21A', 'CDH8'], 0.8705497905175607, 0, 0], [46, 'OLIG2 23332759 ChIP-Seq OLIGODENDROCYTES Mouse', 0.09664798822297639, 2.544642857142857, 5.946015788005464, ['ROBO2', 'PPM1B', 'EIF4E3', 'MOB2', 'PHF14', 'CDH8'], 0.8705497905175607, 0, 0], [47, 'SPI1 23547873 ChIP-Seq NB4 Human', 0.09664798822297639, 2.544642857142857, 5.946015788005464, ['RBM3', 'PPM1B', 'PHF14', 'CXXC1', 'TMCC1', 'MSL1'], 0.8705497905175607, 0, 0], [48, 'SUZ12 20075857 ChIP-Seq MESCs Mouse', 0.09664798822297639, 2.544642857142857, 5.946015788005464, ['ROBO2', 'EIF4E3', 'HSPA1L', 'CUX1', 'CDH8', 'MSL1'], 0.8705497905175607, 0, 0], [49, 'YY1 26981420 ChIP-Seq C2C12 Mouse Muscle', 0.09664798822297639, 2.544642857142857, 5.946015788005464, ['CXXC1', 'LARP7', 'ATF7', 'TMCC1', 'PHF21A', 'MSL1'], 0.8705497905175607, 0, 0], [50, 'TAL1 30185409 ChIP-Seq HPC Mouse BoneMarrow Leukemia', 0.09664798822297639, 2.544642857142857, 5.946015788005464, ['P2RX7', 'ROBO2', 'ANAPC16', 'PHF14', 'PHF21A', 'CDH8'], 0.8705497905175607, 0, 0], [51, 'HAND2 30127528 ChIP-Seq KELLY Human Brain Neuroblastoma', 0.09664798822297639, 2.544642857142857, 5.946015788005464, ['P2RX7', 'ROBO2', 'ANAPC16', 'TMCC1', 'PHF21A', 'PLBD2'], 0.8705497905175607, 0, 0], [52, 'ELK1 19687146 ChIP-ChIP HELA Human', 0.09767672109114059, 4.887096774193548, 11.367836795720216, ['RBM3', 'ATF7', 'PHF21A'], 0.8705497905175607, 0, 0], [53, 'SUZ12 16625203 ChIP-ChIP MESCs Mouse', 0.09767672109114059, 4.887096774193548, 11.367836795720216, ['ROBO2', 'HSPA1L', 'CDH8'], 0.8705497905175607, 0, 0], [54, 'RING1B 27294783 Chip-Seq ESCs Mouse', 0.09767672109114059, 4.887096774193548, 11.367836795720216, ['ROBO2', 'ANAPC16', 'MSL1'], 0.8705497905175607, 0, 0], [55, 'JUND 26020271 ChIP-Seq HCASMC Human CoronaryArtery', 0.09767672109114059, 4.887096774193548, 11.367836795720216, ['ANAPC16', 'LARP7', 'ATF7'], 0.8705497905175607, 0, 0], [56, 'POU2F1 35413990 ChIP-Seq Human ARnegCRProstateCancer', 0.09767672109114059, 4.887096774193548, 11.367836795720216, ['EIF4E3', 'CRYZL1', 'TMCC1'], 0.8705497905175607, 0, 0], [57, 'RXRA 24833708 ChIP-Seq LIVER Mouse', 0.10254556520519266, 2.7873563218390807, 6.348059193610922, ['INSR', 'CRYZL1', 'CNPY2', 'TECPR2', 'RBM11'], 0.8705497905175607, 0, 0], [58, 'BCL6 25482012 ChIP-Seq CML-JURL-MK1 Human', 0.10254556520519266, 2.7873563218390807, 6.348059193610922, ['RBM3', 'P2RX7', 'TECPR2', 'PHF21A', 'SEC22C'], 0.8705497905175607, 0, 0], [59, 'EBNA1 20929547 Chip-Seq RAJI-cells Human', 0.10254556520519266, 2.7873563218390807, 6.348059193610922, ['CUX1', 'CXXC1', 'CNPY2', 'CDH8', 'SEC22C'], 0.8705497905175607, 0, 0], [60, 'P300 27268052 Chip-Seq Bcells Human', 0.10254556520519266, 2.7873563218390807, 6.348059193610922, ['RBM3', 'P2RX7', 'INSR', 'MOB2', 'CRYZL1'], 0.8705497905175607, 0, 0], [61, 'AR 20517297 ChIP-Seq VCAP Human', 0.10254556520519266, 2.7873563218390807, 6.348059193610922, ['CRYZL1', 'CNPY2', 'PHF21A', 'MSL1', 'SEC22C'], 0.8705497905175607, 0, 0], [62, 'ARNT 22903824 ChIP-Seq MCF-7 Human', 0.10478422813599195, 3.3, 7.444311643910658, ['ROBO2', 'CUX1', 'PHF14', 'ZNF302'], 0.8705497905175607, 0, 0], [63, 'KLF4 25985364 ChIP-Seq ATHEROSCLEROSIS LESION Mouse', 0.10478422813599195, 3.3, 7.444311643910658, ['ROBO2', 'ATF7', 'PHF21A', 'CDH8'], 0.8705497905175607, 0, 0], [64, 'RNF2 16625203 ChIP-ChIP MESCs Mouse', 0.10478422813599195, 3.3, 7.444311643910658, ['ROBO2', 'HSPA1L', 'CRYZL1', 'CDH8'], 0.8705497905175607, 0, 0], [65, 'CEBPB 20176806 ChIP-Seq THIOMACROPHAGE Mouse', 0.10478422813599195, 3.3, 7.444311643910658, ['CUL2', 'PHF14', 'CNPY2', 'TMCC1'], 0.8705497905175607, 0, 0], [66, 'CEBPB 20513432 ChIP-Seq MACROPHAGES Mouse', 0.10478422813599195, 3.3, 7.444311643910658, ['CRYZL1', 'CNPY2', 'ATF7', 'PHF21A'], 0.8705497905175607, 0, 0], [67, 'MYB 26560356 Chip-Seq TH1 Human', 0.10478422813599195, 3.3, 7.444311643910658, ['P2RX7', 'PPM1B', 'HSPA1L', 'PHF21A'], 0.8705497905175607, 0, 0], [68, 'CJUN 26792858 Chip-Seq BT549 Human', 0.10478422813599195, 3.3, 7.444311643910658, ['EIF4E3', 'CUL2', 'ATF7', 'TMCC1'], 0.8705497905175607, 0, 0], [69, 'CEBPB 26923725 Chip-Seq HEMOGENIC-ENDOTHELIUM Mouse', 0.10478422813599195, 3.3, 7.444311643910658, ['INSR', 'CRYZL1', 'ATF7', 'PHF21A'], 0.8705497905175607, 0, 0], [70, 'GATA3 30127528 ChIP-Seq KELLY Human Brain Neuroblastoma', 0.10478422813599195, 3.3, 7.444311643910658, ['ANAPC16', 'PHF14', 'ATF7', 'TMCC1'], 0.8705497905175607, 0, 0], [71, 'MYC 30127528 ChIP-Seq KELLY Human Brain Neuroblastoma', 0.1072877580094392, 1.9675925925925926, 4.392140319523746, ['RBM3', 'ARL10', 'ROBO2', 'CYTH2', 'PHF14', 'LARP7', 'JADE2', 'KANSL1L', 'ZNF302', 'SEC22C'], 0.8705497905175607, 0, 0], [72, 'MYC 22102868 ChIP-Seq CA46 Human Blood BurkittsLymphoma', 0.11894692918481191, 2.1683501683501682, 4.61658633308933, ['RBM3', 'CUX1', 'LARP7', 'CNPY2', 'JADE2', 'PHF21A', 'SEC22C'], 0.8705497905175607, 0, 0], [73, 'NANOG 18347094 ChIP-ChIP MESCs Mouse', 0.13142757036083108, 2.238095238095238, 4.541765267506067, ['ROBO2', 'PPM1B', 'HSPA1L', 'CRYZL1', 'LARP7', 'CDH8'], 0.8705497905175607, 0, 0], [74, 'SMARCA4 23332759 ChIP-Seq OLIGODENDROCYTES Mouse', 0.13142757036083108, 2.238095238095238, 4.541765267506067, ['P2RX7', 'ROBO2', 'MOB2', 'PHF14', 'ATF7', 'CDH8'], 0.8705497905175607, 0, 0], [75, 'RUNX1 21571218 ChIP-Seq MEGAKARYOCYTES Human', 0.13323730089011177, 1.8421052631578947, 3.712990700937845, ['P2RX7', 'CYTH2', 'INSR', 'CXXC1', 'TMCC1', 'TECPR2', 'PHF21A', 'PLBD2', 'MSL1', 'SEC22C'], 0.8705497905175607, 0, 0], [76, 'NFKB1 27076634 ChIP-Seq BEAS2B Human Lung Inflammation', 0.136683293753021, 1.956043956043956, 3.892701078753165, ['P2RX7', 'ROBO2', 'EIF4E3', 'CUX1', 'TMCC1', 'PHF21A', 'CDH8', 'MSL1'], 0.8705497905175607, 0, 0], [77, 'FOXA1 27270436 ChIP-Seq VCaP Human Prostate Carcinoma', 0.136683293753021, 1.956043956043956, 3.892701078753165, ['P2RX7', 'CYTH2', 'PPM1B', 'EIF4E3', 'LARP7', 'ATF7', 'JADE2', 'MSL1'], 0.8705497905175607, 0, 0], [78, 'JUN 27471255 ChIP-Seq Chondrocytes Mouse Rib', 0.14301795004842818, 1.7608695652173914, 3.4245129494486037, ['CYTH2', 'CUX1', 'INSR', 'MOB2', 'CUL2', 'PHF14', 'LARP7', 'CNPY2', 'JADE2', 'KANSL1L', 'PHF21A'], 0.8705497905175607, 0, 0], [79, 'GFI1B 20887958 ChIP-Seq HPC-7 Mouse', 0.14387108413534494, 2.3645320197044337, 4.584443655821116, ['P2RX7', 'PPM1B', 'CUX1', 'CRYZL1', 'CUL2'], 0.8705497905175607, 0, 0], [80, 'RARB 24833708 ChIP-Seq LIVER Mouse', 0.14387108413534494, 2.3645320197044337, 4.584443655821116, ['RBM3', 'CUX1', 'CRYZL1', 'CUL2', 'CNPY2'], 0.8705497905175607, 0, 0], [81, 'NCOR 22465074 ChIP-Seq MACROPHAGES Mouse', 0.14387108413534494, 2.3645320197044337, 4.584443655821116, ['P2RX7', 'EIF4E3', 'CUX1', 'CNPY2', 'ATF7'], 0.8705497905175607, 0, 0], [82, 'ELF3 26769127 Chip-Seq PDAC-Cell Line Human', 0.14387108413534494, 2.3645320197044337, 4.584443655821116, ['PPM1B', 'CUL2', 'CNPY2', 'ATF7', 'PHF21A'], 0.8705497905175607, 0, 0], [83, 'ELK4 26923725 Chip-Seq MESODERM Mouse', 0.15210829700833103, 6.375, 12.00516113838582, ['CUX1', 'ATF7'], 0.8705497905175607, 0, 0], [84, 'NUCKS1 24931609 ChIP-Seq HEPATOCYTES Mouse', 0.15210829700833103, 6.375, 12.00516113838582, ['CYTH2', 'INSR'], 0.8705497905175607, 0, 0], [85, 'BMI1 23680149 ChIP-Seq NPCS Mouse', 0.15210829700833103, 6.375, 12.00516113838582, ['CUX1', 'RBM11'], 0.8705497905175607, 0, 0], [86, 'PPARG 20176806 ChIP-Seq MACROPHAGES Mouse', 0.15210829700833103, 6.375, 12.00516113838582, ['EIF4E3', 'INSR'], 0.8705497905175607, 0, 0], [87, 'NR3C1 34362910 ChIP-Seq WistarRat Hippocampus Stress', 0.15210829700833103, 6.375, 12.00516113838582, ['ANAPC16', 'INSR'], 0.8705497905175607, 0, 0], [88, 'NR3C1 34362910 ChIP-Seq WistarRat Hippocampus', 0.15210829700833103, 6.375, 12.00516113838582, ['ANAPC16', 'INSR'], 0.8705497905175607, 0, 0], [89, 'LEF1 29337183 ChIP-Seq mESC Mouse Stem', 0.1533989853227738, 1.9660493827160495, 3.6857783455719537, ['ROBO2', 'HSPA1L', 'CUX1', 'INSR', 'KANSL1L', 'TECPR2', 'PHF21A'], 0.8705497905175607, 0, 0], [90, 'FOXM1 26456572 ChIP-Seq MCF-7 Human', 0.15515257381777003, 2.6133333333333333, 4.86954499472914, ['PPM1B', 'CUX1', 'CUL2', 'PHF14'], 0.8705497905175607, 0, 0], [91, 'SOX3 22085726 ChIP-Seq NPCs Mouse', 0.15515257381777003, 2.6133333333333333, 4.86954499472914, ['RBM3', 'CYTH2', 'EIF4E3', 'CDH8'], 0.8705497905175607, 0, 0], [92, 'TCF3/E2A 22897851 ChIP-Seq JUKARTE6-1 Human', 0.15515257381777003, 2.6133333333333333, 4.86954499472914, ['ROBO2', 'CUX1', 'CUL2', 'CDH8'], 0.8705497905175607, 0, 0], [93, 'MAF 26560356 Chip-Seq TH1 Human', 0.15515257381777003, 2.6133333333333333, 4.86954499472914, ['HSPA1L', 'CUL2', 'PHF21A', 'RBM11'], 0.8705497905175607, 0, 0], [94, 'FLI1 26923725 Chip-Seq MACROPHAGESS Mouse', 0.15515257381777003, 2.6133333333333333, 4.86954499472914, ['ARL10', 'PPM1B', 'INSR', 'ATF7'], 0.8705497905175607, 0, 0], [95, 'SOX2 27498859 Chip-Seq STOMACH Mouse', 0.15515257381777003, 2.6133333333333333, 4.86954499472914, ['PPM1B', 'EIF4E3', 'CNPY2', 'TECPR2'], 0.8705497905175607, 0, 0], [96, 'MTF2 20144788 ChIP-Seq MESCs Mouse', 0.15515257381777003, 2.6133333333333333, 4.86954499472914, ['ROBO2', 'EIF4E3', 'CUX1', 'CDH8'], 0.8705497905175607, 0, 0], [97, 'GATA1 30185409 ChIP-Seq HPC Mouse BoneMarrow Leukemia', 0.15515257381777003, 2.6133333333333333, 4.86954499472914, ['P2RX7', 'ANAPC16', 'CRYZL1', 'PHF21A'], 0.8705497905175607, 0, 0], [98, 'ESR1 30970003 ChIP-Seq MCF-7 Human BreastCancer', 0.15515257381777003, 2.6133333333333333, 4.86954499472914, ['P2RX7', 'CUX1', 'MOB2', 'TMCC1'], 0.8705497905175607, 0, 0], [99, 'PHOX2B 30127528 ChIP-Seq BE2C Human Brain Neuroblastoma', 0.15515257381777003, 2.6133333333333333, 4.86954499472914, ['ROBO2', 'ANAPC16', 'TMCC1', 'KANSL1L'], 0.8705497905175607, 0, 0], [100, 'PDX1 19855005 ChIP-ChIP MIN6 Mouse', 0.1620606144277539, 3.225806451612903, 5.870273711603352, ['EIF4E3', 'HSPA1L', 'ATF7'], 0.8705497905175607, 0, 0], [101, 'AHR 22903824 ChIP-Seq MCF-7 Human', 0.1620606144277539, 3.225806451612903, 5.870273711603352, ['CUX1', 'PHF14', 'ZNF302'], 0.8705497905175607, 0, 0], [102, 'BCL3 23251550 ChIP-Seq MUSCLE Mouse', 0.1620606144277539, 3.225806451612903, 5.870273711603352, ['CUX1', 'CUL2', 'ATF7'], 0.8705497905175607, 0, 0], [103, 'EST1 17652178 ChIP-ChIP JURKAT Human', 0.1620606144277539, 3.225806451612903, 5.870273711603352, ['RBM3', 'CXXC1', 'ZNF302'], 0.8705497905175607, 0, 0], [104, 'ZNF217 24962896 ChIP-Seq MCF-7 Human', 0.1620606144277539, 3.225806451612903, 5.870273711603352, ['CUX1', 'PHF14', 'TMCC1'], 0.8705497905175607, 0, 0], [105, 'SPI1 22096565 ChIP-ChIP GC-B Mouse', 0.1620606144277539, 3.225806451612903, 5.870273711603352, ['PPM1B', 'HSPA1L', 'ATF7'], 0.8705497905175607, 0, 0], [106, 'CSB 26484114 Chip-Seq FIBROBLAST Human', 0.1620606144277539, 3.225806451612903, 5.870273711603352, ['EIF4E3', 'TMCC1', 'SEC22C'], 0.8705497905175607, 0, 0], [107, 'CREB1 26743006 Chip-Seq LNCaP-abl Human', 0.1620606144277539, 3.225806451612903, 5.870273711603352, ['PPM1B', 'INSR', 'PHF21A'], 0.8705497905175607, 0, 0], [108, 'RING1B 27294783 Chip-Seq NPCs Mouse', 0.1620606144277539, 3.225806451612903, 5.870273711603352, ['ARL10', 'ANAPC16', 'CUX1'], 0.8705497905175607, 0, 0], [109, 'CDH4 35650610 ChIP-Seq mESC Mouse Stem Autism', 0.1620606144277539, 3.225806451612903, 5.870273711603352, ['CYTH2', 'KANSL1L', 'TECPR2'], 0.8705497905175607, 0, 0], [110, 'SOX2 30713093 ChIP-Seq Epithelial Human Tongue SCC', 0.1620606144277539, 3.225806451612903, 5.870273711603352, ['P2RX7', 'LARP7', 'TMCC1'], 0.8705497905175607, 0, 0], [111, 'GATA3 30127528 ChIP-Seq BE2C Human Brain Neuroblastoma', 0.1620606144277539, 3.225806451612903, 5.870273711603352, ['ANAPC16', 'CXXC1', 'TMCC1'], 0.8705497905175607, 0, 0], [112, 'SIN3B 21632747 ChIP-Seq MESCs Mouse', 0.162502627563278, 1.7291666666666667, 3.1420014987708473, ['RBM3', 'ANAPC16', 'HSPA1L', 'INSR', 'CRYZL1', 'CXXC1', 'CNPY2', 'PHF21A', 'CDH8', 'MSL1'], 0.8705497905175607, 0, 0], [113, 'MYCN 28898695 ChIP-Seq NB1643 Human Nerve Neuroblastoma', 0.17162365945580815, 1.9928571428571429, 3.512313514304039, ['RBM3', 'P2RX7', 'ROBO2', 'ANAPC16', 'PHF14', 'PHF21A'], 0.9018491741664025, 0, 0], [114, 'P63 20808887 ChIP-Seq KERATINOCYTES Human', 0.19147809863920454, 2.0474137931034484, 3.384337827812773, ['CYTH2', 'MOB2', 'LARP7', 'PHF21A', 'RBM11'], 0.9018491741664025, 0, 0], [115, 'SOX3 22085726 ChIP-Seq MUSCLE Mouse', 0.19147809863920454, 2.0474137931034484, 3.384337827812773, ['CYTH2', 'CNPY2', 'ATF7', 'TMCC1', 'SEC22C'], 0.9018491741664025, 0, 0], [116, 'MYB 26560356 Chip-Seq TH2 Human', 0.19147809863920454, 2.0474137931034484, 3.384337827812773, ['P2RX7', 'PPM1B', 'CXXC1', 'CNPY2', 'ZNF302'], 0.9018491741664025, 0, 0], [117, 'SFPI1 20887958 ChIP-Seq HPC-7 Mouse', 0.19147809863920454, 2.0474137931034484, 3.384337827812773, ['P2RX7', 'CUX1', 'CUL2', 'PHF14', 'TECPR2'], 0.9018491741664025, 0, 0], [118, 'FOXA1 26457646 ChIP-Seq LHSAR Human ProstateCancer', 0.19147809863920454, 2.0474137931034484, 3.384337827812773, ['HSPA1L', 'CXXC1', 'LARP7', 'TMCC1', 'ZNF302'], 0.9018491741664025, 0, 0], [119, 'PPARD 21283829 ChIP-Seq MYOFIBROBLAST Human', 0.1922305514126614, 1.794871794871795, 2.959850992568556, ['ROBO2', 'PPM1B', 'CUL2', 'CXXC1', 'LARP7', 'CDH8', 'MSL1'], 0.9018491741664025, 0, 0], [120, 'GATA2 20887958 ChIP-Seq HPC-7 Mouse', 0.21299749075567428, 2.1555555555555554, 3.333512548926528, ['P2RX7', 'CYTH2', 'ATF7', 'SEC22C'], 0.9018491741664025, 0, 0], [121, 'STAT3 18555785 ChIP-Seq MESCs Mouse', 0.21299749075567428, 2.1555555555555554, 3.333512548926528, ['HSPA1L', 'TECPR2', 'PHF21A', 'CDH8'], 0.9018491741664025, 0, 0], [122, 'SOX2 19829295 ChIP-Seq ESCs Human', 0.21299749075567428, 2.1555555555555554, 3.333512548926528, ['CUL2', 'LARP7', 'ZNF302', 'PLBD2'], 0.9018491741664025, 0, 0], [123, 'NANOG 19829295 ChIP-Seq ESCs Human', 0.21299749075567428, 2.1555555555555554, 3.333512548926528, ['CUL2', 'LARP7', 'ZNF302', 'PLBD2'], 0.9018491741664025, 0, 0], [124, 'MYC 19829295 ChIP-Seq ESCs Human', 0.21299749075567428, 2.1555555555555554, 3.333512548926528, ['CNPY2', 'ATF7', 'TMCC1', 'RBM11'], 0.9018491741664025, 0, 0], [125, 'GATA3 21867929 ChIP-Seq TH1 Mouse', 0.21299749075567428, 2.1555555555555554, 3.333512548926528, ['PHF14', 'CXXC1', 'ATF7', 'MSL1'], 0.9018491741664025, 0, 0], [126, 'KAP1 22055183 ChIP-Seq ESCs Mouse', 0.21299749075567428, 2.1555555555555554, 3.333512548926528, ['CYTH2', 'PPM1B', 'PHF14', 'MSL1'], 0.9018491741664025, 0, 0], [127, 'TCF4 22108803 ChIP-Seq LS180 Human', 0.21299749075567428, 2.1555555555555554, 3.333512548926528, ['ROBO2', 'CUX1', 'INSR', 'CRYZL1'], 0.9018491741664025, 0, 0], [128, 'MYC 27129775 Chip-Seq CORNEA Mouse', 0.21299749075567428, 2.1555555555555554, 3.333512548926528, ['ANAPC16', 'HSPA1L', 'PLBD2', 'MSL1'], 0.9018491741664025, 0, 0], [129, 'REST 21632747 ChIP-Seq MESCs Mouse', 0.21299749075567428, 2.1555555555555554, 3.333512548926528, ['TMCC1', 'TECPR2', 'CDH8', 'MSL1'], 0.9018491741664025, 0, 0], [130, 'RUNX1 27514584 ChIP-Seq MCF-7 Human BreastCancer', 0.21299749075567428, 2.1555555555555554, 3.333512548926528, ['CYTH2', 'CUX1', 'JADE2', 'ZNF302'], 0.9018491741664025, 0, 0], [131, 'E2F1 26619117 ChIP-Seq Hepatocytes Mouse Liver', 0.21656114738887444, 1.7922077922077921, 2.7418670427380554, ['RBM3', 'CYTH2', 'PPM1B', 'INSR', 'CRYZL1', 'ATF7'], 0.9018491741664025, 0, 0], [132, 'FUS 26573619 Chip-Seq HEK293 Human', 0.2357826563989773, 2.3951612903225805, 3.460636445065247, ['ROBO2', 'PHF14', 'PHF21A'], 0.9018491741664025, 0, 0], [133, 'LYL1 20887958 ChIP-Seq HPC-7 Mouse', 0.2357826563989773, 2.3951612903225805, 3.460636445065247, ['P2RX7', 'ANAPC16', 'SEC22C'], 0.9018491741664025, 0, 0], [134, 'EWS 26573619 Chip-Seq HEK293 Human', 0.2357826563989773, 2.3951612903225805, 3.460636445065247, ['RBM3', 'ROBO2', 'ZNF302'], 0.9018491741664025, 0, 0], [135, 'ELF1 20517297 ChIP-Seq JURKAT Human', 0.2357826563989773, 2.3951612903225805, 3.460636445065247, ['P2RX7', 'CYTH2', 'CUX1'], 0.9018491741664025, 0, 0], [136, 'SOX9 24532713 ChIP-Seq HFSC Mouse', 0.2357826563989773, 2.3951612903225805, 3.460636445065247, ['ANAPC16', 'CRYZL1', 'ATF7'], 0.9018491741664025, 0, 0], [137, 'KLF4 18358816 ChIP-ChIP MESCs Mouse', 0.2357826563989773, 2.3951612903225805, 3.460636445065247, ['RBM3', 'HSPA1L', 'CRYZL1'], 0.9018491741664025, 0, 0], [138, 'LMO2 20887958 ChIP-Seq HPC-7 Mouse', 0.2357826563989773, 2.3951612903225805, 3.460636445065247, ['P2RX7', 'PHF21A', 'SEC22C'], 0.9018491741664025, 0, 0], [139, 'SMAD3 21741376 ChIP-Seq ESCs Human', 0.2357826563989773, 2.3951612903225805, 3.460636445065247, ['ROBO2', 'CUX1', 'TMCC1'], 0.9018491741664025, 0, 0], [140, 'FLI1 21867929 ChIP-Seq CD8 Mouse', 0.2357826563989773, 2.3951612903225805, 3.460636445065247, ['INSR', 'CDH8', 'PLBD2'], 0.9018491741664025, 0, 0], [141, 'RAD21 21589869 ChIP-Seq MESCs Mouse', 0.2357826563989773, 2.3951612903225805, 3.460636445065247, ['EIF4E3', 'CUX1', 'SEC22C'], 0.9018491741664025, 0, 0], [142, 'FOSL1 28411283 ChIP-Seq MDA231-LM2-4175 Human BreastCancer', 0.2357826563989773, 2.3951612903225805, 3.460636445065247, ['CYTH2', 'ANAPC16', 'JADE2'], 0.9018491741664025, 0, 0], [143, 'POU2F1 27270436 ChIP-Seq VCaP Human Prostate Carcinoma', 0.2357826563989773, 2.3951612903225805, 3.460636445065247, ['PPM1B', 'PHF14', 'ATF7'], 0.9018491741664025, 0, 0], [144, 'FOXO1 32281255 ChIP-Seq Chondrocytes Human Osteoarthritis', 0.2357826563989773, 2.3951612903225805, 3.460636445065247, ['P2RX7', 'CYTH2', 'INSR'], 0.9018491741664025, 0, 0], [145, 'MECOM 23826213 ChIP-Seq KASUMI Mouse', 0.2441615009151408, 1.8007662835249043, 2.5389460931526955, ['RBM3', 'P2RX7', 'MOB2', 'CXXC1', 'PHF21A'], 0.9018491741664025, 0, 0], [146, 'RUNX2 24764292 ChIP-Seq MC3T3 Mouse', 0.2441615009151408, 1.8007662835249043, 2.5389460931526955, ['P2RX7', 'CYTH2', 'CUX1', 'ATF7', 'MSL1'], 0.9018491741664025, 0, 0], [147, 'KDM2B 26808549 Chip-Seq K562 Human', 0.2441615009151408, 1.8007662835249043, 2.5389460931526955, ['CYTH2', 'CUX1', 'INSR', 'CUL2', 'TECPR2'], 0.9018491741664025, 0, 0], [148, 'TAL1 26923725 Chip-Seq HPCs Mouse', 0.2441615009151408, 1.8007662835249043, 2.5389460931526955, ['PPM1B', 'CRYZL1', 'PHF14', 'PHF21A', 'CDH8'], 0.9018491741664025, 0, 0], [149, 'TBX2 33478486 ChIP-Seq IMR90 Human Lung', 0.2441615009151408, 1.8007662835249043, 2.5389460931526955, ['ROBO2', 'MOB2', 'CNPY2', 'JADE2', 'CDH8'], 0.9018491741664025, 0, 0], [150, 'TAL1 26923725 Chip-Seq MACROPHAGESS Mouse', 0.24817495265344372, inf, inf, ['CDH8'], 0.9018491741664025, 0, 0], [151, 'DMRT1 21621532 ChIP-ChIP FETAL Ovary', 0.24817495265344372, inf, inf, ['LARP7'], 0.9018491741664025, 0, 0], [152, 'FOXM1 23109430 ChIP-Seq U2OS Human', 0.24817495265344372, inf, inf, ['PPM1B'], 0.9018491741664025, 0, 0], [153, 'NANOG 18700969 ChIP-ChIP MESCs Mouse', 0.24817495265344372, inf, inf, ['CRYZL1'], 0.9018491741664025, 0, 0], [154, 'LMO2 26923725 Chip-Seq MACROPHAGESS Mouse', 0.24817495265344372, inf, inf, ['ATF7'], 0.9018491741664025, 0, 0], [155, 'VDR 22108803 ChIP-Seq LS180 Human', 0.24817495265344372, inf, inf, ['CDH8'], 0.9018491741664025, 0, 0], [156, 'PPARG 20176806 ChIP-Seq THIOMACROPHAGE Mouse', 0.24817495265344372, inf, inf, ['TMCC1'], 0.9018491741664025, 0, 0], [157, 'TBX4 33478486 ChIP-Seq IMR90 Human Lung', 0.24817495265344372, inf, inf, ['CDH8'], 0.9018491741664025, 0, 0], [158, 'FOXA1 33576154 ChIP-Seq Human HilarLN ProstateCancer', 0.24817495265344372, inf, inf, ['TMCC1'], 0.9018491741664025, 0, 0], [159, 'PITX1 30713093 ChIP-Seq Epithelial Human Tongue SCC', 0.24817495265344372, inf, inf, ['TMCC1'], 0.9018491741664025, 0, 0], [160, 'RUNX1 22343733 ChIP-Seq Kasumi1 Human PeriphBlood AML', 0.24817495265344372, inf, inf, ['CUX1'], 0.9018491741664025, 0, 0], [161, 'VDR 23401126 ChIP-Seq LCL-AND-THP1 Human', 0.2570270146374247, 3.15625, 4.2879994535416595, ['INSR', 'CRYZL1'], 0.9018491741664025, 0, 0], [162, 'VDR 21846776 ChIP-Seq THP-1 Human', 0.2570270146374247, 3.15625, 4.2879994535416595, ['P2RX7', 'PHF14'], 0.9018491741664025, 0, 0], [163, 'TFEB 21752829 ChIP-Seq HELA Human', 0.2570270146374247, 3.15625, 4.2879994535416595, ['CNPY2', 'PLBD2'], 0.9018491741664025, 0, 0], [164, 'EGR1 23403033 ChIP-Seq LIVER Mouse', 0.2570270146374247, 3.15625, 4.2879994535416595, ['HSPA1L', 'KANSL1L'], 0.9018491741664025, 0, 0], [165, 'SUZ12 18555785 ChIP-Seq MESCs Mouse', 0.2570270146374247, 3.15625, 4.2879994535416595, ['EIF4E3', 'CDH8'], 0.9018491741664025, 0, 0], [166, 'SUZ12 18692474 ChIP-Seq MESCs Mouse', 0.2570270146374247, 3.15625, 4.2879994535416595, ['ROBO2', 'CDH8'], 0.9018491741664025, 0, 0], [167, 'SMAD4 21741376 ChIP-Seq ESCs Human', 0.2570270146374247, 3.15625, 4.2879994535416595, ['CYTH2', 'TMCC1'], 0.9018491741664025, 0, 0], [168, 'NFYA 21822215 ChIP-Seq K562 Human', 0.2570270146374247, 3.15625, 4.2879994535416595, ['CUL2', 'PHF21A'], 0.9018491741664025, 0, 0], [169, 'SUZ12 27294783 Chip-Seq ESCs Mouse', 0.2570270146374247, 3.15625, 4.2879994535416595, ['HSPA1L', 'CUX1'], 0.9018491741664025, 0, 0], [170, 'AF4 28076791 ChIP-Seq SEM Human Blood Leukemia', 0.2570270146374247, 3.15625, 4.2879994535416595, ['CUX1', 'PHF21A'], 0.9018491741664025, 0, 0], [171, 'EVI1 22308434 ChIP-Seq SKOV3 Human Ovary OvarianCancer', 0.2570270146374247, 3.15625, 4.2879994535416595, ['CUL2', 'JADE2'], 0.9018491741664025, 0, 0], [172, 'YY1 33199912 ChIP-Seq 293T Human KidneyEmbryo', 0.25966357646719285, 1.494, 2.0144624232002597, ['ARL10', 'EIF4E3', 'ANAPC16', 'CUX1', 'CRYZL1', 'CUL2', 'CXXC1', 'CNPY2', 'ZNF302'], 0.9058031737227658, 0, 0], [173, 'HNF1A 27111144 ChIP-Seq CD8+TCells Mouse Blood Lymphoma', 0.26536826157361476, 1.625, 2.155784720981111, ['CYTH2', 'CUX1', 'CXXC1', 'CNPY2', 'ATF7', 'TECPR2'], 0.9203523522784327, 0, 0], [174, 'KLF5 20875108 ChIP-Seq MESCs Mouse', 0.27611288023841124, 1.8285714285714285, 2.353271790639654, ['ANAPC16', 'CNPY2', 'ATF7', 'PHF21A'], 0.9359758652149534, 0, 0], [175, 'SMC1 22415368 ChIP-Seq MEFs Mouse', 0.27611288023841124, 1.8285714285714285, 2.353271790639654, ['ROBO2', 'ANAPC16', 'CUX1', 'PLBD2'], 0.9359758652149534, 0, 0], [176, 'KDM2B 26808549 Chip-Seq DND41 Human', 0.27611288023841124, 1.8285714285714285, 2.353271790639654, ['CYTH2', 'CUX1', 'INSR', 'CUL2'], 0.9359758652149534, 0, 0], [177, 'PBX1 22567123 ChIP-ChIP OVCAR3 Human', 0.27611288023841124, 1.8285714285714285, 2.353271790639654, ['PPM1B', 'CRYZL1', 'PHF14', 'ATF7'], 0.9359758652149534, 0, 0], [178, 'CTCF 31629814 ChIP-Seq Hepatocytes Mouse Tyrosinemia', 0.2807382970217144, 1.5209876543209877, 1.932159853065799, ['PPM1B', 'ANAPC16', 'CUX1', 'MOB2', 'CXXC1', 'KANSL1L', 'SEC22C'], 0.944237426395636, 0, 0], [179, 'CEBPB 24764292 ChIP-Seq MC3T3 Mouse', 0.3005284670161365, 1.603448275862069, 1.9276860370930358, ['CYTH2', 'EIF4E3', 'CUL2', 'CXXC1', 'CNPY2'], 0.944237426395636, 0, 0], [180, 'CBP 21632823 ChIP-Seq H3396 Human', 0.3005284670161365, 1.603448275862069, 1.9276860370930358, ['P2RX7', 'ANAPC16', 'MOB2', 'CUL2', 'PHF21A'], 0.944237426395636, 0, 0], [181, 'FOXA1 33576154 ChIP-Seq Human Liver ProstateCancer', 0.3005284670161365, 1.603448275862069, 1.9276860370930358, ['CYTH2', 'PPM1B', 'ATF7', 'TMCC1', 'ZNF302'], 0.944237426395636, 0, 0], [182, 'FOXA1 21572438 ChIP-Seq LNCaP Human', 0.3143817091687951, 1.896774193548387, 2.1948473208816703, ['P2RX7', 'EIF4E3', 'CNPY2'], 0.944237426395636, 0, 0], [183, 'Nerf2 26677805 Chip-Seq MACROPHAGESS Mouse', 0.3143817091687951, 1.896774193548387, 2.1948473208816703, ['INSR', 'PHF14', 'TMCC1'], 0.944237426395636, 0, 0], [184, 'KLF4 19030024 ChIP-ChIP MESCs Mouse', 0.3143817091687951, 1.896774193548387, 2.1948473208816703, ['P2RX7', 'ROBO2', 'CDH8'], 0.944237426395636, 0, 0], [185, 'STAT4 19710469 ChIP-ChIP TH1 Mouse', 0.3143817091687951, 1.896774193548387, 2.1948473208816703, ['RBM3', 'P2RX7', 'EIF4E3'], 0.944237426395636, 0, 0], [186, 'FOXO1 25302145 ChIP-Seq T-LYMPHOCYTE Mouse', 0.3143817091687951, 1.896774193548387, 2.1948473208816703, ['CYTH2', 'INSR', 'SEC22C'], 0.944237426395636, 0, 0], [187, 'ATF3 27146783 Chip-Seq COLON Human', 0.3143817091687951, 1.896774193548387, 2.1948473208816703, ['PPM1B', 'CUL2', 'CXXC1'], 0.944237426395636, 0, 0], [188, 'RUNX1 27514584 Chip-Seq MCF-7 Human', 0.3143817091687951, 1.896774193548387, 2.1948473208816703, ['CYTH2', 'CUX1', 'CDH8'], 0.944237426395636, 0, 0], [189, 'REST 18959480 ChIP-ChIP MESCs Mouse', 0.3143817091687951, 1.896774193548387, 2.1948473208816703, ['ROBO2', 'PPM1B', 'CDH8'], 0.944237426395636, 0, 0], [190, 'OCT4 18692474 ChIP-Seq MEFs Mouse', 0.3143817091687951, 1.896774193548387, 2.1948473208816703, ['HSPA1L', 'CRYZL1', 'LARP7'], 0.944237426395636, 0, 0], [191, 'TBX2 30127528 ChIP-Seq BE2C Human Brain Neuroblastoma', 0.3143817091687951, 1.896774193548387, 2.1948473208816703, ['ANAPC16', 'TMCC1', 'SEC22C'], 0.944237426395636, 0, 0], [192, 'SOX2 21211035 ChIP-Seq LN229 Gbm', 0.31704638919035333, 1.4835164835164836, 1.7041260328091035, ['ROBO2', 'CUL2', 'LARP7', 'ATF7', 'TMCC1', 'CDH8'], 0.944237426395636, 0, 0], [193, 'PPARG 20887899 ChIP-Seq 3T3-L1 Mouse', 0.31704638919035333, 1.4835164835164836, 1.7041260328091035, ['P2RX7', 'EIF4E3', 'INSR', 'LARP7', 'TMCC1', 'MSL1'], 0.944237426395636, 0, 0], [194, 'NR3C1 27076634 ChIP-Seq BEAS2B Human Lung Inflammation', 0.31704638919035333, 1.4835164835164836, 1.7041260328091035, ['CYTH2', 'CUX1', 'MOB2', 'PHF14', 'ATF7', 'TMCC1'], 0.944237426395636, 0, 0], [195, 'STAT1 19122651 ChIP-Seq HeLaS3 Human CervicalCancer', 0.3289654151980597, 1.4097222222222223, 1.5673329090857193, ['RBM3', 'CYTH2', 'PHF14', 'CNPY2', 'JADE2', 'KANSL1L', 'ZNF302'], 0.944237426395636, 0, 0], [196, 'FOXA1 33576154 ChIP-Seq Human Lung ProstateCancer', 0.33791953143195735, 1.360323886639676, 1.4758799789550219, ['CYTH2', 'CRYZL1', 'PHF14', 'LARP7', 'TMCC1', 'KANSL1L', 'PHF21A', 'SEC22C'], 0.944237426395636, 0, 0], [197, 'MYC 20876797 ChIP-ChIP MEDULLOBLASTOMA Human', 0.34223377242643027, 1.5833333333333333, 1.697746948012308, ['PPM1B', 'EIF4E3', 'PHF21A', 'CDH8'], 0.944237426395636, 0, 0], [198, 'FOXP3 21729870 ChIP-Seq TREG Human', 0.34223377242643027, 1.5833333333333333, 1.697746948012308, ['CUX1', 'CUL2', 'LARP7', 'ATF7'], 0.944237426395636, 0, 0], [199, 'TAL1 26923725 Chip-Seq HEMANGIOBLAST Mouse', 0.34223377242643027, 1.5833333333333333, 1.697746948012308, ['PPM1B', 'INSR', 'CRYZL1', 'CDH8'], 0.944237426395636, 0, 0], [200, 'DACH1 20351289 ChIP-Seq MDA-MB-231 Human', 0.34223377242643027, 1.5833333333333333, 1.697746948012308, ['CYTH2', 'INSR', 'PHF14', 'SEC22C'], 0.944237426395636, 0, 0], [201, 'KLF5 25053715 ChIP-Seq YYC3 Human', 0.34223377242643027, 1.5833333333333333, 1.697746948012308, ['ROBO2', 'EIF4E3', 'TMCC1', 'PHF21A'], 0.944237426395636, 0, 0], [202, 'KLF4 18555785 ChIP-Seq MESCs Mouse', 0.34223377242643027, 1.5833333333333333, 1.697746948012308, ['PPM1B', 'INSR', 'CRYZL1', 'CXXC1'], 0.944237426395636, 0, 0], [203, 'CREB1 20920259 ChIP-Seq GC1-SPG Mouse', 0.34223377242643027, 1.5833333333333333, 1.697746948012308, ['CYTH2', 'CXXC1', 'LARP7', 'ATF7'], 0.944237426395636, 0, 0], [204, 'ENL 26711339 ChIP-Seq SEM Human Blood Leukemia', 0.34223377242643027, 1.5833333333333333, 1.697746948012308, ['PPM1B', 'INSR', 'ATF7', 'PHF21A'], 0.944237426395636, 0, 0], [205, 'TFAP2A 35110662 ChIP-Seq HEPM Human Embryo', 0.34223377242643027, 1.5833333333333333, 1.697746948012308, ['ANAPC16', 'ATF7', 'ZNF302', 'SEC22C'], 0.944237426395636, 0, 0], [206, 'GTF3C2 35216376 ChIP-Seq H9 Human BoneMarrow Lymphoma', 0.34223377242643027, 1.5833333333333333, 1.697746948012308, ['ARL10', 'ROBO2', 'JADE2', 'PLBD2'], 0.944237426395636, 0, 0], [207, 'SMAD3 30307970 ChIP-Seq HCASMC Human CoronaryArtery', 0.34223377242643027, 1.5833333333333333, 1.697746948012308, ['ARL10', 'ROBO2', 'CUX1', 'PHF21A'], 0.944237426395636, 0, 0], [208, 'RUNX1 30185409 ChIP-Seq HPC Mouse BoneMarrow Leukemia', 0.3448194581608144, 1.3254545454545454, 1.411256929040409, ['P2RX7', 'CYTH2', 'CUX1', 'INSR', 'CRYZL1', 'CXXC1', 'LARP7', 'KANSL1L', 'PHF21A'], 0.944237426395636, 0, 0], [209, 'FOXO3 22982991 ChIP-Seq MACROPHAGES Mouse', 0.3591215558702683, 1.4420062695924765, 1.4767504763327681, ['CYTH2', 'MOB2', 'CUL2', 'CXXC1', 'LARP7'], 0.944237426395636, 0, 0], [210, 'GATA1 21571218 ChIP-Seq MEGAKARYOCYTES Human', 0.3591215558702683, 1.4420062695924765, 1.4767504763327681, ['CUX1', 'INSR', 'TMCC1', 'PHF21A', 'SEC22C'], 0.944237426395636, 0, 0], [211, 'SRY 25088423 ChIP-ChIP EMBRYONIC GONADS Mouse', 0.3591215558702683, 1.4420062695924765, 1.4767504763327681, ['CUX1', 'MOB2', 'CRYZL1', 'CNPY2', 'SEC22C'], 0.944237426395636, 0, 0], [212, 'PPARD 23208498 ChIP-Seq MDA-MB-231 Human', 0.363260520627426, 2.0833333333333335, 2.1096562801105714, ['CYTH2', 'CUL2'], 0.944237426395636, 0, 0], [213, 'BMI1 19503595 ChIP-Seq MEFsC Mouse', 0.363260520627426, 2.0833333333333335, 2.1096562801105714, ['P2RX7', 'INSR'], 0.944237426395636, 0, 0], [214, 'TP53 18474530 ChIP-ChIP U2OS Human', 0.363260520627426, 2.0833333333333335, 2.1096562801105714, ['PHF14', 'CDH8'], 0.944237426395636, 0, 0], [215, 'CBX2 27304074 Chip-Seq ESCs Mouse', 0.363260520627426, 2.0833333333333335, 2.1096562801105714, ['EIF4E3', 'CDH8'], 0.944237426395636, 0, 0], [216, 'SOX2 19030024 ChIP-ChIP MESCs Mouse', 0.363260520627426, 2.0833333333333335, 2.1096562801105714, ['ROBO2', 'LARP7'], 0.944237426395636, 0, 0], [217, 'STAT3 19079543 ChIP-ChIP MESCs Mouse', 0.363260520627426, 2.0833333333333335, 2.1096562801105714, ['RBM3', 'PPM1B'], 0.944237426395636, 0, 0], [218, 'YY1 22570637 ChIP-Seq MALME-3M Human', 0.363260520627426, 2.0833333333333335, 2.1096562801105714, ['CYTH2', 'HSPA1L'], 0.944237426395636, 0, 0], [219, 'ZFP57 27257070 Chip-Seq ESCs Mouse', 0.363260520627426, 2.0833333333333335, 2.1096562801105714, ['PHF21A', 'CDH8'], 0.944237426395636, 0, 0], [220, 'MEIS1 26923725 Chip-Seq HEMOGENIC-ENDOTHELIUM Mouse', 0.363260520627426, 2.0833333333333335, 2.1096562801105714, ['EIF4E3', 'PLBD2'], 0.944237426395636, 0, 0], [221, 'SUZ12 18974828 ChIP-Seq MESCs Mouse', 0.363260520627426, 2.0833333333333335, 2.1096562801105714, ['EIF4E3', 'CDH8'], 0.944237426395636, 0, 0], [222, 'EZH2 27294783 Chip-Seq ESCs Mouse', 0.363260520627426, 2.0833333333333335, 2.1096562801105714, ['ROBO2', 'CDH8'], 0.944237426395636, 0, 0], [223, 'TRIM28 17542650 ChIP-ChIP NTERA2 Human', 0.363260520627426, 2.0833333333333335, 2.1096562801105714, ['CUL2', 'PHF14'], 0.944237426395636, 0, 0], [224, 'ESR1 20056654 ChIP-Seq MCF-7 Human BreastCancer', 0.363260520627426, 2.0833333333333335, 2.1096562801105714, ['P2RX7', 'HSPA1L'], 0.944237426395636, 0, 0], [225, 'TP63 22573176 ChIP-Seq HFKS Human', 0.3705388865037281, 1.3622448979591837, 1.3524324884789947, ['P2RX7', 'EIF4E3', 'CUL2', 'ATF7', 'TMCC1', 'PHF21A'], 0.944237426395636, 0, 0], [226, 'MYC 28411283 ChIP-Seq MDA231-LM2-4175 Human BreastCancer', 0.3705388865037281, 1.3622448979591837, 1.3524324884789947, ['RBM3', 'CUL2', 'PHF14', 'CNPY2', 'JADE2', 'SEC22C'], 0.944237426395636, 0, 0], [227, 'PRDM5 23873026 ChIP-Seq MEFs Mouse', 0.39399625955206385, 1.564516129032258, 1.4572120118619178, ['RBM3', 'CUX1', 'PHF14'], 0.944237426395636, 0, 0], [228, 'GF1B 26923725 Chip-Seq HPCs Mouse', 0.39399625955206385, 1.564516129032258, 1.4572120118619178, ['P2RX7', 'PPM1B', 'PHF21A'], 0.944237426395636, 0, 0], [229, 'E2F1 17053090 ChIP-ChIP MCF-7 Human', 0.39399625955206385, 1.564516129032258, 1.4572120118619178, ['CRYZL1', 'PHF21A', 'RBM11'], 0.944237426395636, 0, 0], [230, 'CEBPB 20176806 ChIP-Seq MACROPHAGES Mouse', 0.39399625955206385, 1.564516129032258, 1.4572120118619178, ['EIF4E3', 'CUL2', 'CNPY2'], 0.944237426395636, 0, 0], [231, 'MEIS1 26253404 ChIP-Seq OPTIC CUPS Mouse', 0.39399625955206385, 1.564516129032258, 1.4572120118619178, ['ROBO2', 'CUX1', 'RBM11'], 0.944237426395636, 0, 0], [232, 'GATA3 21878914 ChIP-Seq MCF-7 Human', 0.39399625955206385, 1.564516129032258, 1.4572120118619178, ['ARL10', 'CNPY2', 'RBM11'], 0.944237426395636, 0, 0], [233, 'JARID1B-DAIN 22020125 ChIP-Seq ESCs Mouse', 0.39399625955206385, 1.564516129032258, 1.4572120118619178, ['ARL10', 'CDH8', 'SEC22C'], 0.944237426395636, 0, 0], [234, 'SA1 22415368 ChIP-Seq MEFs Mouse', 0.39399625955206385, 1.564516129032258, 1.4572120118619178, ['ROBO2', 'CUX1', 'PLBD2'], 0.944237426395636, 0, 0], [235, 'TCF12/HEB 22897851 ChIP-Seq JUKARTE6-1 Human', 0.39399625955206385, 1.564516129032258, 1.4572120118619178, ['P2RX7', 'CYTH2', 'CUX1'], 0.944237426395636, 0, 0], [236, 'SMRT 27268052 Chip-Seq Bcells Human', 0.39399625955206385, 1.564516129032258, 1.4572120118619178, ['CUX1', 'INSR', 'CRYZL1'], 0.944237426395636, 0, 0], [237, 'SETDB1 19884255 ChIP-Seq MESCs Mouse', 0.39399625955206385, 1.564516129032258, 1.4572120118619178, ['CXXC1', 'PHF21A', 'SEC22C'], 0.944237426395636, 0, 0], [238, 'FLI1 20887958 ChIP-Seq HPC-7 Mouse', 0.39399625955206385, 1.564516129032258, 1.4572120118619178, ['P2RX7', 'CUX1', 'CXXC1'], 0.944237426395636, 0, 0], [239, 'CCND1 20090754 ChIP-ChIP RETINA Mouse', 0.39399625955206385, 1.564516129032258, 1.4572120118619178, ['PPM1B', 'CRYZL1', 'ATF7'], 0.944237426395636, 0, 0], [240, 'TTF2 22483619 ChIP-Seq HELA Human', 0.4092362802261345, 1.3925925925925926, 1.2442293810841802, ['CUL2', 'CXXC1', 'LARP7', 'ATF7'], 0.944237426395636, 0, 0], [241, 'FOXA1 25329375 ChIP-Seq VCAP Human', 0.4092362802261345, 1.3925925925925926, 1.2442293810841802, ['PPM1B', 'CNPY2', 'ATF7', 'ZNF302'], 0.944237426395636, 0, 0], [242, 'SOX9 26525672 Chip-Seq HEART Mouse', 0.4092362802261345, 1.3925925925925926, 1.2442293810841802, ['PPM1B', 'HSPA1L', 'CUL2', 'ATF7'], 0.944237426395636, 0, 0], [243, 'FLI1 26923725 Chip-Seq HEMOGENIC-ENDOTHELIUM Mouse', 0.4092362802261345, 1.3925925925925926, 1.2442293810841802, ['RBM3', 'CUX1', 'CRYZL1', 'CNPY2'], 0.944237426395636, 0, 0], [244, 'FOXA1 27270436 Chip-Seq PROSTATE Human', 0.4092362802261345, 1.3925925925925926, 1.2442293810841802, ['PPM1B', 'CNPY2', 'ATF7', 'ZNF302'], 0.944237426395636, 0, 0], [245, 'NR3C2 34362910 ChIP-Seq WistarRat Hippocampus', 0.4092362802261345, 1.3925925925925926, 1.2442293810841802, ['ROBO2', 'ATF7', 'TMCC1', 'CDH8'], 0.944237426395636, 0, 0], [246, 'ESR1 26153859 ChIP-Seq MCF-7 Human BreastCancer', 0.42928960808429584, 1.2242798353909465, 1.0352798124783589, ['P2RX7', 'CUX1', 'MOB2', 'CNPY2', 'ATF7', 'JADE2', 'ZNF302'], 0.944237426395636, 0, 0], [247, 'PRDM16 22522345 ChIP-ChIP PALATE MESENCHYMAL Mouse', 0.4361309885704634, 3.090909090909091, 2.564875458236072, ['ROBO2'], 0.944237426395636, 0, 0], [248, 'ELF1 17652178 ChIP-ChIP JURKAT Human', 0.4361309885704634, 3.090909090909091, 2.564875458236072, ['RBM3'], 0.944237426395636, 0, 0], [249, 'WT1 19549856 ChIP-ChIP CCG9911 Human', 0.4361309885704634, 3.090909090909091, 2.564875458236072, ['ROBO2'], 0.944237426395636, 0, 0], [250, 'GATA1 26923725 Chip-Seq HPCs Mouse', 0.4361309885704634, 3.090909090909091, 2.564875458236072, ['PHF21A'], 0.944237426395636, 0, 0], [251, 'MYCN 21190229 ChIP-Seq SHEP-21N Human', 0.4361309885704634, 3.090909090909091, 2.564875458236072, ['PPM1B'], 0.944237426395636, 0, 0], [252, 'TCF4 18268006 ChIP-ChIP LS174T Human', 0.4361309885704634, 3.090909090909091, 2.564875458236072, ['PPM1B'], 0.944237426395636, 0, 0], [253, 'PKCTHETA 26484144 Chip-Seq BREAST Human', 0.4361309885704634, 3.090909090909091, 2.564875458236072, ['ROBO2'], 0.944237426395636, 0, 0], [254, 'NANOG 18555785 ChIP-Seq MESCs Mouse', 0.4361309885704634, 3.090909090909091, 2.564875458236072, ['CXXC1'], 0.944237426395636, 0, 0], [255, 'EWS-FLI1 20517297 ChIP-Seq SK-N-MC Human', 0.4361309885704634, 3.090909090909091, 2.564875458236072, ['EIF4E3'], 0.944237426395636, 0, 0], [256, 'NFIB 24661679 ChIP-Seq LUNG Mouse', 0.4361309885704634, 3.090909090909091, 2.564875458236072, ['CUX1'], 0.944237426395636, 0, 0], [257, 'FOXA1 27197147 Chip-Seq ENDOMETRIOID-ADENOCARCINOMA Human', 0.4361309885704634, 3.090909090909091, 2.564875458236072, ['INSR'], 0.944237426395636, 0, 0], [258, 'SMAD1 18555785 ChIP-Seq MESCs Mouse', 0.4361309885704634, 3.090909090909091, 2.564875458236072, ['PHF21A'], 0.944237426395636, 0, 0], [259, 'TBX3 20139965 ChIP-Seq MESCs Mouse', 0.4361309885704634, 3.090909090909091, 2.564875458236072, ['LARP7'], 0.944237426395636, 0, 0], [260, 'TP53 20018659 ChIP-ChIP R1E Mouse', 0.4361309885704634, 3.090909090909091, 2.564875458236072, ['CDH8'], 0.944237426395636, 0, 0], [261, 'HSF1 23293686 ChIP-Seq STHDH STRIATAL Mouse', 0.4361309885704634, 3.090909090909091, 2.564875458236072, ['HSPA1L'], 0.944237426395636, 0, 0], [262, 'RELA 24523406 ChIP-Seq FIBROSARCOMA Human', 0.4361309885704634, 3.090909090909091, 2.564875458236072, ['HSPA1L'], 0.944237426395636, 0, 0], [263, 'TBX3 20139965 ChIP-Seq ESCs Mouse', 0.4361309885704634, 3.090909090909091, 2.564875458236072, ['LARP7'], 0.944237426395636, 0, 0], [264, 'RBPJ 21746931 ChIP-Seq IB4 Human', 0.4361309885704634, 3.090909090909091, 2.564875458236072, ['PPM1B'], 0.944237426395636, 0, 0], [265, 'ADNP 35650610 ChIP-Seq mESC Mouse Stem Autism', 0.4361309885704634, 3.090909090909091, 2.564875458236072, ['TECPR2'], 0.944237426395636, 0, 0], [266, 'TBX2 35687133 ChIP-Seq MCF-7 Human BreastCancer', 0.4361309885704634, 3.090909090909091, 2.564875458236072, ['PLBD2'], 0.944237426395636, 0, 0], [267, 'FOXM1 26456572 ChIP-Seq MCF-7 Human BreastCancer', 0.4361309885704634, 3.090909090909091, 2.564875458236072, ['PPM1B'], 0.944237426395636, 0, 0], [268, 'RCOR2 21632747 ChIP-Seq MESCs Mouse', 0.4638604330532781, 1.546875, 1.1882653862618915, ['PPM1B', 'CDH8'], 0.944237426395636, 0, 0], [269, 'MYC 22102868 ChIP-Seq BL Human', 0.4638604330532781, 1.546875, 1.1882653862618915, ['CUX1', 'INSR'], 0.944237426395636, 0, 0], [270, 'NANOG 21062744 ChIP-ChIP HESCs Human', 0.4638604330532781, 1.546875, 1.1882653862618915, ['PPM1B', 'CXXC1'], 0.944237426395636, 0, 0], [271, 'RUNX1 26923725 Chip-Seq HPCs Mouse', 0.4638604330532781, 1.546875, 1.1882653862618915, ['CUX1', 'PHF21A'], 0.944237426395636, 0, 0], [272, 'THAP11 20581084 ChIP-Seq MESCs Mouse', 0.4638604330532781, 1.546875, 1.1882653862618915, ['ARL10', 'CRYZL1'], 0.944237426395636, 0, 0], [273, 'ER 23166858 ChIP-Seq MCF-7 Human', 0.4638604330532781, 1.546875, 1.1882653862618915, ['CUX1', 'CUL2'], 0.944237426395636, 0, 0], [274, 'PHC1 16625203 ChIP-ChIP MESCs Mouse', 0.4638604330532781, 1.546875, 1.1882653862618915, ['HSPA1L', 'CDH8'], 0.944237426395636, 0, 0], [275, 'GATA1 19941826 ChIP-Seq K562 Human', 0.4638604330532781, 1.546875, 1.1882653862618915, ['CUX1', 'SEC22C'], 0.944237426395636, 0, 0], [276, 'E2F4 17652178 ChIP-ChIP JURKAT Human', 0.4638604330532781, 1.546875, 1.1882653862618915, ['PPM1B', 'CXXC1'], 0.944237426395636, 0, 0], [277, 'RUNX1 20887958 ChIP-Seq HPC-7 Mouse', 0.4638604330532781, 1.546875, 1.1882653862618915, ['P2RX7', 'SEC22C'], 0.944237426395636, 0, 0], [278, 'RNF2 27304074 Chip-Seq ESCs Mouse', 0.4638604330532781, 1.546875, 1.1882653862618915, ['ROBO2', 'EIF4E3'], 0.944237426395636, 0, 0], [279, 'JUN 21703547 ChIP-Seq K562 Human', 0.4638604330532781, 1.546875, 1.1882653862618915, ['ROBO2', 'PHF14'], 0.944237426395636, 0, 0], [280, 'PHF8 20622853 ChIP-Seq HELA Human', 0.4638604330532781, 1.546875, 1.1882653862618915, ['CUL2', 'PHF21A'], 0.944237426395636, 0, 0], [281, 'DPY 21335234 ChIP-Seq ESCs Mouse', 0.4638604330532781, 1.546875, 1.1882653862618915, ['ANAPC16', 'PLBD2'], 0.944237426395636, 0, 0], [282, 'SOX9 26525672 Chip-Seq Limbbuds Mouse', 0.4638604330532781, 1.546875, 1.1882653862618915, ['ANAPC16', 'CNPY2'], 0.944237426395636, 0, 0], [283, 'KDM2B 26808549 Chip-Seq REH Human', 0.4638604330532781, 1.546875, 1.1882653862618915, ['TMCC1', 'CDH8'], 0.944237426395636, 0, 0], [284, 'ATF3 23680149 ChIP-Seq GBM1-GSC Human', 0.4638604330532781, 1.546875, 1.1882653862618915, ['P2RX7', 'LARP7'], 0.944237426395636, 0, 0], [285, 'TCF21 26020271 ChIP-Seq HCASMC Human CoronaryArtery', 0.4638604330532781, 1.546875, 1.1882653862618915, ['RBM3', 'ANAPC16'], 0.944237426395636, 0, 0], [286, 'NR3C1 21868756 ChIP-Seq MCF10A Human', 0.47156713312797005, 1.327188940092166, 0.9976397043480347, ['EIF4E3', 'CUX1', 'CDH8'], 0.944237426395636, 0, 0], [287, 'CEBPB 21427703 ChIP-Seq 3T3-L1 Mouse', 0.47156713312797005, 1.327188940092166, 0.9976397043480347, ['INSR', 'CRYZL1', 'CUL2'], 0.944237426395636, 0, 0], [288, 'HOXB4 20404135 ChIP-ChIP EML Mouse', 0.47156713312797005, 1.327188940092166, 0.9976397043480347, ['CRYZL1', 'CUL2', 'ATF7'], 0.944237426395636, 0, 0], [289, 'FOXM1 26100407 CHIP-SEQ Hek293 Flp-In Human', 0.47156713312797005, 1.327188940092166, 0.9976397043480347, ['ROBO2', 'PPM1B', 'ZNF302'], 0.944237426395636, 0, 0], [290, 'PHF8 20622854 ChIP-Seq HELA Human', 0.47156713312797005, 1.327188940092166, 0.9976397043480347, ['P2RX7', 'ANAPC16', 'SEC22C'], 0.944237426395636, 0, 0], [291, 'P63 26484246 Chip-Seq KERATINOCYTES Human', 0.47156713312797005, 1.327188940092166, 0.9976397043480347, ['P2RX7', 'CYTH2', 'CDH8'], 0.944237426395636, 0, 0], [292, 'BCOR 27268052 Chip-Seq Bcells Human', 0.47156713312797005, 1.327188940092166, 0.9976397043480347, ['RBM3', 'P2RX7', 'SEC22C'], 0.944237426395636, 0, 0], [293, 'OLIG2 29049317 ChIP-Seq Mouse SpinalCord', 0.47156713312797005, 1.327188940092166, 0.9976397043480347, ['CRYZL1', 'CXXC1', 'ATF7'], 0.944237426395636, 0, 0], [294, 'SMAD1 26771354 ChIP-Seq mESC Mouse Stem', 0.47156713312797005, 1.327188940092166, 0.9976397043480347, ['P2RX7', 'PPM1B', 'TMCC1'], 0.944237426395636, 0, 0], [295, 'TET1 21451524 ChIP-Seq MESCs Mouse', 0.47526617128580345, 1.24, 0.9224115363985821, ['HSPA1L', 'CUL2', 'PHF14', 'PLBD2'], 0.944237426395636, 0, 0], [296, 'AR 22383394 ChIP-Seq PROSTATE CANCER Human', 0.47526617128580345, 1.24, 0.9224115363985821, ['CUX1', 'CUL2', 'ATF7', 'SEC22C'], 0.944237426395636, 0, 0], [297, 'UTX 26944678 Chip-Seq JUKART Human', 0.47526617128580345, 1.24, 0.9224115363985821, ['P2RX7', 'PPM1B', 'CUL2', 'PHF21A'], 0.944237426395636, 0, 0], [298, 'RARB 27405468 Chip-Seq BRAIN Mouse', 0.47526617128580345, 1.24, 0.9224115363985821, ['ROBO2', 'EIF4E3', 'ANAPC16', 'MSL1'], 0.944237426395636, 0, 0], [299, 'POU5F1 18347094 ChIP-ChIP MESCs Mouse', 0.47526617128580345, 1.24, 0.9224115363985821, ['CRYZL1', 'CUL2', 'CXXC1', 'LARP7'], 0.944237426395636, 0, 0], [300, 'SOX2 20726797 ChIP-Seq SW620 Human', 0.47526617128580345, 1.24, 0.9224115363985821, ['PHF14', 'TMCC1', 'ZNF302', 'SEC22C'], 0.944237426395636, 0, 0], [301, 'FOXA2 19822575 ChIP-Seq HepG2 Human', 0.47526617128580345, 1.24, 0.9224115363985821, ['CUX1', 'INSR', 'ATF7', 'TMCC1'], 0.944237426395636, 0, 0], [302, 'NANOG 18692474 ChIP-Seq MESCs Mouse', 0.47526617128580345, 1.24, 0.9224115363985821, ['CRYZL1', 'CUL2', 'LARP7', 'ATF7'], 0.944237426395636, 0, 0], [303, 'RARA 24833708 ChIP-Seq LIVER Mouse', 0.4774268729989063, 1.193633952254642, 0.8825064306461836, ['CUX1', 'CUL2', 'TECPR2', 'PHF21A', 'MSL1'], 0.9453997485126857, 0, 0], [304, 'MITF 21258399 ChIP-Seq MELANOMA Human', 0.5275408355722951, 1.0702341137123745, 0.6844457559555682, ['P2RX7', 'CUX1', 'MOB2', 'CNPY2', 'ATF7', 'PLBD2', 'MSL1', 'SEC22C'], 0.9503707600291564, 0, 0], [305, 'TET1 21490601 ChIP-Seq MESCs Mouse', 0.5388071283523425, 1.1151515151515152, 0.6896070256028779, ['CUX1', 'INSR', 'TMCC1', 'TECPR2'], 0.9503707600291564, 0, 0], [306, 'SMAD4 21799915 ChIP-Seq A2780 Human', 0.5388071283523425, 1.1151515151515152, 0.6896070256028779, ['ROBO2', 'PHF21A', 'CDH8', 'SEC22C'], 0.9503707600291564, 0, 0], [307, 'SREBP2 21459322 ChIP-Seq LIVER Mouse', 0.5448624429761075, 1.1491935483870968, 0.6978155064512609, ['PPM1B', 'INSR', 'CUL2'], 0.9503707600291564, 0, 0], [308, 'SCL 21571218 ChIP-Seq MEGAKARYOCYTES Human', 0.5448624429761075, 1.1491935483870968, 0.6978155064512609, ['CYTH2', 'CXXC1', 'TECPR2'], 0.9503707600291564, 0, 0], [309, 'LMO2 26923725 Chip-Seq HEMANGIOBLAST Mouse', 0.5448624429761075, 1.1491935483870968, 0.6978155064512609, ['PPM1B', 'ATF7', 'PHF21A'], 0.9503707600291564, 0, 0], [310, 'E2F1 20622854 ChIP-Seq HELA Human', 0.5448624429761075, 1.1491935483870968, 0.6978155064512609, ['RBM3', 'TECPR2', 'SEC22C'], 0.9503707600291564, 0, 0], [311, 'GATA3 26560356 Chip-Seq TH1 Human', 0.5448624429761075, 1.1491935483870968, 0.6978155064512609, ['PPM1B', 'CRYZL1', 'MSL1'], 0.9503707600291564, 0, 0], [312, 'SA1 27219007 Chip-Seq Bcells Human', 0.5448624429761075, 1.1491935483870968, 0.6978155064512609, ['CUL2', 'CNPY2', 'PHF21A'], 0.9503707600291564, 0, 0], [313, 'SETDB1 19884257 ChIP-Seq MESCs Mouse', 0.5448624429761075, 1.1491935483870968, 0.6978155064512609, ['CYTH2', 'PPM1B', 'SEC22C'], 0.9503707600291564, 0, 0], [314, 'CUX1 19635798 ChIP-ChIP MULTIPLE CANCER TYPES Human', 0.5448624429761075, 1.1491935483870968, 0.6978155064512609, ['RBM3', 'CUL2', 'ATF7'], 0.9503707600291564, 0, 0], [315, 'SOX2 18692474 ChIP-Seq MEFs Mouse', 0.5448624429761075, 1.1491935483870968, 0.6978155064512609, ['PPM1B', 'CRYZL1', 'LARP7'], 0.9503707600291564, 0, 0], [316, 'NANOG 18692474 ChIP-Seq MEFs Mouse', 0.5448624429761075, 1.1491935483870968, 0.6978155064512609, ['CRYZL1', 'CUL2', 'LARP7'], 0.9503707600291564, 0, 0], [317, 'NRF2 31884422 ChIP-Seq A549 Human Lung Carcinoma', 0.5448624429761075, 1.1491935483870968, 0.6978155064512609, ['ANAPC16', 'MOB2', 'TMCC1'], 0.9503707600291564, 0, 0], [318, 'STAT5A 24692510 ChIP-Seq Epithelium Mouse Mammary', 0.5448624429761075, 1.1491935483870968, 0.6978155064512609, ['P2RX7', 'EIF4E3', 'TMCC1'], 0.9503707600291564, 0, 0], [319, 'P53 22127205 ChIP-Seq FIBROBLAST Human', 0.555091492256309, 1.225, 0.7210623516895693, ['CYTH2', 'PHF14'], 0.9503707600291564, 0, 0], [320, 'SREBP1 19666523 ChIP-Seq LIVER Mouse', 0.555091492256309, 1.225, 0.7210623516895693, ['ROBO2', 'PPM1B'], 0.9503707600291564, 0, 0], [321, 'GABP 17652178 ChIP-ChIP JURKAT Human', 0.555091492256309, 1.225, 0.7210623516895693, ['RBM3', 'ZNF302'], 0.9503707600291564, 0, 0], [322, 'NFE2L2 20460467 ChIP-Seq MEFs Mouse', 0.555091492256309, 1.225, 0.7210623516895693, ['EIF4E3', 'CDH8'], 0.9503707600291564, 0, 0], [323, 'NRF2 20460467 ChIP-Seq MEFs Mouse', 0.555091492256309, 1.225, 0.7210623516895693, ['EIF4E3', 'CDH8'], 0.9503707600291564, 0, 0], [324, 'TBP 23326641 ChIP-Seq C3H10T1-2 Mouse', 0.555091492256309, 1.225, 0.7210623516895693, ['RBM3', 'PHF21A'], 0.9503707600291564, 0, 0], [325, 'GF1 26923725 Chip-Seq HPCs Mouse', 0.555091492256309, 1.225, 0.7210623516895693, ['PPM1B', 'PHF21A'], 0.9503707600291564, 0, 0], [326, 'SOX9 25088423 ChIP-ChIP EMBRYONIC GONADS Mouse', 0.555091492256309, 1.225, 0.7210623516895693, ['ATF7', 'SEC22C'], 0.9503707600291564, 0, 0], [327, 'NCOR1 26117541 ChIP-Seq K562 Human', 0.555091492256309, 1.225, 0.7210623516895693, ['CYTH2', 'PHF21A'], 0.9503707600291564, 0, 0], [328, 'NANOG 18555785 Chip-Seq ESCs Mouse', 0.555091492256309, 1.225, 0.7210623516895693, ['CUX1', 'PHF21A'], 0.9503707600291564, 0, 0], [329, 'TCFCP2L1 18555785 Chip-Seq ESCs Mouse', 0.555091492256309, 1.225, 0.7210623516895693, ['CUX1', 'PHF21A'], 0.9503707600291564, 0, 0], [330, 'ZFP281 18757296 ChIP-ChIP E14 Mouse', 0.555091492256309, 1.225, 0.7210623516895693, ['INSR', 'PHF21A'], 0.9503707600291564, 0, 0], [331, 'LDB1 21186366 ChIP-Seq BM-HSCs Mouse', 0.555091492256309, 1.225, 0.7210623516895693, ['RBM3', 'SEC22C'], 0.9503707600291564, 0, 0], [332, 'AR 21915096 ChIP-Seq LNCaP-1F5 Human', 0.555091492256309, 1.225, 0.7210623516895693, ['TMCC1', 'SEC22C'], 0.9503707600291564, 0, 0], [333, 'CEBPB 22108803 ChIP-Seq LS180 Human', 0.555091492256309, 1.225, 0.7210623516895693, ['HSPA1L', 'TMCC1'], 0.9503707600291564, 0, 0], [334, 'GATA2 22383799 ChIP-Seq G1ME Mouse', 0.555091492256309, 1.225, 0.7210623516895693, ['PHF14', 'CNPY2'], 0.9503707600291564, 0, 0], [335, 'EP300 20729851 ChIP-Seq FORBRAIN MIDBRAIN LIMB HEART Mouse', 0.555091492256309, 1.225, 0.7210623516895693, ['P2RX7', 'INSR'], 0.9503707600291564, 0, 0], [336, 'PGR 26153859 ChIP-Seq MCF-7 Human BreastCancer', 0.555091492256309, 1.225, 0.7210623516895693, ['PPM1B', 'CNPY2'], 0.9503707600291564, 0, 0], [337, 'TCF4 32651957 ChIP-Seq PLC/PRF/5 Human Liver Heptoma', 0.555091492256309, 1.225, 0.7210623516895693, ['ROBO2', 'KANSL1L'], 0.9503707600291564, 0, 0], [338, 'ISL1 30127528 ChIP-Seq BE2C Human Brain Neuroblastoma', 0.555091492256309, 1.225, 0.7210623516895693, ['ANAPC16', 'TMCC1'], 0.9503707600291564, 0, 0], [339, 'CHD7 19251738 ChIP-ChIP MESCs Mouse', 0.5781422123510702, 1.5303030303030303, 0.8385072006480515, ['CRYZL1'], 0.9503707600291564, 0, 0], [340, 'SCL 19346495 ChIP-Seq HPC-7 Human', 0.5781422123510702, 1.5303030303030303, 0.8385072006480515, ['P2RX7'], 0.9503707600291564, 0, 0], [341, 'ZIC3 20872845 ChIP-ChIP MESCs Mouse', 0.5781422123510702, 1.5303030303030303, 0.8385072006480515, ['CUL2'], 0.9503707600291564, 0, 0], [342, 'CLOCK 20551151 ChIP-Seq 293T Human', 0.5781422123510702, 1.5303030303030303, 0.8385072006480515, ['RBM3'], 0.9503707600291564, 0, 0], [343, 'TP53 16413492 ChIP-PET HCT116 Human', 0.5781422123510702, 1.5303030303030303, 0.8385072006480515, ['PHF14'], 0.9503707600291564, 0, 0], [344, 'CIITA 25753668 ChIP-Seq RAJI Human', 0.5781422123510702, 1.5303030303030303, 0.8385072006480515, ['CXXC1'], 0.9503707600291564, 0, 0], [345, 'SOX2 18555785 ChIP-Seq MESCs Mouse', 0.5781422123510702, 1.5303030303030303, 0.8385072006480515, ['CXXC1'], 0.9503707600291564, 0, 0], [346, 'CDX2 20551321 ChIP-Seq CACO-2 Human', 0.5781422123510702, 1.5303030303030303, 0.8385072006480515, ['TMCC1'], 0.9503707600291564, 0, 0], [347, 'STAT6 20620947 ChIP-Seq CD4 POS T Human', 0.5781422123510702, 1.5303030303030303, 0.8385072006480515, ['INSR'], 0.9503707600291564, 0, 0], [348, 'FOXO3 23340844 ChIP-Seq DLD1 Human', 0.5781422123510702, 1.5303030303030303, 0.8385072006480515, ['CUX1'], 0.9503707600291564, 0, 0], [349, 'WDR5 24793694 ChIP-Seq LNCAP Human', 0.5781422123510702, 1.5303030303030303, 0.8385072006480515, ['INSR'], 0.9503707600291564, 0, 0], [350, 'SOX2 18358816 ChIP-ChIP MESCs Mouse', 0.5781422123510702, 1.5303030303030303, 0.8385072006480515, ['PPM1B'], 0.9503707600291564, 0, 0], [351, 'EZH2 27304074 Chip-Seq ESCs Mouse', 0.5781422123510702, 1.5303030303030303, 0.8385072006480515, ['EIF4E3'], 0.9503707600291564, 0, 0], [352, 'CREB1 15753290 ChIP-ChIP HEK293T Human', 0.5781422123510702, 1.5303030303030303, 0.8385072006480515, ['ZNF302'], 0.9503707600291564, 0, 0], [353, 'GRHL2 25758223 ChIP-Seq PLACENTA Mouse', 0.5781422123510702, 1.5303030303030303, 0.8385072006480515, ['PPM1B'], 0.9503707600291564, 0, 0], [354, 'PAX6 23342162 ChIP-ChIP BETA-FORBRAIN-LENS Mouse', 0.5781422123510702, 1.5303030303030303, 0.8385072006480515, ['ARL10'], 0.9503707600291564, 0, 0], [355, 'JARID2 20064375 ChIP-Seq MESCs Mouse', 0.5781422123510702, 1.5303030303030303, 0.8385072006480515, ['CDH8'], 0.9503707600291564, 0, 0], [356, 'SOX11 23321250 ChIP-ChIP Z138-A519-JVM2 Human', 0.5781422123510702, 1.5303030303030303, 0.8385072006480515, ['P2RX7'], 0.9503707600291564, 0, 0], [357, 'SIN3A 21632747 ChIP-Seq MESCs Mouse', 0.5781422123510702, 1.5303030303030303, 0.8385072006480515, ['TMCC1'], 0.9503707600291564, 0, 0], [358, 'SPI1 20517297 ChIP-Seq HL60 Human', 0.5781422123510702, 1.5303030303030303, 0.8385072006480515, ['CUX1'], 0.9503707600291564, 0, 0], [359, 'ETV1 20927104 ChIP-Seq GIST48 Human', 0.5781422123510702, 1.5303030303030303, 0.8385072006480515, ['PPM1B'], 0.9503707600291564, 0, 0], [360, 'CDX2 21074721 ChIP-Seq CACO-2 Mouse', 0.5781422123510702, 1.5303030303030303, 0.8385072006480515, ['CUL2'], 0.9503707600291564, 0, 0], [361, 'RXR 22108803 ChIP-Seq LS180 Human', 0.5781422123510702, 1.5303030303030303, 0.8385072006480515, ['CDH8'], 0.9503707600291564, 0, 0], [362, 'PCGF4 22325352 ChIP-Seq 293T-Rex Human', 0.5781422123510702, 1.5303030303030303, 0.8385072006480515, ['PPM1B'], 0.9503707600291564, 0, 0], [363, 'SUZ12 18692474 ChIP-Seq MEFs Mouse', 0.5781422123510702, 1.5303030303030303, 0.8385072006480515, ['CDH8'], 0.9503707600291564, 0, 0], [364, 'JUN 26020271 ChIP-Seq HCASMC Human CoronaryArtery', 0.5781422123510702, 1.5303030303030303, 0.8385072006480515, ['ANAPC16'], 0.9503707600291564, 0, 0], [365, 'RUNX1 22343733 ChIP-Seq PBMC Human BoneMarrow', 0.5781422123510702, 1.5303030303030303, 0.8385072006480515, ['CUX1'], 0.9503707600291564, 0, 0], [366, 'ERG 20887958 ChIP-Seq HPC-7 Mouse', 0.5987022881895878, 1.011111111111111, 0.5186907171182833, ['ARL10', 'CUX1', 'PHF14', 'MSL1'], 0.9512709617591277, 0, 0], [367, 'NEUROD2 26341353 ChIP-Seq CORTEX Mouse', 0.5987022881895878, 1.011111111111111, 0.5186907171182833, ['ROBO2', 'PPM1B', 'CUX1', 'PHF21A'], 0.9512709617591277, 0, 0], [368, 'LXR 22158963 ChIP-Seq LIVER Mouse', 0.5987022881895878, 1.011111111111111, 0.5186907171182833, ['P2RX7', 'PPM1B', 'CRYZL1', 'MSL1'], 0.9512709617591277, 0, 0], [369, 'RUNX1 22412390 ChIP-Seq EML Mouse', 0.5987022881895878, 1.011111111111111, 0.5186907171182833, ['P2RX7', 'CUX1', 'MSL1', 'SEC22C'], 0.9512709617591277, 0, 0], [370, 'TBX5 21415370 ChIP-Seq HL-1 Mouse', 0.5987022881895878, 1.011111111111111, 0.5186907171182833, ['PPM1B', 'CRYZL1', 'CXXC1', 'LARP7'], 0.9512709617591277, 0, 0], [371, 'TP53 23651856 ChIP-Seq MEFs Mouse', 0.5987022881895878, 1.011111111111111, 0.5186907171182833, ['HSPA1L', 'CUX1', 'CRYZL1', 'SEC22C'], 0.9512709617591277, 0, 0], [372, 'SOX2 18692474 ChIP-Seq MESCs Mouse', 0.5987022881895878, 1.011111111111111, 0.5186907171182833, ['PPM1B', 'CRYZL1', 'LARP7', 'PHF21A'], 0.9512709617591277, 0, 0], [373, 'AR 19668381 ChIP-Seq PC3 Human', 0.5987022881895878, 1.011111111111111, 0.5186907171182833, ['ROBO2', 'PPM1B', 'INSR', 'PHF21A'], 0.9512709617591277, 0, 0], [374, 'TFAP2C 20629094 ChIP-Seq MCF-7 Human', 0.6124052923128773, 1.010752688172043, 0.49563367195199054, ['CUX1', 'ATF7', 'ZNF302'], 0.9512709617591277, 0, 0], [375, 'YY1 23942234 ChIP-Seq MYOBLASTS AND MYOTUBES Mouse', 0.6124052923128773, 1.010752688172043, 0.49563367195199054, ['CUX1', 'PHF14', 'CXXC1'], 0.9512709617591277, 0, 0], [376, 'KLF4 19829295 ChIP-Seq ESCs Human', 0.6124052923128773, 1.010752688172043, 0.49563367195199054, ['INSR', 'MOB2', 'PHF21A'], 0.9512709617591277, 0, 0], [377, 'RAC3 21632823 ChIP-Seq H3396 Human', 0.6124052923128773, 1.010752688172043, 0.49563367195199054, ['ARL10', 'CYTH2', 'INSR'], 0.9512709617591277, 0, 0], [378, 'SMAD2/3 21741376 ChIP-Seq EPCs Human', 0.6124052923128773, 1.010752688172043, 0.49563367195199054, ['ARL10', 'CUX1', 'PHF14'], 0.9512709617591277, 0, 0], [379, 'NCOR 22424771 ChIP-Seq 293T Human', 0.6124052923128773, 1.010752688172043, 0.49563367195199054, ['CNPY2', 'TMCC1', 'TECPR2'], 0.9512709617591277, 0, 0], [380, 'CHD1 26751641 Chip-Seq LNCaP Human', 0.6124052923128773, 1.010752688172043, 0.49563367195199054, ['CUL2', 'ATF7', 'PHF21A'], 0.9512709617591277, 0, 0], [381, 'PU 27001747 Chip-Seq BMDM Mouse', 0.6124052923128773, 1.010752688172043, 0.49563367195199054, ['ANAPC16', 'CRYZL1', 'MSL1'], 0.9512709617591277, 0, 0], [382, 'FOXP1 21924763 ChIP-Seq HESCs Human', 0.623653328286778, 0.9545454545454546, 0.4506987818820674, ['CYTH2', 'ANAPC16', 'CUX1', 'INSR', 'LARP7', 'TMCC1', 'SEC22C'], 0.9512709617591277, 0, 0], [383, 'IRF4 20064451 ChIP-Seq CD4+T Mouse', 0.6353280280228187, 1.0104166666666667, 0.45833897801044177, ['INSR', 'PHF21A'], 0.9512709617591277, 0, 0], [384, 'CBP 20019798 ChIP-Seq JUKART Human', 0.6353280280228187, 1.0104166666666667, 0.45833897801044177, ['INSR', 'PHF21A'], 0.9512709617591277, 0, 0], [385, 'PAX3-FKHR 20663909 ChIP-Seq RHABDOMYOSARCOMA Human', 0.6353280280228187, 1.0104166666666667, 0.45833897801044177, ['ROBO2', 'CDH8'], 0.9512709617591277, 0, 0], [386, 'CEBPB 26923725 Chip-Seq MESODERM Mouse', 0.6353280280228187, 1.0104166666666667, 0.45833897801044177, ['PHF21A', 'CDH8'], 0.9512709617591277, 0, 0], [387, 'TP53 22573176 ChIP-Seq HFKS Human', 0.6353280280228187, 1.0104166666666667, 0.45833897801044177, ['ANAPC16', 'INSR'], 0.9512709617591277, 0, 0], [388, 'TCF21 26020271 ChIP-Seq SMOOTH MUSCLE Human', 0.6353280280228187, 1.0104166666666667, 0.45833897801044177, ['RBM3', 'ATF7'], 0.9512709617591277, 0, 0], [389, 'SMAD4 21741376 ChIP-Seq EPCs Human', 0.6353280280228187, 1.0104166666666667, 0.45833897801044177, ['ARL10', 'PPM1B'], 0.9512709617591277, 0, 0], [390, 'NFYB 21822215 ChIP-Seq K562 Human', 0.6353280280228187, 1.0104166666666667, 0.45833897801044177, ['CUL2', 'PHF21A'], 0.9512709617591277, 0, 0], [391, 'TBL1 22424771 ChIP-Seq 293T Human', 0.6353280280228187, 1.0104166666666667, 0.45833897801044177, ['CUL2', 'PHF21A'], 0.9512709617591277, 0, 0], [392, 'SMRT 22465074 ChIP-Seq MACROPHAGES Mouse', 0.6353280280228187, 1.0104166666666667, 0.45833897801044177, ['CUL2', 'PHF14'], 0.9512709617591277, 0, 0], [393, 'GATA3 26560356 Chip-Seq TH2 Human', 0.6353280280228187, 1.0104166666666667, 0.45833897801044177, ['CRYZL1', 'MSL1'], 0.9512709617591277, 0, 0], [394, 'ZFP281 27345836 Chip-Seq ESCs Mouse', 0.6353280280228187, 1.0104166666666667, 0.45833897801044177, ['CUX1', 'MSL1'], 0.9512709617591277, 0, 0], [395, 'BRD4 25478319 ChIP-Seq HGPS Human', 0.6353280280228187, 1.0104166666666667, 0.45833897801044177, ['RBM3', 'CUL2'], 0.9512709617591277, 0, 0], [396, 'SMAD4 21741376 ChIP-Seq HESCs Human', 0.6353280280228187, 1.0104166666666667, 0.45833897801044177, ['INSR', 'CDH8'], 0.9512709617591277, 0, 0], [397, 'HOXB13 26457646 ChIP-Seq LNCaP Human Prostate Carcinoma', 0.6353280280228187, 1.0104166666666667, 0.45833897801044177, ['LARP7', 'TMCC1'], 0.9512709617591277, 0, 0], [398, 'MYC 18358816 ChIP-ChIP MESCs Mouse', 0.6408760373999861, 0.9375, 0.4171117782705037, ['RBM3', 'ARL10', 'HSPA1L', 'ATF7', 'SEC22C'], 0.9512709617591277, 0, 0], [399, 'NFI 21473784 ChIP-Seq ESCs Mouse', 0.6541424297267494, 0.9230769230769231, 0.39178169425780773, ['CYTH2', 'CUX1', 'LARP7', 'CDH8'], 0.9512709617591277, 0, 0], [400, 'MYC 19915707 ChIP-ChIP AK7 Human', 0.6541424297267494, 0.9230769230769231, 0.39178169425780773, ['INSR', 'CXXC1', 'TMCC1', 'PHF21A'], 0.9512709617591277, 0, 0], [401, 'SPI1 20176806 ChIP-Seq THIOMACROPHAGE Mouse', 0.6733559505402106, 0.9, 0.35593306911712885, ['PHF14', 'TMCC1', 'PHF21A'], 0.9512709617591277, 0, 0], [402, 'TCF7 22412390 ChIP-Seq EML Mouse', 0.6733559505402106, 0.9, 0.35593306911712885, ['CYTH2', 'CUX1', 'SEC22C'], 0.9512709617591277, 0, 0], [403, 'ESR1 26153859 ChIP-Seq T47D Human Breast Carcinoma', 0.6733559505402106, 0.9, 0.35593306911712885, ['CNPY2', 'ZNF302', 'TECPR2'], 0.9512709617591277, 0, 0], [404, 'TP63 30713093 ChIP-Seq Epithelial Human Tongue SCC', 0.6733559505402106, 0.9, 0.35593306911712885, ['ANAPC16', 'JADE2', 'TMCC1'], 0.9512709617591277, 0, 0], [405, 'AF4 26711339 ChIP-Seq SEM Human Blood Leukemia', 0.6765342546055553, 0.8892857142857142, 0.34750813287614873, ['PPM1B', 'CUX1', 'INSR', 'ATF7', 'PHF21A', 'SEC22C'], 0.9512709617591277, 0, 0], [406, 'KDM6A 18722178 ChIP-ChIP U937 AND SAOS2 Human', 0.6851805034399956, 1.0101010101010102, 0.38189188561686616, ['ZNF302'], 0.9512709617591277, 0, 0], [407, 'NFE2L2 22581777 ChIP-Seq LYMPHOBLASTOID Human', 0.6851805034399956, 1.0101010101010102, 0.38189188561686616, ['TMCC1'], 0.9512709617591277, 0, 0], [408, 'STAT3 1855785 ChIP-Seq MESCs Mouse', 0.6851805034399956, 1.0101010101010102, 0.38189188561686616, ['CXXC1'], 0.9512709617591277, 0, 0], [409, 'POU5F1 16153702 ChIP-ChIP HESCs Human', 0.6851805034399956, 1.0101010101010102, 0.38189188561686616, ['PHF21A'], 0.9512709617591277, 0, 0], [410, 'CEBPB 26923725 Chip-Seq HEMANGIOBLAST Mouse', 0.6851805034399956, 1.0101010101010102, 0.38189188561686616, ['PHF21A'], 0.9512709617591277, 0, 0], [411, 'CRX 20693478 ChIP-Seq ADULT RETINA Mouse', 0.6851805034399956, 1.0101010101010102, 0.38189188561686616, ['SEC22C'], 0.9512709617591277, 0, 0], [412, 'POU5F1 18358816 ChIP-ChIP MESCs Mouse', 0.6851805034399956, 1.0101010101010102, 0.38189188561686616, ['HSPA1L'], 0.9512709617591277, 0, 0], [413, 'IRF8 22096565 ChIP-ChIP GC-B Mouse', 0.6851805034399956, 1.0101010101010102, 0.38189188561686616, ['ARL10'], 0.9512709617591277, 0, 0], [414, 'EOMES 21245162 ChIP-Seq HESCs Human', 0.6851805034399956, 1.0101010101010102, 0.38189188561686616, ['CDH8'], 0.9512709617591277, 0, 0], [415, 'ELK1 22589737 ChIP-Seq MCF10A Human', 0.6851805034399956, 1.0101010101010102, 0.38189188561686616, ['CUL2'], 0.9512709617591277, 0, 0], [416, 'FOXM1 25889361 ChIP-Seq OE33 AND U2OS Human', 0.6851805034399956, 1.0101010101010102, 0.38189188561686616, ['PPM1B'], 0.9512709617591277, 0, 0], [417, 'KDM5A 27292631 Chip-Seq BREAST Human', 0.6851805034399956, 1.0101010101010102, 0.38189188561686616, ['CNPY2'], 0.9512709617591277, 0, 0], [418, 'CTBP1 25329375 ChIP-Seq LNCAP Human', 0.6851805034399956, 1.0101010101010102, 0.38189188561686616, ['CDH8'], 0.9512709617591277, 0, 0], [419, 'FOXP2 21765815 ChIP-ChIP NEURO2A Mouse', 0.6851805034399956, 1.0101010101010102, 0.38189188561686616, ['ROBO2'], 0.9512709617591277, 0, 0], [420, 'RNF2 18974828 ChIP-Seq MESCs Mouse', 0.6851805034399956, 1.0101010101010102, 0.38189188561686616, ['CDH8'], 0.9512709617591277, 0, 0], [421, 'EZH2 18974828 ChIP-Seq MESCs Mouse', 0.6851805034399956, 1.0101010101010102, 0.38189188561686616, ['CDH8'], 0.9512709617591277, 0, 0], [422, 'BACH1 22875853 ChIP-PCR HELA AND SCP4 Human', 0.6851805034399956, 1.0101010101010102, 0.38189188561686616, ['P2RX7'], 0.9512709617591277, 0, 0], [423, 'TAL1 22897851 ChIP-Seq JUKARTE6-1 Human', 0.6851805034399956, 1.0101010101010102, 0.38189188561686616, ['CUX1'], 0.9512709617591277, 0, 0], [424, 'SMC4 20622854 ChIP-Seq HELA Human', 0.6851805034399956, 1.0101010101010102, 0.38189188561686616, ['RBM3'], 0.9512709617591277, 0, 0], [425, 'CBX2 22325352 ChIP-Seq 293T-Rex Human', 0.6851805034399956, 1.0101010101010102, 0.38189188561686616, ['PPM1B'], 0.9512709617591277, 0, 0], [426, 'FOXI1 33610681 ChIP-Seq GES1 Human Gastric Carcinoma', 0.6851805034399956, 1.0101010101010102, 0.38189188561686616, ['INSR'], 0.9512709617591277, 0, 0], [427, 'POU2F1 27270436 ChIP-Seq LNCaP Human Prostate Carcinoma', 0.6851805034399956, 1.0101010101010102, 0.38189188561686616, ['KANSL1L'], 0.9512709617591277, 0, 0], [428, 'CTBP2 25329375 ChIP-Seq LNCAP Human', 0.704279898438954, 0.8571428571428571, 0.30049664471091336, ['CUL2', 'CDH8'], 0.9512709617591277, 0, 0], [429, 'TCF7L2 21901280 ChIP-Seq H4IIE Rat', 0.704279898438954, 0.8571428571428571, 0.30049664471091336, ['CUL2', 'CXXC1'], 0.9512709617591277, 0, 0], [430, 'ESRRB 18555785 ChIP-Seq MESCs Mouse', 0.704279898438954, 0.8571428571428571, 0.30049664471091336, ['ARL10', 'EIF4E3'], 0.9512709617591277, 0, 0], [431, 'MYC 19079543 ChIP-ChIP MESCs Mouse', 0.704279898438954, 0.8571428571428571, 0.30049664471091336, ['RBM3', 'ATF7'], 0.9512709617591277, 0, 0], [432, 'GATA1 19941827 ChIP-Seq MEL Mouse', 0.704279898438954, 0.8571428571428571, 0.30049664471091336, ['P2RX7', 'PHF21A'], 0.9512709617591277, 0, 0], [433, 'GATA3 21867929 ChIP-Seq CD8 Mouse', 0.704279898438954, 0.8571428571428571, 0.30049664471091336, ['INSR', 'SEC22C'], 0.9512709617591277, 0, 0], [434, 'P300 27058665 Chip-Seq ZR-75-30cells Human', 0.704279898438954, 0.8571428571428571, 0.30049664471091336, ['CNPY2', 'PHF21A'], 0.9512709617591277, 0, 0], [435, 'REST 19997604 ChIP-ChIP NEURONS Mouse', 0.704279898438954, 0.8571428571428571, 0.30049664471091336, ['RBM3', 'EIF4E3'], 0.9512709617591277, 0, 0], [436, 'NANOG 16518401 ChIP-PET MESCs Mouse', 0.704279898438954, 0.8571428571428571, 0.30049664471091336, ['EIF4E3', 'PHF21A'], 0.9512709617591277, 0, 0], [437, 'GATA1 22383799 ChIP-Seq G1ME Mouse', 0.7273803868826857, 0.8093841642228738, 0.2576316011451487, ['ARL10', 'PHF14', 'CNPY2'], 0.9512709617591277, 0, 0], [438, 'TAL1 20887958 ChIP-Seq HPC-7 Mouse', 0.7273803868826857, 0.8093841642228738, 0.2576316011451487, ['PPM1B', 'MSL1', 'SEC22C'], 0.9512709617591277, 0, 0], [439, 'MYC 19030024 ChIP-ChIP MESCs Mouse', 0.7321078073159006, 0.814176245210728, 0.25388254156560497, ['RBM3', 'PPM1B', 'CRYZL1', 'CXXC1', 'ATF7'], 0.9512709617591277, 0, 0], [440, 'ASH2L 23239880 ChIP-Seq MESCs Mouse', 0.7499463646899893, 0.7822222222222223, 0.22508725164889665, ['RBM3', 'EIF4E3', 'ANAPC16', 'ATF7'], 0.9512709617591277, 0, 0], [441, 'KDM5B 21448134 ChIP-Seq MESCs Mouse', 0.7499463646899893, 0.7822222222222223, 0.22508725164889665, ['PPM1B', 'EIF4E3', 'CUL2', 'ATF7'], 0.9512709617591277, 0, 0], [442, 'POU5F1 18692474 ChIP-Seq MESCs Mouse', 0.7499463646899893, 0.7822222222222223, 0.22508725164889665, ['HSPA1L', 'CRYZL1', 'CUL2', 'LARP7'], 0.9512709617591277, 0, 0], [443, 'TBX2 30127528 ChIP-Seq KELLY Human Brain Neuroblastoma', 0.7499463646899893, 0.7822222222222223, 0.22508725164889665, ['ANAPC16', 'PHF14', 'ATF7', 'SEC22C'], 0.9512709617591277, 0, 0], [444, 'ERG 20517297 ChIP-Seq VCAP Human', 0.7624580230680875, 0.7421875, 0.2012870566745761, ['CRYZL1', 'SEC22C'], 0.9512709617591277, 0, 0], [445, 'TAL1 20566737 ChIP-Seq PRIMARY FETAL LIVER ERYTHROID Mouse', 0.7624580230680875, 0.7421875, 0.2012870566745761, ['P2RX7', 'CUX1'], 0.9512709617591277, 0, 0], [446, 'P300 19829295 ChIP-Seq ESCs Human', 0.7624580230680875, 0.7421875, 0.2012870566745761, ['ROBO2', 'CDH8'], 0.9512709617591277, 0, 0], [447, 'LUZP1 20508642 ChIP-Seq ESCs Mouse', 0.7624580230680875, 0.7421875, 0.2012870566745761, ['ANAPC16', 'CNPY2'], 0.9512709617591277, 0, 0], [448, 'PU.1 20513432 ChIP-Seq MACROPHAGES Mouse', 0.7624580230680875, 0.7421875, 0.2012870566745761, ['PHF14', 'ATF7'], 0.9512709617591277, 0, 0], [449, 'P68 20966046 ChIP-Seq HELA Human', 0.7624580230680875, 0.7421875, 0.2012870566745761, ['RBM3', 'P2RX7'], 0.9512709617591277, 0, 0], [450, 'GATA2 21186366 ChIP-Seq BM-HSCs Mouse', 0.7624580230680875, 0.7421875, 0.2012870566745761, ['ANAPC16', 'TECPR2'], 0.9512709617591277, 0, 0], [451, 'SOX2 21211035 ChIP-Seq LN229 Human', 0.7624580230680875, 0.7421875, 0.2012870566745761, ['HSPA1L', 'CUX1'], 0.9512709617591277, 0, 0], [452, 'UBF1/2 26484160 Chip-Seq HMECs Human', 0.7624580230680875, 0.7421875, 0.2012870566745761, ['EIF4E3', 'MOB2'], 0.9512709617591277, 0, 0], [453, 'MAF 26560356 Chip-Seq TH2 Human', 0.7624580230680875, 0.7421875, 0.2012870566745761, ['CXXC1', 'PHF21A'], 0.9512709617591277, 0, 0], [454, 'CTCF 27219007 Chip-Seq Bcells Human', 0.7624580230680875, 0.7421875, 0.2012870566745761, ['INSR', 'MOB2'], 0.9512709617591277, 0, 0], [455, 'PBX 27287812 Chip-Seq EMBYONIC-LIMB Mouse', 0.7624580230680875, 0.7421875, 0.2012870566745761, ['P2RX7', 'CYTH2'], 0.9512709617591277, 0, 0], [456, 'TCF3 18347094 ChIP-ChIP MESCs Mouse', 0.7624580230680875, 0.7421875, 0.2012870566745761, ['CRYZL1', 'LARP7'], 0.9512709617591277, 0, 0], [457, 'MYBL2 22936984 ChIP-ChIP MESCs Mouse', 0.7624580230680875, 0.7421875, 0.2012870566745761, ['RBM3', 'HSPA1L'], 0.9512709617591277, 0, 0], [458, 'RCOR3 21632747 ChIP-Seq MESCs Mouse', 0.7624580230680875, 0.7421875, 0.2012870566745761, ['ARL10', 'PPM1B'], 0.9512709617591277, 0, 0], [459, 'DNAJC2 21179169 ChIP-ChIP NT2 Human', 0.7656603951910196, 0.75, 0.20026241689804736, ['RBM11'], 0.9512709617591277, 0, 0], [460, 'MYB 21317192 ChIP-Seq ERMYB Mouse', 0.7656603951910196, 0.75, 0.20026241689804736, ['EIF4E3'], 0.9512709617591277, 0, 0], [461, 'ETV2 25802403 ChIP-Seq MESCs Mouse', 0.7656603951910196, 0.75, 0.20026241689804736, ['CNPY2'], 0.9512709617591277, 0, 0], [462, 'GATA2 21571218 ChIP-Seq MEGAKARYOCYTES Human', 0.7656603951910196, 0.75, 0.20026241689804736, ['CUL2'], 0.9512709617591277, 0, 0], [463, 'SMARCA4 20176728 ChIP-ChIP TSCs Mouse', 0.7656603951910196, 0.75, 0.20026241689804736, ['SEC22C'], 0.9512709617591277, 0, 0], [464, 'STAT5 23275557 ChIP-Seq MAMMARY-EPITHELIUM Mouse', 0.7656603951910196, 0.75, 0.20026241689804736, ['P2RX7'], 0.9512709617591277, 0, 0], [465, 'POU5F1 16518401 ChIP-PET MESCs Mouse', 0.7656603951910196, 0.75, 0.20026241689804736, ['CXXC1'], 0.9512709617591277, 0, 0], [466, 'STAT3 24763339 ChIP-Seq IMN-ESCs Mouse', 0.7656603951910196, 0.75, 0.20026241689804736, ['CUX1'], 0.9512709617591277, 0, 0], [467, 'P300 18555785 Chip-Seq ESCs Mouse', 0.7656603951910196, 0.75, 0.20026241689804736, ['PHF21A'], 0.9512709617591277, 0, 0], [468, 'SUZ12 18555785 Chip-Seq ESCs Mouse', 0.7656603951910196, 0.75, 0.20026241689804736, ['PHF21A'], 0.9512709617591277, 0, 0], [469, 'HNFA 21074721 ChIP-Seq CACO-2 Human', 0.7656603951910196, 0.75, 0.20026241689804736, ['CUL2'], 0.9512709617591277, 0, 0], [470, 'CDX2 21402776 ChIP-Seq INTESTINAL-VILLUS Mouse', 0.7656603951910196, 0.75, 0.20026241689804736, ['ANAPC16'], 0.9512709617591277, 0, 0], [471, 'CTCF 26484167 Chip-Seq Bcells Mouse', 0.7656603951910196, 0.75, 0.20026241689804736, ['ANAPC16'], 0.9512709617591277, 0, 0], [472, 'ILF3 29590119 ChIP-Seq K562 Human BoneMarrow Leukemia', 0.7656603951910196, 0.75, 0.20026241689804736, ['PLBD2'], 0.9512709617591277, 0, 0], [473, 'LYL1 30185409 ChIP-Seq K562 Mouse BoneMarrow Leukemia', 0.7656603951910196, 0.75, 0.20026241689804736, ['CXXC1'], 0.9512709617591277, 0, 0], [474, 'TAL1 30185409 ChIP-Seq K562 Mouse BoneMarrow Leukemia', 0.7656603951910196, 0.75, 0.20026241689804736, ['CXXC1'], 0.9512709617591277, 0, 0], [475, 'TP53 32428506 ChIP-Seq Human Liver Heptoma', 0.7656603951910196, 0.75, 0.20026241689804736, ['ZNF302'], 0.9512709617591277, 0, 0], [476, 'AR 35650195 ChIP-Seq DSRCT Human Mesenchymal Sarcoma', 0.7656603951910196, 0.75, 0.20026241689804736, ['ANAPC16'], 0.9512709617591277, 0, 0], [477, 'VDR 33458620 ChIP-Seq PrimaryEpithelial Human Prostate', 0.7656603951910196, 0.75, 0.20026241689804736, ['CYTH2'], 0.9512709617591277, 0, 0], [478, 'STAT5B 24692510 ChIP-Seq Epithelium Mouse Mammary', 0.7656603951910196, 0.75, 0.20026241689804736, ['EIF4E3'], 0.9512709617591277, 0, 0], [479, 'AR 27270436 ChIP-Seq VCaP Human Prostate Carcinoma', 0.7714302914659408, 0.7622504537205081, 0.19781082693283042, ['EIF4E3', 'JADE2', 'KANSL1L', 'ZNF302', 'SEC22C'], 0.9512709617591277, 0, 0], [480, 'GABP 19822575 ChIP-Seq HepG2 Human', 0.7745236500537185, 0.7338709677419355, 0.1875092307743335, ['CYTH2', 'PHF14', 'SEC22C'], 0.9512709617591277, 0, 0], [481, 'RUNX2 22187159 ChIP-Seq PCA Human', 0.7745236500537185, 0.7338709677419355, 0.1875092307743335, ['ROBO2', 'INSR', 'CUL2'], 0.9512709617591277, 0, 0], [482, 'EGR1 20690147 ChIP-Seq ERYTHROLEUKEMIA Human', 0.7800972226425517, 0.7678062678062678, 0.19067449217901122, ['ARL10', 'PPM1B', 'HSPA1L', 'INSR', 'PHF14', 'PHF21A', 'SEC22C'], 0.9512709617591277, 0, 0], [483, 'CTCF 33576154 ChIP-Seq Human HilarLN ProstateCancer', 0.7918355621816339, 0.7453416149068323, 0.17396387495589585, ['HSPA1L', 'CUX1', 'CNPY2', 'JADE2', 'PLBD2', 'MSL1'], 0.9512709617591277, 0, 0], [484, 'E2F1 21310950 ChIP-Seq MCF-7 Human', 0.8108125276210018, 0.6527777777777778, 0.13689951997914634, ['PPM1B', 'SEC22C'], 0.9512709617591277, 0, 0], [485, 'XRN2 22483619 ChIP-Seq HELA Human', 0.8108125276210018, 0.6527777777777778, 0.13689951997914634, ['LARP7', 'CNPY2'], 0.9512709617591277, 0, 0], [486, 'KLF4 26769127 Chip-Seq PDAC-Cell Line Human', 0.8108125276210018, 0.6527777777777778, 0.13689951997914634, ['PPM1B', 'MSL1'], 0.9512709617591277, 0, 0], [487, 'KDM2B 26808549 Chip-Seq SUP-B15 Human', 0.8108125276210018, 0.6527777777777778, 0.13689951997914634, ['CYTH2', 'CUX1'], 0.9512709617591277, 0, 0], [488, 'TEAD4 22529382 ChIP-Seq TROPHECTODERM Mouse', 0.8108125276210018, 0.6527777777777778, 0.13689951997914634, ['P2RX7', 'INSR'], 0.9512709617591277, 0, 0], [489, 'RCOR1 19997604 ChIP-ChIP NEURONS Mouse', 0.8108125276210018, 0.6527777777777778, 0.13689951997914634, ['PPM1B', 'PHF21A'], 0.9512709617591277, 0, 0], [490, 'GATA2 19941826 ChIP-Seq K562 Human', 0.8108125276210018, 0.6527777777777778, 0.13689951997914634, ['CUX1', 'TMCC1'], 0.9512709617591277, 0, 0], [491, 'SRF 21415370 ChIP-Seq HL-1 Mouse', 0.8150977572611121, 0.6699751861042184, 0.13697456786894652, ['INSR', 'LARP7', 'ATF7'], 0.9512709617591277, 0, 0], [492, 'KLF6 26769127 Chip-Seq PDAC-Cell Line Human', 0.8150977572611121, 0.6699751861042184, 0.13697456786894652, ['PPM1B', 'ANAPC16', 'MSL1'], 0.9512709617591277, 0, 0], [493, 'CTCF 33576154 ChIP-Seq Human PerigastricLN ProstateCancer', 0.8150977572611121, 0.6699751861042184, 0.13697456786894652, ['ROBO2', 'EIF4E3', 'CUX1'], 0.9512709617591277, 0, 0], [494, 'YY1 21170310 ChIP-Seq MESCs Mouse', 0.8260202851275092, 0.593939393939394, 0.11352316881637539, ['CXXC1'], 0.9512709617591277, 0, 0], [495, 'DCP1A 22483619 ChIP-Seq HELA Human', 0.8260202851275092, 0.593939393939394, 0.11352316881637539, ['CXXC1'], 0.9512709617591277, 0, 0], [496, 'GATA2 21666600 ChIP-Seq HMVEC Human', 0.8260202851275092, 0.593939393939394, 0.11352316881637539, ['CRYZL1'], 0.9512709617591277, 0, 0], [497, 'CHD1 19587682 ChIP-ChIP MESCs Mouse', 0.8260202851275092, 0.593939393939394, 0.11352316881637539, ['RBM3'], 0.9512709617591277, 0, 0], [498, 'TAF7L 23326641 ChIP-Seq C3H10T1-2 Mouse', 0.8260202851275092, 0.593939393939394, 0.11352316881637539, ['INSR'], 0.9512709617591277, 0, 0], [499, 'RUNX1 17652178 ChIP-ChIP JURKAT Human', 0.8260202851275092, 0.593939393939394, 0.11352316881637539, ['RBM3'], 0.9512709617591277, 0, 0], [500, 'SALL4 18804426 ChIP-ChIP XEN Mouse', 0.8260202851275092, 0.593939393939394, 0.11352316881637539, ['ROBO2'], 0.9512709617591277, 0, 0], [501, 'ELF5 23300383 ChIP-Seq T47D Human', 0.8260202851275092, 0.593939393939394, 0.11352316881637539, ['ATF7'], 0.9512709617591277, 0, 0], [502, 'PPAR 26484153 Chip-Seq NCI-H1993 Human', 0.8260202851275092, 0.593939393939394, 0.11352316881637539, ['CUX1'], 0.9512709617591277, 0, 0], [503, 'NANOG 18358816 ChIP-ChIP MESCs Mouse', 0.8260202851275092, 0.593939393939394, 0.11352316881637539, ['PPM1B'], 0.9512709617591277, 0, 0], [504, 'SOX2 16153702 ChIP-ChIP HESCs Human', 0.8260202851275092, 0.593939393939394, 0.11352316881637539, ['PPM1B'], 0.9512709617591277, 0, 0], [505, 'SPI1 23127762 ChIP-Seq K562 Human', 0.8260202851275092, 0.593939393939394, 0.11352316881637539, ['CUX1'], 0.9512709617591277, 0, 0], [506, 'POU3F2 20337985 ChIP-ChIP 501MEL Human', 0.8260202851275092, 0.593939393939394, 0.11352316881637539, ['CDH8'], 0.9512709617591277, 0, 0], [507, 'ESR1 22446102 ChIP-Seq UTERUS Mouse', 0.8260202851275092, 0.593939393939394, 0.11352316881637539, ['ROBO2'], 0.9512709617591277, 0, 0], [508, 'SMAD2 18955504 ChIP-ChIP HaCaT Human', 0.8260202851275092, 0.593939393939394, 0.11352316881637539, ['PHF21A'], 0.9512709617591277, 0, 0], [509, 'SMAD3 18955504 ChIP-ChIP HaCaT Human', 0.8260202851275092, 0.593939393939394, 0.11352316881637539, ['PHF21A'], 0.9512709617591277, 0, 0], [510, 'FOXA1 25552417 ChIP-Seq VCAP Human', 0.8260202851275092, 0.593939393939394, 0.11352316881637539, ['EIF4E3'], 0.9512709617591277, 0, 0], [511, 'E2F1 18555785 Chip-Seq ESCs Mouse', 0.8260202851275092, 0.593939393939394, 0.11352316881637539, ['PHF21A'], 0.9512709617591277, 0, 0], [512, 'CMYC 18555785 Chip-Seq ESCs Mouse', 0.8260202851275092, 0.593939393939394, 0.11352316881637539, ['PHF21A'], 0.9512709617591277, 0, 0], [513, 'NMYC 18555785 Chip-Seq ESCs Mouse', 0.8260202851275092, 0.593939393939394, 0.11352316881637539, ['PHF21A'], 0.9512709617591277, 0, 0], [514, 'P53 21459846 ChIP-Seq SAOS-2 Human', 0.8260202851275092, 0.593939393939394, 0.11352316881637539, ['ANAPC16'], 0.9512709617591277, 0, 0], [515, 'EBF1 22473956 ChIP-Seq LYMPHODE Mouse', 0.8260202851275092, 0.593939393939394, 0.11352316881637539, ['PHF21A'], 0.9512709617591277, 0, 0], [516, 'EBF1 22473956 ChIP-Seq BONE MARROW Mouse', 0.8260202851275092, 0.593939393939394, 0.11352316881637539, ['PHF21A'], 0.9512709617591277, 0, 0], [517, 'RUNX1 22897851 ChIP-Seq JUKARTE6-1 Human', 0.8260202851275092, 0.593939393939394, 0.11352316881637539, ['CUX1'], 0.9512709617591277, 0, 0], [518, 'SPI1 26923725 Chip-Seq HPCs Mouse', 0.8260202851275092, 0.593939393939394, 0.11352316881637539, ['P2RX7'], 0.9512709617591277, 0, 0], [519, 'CEBPB 26923725 Chip-Seq MACROPHAGESS Mouse', 0.8260202851275092, 0.593939393939394, 0.11352316881637539, ['CRYZL1'], 0.9512709617591277, 0, 0], [520, 'MYCN 27167114 Chip-Seq NEUROBLASTOMA Human', 0.8260202851275092, 0.593939393939394, 0.11352316881637539, ['CUX1'], 0.9512709617591277, 0, 0], [521, 'HOXC9 25013753 ChIP-Seq NEUROBLASTOMA BE2-C Human', 0.8260202851275092, 0.593939393939394, 0.11352316881637539, ['P2RX7'], 0.9512709617591277, 0, 0], [522, 'CREM 20920259 ChIP-Seq GC1-SPG Mouse', 0.839171149512217, 0.6944444444444444, 0.12176430628561186, ['RBM3', 'CYTH2', 'HSPA1L', 'CXXC1', 'LARP7', 'ATF7', 'MSL1'], 0.9573351459565151, 0, 0], [523, 'PPARA 22158963 ChIP-Seq LIVER Mouse', 0.8495881303366934, 0.6152073732718893, 0.10028101626771614, ['HSPA1L', 'CRYZL1', 'TECPR2'], 0.9573351459565151, 0, 0], [524, 'RXR 22158963 ChIP-Seq LIVER Mouse', 0.8495881303366934, 0.6152073732718893, 0.10028101626771614, ['CRYZL1', 'TECPR2', 'MSL1'], 0.9573351459565151, 0, 0], [525, 'MYCN 18555785 ChIP-Seq MESCs Mouse', 0.8495881303366934, 0.6152073732718893, 0.10028101626771614, ['INSR', 'ATF7', 'PHF21A'], 0.9573351459565151, 0, 0], [526, 'PU.1 20176806 ChIP-Seq MACROPHAGES Mouse', 0.8504939048463311, 0.58125, 0.09412648210283238, ['PHF14', 'PHF21A'], 0.9573351459565151, 0, 0], [527, 'OLIG2 26023283 ChIP-Seq AINV15 Mouse', 0.8504939048463311, 0.58125, 0.09412648210283238, ['EIF4E3', 'CXXC1'], 0.9573351459565151, 0, 0], [528, 'POU3F1 26484290 ChIP-Seq ESCss Mouse', 0.8504939048463311, 0.58125, 0.09412648210283238, ['ROBO2', 'ANAPC16'], 0.9573351459565151, 0, 0], [529, 'CEBPA 20513432 ChIP-Seq MACROPHAGES Mouse', 0.8504939048463311, 0.58125, 0.09412648210283238, ['EIF4E3', 'ATF7'], 0.9573351459565151, 0, 0], [530, 'GATA4 21415370 ChIP-Seq HL-1 Mouse', 0.8504939048463311, 0.58125, 0.09412648210283238, ['P2RX7', 'INSR'], 0.9573351459565151, 0, 0], [531, 'E2F1 18555785 ChIP-Seq MESCs Mouse', 0.8555462884465194, 0.6296296296296297, 0.09823171717626755, ['RBM3', 'P2RX7', 'PPM1B', 'CRYZL1'], 0.9573351459565151, 0, 0], [532, 'ASXL1 24218140 ChIP-Seq BMDM Mouse', 0.8711749828204287, 0.4898989898989899, 0.06756315698997639, ['CXXC1'], 0.9573351459565151, 0, 0], [533, 'PPARG 23326641 ChIP-Seq C3H10T1-2 Mouse', 0.8711749828204287, 0.4898989898989899, 0.06756315698997639, ['INSR'], 0.9573351459565151, 0, 0], [534, 'CTNNB1 20460455 ChIP-Seq HCT116 Human', 0.8711749828204287, 0.4898989898989899, 0.06756315698997639, ['CUX1'], 0.9573351459565151, 0, 0], [535, 'EWS-ERG 20517297 ChIP-Seq CADO-ES1 Human', 0.8711749828204287, 0.4898989898989899, 0.06756315698997639, ['TMCC1'], 0.9573351459565151, 0, 0], [536, 'MYC 18555785 ChIP-Seq MESCs Mouse', 0.8711749828204287, 0.4898989898989899, 0.06756315698997639, ['RBM3'], 0.9573351459565151, 0, 0], [537, 'PRDM14 21183938 ChIP-Seq MESCs Mouse', 0.8711749828204287, 0.4898989898989899, 0.06756315698997639, ['ANAPC16'], 0.9573351459565151, 0, 0], [538, 'CEBPA 26348894 ChIP-Seq LIVER Mouse', 0.8711749828204287, 0.4898989898989899, 0.06756315698997639, ['PLBD2'], 0.9573351459565151, 0, 0], [539, 'CTCF 18555785 Chip-Seq ESCs Mouse', 0.8711749828204287, 0.4898989898989899, 0.06756315698997639, ['CUX1'], 0.9573351459565151, 0, 0], [540, 'TAL1 21186366 ChIP-Seq BM-HSCs Mouse', 0.8711749828204287, 0.4898989898989899, 0.06756315698997639, ['ANAPC16'], 0.9573351459565151, 0, 0], [541, 'CEBPD 21427703 ChIP-Seq 3T3-L1 Mouse', 0.8711749828204287, 0.4898989898989899, 0.06756315698997639, ['EIF4E3'], 0.9573351459565151, 0, 0], [542, 'FOXA1 21915096 ChIP-Seq LNCaP-1F5 Human', 0.8711749828204287, 0.4898989898989899, 0.06756315698997639, ['INSR'], 0.9573351459565151, 0, 0], [543, 'SOX2 22085726 ChIP-Seq NPCs Mouse', 0.8711749828204287, 0.4898989898989899, 0.06756315698997639, ['CNPY2'], 0.9573351459565151, 0, 0], [544, 'LXR 22292898 ChIP-Seq THP-1 Human', 0.8711749828204287, 0.4898989898989899, 0.06756315698997639, ['MOB2'], 0.9573351459565151, 0, 0], [545, 'RUNX1 27457419 Chip-Seq LIVER Mouse', 0.8711749828204287, 0.4898989898989899, 0.06756315698997639, ['PHF21A'], 0.9573351459565151, 0, 0], [546, 'PU1 27457419 Chip-Seq LIVER Mouse', 0.8711749828204287, 0.4898989898989899, 0.06756315698997639, ['PHF21A'], 0.9573351459565151, 0, 0], [547, 'WT1 20215353 ChIP-ChIP NEPHRON PROGENITOR Mouse', 0.8827007356919118, 0.5227272727272727, 0.06522018705679554, ['ROBO2', 'CRYZL1'], 0.9587016862156691, 0, 0], [548, 'SPI1 22790984 ChIP-Seq ERYTHROLEUKEMIA Mouse', 0.8827007356919118, 0.5227272727272727, 0.06522018705679554, ['PHF14', 'TECPR2'], 0.9587016862156691, 0, 0], [549, 'CTCF 33576154 ChIP-Seq Human Liver ProstateCancer', 0.8958251099154485, 0.6031746031746031, 0.06635528326440757, ['CUX1', 'LARP7', 'KANSL1L', 'PLBD2', 'MSL1', 'SEC22C'], 0.9587016862156691, 0, 0], [550, 'TCFAP2C 20176728 ChIP-ChIP TROPHOBLAST STEM CELLS Mouse', 0.9026977922896204, 0.5262096774193549, 0.05386674408224347, ['EIF4E3', 'LARP7', 'ATF7'], 0.9587016862156691, 0, 0], [551, 'TRIM28 19339689 ChIP-ChIP MESCs Mouse', 0.9035538476833235, 0.5533333333333333, 0.056118829696347315, ['ARL10', 'EIF4E3', 'HSPA1L', 'CUL2'], 0.9587016862156691, 0, 0], [552, 'PRDM14 20953172 ChIP-Seq ESCs Human', 0.9048673058026774, 0.4155844155844156, 0.04154471457867292, ['MOB2'], 0.9587016862156691, 0, 0], [553, 'MNX1 26342078 ChIP-Seq MIN6-4N Mouse', 0.9048673058026774, 0.4155844155844156, 0.04154471457867292, ['MSL1'], 0.9587016862156691, 0, 0], [554, 'GATA1 19941827 ChIP-Seq MEL86 Mouse', 0.9048673058026774, 0.4155844155844156, 0.04154471457867292, ['PHF21A'], 0.9587016862156691, 0, 0], [555, 'NANOG 20526341 ChIP-Seq ESCs Human', 0.9048673058026774, 0.4155844155844156, 0.04154471457867292, ['ZNF302'], 0.9587016862156691, 0, 0], [556, 'TBX20 22080862 ChIP-Seq HEART Mouse', 0.9048673058026774, 0.4155844155844156, 0.04154471457867292, ['MSL1'], 0.9587016862156691, 0, 0], [557, 'TBX20 22328084 ChIP-Seq HEART Mouse', 0.9048673058026774, 0.4155844155844156, 0.04154471457867292, ['MSL1'], 0.9587016862156691, 0, 0], [558, 'P53 22387025 ChIP-Seq ESCs Mouse', 0.9048673058026774, 0.4155844155844156, 0.04154471457867292, ['PHF21A'], 0.9587016862156691, 0, 0], [559, 'GATA4 25053715 ChIP-Seq YYC3 Human', 0.9048673058026774, 0.4155844155844156, 0.04154471457867292, ['CUX1'], 0.9587016862156691, 0, 0], [560, 'KDM2B 26808549 Chip-Seq JURKAT Human', 0.9048673058026774, 0.4155844155844156, 0.04154471457867292, ['CUX1'], 0.9587016862156691, 0, 0], [561, 'IRF8 27001747 Chip-Seq BMDM Mouse', 0.9048673058026774, 0.4155844155844156, 0.04154471457867292, ['ARL10'], 0.9587016862156691, 0, 0], [562, 'GATA3 27048872 Chip-Seq THYMUS Human', 0.9048673058026774, 0.4155844155844156, 0.04154471457867292, ['CUX1'], 0.9587016862156691, 0, 0], [563, 'BRD4 27068464 Chip-Seq AML-cells Mouse', 0.9048673058026774, 0.4155844155844156, 0.04154471457867292, ['CNPY2'], 0.9587016862156691, 0, 0], [564, 'E2A 27217539 Chip-Seq RAMOS-Cell Line Human', 0.9048673058026774, 0.4155844155844156, 0.04154471457867292, ['CUX1'], 0.9587016862156691, 0, 0], [565, 'BCL6 27268052 Chip-Seq Bcells Human', 0.9048673058026774, 0.4155844155844156, 0.04154471457867292, ['CYTH2'], 0.9587016862156691, 0, 0], [566, 'ZFX 18555785 ChIP-Seq MESCs Mouse', 0.90782322879873, 0.5675287356321839, 0.054883207619332, ['RBM3', 'ARL10', 'PPM1B', 'CRYZL1', 'PHF14'], 0.9587016862156691, 0, 0], [567, 'KDM2B 26808549 Chip-Seq SIL-ALL Human', 0.9085873912720784, 0.4739583333333333, 0.045435637807913834, ['CUX1', 'PHF21A'], 0.9587016862156691, 0, 0], [568, 'SA1 27219007 Chip-Seq ERYTHROID Human', 0.9085873912720784, 0.4739583333333333, 0.045435637807913834, ['CUX1', 'CNPY2'], 0.9587016862156691, 0, 0], [569, 'FOXA1 26769127 Chip-Seq PDAC-Cell Line Human', 0.9292125145456973, 0.4326923076923077, 0.03176732167372062, ['PPM1B', 'PHF21A'], 0.9587016862156691, 0, 0], [570, 'VDR 23849224 ChIP-Seq CD4+ Human', 0.9292125145456973, 0.4326923076923077, 0.03176732167372062, ['TECPR2', 'SEC22C'], 0.9587016862156691, 0, 0], [571, 'TP53 22127205 ChIP-Seq IMR90 Human', 0.9299406356291992, 0.35984848484848486, 0.026137424678996674, ['PHF14'], 0.9587016862156691, 0, 0], [572, 'EOMES 20176728 ChIP-ChIP TSCs Mouse', 0.9299406356291992, 0.35984848484848486, 0.026137424678996674, ['P2RX7'], 0.9587016862156691, 0, 0], [573, 'AR 25329375 ChIP-Seq VCAP Human', 0.9299406356291992, 0.35984848484848486, 0.026137424678996674, ['SEC22C'], 0.9587016862156691, 0, 0], [574, 'JUND 26020271 ChIP-Seq SMOOTH MUSCLE Human', 0.9299406356291992, 0.35984848484848486, 0.026137424678996674, ['CUL2'], 0.9587016862156691, 0, 0], [575, 'JUN 26020271 ChIP-Seq SMOOTH MUSCLE Human', 0.9299406356291992, 0.35984848484848486, 0.026137424678996674, ['CUL2'], 0.9587016862156691, 0, 0], [576, 'ESET 19884257 ChIP-Seq ESCs Mouse', 0.9299406356291992, 0.35984848484848486, 0.026137424678996674, ['CXXC1'], 0.9587016862156691, 0, 0], [577, 'PPARG 20176806 ChIP-Seq 3T3-L1 Mouse', 0.9299406356291992, 0.35984848484848486, 0.026137424678996674, ['ARL10'], 0.9587016862156691, 0, 0], [578, 'SMAD3 21741376 ChIP-Seq EPCs Human', 0.9299406356291992, 0.35984848484848486, 0.026137424678996674, ['CUX1'], 0.9587016862156691, 0, 0], [579, 'ETS1 21867929 ChIP-Seq TH2 Mouse', 0.9299406356291992, 0.35984848484848486, 0.026137424678996674, ['ATF7'], 0.9587016862156691, 0, 0], [580, 'SOX6 21985497 ChIP-Seq MYOTUBES Mouse', 0.9299406356291992, 0.35984848484848486, 0.026137424678996674, ['ANAPC16'], 0.9587016862156691, 0, 0], [581, 'GATA3 22897851 ChIP-Seq JUKARTE6-1 Human', 0.9299406356291992, 0.35984848484848486, 0.026137424678996674, ['ATF7'], 0.9587016862156691, 0, 0], [582, 'CTCF 27219007 Chip-Seq ERYTHROID Human', 0.9299406356291992, 0.35984848484848486, 0.026137424678996674, ['CNPY2'], 0.9587016862156691, 0, 0], [583, 'RACK7 27058665 Chip-Seq MCF-7 Human', 0.94551455707708, 0.39732142857142855, 0.02226032830453866, ['INSR', 'MSL1'], 0.9662645730893673, 0, 0], [584, 'ZFP42 18358816 ChIP-ChIP MESCs Mouse', 0.9485497225827288, 0.3164983164983165, 0.016717779302796953, ['RBM3'], 0.9662645730893673, 0, 0], [585, 'CRX 20693478 ChIP-Seq RETINA Mouse', 0.9485497225827288, 0.3164983164983165, 0.016717779302796953, ['ANAPC16'], 0.9662645730893673, 0, 0], [586, 'OCT4 21477851 ChIP-Seq ESCs Mouse', 0.9485497225827288, 0.3164983164983165, 0.016717779302796953, ['ANAPC16'], 0.9662645730893673, 0, 0], [587, 'TOP2B 26459242 ChIP-Seq MCF-7 Human', 0.9485497225827288, 0.3164983164983165, 0.016717779302796953, ['PHF14'], 0.9662645730893673, 0, 0], [588, 'UBF1/2 26484160 Chip-Seq HMEC-DERIVED Human', 0.9485497225827288, 0.3164983164983165, 0.016717779302796953, ['PHF21A'], 0.9662645730893673, 0, 0], [589, 'KDM2B 26808549 Chip-Seq HPB-ALL Human', 0.9485497225827288, 0.3164983164983165, 0.016717779302796953, ['CUX1'], 0.9662645730893673, 0, 0], [590, 'EKLF 21900194 ChIP-Seq ERYTHROCYTE Mouse', 0.9623233543755193, 0.2818181818181818, 0.010823158955785688, ['CXXC1'], 0.9753277240292426, 0, 0], [591, 'FLI1 21867929 ChIP-Seq TH2 Mouse', 0.9623233543755193, 0.2818181818181818, 0.010823158955785688, ['ANAPC16'], 0.9753277240292426, 0, 0], [592, 'CTCF 21964334 ChIP-Seq BJAB-B Human', 0.9623233543755193, 0.2818181818181818, 0.010823158955785688, ['CUX1'], 0.9753277240292426, 0, 0], [593, 'NELFA 20434984 ChIP-Seq ESCs Mouse', 0.9682703104380306, 0.33984375, 0.010957916562316903, ['PPM1B', 'ATF7'], 0.9797001454684964, 0, 0], [594, 'CNOT3 19339689 ChIP-ChIP MESCs Mouse', 0.9724895851776882, 0.2534435261707989, 0.007070038524979985, ['CUL2'], 0.980661766565736, 0, 0], [595, 'JARID1A 20064375 ChIP-Seq MESCs Mouse', 0.9724895851776882, 0.2534435261707989, 0.007070038524979985, ['RBM3'], 0.980661766565736, 0, 0], [596, 'E2F4 21247883 ChIP-Seq LYMPHOBLASTOID Human', 0.9759846670724572, 0.3161764705882353, 0.007685744958421007, ['CNPY2', 'PHF21A'], 0.9825348997373732, 0, 0], [597, 'GATA6 25053715 ChIP-Seq YYC3 Human', 0.9799719115645226, 0.2297979797979798, 0.00464912781600656, ['CUL2'], 0.9848963935321834, 0, 0], [598, 'TCFCP2L1 18555785 ChIP-Seq MESCs Mouse', 0.985462955782099, 0.2097902097902098, 0.003072113781411011, ['HSPA1L'], 0.9871081360087802, 0, 0], [599, 'CTCF 21964334 Chip-Seq Bcells Human', 0.985462955782099, 0.2097902097902098, 0.003072113781411011, ['CNPY2'], 0.9871081360087802, 0, 0], [600, 'TP63 23658742 ChIP-Seq EP156T Human', 0.9924117947808182, 0.17777777777777778, 0.0013541586004412812, ['CUX1'], 0.9924117947808182, 0, 0]]}\n"
     ]
    }
   ],
   "source": [
    "background_response = requests.post(\n",
    "      base_url+'/api/addbackground',\n",
    "      data=dict(background='\\n'.join(background)),\n",
    "    ).json()\n",
    "res = requests.post(\n",
    "        base_url+'/api/backgroundenrich',\n",
    "        data=dict(\n",
    "        userListId=userlist_response['userListId'],\n",
    "        backgroundid=background_response['backgroundid'],\n",
    "        backgroundType=library,\n",
    "        )\n",
    "    )\n",
    "if res.ok:\n",
    "    results = res.json()\n",
    "    print(results)\n",
    "else:\n",
    "    print(res.text)"
   ]
  },
  {
   "cell_type": "code",
   "execution_count": null,
   "metadata": {},
   "outputs": [],
   "source": []
  }
 ],
 "metadata": {
  "kernelspec": {
   "display_name": "venv",
   "language": "python",
   "name": "python3"
  },
  "language_info": {
   "codemirror_mode": {
    "name": "ipython",
    "version": 3
   },
   "file_extension": ".py",
   "mimetype": "text/x-python",
   "name": "python",
   "nbconvert_exporter": "python",
   "pygments_lexer": "ipython3",
   "version": "3.10.9"
  },
  "orig_nbformat": 4
 },
 "nbformat": 4,
 "nbformat_minor": 2
}
