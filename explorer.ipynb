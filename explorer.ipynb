{
 "cells": [
  {
   "cell_type": "code",
   "execution_count": 1,
   "metadata": {},
   "outputs": [
    {
     "data": {
      "text/plain": [
       "'2.0.2'"
      ]
     },
     "execution_count": 1,
     "metadata": {},
     "output_type": "execute_result"
    }
   ],
   "source": [
    "import pandas as pd\n",
    "from glob import glob\n",
    "from IPython.display import display, Markdown\n",
    "from tqdm import tqdm\n",
    "import csv\n",
    "pd.__version__"
   ]
  },
  {
   "attachments": {},
   "cell_type": "markdown",
   "metadata": {},
   "source": [
    "# Unified Biomedical Knowledge Graph (UBKG)\n",
    "## Nodes\n",
    "### Concept"
   ]
  },
  {
   "cell_type": "code",
   "execution_count": 2,
   "metadata": {},
   "outputs": [
    {
     "data": {
      "text/html": [
       "<div>\n",
       "<style scoped>\n",
       "    .dataframe tbody tr th:only-of-type {\n",
       "        vertical-align: middle;\n",
       "    }\n",
       "\n",
       "    .dataframe tbody tr th {\n",
       "        vertical-align: top;\n",
       "    }\n",
       "\n",
       "    .dataframe thead th {\n",
       "        text-align: right;\n",
       "    }\n",
       "</style>\n",
       "<table border=\"1\" class=\"dataframe\">\n",
       "  <thead>\n",
       "    <tr style=\"text-align: right;\">\n",
       "      <th></th>\n",
       "    </tr>\n",
       "    <tr>\n",
       "      <th>id</th>\n",
       "    </tr>\n",
       "  </thead>\n",
       "  <tbody>\n",
       "    <tr>\n",
       "      <th>C0000097</th>\n",
       "    </tr>\n",
       "    <tr>\n",
       "      <th>C0000359</th>\n",
       "    </tr>\n",
       "    <tr>\n",
       "      <th>C0000610</th>\n",
       "    </tr>\n",
       "    <tr>\n",
       "      <th>C0000739</th>\n",
       "    </tr>\n",
       "    <tr>\n",
       "      <th>C0000873</th>\n",
       "    </tr>\n",
       "  </tbody>\n",
       "</table>\n",
       "</div>"
      ],
      "text/plain": [
       "Empty DataFrame\n",
       "Columns: []\n",
       "Index: [C0000097, C0000359, C0000610, C0000739, C0000873]"
      ]
     },
     "execution_count": 2,
     "metadata": {},
     "output_type": "execute_result"
    }
   ],
   "source": [
    "concepts = pd.read_csv(\"neo4j/import/CUIs.csv\")\n",
    "concepts = pd.DataFrame(index=concepts[\"CUI:ID\"].unique())\n",
    "concepts.index.name = \"id\"\n",
    "concepts.head()"
   ]
  },
  {
   "attachments": {},
   "cell_type": "markdown",
   "metadata": {},
   "source": [
    "### Semantics"
   ]
  },
  {
   "cell_type": "code",
   "execution_count": 3,
   "metadata": {},
   "outputs": [
    {
     "data": {
      "text/html": [
       "<div>\n",
       "<style scoped>\n",
       "    .dataframe tbody tr th:only-of-type {\n",
       "        vertical-align: middle;\n",
       "    }\n",
       "\n",
       "    .dataframe tbody tr th {\n",
       "        vertical-align: top;\n",
       "    }\n",
       "\n",
       "    .dataframe thead th {\n",
       "        text-align: right;\n",
       "    }\n",
       "</style>\n",
       "<table border=\"1\" class=\"dataframe\">\n",
       "  <thead>\n",
       "    <tr style=\"text-align: right;\">\n",
       "      <th></th>\n",
       "      <th>name</th>\n",
       "      <th>STN</th>\n",
       "      <th>DEF</th>\n",
       "    </tr>\n",
       "    <tr>\n",
       "      <th>TUI:ID</th>\n",
       "      <th></th>\n",
       "      <th></th>\n",
       "      <th></th>\n",
       "    </tr>\n",
       "  </thead>\n",
       "  <tbody>\n",
       "    <tr>\n",
       "      <th>T012</th>\n",
       "      <td>Bird</td>\n",
       "      <td>A1.1.3.1.1.2</td>\n",
       "      <td>A vertebrate having a constant body temperatur...</td>\n",
       "    </tr>\n",
       "    <tr>\n",
       "      <th>T014</th>\n",
       "      <td>Reptile</td>\n",
       "      <td>A1.1.3.1.1.5</td>\n",
       "      <td>A cold-blooded vertebrate having an external c...</td>\n",
       "    </tr>\n",
       "    <tr>\n",
       "      <th>T015</th>\n",
       "      <td>Mammal</td>\n",
       "      <td>A1.1.3.1.1.4</td>\n",
       "      <td>A vertebrate having a constant body temperatur...</td>\n",
       "    </tr>\n",
       "    <tr>\n",
       "      <th>T021</th>\n",
       "      <td>Fully Formed Anatomical Structure</td>\n",
       "      <td>A1.2.3</td>\n",
       "      <td>An anatomical structure in a fully formed orga...</td>\n",
       "    </tr>\n",
       "    <tr>\n",
       "      <th>T022</th>\n",
       "      <td>Body System</td>\n",
       "      <td>A2.1.4.1</td>\n",
       "      <td>A complex of anatomical structures that perfor...</td>\n",
       "    </tr>\n",
       "  </tbody>\n",
       "</table>\n",
       "</div>"
      ],
      "text/plain": [
       "                                     name           STN  \\\n",
       "TUI:ID                                                    \n",
       "T012                                 Bird  A1.1.3.1.1.2   \n",
       "T014                              Reptile  A1.1.3.1.1.5   \n",
       "T015                               Mammal  A1.1.3.1.1.4   \n",
       "T021    Fully Formed Anatomical Structure        A1.2.3   \n",
       "T022                          Body System      A2.1.4.1   \n",
       "\n",
       "                                                      DEF  \n",
       "TUI:ID                                                     \n",
       "T012    A vertebrate having a constant body temperatur...  \n",
       "T014    A cold-blooded vertebrate having an external c...  \n",
       "T015    A vertebrate having a constant body temperatur...  \n",
       "T021    An anatomical structure in a fully formed orga...  \n",
       "T022    A complex of anatomical structures that perfor...  "
      ]
     },
     "execution_count": 3,
     "metadata": {},
     "output_type": "execute_result"
    }
   ],
   "source": [
    "semantics = pd.read_csv(\"neo4j/import/TUIs.csv\", index_col=0)\n",
    "semantics.head()"
   ]
  },
  {
   "attachments": {},
   "cell_type": "markdown",
   "metadata": {},
   "source": [
    "### Definition"
   ]
  },
  {
   "cell_type": "code",
   "execution_count": 4,
   "metadata": {},
   "outputs": [
    {
     "data": {
      "text/html": [
       "<div>\n",
       "<style scoped>\n",
       "    .dataframe tbody tr th:only-of-type {\n",
       "        vertical-align: middle;\n",
       "    }\n",
       "\n",
       "    .dataframe tbody tr th {\n",
       "        vertical-align: top;\n",
       "    }\n",
       "\n",
       "    .dataframe thead th {\n",
       "        text-align: right;\n",
       "    }\n",
       "</style>\n",
       "<table border=\"1\" class=\"dataframe\">\n",
       "  <thead>\n",
       "    <tr style=\"text-align: right;\">\n",
       "      <th></th>\n",
       "      <th>SAB</th>\n",
       "      <th>DEF</th>\n",
       "    </tr>\n",
       "    <tr>\n",
       "      <th>ATUI:ID</th>\n",
       "      <th></th>\n",
       "      <th></th>\n",
       "    </tr>\n",
       "  </thead>\n",
       "  <tbody>\n",
       "    <tr>\n",
       "      <th>AT38138756</th>\n",
       "      <td>MSH</td>\n",
       "      <td>A tool for the study of liver damage which cau...</td>\n",
       "    </tr>\n",
       "    <tr>\n",
       "      <th>AT43116097</th>\n",
       "      <td>MSH</td>\n",
       "      <td>A hepatic carcinogen whose mechanism of activa...</td>\n",
       "    </tr>\n",
       "    <tr>\n",
       "      <th>AT38141939</th>\n",
       "      <td>MSH</td>\n",
       "      <td>Simple amine found in the brain. It may be mod...</td>\n",
       "    </tr>\n",
       "    <tr>\n",
       "      <th>AT235449311</th>\n",
       "      <td>MSH</td>\n",
       "      <td>A physiologically active metabolite of VITAMIN...</td>\n",
       "    </tr>\n",
       "    <tr>\n",
       "      <th>AT38137186</th>\n",
       "      <td>MSH</td>\n",
       "      <td>A material used in the manufacture of azo dyes...</td>\n",
       "    </tr>\n",
       "  </tbody>\n",
       "</table>\n",
       "</div>"
      ],
      "text/plain": [
       "             SAB                                                DEF\n",
       "ATUI:ID                                                            \n",
       "AT38138756   MSH  A tool for the study of liver damage which cau...\n",
       "AT43116097   MSH  A hepatic carcinogen whose mechanism of activa...\n",
       "AT38141939   MSH  Simple amine found in the brain. It may be mod...\n",
       "AT235449311  MSH  A physiologically active metabolite of VITAMIN...\n",
       "AT38137186   MSH  A material used in the manufacture of azo dyes..."
      ]
     },
     "execution_count": 4,
     "metadata": {},
     "output_type": "execute_result"
    }
   ],
   "source": [
    "definition = pd.read_csv(\"neo4j/import/DEFs.csv\", index_col=0)\n",
    "definition.head()"
   ]
  },
  {
   "attachments": {},
   "cell_type": "markdown",
   "metadata": {},
   "source": [
    "### Term"
   ]
  },
  {
   "cell_type": "code",
   "execution_count": 5,
   "metadata": {},
   "outputs": [
    {
     "data": {
      "text/html": [
       "<div>\n",
       "<style scoped>\n",
       "    .dataframe tbody tr th:only-of-type {\n",
       "        vertical-align: middle;\n",
       "    }\n",
       "\n",
       "    .dataframe tbody tr th {\n",
       "        vertical-align: top;\n",
       "    }\n",
       "\n",
       "    .dataframe thead th {\n",
       "        text-align: right;\n",
       "    }\n",
       "</style>\n",
       "<table border=\"1\" class=\"dataframe\">\n",
       "  <thead>\n",
       "    <tr style=\"text-align: right;\">\n",
       "      <th></th>\n",
       "      <th>name</th>\n",
       "    </tr>\n",
       "    <tr>\n",
       "      <th>SUI:ID</th>\n",
       "      <th></th>\n",
       "    </tr>\n",
       "  </thead>\n",
       "  <tbody>\n",
       "    <tr>\n",
       "      <th>S0009776</th>\n",
       "      <td>Acid, 2-Aminohexanedioic</td>\n",
       "    </tr>\n",
       "    <tr>\n",
       "      <th>S7249234</th>\n",
       "      <td>BR CAMP</td>\n",
       "    </tr>\n",
       "    <tr>\n",
       "      <th>S11872577</th>\n",
       "      <td>cramps abdominal</td>\n",
       "    </tr>\n",
       "    <tr>\n",
       "      <th>S14680596</th>\n",
       "      <td>Retained tissue after pregnancy loss</td>\n",
       "    </tr>\n",
       "    <tr>\n",
       "      <th>S3417882</th>\n",
       "      <td>Missed miscarriage</td>\n",
       "    </tr>\n",
       "  </tbody>\n",
       "</table>\n",
       "</div>"
      ],
      "text/plain": [
       "                                           name\n",
       "SUI:ID                                         \n",
       "S0009776               Acid, 2-Aminohexanedioic\n",
       "S7249234                                BR CAMP\n",
       "S11872577                      cramps abdominal\n",
       "S14680596  Retained tissue after pregnancy loss\n",
       "S3417882                     Missed miscarriage"
      ]
     },
     "execution_count": 5,
     "metadata": {},
     "output_type": "execute_result"
    }
   ],
   "source": [
    "terms = pd.read_csv(\"neo4j/import/SUIs.csv\", index_col=0)\n",
    "terms.head()"
   ]
  },
  {
   "attachments": {},
   "cell_type": "markdown",
   "metadata": {},
   "source": [
    "### Code"
   ]
  },
  {
   "cell_type": "code",
   "execution_count": 6,
   "metadata": {},
   "outputs": [
    {
     "name": "stderr",
     "output_type": "stream",
     "text": [
      "/var/folders/wq/7bkxhy8j7ql194c1fbby4gy40000gn/T/ipykernel_91263/1519649826.py:1: DtypeWarning: Columns (2) have mixed types. Specify dtype option on import or set low_memory=False.\n",
      "  codes = pd.read_csv(\"neo4j/import/CODEs.csv\", index_col=0)\n"
     ]
    },
    {
     "data": {
      "text/html": [
       "<div>\n",
       "<style scoped>\n",
       "    .dataframe tbody tr th:only-of-type {\n",
       "        vertical-align: middle;\n",
       "    }\n",
       "\n",
       "    .dataframe tbody tr th {\n",
       "        vertical-align: top;\n",
       "    }\n",
       "\n",
       "    .dataframe thead th {\n",
       "        text-align: right;\n",
       "    }\n",
       "</style>\n",
       "<table border=\"1\" class=\"dataframe\">\n",
       "  <thead>\n",
       "    <tr style=\"text-align: right;\">\n",
       "      <th></th>\n",
       "      <th>SAB</th>\n",
       "      <th>CODE</th>\n",
       "      <th>value:float</th>\n",
       "      <th>lowerbound:float</th>\n",
       "      <th>upperbound:float</th>\n",
       "      <th>unit</th>\n",
       "    </tr>\n",
       "    <tr>\n",
       "      <th>CodeID:ID</th>\n",
       "      <th></th>\n",
       "      <th></th>\n",
       "      <th></th>\n",
       "      <th></th>\n",
       "      <th></th>\n",
       "      <th></th>\n",
       "    </tr>\n",
       "  </thead>\n",
       "  <tbody>\n",
       "    <tr>\n",
       "      <th>MTHSPL J7A92W69L7</th>\n",
       "      <td>MTHSPL</td>\n",
       "      <td>J7A92W69L7</td>\n",
       "      <td>NaN</td>\n",
       "      <td>NaN</td>\n",
       "      <td>NaN</td>\n",
       "      <td>NaN</td>\n",
       "    </tr>\n",
       "    <tr>\n",
       "      <th>NCI C76777</th>\n",
       "      <td>NCI</td>\n",
       "      <td>C76777</td>\n",
       "      <td>NaN</td>\n",
       "      <td>NaN</td>\n",
       "      <td>NaN</td>\n",
       "      <td>NaN</td>\n",
       "    </tr>\n",
       "    <tr>\n",
       "      <th>ATC N07XX07</th>\n",
       "      <td>ATC</td>\n",
       "      <td>N07XX07</td>\n",
       "      <td>NaN</td>\n",
       "      <td>NaN</td>\n",
       "      <td>NaN</td>\n",
       "      <td>NaN</td>\n",
       "    </tr>\n",
       "    <tr>\n",
       "      <th>GS 1946</th>\n",
       "      <td>GS</td>\n",
       "      <td>1946</td>\n",
       "      <td>NaN</td>\n",
       "      <td>NaN</td>\n",
       "      <td>NaN</td>\n",
       "      <td>NaN</td>\n",
       "    </tr>\n",
       "    <tr>\n",
       "      <th>NOC 040413</th>\n",
       "      <td>NOC</td>\n",
       "      <td>040413</td>\n",
       "      <td>NaN</td>\n",
       "      <td>NaN</td>\n",
       "      <td>NaN</td>\n",
       "      <td>NaN</td>\n",
       "    </tr>\n",
       "  </tbody>\n",
       "</table>\n",
       "</div>"
      ],
      "text/plain": [
       "                      SAB        CODE  value:float  lowerbound:float  \\\n",
       "CodeID:ID                                                              \n",
       "MTHSPL J7A92W69L7  MTHSPL  J7A92W69L7          NaN               NaN   \n",
       "NCI C76777            NCI      C76777          NaN               NaN   \n",
       "ATC N07XX07           ATC     N07XX07          NaN               NaN   \n",
       "GS 1946                GS        1946          NaN               NaN   \n",
       "NOC 040413            NOC      040413          NaN               NaN   \n",
       "\n",
       "                   upperbound:float  unit  \n",
       "CodeID:ID                                  \n",
       "MTHSPL J7A92W69L7               NaN   NaN  \n",
       "NCI C76777                      NaN   NaN  \n",
       "ATC N07XX07                     NaN   NaN  \n",
       "GS 1946                         NaN   NaN  \n",
       "NOC 040413                      NaN   NaN  "
      ]
     },
     "execution_count": 6,
     "metadata": {},
     "output_type": "execute_result"
    }
   ],
   "source": [
    "codes = pd.read_csv(\"neo4j/import/CODEs.csv\", index_col=0)\n",
    "codes.head()"
   ]
  },
  {
   "attachments": {},
   "cell_type": "markdown",
   "metadata": {},
   "source": [
    "## Edges\n",
    "### Concept-Term"
   ]
  },
  {
   "cell_type": "code",
   "execution_count": 7,
   "metadata": {},
   "outputs": [
    {
     "data": {
      "text/html": [
       "<div>\n",
       "<style scoped>\n",
       "    .dataframe tbody tr th:only-of-type {\n",
       "        vertical-align: middle;\n",
       "    }\n",
       "\n",
       "    .dataframe tbody tr th {\n",
       "        vertical-align: top;\n",
       "    }\n",
       "\n",
       "    .dataframe thead th {\n",
       "        text-align: right;\n",
       "    }\n",
       "</style>\n",
       "<table border=\"1\" class=\"dataframe\">\n",
       "  <thead>\n",
       "    <tr style=\"text-align: right;\">\n",
       "      <th></th>\n",
       "      <th>:START_ID</th>\n",
       "      <th>:END_ID</th>\n",
       "    </tr>\n",
       "  </thead>\n",
       "  <tbody>\n",
       "    <tr>\n",
       "      <th>0</th>\n",
       "      <td>C0000163</td>\n",
       "      <td>S0007806</td>\n",
       "    </tr>\n",
       "    <tr>\n",
       "      <th>1</th>\n",
       "      <td>C0000427</td>\n",
       "      <td>S0008336</td>\n",
       "    </tr>\n",
       "    <tr>\n",
       "      <th>2</th>\n",
       "      <td>C0000665</td>\n",
       "      <td>S11922611</td>\n",
       "    </tr>\n",
       "    <tr>\n",
       "      <th>3</th>\n",
       "      <td>C0000992</td>\n",
       "      <td>S1577859</td>\n",
       "    </tr>\n",
       "    <tr>\n",
       "      <th>4</th>\n",
       "      <td>C0001021</td>\n",
       "      <td>S0797872</td>\n",
       "    </tr>\n",
       "  </tbody>\n",
       "</table>\n",
       "</div>"
      ],
      "text/plain": [
       "  :START_ID    :END_ID\n",
       "0  C0000163   S0007806\n",
       "1  C0000427   S0008336\n",
       "2  C0000665  S11922611\n",
       "3  C0000992   S1577859\n",
       "4  C0001021   S0797872"
      ]
     },
     "execution_count": 7,
     "metadata": {},
     "output_type": "execute_result"
    }
   ],
   "source": [
    "concept_term = pd.read_csv(\"neo4j/import/CUI-SUIs.csv\")\n",
    "concept_term.head()"
   ]
  },
  {
   "attachments": {},
   "cell_type": "markdown",
   "metadata": {},
   "source": [
    "### Concept-Semantics"
   ]
  },
  {
   "cell_type": "code",
   "execution_count": 8,
   "metadata": {},
   "outputs": [
    {
     "data": {
      "text/html": [
       "<div>\n",
       "<style scoped>\n",
       "    .dataframe tbody tr th:only-of-type {\n",
       "        vertical-align: middle;\n",
       "    }\n",
       "\n",
       "    .dataframe tbody tr th {\n",
       "        vertical-align: top;\n",
       "    }\n",
       "\n",
       "    .dataframe thead th {\n",
       "        text-align: right;\n",
       "    }\n",
       "</style>\n",
       "<table border=\"1\" class=\"dataframe\">\n",
       "  <thead>\n",
       "    <tr style=\"text-align: right;\">\n",
       "      <th></th>\n",
       "      <th>:START_ID</th>\n",
       "      <th>:END_ID</th>\n",
       "    </tr>\n",
       "  </thead>\n",
       "  <tbody>\n",
       "    <tr>\n",
       "      <th>0</th>\n",
       "      <td>C0000132</td>\n",
       "      <td>T126</td>\n",
       "    </tr>\n",
       "    <tr>\n",
       "      <th>1</th>\n",
       "      <td>C0000246</td>\n",
       "      <td>T116</td>\n",
       "    </tr>\n",
       "    <tr>\n",
       "      <th>2</th>\n",
       "      <td>C0000895</td>\n",
       "      <td>T060</td>\n",
       "    </tr>\n",
       "    <tr>\n",
       "      <th>3</th>\n",
       "      <td>C0000908</td>\n",
       "      <td>T037</td>\n",
       "    </tr>\n",
       "    <tr>\n",
       "      <th>4</th>\n",
       "      <td>C0000931</td>\n",
       "      <td>T067</td>\n",
       "    </tr>\n",
       "  </tbody>\n",
       "</table>\n",
       "</div>"
      ],
      "text/plain": [
       "  :START_ID :END_ID\n",
       "0  C0000132    T126\n",
       "1  C0000246    T116\n",
       "2  C0000895    T060\n",
       "3  C0000908    T037\n",
       "4  C0000931    T067"
      ]
     },
     "execution_count": 8,
     "metadata": {},
     "output_type": "execute_result"
    }
   ],
   "source": [
    "concept_semantics = pd.read_csv(\"neo4j/import/CUI-TUIs.csv\")\n",
    "concept_semantics.head()"
   ]
  },
  {
   "attachments": {},
   "cell_type": "markdown",
   "metadata": {},
   "source": [
    "### Concept-Code"
   ]
  },
  {
   "cell_type": "code",
   "execution_count": 9,
   "metadata": {},
   "outputs": [
    {
     "data": {
      "text/html": [
       "<div>\n",
       "<style scoped>\n",
       "    .dataframe tbody tr th:only-of-type {\n",
       "        vertical-align: middle;\n",
       "    }\n",
       "\n",
       "    .dataframe tbody tr th {\n",
       "        vertical-align: top;\n",
       "    }\n",
       "\n",
       "    .dataframe thead th {\n",
       "        text-align: right;\n",
       "    }\n",
       "</style>\n",
       "<table border=\"1\" class=\"dataframe\">\n",
       "  <thead>\n",
       "    <tr style=\"text-align: right;\">\n",
       "      <th></th>\n",
       "      <th>:START_ID</th>\n",
       "      <th>:END_ID</th>\n",
       "    </tr>\n",
       "  </thead>\n",
       "  <tbody>\n",
       "    <tr>\n",
       "      <th>0</th>\n",
       "      <td>C0000294</td>\n",
       "      <td>ATC V03AF01</td>\n",
       "    </tr>\n",
       "    <tr>\n",
       "      <th>1</th>\n",
       "      <td>C0000481</td>\n",
       "      <td>CHV 0000000513</td>\n",
       "    </tr>\n",
       "    <tr>\n",
       "      <th>2</th>\n",
       "      <td>C0000661</td>\n",
       "      <td>MSH D015124</td>\n",
       "    </tr>\n",
       "    <tr>\n",
       "      <th>3</th>\n",
       "      <td>C0000665</td>\n",
       "      <td>VANDF 4020847</td>\n",
       "    </tr>\n",
       "    <tr>\n",
       "      <th>4</th>\n",
       "      <td>C0000737</td>\n",
       "      <td>LNC LA15468-4</td>\n",
       "    </tr>\n",
       "  </tbody>\n",
       "</table>\n",
       "</div>"
      ],
      "text/plain": [
       "  :START_ID         :END_ID\n",
       "0  C0000294     ATC V03AF01\n",
       "1  C0000481  CHV 0000000513\n",
       "2  C0000661     MSH D015124\n",
       "3  C0000665   VANDF 4020847\n",
       "4  C0000737   LNC LA15468-4"
      ]
     },
     "execution_count": 9,
     "metadata": {},
     "output_type": "execute_result"
    }
   ],
   "source": [
    "concept_code = pd.read_csv(\"neo4j/import/CUI-CODEs.csv\")\n",
    "concept_code.head()"
   ]
  },
  {
   "attachments": {},
   "cell_type": "markdown",
   "metadata": {},
   "source": [
    "### Concept-Concept"
   ]
  },
  {
   "cell_type": "code",
   "execution_count": 10,
   "metadata": {},
   "outputs": [],
   "source": [
    "# concept_concept = pd.read_csv(\"neo4j/import/CUI-CUIs.csv\", dtype_backend=\"pyarrow\")\n",
    "# concept_concept.head()"
   ]
  },
  {
   "attachments": {},
   "cell_type": "markdown",
   "metadata": {},
   "source": [
    "### Semantic-Semantic\n",
    "Prolly skip this"
   ]
  },
  {
   "cell_type": "code",
   "execution_count": 11,
   "metadata": {},
   "outputs": [
    {
     "data": {
      "text/html": [
       "<div>\n",
       "<style scoped>\n",
       "    .dataframe tbody tr th:only-of-type {\n",
       "        vertical-align: middle;\n",
       "    }\n",
       "\n",
       "    .dataframe tbody tr th {\n",
       "        vertical-align: top;\n",
       "    }\n",
       "\n",
       "    .dataframe thead th {\n",
       "        text-align: right;\n",
       "    }\n",
       "</style>\n",
       "<table border=\"1\" class=\"dataframe\">\n",
       "  <thead>\n",
       "    <tr style=\"text-align: right;\">\n",
       "      <th></th>\n",
       "      <th>:END_ID</th>\n",
       "      <th>:START_ID</th>\n",
       "    </tr>\n",
       "  </thead>\n",
       "  <tbody>\n",
       "    <tr>\n",
       "      <th>0</th>\n",
       "      <td>T204</td>\n",
       "      <td>T002</td>\n",
       "    </tr>\n",
       "    <tr>\n",
       "      <th>1</th>\n",
       "      <td>T001</td>\n",
       "      <td>T004</td>\n",
       "    </tr>\n",
       "    <tr>\n",
       "      <th>2</th>\n",
       "      <td>T071</td>\n",
       "      <td>T004</td>\n",
       "    </tr>\n",
       "    <tr>\n",
       "      <th>3</th>\n",
       "      <td>T072</td>\n",
       "      <td>T010</td>\n",
       "    </tr>\n",
       "    <tr>\n",
       "      <th>4</th>\n",
       "      <td>T204</td>\n",
       "      <td>T010</td>\n",
       "    </tr>\n",
       "  </tbody>\n",
       "</table>\n",
       "</div>"
      ],
      "text/plain": [
       "  :END_ID :START_ID\n",
       "0    T204      T002\n",
       "1    T001      T004\n",
       "2    T071      T004\n",
       "3    T072      T010\n",
       "4    T204      T010"
      ]
     },
     "execution_count": 11,
     "metadata": {},
     "output_type": "execute_result"
    }
   ],
   "source": [
    "semantics_semantics = pd.read_csv(\"neo4j/import/TUIrel.csv\")\n",
    "semantics_semantics.head()"
   ]
  },
  {
   "attachments": {},
   "cell_type": "markdown",
   "metadata": {},
   "source": [
    "### Concept-Definition"
   ]
  },
  {
   "cell_type": "code",
   "execution_count": 12,
   "metadata": {},
   "outputs": [
    {
     "data": {
      "text/html": [
       "<div>\n",
       "<style scoped>\n",
       "    .dataframe tbody tr th:only-of-type {\n",
       "        vertical-align: middle;\n",
       "    }\n",
       "\n",
       "    .dataframe tbody tr th {\n",
       "        vertical-align: top;\n",
       "    }\n",
       "\n",
       "    .dataframe thead th {\n",
       "        text-align: right;\n",
       "    }\n",
       "</style>\n",
       "<table border=\"1\" class=\"dataframe\">\n",
       "  <thead>\n",
       "    <tr style=\"text-align: right;\">\n",
       "      <th></th>\n",
       "      <th>:END_ID</th>\n",
       "      <th>:START_ID</th>\n",
       "    </tr>\n",
       "  </thead>\n",
       "  <tbody>\n",
       "    <tr>\n",
       "      <th>0</th>\n",
       "      <td>AT38152019</td>\n",
       "      <td>C0000039</td>\n",
       "    </tr>\n",
       "    <tr>\n",
       "      <th>1</th>\n",
       "      <td>AT69817678</td>\n",
       "      <td>C0000039</td>\n",
       "    </tr>\n",
       "    <tr>\n",
       "      <th>2</th>\n",
       "      <td>AT264439104</td>\n",
       "      <td>C0000039</td>\n",
       "    </tr>\n",
       "    <tr>\n",
       "      <th>3</th>\n",
       "      <td>AT254753550</td>\n",
       "      <td>C0000039</td>\n",
       "    </tr>\n",
       "    <tr>\n",
       "      <th>4</th>\n",
       "      <td>AT267611046</td>\n",
       "      <td>C0000039</td>\n",
       "    </tr>\n",
       "  </tbody>\n",
       "</table>\n",
       "</div>"
      ],
      "text/plain": [
       "       :END_ID :START_ID\n",
       "0   AT38152019  C0000039\n",
       "1   AT69817678  C0000039\n",
       "2  AT264439104  C0000039\n",
       "3  AT254753550  C0000039\n",
       "4  AT267611046  C0000039"
      ]
     },
     "execution_count": 12,
     "metadata": {},
     "output_type": "execute_result"
    }
   ],
   "source": [
    "concept_definition = pd.read_csv(\"neo4j/import/DEFrel.csv\")\n",
    "concept_definition.head()"
   ]
  },
  {
   "attachments": {},
   "cell_type": "markdown",
   "metadata": {},
   "source": [
    "### Code-Term"
   ]
  },
  {
   "cell_type": "code",
   "execution_count": 13,
   "metadata": {},
   "outputs": [
    {
     "data": {
      "text/html": [
       "<div>\n",
       "<style scoped>\n",
       "    .dataframe tbody tr th:only-of-type {\n",
       "        vertical-align: middle;\n",
       "    }\n",
       "\n",
       "    .dataframe tbody tr th {\n",
       "        vertical-align: top;\n",
       "    }\n",
       "\n",
       "    .dataframe thead th {\n",
       "        text-align: right;\n",
       "    }\n",
       "</style>\n",
       "<table border=\"1\" class=\"dataframe\">\n",
       "  <thead>\n",
       "    <tr style=\"text-align: right;\">\n",
       "      <th></th>\n",
       "      <th>:END_ID</th>\n",
       "      <th>:START_ID</th>\n",
       "      <th>:TYPE</th>\n",
       "      <th>CUI</th>\n",
       "    </tr>\n",
       "  </thead>\n",
       "  <tbody>\n",
       "    <tr>\n",
       "      <th>0</th>\n",
       "      <td>S1424701</td>\n",
       "      <td>RXNORM 74</td>\n",
       "      <td>IN</td>\n",
       "      <td>C0000473</td>\n",
       "    </tr>\n",
       "    <tr>\n",
       "      <th>1</th>\n",
       "      <td>S18541041</td>\n",
       "      <td>SNOMEDCT_US 80994002</td>\n",
       "      <td>FN</td>\n",
       "      <td>C0000477</td>\n",
       "    </tr>\n",
       "    <tr>\n",
       "      <th>2</th>\n",
       "      <td>S11730064</td>\n",
       "      <td>SNOMEDCT_US 226367006</td>\n",
       "      <td>SY</td>\n",
       "      <td>C0000545</td>\n",
       "    </tr>\n",
       "    <tr>\n",
       "      <th>3</th>\n",
       "      <td>S0288461</td>\n",
       "      <td>CSP 2005-4146</td>\n",
       "      <td>PT</td>\n",
       "      <td>C0000735</td>\n",
       "    </tr>\n",
       "    <tr>\n",
       "      <th>4</th>\n",
       "      <td>S1957040</td>\n",
       "      <td>MDR 10048885</td>\n",
       "      <td>LLT</td>\n",
       "      <td>C0000735</td>\n",
       "    </tr>\n",
       "  </tbody>\n",
       "</table>\n",
       "</div>"
      ],
      "text/plain": [
       "     :END_ID              :START_ID :TYPE       CUI\n",
       "0   S1424701              RXNORM 74    IN  C0000473\n",
       "1  S18541041   SNOMEDCT_US 80994002    FN  C0000477\n",
       "2  S11730064  SNOMEDCT_US 226367006    SY  C0000545\n",
       "3   S0288461          CSP 2005-4146    PT  C0000735\n",
       "4   S1957040           MDR 10048885   LLT  C0000735"
      ]
     },
     "execution_count": 13,
     "metadata": {},
     "output_type": "execute_result"
    }
   ],
   "source": [
    "code_term = pd.read_csv(\"neo4j/import/CODE-SUIs.csv\")\n",
    "code_term.head()"
   ]
  },
  {
   "attachments": {},
   "cell_type": "markdown",
   "metadata": {},
   "source": [
    "## Merge Concept and Terms"
   ]
  },
  {
   "cell_type": "code",
   "execution_count": 14,
   "metadata": {},
   "outputs": [
    {
     "data": {
      "text/plain": [
       "(4508555, 2)"
      ]
     },
     "execution_count": 14,
     "metadata": {},
     "output_type": "execute_result"
    }
   ],
   "source": [
    "concept_term.columns = [\"CUI:ID\", \"SUI:ID\"]\n",
    "concept_term.shape"
   ]
  },
  {
   "cell_type": "code",
   "execution_count": 15,
   "metadata": {},
   "outputs": [
    {
     "data": {
      "text/html": [
       "<div>\n",
       "<style scoped>\n",
       "    .dataframe tbody tr th:only-of-type {\n",
       "        vertical-align: middle;\n",
       "    }\n",
       "\n",
       "    .dataframe tbody tr th {\n",
       "        vertical-align: top;\n",
       "    }\n",
       "\n",
       "    .dataframe thead th {\n",
       "        text-align: right;\n",
       "    }\n",
       "</style>\n",
       "<table border=\"1\" class=\"dataframe\">\n",
       "  <thead>\n",
       "    <tr style=\"text-align: right;\">\n",
       "      <th></th>\n",
       "      <th>SUI:ID</th>\n",
       "      <th>name</th>\n",
       "    </tr>\n",
       "    <tr>\n",
       "      <th>CUI:ID</th>\n",
       "      <th></th>\n",
       "      <th></th>\n",
       "    </tr>\n",
       "  </thead>\n",
       "  <tbody>\n",
       "    <tr>\n",
       "      <th>C0000005</th>\n",
       "      <td>S0007492</td>\n",
       "      <td>(131)I-Macroaggregated Albumin</td>\n",
       "    </tr>\n",
       "    <tr>\n",
       "      <th>C0000039</th>\n",
       "      <td>S17175117</td>\n",
       "      <td>1,2-dipalmitoylphosphatidylcholine</td>\n",
       "    </tr>\n",
       "    <tr>\n",
       "      <th>C0000052</th>\n",
       "      <td>S0007584</td>\n",
       "      <td>1,4-alpha-Glucan Branching Enzyme</td>\n",
       "    </tr>\n",
       "    <tr>\n",
       "      <th>C0000074</th>\n",
       "      <td>S0007615</td>\n",
       "      <td>1-Alkyl-2-Acylphosphatidates</td>\n",
       "    </tr>\n",
       "    <tr>\n",
       "      <th>C0000084</th>\n",
       "      <td>S0007627</td>\n",
       "      <td>1-Carboxyglutamic Acid</td>\n",
       "    </tr>\n",
       "  </tbody>\n",
       "</table>\n",
       "</div>"
      ],
      "text/plain": [
       "             SUI:ID                                name\n",
       "CUI:ID                                                 \n",
       "C0000005   S0007492      (131)I-Macroaggregated Albumin\n",
       "C0000039  S17175117  1,2-dipalmitoylphosphatidylcholine\n",
       "C0000052   S0007584   1,4-alpha-Glucan Branching Enzyme\n",
       "C0000074   S0007615        1-Alkyl-2-Acylphosphatidates\n",
       "C0000084   S0007627              1-Carboxyglutamic Acid"
      ]
     },
     "execution_count": 15,
     "metadata": {},
     "output_type": "execute_result"
    }
   ],
   "source": [
    "concept_term = pd.merge(concept_term, terms, on=\"SUI:ID\", how='outer')\n",
    "concept_term = concept_term.groupby('CUI:ID').first()\n",
    "concept_term.head()"
   ]
  },
  {
   "cell_type": "code",
   "execution_count": 16,
   "metadata": {},
   "outputs": [
    {
     "data": {
      "text/plain": [
       "(4508537, 2)"
      ]
     },
     "execution_count": 16,
     "metadata": {},
     "output_type": "execute_result"
    }
   ],
   "source": [
    "concept_term.shape"
   ]
  },
  {
   "cell_type": "code",
   "execution_count": 17,
   "metadata": {},
   "outputs": [
    {
     "data": {
      "text/html": [
       "<div>\n",
       "<style scoped>\n",
       "    .dataframe tbody tr th:only-of-type {\n",
       "        vertical-align: middle;\n",
       "    }\n",
       "\n",
       "    .dataframe tbody tr th {\n",
       "        vertical-align: top;\n",
       "    }\n",
       "\n",
       "    .dataframe thead th {\n",
       "        text-align: right;\n",
       "    }\n",
       "</style>\n",
       "<table border=\"1\" class=\"dataframe\">\n",
       "  <thead>\n",
       "    <tr style=\"text-align: right;\">\n",
       "      <th></th>\n",
       "      <th>label</th>\n",
       "    </tr>\n",
       "    <tr>\n",
       "      <th>CUI:ID</th>\n",
       "      <th></th>\n",
       "    </tr>\n",
       "  </thead>\n",
       "  <tbody>\n",
       "    <tr>\n",
       "      <th>C0000005</th>\n",
       "      <td>(131)I-Macroaggregated Albumin</td>\n",
       "    </tr>\n",
       "    <tr>\n",
       "      <th>C0000039</th>\n",
       "      <td>1,2-dipalmitoylphosphatidylcholine</td>\n",
       "    </tr>\n",
       "    <tr>\n",
       "      <th>C0000052</th>\n",
       "      <td>1,4-alpha-Glucan Branching Enzyme</td>\n",
       "    </tr>\n",
       "    <tr>\n",
       "      <th>C0000074</th>\n",
       "      <td>1-Alkyl-2-Acylphosphatidates</td>\n",
       "    </tr>\n",
       "    <tr>\n",
       "      <th>C0000084</th>\n",
       "      <td>1-Carboxyglutamic Acid</td>\n",
       "    </tr>\n",
       "  </tbody>\n",
       "</table>\n",
       "</div>"
      ],
      "text/plain": [
       "                                       label\n",
       "CUI:ID                                      \n",
       "C0000005      (131)I-Macroaggregated Albumin\n",
       "C0000039  1,2-dipalmitoylphosphatidylcholine\n",
       "C0000052   1,4-alpha-Glucan Branching Enzyme\n",
       "C0000074        1-Alkyl-2-Acylphosphatidates\n",
       "C0000084              1-Carboxyglutamic Acid"
      ]
     },
     "execution_count": 17,
     "metadata": {},
     "output_type": "execute_result"
    }
   ],
   "source": [
    "concept_term.columns = [\"SUI:ID\", \"label\"]\n",
    "concept_term = concept_term[[\"label\"]]\n",
    "concept_term.head()"
   ]
  },
  {
   "cell_type": "code",
   "execution_count": 18,
   "metadata": {},
   "outputs": [
    {
     "data": {
      "text/plain": [
       "(4508537, 1)"
      ]
     },
     "execution_count": 18,
     "metadata": {},
     "output_type": "execute_result"
    }
   ],
   "source": [
    "concept_term.shape"
   ]
  },
  {
   "cell_type": "code",
   "execution_count": 19,
   "metadata": {},
   "outputs": [
    {
     "data": {
      "text/html": [
       "<div>\n",
       "<style scoped>\n",
       "    .dataframe tbody tr th:only-of-type {\n",
       "        vertical-align: middle;\n",
       "    }\n",
       "\n",
       "    .dataframe tbody tr th {\n",
       "        vertical-align: top;\n",
       "    }\n",
       "\n",
       "    .dataframe thead th {\n",
       "        text-align: right;\n",
       "    }\n",
       "</style>\n",
       "<table border=\"1\" class=\"dataframe\">\n",
       "  <thead>\n",
       "    <tr style=\"text-align: right;\">\n",
       "      <th></th>\n",
       "      <th>label</th>\n",
       "    </tr>\n",
       "    <tr>\n",
       "      <th>id</th>\n",
       "      <th></th>\n",
       "    </tr>\n",
       "  </thead>\n",
       "  <tbody>\n",
       "    <tr>\n",
       "      <th>C0000097</th>\n",
       "      <td>1-Methyl-4-phenyl-1,2,3,6-tetrahydropyridine</td>\n",
       "    </tr>\n",
       "    <tr>\n",
       "      <th>C0000359</th>\n",
       "      <td>3',5'-Cyclic-Nucleotide Phosphodiesterase</td>\n",
       "    </tr>\n",
       "    <tr>\n",
       "      <th>C0000610</th>\n",
       "      <td>6-Aminonicotinamide</td>\n",
       "    </tr>\n",
       "    <tr>\n",
       "      <th>C0000739</th>\n",
       "      <td>Abdominal Muscles</td>\n",
       "    </tr>\n",
       "    <tr>\n",
       "      <th>C0000873</th>\n",
       "      <td>Academic Problem</td>\n",
       "    </tr>\n",
       "  </tbody>\n",
       "</table>\n",
       "</div>"
      ],
      "text/plain": [
       "                                                 label\n",
       "id                                                    \n",
       "C0000097  1-Methyl-4-phenyl-1,2,3,6-tetrahydropyridine\n",
       "C0000359     3',5'-Cyclic-Nucleotide Phosphodiesterase\n",
       "C0000610                           6-Aminonicotinamide\n",
       "C0000739                             Abdominal Muscles\n",
       "C0000873                              Academic Problem"
      ]
     },
     "execution_count": 19,
     "metadata": {},
     "output_type": "execute_result"
    }
   ],
   "source": [
    "concepts.loc[concept_term.index, 'label'] = concept_term.loc[concept_term.index, 'label']\n",
    "concepts.head()"
   ]
  },
  {
   "cell_type": "code",
   "execution_count": 20,
   "metadata": {},
   "outputs": [
    {
     "data": {
      "text/plain": [
       "(11424664, 1)"
      ]
     },
     "execution_count": 20,
     "metadata": {},
     "output_type": "execute_result"
    }
   ],
   "source": [
    "concepts.label = concepts.label.fillna(\"-\")\n",
    "concepts.shape"
   ]
  },
  {
   "attachments": {},
   "cell_type": "markdown",
   "metadata": {},
   "source": [
    "## Merge Concept and Type"
   ]
  },
  {
   "cell_type": "code",
   "execution_count": 21,
   "metadata": {},
   "outputs": [
    {
     "data": {
      "text/html": [
       "<div>\n",
       "<style scoped>\n",
       "    .dataframe tbody tr th:only-of-type {\n",
       "        vertical-align: middle;\n",
       "    }\n",
       "\n",
       "    .dataframe tbody tr th {\n",
       "        vertical-align: top;\n",
       "    }\n",
       "\n",
       "    .dataframe thead th {\n",
       "        text-align: right;\n",
       "    }\n",
       "</style>\n",
       "<table border=\"1\" class=\"dataframe\">\n",
       "  <thead>\n",
       "    <tr style=\"text-align: right;\">\n",
       "      <th></th>\n",
       "      <th>name</th>\n",
       "      <th>STN</th>\n",
       "      <th>DEF</th>\n",
       "    </tr>\n",
       "    <tr>\n",
       "      <th>TUI:ID</th>\n",
       "      <th></th>\n",
       "      <th></th>\n",
       "      <th></th>\n",
       "    </tr>\n",
       "  </thead>\n",
       "  <tbody>\n",
       "    <tr>\n",
       "      <th>T012</th>\n",
       "      <td>Bird</td>\n",
       "      <td>A1.1.3.1.1.2</td>\n",
       "      <td>A vertebrate having a constant body temperatur...</td>\n",
       "    </tr>\n",
       "    <tr>\n",
       "      <th>T014</th>\n",
       "      <td>Reptile</td>\n",
       "      <td>A1.1.3.1.1.5</td>\n",
       "      <td>A cold-blooded vertebrate having an external c...</td>\n",
       "    </tr>\n",
       "    <tr>\n",
       "      <th>T015</th>\n",
       "      <td>Mammal</td>\n",
       "      <td>A1.1.3.1.1.4</td>\n",
       "      <td>A vertebrate having a constant body temperatur...</td>\n",
       "    </tr>\n",
       "    <tr>\n",
       "      <th>T021</th>\n",
       "      <td>Fully Formed Anatomical Structure</td>\n",
       "      <td>A1.2.3</td>\n",
       "      <td>An anatomical structure in a fully formed orga...</td>\n",
       "    </tr>\n",
       "    <tr>\n",
       "      <th>T022</th>\n",
       "      <td>Body System</td>\n",
       "      <td>A2.1.4.1</td>\n",
       "      <td>A complex of anatomical structures that perfor...</td>\n",
       "    </tr>\n",
       "  </tbody>\n",
       "</table>\n",
       "</div>"
      ],
      "text/plain": [
       "                                     name           STN  \\\n",
       "TUI:ID                                                    \n",
       "T012                                 Bird  A1.1.3.1.1.2   \n",
       "T014                              Reptile  A1.1.3.1.1.5   \n",
       "T015                               Mammal  A1.1.3.1.1.4   \n",
       "T021    Fully Formed Anatomical Structure        A1.2.3   \n",
       "T022                          Body System      A2.1.4.1   \n",
       "\n",
       "                                                      DEF  \n",
       "TUI:ID                                                     \n",
       "T012    A vertebrate having a constant body temperatur...  \n",
       "T014    A cold-blooded vertebrate having an external c...  \n",
       "T015    A vertebrate having a constant body temperatur...  \n",
       "T021    An anatomical structure in a fully formed orga...  \n",
       "T022    A complex of anatomical structures that perfor...  "
      ]
     },
     "execution_count": 21,
     "metadata": {},
     "output_type": "execute_result"
    }
   ],
   "source": [
    "semantics.head()"
   ]
  },
  {
   "cell_type": "code",
   "execution_count": 22,
   "metadata": {},
   "outputs": [
    {
     "data": {
      "text/html": [
       "<div>\n",
       "<style scoped>\n",
       "    .dataframe tbody tr th:only-of-type {\n",
       "        vertical-align: middle;\n",
       "    }\n",
       "\n",
       "    .dataframe tbody tr th {\n",
       "        vertical-align: top;\n",
       "    }\n",
       "\n",
       "    .dataframe thead th {\n",
       "        text-align: right;\n",
       "    }\n",
       "</style>\n",
       "<table border=\"1\" class=\"dataframe\">\n",
       "  <thead>\n",
       "    <tr style=\"text-align: right;\">\n",
       "      <th></th>\n",
       "      <th>:START_ID</th>\n",
       "      <th>:END_ID</th>\n",
       "    </tr>\n",
       "  </thead>\n",
       "  <tbody>\n",
       "    <tr>\n",
       "      <th>0</th>\n",
       "      <td>C0000132</td>\n",
       "      <td>T126</td>\n",
       "    </tr>\n",
       "    <tr>\n",
       "      <th>1</th>\n",
       "      <td>C0000246</td>\n",
       "      <td>T116</td>\n",
       "    </tr>\n",
       "    <tr>\n",
       "      <th>2</th>\n",
       "      <td>C0000895</td>\n",
       "      <td>T060</td>\n",
       "    </tr>\n",
       "    <tr>\n",
       "      <th>3</th>\n",
       "      <td>C0000908</td>\n",
       "      <td>T037</td>\n",
       "    </tr>\n",
       "    <tr>\n",
       "      <th>4</th>\n",
       "      <td>C0000931</td>\n",
       "      <td>T067</td>\n",
       "    </tr>\n",
       "  </tbody>\n",
       "</table>\n",
       "</div>"
      ],
      "text/plain": [
       "  :START_ID :END_ID\n",
       "0  C0000132    T126\n",
       "1  C0000246    T116\n",
       "2  C0000895    T060\n",
       "3  C0000908    T037\n",
       "4  C0000931    T067"
      ]
     },
     "execution_count": 22,
     "metadata": {},
     "output_type": "execute_result"
    }
   ],
   "source": [
    "concept_semantics.head()"
   ]
  },
  {
   "cell_type": "code",
   "execution_count": 23,
   "metadata": {},
   "outputs": [
    {
     "data": {
      "text/plain": [
       "8161231"
      ]
     },
     "execution_count": 23,
     "metadata": {},
     "output_type": "execute_result"
    }
   ],
   "source": [
    "no_type = set(concepts.index) - set(concept_semantics[':START_ID'])\n",
    "len(no_type)"
   ]
  },
  {
   "cell_type": "code",
   "execution_count": 24,
   "metadata": {},
   "outputs": [],
   "source": [
    "# unique_relation = set()\n",
    "# unique_sab = set()\n",
    "# examples = set()\n",
    "# with open(\"neo4j/import/CUI-CUIs.csv\") as o:\n",
    "#     csv_reader = csv.reader(o)\n",
    "#     headers = None\n",
    "#     for row in tqdm(csv_reader):\n",
    "#         if not headers:\n",
    "#             headers = row\n",
    "#         else:\n",
    "#             source = row[0]\n",
    "#             target = row[1]\n",
    "#             relation = row[2]\n",
    "#             sab = row[3]\n",
    "#             if source in no_type or target in no_type:\n",
    "#                 if relation not in unique_relation or sab not in unique_sab:\n",
    "#                     examples.add((source, relation, sab, target))\n",
    "#                     unique_relation.add(relation)\n",
    "#                     unique_sab.add(sab)"
   ]
  },
  {
   "cell_type": "code",
   "execution_count": 25,
   "metadata": {},
   "outputs": [],
   "source": [
    "# with open(\"no_types.txt\", \"w\") as o:\n",
    "#     o.write(\"\\n\".join([\",\".join(i) for i in examples]))"
   ]
  },
  {
   "cell_type": "code",
   "execution_count": 26,
   "metadata": {},
   "outputs": [],
   "source": [
    "# with open(\"SABs_no_semantic.txt\", \"w\") as o:\n",
    "#     o.write(\"\\n\".join(unique_sab))"
   ]
  },
  {
   "cell_type": "code",
   "execution_count": 27,
   "metadata": {},
   "outputs": [],
   "source": [
    "with open('out/semantics_ranked.tsv') as o:\n",
    "    ranked_type = [i.strip() for i in o.read().strip().split(\"\\n\")]"
   ]
  },
  {
   "cell_type": "code",
   "execution_count": 28,
   "metadata": {},
   "outputs": [
    {
     "data": {
      "text/html": [
       "<div>\n",
       "<style scoped>\n",
       "    .dataframe tbody tr th:only-of-type {\n",
       "        vertical-align: middle;\n",
       "    }\n",
       "\n",
       "    .dataframe tbody tr th {\n",
       "        vertical-align: top;\n",
       "    }\n",
       "\n",
       "    .dataframe thead th {\n",
       "        text-align: right;\n",
       "    }\n",
       "</style>\n",
       "<table border=\"1\" class=\"dataframe\">\n",
       "  <thead>\n",
       "    <tr style=\"text-align: right;\">\n",
       "      <th></th>\n",
       "      <th>id</th>\n",
       "      <th>TUI:ID</th>\n",
       "      <th>type</th>\n",
       "    </tr>\n",
       "  </thead>\n",
       "  <tbody>\n",
       "    <tr>\n",
       "      <th>0</th>\n",
       "      <td>C0000132</td>\n",
       "      <td>T126</td>\n",
       "      <td>Enzyme</td>\n",
       "    </tr>\n",
       "    <tr>\n",
       "      <th>1</th>\n",
       "      <td>C0000246</td>\n",
       "      <td>T116</td>\n",
       "      <td>Amino Acid, Peptide, or Protein</td>\n",
       "    </tr>\n",
       "    <tr>\n",
       "      <th>2</th>\n",
       "      <td>C0000895</td>\n",
       "      <td>T060</td>\n",
       "      <td>Diagnostic Procedure</td>\n",
       "    </tr>\n",
       "    <tr>\n",
       "      <th>3</th>\n",
       "      <td>C0000908</td>\n",
       "      <td>T037</td>\n",
       "      <td>Injury or Poisoning</td>\n",
       "    </tr>\n",
       "    <tr>\n",
       "      <th>4</th>\n",
       "      <td>C0000931</td>\n",
       "      <td>T067</td>\n",
       "      <td>Phenomenon or Process</td>\n",
       "    </tr>\n",
       "  </tbody>\n",
       "</table>\n",
       "</div>"
      ],
      "text/plain": [
       "         id TUI:ID                             type\n",
       "0  C0000132   T126                           Enzyme\n",
       "1  C0000246   T116  Amino Acid, Peptide, or Protein\n",
       "2  C0000895   T060             Diagnostic Procedure\n",
       "3  C0000908   T037              Injury or Poisoning\n",
       "4  C0000931   T067            Phenomenon or Process"
      ]
     },
     "execution_count": 28,
     "metadata": {},
     "output_type": "execute_result"
    }
   ],
   "source": [
    "concept_semantics.columns = [\"id\", \"TUI:ID\"]\n",
    "concept_semantics[\"type\"] = [semantics.at[i, 'name'] for i in concept_semantics['TUI:ID']]\n",
    "concept_semantics.head()"
   ]
  },
  {
   "cell_type": "code",
   "execution_count": 29,
   "metadata": {},
   "outputs": [],
   "source": [
    "def fetch_type(v):\n",
    "    cat = \"\"\n",
    "    rank = len(ranked_type)\n",
    "    for i in v:\n",
    "        r = ranked_type.index(i)\n",
    "        if r < rank:\n",
    "            cat = i\n",
    "            rank = r\n",
    "    return cat"
   ]
  },
  {
   "cell_type": "code",
   "execution_count": 30,
   "metadata": {},
   "outputs": [
    {
     "data": {
      "text/plain": [
       "id\n",
       "C0000005    Pharmacologic Substance; Amino Acid, Peptide, ...\n",
       "C0000039            Pharmacologic Substance; Organic Chemical\n",
       "C0000052              Enzyme; Amino Acid, Peptide, or Protein\n",
       "C0000074                                     Organic Chemical\n",
       "C0000084    Biologically Active Substance; Amino Acid, Pep...\n",
       "Name: type, dtype: object"
      ]
     },
     "execution_count": 30,
     "metadata": {},
     "output_type": "execute_result"
    }
   ],
   "source": [
    "cs = concept_semantics.groupby('id')['type'].apply(lambda x: \"; \".join(set(x)))\n",
    "cs.head()"
   ]
  },
  {
   "cell_type": "code",
   "execution_count": 31,
   "metadata": {},
   "outputs": [
    {
     "data": {
      "text/plain": [
       "id\n",
       "C0000005    Amino Acid, Peptide, or Protein\n",
       "C0000039                   Organic Chemical\n",
       "C0000052                             Enzyme\n",
       "C0000074                   Organic Chemical\n",
       "C0000084    Amino Acid, Peptide, or Protein\n",
       "Name: type, dtype: object"
      ]
     },
     "execution_count": 31,
     "metadata": {},
     "output_type": "execute_result"
    }
   ],
   "source": [
    "cs_ranked = concept_semantics.groupby('id')['type'].apply(fetch_type)\n",
    "cs_ranked.head()"
   ]
  },
  {
   "cell_type": "code",
   "execution_count": 32,
   "metadata": {},
   "outputs": [
    {
     "data": {
      "text/plain": [
       "id\n",
       "C2872811     Injury or Poisoning\n",
       "C5697998    Laboratory Procedure\n",
       "C4297234      Clinical Attribute\n",
       "C1263700      Neoplastic Process\n",
       "C2840805     Injury or Poisoning\n",
       "Name: type, dtype: object"
      ]
     },
     "execution_count": 32,
     "metadata": {},
     "output_type": "execute_result"
    }
   ],
   "source": [
    "common = list(set(concepts.index).intersection(cs.index))\n",
    "cs[common].head()"
   ]
  },
  {
   "cell_type": "code",
   "execution_count": 33,
   "metadata": {},
   "outputs": [
    {
     "data": {
      "text/html": [
       "<div>\n",
       "<style scoped>\n",
       "    .dataframe tbody tr th:only-of-type {\n",
       "        vertical-align: middle;\n",
       "    }\n",
       "\n",
       "    .dataframe tbody tr th {\n",
       "        vertical-align: top;\n",
       "    }\n",
       "\n",
       "    .dataframe thead th {\n",
       "        text-align: right;\n",
       "    }\n",
       "</style>\n",
       "<table border=\"1\" class=\"dataframe\">\n",
       "  <thead>\n",
       "    <tr style=\"text-align: right;\">\n",
       "      <th></th>\n",
       "      <th>label</th>\n",
       "      <th>type</th>\n",
       "      <th>type_combined</th>\n",
       "    </tr>\n",
       "    <tr>\n",
       "      <th>id</th>\n",
       "      <th></th>\n",
       "      <th></th>\n",
       "      <th></th>\n",
       "    </tr>\n",
       "  </thead>\n",
       "  <tbody>\n",
       "    <tr>\n",
       "      <th>C0000097</th>\n",
       "      <td>1-Methyl-4-phenyl-1,2,3,6-tetrahydropyridine</td>\n",
       "      <td>Organic Chemical</td>\n",
       "      <td>Organic Chemical; Hazardous or Poisonous Subst...</td>\n",
       "    </tr>\n",
       "    <tr>\n",
       "      <th>C0000359</th>\n",
       "      <td>3',5'-Cyclic-Nucleotide Phosphodiesterase</td>\n",
       "      <td>Enzyme</td>\n",
       "      <td>Enzyme; Amino Acid, Peptide, or Protein</td>\n",
       "    </tr>\n",
       "    <tr>\n",
       "      <th>C0000610</th>\n",
       "      <td>6-Aminonicotinamide</td>\n",
       "      <td>Pharmacologic Substance</td>\n",
       "      <td>Pharmacologic Substance; Vitamin</td>\n",
       "    </tr>\n",
       "    <tr>\n",
       "      <th>C0000739</th>\n",
       "      <td>Abdominal Muscles</td>\n",
       "      <td>Body Part, Organ, or Organ Component</td>\n",
       "      <td>Body Part, Organ, or Organ Component</td>\n",
       "    </tr>\n",
       "    <tr>\n",
       "      <th>C0000873</th>\n",
       "      <td>Academic Problem</td>\n",
       "      <td>Finding</td>\n",
       "      <td>Finding</td>\n",
       "    </tr>\n",
       "  </tbody>\n",
       "</table>\n",
       "</div>"
      ],
      "text/plain": [
       "                                                 label  \\\n",
       "id                                                       \n",
       "C0000097  1-Methyl-4-phenyl-1,2,3,6-tetrahydropyridine   \n",
       "C0000359     3',5'-Cyclic-Nucleotide Phosphodiesterase   \n",
       "C0000610                           6-Aminonicotinamide   \n",
       "C0000739                             Abdominal Muscles   \n",
       "C0000873                              Academic Problem   \n",
       "\n",
       "                                          type  \\\n",
       "id                                               \n",
       "C0000097                      Organic Chemical   \n",
       "C0000359                                Enzyme   \n",
       "C0000610               Pharmacologic Substance   \n",
       "C0000739  Body Part, Organ, or Organ Component   \n",
       "C0000873                               Finding   \n",
       "\n",
       "                                              type_combined  \n",
       "id                                                           \n",
       "C0000097  Organic Chemical; Hazardous or Poisonous Subst...  \n",
       "C0000359            Enzyme; Amino Acid, Peptide, or Protein  \n",
       "C0000610                   Pharmacologic Substance; Vitamin  \n",
       "C0000739               Body Part, Organ, or Organ Component  \n",
       "C0000873                                            Finding  "
      ]
     },
     "execution_count": 33,
     "metadata": {},
     "output_type": "execute_result"
    }
   ],
   "source": [
    "concept_semantics\n",
    "concepts.loc[common, 'type'] = cs_ranked[common]\n",
    "concepts.loc[common, 'type_combined'] = cs[common]\n",
    "concepts.head()"
   ]
  },
  {
   "cell_type": "code",
   "execution_count": 34,
   "metadata": {},
   "outputs": [],
   "source": [
    "concepts.groupby(\"type_combined\").first().to_csv('out/semantics.tsv', sep=\"\\t\")"
   ]
  },
  {
   "cell_type": "code",
   "execution_count": 35,
   "metadata": {},
   "outputs": [
    {
     "data": {
      "text/html": [
       "<div>\n",
       "<style scoped>\n",
       "    .dataframe tbody tr th:only-of-type {\n",
       "        vertical-align: middle;\n",
       "    }\n",
       "\n",
       "    .dataframe tbody tr th {\n",
       "        vertical-align: top;\n",
       "    }\n",
       "\n",
       "    .dataframe thead th {\n",
       "        text-align: right;\n",
       "    }\n",
       "</style>\n",
       "<table border=\"1\" class=\"dataframe\">\n",
       "  <thead>\n",
       "    <tr style=\"text-align: right;\">\n",
       "      <th></th>\n",
       "      <th>label</th>\n",
       "      <th>type</th>\n",
       "      <th>type_combined</th>\n",
       "    </tr>\n",
       "    <tr>\n",
       "      <th>id</th>\n",
       "      <th></th>\n",
       "      <th></th>\n",
       "      <th></th>\n",
       "    </tr>\n",
       "  </thead>\n",
       "  <tbody>\n",
       "    <tr>\n",
       "      <th>C0000097</th>\n",
       "      <td>1-Methyl-4-phenyl-1,2,3,6-tetrahydropyridine</td>\n",
       "      <td>Organic Chemical</td>\n",
       "      <td>Organic Chemical; Hazardous or Poisonous Subst...</td>\n",
       "    </tr>\n",
       "    <tr>\n",
       "      <th>C0000359</th>\n",
       "      <td>3',5'-Cyclic-Nucleotide Phosphodiesterase</td>\n",
       "      <td>Enzyme</td>\n",
       "      <td>Enzyme; Amino Acid, Peptide, or Protein</td>\n",
       "    </tr>\n",
       "    <tr>\n",
       "      <th>C0000610</th>\n",
       "      <td>6-Aminonicotinamide</td>\n",
       "      <td>Pharmacologic Substance</td>\n",
       "      <td>Pharmacologic Substance; Vitamin</td>\n",
       "    </tr>\n",
       "    <tr>\n",
       "      <th>C0000739</th>\n",
       "      <td>Abdominal Muscles</td>\n",
       "      <td>Body Part, Organ, or Organ Component</td>\n",
       "      <td>Body Part, Organ, or Organ Component</td>\n",
       "    </tr>\n",
       "    <tr>\n",
       "      <th>C0000873</th>\n",
       "      <td>Academic Problem</td>\n",
       "      <td>Finding</td>\n",
       "      <td>Finding</td>\n",
       "    </tr>\n",
       "  </tbody>\n",
       "</table>\n",
       "</div>"
      ],
      "text/plain": [
       "                                                 label  \\\n",
       "id                                                       \n",
       "C0000097  1-Methyl-4-phenyl-1,2,3,6-tetrahydropyridine   \n",
       "C0000359     3',5'-Cyclic-Nucleotide Phosphodiesterase   \n",
       "C0000610                           6-Aminonicotinamide   \n",
       "C0000739                             Abdominal Muscles   \n",
       "C0000873                              Academic Problem   \n",
       "\n",
       "                                          type  \\\n",
       "id                                               \n",
       "C0000097                      Organic Chemical   \n",
       "C0000359                                Enzyme   \n",
       "C0000610               Pharmacologic Substance   \n",
       "C0000739  Body Part, Organ, or Organ Component   \n",
       "C0000873                               Finding   \n",
       "\n",
       "                                              type_combined  \n",
       "id                                                           \n",
       "C0000097  Organic Chemical; Hazardous or Poisonous Subst...  \n",
       "C0000359            Enzyme; Amino Acid, Peptide, or Protein  \n",
       "C0000610                   Pharmacologic Substance; Vitamin  \n",
       "C0000739               Body Part, Organ, or Organ Component  \n",
       "C0000873                                            Finding  "
      ]
     },
     "execution_count": 35,
     "metadata": {},
     "output_type": "execute_result"
    }
   ],
   "source": [
    "concepts.head()"
   ]
  },
  {
   "cell_type": "code",
   "execution_count": 36,
   "metadata": {},
   "outputs": [
    {
     "data": {
      "text/plain": [
       "(11424664, 3)"
      ]
     },
     "execution_count": 36,
     "metadata": {},
     "output_type": "execute_result"
    }
   ],
   "source": [
    "concepts.shape"
   ]
  },
  {
   "cell_type": "code",
   "execution_count": 37,
   "metadata": {},
   "outputs": [],
   "source": [
    "with open('out/semantics_list.tsv', 'w') as o:\n",
    "    o.write(\"\\n\".join([str(i) for i in concept_semantics.type.unique()]))"
   ]
  },
  {
   "attachments": {},
   "cell_type": "markdown",
   "metadata": {},
   "source": [
    "## Merge Concept and Code"
   ]
  },
  {
   "cell_type": "code",
   "execution_count": 38,
   "metadata": {},
   "outputs": [
    {
     "data": {
      "text/html": [
       "<div>\n",
       "<style scoped>\n",
       "    .dataframe tbody tr th:only-of-type {\n",
       "        vertical-align: middle;\n",
       "    }\n",
       "\n",
       "    .dataframe tbody tr th {\n",
       "        vertical-align: top;\n",
       "    }\n",
       "\n",
       "    .dataframe thead th {\n",
       "        text-align: right;\n",
       "    }\n",
       "</style>\n",
       "<table border=\"1\" class=\"dataframe\">\n",
       "  <thead>\n",
       "    <tr style=\"text-align: right;\">\n",
       "      <th></th>\n",
       "      <th>SAB</th>\n",
       "      <th>CODE</th>\n",
       "      <th>value:float</th>\n",
       "      <th>lowerbound:float</th>\n",
       "      <th>upperbound:float</th>\n",
       "      <th>unit</th>\n",
       "    </tr>\n",
       "    <tr>\n",
       "      <th>CodeID:ID</th>\n",
       "      <th></th>\n",
       "      <th></th>\n",
       "      <th></th>\n",
       "      <th></th>\n",
       "      <th></th>\n",
       "      <th></th>\n",
       "    </tr>\n",
       "  </thead>\n",
       "  <tbody>\n",
       "    <tr>\n",
       "      <th>MTHSPL J7A92W69L7</th>\n",
       "      <td>MTHSPL</td>\n",
       "      <td>J7A92W69L7</td>\n",
       "      <td>NaN</td>\n",
       "      <td>NaN</td>\n",
       "      <td>NaN</td>\n",
       "      <td>NaN</td>\n",
       "    </tr>\n",
       "    <tr>\n",
       "      <th>NCI C76777</th>\n",
       "      <td>NCI</td>\n",
       "      <td>C76777</td>\n",
       "      <td>NaN</td>\n",
       "      <td>NaN</td>\n",
       "      <td>NaN</td>\n",
       "      <td>NaN</td>\n",
       "    </tr>\n",
       "    <tr>\n",
       "      <th>ATC N07XX07</th>\n",
       "      <td>ATC</td>\n",
       "      <td>N07XX07</td>\n",
       "      <td>NaN</td>\n",
       "      <td>NaN</td>\n",
       "      <td>NaN</td>\n",
       "      <td>NaN</td>\n",
       "    </tr>\n",
       "    <tr>\n",
       "      <th>GS 1946</th>\n",
       "      <td>GS</td>\n",
       "      <td>1946</td>\n",
       "      <td>NaN</td>\n",
       "      <td>NaN</td>\n",
       "      <td>NaN</td>\n",
       "      <td>NaN</td>\n",
       "    </tr>\n",
       "    <tr>\n",
       "      <th>NOC 040413</th>\n",
       "      <td>NOC</td>\n",
       "      <td>040413</td>\n",
       "      <td>NaN</td>\n",
       "      <td>NaN</td>\n",
       "      <td>NaN</td>\n",
       "      <td>NaN</td>\n",
       "    </tr>\n",
       "  </tbody>\n",
       "</table>\n",
       "</div>"
      ],
      "text/plain": [
       "                      SAB        CODE  value:float  lowerbound:float  \\\n",
       "CodeID:ID                                                              \n",
       "MTHSPL J7A92W69L7  MTHSPL  J7A92W69L7          NaN               NaN   \n",
       "NCI C76777            NCI      C76777          NaN               NaN   \n",
       "ATC N07XX07           ATC     N07XX07          NaN               NaN   \n",
       "GS 1946                GS        1946          NaN               NaN   \n",
       "NOC 040413            NOC      040413          NaN               NaN   \n",
       "\n",
       "                   upperbound:float  unit  \n",
       "CodeID:ID                                  \n",
       "MTHSPL J7A92W69L7               NaN   NaN  \n",
       "NCI C76777                      NaN   NaN  \n",
       "ATC N07XX07                     NaN   NaN  \n",
       "GS 1946                         NaN   NaN  \n",
       "NOC 040413                      NaN   NaN  "
      ]
     },
     "execution_count": 38,
     "metadata": {},
     "output_type": "execute_result"
    }
   ],
   "source": [
    "codes.head()"
   ]
  },
  {
   "cell_type": "code",
   "execution_count": 39,
   "metadata": {},
   "outputs": [
    {
     "data": {
      "text/html": [
       "<div>\n",
       "<style scoped>\n",
       "    .dataframe tbody tr th:only-of-type {\n",
       "        vertical-align: middle;\n",
       "    }\n",
       "\n",
       "    .dataframe tbody tr th {\n",
       "        vertical-align: top;\n",
       "    }\n",
       "\n",
       "    .dataframe thead th {\n",
       "        text-align: right;\n",
       "    }\n",
       "</style>\n",
       "<table border=\"1\" class=\"dataframe\">\n",
       "  <thead>\n",
       "    <tr style=\"text-align: right;\">\n",
       "      <th></th>\n",
       "      <th>id</th>\n",
       "      <th>CodeID:ID</th>\n",
       "    </tr>\n",
       "  </thead>\n",
       "  <tbody>\n",
       "    <tr>\n",
       "      <th>0</th>\n",
       "      <td>C0000294</td>\n",
       "      <td>ATC V03AF01</td>\n",
       "    </tr>\n",
       "    <tr>\n",
       "      <th>1</th>\n",
       "      <td>C0000481</td>\n",
       "      <td>CHV 0000000513</td>\n",
       "    </tr>\n",
       "    <tr>\n",
       "      <th>2</th>\n",
       "      <td>C0000661</td>\n",
       "      <td>MSH D015124</td>\n",
       "    </tr>\n",
       "    <tr>\n",
       "      <th>3</th>\n",
       "      <td>C0000665</td>\n",
       "      <td>VANDF 4020847</td>\n",
       "    </tr>\n",
       "    <tr>\n",
       "      <th>4</th>\n",
       "      <td>C0000737</td>\n",
       "      <td>LNC LA15468-4</td>\n",
       "    </tr>\n",
       "  </tbody>\n",
       "</table>\n",
       "</div>"
      ],
      "text/plain": [
       "         id       CodeID:ID\n",
       "0  C0000294     ATC V03AF01\n",
       "1  C0000481  CHV 0000000513\n",
       "2  C0000661     MSH D015124\n",
       "3  C0000665   VANDF 4020847\n",
       "4  C0000737   LNC LA15468-4"
      ]
     },
     "execution_count": 39,
     "metadata": {},
     "output_type": "execute_result"
    }
   ],
   "source": [
    "concept_code.columns = [\"id\", \"CodeID:ID\"]\n",
    "concept_code.head()"
   ]
  },
  {
   "cell_type": "code",
   "execution_count": 40,
   "metadata": {},
   "outputs": [
    {
     "data": {
      "text/html": [
       "<div>\n",
       "<style scoped>\n",
       "    .dataframe tbody tr th:only-of-type {\n",
       "        vertical-align: middle;\n",
       "    }\n",
       "\n",
       "    .dataframe tbody tr th {\n",
       "        vertical-align: top;\n",
       "    }\n",
       "\n",
       "    .dataframe thead th {\n",
       "        text-align: right;\n",
       "    }\n",
       "</style>\n",
       "<table border=\"1\" class=\"dataframe\">\n",
       "  <thead>\n",
       "    <tr style=\"text-align: right;\">\n",
       "      <th></th>\n",
       "      <th>id</th>\n",
       "      <th>CodeID:ID</th>\n",
       "      <th>SAB</th>\n",
       "      <th>CODE</th>\n",
       "      <th>value:float</th>\n",
       "      <th>lowerbound:float</th>\n",
       "      <th>upperbound:float</th>\n",
       "      <th>unit</th>\n",
       "    </tr>\n",
       "  </thead>\n",
       "  <tbody>\n",
       "    <tr>\n",
       "      <th>0</th>\n",
       "      <td>C0000294</td>\n",
       "      <td>ATC V03AF01</td>\n",
       "      <td>ATC</td>\n",
       "      <td>V03AF01</td>\n",
       "      <td>NaN</td>\n",
       "      <td>NaN</td>\n",
       "      <td>NaN</td>\n",
       "      <td>NaN</td>\n",
       "    </tr>\n",
       "    <tr>\n",
       "      <th>1</th>\n",
       "      <td>C0000481</td>\n",
       "      <td>CHV 0000000513</td>\n",
       "      <td>CHV</td>\n",
       "      <td>0000000513</td>\n",
       "      <td>NaN</td>\n",
       "      <td>NaN</td>\n",
       "      <td>NaN</td>\n",
       "      <td>NaN</td>\n",
       "    </tr>\n",
       "    <tr>\n",
       "      <th>2</th>\n",
       "      <td>C0000661</td>\n",
       "      <td>MSH D015124</td>\n",
       "      <td>MSH</td>\n",
       "      <td>D015124</td>\n",
       "      <td>NaN</td>\n",
       "      <td>NaN</td>\n",
       "      <td>NaN</td>\n",
       "      <td>NaN</td>\n",
       "    </tr>\n",
       "    <tr>\n",
       "      <th>3</th>\n",
       "      <td>C0000665</td>\n",
       "      <td>VANDF 4020847</td>\n",
       "      <td>VANDF</td>\n",
       "      <td>4020847</td>\n",
       "      <td>NaN</td>\n",
       "      <td>NaN</td>\n",
       "      <td>NaN</td>\n",
       "      <td>NaN</td>\n",
       "    </tr>\n",
       "    <tr>\n",
       "      <th>4</th>\n",
       "      <td>C0000737</td>\n",
       "      <td>LNC LA15468-4</td>\n",
       "      <td>LNC</td>\n",
       "      <td>LA15468-4</td>\n",
       "      <td>NaN</td>\n",
       "      <td>NaN</td>\n",
       "      <td>NaN</td>\n",
       "      <td>NaN</td>\n",
       "    </tr>\n",
       "  </tbody>\n",
       "</table>\n",
       "</div>"
      ],
      "text/plain": [
       "         id       CodeID:ID    SAB        CODE  value:float  lowerbound:float  \\\n",
       "0  C0000294     ATC V03AF01    ATC     V03AF01          NaN               NaN   \n",
       "1  C0000481  CHV 0000000513    CHV  0000000513          NaN               NaN   \n",
       "2  C0000661     MSH D015124    MSH     D015124          NaN               NaN   \n",
       "3  C0000665   VANDF 4020847  VANDF     4020847          NaN               NaN   \n",
       "4  C0000737   LNC LA15468-4    LNC   LA15468-4          NaN               NaN   \n",
       "\n",
       "   upperbound:float  unit  \n",
       "0               NaN   NaN  \n",
       "1               NaN   NaN  \n",
       "2               NaN   NaN  \n",
       "3               NaN   NaN  \n",
       "4               NaN   NaN  "
      ]
     },
     "execution_count": 40,
     "metadata": {},
     "output_type": "execute_result"
    }
   ],
   "source": [
    "concept_code = pd.merge(concept_code, codes, on=\"CodeID:ID\", how='left')\n",
    "concept_code.head()"
   ]
  },
  {
   "cell_type": "code",
   "execution_count": 41,
   "metadata": {},
   "outputs": [
    {
     "data": {
      "text/html": [
       "<div>\n",
       "<style scoped>\n",
       "    .dataframe tbody tr th:only-of-type {\n",
       "        vertical-align: middle;\n",
       "    }\n",
       "\n",
       "    .dataframe tbody tr th {\n",
       "        vertical-align: top;\n",
       "    }\n",
       "\n",
       "    .dataframe thead th {\n",
       "        text-align: right;\n",
       "    }\n",
       "</style>\n",
       "<table border=\"1\" class=\"dataframe\">\n",
       "  <thead>\n",
       "    <tr style=\"text-align: right;\">\n",
       "      <th></th>\n",
       "      <th>id</th>\n",
       "      <th>CodeID:ID</th>\n",
       "      <th>SAB</th>\n",
       "      <th>CODE</th>\n",
       "      <th>value:float</th>\n",
       "      <th>lowerbound:float</th>\n",
       "      <th>upperbound:float</th>\n",
       "      <th>unit</th>\n",
       "    </tr>\n",
       "  </thead>\n",
       "  <tbody>\n",
       "    <tr>\n",
       "      <th>623690</th>\n",
       "      <td>C0000097</td>\n",
       "      <td>LCH_NW sh86002892</td>\n",
       "      <td>LCH_NW</td>\n",
       "      <td>sh86002892</td>\n",
       "      <td>NaN</td>\n",
       "      <td>NaN</td>\n",
       "      <td>NaN</td>\n",
       "      <td>NaN</td>\n",
       "    </tr>\n",
       "    <tr>\n",
       "      <th>1108107</th>\n",
       "      <td>C0000097</td>\n",
       "      <td>CSP 2511-0411</td>\n",
       "      <td>CSP</td>\n",
       "      <td>2511-0411</td>\n",
       "      <td>NaN</td>\n",
       "      <td>NaN</td>\n",
       "      <td>NaN</td>\n",
       "      <td>NaN</td>\n",
       "    </tr>\n",
       "    <tr>\n",
       "      <th>1246274</th>\n",
       "      <td>C0000097</td>\n",
       "      <td>PSY 31213</td>\n",
       "      <td>PSY</td>\n",
       "      <td>31213</td>\n",
       "      <td>NaN</td>\n",
       "      <td>NaN</td>\n",
       "      <td>NaN</td>\n",
       "      <td>NaN</td>\n",
       "    </tr>\n",
       "    <tr>\n",
       "      <th>2179442</th>\n",
       "      <td>C0000097</td>\n",
       "      <td>MSH D015632</td>\n",
       "      <td>MSH</td>\n",
       "      <td>D015632</td>\n",
       "      <td>NaN</td>\n",
       "      <td>NaN</td>\n",
       "      <td>NaN</td>\n",
       "      <td>NaN</td>\n",
       "    </tr>\n",
       "    <tr>\n",
       "      <th>3529094</th>\n",
       "      <td>C0000097</td>\n",
       "      <td>CHV 0000000501</td>\n",
       "      <td>CHV</td>\n",
       "      <td>0000000501</td>\n",
       "      <td>NaN</td>\n",
       "      <td>NaN</td>\n",
       "      <td>NaN</td>\n",
       "      <td>NaN</td>\n",
       "    </tr>\n",
       "    <tr>\n",
       "      <th>3736237</th>\n",
       "      <td>C0000097</td>\n",
       "      <td>PSY 32433</td>\n",
       "      <td>PSY</td>\n",
       "      <td>32433</td>\n",
       "      <td>NaN</td>\n",
       "      <td>NaN</td>\n",
       "      <td>NaN</td>\n",
       "      <td>NaN</td>\n",
       "    </tr>\n",
       "    <tr>\n",
       "      <th>4116966</th>\n",
       "      <td>C0000097</td>\n",
       "      <td>SNOMEDCT_US 285407008</td>\n",
       "      <td>SNOMEDCT_US</td>\n",
       "      <td>285407008</td>\n",
       "      <td>NaN</td>\n",
       "      <td>NaN</td>\n",
       "      <td>NaN</td>\n",
       "      <td>NaN</td>\n",
       "    </tr>\n",
       "  </tbody>\n",
       "</table>\n",
       "</div>"
      ],
      "text/plain": [
       "               id              CodeID:ID          SAB        CODE  \\\n",
       "623690   C0000097      LCH_NW sh86002892       LCH_NW  sh86002892   \n",
       "1108107  C0000097          CSP 2511-0411          CSP   2511-0411   \n",
       "1246274  C0000097              PSY 31213          PSY       31213   \n",
       "2179442  C0000097            MSH D015632          MSH     D015632   \n",
       "3529094  C0000097         CHV 0000000501          CHV  0000000501   \n",
       "3736237  C0000097              PSY 32433          PSY       32433   \n",
       "4116966  C0000097  SNOMEDCT_US 285407008  SNOMEDCT_US   285407008   \n",
       "\n",
       "         value:float  lowerbound:float  upperbound:float  unit  \n",
       "623690           NaN               NaN               NaN   NaN  \n",
       "1108107          NaN               NaN               NaN   NaN  \n",
       "1246274          NaN               NaN               NaN   NaN  \n",
       "2179442          NaN               NaN               NaN   NaN  \n",
       "3529094          NaN               NaN               NaN   NaN  \n",
       "3736237          NaN               NaN               NaN   NaN  \n",
       "4116966          NaN               NaN               NaN   NaN  "
      ]
     },
     "execution_count": 41,
     "metadata": {},
     "output_type": "execute_result"
    }
   ],
   "source": [
    "concept_code[concept_code.id == 'C0000097']"
   ]
  },
  {
   "cell_type": "code",
   "execution_count": 42,
   "metadata": {},
   "outputs": [
    {
     "data": {
      "text/html": [
       "<div>\n",
       "<style scoped>\n",
       "    .dataframe tbody tr th:only-of-type {\n",
       "        vertical-align: middle;\n",
       "    }\n",
       "\n",
       "    .dataframe tbody tr th {\n",
       "        vertical-align: top;\n",
       "    }\n",
       "\n",
       "    .dataframe thead th {\n",
       "        text-align: right;\n",
       "    }\n",
       "</style>\n",
       "<table border=\"1\" class=\"dataframe\">\n",
       "  <thead>\n",
       "    <tr style=\"text-align: right;\">\n",
       "      <th></th>\n",
       "      <th>label</th>\n",
       "      <th>type</th>\n",
       "      <th>type_combined</th>\n",
       "    </tr>\n",
       "    <tr>\n",
       "      <th>id</th>\n",
       "      <th></th>\n",
       "      <th></th>\n",
       "      <th></th>\n",
       "    </tr>\n",
       "  </thead>\n",
       "  <tbody>\n",
       "    <tr>\n",
       "      <th>C0000097</th>\n",
       "      <td>1-Methyl-4-phenyl-1,2,3,6-tetrahydropyridine</td>\n",
       "      <td>Organic Chemical</td>\n",
       "      <td>Organic Chemical; Hazardous or Poisonous Subst...</td>\n",
       "    </tr>\n",
       "    <tr>\n",
       "      <th>C0000359</th>\n",
       "      <td>3',5'-Cyclic-Nucleotide Phosphodiesterase</td>\n",
       "      <td>Enzyme</td>\n",
       "      <td>Enzyme; Amino Acid, Peptide, or Protein</td>\n",
       "    </tr>\n",
       "    <tr>\n",
       "      <th>C0000610</th>\n",
       "      <td>6-Aminonicotinamide</td>\n",
       "      <td>Pharmacologic Substance</td>\n",
       "      <td>Pharmacologic Substance; Vitamin</td>\n",
       "    </tr>\n",
       "    <tr>\n",
       "      <th>C0000739</th>\n",
       "      <td>Abdominal Muscles</td>\n",
       "      <td>Body Part, Organ, or Organ Component</td>\n",
       "      <td>Body Part, Organ, or Organ Component</td>\n",
       "    </tr>\n",
       "    <tr>\n",
       "      <th>C0000873</th>\n",
       "      <td>Academic Problem</td>\n",
       "      <td>Finding</td>\n",
       "      <td>Finding</td>\n",
       "    </tr>\n",
       "  </tbody>\n",
       "</table>\n",
       "</div>"
      ],
      "text/plain": [
       "                                                 label  \\\n",
       "id                                                       \n",
       "C0000097  1-Methyl-4-phenyl-1,2,3,6-tetrahydropyridine   \n",
       "C0000359     3',5'-Cyclic-Nucleotide Phosphodiesterase   \n",
       "C0000610                           6-Aminonicotinamide   \n",
       "C0000739                             Abdominal Muscles   \n",
       "C0000873                              Academic Problem   \n",
       "\n",
       "                                          type  \\\n",
       "id                                               \n",
       "C0000097                      Organic Chemical   \n",
       "C0000359                                Enzyme   \n",
       "C0000610               Pharmacologic Substance   \n",
       "C0000739  Body Part, Organ, or Organ Component   \n",
       "C0000873                               Finding   \n",
       "\n",
       "                                              type_combined  \n",
       "id                                                           \n",
       "C0000097  Organic Chemical; Hazardous or Poisonous Subst...  \n",
       "C0000359            Enzyme; Amino Acid, Peptide, or Protein  \n",
       "C0000610                   Pharmacologic Substance; Vitamin  \n",
       "C0000739               Body Part, Organ, or Organ Component  \n",
       "C0000873                                            Finding  "
      ]
     },
     "execution_count": 42,
     "metadata": {},
     "output_type": "execute_result"
    }
   ],
   "source": [
    "concepts.head()"
   ]
  },
  {
   "cell_type": "code",
   "execution_count": 42,
   "metadata": {},
   "outputs": [],
   "source": [
    "with open(\"unique_SABS_of_Concepr.txt\", \"w\") as o:\n",
    "    sabs = [str(i) for i in concept_code[concept_code.id.isin(concepts[concepts.type.isna()].index)].SAB.unique()]\n",
    "    o.write(\"\\n\".join(sabs))"
   ]
  },
  {
   "cell_type": "code",
   "execution_count": 43,
   "metadata": {},
   "outputs": [],
   "source": [
    "type_mapper = {}\n",
    "with open(\"unique_SABS_of_Concept.txt\") as o:\n",
    "    for line in o:\n",
    "        r = line.strip().split(\":\")\n",
    "        if len(r) == 2:\n",
    "            type_mapper[r[0]] = r[1]\n",
    "        else:\n",
    "            type_mapper[r[0]] = r[0]"
   ]
  },
  {
   "cell_type": "code",
   "execution_count": 44,
   "metadata": {},
   "outputs": [
    {
     "name": "stderr",
     "output_type": "stream",
     "text": [
      "11606580it [05:24, 35770.17it/s]\n"
     ]
    }
   ],
   "source": [
    "for i,row in tqdm(concept_code[concept_code.id.isin(concepts[concepts.type.isna()].index)].iterrows()):\n",
    "    sab = row[\"SAB\"]\n",
    "    ind = row[\"id\"]\n",
    "    if type(sab) == str:\n",
    "        tp = type_mapper[sab]\n",
    "        if tp:\n",
    "            concepts.at[ind, \"type\"] = tp\n",
    "            concepts.at[ind, \"type_combined\"] = tp\n"
   ]
  },
  {
   "cell_type": "code",
   "execution_count": 88,
   "metadata": {},
   "outputs": [
    {
     "name": "stderr",
     "output_type": "stream",
     "text": [
      "100%|██████████| 262/262 [13:45<00:00,  3.15s/it] \n"
     ]
    }
   ],
   "source": [
    "for type in tqdm(concepts.type.unique()):\n",
    "    con = concepts[concepts.type==type].copy()\n",
    "    cc = concept_code[concept_code.id.isin(con.index)]\n",
    "    for sab in cc.SAB.unique():\n",
    "        c = cc[cc.SAB == sab]\n",
    "        c = c.groupby('id').first()\n",
    "        common = list(set(con.index).intersection(c.index))\n",
    "        con.loc[common, sab] = c.loc[common, \"CodeID:ID\"]\n",
    "        if c.loc[common, \"value:float\"].isna().sum() != len(common):\n",
    "            con.loc[common, \"%s value\"%sab] = c.loc[common, \"value:float\"]\n",
    "        if c.loc[common, \"lowerbound:float\"].isna().sum() != len(common):\n",
    "            con.loc[common, \"%s lowerbound\"%sab] = c.loc[common, \"lowerbound:float\"]\n",
    "        if c.loc[common, \"upperbound:float\"].isna().sum() != len(common):\n",
    "            con.loc[common, \"%s upperbound\"%sab] = c.loc[common, \"upperbound:float\"]\n",
    "        if c.loc[common, \"unit\"].isna().sum() != len(common):\n",
    "            con.loc[common, \"%s unit\"%sab] = c.loc[common, \"unit\"]\n",
    "        if \"-\" in list(con[\"label\"]):\n",
    "            tmp = con[con.label == \"-\"]\n",
    "            ind = set(tmp.index).intersection(con.index)\n",
    "            ind2 = set(tmp.index).intersection(c.index)\n",
    "            if len(ind.intersection(ind2)) > 0:\n",
    "                l = list(ind.intersection(ind2))\n",
    "                con.loc[l, \"label\"] = c.loc[l, 'CodeID:ID']\n",
    "        con.to_csv(\"out/serialization/nodes/%s.nodes.csv\"%(type))\n"
   ]
  },
  {
   "cell_type": "code",
   "execution_count": 89,
   "metadata": {},
   "outputs": [],
   "source": [
    "import os"
   ]
  },
  {
   "cell_type": "code",
   "execution_count": 96,
   "metadata": {},
   "outputs": [
    {
     "name": "stderr",
     "output_type": "stream",
     "text": [
      "127920727it [2:37:49, 13508.20it/s]\n"
     ]
    }
   ],
   "source": [
    "row_headers = [\"source\", \"relation\", \"target\", \"source_label\", \"target_label\", \"SAB\", \"evidence\"]\n",
    "with open(\"neo4j/import/CUI-CUIs.csv\") as o:\n",
    "    csv_reader = csv.reader(o)\n",
    "    headers = None\n",
    "    for row in tqdm(csv_reader):\n",
    "        if not headers:\n",
    "            headers = row\n",
    "        else:\n",
    "            source = row[0]\n",
    "            target = row[1]\n",
    "            if source in concepts.index and target in concepts.index:\n",
    "                source_label = concepts.at[source, 'label']\n",
    "                source_type = concepts.at[source, 'type']\n",
    "                \n",
    "                target_label = concepts.at[target, 'label']\n",
    "                target_type = concepts.at[target, 'type']\n",
    "                relation = row[2]\n",
    "                sab = row[3]\n",
    "                evidence = ''\n",
    "                if len(row) > 4:\n",
    "                    evidence = row[4]\n",
    "                filename = 'out/serialization/edges/%s.%s.%s.edges.csv'%(source_type, relation, target_type)\n",
    "                write_header = False\n",
    "                operation = \"a\"\n",
    "                if not os.path.isfile(filename):\n",
    "                    write_header = True\n",
    "                    operation = \"w\"\n",
    "                # source_list = set()\n",
    "                # target_list = set()\n",
    "                with open(filename, operation) as w:\n",
    "                    csv_writer = csv.writer(w)\n",
    "                    if write_header:\n",
    "                        csv_writer.writerow(row_headers)\n",
    "                    csv_writer.writerow([source, relation, target, source_label, target_label, sab, evidence])\n",
    "                #     source_list.add(source)\n",
    "                #     target_list.add(target)\n",
    "\n",
    "                # # take note of nodes that are used for source and target\n",
    "                # source_ids = \"out/serialization/ids/%s.txt\"%source_type\n",
    "                # if not os.path.isfile(source_ids):\n",
    "                #     with open(source_ids, 'w') as o:\n",
    "                #         o.write(\"\\n\".join(source_list))\n",
    "                # else:\n",
    "                #     with open(source_ids) as o:\n",
    "                #         source_list = source_list.union(o.read().strip().split(\"\\n\"))\n",
    "                #     with open(source_ids, 'w') as o:\n",
    "                #         o.write(\"\\n\".join(source_list))\n",
    "                # target_ids = \"out/serialization/ids/%s.txt\"%target_type\n",
    "                # if not os.path.isfile(target_ids):\n",
    "                #     with open(target_ids, 'w') as o:\n",
    "                #         o.write(\"\\n\".join(target_list))\n",
    "                # else:\n",
    "                #     with open(target_ids) as o:\n",
    "                #         target_list = target_list.union(o.read().strip().split(\"\\n\"))\n",
    "                #     with open(target_ids, 'w') as o:\n",
    "                #         o.write(\"\\n\".join(target_list))"
   ]
  },
  {
   "cell_type": "code",
   "execution_count": null,
   "metadata": {},
   "outputs": [],
   "source": [
    "with open(\"relationship_SABs.txt\", \"w\") as o:\n",
    "    o.write(\"\\n\".join(sabs))"
   ]
  },
  {
   "cell_type": "code",
   "execution_count": 95,
   "metadata": {},
   "outputs": [
    {
     "name": "stderr",
     "output_type": "stream",
     "text": [
      "127920727it [02:08, 997041.95it/s] \n"
     ]
    }
   ],
   "source": [
    "relationships = set()\n",
    "with open(\"neo4j/import/CUI-CUIs.csv\") as o:\n",
    "    csv_reader = csv.reader(o)\n",
    "    headers = None\n",
    "    for row in tqdm(csv_reader):\n",
    "        if not headers:\n",
    "            headers = row\n",
    "        else:\n",
    "            source = row[0]\n",
    "            target = row[1]\n",
    "            relation = row[2]\n",
    "            sab = row[3]\n",
    "            relationships.add(relation)"
   ]
  },
  {
   "cell_type": "code",
   "execution_count": 97,
   "metadata": {},
   "outputs": [],
   "source": [
    "with open(\"relationships.txt\", \"w\") as o:\n",
    "    o.write(\"\\n\".join(relationships))"
   ]
  },
  {
   "cell_type": "code",
   "execution_count": 171,
   "metadata": {},
   "outputs": [],
   "source": [
    "# with open(\"edge_filenames\", \"w\") as o:\n",
    "#     o.write(\"\\n\".join(edge_filenames))"
   ]
  },
  {
   "cell_type": "code",
   "execution_count": 172,
   "metadata": {},
   "outputs": [],
   "source": [
    "# with open(\"node_filenames\", \"w\") as o:\n",
    "#     o.write(\"\\n\".join(node_filenames))"
   ]
  },
  {
   "cell_type": "code",
   "execution_count": 97,
   "metadata": {},
   "outputs": [],
   "source": [
    "with open(\"relationship_SABs_keep.txt\") as o:\n",
    "    sabs_to_keep = set(o.read().strip().split(\"\\n\"))"
   ]
  },
  {
   "cell_type": "code",
   "execution_count": 98,
   "metadata": {},
   "outputs": [],
   "source": [
    "import re\n",
    "import os\n",
    "edge_pattern = \"(?P<directory>.+)/(?P<source_type>.+)\\.(?P<relation>.+)\\.(?P<target_type>.+)\\.(?P<entity>.+)\\.csv\"\n"
   ]
  },
  {
   "cell_type": "code",
   "execution_count": 103,
   "metadata": {},
   "outputs": [],
   "source": [
    "node_base = \"out/serialization/nodes/%s.nodes.csv\"\n",
    "new_node_base = \"out/dd/nodes/%s.nodes.csv\"\n",
    "new_edge_base = \"out/dd/edges/%s.%s.%s.edges.csv\"\n",
    "ids_base = \"out/dd/ids/%s.txt\"\n",
    "node_ids = {}\n",
    "sab_relations = {}\n",
    "processed = set()"
   ]
  },
  {
   "cell_type": "code",
   "execution_count": 104,
   "metadata": {},
   "outputs": [],
   "source": [
    "def glygen(s):\n",
    "    return s.replace(\"GLYGEN.RESIDUE\", \"GLYGEN_RESIDUE\").replace(\"GLYCAN.MOTIF\", \"GLYCAN_MOTIF\").replace('GLYCOSYLTRANSFERASE.REACTION', 'GLYCOSYLTRANSFERASE_REACTION').replace(\"GLYGEN.SRC\", \"GLYGEN_SRC\").replace('GLYGEN.GLYCOSYLATION', 'GLYGEN_GLYCOSYLATION')\n",
    "\n",
    "def glygen_reverse(s):\n",
    "    return s.replace(\"GLYGEN_RESIDUE\", \"GLYGEN.RESIDUE\").replace(\"GLYCAN_MOTIF\", \"GLYCAN.MOTIF\").replace('GLYCOSYLTRANSFERASE_REACTION', 'GLYCOSYLTRANSFERASE.REACTION').replace(\"GLYGEN_SRC\", \"GLYGEN.SRC\").replace('GLYGEN_GLYCOSYLATION', 'GLYGEN.GLYCOSYLATION')\n"
   ]
  },
  {
   "cell_type": "code",
   "execution_count": 107,
   "metadata": {},
   "outputs": [
    {
     "name": "stderr",
     "output_type": "stream",
     "text": [
      "100%|██████████| 75964/75964 [04:37<00:00, 273.97it/s] \n"
     ]
    }
   ],
   "source": [
    "for filename in tqdm(glob(\"out/serialization/edges/*.csv\")):\n",
    "    if filename not in processed:\n",
    "        match = re.match(edge_pattern, glygen(filename)).groupdict()\n",
    "        entity = match[\"entity\"]\n",
    "        source_type = glygen_reverse(match[\"source_type\"])\n",
    "        relation = match[\"relation\"].replace(\"_\", \" \")\n",
    "        target_type = glygen_reverse(match[\"target_type\"])\n",
    "        if \"inverse\" not in relation:\n",
    "            edge_df = pd.read_csv(filename, low_memory=False)\n",
    "            # filter for SAB\n",
    "            sabs = sabs_to_keep.intersection(edge_df.SAB.unique())\n",
    "            for sab in sabs:\n",
    "                if sab not in sab_relations:\n",
    "                    sab_relations[sab] = set()\n",
    "                sab_relations[sab].add(relation)\n",
    "            if len(sabs) > 0:\n",
    "                edge_df = edge_df[edge_df.SAB.isin(sabs)]\n",
    "                if not os.path.isfile(ids_base%source_type):\n",
    "                    with open(ids_base%source_type, 'w') as o:\n",
    "                        o.write(\"\\n\".join(edge_df.source))\n",
    "                else:\n",
    "                    with open(ids_base%source_type) as o:\n",
    "                        ids = set(o.read().strip().split(\"\\n\"))\n",
    "                    with open(ids_base%source_type, 'w') as o:\n",
    "                        ids = ids.union(edge_df.source)\n",
    "                        o.write(\"\\n\".join(ids))\n",
    "                if not os.path.isfile(ids_base%target_type):\n",
    "                    with open(ids_base%target_type, 'w') as o:\n",
    "                        o.write(\"\\n\".join(edge_df.target))\n",
    "                else:\n",
    "                    with open(ids_base%target_type) as o:\n",
    "                        ids = set(o.read().strip().split(\"\\n\"))\n",
    "                    with open(ids_base%target_type, 'w') as o:\n",
    "                        ids = ids.union(edge_df.target)\n",
    "                        o.write(\"\\n\".join(ids))\n",
    "                # source_df = pd.read_csv(node_base%source_type, index_col=0, low_memory=False)\n",
    "                # if os.path.isfile(new_node_base%(source_type)):\n",
    "                #     new_source_df = pd.read_csv(new_node_base%(source_type), index_col=0, low_memory=False)\n",
    "                #     pd.concat([new_source_df, source_df]).dropna(axis=1).to_csv(new_node_base%(source_type))\n",
    "                # else:\n",
    "                #     source_df.dropna(axis=1).to_csv(new_node_base%(source_type))\n",
    "                \n",
    "                # target_df = pd.read_csv(node_base%target_type, index_col=0, low_memory=False)\n",
    "                # if os.path.isfile(new_node_base%(target_type)):\n",
    "                #     new_target_df = pd.read_csv(new_node_base%(target_type), index_col=0, low_memory=False)\n",
    "                #     pd.concat([new_target_df, target_df]).dropna(axis=1).to_csv(new_node_base%(target_type))\n",
    "                # else:\n",
    "                #     target_df.dropna(axis=1).to_csv(new_node_base%(target_type))\n",
    "                edge_df.to_csv(new_edge_base%(source_type, relation, target_type), index=False)\n",
    "        processed.add(filename.replace(\"GLYGEN_RESIDUE\", \"GLYGEN.RESIDUE\"))\n",
    "                "
   ]
  },
  {
   "cell_type": "code",
   "execution_count": 109,
   "metadata": {},
   "outputs": [
    {
     "name": "stderr",
     "output_type": "stream",
     "text": [
      "100%|██████████| 87/87 [00:00<00:00, 1158426.82it/s]\n"
     ]
    },
    {
     "data": {
      "text/plain": [
       "87"
      ]
     },
     "execution_count": 109,
     "metadata": {},
     "output_type": "execute_result"
    }
   ],
   "source": [
    "count = 0\n",
    "for filename in tqdm(glob(\"out/dd/ids/*.txt\")):\n",
    "    count+=1\n",
    "count"
   ]
  },
  {
   "cell_type": "code",
   "execution_count": 114,
   "metadata": {},
   "outputs": [
    {
     "name": "stderr",
     "output_type": "stream",
     "text": [
      "100%|██████████| 86/86 [00:56<00:00,  1.51it/s]\n"
     ]
    }
   ],
   "source": [
    "id_pattern = \"(?P<directory>.+)/(?P<type>.+)\\.txt\"\n",
    "for filename in tqdm(glob(\"out/dd/ids/*.txt\")):\n",
    "    match = re.match(id_pattern, filename).groupdict()\n",
    "    node_type = match[\"type\"]\n",
    "    node_df = pd.read_csv(node_base%node_type, index_col=0, low_memory=False)\n",
    "    with open(filename) as o:\n",
    "        ids = list(set(o.read().strip().split(\"\\n\")))\n",
    "    node_df.loc[ids].dropna(axis=1, how=\"all\").to_csv(new_node_base%node_type)\n",
    "\n"
   ]
  },
  {
   "cell_type": "code",
   "execution_count": 3,
   "metadata": {},
   "outputs": [],
   "source": [
    "node_base = \"out/serialization/nodes/%s.nodes.csv\"\n",
    "new_node_base = \"out/filtered/nodes/%s.nodes.csv\"\n",
    "new_edge_base = \"out/filtered/edges/%s.%s.%s.edges.csv\"\n",
    "sab_relations = {}\n",
    "processed = set()"
   ]
  },
  {
   "cell_type": "code",
   "execution_count": 12,
   "metadata": {},
   "outputs": [],
   "source": [
    "def glygen(s):\n",
    "    return s.replace(\"GLYGEN.RESIDUE\", \"GLYGEN_RESIDUE\").replace(\"GLYCAN.MOTIF\", \"GLYCAN_MOTIF\").replace('GLYCOSYLTRANSFERASE.REACTION', 'GLYCOSYLTRANSFERASE_REACTION').replace(\"GLYGEN.SRC\", \"GLYGEN_SRC\").replace('GLYGEN.GLYCOSYLATION', 'GLYGEN_GLYCOSYLATION').replace(\"GLYGEN.GLYCOSEQUENCE\", \"GLYGEN_GLYCOSEQUENCE\")\n",
    "\n",
    "def glygen_reverse(s):\n",
    "    return s.replace(\"GLYGEN_RESIDUE\", \"GLYGEN.RESIDUE\").replace(\"GLYCAN_MOTIF\", \"GLYCAN.MOTIF\").replace('GLYCOSYLTRANSFERASE_REACTION', 'GLYCOSYLTRANSFERASE.REACTION').replace(\"GLYGEN_SRC\", \"GLYGEN.SRC\").replace('GLYGEN_GLYCOSYLATION', 'GLYGEN.GLYCOSYLATION').replace(\"GLYGEN_GLYCOSEQUENCE\", \"GLYGEN.GLYCOSEQUENCE\")\n"
   ]
  },
  {
   "cell_type": "code",
   "execution_count": 13,
   "metadata": {},
   "outputs": [
    {
     "name": "stderr",
     "output_type": "stream",
     "text": [
      "100%|██████████| 75964/75964 [01:14<00:00, 1018.49it/s] \n"
     ]
    }
   ],
   "source": [
    "for filename in tqdm(glob(\"out/serialization/edges/*.csv\")):\n",
    "    if filename not in processed:\n",
    "        match = re.match(edge_pattern, glygen(filename)).groupdict()\n",
    "        entity = match[\"entity\"]\n",
    "        source_type = match[\"source_type\"]\n",
    "        relation = match[\"relation\"].replace(\"_\", \" \")\n",
    "        target_type = match[\"target_type\"]\n",
    "        if \"inverse\" not in relation:\n",
    "            edge_df = pd.read_csv(filename, low_memory=False)\n",
    "            # filter for SAB\n",
    "            sabs = sabs_to_keep.intersection(edge_df.SAB.unique())\n",
    "            for sab in sabs:\n",
    "                if sab not in sab_relations:\n",
    "                    sab_relations[sab] = set()\n",
    "                sab_relations[sab].add(relation)\n",
    "            if len(sabs) > 0:\n",
    "                edge_df = edge_df[edge_df.SAB.isin(sabs)]\n",
    "                source_df = pd.read_csv(node_base%glygen_reverse(source_type), index_col=0, low_memory=False)\n",
    "                if not os.path.isfile(new_node_base%(source_type)):\n",
    "                    # new_source_df = pd.read_csv(new_node_base%(source_type), index_col=0, low_memory=False)\n",
    "                    # pd.concat([new_source_df, source_df]).dropna(axis=1).to_csv(new_node_base%(source_type))\n",
    "                    source_df.to_csv(new_node_base%(source_type))\n",
    "                # else:\n",
    "                #     source_df.dropna(axis=1).to_csv(new_node_base%(source_type))\n",
    "                \n",
    "                target_df = pd.read_csv(node_base%glygen_reverse(target_type), index_col=0, low_memory=False)\n",
    "                if not os.path.isfile(new_node_base%(target_type)):\n",
    "                    # new_target_df = pd.read_csv(new_node_base%(target_type), index_col=0, low_memory=False)\n",
    "                    # pd.concat([new_target_df, target_df]).dropna(axis=1).to_csv(new_node_base%(target_type))\n",
    "                    target_df.to_csv(new_node_base%(target_type))\n",
    "                # else:\n",
    "                #     target_df.dropna(axis=1).to_csv(new_node_base%(target_type))\n",
    "                edge_df.to_csv(new_edge_base%(source_type, relation, target_type), index=False)\n",
    "        processed.add(filename)\n",
    "                "
   ]
  },
  {
   "cell_type": "code",
   "execution_count": 11,
   "metadata": {},
   "outputs": [
    {
     "data": {
      "text/plain": [
       "'out/serialization/edges/GLYTOUCAN.has_glycosequence.GLYGEN.GLYCOSEQUENCE.edges.csv'"
      ]
     },
     "execution_count": 11,
     "metadata": {},
     "output_type": "execute_result"
    }
   ],
   "source": [
    "match = re.match(edge_pattern, glygen(filename)).groupdict()\n",
    "entity = match[\"entity\"]\n",
    "source_type = glygen_reverse(match[\"source_type\"]).replace(\"_\", \" \")\n",
    "relation = match[\"relation\"].replace(\"_\", \" \")\n",
    "target_type = glygen_reverse(match[\"target_type\"]).replace(\"_\", \" \")\n",
    "filename"
   ]
  },
  {
   "cell_type": "code",
   "execution_count": 14,
   "metadata": {},
   "outputs": [],
   "source": [
    "a = \"WURCS=2.0/4,37,36/[AUd21122h_5*NCC/3=O][uxxxxm][uxxxxh_2*NCC/3=O][uxxxxh]/1-1-2-2-2-2-2-2-3-3-3-3-3-3-3-3-3-3-3-3-3-3-4-4-4-4-4-4-4-4-4-4-4-4-4-4-4/a?|b?|c?|d?|e?|f?|g?|h?|i?|j?|k?|l?|m?|n?|o?|p?|q?|r?|s?|t?|u?|v?|w?|x?|y?|z?|A?|B?|C?|D?|E?|F?|G?|H?|I?|J?|K?}-{a?|b?|c?|d?|e?|f?|g?|h?|i?|j?|k?|l?|m?|n?|o?|p?|q?|r?|s?|t?|u?|v?|w?|x?|y?|z?|A?|B?|C?|D?|E?|F?|G?|H?|I?|J?|K?_a?|b?|c?|d?|e?|f?|g?|h?|i?|j?|k?|l?|m?|n?|o?|p?|q?|r?|s?|t?|u?|v?|w?|x?|y?|z?|A?|B?|C?|D?|E?|F?|G?|H?|I?|J?|K?}-{a?|b?|c?|d?|e?|f?|g?|h?|i?|j?|k?|l?|m?|n?|o?|p?|q?|r?|s?|t?|u?|v?|w?|x?|y?|z?|A?|B?|C?|D?|E?|F?|G?|H?|I?|J?|K?_a?|b?|c?|d?|e?|f?|g?|h?|i?|j?|k?|l?|m?|n?|o?|p?|q?|r?|s?|t?|u?|v?|w?|x?|y?|z?|A?|B?|C?|D?|E?|F?|G?|H?|I?|J?|K?}-{a?|b?|c?|d?|e?|f?|g?|h?|i?|j?|k?|l?|m?|n?|o?|p?|q?|r?|s?|t?|u?|v?|w?|x?|y?|z?|A?|B?|C?|D?|E?|F?|G?|H?|I?|J?|K?_a?|b?|c?|d?|e?|f?|g?|h?|i?|j?|k?|l?|m?|n?|o?|p?|q?|r?|s?|t?|u?|v?|w?|x?|y?|z?|A?|B?|C?|D?|E?|F?|G?|H?|I?|J?|K?}-{a?|b?|c?|d?|e?|f?|g?|h?|i?|j?|k?|l?|m?|n?|o?|p?|q?|r?|s?|t?|u?|v?|w?|x?|y?|z?|A?|B?|C?|D?|E?|F?|G?|H?|I?|J?|K?_a?|b?|c?|d?|e?|f?|g?|h?|i?|j?|k?|l?|m?|n?|o?|p?|q?|r?|s?|t?|u?|v?|w?|x?|y?|z?|A?|B?|C?|D?|E?|F?|G?|H?|I?|J?|K?}-{a?|b?|c?|d?|e?|f?|g?|h?|i?|j?|k?|l?|m?|n?|o?|p?|q?|r?|s?|t?|u?|v?|w?|x?|y?|z?|A?|B?|C?|D?|E?|F?|G?|H?|I?|J?|K?_a?|b?|c?|d?|e?|f?|g?|h?|i?|j?|k?|l?|m?|n?|o?|p?|q?|r?|s?|t?|u?|v?|w?|x?|y?|z?|A?|B?|C?|D?|E?|F?|G?|H?|I?|J?|K?}-{a?|b?|c?|d?|e?|f?|g?|h?|i?|j?|k?|l?|m?|n?|o?|p?|q?|r?|s?|t?|u?|v?|w?|x?|y?|z?|A?|B?|C?|D?|E?|F?|G?|H?|I?|J?|K?_a?|b?|c?|d?|e?|f?|g?|h?|i?|j?|k?|l?|m?|n?|o?|p?|q?|r?|s?|t?|u?|v?|w?|x?|y?|z?|A?|B?|C?|D?|E?|F?|G?|H?|I?|J?|K?}-{a?|b?|c?|d?|e?|f?|g?|h?|i?|j?|k?|l?|m?|n?|o?|p?|q?|r?|s?|t?|u?|v?|w?|x?|y?|z?|A?|B?|C?|D?|E?|F?|G?|H?|I?|J?|K?_a?|b?|c?|d?|e?|f?|g?|h?|i?|j?|k?|l?|m?|n?|o?|p?|q?|r?|s?|t?|u?|v?|w?|x?|y?|z?|A?|B?|C?|D?|E?|F?|G?|H?|I?|J?|K?}-{a?|b?|c?|d?|e?|f?|g?|h?|i?|j?|k?|l?|m?|n?|o?|p?|q?|r?|s?|t?|u?|v?|w?|x?|y?|z?|A?|B?|C?|D?|E?|F?|G?|H?|I?|J?|K?_a?|b?|c?|d?|e?|f?|g?|h?|i?|j?|k?|l?|m?|n?|o?|p?|q?|r?|s?|t?|u?|v?|w?|x?|y?|z?|A?|B?|C?|D?|E?|F?|G?|H?|I?|J?|K?}-{a?|b?|c?|d?|e?|f?|g?|h?|i?|j?|k?|l?|m?|n?|o?|p?|q?|r?|s?|t?|u?|v?|w?|x?|y?|z?|A?|B?|C?|D?|E?|F?|G?|H?|I?|J?|K?_a?|b?|c?|d?|e?|f?|g?|h?|i?|j?|k?|l?|m?|n?|o?|p?|q?|r?|s?|t?|u?|v?|w?|x?|y?|z?|A?|B?|C?|D?|E?|F?|G?|H?|I?|J?|K?}-{a?|b?|c?|d?|e?|f?|g?|h?|i?|j?|k?|l?|m?|n?|o?|p?|q?|r?|s?|t?|u?|v?|w?|x?|y?|z?|A?|B?|C?|D?|E?|F?|G?|H?|I?|J?|K?_a?|b?|c?|d?|e?|f?|g?|h?|i?|j?|k?|l?|m?|n?|o?|p?|q?|r?|s?|t?|u?|v?|w?|x?|y?|z?|A?|B?|C?|D?|E?|F?|G?|H?|I?|J?|K?}-{a?|b?|c?|d?|e?|f?|g?|h?|i?|j?|k?|l?|m?|n?|o?|p?|q?|r?|s?|t?|u?|v?|w?|x?|y?|z?|A?|B?|C?|D?|E?|F?|G?|H?|I?|J?|K?_a?|b?|c?|d?|e?|f?|g?|h?|i?|j?|k?|l?|m?|n?|o?|p?|q?|r?|s?|t?|u?|v?|w?|x?|y?|z?|A?|B?|C?|D?|E?|F?|G?|H?|I?|J?|K?}-{a?|b?|c?|d?|e?|f?|g?|h?|i?|j?|k?|l?|m?|n?|o?|p?|q?|r?|s?|t?|u?|v?|w?|x?|y?|z?|A?|B?|C?|D?|E?|F?|G?|H?|I?|J?|K?_a?|b?|c?|d?|e?|f?|g?|h?|i?|j?|k?|l?|m?|n?|o?|p?|q?|r?|s?|t?|u?|v?|w?|x?|y?|z?|A?|B?|C?|D?|E?|F?|G?|H?|I?|J?|K?}-{a?|b?|c?|d?|e?|f?|g?|h?|i?|j?|k?|l?|m?|n?|o?|p?|q?|r?|s?|t?|u?|v?|w?|x?|y?|z?|A?|B?|C?|D?|E?|F?|G?|H?|I?|J?|K?_a?|b?|c?|d?|e?|f?|g?|h?|i?|j?|k?|l?|m?|n?|o?|p?|q?|r?|s?|t?|u?|v?|w?|x?|y?|z?|A?|B?|C?|D?|E?|F?|G?|H?|I?|J?|K?}-{a?|b?|c?|d?|e?|f?|g?|h?|i?|j?|k?|l?|m?|n?|o?|p?|q?|r?|s?|t?|u?|v?|w?|x?|y?|z?|A?|B?|C?|D?|E?|F?|G?|H?|I?|J?|K?_a?|b?|c?|d?|e?|f?|g?|h?|i?|j?|k?|l?|m?|n?|o?|p?|q?|r?|s?|t?|u?|v?|w?|x?|y?|z?|A?|B?|C?|D?|E?|F?|G?|H?|I?|J?|K?}-{a?|b?|c?|d?|e?|f?|g?|h?|i?|j?|k?|l?|m?|n?|o?|p?|q?|r?|s?|t?|u?|v?|w?|x?|y?|z?|A?|B?|C?|D?|E?|F?|G?|H?|I?|J?|K?_a?|b?|c?|d?|e?|f?|g?|h?|i?|j?|k?|l?|m?|n?|o?|p?|q?|r?|s?|t?|u?|v?|w?|x?|y?|z?|A?|B?|C?|D?|E?|F?|G?|H?|I?|J?|K?}-{a?|b?|c?|d?|e?|f?|g?|h?|i?|j?|k?|l?|m?|n?|o?|p?|q?|r?|s?|t?|u?|v?|w?|x?|y?|z?|A?|B?|C?|D?|E?|F?|G?|H?|I?|J?|K?_a?|b?|c?|d?|e?|f?|g?|h?|i?|j?|k?|l?|m?|n?|o?|p?|q?|r?|s?|t?|u?|v?|w?|x?|y?|z?|A?|B?|C?|D?|E?|F?|G?|H?|I?|J?|K?}-{a?|b?|c?|d?|e?|f?|g?|h?|i?|j?|k?|l?|m?|n?|o?|p?|q?|r?|s?|t?|u?|v?|w?|x?|y?|z?|A?|B?|C?|D?|E?|F?|G?|H?|I?|J?|K?_a?|b?|c?|d?|e?|f?|g?|h?|i?|j?|k?|l?|m?|n?|o?|p?|q?|r?|s?|t?|u?|v?|w?|x?|y?|z?|A?|B?|C?|D?|E?|F?|G?|H?|I?|J?|K?}-{a?|b?|c?|d?|e?|f?|g?|h?|i?|j?|k?|l?|m?|n?|o?|p?|q?|r?|s?|t?|u?|v?|w?|x?|y?|z?|A?|B?|C?|D?|E?|F?|G?|H?|I?|J?|K?_a?|b?|c?|d?|e?|f?|g?|h?|i?|j?|k?|l?|m?|n?|o?|p?|q?|r?|s?|t?|u?|v?|w?|x?|y?|z?|A?|B?|C?|D?|E?|F?|G?|H?|I?|J?|K?}-{a?|b?|c?|d?|e?|f?|g?|h?|i?|j?|k?|l?|m?|n?|o?|p?|q?|r?|s?|t?|u?|v?|w?|x?|y?|z?|A?|B?|C?|D?|E?|F?|G?|H?|I?|J?|K?_a?|b?|c?|d?|e?|f?|g?|h?|i?|j?|k?|l?|m?|n?|o?|p?|q?|r?|s?|t?|u?|v?|w?|x?|y?|z?|A?|B?|C?|D?|E?|F?|G?|H?|I?|J?|K?}-{a?|b?|c?|d?|e?|f?|g?|h?|i?|j?|k?|l?|m?|n?|o?|p?|q?|r?|s?|t?|u?|v?|w?|x?|y?|z?|A?|B?|C?|D?|E?|F?|G?|H?|I?|J?|K?_a?|b?|c?|d?|e?|f?|g?|h?|i?|j?|k?|l?|m?|n?|o?|p?|q?|r?|s?|t?|u?|v?|w?|x?|y?|z?|A?|B?|C?|D?|E?|F?|G?|H?|I?|J?|K?}-{a?|b?|c?|d?|e?|f?|g?|h?|i?|j?|k?|l?|m?|n?|o?|p?|q?|r?|s?|t?|u?|v?|w?|x?|y?|z?|A?|B?|C?|D?|E?|F?|G?|H?|I?|J?|K?_a?|b?|c?|d?|e?|f?|g?|h?|i?|j?|k?|l?|m?|n?|o?|p?|q?|r?|s?|t?|u?|v?|w?|x?|y?|z?|A?|B?|C?|D?|E?|F?|G?|H?|I?|J?|K?}-{a?|b?|c?|d?|e?|f?|g?|h?|i?|j?|k?|l?|m?|n?|o?|p?|q?|r?|s?|t?|u?|v?|w?|x?|y?|z?|A?|B?|C?|D?|E?|F?|G?|H?|I?|J?|K?_a?|b?|c?|d?|e?|f?|g?|h?|i?|j?|k?|l?|m?|n?|o?|p?|q?|r?|s?|t?|u?|v?|w?|x?|y?|z?|A?|B?|C?|D?|E?|F?|G?|H?|I?|J?|K?}-{a?|b?|c?|d?|e?|f?|g?|h?|i?|j?|k?|l?|m?|n?|o?|p?|q?|r?|s?|t?|u?|v?|w?|x?|y?|z?|A?|B?|C?|D?|E?|F?|G?|H?|I?|J?|K?_a?|b?|c?|d?|e?|f?|g?|h?|i?|j?|k?|l?|m?|n?|o?|p?|q?|r?|s?|t?|u?|v?|w?|x?|y?|z?|A?|B?|C?|D?|E?|F?|G?|H?|I?|J?|K?}-{a?|b?|c?|d?|e?|f?|g?|h?|i?|j?|k?|l?|m?|n?|o?|p?|q?|r?|s?|t?|u?|v?|w?|x?|y?|z?|A?|B?|C?|D?|E?|F?|G?|H?|I?|J?|K?_a?|b?|c?|d?|e?|f?|g?|h?|i?|j?|k?|l?|m?|n?|o?|p?|q?|r?|s?|t?|u?|v?|w?|x?|y?|z?|A?|B?|C?|D?|E?|F?|G?|H?|I?|J?|K?}-{a?|b?|c?|d?|e?|f?|g?|h?|i?|j?|k?|l?|m?|n?|o?|p?|q?|r?|s?|t?|u?|v?|w?|x?|y?|z?|A?|B?|C?|D?|E?|F?|G?|H?|I?|J?|K?_a?|b?|c?|d?|e?|f?|g?|h?|i?|j?|k?|l?|m?|n?|o?|p?|q?|r?|s?|t?|u?|v?|w?|x?|y?|z?|A?|B?|C?|D?|E?|F?|G?|H?|I?|J?|K?}-{a?|b?|c?|d?|e?|f?|g?|h?|i?|j?|k?|l?|m?|n?|o?|p?|q?|r?|s?|t?|u?|v?|w?|x?|y?|z?|A?|B?|C?|D?|E?|F?|G?|H?|I?|J?|K?_a?|b?|c?|d?|e?|f?|g?|h?|i?|j?|k?|l?|m?|n?|o?|p?|q?|r?|s?|t?|u?|v?|w?|x?|y?|z?|A?|B?|C?|D?|E?|F?|G?|H?|I?|J?|K?}-{a?|b?|c?|d?|e?|f?|g?|h?|i?|j?|k?|l?|m?|n?|o?|p?|q?|r?|s?|t?|u?|v?|w?|x?|y?|z?|A?|B?|C?|D?|E?|F?|G?|H?|I?|J?|K?_a?|b?|c?|d?|e?|f?|g?|h?|i?|j?|k?|l?|m?|n?|o?|p?|q?|r?|s?|t?|u?|v?|w?|x?|y?|z?|A?|B?|C?|D?|E?|F?|G?|H?|I?|J?|K?}-{a?|b?|c?|d?|e?|f?|g?|h?|i?|j?|k?|l?|m?|n?|o?|p?|q?|r?|s?|t?|u?|v?|w?|x?|y?|z?|A?|B?|C?|D?|E?|F?|G?|H?|I?|J?|K?_a?|b?|c?|d?|e?|f?|g?|h?|i?|j?|k?|l?|m?|n?|o?|p?|q?|r?|s?|t?|u?|v?|w?|x?|y?|z?|A?|B?|C?|D?|E?|F?|G?|H?|I?|J?|K?}-{a?|b?|c?|d?|e?|f?|g?|h?|i?|j?|k?|l?|m?|n?|o?|p?|q?|r?|s?|t?|u?|v?|w?|x?|y?|z?|A?|B?|C?|D?|E?|F?|G?|H?|I?|J?|K?_a?|b?|c?|d?|e?|f?|g?|h?|i?|j?|k?|l?|m?|n?|o?|p?|q?|r?|s?|t?|u?|v?|w?|x?|y?|z?|A?|B?|C?|D?|E?|F?|G?|H?|I?|J?|K?}-{a?|b?|c?|d?|e?|f?|g?|h?|i?|j?|k?|l?|m?|n?|o?|p?|q?|r?|s?|t?|u?|v?|w?|x?|y?|z?|A?|B?|C?|D?|E?|F?|G?|H?|I?|J?|K?_a?|b?|c?|d?|e?|f?|g?|h?|i?|j?|k?|l?|m?|n?|o?|p?|q?|r?|s?|t?|u?|v?|w?|x?|y?|z?|A?|B?|C?|D?|E?|F?|G?|H?|I?|J?|K?}-{a?|b?|c?|d?|e?|f?|g?|h?|i?|j?|k?|l?|m?|n?|o?|p?|q?|r?|s?|t?|u?|v?|w?|x?|y?|z?|A?|B?|C?|D?|E?|F?|G?|H?|I?|J?|K?_a?|b?|c?|d?|e?|f?|g?|h?|i?|j?|k?|l?|m?|n?|o?|p?|q?|r?|s?|t?|u?|v?|w?|x?|y?|z?|A?|B?|C?|D?|E?|F?|G?|H?|I?|J?|K?}-{a?|b?|c?|d?|e?|f?|g?|h?|i?|j?|k?|l?|m?|n?|o?|p?|q?|r?|s?|t?|u?|v?|w?|x?|y?|z?|A?|B?|C?|D?|E?|F?|G?|H?|I?|J?|K?_a?|b?|c?|d?|e?|f?|g?|h?|i?|j?|k?|l?|m?|n?|o?|p?|q?|r?|s?|t?|u?|v?|w?|x?|y?|z?|A?|B?|C?|D?|E?|F?|G?|H?|I?|J?|K?}-{a?|b?|c?|d?|e?|f?|g?|h?|i?|j?|k?|l?|m?|n?|o?|p?|q?|r?|s?|t?|u?|v?|w?|x?|y?|z?|A?|B?|C?|D?|E?|F?|G?|H?|I?|J?|K?_a?|b?|c?|d?|e?|f?|g?|h?|i?|j?|k?|l?|m?|n?|o?|p?|q?|r?|s?|t?|u?|v?|w?|x?|y?|z?|A?|B?|C?|D?|E?|F?|G?|H?|I?|J?|K?}-{a?|b?|c?|d?|e?|f?|g?|h?|i?|j?|k?|l?|m?|n?|o?|p?|q?|r?|s?|t?|u?|v?|w?|x?|y?|z?|A?|B?|C?|D?|E?|F?|G?|H?|I?|J?|K?_a?|b?|c?|d?|e?|f?|g?|h?|i?|j?|k?|l?|m?|n?|o?|p?|q?|r?|s?|t?|u?|v?|w?|x?|y?|z?|A?|B?|C?|D?|E?|F?|G?|H?|I?|J?|K?}-{a?|b?|c?|d?|e?|f?|g?|h?|i?|j?|k?|l?|m?|n?|o?|p?|q?|r?|s?|t?|u?|v?|w?|x?|y?|z?|A?|B?|C?|D?|E?|F?|G?|H?|I?|J?|K?_a?|b?|c?|d?|e?|f?|g?|h?|i?|j?|k?|l?|m?|n?|o?|p?|q?|r?|s?|t?|u?|v?|w?|x?|y?|z?|A?|B?|C?|D?|E?|F?|G?|H?|I?|J?|K?}-{a?|b?|c?|d?|e?|f?|g?|h?|i?|j?|k?|l?|m?|n?|o?|p?|q?|r?|s?|t?|u?|v?|w?|x?|y?|z?|A?|B?|C?|D?|E?|F?|G?|H?|I?|J?|K?\""
   ]
  },
  {
   "cell_type": "code",
   "execution_count": 15,
   "metadata": {},
   "outputs": [
    {
     "data": {
      "text/plain": [
       "8211"
      ]
     },
     "execution_count": 15,
     "metadata": {},
     "output_type": "execute_result"
    }
   ],
   "source": [
    "len(a)"
   ]
  },
  {
   "cell_type": "code",
   "execution_count": 18,
   "metadata": {},
   "outputs": [],
   "source": [
    "source_df = pd.read_csv(node_base%glygen_reverse(\"Gene or Genome\"), index_col=0, low_memory=False)\n"
   ]
  },
  {
   "cell_type": "code",
   "execution_count": 19,
   "metadata": {},
   "outputs": [
    {
     "data": {
      "text/html": [
       "<div>\n",
       "<style scoped>\n",
       "    .dataframe tbody tr th:only-of-type {\n",
       "        vertical-align: middle;\n",
       "    }\n",
       "\n",
       "    .dataframe tbody tr th {\n",
       "        vertical-align: top;\n",
       "    }\n",
       "\n",
       "    .dataframe thead th {\n",
       "        text-align: right;\n",
       "    }\n",
       "</style>\n",
       "<table border=\"1\" class=\"dataframe\">\n",
       "  <thead>\n",
       "    <tr style=\"text-align: right;\">\n",
       "      <th></th>\n",
       "      <th>label</th>\n",
       "      <th>type</th>\n",
       "      <th>type_combined</th>\n",
       "      <th>NCI</th>\n",
       "      <th>LCH_NW</th>\n",
       "      <th>MSH</th>\n",
       "      <th>CSP</th>\n",
       "      <th>SNOMEDCT_US</th>\n",
       "      <th>HGNC</th>\n",
       "      <th>MTH</th>\n",
       "      <th>...</th>\n",
       "      <th>HPO</th>\n",
       "      <th>EFO</th>\n",
       "      <th>CHEBI</th>\n",
       "      <th>ENSEMBL</th>\n",
       "      <th>ENSEMBL lowerbound</th>\n",
       "      <th>ENSEMBL upperbound</th>\n",
       "      <th>ENTREZ</th>\n",
       "      <th>ENTREZ lowerbound</th>\n",
       "      <th>ENTREZ upperbound</th>\n",
       "      <th>PUBCHEM</th>\n",
       "    </tr>\n",
       "    <tr>\n",
       "      <th>id</th>\n",
       "      <th></th>\n",
       "      <th></th>\n",
       "      <th></th>\n",
       "      <th></th>\n",
       "      <th></th>\n",
       "      <th></th>\n",
       "      <th></th>\n",
       "      <th></th>\n",
       "      <th></th>\n",
       "      <th></th>\n",
       "      <th></th>\n",
       "      <th></th>\n",
       "      <th></th>\n",
       "      <th></th>\n",
       "      <th></th>\n",
       "      <th></th>\n",
       "      <th></th>\n",
       "      <th></th>\n",
       "      <th></th>\n",
       "      <th></th>\n",
       "      <th></th>\n",
       "    </tr>\n",
       "  </thead>\n",
       "  <tbody>\n",
       "    <tr>\n",
       "      <th>C0079559</th>\n",
       "      <td>HTLV-I tax Genes</td>\n",
       "      <td>Gene or Genome</td>\n",
       "      <td>Gene or Genome</td>\n",
       "      <td>NCI C17366</td>\n",
       "      <td>NaN</td>\n",
       "      <td>MSH D016355</td>\n",
       "      <td>NaN</td>\n",
       "      <td>NaN</td>\n",
       "      <td>NaN</td>\n",
       "      <td>NaN</td>\n",
       "      <td>...</td>\n",
       "      <td>NaN</td>\n",
       "      <td>NaN</td>\n",
       "      <td>NaN</td>\n",
       "      <td>NaN</td>\n",
       "      <td>NaN</td>\n",
       "      <td>NaN</td>\n",
       "      <td>NaN</td>\n",
       "      <td>NaN</td>\n",
       "      <td>NaN</td>\n",
       "      <td>NaN</td>\n",
       "    </tr>\n",
       "    <tr>\n",
       "      <th>C0314607</th>\n",
       "      <td>Human structural gene</td>\n",
       "      <td>Gene or Genome</td>\n",
       "      <td>Gene or Genome</td>\n",
       "      <td>NaN</td>\n",
       "      <td>NaN</td>\n",
       "      <td>NaN</td>\n",
       "      <td>NaN</td>\n",
       "      <td>SNOMEDCT_US 49046007</td>\n",
       "      <td>NaN</td>\n",
       "      <td>NaN</td>\n",
       "      <td>...</td>\n",
       "      <td>NaN</td>\n",
       "      <td>NaN</td>\n",
       "      <td>NaN</td>\n",
       "      <td>NaN</td>\n",
       "      <td>NaN</td>\n",
       "      <td>NaN</td>\n",
       "      <td>NaN</td>\n",
       "      <td>NaN</td>\n",
       "      <td>NaN</td>\n",
       "      <td>NaN</td>\n",
       "    </tr>\n",
       "    <tr>\n",
       "      <th>C0440471</th>\n",
       "      <td>Genetic Materials</td>\n",
       "      <td>Gene or Genome</td>\n",
       "      <td>Gene or Genome</td>\n",
       "      <td>NaN</td>\n",
       "      <td>NaN</td>\n",
       "      <td>MSH D005796</td>\n",
       "      <td>NaN</td>\n",
       "      <td>SNOMEDCT_US 256926007</td>\n",
       "      <td>NaN</td>\n",
       "      <td>NaN</td>\n",
       "      <td>...</td>\n",
       "      <td>NaN</td>\n",
       "      <td>NaN</td>\n",
       "      <td>NaN</td>\n",
       "      <td>NaN</td>\n",
       "      <td>NaN</td>\n",
       "      <td>NaN</td>\n",
       "      <td>NaN</td>\n",
       "      <td>NaN</td>\n",
       "      <td>NaN</td>\n",
       "      <td>NaN</td>\n",
       "    </tr>\n",
       "    <tr>\n",
       "      <th>C0440482</th>\n",
       "      <td>A*1102</td>\n",
       "      <td>Gene or Genome</td>\n",
       "      <td>Gene or Genome</td>\n",
       "      <td>NaN</td>\n",
       "      <td>NaN</td>\n",
       "      <td>NaN</td>\n",
       "      <td>NaN</td>\n",
       "      <td>SNOMEDCT_US 256943005</td>\n",
       "      <td>NaN</td>\n",
       "      <td>NaN</td>\n",
       "      <td>...</td>\n",
       "      <td>NaN</td>\n",
       "      <td>NaN</td>\n",
       "      <td>NaN</td>\n",
       "      <td>NaN</td>\n",
       "      <td>NaN</td>\n",
       "      <td>NaN</td>\n",
       "      <td>NaN</td>\n",
       "      <td>NaN</td>\n",
       "      <td>NaN</td>\n",
       "      <td>NaN</td>\n",
       "    </tr>\n",
       "    <tr>\n",
       "      <th>C0440498</th>\n",
       "      <td>A*6602</td>\n",
       "      <td>Gene or Genome</td>\n",
       "      <td>Gene or Genome</td>\n",
       "      <td>NaN</td>\n",
       "      <td>NaN</td>\n",
       "      <td>NaN</td>\n",
       "      <td>NaN</td>\n",
       "      <td>SNOMEDCT_US 256962008</td>\n",
       "      <td>NaN</td>\n",
       "      <td>NaN</td>\n",
       "      <td>...</td>\n",
       "      <td>NaN</td>\n",
       "      <td>NaN</td>\n",
       "      <td>NaN</td>\n",
       "      <td>NaN</td>\n",
       "      <td>NaN</td>\n",
       "      <td>NaN</td>\n",
       "      <td>NaN</td>\n",
       "      <td>NaN</td>\n",
       "      <td>NaN</td>\n",
       "      <td>NaN</td>\n",
       "    </tr>\n",
       "  </tbody>\n",
       "</table>\n",
       "<p>5 rows × 34 columns</p>\n",
       "</div>"
      ],
      "text/plain": [
       "                          label            type   type_combined         NCI  \\\n",
       "id                                                                            \n",
       "C0079559       HTLV-I tax Genes  Gene or Genome  Gene or Genome  NCI C17366   \n",
       "C0314607  Human structural gene  Gene or Genome  Gene or Genome         NaN   \n",
       "C0440471      Genetic Materials  Gene or Genome  Gene or Genome         NaN   \n",
       "C0440482                 A*1102  Gene or Genome  Gene or Genome         NaN   \n",
       "C0440498                 A*6602  Gene or Genome  Gene or Genome         NaN   \n",
       "\n",
       "         LCH_NW          MSH  CSP            SNOMEDCT_US HGNC  MTH  ...  HPO  \\\n",
       "id                                                                  ...        \n",
       "C0079559    NaN  MSH D016355  NaN                    NaN  NaN  NaN  ...  NaN   \n",
       "C0314607    NaN          NaN  NaN   SNOMEDCT_US 49046007  NaN  NaN  ...  NaN   \n",
       "C0440471    NaN  MSH D005796  NaN  SNOMEDCT_US 256926007  NaN  NaN  ...  NaN   \n",
       "C0440482    NaN          NaN  NaN  SNOMEDCT_US 256943005  NaN  NaN  ...  NaN   \n",
       "C0440498    NaN          NaN  NaN  SNOMEDCT_US 256962008  NaN  NaN  ...  NaN   \n",
       "\n",
       "          EFO CHEBI ENSEMBL ENSEMBL lowerbound ENSEMBL upperbound ENTREZ  \\\n",
       "id                                                                         \n",
       "C0079559  NaN   NaN     NaN                NaN                NaN    NaN   \n",
       "C0314607  NaN   NaN     NaN                NaN                NaN    NaN   \n",
       "C0440471  NaN   NaN     NaN                NaN                NaN    NaN   \n",
       "C0440482  NaN   NaN     NaN                NaN                NaN    NaN   \n",
       "C0440498  NaN   NaN     NaN                NaN                NaN    NaN   \n",
       "\n",
       "         ENTREZ lowerbound ENTREZ upperbound PUBCHEM  \n",
       "id                                                    \n",
       "C0079559               NaN               NaN     NaN  \n",
       "C0314607               NaN               NaN     NaN  \n",
       "C0440471               NaN               NaN     NaN  \n",
       "C0440482               NaN               NaN     NaN  \n",
       "C0440498               NaN               NaN     NaN  \n",
       "\n",
       "[5 rows x 34 columns]"
      ]
     },
     "execution_count": 19,
     "metadata": {},
     "output_type": "execute_result"
    }
   ],
   "source": [
    "source_df.head()"
   ]
  },
  {
   "cell_type": "code",
   "execution_count": 29,
   "metadata": {},
   "outputs": [
    {
     "name": "stdout",
     "output_type": "stream",
     "text": [
      "out/filtered/edges/Gene or Genome.coexpression Thyroid.Gene or Genome.edges.csv (31591, 7)\n",
      "out/filtered/edges/HGNC.coexpression Thyroid.Gene or Genome.edges.csv (2, 7)\n"
     ]
    }
   ],
   "source": [
    "for i in glob('out/filtered/edges/*Thyroid*'):\n",
    "    print(i, pd.read_csv(i).shape)"
   ]
  },
  {
   "cell_type": "code",
   "execution_count": 11,
   "metadata": {},
   "outputs": [],
   "source": [
    "rows = []\n",
    "with open(\"neo4j/import/CUI-CUIs.csv\") as o:\n",
    "    csv_reader = csv.reader(o)\n",
    "    headers = None\n",
    "    for row in csv_reader:\n",
    "        if not headers:\n",
    "            headers = row\n",
    "        else:\n",
    "            if row[3] == \"LINCS\":\n",
    "                rows.append(row + [\"\"])\n",
    "                if len(rows) == 5:\n",
    "                    break"
   ]
  },
  {
   "cell_type": "code",
   "execution_count": 13,
   "metadata": {},
   "outputs": [
    {
     "data": {
      "text/plain": [
       "[':START_ID', ':END_ID', ':TYPE', 'SAB', 'evidence_class:string', '']"
      ]
     },
     "execution_count": 13,
     "metadata": {},
     "output_type": "execute_result"
    }
   ],
   "source": [
    "headers + [\"\"]"
   ]
  },
  {
   "cell_type": "code",
   "execution_count": 15,
   "metadata": {},
   "outputs": [
    {
     "data": {
      "text/html": [
       "<div>\n",
       "<style scoped>\n",
       "    .dataframe tbody tr th:only-of-type {\n",
       "        vertical-align: middle;\n",
       "    }\n",
       "\n",
       "    .dataframe tbody tr th {\n",
       "        vertical-align: top;\n",
       "    }\n",
       "\n",
       "    .dataframe thead th {\n",
       "        text-align: right;\n",
       "    }\n",
       "</style>\n",
       "<table border=\"1\" class=\"dataframe\">\n",
       "  <thead>\n",
       "    <tr style=\"text-align: right;\">\n",
       "      <th></th>\n",
       "      <th>:START_ID</th>\n",
       "      <th>:END_ID</th>\n",
       "      <th>:TYPE</th>\n",
       "      <th>SAB</th>\n",
       "      <th>evidence_class:string</th>\n",
       "      <th></th>\n",
       "    </tr>\n",
       "  </thead>\n",
       "  <tbody>\n",
       "    <tr>\n",
       "      <th>0</th>\n",
       "      <td>C1412480</td>\n",
       "      <td>UFVCQ0hFTSA5ODMwMTkx</td>\n",
       "      <td>positively_regulated_by</td>\n",
       "      <td>LINCS</td>\n",
       "      <td>0.0037570596</td>\n",
       "      <td></td>\n",
       "    </tr>\n",
       "    <tr>\n",
       "      <th>1</th>\n",
       "      <td>C1412234</td>\n",
       "      <td>UFVCQ0hFTSAzMzQwMDc=</td>\n",
       "      <td>negatively_regulated_by</td>\n",
       "      <td>LINCS</td>\n",
       "      <td>-0.010075697</td>\n",
       "      <td></td>\n",
       "    </tr>\n",
       "    <tr>\n",
       "      <th>2</th>\n",
       "      <td>C1416933</td>\n",
       "      <td>UFVCQ0hFTSA2NDgxMjM2</td>\n",
       "      <td>negatively_regulated_by</td>\n",
       "      <td>LINCS</td>\n",
       "      <td>-0.0066971174</td>\n",
       "      <td></td>\n",
       "    </tr>\n",
       "    <tr>\n",
       "      <th>3</th>\n",
       "      <td>C1416717</td>\n",
       "      <td>UFVCQ0hFTSA3NzE5MTA=</td>\n",
       "      <td>negatively_regulated_by</td>\n",
       "      <td>LINCS</td>\n",
       "      <td>-0.02080909</td>\n",
       "      <td></td>\n",
       "    </tr>\n",
       "    <tr>\n",
       "      <th>4</th>\n",
       "      <td>C1423844</td>\n",
       "      <td>UFVCQ0hFTSAxMjI3MTg=</td>\n",
       "      <td>positively_regulated_by</td>\n",
       "      <td>LINCS</td>\n",
       "      <td>0.015338226</td>\n",
       "      <td></td>\n",
       "    </tr>\n",
       "  </tbody>\n",
       "</table>\n",
       "</div>"
      ],
      "text/plain": [
       "  :START_ID               :END_ID                    :TYPE    SAB  \\\n",
       "0  C1412480  UFVCQ0hFTSA5ODMwMTkx  positively_regulated_by  LINCS   \n",
       "1  C1412234  UFVCQ0hFTSAzMzQwMDc=  negatively_regulated_by  LINCS   \n",
       "2  C1416933  UFVCQ0hFTSA2NDgxMjM2  negatively_regulated_by  LINCS   \n",
       "3  C1416717  UFVCQ0hFTSA3NzE5MTA=  negatively_regulated_by  LINCS   \n",
       "4  C1423844  UFVCQ0hFTSAxMjI3MTg=  positively_regulated_by  LINCS   \n",
       "\n",
       "  evidence_class:string    \n",
       "0          0.0037570596    \n",
       "1          -0.010075697    \n",
       "2         -0.0066971174    \n",
       "3           -0.02080909    \n",
       "4           0.015338226    "
      ]
     },
     "execution_count": 15,
     "metadata": {},
     "output_type": "execute_result"
    }
   ],
   "source": [
    "pd.DataFrame(rows, columns=headers+ [\"\"])"
   ]
  },
  {
   "cell_type": "code",
   "execution_count": 7,
   "metadata": {},
   "outputs": [
    {
     "data": {
      "text/plain": [
       "[['C0027934', 'C0000097', 'RB', 'MTH'],\n",
       " ['C0039795', 'C0000232', 'AQ', 'MSH'],\n",
       " ['C1522005', 'C0000246', 'AQ', 'MSH'],\n",
       " ['C1168993', 'C0000294', 'has_ingredient', 'MMSL'],\n",
       " ['C4763809', 'C0000294', 'subset_includes_concept', 'NCI']]"
      ]
     },
     "execution_count": 7,
     "metadata": {},
     "output_type": "execute_result"
    }
   ],
   "source": [
    "rows"
   ]
  },
  {
   "cell_type": "code",
   "execution_count": 25,
   "metadata": {},
   "outputs": [
    {
     "name": "stderr",
     "output_type": "stream",
     "text": [
      "/var/folders/wq/7bkxhy8j7ql194c1fbby4gy40000gn/T/ipykernel_3750/2562025370.py:1: DtypeWarning: Columns (4,5) have mixed types. Specify dtype option on import or set low_memory=False.\n",
      "  pd.read_csv(\"out/filtered/nodes/Drug.nodes.csv\", index_col=0).tail()\n"
     ]
    },
    {
     "data": {
      "text/html": [
       "<div>\n",
       "<style scoped>\n",
       "    .dataframe tbody tr th:only-of-type {\n",
       "        vertical-align: middle;\n",
       "    }\n",
       "\n",
       "    .dataframe tbody tr th {\n",
       "        vertical-align: top;\n",
       "    }\n",
       "\n",
       "    .dataframe thead th {\n",
       "        text-align: right;\n",
       "    }\n",
       "</style>\n",
       "<table border=\"1\" class=\"dataframe\">\n",
       "  <thead>\n",
       "    <tr style=\"text-align: right;\">\n",
       "      <th></th>\n",
       "      <th>label</th>\n",
       "      <th>type</th>\n",
       "      <th>type_combined</th>\n",
       "      <th>CHEBI</th>\n",
       "      <th>PUBCHEM</th>\n",
       "    </tr>\n",
       "    <tr>\n",
       "      <th>id</th>\n",
       "      <th></th>\n",
       "      <th></th>\n",
       "      <th></th>\n",
       "      <th></th>\n",
       "      <th></th>\n",
       "    </tr>\n",
       "  </thead>\n",
       "  <tbody>\n",
       "    <tr>\n",
       "      <th>UFVCQ0hFTSA3MDIwMjE1</th>\n",
       "      <td>Val-Val-Val</td>\n",
       "      <td>Drug</td>\n",
       "      <td>Drug</td>\n",
       "      <td>NaN</td>\n",
       "      <td>PUBCHEM 7020215</td>\n",
       "    </tr>\n",
       "    <tr>\n",
       "      <th>UFVCQ0hFTSAxODY0OA==</th>\n",
       "      <td>xi-2-Ethylheptanoic acid</td>\n",
       "      <td>Drug</td>\n",
       "      <td>Drug</td>\n",
       "      <td>NaN</td>\n",
       "      <td>PUBCHEM 18648</td>\n",
       "    </tr>\n",
       "    <tr>\n",
       "      <th>UFVCQ0hFTSAxMDI2Nzc=</th>\n",
       "      <td>xi-2,3-Dihydro-3-methylfuran</td>\n",
       "      <td>Drug</td>\n",
       "      <td>Drug</td>\n",
       "      <td>NaN</td>\n",
       "      <td>PUBCHEM 102677</td>\n",
       "    </tr>\n",
       "    <tr>\n",
       "      <th>UFVCQ0hFTSAxMTUyMA==</th>\n",
       "      <td>xi-3-Heptanol</td>\n",
       "      <td>Drug</td>\n",
       "      <td>Drug</td>\n",
       "      <td>NaN</td>\n",
       "      <td>PUBCHEM 11520</td>\n",
       "    </tr>\n",
       "    <tr>\n",
       "      <th>Q0hFQkkgMzMyNDM=</th>\n",
       "      <td>natural product</td>\n",
       "      <td>Drug</td>\n",
       "      <td>Drug</td>\n",
       "      <td>CHEBI 33243</td>\n",
       "      <td>NaN</td>\n",
       "    </tr>\n",
       "  </tbody>\n",
       "</table>\n",
       "</div>"
      ],
      "text/plain": [
       "                                             label  type type_combined  \\\n",
       "id                                                                       \n",
       "UFVCQ0hFTSA3MDIwMjE1                   Val-Val-Val  Drug          Drug   \n",
       "UFVCQ0hFTSAxODY0OA==      xi-2-Ethylheptanoic acid  Drug          Drug   \n",
       "UFVCQ0hFTSAxMDI2Nzc=  xi-2,3-Dihydro-3-methylfuran  Drug          Drug   \n",
       "UFVCQ0hFTSAxMTUyMA==                 xi-3-Heptanol  Drug          Drug   \n",
       "Q0hFQkkgMzMyNDM=                   natural product  Drug          Drug   \n",
       "\n",
       "                            CHEBI          PUBCHEM  \n",
       "id                                                  \n",
       "UFVCQ0hFTSA3MDIwMjE1          NaN  PUBCHEM 7020215  \n",
       "UFVCQ0hFTSAxODY0OA==          NaN    PUBCHEM 18648  \n",
       "UFVCQ0hFTSAxMDI2Nzc=          NaN   PUBCHEM 102677  \n",
       "UFVCQ0hFTSAxMTUyMA==          NaN    PUBCHEM 11520  \n",
       "Q0hFQkkgMzMyNDM=      CHEBI 33243              NaN  "
      ]
     },
     "execution_count": 25,
     "metadata": {},
     "output_type": "execute_result"
    }
   ],
   "source": [
    "pd.read_csv(\"out/filtered/nodes/Drug.nodes.csv\", index_col=0).tail()"
   ]
  },
  {
   "cell_type": "code",
   "execution_count": 32,
   "metadata": {},
   "outputs": [],
   "source": [
    "import re\n",
    "node_pattern = \"(?P<directory>.+)/(?P<label>.+)\\.(?P<entity>.+)\\.csv\""
   ]
  },
  {
   "cell_type": "code",
   "execution_count": 38,
   "metadata": {},
   "outputs": [
    {
     "name": "stderr",
     "output_type": "stream",
     "text": [
      "/var/folders/wq/7bkxhy8j7ql194c1fbby4gy40000gn/T/ipykernel_3750/931648177.py:6: DtypeWarning: Columns (29,38,40,41,42,43,44,45,46,47,48,49,51) have mixed types. Specify dtype option on import or set low_memory=False.\n",
      "  df = pd.read_csv(filename)\n",
      "/var/folders/wq/7bkxhy8j7ql194c1fbby4gy40000gn/T/ipykernel_3750/931648177.py:6: DtypeWarning: Columns (45,47,49,50,51) have mixed types. Specify dtype option on import or set low_memory=False.\n",
      "  df = pd.read_csv(filename)\n",
      "/var/folders/wq/7bkxhy8j7ql194c1fbby4gy40000gn/T/ipykernel_3750/931648177.py:6: DtypeWarning: Columns (23,24,28,29,32) have mixed types. Specify dtype option on import or set low_memory=False.\n",
      "  df = pd.read_csv(filename)\n",
      "/var/folders/wq/7bkxhy8j7ql194c1fbby4gy40000gn/T/ipykernel_3750/931648177.py:6: DtypeWarning: Columns (15,16,17,19,20,21,22,23,25,26,27,34) have mixed types. Specify dtype option on import or set low_memory=False.\n",
      "  df = pd.read_csv(filename)\n",
      "/var/folders/wq/7bkxhy8j7ql194c1fbby4gy40000gn/T/ipykernel_3750/931648177.py:6: DtypeWarning: Columns (15,16,17,18,19,20,21,22,23,24,25,26,27,28,29) have mixed types. Specify dtype option on import or set low_memory=False.\n",
      "  df = pd.read_csv(filename)\n",
      "/var/folders/wq/7bkxhy8j7ql194c1fbby4gy40000gn/T/ipykernel_3750/931648177.py:6: DtypeWarning: Columns (5,6,9,11,12,13,14,15,16,17,18,19,20,21,22,23,24,25,26) have mixed types. Specify dtype option on import or set low_memory=False.\n",
      "  df = pd.read_csv(filename)\n",
      "/var/folders/wq/7bkxhy8j7ql194c1fbby4gy40000gn/T/ipykernel_3750/931648177.py:6: DtypeWarning: Columns (39,44,50,51,52,53,58) have mixed types. Specify dtype option on import or set low_memory=False.\n",
      "  df = pd.read_csv(filename)\n",
      "/var/folders/wq/7bkxhy8j7ql194c1fbby4gy40000gn/T/ipykernel_3750/931648177.py:6: DtypeWarning: Columns (23,24,25,26,27,28,30) have mixed types. Specify dtype option on import or set low_memory=False.\n",
      "  df = pd.read_csv(filename)\n",
      "/var/folders/wq/7bkxhy8j7ql194c1fbby4gy40000gn/T/ipykernel_3750/931648177.py:6: DtypeWarning: Columns (4,10,11,18,19,20,26,27,28,31,32,33,34,35,36,37,38,39,40,41,42,43,44,45,46,47,48,52,53) have mixed types. Specify dtype option on import or set low_memory=False.\n",
      "  df = pd.read_csv(filename)\n",
      "/var/folders/wq/7bkxhy8j7ql194c1fbby4gy40000gn/T/ipykernel_3750/931648177.py:6: DtypeWarning: Columns (25,30,33,34,35,36,37,38,39,40,41,42,43,45,46,48) have mixed types. Specify dtype option on import or set low_memory=False.\n",
      "  df = pd.read_csv(filename)\n",
      "/var/folders/wq/7bkxhy8j7ql194c1fbby4gy40000gn/T/ipykernel_3750/931648177.py:6: DtypeWarning: Columns (34,35,36,37) have mixed types. Specify dtype option on import or set low_memory=False.\n",
      "  df = pd.read_csv(filename)\n",
      "/var/folders/wq/7bkxhy8j7ql194c1fbby4gy40000gn/T/ipykernel_3750/931648177.py:6: DtypeWarning: Columns (17,23,24,26,27,29,30,31,32) have mixed types. Specify dtype option on import or set low_memory=False.\n",
      "  df = pd.read_csv(filename)\n",
      "/var/folders/wq/7bkxhy8j7ql194c1fbby4gy40000gn/T/ipykernel_3750/931648177.py:6: DtypeWarning: Columns (32,35,36,37,38,39,40,42,43,44) have mixed types. Specify dtype option on import or set low_memory=False.\n",
      "  df = pd.read_csv(filename)\n",
      "/var/folders/wq/7bkxhy8j7ql194c1fbby4gy40000gn/T/ipykernel_3750/931648177.py:6: DtypeWarning: Columns (18,19,24,30,36,37,41,42,43,44,45,46,47,48,49,50,51,52,53,54,55,56,57,58,59) have mixed types. Specify dtype option on import or set low_memory=False.\n",
      "  df = pd.read_csv(filename)\n",
      "/var/folders/wq/7bkxhy8j7ql194c1fbby4gy40000gn/T/ipykernel_3750/931648177.py:6: DtypeWarning: Columns (19,21,26,32,33,34,35,36,37,38,39,40,41,42,43,44,45,46,47,48,49,50,51,52,53,54,55,56,57,58,60,61,62,63) have mixed types. Specify dtype option on import or set low_memory=False.\n",
      "  df = pd.read_csv(filename)\n",
      "/var/folders/wq/7bkxhy8j7ql194c1fbby4gy40000gn/T/ipykernel_3750/931648177.py:6: DtypeWarning: Columns (30,32,33,34,35,38,39,40,41,42,43,44,45,47,48,50) have mixed types. Specify dtype option on import or set low_memory=False.\n",
      "  df = pd.read_csv(filename)\n",
      "/var/folders/wq/7bkxhy8j7ql194c1fbby4gy40000gn/T/ipykernel_3750/931648177.py:6: DtypeWarning: Columns (19,27,28,29,30,32,33,34,35,38,39,40,41,42,43,44,45,46,47,48) have mixed types. Specify dtype option on import or set low_memory=False.\n",
      "  df = pd.read_csv(filename)\n",
      "/var/folders/wq/7bkxhy8j7ql194c1fbby4gy40000gn/T/ipykernel_3750/931648177.py:6: DtypeWarning: Columns (4,5,6,7,8,10,12,13,14,15,19,22,24,25,26,28,31,33,34,35,36,37,38,39,40,41,42,43) have mixed types. Specify dtype option on import or set low_memory=False.\n",
      "  df = pd.read_csv(filename)\n",
      "/var/folders/wq/7bkxhy8j7ql194c1fbby4gy40000gn/T/ipykernel_3750/931648177.py:6: DtypeWarning: Columns (11,14,15,17,19,20,21,22,23,24,25,26,27,28,29,30,31,32,33,34,35,37) have mixed types. Specify dtype option on import or set low_memory=False.\n",
      "  df = pd.read_csv(filename)\n",
      "/var/folders/wq/7bkxhy8j7ql194c1fbby4gy40000gn/T/ipykernel_3750/931648177.py:6: DtypeWarning: Columns (4,5) have mixed types. Specify dtype option on import or set low_memory=False.\n",
      "  df = pd.read_csv(filename)\n",
      "/var/folders/wq/7bkxhy8j7ql194c1fbby4gy40000gn/T/ipykernel_3750/931648177.py:6: DtypeWarning: Columns (18,33,39,40,41,42,43,44,45,46,48,49) have mixed types. Specify dtype option on import or set low_memory=False.\n",
      "  df = pd.read_csv(filename)\n",
      "/var/folders/wq/7bkxhy8j7ql194c1fbby4gy40000gn/T/ipykernel_3750/931648177.py:6: DtypeWarning: Columns (7,10,16,19,24,25,29,31,33,34,35,38,39,40,41,42,43,45,46,47,48,49,50,51,52,53,54,55,56,57,58,59,60,61,62,63,64,65,68,69) have mixed types. Specify dtype option on import or set low_memory=False.\n",
      "  df = pd.read_csv(filename)\n"
     ]
    }
   ],
   "source": [
    "nodes_list = []\n",
    "for filename in glob('out/filtered/nodes/*.csv'):\n",
    "    match = re.match(node_pattern, filename).groupdict()\n",
    "    entity = match[\"entity\"]\n",
    "    label = match[\"label\"]\n",
    "    df = pd.read_csv(filename)\n",
    "    nodes_list.append({\n",
    "        \"node\": label,\n",
    "        \"count\": len(df.index)\n",
    "    })"
   ]
  },
  {
   "cell_type": "code",
   "execution_count": 39,
   "metadata": {},
   "outputs": [],
   "source": [
    "pd.DataFrame.from_records(nodes_list).to_csv(\"nodes_count.csv\", index=False)"
   ]
  },
  {
   "cell_type": "code",
   "execution_count": 42,
   "metadata": {},
   "outputs": [],
   "source": [
    "edge_count = {}\n",
    "edge_pattern = \"(?P<directory>.+)/(?P<source_type>.+)\\.(?P<relation>.+)\\.(?P<target_type>.+)\\.(?P<entity>.+)\\.csv\"\n",
    "\n",
    "for filename in glob('out/filtered/edges/*.csv'):\n",
    "    match = re.match(edge_pattern, filename).groupdict()\n",
    "    entity = match[\"entity\"]\n",
    "    relation = match[\"relation\"].replace(\"_\", \" \")\n",
    "    with open(filename) as o:\n",
    "        csv_reader = csv.reader(o, delimiter=\",\")\n",
    "        count = 0\n",
    "        for i in csv_reader:\n",
    "            count += 1\n",
    "    if relation not in edge_count:\n",
    "        edge_count[relation] = {\n",
    "            \"relation\": relation,\n",
    "            \"count\": 0\n",
    "        }\n",
    "    edge_count[relation][\"count\"] += count"
   ]
  },
  {
   "cell_type": "code",
   "execution_count": 44,
   "metadata": {},
   "outputs": [],
   "source": [
    "pd.DataFrame.from_records(list(edge_count.values())).to_csv(\"edges_count.csv\", index=False)"
   ]
  },
  {
   "cell_type": "code",
   "execution_count": 4,
   "metadata": {},
   "outputs": [],
   "source": [
    "with open('SABS_DCC') as o:\n",
    "    dccs = {}\n",
    "    for line in o:\n",
    "        dcc,sabs = line.strip().split(\":\")\n",
    "        for sab in sabs.split(\",\"):\n",
    "            dccs[sab] = dcc"
   ]
  },
  {
   "cell_type": "code",
   "execution_count": 5,
   "metadata": {},
   "outputs": [
    {
     "data": {
      "text/plain": [
       "{'GLYCORDF': 'Glygen',\n",
       " 'GLYCANS': 'Glygen',\n",
       " 'GLYCOCOO': 'Glygen',\n",
       " 'LINCS': 'LINCS',\n",
       " 'MW': 'MW',\n",
       " 'GTEXEXP': 'GTEX',\n",
       " 'GTEXEQTL': 'GTEX',\n",
       " 'GTEXCOEXP': 'GTEX',\n",
       " 'IDGP': 'IDG',\n",
       " 'IDGD': 'IDG',\n",
       " '4DN': '4DN'}"
      ]
     },
     "execution_count": 5,
     "metadata": {},
     "output_type": "execute_result"
    }
   ],
   "source": [
    "dccs"
   ]
  },
  {
   "cell_type": "code",
   "execution_count": 10,
   "metadata": {},
   "outputs": [
    {
     "name": "stderr",
     "output_type": "stream",
     "text": [
      "127920727it [02:30, 848771.43it/s]\n"
     ]
    }
   ],
   "source": [
    "dcc_counter = {}\n",
    "with open(\"neo4j/import/CUI-CUIs.csv\") as o:\n",
    "    csv_reader = csv.reader(o)\n",
    "    headers = None\n",
    "    for row in tqdm(csv_reader):\n",
    "        if not headers:\n",
    "            headers = row\n",
    "        else:\n",
    "            source = row[0]\n",
    "            target = row[1]\n",
    "            relation = row[2]\n",
    "            sab = row[3]\n",
    "            if sab in dccs:\n",
    "                dcc = dccs[sab]\n",
    "                if dcc not in dcc_counter:\n",
    "                    dcc_counter[dcc] = {\n",
    "                        \"nodes\": set(),\n",
    "                        \"edges\": 0\n",
    "                    }\n",
    "                dcc_counter[dcc][\"nodes\"].add(source)\n",
    "                dcc_counter[dcc][\"nodes\"].add(target)\n",
    "                dcc_counter[dcc][\"edges\"] += 1"
   ]
  },
  {
   "cell_type": "code",
   "execution_count": 11,
   "metadata": {},
   "outputs": [],
   "source": [
    "for k in dcc_counter:\n",
    "    dcc_counter[k][\"nodes\"] = len(dcc_counter[k][\"nodes\"])"
   ]
  },
  {
   "cell_type": "code",
   "execution_count": 12,
   "metadata": {},
   "outputs": [
    {
     "data": {
      "text/plain": [
       "{'4DN': {'nodes': 766621, 'edges': 5265898},\n",
       " 'Glygen': {'nodes': 182490, 'edges': 929548},\n",
       " 'GTEX': {'nodes': 2862268, 'edges': 65966674},\n",
       " 'IDG': {'nodes': 329119, 'edges': 873144},\n",
       " 'LINCS': {'nodes': 8942, 'edges': 492588},\n",
       " 'MW': {'nodes': 2465, 'edges': 33144}}"
      ]
     },
     "execution_count": 12,
     "metadata": {},
     "output_type": "execute_result"
    }
   ],
   "source": [
    "dcc_counter"
   ]
  },
  {
   "cell_type": "code",
   "execution_count": 15,
   "metadata": {},
   "outputs": [],
   "source": [
    "pd.DataFrame.from_records(dcc_counter).T.to_csv(\"dcc_counts.csv\")"
   ]
  },
  {
   "cell_type": "code",
   "execution_count": 16,
   "metadata": {},
   "outputs": [
    {
     "data": {
      "text/html": [
       "<div>\n",
       "<style scoped>\n",
       "    .dataframe tbody tr th:only-of-type {\n",
       "        vertical-align: middle;\n",
       "    }\n",
       "\n",
       "    .dataframe tbody tr th {\n",
       "        vertical-align: top;\n",
       "    }\n",
       "\n",
       "    .dataframe thead th {\n",
       "        text-align: right;\n",
       "    }\n",
       "</style>\n",
       "<table border=\"1\" class=\"dataframe\">\n",
       "  <thead>\n",
       "    <tr style=\"text-align: right;\">\n",
       "      <th></th>\n",
       "      <th>id</th>\n",
       "      <th>label</th>\n",
       "      <th>type</th>\n",
       "      <th>type_combined</th>\n",
       "      <th>GTEXEXP</th>\n",
       "    </tr>\n",
       "  </thead>\n",
       "  <tbody>\n",
       "    <tr>\n",
       "      <th>0</th>\n",
       "      <td>R1RFWEVYUCBFTlNHMDAwMDAyMjM5NzItNS1BZGlwb3NlLV...</td>\n",
       "      <td>-</td>\n",
       "      <td>GTEXEXP</td>\n",
       "      <td>GTEXEXP</td>\n",
       "      <td>GTEXEXP ENSG00000223972-5-Adipose-Subcutaneous</td>\n",
       "    </tr>\n",
       "    <tr>\n",
       "      <th>1</th>\n",
       "      <td>R1RFWEVYUCBFTlNHMDAwMDAyMjM5NzItNS1BZHJlbmFsLU...</td>\n",
       "      <td>-</td>\n",
       "      <td>GTEXEXP</td>\n",
       "      <td>GTEXEXP</td>\n",
       "      <td>GTEXEXP ENSG00000223972-5-Adrenal-Gland</td>\n",
       "    </tr>\n",
       "    <tr>\n",
       "      <th>2</th>\n",
       "      <td>R1RFWEVYUCBFTlNHMDAwMDAyMjM5NzItNS1BcnRlcnktQW...</td>\n",
       "      <td>-</td>\n",
       "      <td>GTEXEXP</td>\n",
       "      <td>GTEXEXP</td>\n",
       "      <td>GTEXEXP ENSG00000223972-5-Artery-Aorta</td>\n",
       "    </tr>\n",
       "    <tr>\n",
       "      <th>3</th>\n",
       "      <td>R1RFWEVYUCBFTlNHMDAwMDAyMjM5NzItNS1BcnRlcnktQ2...</td>\n",
       "      <td>-</td>\n",
       "      <td>GTEXEXP</td>\n",
       "      <td>GTEXEXP</td>\n",
       "      <td>GTEXEXP ENSG00000223972-5-Artery-Coronary</td>\n",
       "    </tr>\n",
       "    <tr>\n",
       "      <th>4</th>\n",
       "      <td>R1RFWEVYUCBFTlNHMDAwMDAyMjM5NzItNS1BcnRlcnktVG...</td>\n",
       "      <td>-</td>\n",
       "      <td>GTEXEXP</td>\n",
       "      <td>GTEXEXP</td>\n",
       "      <td>GTEXEXP ENSG00000223972-5-Artery-Tibial</td>\n",
       "    </tr>\n",
       "  </tbody>\n",
       "</table>\n",
       "</div>"
      ],
      "text/plain": [
       "                                                  id label     type  \\\n",
       "0  R1RFWEVYUCBFTlNHMDAwMDAyMjM5NzItNS1BZGlwb3NlLV...     -  GTEXEXP   \n",
       "1  R1RFWEVYUCBFTlNHMDAwMDAyMjM5NzItNS1BZHJlbmFsLU...     -  GTEXEXP   \n",
       "2  R1RFWEVYUCBFTlNHMDAwMDAyMjM5NzItNS1BcnRlcnktQW...     -  GTEXEXP   \n",
       "3  R1RFWEVYUCBFTlNHMDAwMDAyMjM5NzItNS1BcnRlcnktQ2...     -  GTEXEXP   \n",
       "4  R1RFWEVYUCBFTlNHMDAwMDAyMjM5NzItNS1BcnRlcnktVG...     -  GTEXEXP   \n",
       "\n",
       "  type_combined                                         GTEXEXP  \n",
       "0       GTEXEXP  GTEXEXP ENSG00000223972-5-Adipose-Subcutaneous  \n",
       "1       GTEXEXP         GTEXEXP ENSG00000223972-5-Adrenal-Gland  \n",
       "2       GTEXEXP          GTEXEXP ENSG00000223972-5-Artery-Aorta  \n",
       "3       GTEXEXP       GTEXEXP ENSG00000223972-5-Artery-Coronary  \n",
       "4       GTEXEXP         GTEXEXP ENSG00000223972-5-Artery-Tibial  "
      ]
     },
     "execution_count": 16,
     "metadata": {},
     "output_type": "execute_result"
    }
   ],
   "source": [
    "df = pd.read_csv('out/filtered/nodes/GTEXEXP.nodes.csv')\n",
    "df.head()"
   ]
  },
  {
   "cell_type": "code",
   "execution_count": 18,
   "metadata": {},
   "outputs": [
    {
     "data": {
      "text/plain": [
       "(1573920, 5)"
      ]
     },
     "execution_count": 18,
     "metadata": {},
     "output_type": "execute_result"
    }
   ],
   "source": [
    "df.shape"
   ]
  },
  {
   "cell_type": "code",
   "execution_count": 21,
   "metadata": {},
   "outputs": [],
   "source": [
    "import re"
   ]
  },
  {
   "cell_type": "code",
   "execution_count": 48,
   "metadata": {},
   "outputs": [],
   "source": [
    "tissues = {}\n",
    "genes = {}\n",
    "g = set()\n",
    "gtex_pattern = \"GTEXEXP (?P<Gene>ENSG[0-9]+)-[A-Za-z0-9 ]+-(?P<Tissue>.+)\"\n",
    "for i in df.GTEXEXP:\n",
    "    match = re.match(gtex_pattern, i).groupdict()\n",
    "    if \"Gland\" in i:\n",
    "        g.add(i)\n",
    "    if match[\"Tissue\"] not in tissues:\n",
    "        tissues[match[\"Tissue\"]] = 0\n",
    "    tissues[match[\"Tissue\"]] += 1\n",
    "    if match[\"Gene\"] not in genes:\n",
    "        genes[match[\"Gene\"]] = 0\n",
    "    genes[match[\"Gene\"]] += 1"
   ]
  },
  {
   "cell_type": "code",
   "execution_count": 49,
   "metadata": {},
   "outputs": [
    {
     "data": {
      "text/plain": [
       "{'Gene': 'ENSG00000178921', 'Tissue': 'Adrenal-Gland'}"
      ]
     },
     "execution_count": 49,
     "metadata": {},
     "output_type": "execute_result"
    }
   ],
   "source": [
    "i = list(g)[0]\n",
    "match = re.match(gtex_pattern, i).groupdict()\n",
    "match"
   ]
  },
  {
   "cell_type": "code",
   "execution_count": 50,
   "metadata": {},
   "outputs": [
    {
     "data": {
      "text/plain": [
       "[('ENSG00000223972', 45),\n",
       " ('ENSG00000227232', 45),\n",
       " ('ENSG00000278267', 45),\n",
       " ('ENSG00000243485', 45),\n",
       " ('ENSG00000237613', 45)]"
      ]
     },
     "execution_count": 50,
     "metadata": {},
     "output_type": "execute_result"
    }
   ],
   "source": [
    "list(genes.items())[0:5]"
   ]
  },
  {
   "cell_type": "code",
   "execution_count": 58,
   "metadata": {},
   "outputs": [
    {
     "data": {
      "text/plain": [
       "(45, 34940, 1572300)"
      ]
     },
     "execution_count": 58,
     "metadata": {},
     "output_type": "execute_result"
    }
   ],
   "source": [
    "len(tissues), len(genes), len(tissues)*len(genes)"
   ]
  },
  {
   "cell_type": "code",
   "execution_count": 54,
   "metadata": {},
   "outputs": [
    {
     "data": {
      "text/plain": [
       "{'Adipose-Subcutaneous': 34976,\n",
       " 'Adrenal-Gland': 34976,\n",
       " 'Artery-Aorta': 34976,\n",
       " 'Artery-Coronary': 34976,\n",
       " 'Artery-Tibial': 34976,\n",
       " 'Bladder': 34976,\n",
       " 'Brain-Amygdala': 34976,\n",
       " 'Brain-Cerebellar-Hemisphere': 34976,\n",
       " 'Brain-Cerebellum': 34976,\n",
       " 'Brain-Cortex': 34976,\n",
       " 'Brain-Hippocampus': 34976,\n",
       " 'Brain-Hypothalamus': 34976,\n",
       " 'Brain-Substantia-nigra': 34976,\n",
       " 'Breast-Mammary-Tissue': 34976,\n",
       " 'Cells-Cultured-fibroblasts': 34976,\n",
       " 'Cells-EBV-transformed-lymphocytes': 34976,\n",
       " 'Cervix-Ectocervix': 34976,\n",
       " 'Cervix-Endocervix': 34976,\n",
       " 'Colon-Sigmoid': 34976,\n",
       " 'Colon-Transverse': 34976,\n",
       " 'Esophagus-Gastroesophageal-Junction': 34976,\n",
       " 'Esophagus-Mucosa': 34976,\n",
       " 'Esophagus-Muscularis': 34976,\n",
       " 'Fallopian-Tube': 34976,\n",
       " 'Heart-Atrial-Appendage': 34976,\n",
       " 'Heart-Left-Ventricle': 34976,\n",
       " 'Kidney-Cortex': 34976,\n",
       " 'Kidney-Medulla': 34976,\n",
       " 'Liver': 34976,\n",
       " 'Lung': 34976,\n",
       " 'Minor-Salivary-Gland': 34976,\n",
       " 'Muscle-Skeletal': 34976,\n",
       " 'Nerve-Tibial': 34976,\n",
       " 'Ovary': 34976,\n",
       " 'Pancreas': 34976,\n",
       " 'Pituitary': 34976,\n",
       " 'Prostate': 34976,\n",
       " 'Small-Intestine-Terminal-Ileum': 34976,\n",
       " 'Spleen': 34976,\n",
       " 'Stomach': 34976,\n",
       " 'Testis': 34976,\n",
       " 'Thyroid': 34976,\n",
       " 'Uterus': 34976,\n",
       " 'Vagina': 34976,\n",
       " 'Whole-Blood': 34976}"
      ]
     },
     "execution_count": 54,
     "metadata": {},
     "output_type": "execute_result"
    }
   ],
   "source": [
    "tissues"
   ]
  },
  {
   "cell_type": "code",
   "execution_count": 56,
   "metadata": {},
   "outputs": [
    {
     "name": "stdout",
     "output_type": "stream",
     "text": [
      "out/filtered/edges/GTEXEXP.expressed in.Tissue.edges.csv\n",
      "out/filtered/edges/Gene or Genome.expresses.GTEXEXP.edges.csv\n",
      "out/filtered/edges/GTEXEXP.has expression.EXPBINS.edges.csv\n",
      "out/filtered/edges/GTEXEXP.expressed in.Body Location or Region.edges.csv\n",
      "out/filtered/edges/Tissue.expresses.GTEXEXP.edges.csv\n",
      "out/filtered/edges/Body Part, Organ, or Organ Component.expresses.GTEXEXP.edges.csv\n",
      "out/filtered/edges/GTEXEXP.expressed in.Body Part, Organ, or Organ Component.edges.csv\n",
      "out/filtered/edges/Body Location or Region.expresses.GTEXEXP.edges.csv\n",
      "out/filtered/edges/GTEXEXP.expressed in.Gene or Genome.edges.csv\n"
     ]
    }
   ],
   "source": [
    "for i in glob(\"out/filtered/edges/*.csv\"):\n",
    "    if \"GTEXEXP\" in i:\n",
    "        print(i)"
   ]
  },
  {
   "cell_type": "code",
   "execution_count": 59,
   "metadata": {},
   "outputs": [
    {
     "data": {
      "text/plain": [
       "(1573785, 7)"
      ]
     },
     "execution_count": 59,
     "metadata": {},
     "output_type": "execute_result"
    }
   ],
   "source": [
    "df = pd.read_csv(\"out/filtered/edges/Gene or Genome.expresses.GTEXEXP.edges.csv\")\n",
    "df.shape"
   ]
  },
  {
   "cell_type": "code",
   "execution_count": 61,
   "metadata": {},
   "outputs": [
    {
     "data": {
      "text/html": [
       "<div>\n",
       "<style scoped>\n",
       "    .dataframe tbody tr th:only-of-type {\n",
       "        vertical-align: middle;\n",
       "    }\n",
       "\n",
       "    .dataframe tbody tr th {\n",
       "        vertical-align: top;\n",
       "    }\n",
       "\n",
       "    .dataframe thead th {\n",
       "        text-align: right;\n",
       "    }\n",
       "</style>\n",
       "<table border=\"1\" class=\"dataframe\">\n",
       "  <thead>\n",
       "    <tr style=\"text-align: right;\">\n",
       "      <th></th>\n",
       "      <th>source</th>\n",
       "      <th>relation</th>\n",
       "      <th>target</th>\n",
       "      <th>source_label</th>\n",
       "      <th>target_label</th>\n",
       "      <th>SAB</th>\n",
       "      <th>evidence</th>\n",
       "    </tr>\n",
       "  </thead>\n",
       "  <tbody>\n",
       "    <tr>\n",
       "      <th>0</th>\n",
       "      <td>C2239334</td>\n",
       "      <td>expresses</td>\n",
       "      <td>R1RFWEVYUCBFTlNHMDAwMDAyMjM5NzItNS1BZGlwb3NlLV...</td>\n",
       "      <td>DDX11L1 gene</td>\n",
       "      <td>-</td>\n",
       "      <td>GTEXEXP</td>\n",
       "      <td>NaN</td>\n",
       "    </tr>\n",
       "    <tr>\n",
       "      <th>1</th>\n",
       "      <td>C2239334</td>\n",
       "      <td>expresses</td>\n",
       "      <td>R1RFWEVYUCBFTlNHMDAwMDAyMjM5NzItNS1BZHJlbmFsLU...</td>\n",
       "      <td>DDX11L1 gene</td>\n",
       "      <td>-</td>\n",
       "      <td>GTEXEXP</td>\n",
       "      <td>NaN</td>\n",
       "    </tr>\n",
       "    <tr>\n",
       "      <th>2</th>\n",
       "      <td>C2239334</td>\n",
       "      <td>expresses</td>\n",
       "      <td>R1RFWEVYUCBFTlNHMDAwMDAyMjM5NzItNS1BcnRlcnktQW...</td>\n",
       "      <td>DDX11L1 gene</td>\n",
       "      <td>-</td>\n",
       "      <td>GTEXEXP</td>\n",
       "      <td>NaN</td>\n",
       "    </tr>\n",
       "    <tr>\n",
       "      <th>3</th>\n",
       "      <td>C2239334</td>\n",
       "      <td>expresses</td>\n",
       "      <td>R1RFWEVYUCBFTlNHMDAwMDAyMjM5NzItNS1BcnRlcnktQ2...</td>\n",
       "      <td>DDX11L1 gene</td>\n",
       "      <td>-</td>\n",
       "      <td>GTEXEXP</td>\n",
       "      <td>NaN</td>\n",
       "    </tr>\n",
       "    <tr>\n",
       "      <th>4</th>\n",
       "      <td>C2239334</td>\n",
       "      <td>expresses</td>\n",
       "      <td>R1RFWEVYUCBFTlNHMDAwMDAyMjM5NzItNS1BcnRlcnktVG...</td>\n",
       "      <td>DDX11L1 gene</td>\n",
       "      <td>-</td>\n",
       "      <td>GTEXEXP</td>\n",
       "      <td>NaN</td>\n",
       "    </tr>\n",
       "  </tbody>\n",
       "</table>\n",
       "</div>"
      ],
      "text/plain": [
       "     source   relation                                             target  \\\n",
       "0  C2239334  expresses  R1RFWEVYUCBFTlNHMDAwMDAyMjM5NzItNS1BZGlwb3NlLV...   \n",
       "1  C2239334  expresses  R1RFWEVYUCBFTlNHMDAwMDAyMjM5NzItNS1BZHJlbmFsLU...   \n",
       "2  C2239334  expresses  R1RFWEVYUCBFTlNHMDAwMDAyMjM5NzItNS1BcnRlcnktQW...   \n",
       "3  C2239334  expresses  R1RFWEVYUCBFTlNHMDAwMDAyMjM5NzItNS1BcnRlcnktQ2...   \n",
       "4  C2239334  expresses  R1RFWEVYUCBFTlNHMDAwMDAyMjM5NzItNS1BcnRlcnktVG...   \n",
       "\n",
       "   source_label target_label      SAB  evidence  \n",
       "0  DDX11L1 gene            -  GTEXEXP       NaN  \n",
       "1  DDX11L1 gene            -  GTEXEXP       NaN  \n",
       "2  DDX11L1 gene            -  GTEXEXP       NaN  \n",
       "3  DDX11L1 gene            -  GTEXEXP       NaN  \n",
       "4  DDX11L1 gene            -  GTEXEXP       NaN  "
      ]
     },
     "execution_count": 61,
     "metadata": {},
     "output_type": "execute_result"
    }
   ],
   "source": [
    "df.head()"
   ]
  },
  {
   "cell_type": "code",
   "execution_count": null,
   "metadata": {},
   "outputs": [],
   "source": []
  }
 ],
 "metadata": {
  "kernelspec": {
   "display_name": "venv",
   "language": "python",
   "name": "python3"
  },
  "language_info": {
   "codemirror_mode": {
    "name": "ipython",
    "version": 3
   },
   "file_extension": ".py",
   "mimetype": "text/x-python",
   "name": "python",
   "nbconvert_exporter": "python",
   "pygments_lexer": "ipython3",
   "version": "3.10.9"
  },
  "orig_nbformat": 4
 },
 "nbformat": 4,
 "nbformat_minor": 2
}
