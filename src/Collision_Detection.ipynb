{
 "cells": [
  {
   "cell_type": "code",
   "execution_count": 4,
   "metadata": {},
   "outputs": [],
   "source": [
    "import pandas as pd\n",
    "import requests\n",
    "from glob import glob\n",
    "import re"
   ]
  },
  {
   "cell_type": "code",
   "execution_count": 42,
   "metadata": {},
   "outputs": [],
   "source": [
    "data_dir = '../dd_data/DD28Mar2024CSV/'"
   ]
  },
  {
   "cell_type": "code",
   "execution_count": 43,
   "metadata": {},
   "outputs": [
    {
     "data": {
      "text/html": [
       "<div>\n",
       "<style scoped>\n",
       "    .dataframe tbody tr th:only-of-type {\n",
       "        vertical-align: middle;\n",
       "    }\n",
       "\n",
       "    .dataframe tbody tr th {\n",
       "        vertical-align: top;\n",
       "    }\n",
       "\n",
       "    .dataframe thead th {\n",
       "        text-align: right;\n",
       "    }\n",
       "</style>\n",
       "<table border=\"1\" class=\"dataframe\">\n",
       "  <thead>\n",
       "    <tr style=\"text-align: right;\">\n",
       "      <th></th>\n",
       "      <th>label</th>\n",
       "    </tr>\n",
       "    <tr>\n",
       "      <th>id</th>\n",
       "      <th></th>\n",
       "    </tr>\n",
       "  </thead>\n",
       "  <tbody>\n",
       "    <tr>\n",
       "      <th>C0000005</th>\n",
       "      <td>(131)I-Macroaggregated Albumin</td>\n",
       "    </tr>\n",
       "    <tr>\n",
       "      <th>C0000139</th>\n",
       "      <td>16,16-Dimethylprostaglandin E2</td>\n",
       "    </tr>\n",
       "    <tr>\n",
       "      <th>C0000163</th>\n",
       "      <td>17-Hydroxycorticosteroids</td>\n",
       "    </tr>\n",
       "    <tr>\n",
       "      <th>C0000165</th>\n",
       "      <td>17-Hydroxysteroid Dehydrogenases</td>\n",
       "    </tr>\n",
       "    <tr>\n",
       "      <th>C0000190</th>\n",
       "      <td>2'-CMP</td>\n",
       "    </tr>\n",
       "  </tbody>\n",
       "</table>\n",
       "</div>"
      ],
      "text/plain": [
       "                                     label\n",
       "id                                        \n",
       "C0000005    (131)I-Macroaggregated Albumin\n",
       "C0000139    16,16-Dimethylprostaglandin E2\n",
       "C0000163         17-Hydroxycorticosteroids\n",
       "C0000165  17-Hydroxysteroid Dehydrogenases\n",
       "C0000190                            2'-CMP"
      ]
     },
     "execution_count": 43,
     "metadata": {},
     "output_type": "execute_result"
    }
   ],
   "source": [
    "labels = pd.read_csv(data_dir + \"CUI-SUIs.csv\")\n",
    "labels.columns = ['id', 'label']\n",
    "labels = labels.set_index('id')\n",
    "labels.head()"
   ]
  },
  {
   "cell_type": "code",
   "execution_count": 44,
   "metadata": {},
   "outputs": [
    {
     "data": {
      "text/html": [
       "<div>\n",
       "<style scoped>\n",
       "    .dataframe tbody tr th:only-of-type {\n",
       "        vertical-align: middle;\n",
       "    }\n",
       "\n",
       "    .dataframe tbody tr th {\n",
       "        vertical-align: top;\n",
       "    }\n",
       "\n",
       "    .dataframe thead th {\n",
       "        text-align: right;\n",
       "    }\n",
       "</style>\n",
       "<table border=\"1\" class=\"dataframe\">\n",
       "  <thead>\n",
       "    <tr style=\"text-align: right;\">\n",
       "      <th></th>\n",
       "      <th>label</th>\n",
       "      <th>id</th>\n",
       "      <th>type</th>\n",
       "      <th>cui</th>\n",
       "    </tr>\n",
       "  </thead>\n",
       "  <tbody>\n",
       "    <tr>\n",
       "      <th>0</th>\n",
       "      <td>Dipalmitoyl Phosphatidylcholine</td>\n",
       "      <td>MSH:D015060</td>\n",
       "      <td>ET</td>\n",
       "      <td>C0000039</td>\n",
       "    </tr>\n",
       "    <tr>\n",
       "      <th>1</th>\n",
       "      <td>Cyperquat</td>\n",
       "      <td>MSH:D015655</td>\n",
       "      <td>ET</td>\n",
       "      <td>C0000098</td>\n",
       "    </tr>\n",
       "    <tr>\n",
       "      <th>2</th>\n",
       "      <td>1-naththylamine (substance)</td>\n",
       "      <td>SNOMEDCT_US:13579002</td>\n",
       "      <td>FN</td>\n",
       "      <td>C0000102</td>\n",
       "    </tr>\n",
       "    <tr>\n",
       "      <th>3</th>\n",
       "      <td>1-Sar-8-Ile Angiotensin II</td>\n",
       "      <td>MSH:D015059</td>\n",
       "      <td>ET</td>\n",
       "      <td>C0000107</td>\n",
       "    </tr>\n",
       "    <tr>\n",
       "      <th>4</th>\n",
       "      <td>SAR ILE ANGIOTENSIN 02 01 08</td>\n",
       "      <td>MSH:D015059</td>\n",
       "      <td>DSV</td>\n",
       "      <td>C0000107</td>\n",
       "    </tr>\n",
       "  </tbody>\n",
       "</table>\n",
       "</div>"
      ],
      "text/plain": [
       "                             label                    id type       cui\n",
       "0  Dipalmitoyl Phosphatidylcholine           MSH:D015060   ET  C0000039\n",
       "1                        Cyperquat           MSH:D015655   ET  C0000098\n",
       "2      1-naththylamine (substance)  SNOMEDCT_US:13579002   FN  C0000102\n",
       "3       1-Sar-8-Ile Angiotensin II           MSH:D015059   ET  C0000107\n",
       "4     SAR ILE ANGIOTENSIN 02 01 08           MSH:D015059  DSV  C0000107"
      ]
     },
     "execution_count": 44,
     "metadata": {},
     "output_type": "execute_result"
    }
   ],
   "source": [
    "code_labels = pd.read_csv(data_dir + \"CODE-SUIs.csv\")\n",
    "code_labels.columns = [\"label\", \"id\", \"type\", \"cui\"]\n",
    "code_labels.head()"
   ]
  },
  {
   "cell_type": "code",
   "execution_count": 45,
   "metadata": {},
   "outputs": [],
   "source": [
    "code_labels = code_labels.groupby('cui').first()"
   ]
  },
  {
   "cell_type": "code",
   "execution_count": 46,
   "metadata": {},
   "outputs": [],
   "source": [
    "cl = set(code_labels.index) \n",
    "l=set(labels.index)\n",
    "missing = cl - l\n",
    "\n",
    "labels = pd.concat([labels, code_labels.loc[list(missing), [\"label\"]]])"
   ]
  },
  {
   "cell_type": "code",
   "execution_count": 92,
   "metadata": {},
   "outputs": [],
   "source": [
    "pattern = \"out/sab/(?P<SAB>.*)\\.(?P<node_type>.+)\\.nodes\\.csv\"\n",
    "node_types = {}\n",
    "for filename in glob('out/sab/*.nodes.csv'):\n",
    "\tnode_type = re.match(pattern, filename).groupdict()['node_type']\n",
    "\tif node_type not in node_types:\n",
    "\t\tnode_types[node_type] = []\n",
    "\tnode_types[node_type].append(filename)"
   ]
  },
  {
   "cell_type": "code",
   "execution_count": 122,
   "metadata": {},
   "outputs": [
    {
     "data": {
      "text/plain": [
       "50"
      ]
     },
     "execution_count": 122,
     "metadata": {},
     "output_type": "execute_result"
    }
   ],
   "source": [
    "len(node_types)"
   ]
  },
  {
   "cell_type": "code",
   "execution_count": 115,
   "metadata": {},
   "outputs": [],
   "source": [
    "node_ids = {}"
   ]
  },
  {
   "cell_type": "code",
   "execution_count": 116,
   "metadata": {},
   "outputs": [],
   "source": [
    "for k,v in node_types.items():\n",
    "\tnode_ids[k] = set()\n",
    "\tfor filename in v:\n",
    "\t\tdf = pd.read_csv(filename, index_col=0)\n",
    "\t\tnode_ids[k] = node_ids[k].union(df.index)"
   ]
  },
  {
   "cell_type": "code",
   "execution_count": 117,
   "metadata": {},
   "outputs": [
    {
     "name": "stdout",
     "output_type": "stream",
     "text": [
      "Gene Metabolite 1\n",
      "Anatomy Disease or Phenotype 1\n",
      "Anatomy Biofluid 3\n",
      "Compound Metabolite 1305\n",
      "Metabolite Gene 1\n",
      "Metabolite Compound 1305\n"
     ]
    },
    {
     "name": "stdout",
     "output_type": "stream",
     "text": [
      "PATO Sex 2\n",
      "Disease or Phenotype Anatomy 1\n",
      "Biofluid Anatomy 3\n",
      "Sex PATO 2\n"
     ]
    }
   ],
   "source": [
    "for node_type_a, ids_a in node_ids.items():\n",
    "\tfor node_type_b, ids_b in node_ids.items():\n",
    "\t\tif node_type_a != node_type_b:\n",
    "\t\t\tif len(ids_a.intersection(ids_b)):\n",
    "\t\t\t\tprint(node_type_a, node_type_b, len(ids_a.intersection(ids_b)))"
   ]
  },
  {
   "cell_type": "code",
   "execution_count": 118,
   "metadata": {},
   "outputs": [
    {
     "data": {
      "text/plain": [
       "set()"
      ]
     },
     "execution_count": 118,
     "metadata": {},
     "output_type": "execute_result"
    }
   ],
   "source": [
    "node_ids[\"Gene\"].intersection(node_ids[\"Disease or Phenotype\"])"
   ]
  },
  {
   "cell_type": "code",
   "execution_count": 119,
   "metadata": {},
   "outputs": [
    {
     "data": {
      "text/plain": [
       "'\\nCompound Metabolite 1305\\nMetabolite Compound 1305\\nMetabolite Disease or Phenotype 3\\n'"
      ]
     },
     "execution_count": 119,
     "metadata": {},
     "output_type": "execute_result"
    }
   ],
   "source": [
    "'''\n",
    "Compound Metabolite 1305\n",
    "Metabolite Compound 1305\n",
    "'''"
   ]
  },
  {
   "cell_type": "code",
   "execution_count": 120,
   "metadata": {},
   "outputs": [
    {
     "data": {
      "text/html": [
       "<div>\n",
       "<style scoped>\n",
       "    .dataframe tbody tr th:only-of-type {\n",
       "        vertical-align: middle;\n",
       "    }\n",
       "\n",
       "    .dataframe tbody tr th {\n",
       "        vertical-align: top;\n",
       "    }\n",
       "\n",
       "    .dataframe thead th {\n",
       "        text-align: right;\n",
       "    }\n",
       "</style>\n",
       "<table border=\"1\" class=\"dataframe\">\n",
       "  <thead>\n",
       "    <tr style=\"text-align: right;\">\n",
       "      <th></th>\n",
       "      <th>label</th>\n",
       "    </tr>\n",
       "  </thead>\n",
       "  <tbody>\n",
       "  </tbody>\n",
       "</table>\n",
       "</div>"
      ],
      "text/plain": [
       "Empty DataFrame\n",
       "Columns: [label]\n",
       "Index: []"
      ]
     },
     "execution_count": 120,
     "metadata": {},
     "output_type": "execute_result"
    }
   ],
   "source": [
    "l = list(node_ids[\"Metabolite\"].intersection(node_ids[\"Disease or Phenotype\"]))\n",
    "labels.loc[l]"
   ]
  },
  {
   "cell_type": "code",
   "execution_count": 121,
   "metadata": {},
   "outputs": [
    {
     "data": {
      "text/html": [
       "<div>\n",
       "<style scoped>\n",
       "    .dataframe tbody tr th:only-of-type {\n",
       "        vertical-align: middle;\n",
       "    }\n",
       "\n",
       "    .dataframe tbody tr th {\n",
       "        vertical-align: top;\n",
       "    }\n",
       "\n",
       "    .dataframe thead th {\n",
       "        text-align: right;\n",
       "    }\n",
       "</style>\n",
       "<table border=\"1\" class=\"dataframe\">\n",
       "  <thead>\n",
       "    <tr style=\"text-align: right;\">\n",
       "      <th></th>\n",
       "      <th>label</th>\n",
       "    </tr>\n",
       "  </thead>\n",
       "  <tbody>\n",
       "  </tbody>\n",
       "</table>\n",
       "</div>"
      ],
      "text/plain": [
       "Empty DataFrame\n",
       "Columns: [label]\n",
       "Index: []"
      ]
     },
     "execution_count": 121,
     "metadata": {},
     "output_type": "execute_result"
    }
   ],
   "source": [
    "labels.loc[l]"
   ]
  },
  {
   "cell_type": "code",
   "execution_count": 124,
   "metadata": {},
   "outputs": [
    {
     "name": "stdout",
     "output_type": "stream",
     "text": [
      "Glytoucan\n",
      "Glycoprotein\n",
      "Isoform\n",
      "Protein\n",
      "4DN File\n",
      "Gene\n",
      "MOTRPAC\n",
      "Anatomy\n",
      "GlyGen Location\n",
      "SO\n",
      "ILX\n",
      "Amino Acid\n",
      "Compound\n",
      "HSCLO\n",
      "Metabolite\n",
      "Glycoprotein Citation\n",
      "PATO\n",
      "MSIGDB\n",
      "EXPBINS\n",
      "RBP Binding Loci\n",
      "NIFSTD\n",
      "GTEXPVALUEBIN\n",
      "GlyGen Residue\n",
      "Disease or Phenotype\n",
      "exRNA Loci\n",
      "4DN QVal Bin\n",
      "Biofluid\n",
      "GO\n",
      "Glycan Motif\n",
      "Assay\n",
      "Regulatory Element Activity\n",
      "Glycoprotein Evidence\n",
      "Taxon\n",
      "ENCODE CCRE Data Matrix\n",
      "Glycosyltransferase Reaction\n",
      "Glycosylation\n",
      "KFPT\n",
      "GTEXEQTL\n",
      "KFGENEBIN\n",
      "GP ID2PRO\n",
      "GlyGen src\n",
      "GlyGen Glycosequence\n",
      "KFCOHORT\n",
      "Sex\n",
      "CLINGEN ALLELE REGISTRY\n",
      "4DN Loop\n",
      "ENCODE CCRE\n",
      "GTEXEXP\n",
      "4DN Dataset\n",
      "Glycosylation Site\n"
     ]
    }
   ],
   "source": [
    "print(\"\\n\".join(node_types.keys()))"
   ]
  },
  {
   "cell_type": "code",
   "execution_count": 126,
   "metadata": {},
   "outputs": [
    {
     "name": "stdout",
     "output_type": "stream",
     "text": [
      "Index(['label', 'type', 'ENSEMBL', 'HGNC', 'ENTREZ', 'OMIM'], dtype='object')\n",
      "Index(['label', 'type', 'HGNC', 'ENSEMBL', 'ENTREZ', 'OMIM'], dtype='object')\n",
      "Index(['label', 'type', 'ENSEMBL', 'HGNC', 'OMIM', 'ENTREZ', 'ORDO'], dtype='object')\n",
      "Index(['label', 'type', 'ENSEMBL', 'HGNC', 'ENTREZ', 'OMIM'], dtype='object')\n",
      "Index(['label', 'type', 'HGNC', 'ENSEMBL', 'ENTREZ'], dtype='object')\n",
      "Index(['label', 'type', 'HGNC', 'ENSEMBL', 'ENTREZ', 'OMIM', 'NCI'], dtype='object')\n",
      "Index(['label', 'type', 'HGNC', 'ENSEMBL', 'OMIM', 'ENTREZ', 'ORDO'], dtype='object')\n",
      "Index(['label', 'type', 'ENSEMBL', 'HGNC'], dtype='object')\n",
      "Index(['label', 'type', 'ENSEMBL'], dtype='object')\n",
      "Index(['label', 'type', 'HGNC', 'ENSEMBL', 'ENTREZ', 'OMIM'], dtype='object')\n",
      "Index(['label', 'type', 'HGNC', 'ENSEMBL', 'ENTREZ'], dtype='object')\n",
      "Index(['label', 'type', 'HGNC', 'ENSEMBL', 'ENTREZ', 'OMIM'], dtype='object')\n",
      "Index(['label', 'type', 'ENTREZ'], dtype='object')\n"
     ]
    }
   ],
   "source": [
    "for i in node_types[\"Gene\"]:\n",
    "\tprint(pd.read_csv(i, index_col=0).columns)"
   ]
  },
  {
   "cell_type": "code",
   "execution_count": 128,
   "metadata": {},
   "outputs": [
    {
     "name": "stdout",
     "output_type": "stream",
     "text": [
      "Index(['label', 'type', 'CHEBI'], dtype='object')\n",
      "Index(['label', 'type', 'PUBCHEM'], dtype='object')\n"
     ]
    },
    {
     "name": "stdout",
     "output_type": "stream",
     "text": [
      "Index(['label', 'type', 'PUBCHEM'], dtype='object')\n",
      "Index(['label', 'type', 'PUBCHEM'], dtype='object')\n"
     ]
    }
   ],
   "source": [
    "for i in node_types[\"Compound\"]:\n",
    "\tprint(pd.read_csv(i, index_col=0).columns)"
   ]
  },
  {
   "cell_type": "code",
   "execution_count": 129,
   "metadata": {},
   "outputs": [
    {
     "name": "stdout",
     "output_type": "stream",
     "text": [
      "Index(['label', 'type', 'PUBCHEM'], dtype='object')\n"
     ]
    }
   ],
   "source": [
    "for i in node_types[\"Metabolite\"]:\n",
    "\tprint(pd.read_csv(i, index_col=0).columns)"
   ]
  },
  {
   "cell_type": "code",
   "execution_count": 130,
   "metadata": {},
   "outputs": [
    {
     "name": "stdout",
     "output_type": "stream",
     "text": [
      "Index(['label', 'type', 'EFO', 'LNC'], dtype='object')\n",
      "Index(['label', 'type', 'LNC', 'UBERON', 'FMA', 'SNOMEDCT_US', 'NCI', 'CHV',\n",
      "       'UWDA', 'MSH'],\n",
      "      dtype='object')\n",
      "Index(['label', 'type', 'LNC', 'UBERON', 'FMA', 'SNOMEDCT_US', 'NCI', 'CHV',\n",
      "       'UWDA', 'MSH'],\n",
      "      dtype='object')\n",
      "Index(['label', 'type', 'AZ', 'CL'], dtype='object')\n",
      "Index(['label', 'type', 'LNC', 'UBERON', 'ICF-CY', 'SNOMEDCT_US', 'UWDA',\n",
      "       'FMA', 'CSP', 'NCI', 'CHV', 'MSH', 'ICF', 'OMIM', 'HL7V2.5', 'LCH_NW',\n",
      "       'PSY', 'AZ'],\n",
      "      dtype='object')\n",
      "Index(['label', 'type', 'LNC', 'UBERON', 'FMA', 'NCI', 'SNOMEDCT_US', 'CHV',\n",
      "       'UWDA', 'MSH'],\n",
      "      dtype='object')\n",
      "Index(['label', 'type', 'UBERON', 'FMA'], dtype='object')\n",
      "Index(['label', 'type', 'AZ', 'CL'], dtype='object')\n",
      "Index(['label', 'type', 'LNC', 'UBERON', 'FMA', 'CHV', 'NCI', 'SNOMEDCT_US',\n",
      "       'CSP', 'MSH', 'UWDA', 'LCH_NW'],\n",
      "      dtype='object')\n"
     ]
    }
   ],
   "source": [
    "for i in node_types[\"Anatomy\"]:\n",
    "\tprint(pd.read_csv(i, index_col=0).columns)"
   ]
  },
  {
   "cell_type": "code",
   "execution_count": 133,
   "metadata": {},
   "outputs": [
    {
     "name": "stdout",
     "output_type": "stream",
     "text": [
      "Glytoucan 2\n",
      "Protein 5\n",
      "Gene 13\n",
      "Anatomy 9\n",
      "Compound 4\n",
      "HSCLO 2\n",
      "Disease or Phenotype 5\n",
      "GTEXEQTL 2\n"
     ]
    }
   ],
   "source": [
    "for k,v in node_types.items():\n",
    "\tif len(v) > 1:\n",
    "\t\tprint(k, len(v))"
   ]
  },
  {
   "cell_type": "code",
   "execution_count": 139,
   "metadata": {},
   "outputs": [
    {
     "name": "stdout",
     "output_type": "stream",
     "text": [
      "Index(['label', 'type', 'OMIM', 'ORDO', 'MONDO'], dtype='object')\n",
      "Index(['label', 'type', 'MDR', 'ICPC2ICD10ENG', 'SNOMEDCT_US', 'MONDO',\n",
      "       'MEDCIN', 'CHV', 'DOID', 'OMIM', 'ICD10CM', 'MSH', 'NCI', 'EFO'],\n",
      "      dtype='object')\n",
      "Index(['label', 'type', 'MDR', 'ICPC2ICD10ENG', 'MONDO', 'OMIM', 'ORDO',\n",
      "       'DOID', 'SNOMEDCT_US', 'MEDCIN', 'MSH', 'CHV', 'ICD10CM', 'NCI', 'EFO',\n",
      "       'LNC'],\n",
      "      dtype='object')\n",
      "Index(['label', 'type', 'OMIM', 'ICPC2ICD10ENG', 'HP', 'MDR', 'MONDO',\n",
      "       'SNOMEDCT_US', 'MEDCIN', 'DOID', 'CHV'],\n",
      "      dtype='object')\n",
      "Index(['label', 'type', 'HP', 'OMIM', 'MDR', 'ICPC2ICD10ENG'], dtype='object')\n"
     ]
    }
   ],
   "source": [
    "for i in node_types[\"Disease or Phenotype\"]:\n",
    "\tprint(pd.read_csv(i, index_col=0).columns)"
   ]
  },
  {
   "cell_type": "code",
   "execution_count": 138,
   "metadata": {},
   "outputs": [
    {
     "data": {
      "text/plain": [
       "['out/sab/GTEXEQTL.GTEXEQTL.nodes.csv', 'out/sab/ERCCREG.GTEXEQTL.nodes.csv']"
      ]
     },
     "execution_count": 138,
     "metadata": {},
     "output_type": "execute_result"
    }
   ],
   "source": [
    "node_types[\"GTEXEQTL\"]"
   ]
  },
  {
   "cell_type": "code",
   "execution_count": null,
   "metadata": {},
   "outputs": [],
   "source": []
  }
 ],
 "metadata": {
  "kernelspec": {
   "display_name": "venv",
   "language": "python",
   "name": "python3"
  },
  "language_info": {
   "codemirror_mode": {
    "name": "ipython",
    "version": 3
   },
   "file_extension": ".py",
   "mimetype": "text/x-python",
   "name": "python",
   "nbconvert_exporter": "python",
   "pygments_lexer": "ipython3",
   "version": "3.10.14"
  }
 },
 "nbformat": 4,
 "nbformat_minor": 2
}
