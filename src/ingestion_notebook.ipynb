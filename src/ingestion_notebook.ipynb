{
 "cells": [
  {
   "cell_type": "code",
   "execution_count": 1,
   "metadata": {},
   "outputs": [],
   "source": [
    "from neo4j import GraphDatabase\n",
    "import pandas as pd\n",
    "from dotenv import load_dotenv\n",
    "from glob import glob\n",
    "import re\n",
    "import os\n",
    "import numpy as np\n",
    "from tqdm import tqdm\n",
    "from uuid import uuid5, NAMESPACE_URL"
   ]
  },
  {
   "cell_type": "code",
   "execution_count": 2,
   "metadata": {},
   "outputs": [
    {
     "data": {
      "text/plain": [
       "True"
      ]
     },
     "execution_count": 2,
     "metadata": {},
     "output_type": "execute_result"
    }
   ],
   "source": [
    "load_dotenv()"
   ]
  },
  {
   "cell_type": "code",
   "execution_count": 3,
   "metadata": {},
   "outputs": [
    {
     "name": "stderr",
     "output_type": "stream",
     "text": [
      "100%|██████████| 87/87 [00:00<00:00, 228493.71it/s]\n"
     ]
    }
   ],
   "source": [
    "pattern = \"out/sab/(?P<SAB>.*)\\.(?P<node_type>.+)\\.nodes\\.csv\"\n",
    "node_types = {}\n",
    "for filename in tqdm(glob('out/sab/*.nodes.csv')):\n",
    "\tnode_type = re.match(pattern, filename).groupdict()['node_type']\n",
    "\tif node_type not in node_types:\n",
    "\t\tnode_types[node_type] = []\n",
    "\tnode_types[node_type].append(filename)"
   ]
  },
  {
   "cell_type": "code",
   "execution_count": 4,
   "metadata": {},
   "outputs": [],
   "source": [
    "node_ids = {}\n",
    "for k,v in node_types.items():\n",
    "\tnode_ids[k] = set()\n",
    "\tfor filename in v:\n",
    "\t\tdf = pd.read_csv(filename, index_col=0)\n",
    "\t\tnode_ids[k] = node_ids[k].union(df.index)"
   ]
  },
  {
   "cell_type": "code",
   "execution_count": 5,
   "metadata": {},
   "outputs": [
    {
     "data": {
      "text/plain": [
       "8196986"
      ]
     },
     "execution_count": 5,
     "metadata": {},
     "output_type": "execute_result"
    }
   ],
   "source": [
    "all_nodes = set()\n",
    "for k,v in node_ids.items():\n",
    "\tall_nodes = all_nodes.union(v)\n",
    "len(all_nodes)"
   ]
  },
  {
   "cell_type": "code",
   "execution_count": 6,
   "metadata": {},
   "outputs": [
    {
     "name": "stdout",
     "output_type": "stream",
     "text": [
      "('Gene', 'Enzyme') 1891\n",
      "('Gene', 'Metabolite') 1\n",
      "('Anatomy', 'Disease or Phenotype') 1\n",
      "('Anatomy', 'Biofluid') 3\n",
      "('Compound', 'Metabolite') 1305\n",
      "('PATO', 'Sex') 2\n"
     ]
    }
   ],
   "source": [
    "nodes = {}\n",
    "for node_type_a, ids_a in node_ids.items():\n",
    "\tfor node_type_b, ids_b in node_ids.items():\n",
    "\t\tif node_type_a != node_type_b:\n",
    "\t\t\tintersect = ids_a.intersection(ids_b)\n",
    "\t\t\tif len(intersect):\n",
    "\t\t\t\tnode_ids[node_type_a] = node_ids[node_type_a] - intersect\n",
    "\t\t\t\tnode_ids[node_type_b] = node_ids[node_type_b] - intersect\n",
    "\t\t\t\tnodes[(node_type_a, node_type_b)] = intersect\n",
    "\t\t\t\tprint((node_type_a, node_type_b), len(intersect))"
   ]
  },
  {
   "cell_type": "code",
   "execution_count": 7,
   "metadata": {},
   "outputs": [],
   "source": [
    "for k,v in node_ids.items():\n",
    "\tnodes[(k)] = v"
   ]
  },
  {
   "cell_type": "code",
   "execution_count": 8,
   "metadata": {},
   "outputs": [
    {
     "name": "stdout",
     "output_type": "stream",
     "text": [
      "('Gene', 'Enzyme')\n",
      "('Gene', 'Metabolite')\n",
      "('Anatomy', 'Disease or Phenotype')\n",
      "('Anatomy', 'Biofluid')\n",
      "('Compound', 'Metabolite')\n",
      "('PATO', 'Sex')\n",
      "Glytoucan\n",
      "Glycoprotein\n",
      "Isoform\n",
      "Protein\n",
      "4DN File\n",
      "Gene\n",
      "MOTRPAC\n",
      "Anatomy\n",
      "GlyGen Location\n",
      "SO\n",
      "ILX\n",
      "Amino Acid\n",
      "Compound\n",
      "Enzyme\n",
      "HSCLO\n",
      "Metabolite\n",
      "Glycoprotein Citation\n",
      "PATO\n",
      "MSIGDB\n",
      "EXPBINS\n",
      "RBP Binding Loci\n",
      "NIFSTD\n",
      "GTEXPVALUEBIN\n",
      "GlyGen Residue\n",
      "Disease or Phenotype\n",
      "exRNA Loci\n",
      "4DN QVal Bin\n",
      "Biofluid\n",
      "GO\n",
      "Glycan Motif\n",
      "Assay\n",
      "Regulatory Element Activity\n",
      "Glycoprotein Evidence\n",
      "Taxon\n",
      "ENCODE CCRE Data Matrix\n",
      "Glycosyltransferase Reaction\n",
      "Glycosylation\n",
      "KFPT\n",
      "GTEXEQTL\n",
      "KFGENEBIN\n",
      "GP ID2PRO\n",
      "GlyGen src\n",
      "GlyGen Glycosequence\n",
      "KFCOHORT\n",
      "Sex\n",
      "CLINGEN ALLELE REGISTRY\n",
      "4DN Loop\n",
      "ENCODE CCRE\n",
      "GTEXEXP\n",
      "4DN Dataset\n",
      "Glycosylation Site\n"
     ]
    }
   ],
   "source": [
    "all_nodes = set()\n",
    "for k,v in nodes.items():\n",
    "\tprint(k)\n",
    "\tall_nodes = all_nodes.union(v)"
   ]
  },
  {
   "cell_type": "code",
   "execution_count": 9,
   "metadata": {},
   "outputs": [
    {
     "data": {
      "text/plain": [
       "8196986"
      ]
     },
     "execution_count": 9,
     "metadata": {},
     "output_type": "execute_result"
    }
   ],
   "source": [
    "len(all_nodes)"
   ]
  },
  {
   "cell_type": "code",
   "execution_count": 10,
   "metadata": {},
   "outputs": [
    {
     "data": {
      "text/plain": [
       "57"
      ]
     },
     "execution_count": 10,
     "metadata": {},
     "output_type": "execute_result"
    }
   ],
   "source": [
    "len(nodes)"
   ]
  },
  {
   "cell_type": "code",
   "execution_count": 11,
   "metadata": {},
   "outputs": [
    {
     "data": {
      "text/plain": [
       "'bolt://localhost:7687'"
      ]
     },
     "execution_count": 11,
     "metadata": {},
     "output_type": "execute_result"
    }
   ],
   "source": [
    "os.getenv('NEO4J_URL')"
   ]
  },
  {
   "cell_type": "code",
   "execution_count": 12,
   "metadata": {},
   "outputs": [],
   "source": [
    "def index_nodes(node_type, name):\n",
    "\twith GraphDatabase.driver(os.getenv('NEO4J_URL'), auth=(os.getenv('NEO4J_USER'), os.getenv('NEO4J_PASSWORD'))) as driver:\n",
    "\t\twith driver.session(database=\"neo4j\") as session:\n",
    "\t\t\ttx = session.begin_transaction()\n",
    "\t\t\ttry:\n",
    "\t\t\t\ttx.run(\"CREATE CONSTRAINT distillery_unique_id_%s IF NOT EXISTS  FOR (n:%s) REQUIRE n.id IS UNIQUE\"%(name, node_type))\n",
    "\t\t\t\ttx.run(\"CREATE INDEX distillery_index_id_%s IF NOT EXISTS  FOR (n:%s) ON (n.id)\"%(name, node_type))\n",
    "\t\t\t\ttx.run(\"CREATE INDEX distillery_index_label_%s IF NOT EXISTS  FOR (n:%s) ON (n.label)\"%(name, node_type))\n",
    "\t\t\t\ttx.commit()\n",
    "\t\t\texcept Exception as e:\n",
    "\t\t\t\tprint(e)\n",
    "\t\t\t\ttx.rollback()\n",
    "\t\t\tfinally:\n",
    "\t\t\t\ttx.close()"
   ]
  },
  {
   "cell_type": "code",
   "execution_count": 13,
   "metadata": {},
   "outputs": [],
   "source": [
    "for node_type in node_types:\n",
    "\tn = node_type\n",
    "\tif len(node_type.split(\" \")) > 1:\n",
    "\t\tn = \"`%s`\"%node_type\n",
    "\tindex_nodes(n, node_type.replace(\" \", \"_\"))"
   ]
  },
  {
   "cell_type": "code",
   "execution_count": 14,
   "metadata": {},
   "outputs": [],
   "source": [
    "def ingest_node(node_type, nodes, limit=10000):\n",
    "\tsuccess = True\n",
    "\twith GraphDatabase.driver(os.getenv('NEO4J_URL'), auth=(os.getenv('NEO4J_USER'), os.getenv('NEO4J_PASSWORD'))) as driver:\n",
    "\t\twith driver.session(database=\"neo4j\") as session:\n",
    "\t\t\tskip = 0\n",
    "\t\t\tprint(\"Ingesting: %s\"%(\", \".join(node_type)))\n",
    "\t\t\twhile skip < len(nodes):\n",
    "\t\t\t\tbatch = nodes[skip: skip+limit]\n",
    "\t\t\t\ttx = session.begin_transaction()\n",
    "\t\t\t\ttry:\n",
    "\t\t\t\t\tquery = '''\n",
    "\t\t\t\t\t\tUNWIND $batch as map\n",
    "\t\t\t\t\t\tCREATE (n:%s)\n",
    "\t\t\t\t\t\tSET n = map\n",
    "\t\t\t\t\t'''%(\":\".join(node_type))\n",
    "\t\t\t\t\ttx.run(query, {\"batch\": batch})\n",
    "\t\t\t\t\tskip += limit\n",
    "\t\t\t\t\ttx.commit()\n",
    "\t\t\t\texcept Exception as e:\n",
    "\t\t\t\t\tprint(\"Error rolling back...\")\n",
    "\t\t\t\t\tprint(\"Exception\", e)\n",
    "\t\t\t\t\ttx.rollback()\n",
    "\t\t\t\t\tsuccess = False\n",
    "\t\t\t\t\tbreak\n",
    "\t\t\t\tfinally:\n",
    "\t\t\t\t\ttx.close()\n",
    "\t\t\telse:\n",
    "\t\t\t\tsuccess = True\t\t\t\n",
    "\treturn success"
   ]
  },
  {
   "cell_type": "code",
   "execution_count": 15,
   "metadata": {},
   "outputs": [
    {
     "name": "stdout",
     "output_type": "stream",
     "text": [
      "Ingesting: Gene, Enzyme\n",
      "Ingesting: Gene, Metabolite\n",
      "Ingesting: Anatomy, `Disease or Phenotype`\n",
      "Ingesting: Anatomy, Biofluid\n",
      "Ingesting: Compound, Metabolite\n",
      "Ingesting: PATO, Sex\n",
      "Ingesting: Glytoucan\n",
      "Ingesting: Glycoprotein\n",
      "Ingesting: Isoform\n",
      "Ingesting: Protein\n",
      "Ingesting: `4DN File`\n",
      "Ingesting: Gene\n",
      "Ingesting: MOTRPAC\n",
      "Ingesting: Anatomy\n",
      "Ingesting: `GlyGen Location`\n",
      "Ingesting: SO\n",
      "Ingesting: ILX\n",
      "Ingesting: `Amino Acid`\n",
      "Ingesting: Compound\n",
      "Ingesting: Enzyme\n",
      "Ingesting: HSCLO\n",
      "Ingesting: Metabolite\n",
      "Ingesting: `Glycoprotein Citation`\n",
      "Ingesting: PATO\n",
      "Ingesting: MSIGDB\n",
      "Ingesting: EXPBINS\n",
      "Ingesting: `RBP Binding Loci`\n",
      "Ingesting: NIFSTD\n",
      "Ingesting: GTEXPVALUEBIN\n",
      "Ingesting: `GlyGen Residue`\n",
      "Ingesting: `Disease or Phenotype`\n",
      "Ingesting: `exRNA Loci`\n",
      "Ingesting: `4DN QVal Bin`\n",
      "Ingesting: Biofluid\n",
      "Ingesting: GO\n",
      "Ingesting: `Glycan Motif`\n",
      "Ingesting: Assay\n",
      "Ingesting: `Regulatory Element Activity`\n",
      "Ingesting: `Glycoprotein Evidence`\n",
      "Ingesting: Taxon\n",
      "Ingesting: `ENCODE CCRE Data Matrix`\n",
      "Ingesting: `Glycosyltransferase Reaction`\n",
      "Ingesting: Glycosylation\n",
      "Ingesting: KFPT\n",
      "Ingesting: GTEXEQTL\n",
      "Ingesting: KFGENEBIN\n",
      "Ingesting: `GP ID2PRO`\n",
      "Ingesting: `GlyGen src`\n",
      "Ingesting: `GlyGen Glycosequence`\n",
      "Ingesting: KFCOHORT\n",
      "Ingesting: Sex\n",
      "Ingesting: `CLINGEN ALLELE REGISTRY`\n",
      "Ingesting: `4DN Loop`\n",
      "Ingesting: `ENCODE CCRE`\n",
      "Ingesting: GTEXEXP\n",
      "Ingesting: `4DN Dataset`\n",
      "Ingesting: `Glycosylation Site`\n"
     ]
    }
   ],
   "source": [
    "\n",
    "for node_type, node_ids in nodes.items():\n",
    "\tnode_type = node_type if type(node_type) == tuple else [node_type]\n",
    "\tnode_dict = {}\n",
    "\tfor t in node_type:\n",
    "\t\tfilenames = node_types[t]\n",
    "\t\tfor file in filenames:\n",
    "\t\t\tdf = pd.read_csv(file, index_col=0).astype(str)\n",
    "\t\t\tidx = list(node_ids.intersection(df.index))\n",
    "\t\t\tdf = df.loc[idx]\n",
    "\t\t\tfor k,row in df.iterrows():\n",
    "\t\t\t\tv = {}\n",
    "\t\t\t\tfor i,j in row.items():\n",
    "\t\t\t\t\tif type(j) == str:\n",
    "\t\t\t\t\t\tv[i] = j\n",
    "\t\t\t\t\telif not np.isnan(j):\n",
    "\t\t\t\t\t\tv[i] = int(j)\n",
    "\t\t\t\tif k not in node_dict:\n",
    "\t\t\t\t\tnode_dict[k] = {\n",
    "\t\t\t\t\t\t\"id\": k,\n",
    "\t\t\t\t\t\t**v\n",
    "\t\t\t\t\t}\n",
    "\t\t\t\telse:\n",
    "\t\t\t\t\tnode_dict[k] = {\n",
    "\t\t\t\t\t\t**node_dict[k],\n",
    "\t\t\t\t\t\t**v\n",
    "\t\t\t\t\t}\n",
    "\tn = []\n",
    "\tfor i in node_type:\n",
    "\t\tif len(i.split(\" \")) > 1:\n",
    "\t\t\tn.append(\"`%s`\"%i)\n",
    "\t\telse:\n",
    "\t\t\tn.append(i)\n",
    "\t\n",
    "\tr = ingest_node(n, list(node_dict.values()))\n",
    "\tif not r:\n",
    "\t\tbreak\n",
    "\t"
   ]
  },
  {
   "cell_type": "code",
   "execution_count": 16,
   "metadata": {},
   "outputs": [
    {
     "name": "stdout",
     "output_type": "stream",
     "text": [
      "GLYCANS\n",
      "PROTEOFORM\n",
      "PROTEOFORM\n",
      "PROTEOFORM\n",
      "IDGP\n",
      "4DN\n",
      "ERCCRBP\n",
      "MOTRPAC\n",
      "4DN\n",
      "KF\n",
      "PROTEOFORM\n",
      "NPO\n",
      "NPO\n",
      "PROTEOFORM\n",
      "CLINVAR\n",
      "LINCS\n",
      "NPO\n",
      "GTEXEXP\n",
      "HGNCENZ\n",
      "GTEXEQTL\n",
      "GTEXEXP\n",
      "MW\n",
      "PROTEOFORM\n",
      "NPO\n",
      "HMAZ\n",
      "MSIGDB\n",
      "GTEXEXP\n",
      "GTEXEQTL\n",
      "ERCCRBP\n",
      "NPO\n",
      "GTEXEQTL\n",
      "GLYCANS\n",
      "LINCS\n",
      "CLINVAR\n",
      "ERCCRBP\n",
      "4DN\n",
      "PROTEOFORM\n",
      "ERCCRBP\n",
      "HGNCHPO\n",
      "NPO\n",
      "GLYCANS\n",
      "4DN\n",
      "ERCCREG\n",
      "HMAZ\n",
      "ERCCRBP\n",
      "PROTEOFORM\n",
      "MOTRPAC\n",
      "NPO\n",
      "ERCCREG\n",
      "ERCCREG\n",
      "NPO\n",
      "ERCCREG\n",
      "IDGD\n",
      "MOTRPAC\n",
      "GLYCANS\n",
      "GLYCANS\n",
      "IDGP\n",
      "KF\n",
      "GTEXEQTL\n",
      "KF\n",
      "PROTEOFORM\n",
      "GLYCANS\n",
      "IDGD\n",
      "GLYCANS\n",
      "KF\n",
      "4DN\n",
      "GTEXEQTL\n",
      "GLYCANS\n",
      "ERCCREG\n",
      "MSIGDB\n",
      "MOTRPAC\n",
      "MW\n",
      "MW\n",
      "ERCCREG\n",
      "NPO\n",
      "4DN\n",
      "AZ\n",
      "NPO\n",
      "HGNCUNIPROT\n",
      "ERCCREG\n",
      "MW\n",
      "KF\n",
      "HGNCHPO\n",
      "GTEXEXP\n",
      "HGNCUNIPROT\n",
      "4DN\n",
      "PROTEOFORM\n"
     ]
    }
   ],
   "source": [
    "pattern = \"out/sab/(?P<SAB>.*)\\.(?P<node_type>.+)\\.nodes\\.csv\"\n",
    "node_sabs = {}\n",
    "for filename in glob('out/sab/*.nodes.csv'):\n",
    "\tsab = re.match(pattern, filename).groupdict()['SAB']\n",
    "\tprint(sab)\n",
    "\tif sab not in node_sabs:\n",
    "\t\tnode_sabs[sab] = []\n",
    "\tnode_sabs[sab].append(filename)"
   ]
  },
  {
   "cell_type": "code",
   "execution_count": 17,
   "metadata": {},
   "outputs": [],
   "source": [
    "def ingest_edges(relation, meta, source, target, edges, limit=10000):\n",
    "\tsuccess = True\n",
    "\twith GraphDatabase.driver(os.getenv('NEO4J_URL'), auth=(os.getenv('NEO4J_USER'), os.getenv('NEO4J_PASSWORD'))) as driver:\n",
    "\t\twith driver.session(database=\"neo4j\") as session:\n",
    "\t\t\tskip = 0\n",
    "\t\t\twhile skip < len(edges):\n",
    "\t\t\t\tbatch = edges[skip: skip+limit]\n",
    "\t\t\t\ttx = session.begin_transaction()\n",
    "\t\t\t\ttry:\n",
    "\t\t\t\t\tquery = '''\n",
    "\t\t\t\t\t\tUNWIND $batch as row\n",
    "\t\t\t\t\t\tMATCH (n:%s), (m:%s)\n",
    "\t\t\t\t\t\tWHERE n.id=row.source and m.id=row.target\n",
    "\t\t\t\t\t\tCREATE (n)-[r:%s {\n",
    "\t\t\t\t\t\t\t%s\n",
    "\t\t\t\t\t\t}]->(m)\n",
    "\n",
    "\t\t\t\t\t'''%(source, target, relation, meta)\n",
    "\t\t\t\t\ttx.run(query, {\"batch\": batch})\n",
    "\t\t\t\t\tskip += limit\n",
    "\t\t\t\t\ttx.commit()\n",
    "\t\t\t\texcept Exception as e:\n",
    "\t\t\t\t\tprint(\"Error rolling back...\")\n",
    "\t\t\t\t\tprint(\"Exception\", e)\n",
    "\t\t\t\t\ttx.rollback()\n",
    "\t\t\t\t\tsuccess = False\n",
    "\t\t\t\t\tbreak\n",
    "\t\t\t\tfinally:\n",
    "\t\t\t\t\ttx.close()\n",
    "\t\t\telse:\n",
    "\t\t\t\tsuccess = True\t\t\t\n",
    "\treturn success"
   ]
  },
  {
   "cell_type": "code",
   "execution_count": 18,
   "metadata": {},
   "outputs": [],
   "source": [
    "import csv"
   ]
  },
  {
   "cell_type": "code",
   "execution_count": 19,
   "metadata": {},
   "outputs": [
    {
     "name": "stdout",
     "output_type": "stream",
     "text": [
      "IDGD\n",
      "Compound `Disease or Phenotype`\n",
      "Ingesting 7287 indication relation of IDGD\n",
      "HGNCHPO\n",
      "Gene `Disease or Phenotype`\n",
      "Ingesting 657199 associated_with relation of HGNCHPO\n",
      "GLYCANS\n",
      "Glycosylation|`Glycosyltransferase Reaction`|Glytoucan|`GlyGen Residue` Protein|`GlyGen src`|`GlyGen Glycosequence`|Glycosylation|`Glycosyltransferase Reaction`|`Glycan Motif`|`GlyGen Residue`\n",
      "Ingesting 182 has_enzyme_protein relation of GLYCANS\n",
      "Glycosylation|`Glycosyltransferase Reaction`|Glytoucan|`GlyGen Residue` Protein|`GlyGen src`|`GlyGen Glycosequence`|Glycosylation|`Glycosyltransferase Reaction`|`Glycan Motif`|`GlyGen Residue`\n",
      "Ingesting 30986 is_from_source relation of GLYCANS\n",
      "Glycosylation|`Glycosyltransferase Reaction`|Glytoucan|`GlyGen Residue` Protein|`GlyGen src`|`GlyGen Glycosequence`|Glycosylation|`Glycosyltransferase Reaction`|`Glycan Motif`|`GlyGen Residue`\n",
      "Ingesting 117146 has_glycosequence relation of GLYCANS\n",
      "Glycosylation|`Glycosyltransferase Reaction`|Glytoucan|`GlyGen Residue` Protein|`GlyGen src`|`GlyGen Glycosequence`|Glycosylation|`Glycosyltransferase Reaction`|`Glycan Motif`|`GlyGen Residue`\n",
      "Ingesting 349 attached_by relation of GLYCANS\n",
      "Glycosylation|`Glycosyltransferase Reaction`|Glytoucan|`GlyGen Residue` Protein|`GlyGen src`|`GlyGen Glycosequence`|Glycosylation|`Glycosyltransferase Reaction`|`Glycan Motif`|`GlyGen Residue`\n",
      "Ingesting 210563 synthesized_by relation of GLYCANS\n",
      "Glycosylation|`Glycosyltransferase Reaction`|Glytoucan|`GlyGen Residue` Protein|`GlyGen src`|`GlyGen Glycosequence`|Glycosylation|`Glycosyltransferase Reaction`|`Glycan Motif`|`GlyGen Residue`\n",
      "Ingesting 19321 has_motif relation of GLYCANS\n",
      "Glycosylation|`Glycosyltransferase Reaction`|Glytoucan|`GlyGen Residue` Protein|`GlyGen src`|`GlyGen Glycosequence`|Glycosylation|`Glycosyltransferase Reaction`|`Glycan Motif`|`GlyGen Residue`\n",
      "Ingesting 86033 has_canonical_residue relation of GLYCANS\n",
      "Glycosylation|`Glycosyltransferase Reaction`|Glytoucan|`GlyGen Residue` Protein|`GlyGen src`|`GlyGen Glycosequence`|Glycosylation|`Glycosyltransferase Reaction`|`Glycan Motif`|`GlyGen Residue`\n",
      "Ingesting 79 has_parent relation of GLYCANS\n",
      "KF\n",
      "KFPT|KFGENEBIN KFCOHORT|`Disease or Phenotype`|Gene\n",
      "Ingesting 18704 belongs_to_cohort relation of KF\n",
      "KFPT|KFGENEBIN KFCOHORT|`Disease or Phenotype`|Gene\n",
      "Ingesting 44611 has_phenotype relation of KF\n",
      "KFPT|KFGENEBIN KFCOHORT|`Disease or Phenotype`|Gene\n",
      "Ingesting 13375 gene_has_variants relation of KF\n",
      "GTEXEQTL\n",
      "GTEXEQTL Gene|Anatomy|HSCLO|GTEXPVALUEBIN\n",
      "Ingesting 4522828 located_in relation of GTEXEQTL\n",
      "GTEXEQTL Gene|Anatomy|HSCLO|GTEXPVALUEBIN\n",
      "Ingesting 1251403 p_value relation of GTEXEQTL\n",
      "MOTRPAC\n",
      "MOTRPAC Gene|Anatomy|Sex\n",
      "Ingesting 8570 associated_with relation of MOTRPAC\n",
      "MOTRPAC Gene|Anatomy|Sex\n",
      "Ingesting 8571 located_in relation of MOTRPAC\n",
      "MOTRPAC Gene|Anatomy|Sex\n",
      "Ingesting 8571 sex relation of MOTRPAC\n",
      "IDGP\n",
      "Compound Protein\n",
      "Ingesting 428636 bioactivity relation of IDGP\n",
      "ERCCREG\n",
      "Anatomy|`ENCODE CCRE`|`Regulatory Element Activity`|`CLINGEN ALLELE REGISTRY`|GTEXEQTL `Regulatory Element Activity`|Gene|`ENCODE CCRE Data Matrix`|`ENCODE CCRE`|GTEXEQTL\n",
      "Ingesting 4925800 part_of relation of ERCCREG\n",
      "Anatomy|`ENCODE CCRE`|`Regulatory Element Activity`|`CLINGEN ALLELE REGISTRY`|GTEXEQTL `Regulatory Element Activity`|Gene|`ENCODE CCRE Data Matrix`|`ENCODE CCRE`|GTEXEQTL\n",
      "Ingesting 4804247 regulates relation of ERCCREG\n"
     ]
    },
    {
     "name": "stderr",
     "output_type": "stream",
     "text": [
      "Failed to read from defunct connection IPv4Address(('localhost', 7687)) (ResolvedIPv6Address(('::1', 7687, 0, 0)))\n"
     ]
    },
    {
     "name": "stdout",
     "output_type": "stream",
     "text": [
      "Error rolling back...\n",
      "Exception Failed to read from defunct connection IPv4Address(('localhost', 7687)) (ResolvedIPv6Address(('::1', 7687, 0, 0)))\n",
      "4DN\n",
      "`4DN Dataset`|`4DN File`|`4DN Loop` Assay|Anatomy|`4DN File`|`4DN Loop`|HSCLO|`4DN QVal Bin`\n",
      "Ingesting 24 has_assay_type relation of 4DN\n"
     ]
    },
    {
     "ename": "ServiceUnavailable",
     "evalue": "Couldn't connect to localhost:7687 (resolved to ()):\nFailed to establish connection to ResolvedIPv6Address(('::1', 7687, 0, 0)) (reason [Errno 61] Connection refused)\nFailed to establish connection to ResolvedIPv4Address(('127.0.0.1', 7687)) (reason [Errno 61] Connection refused)",
     "output_type": "error",
     "traceback": [
      "\u001b[0;31m---------------------------------------------------------------------------\u001b[0m",
      "\u001b[0;31mConnectionRefusedError\u001b[0m                    Traceback (most recent call last)",
      "File \u001b[0;32m~/Documents/codebase/DataDistillery/venv/lib/python3.10/site-packages/neo4j/_async_compat/network/_bolt_socket.py:528\u001b[0m, in \u001b[0;36mBoltSocket._connect\u001b[0;34m(cls, resolved_address, timeout, keep_alive)\u001b[0m\n\u001b[1;32m    527\u001b[0m log\u001b[38;5;241m.\u001b[39mdebug(\u001b[38;5;124m\"\u001b[39m\u001b[38;5;124m[#0000]  C: <OPEN> \u001b[39m\u001b[38;5;132;01m%s\u001b[39;00m\u001b[38;5;124m\"\u001b[39m, resolved_address)\n\u001b[0;32m--> 528\u001b[0m \u001b[43ms\u001b[49m\u001b[38;5;241;43m.\u001b[39;49m\u001b[43mconnect\u001b[49m\u001b[43m(\u001b[49m\u001b[43mresolved_address\u001b[49m\u001b[43m)\u001b[49m\n\u001b[1;32m    529\u001b[0m s\u001b[38;5;241m.\u001b[39msettimeout(t)\n",
      "\u001b[0;31mConnectionRefusedError\u001b[0m: [Errno 61] Connection refused",
      "\nThe above exception was the direct cause of the following exception:\n",
      "\u001b[0;31mServiceUnavailable\u001b[0m                        Traceback (most recent call last)",
      "File \u001b[0;32m~/Documents/codebase/DataDistillery/venv/lib/python3.10/site-packages/neo4j/_async_compat/network/_bolt_socket.py:690\u001b[0m, in \u001b[0;36mBoltSocket.connect\u001b[0;34m(cls, address, tcp_timeout, deadline, custom_resolver, ssl_context, keep_alive)\u001b[0m\n\u001b[1;32m    689\u001b[0m \u001b[38;5;28;01mtry\u001b[39;00m:\n\u001b[0;32m--> 690\u001b[0m     s \u001b[38;5;241m=\u001b[39m \u001b[43mBoltSocket\u001b[49m\u001b[38;5;241;43m.\u001b[39;49m\u001b[43m_connect\u001b[49m\u001b[43m(\u001b[49m\u001b[43mresolved_address\u001b[49m\u001b[43m,\u001b[49m\u001b[43m \u001b[49m\u001b[43mtcp_timeout\u001b[49m\u001b[43m,\u001b[49m\n\u001b[1;32m    691\u001b[0m \u001b[43m                            \u001b[49m\u001b[43mkeep_alive\u001b[49m\u001b[43m)\u001b[49m\n\u001b[1;32m    692\u001b[0m     s \u001b[38;5;241m=\u001b[39m BoltSocket\u001b[38;5;241m.\u001b[39m_secure(s, resolved_address\u001b[38;5;241m.\u001b[39m_host_name,\n\u001b[1;32m    693\u001b[0m                            ssl_context)\n",
      "File \u001b[0;32m~/Documents/codebase/DataDistillery/venv/lib/python3.10/site-packages/neo4j/_async_compat/network/_bolt_socket.py:546\u001b[0m, in \u001b[0;36mBoltSocket._connect\u001b[0;34m(cls, resolved_address, timeout, keep_alive)\u001b[0m\n\u001b[1;32m    545\u001b[0m \u001b[38;5;28;01mif\u001b[39;00m \u001b[38;5;28misinstance\u001b[39m(error, \u001b[38;5;167;01mOSError\u001b[39;00m):\n\u001b[0;32m--> 546\u001b[0m     \u001b[38;5;28;01mraise\u001b[39;00m ServiceUnavailable(\n\u001b[1;32m    547\u001b[0m         \u001b[38;5;124m\"\u001b[39m\u001b[38;5;124mFailed to establish connection to \u001b[39m\u001b[38;5;132;01m{!r}\u001b[39;00m\u001b[38;5;124m (reason \u001b[39m\u001b[38;5;132;01m{}\u001b[39;00m\u001b[38;5;124m)\u001b[39m\u001b[38;5;124m\"\u001b[39m\n\u001b[1;32m    548\u001b[0m         \u001b[38;5;241m.\u001b[39mformat(resolved_address, error)\n\u001b[1;32m    549\u001b[0m     ) \u001b[38;5;28;01mfrom\u001b[39;00m \u001b[38;5;21;01merror\u001b[39;00m\n\u001b[1;32m    550\u001b[0m \u001b[38;5;28;01mraise\u001b[39;00m\n",
      "\u001b[0;31mServiceUnavailable\u001b[0m: Failed to establish connection to ResolvedIPv6Address(('::1', 7687, 0, 0)) (reason [Errno 61] Connection refused)",
      "\nThe above exception was the direct cause of the following exception:\n",
      "\u001b[0;31mServiceUnavailable\u001b[0m                        Traceback (most recent call last)",
      "Cell \u001b[0;32mIn[19], line 41\u001b[0m\n\u001b[1;32m     39\u001b[0m \u001b[38;5;28mprint\u001b[39m(\u001b[38;5;124m\"\u001b[39m\u001b[38;5;124mIngesting \u001b[39m\u001b[38;5;132;01m%d\u001b[39;00m\u001b[38;5;124m \u001b[39m\u001b[38;5;132;01m%s\u001b[39;00m\u001b[38;5;124m relation of \u001b[39m\u001b[38;5;132;01m%s\u001b[39;00m\u001b[38;5;124m\"\u001b[39m\u001b[38;5;241m%\u001b[39m(\u001b[38;5;28mlen\u001b[39m(edges), relation, sab))\n\u001b[1;32m     40\u001b[0m meta \u001b[38;5;241m=\u001b[39m \u001b[38;5;124m\"\u001b[39m\u001b[38;5;124m,\u001b[39m\u001b[38;5;130;01m\\n\u001b[39;00m\u001b[38;5;124m\"\u001b[39m\u001b[38;5;241m.\u001b[39mjoin(meta)\n\u001b[0;32m---> 41\u001b[0m success \u001b[38;5;241m=\u001b[39m \u001b[43mingest_edges\u001b[49m\u001b[43m(\u001b[49m\u001b[43mrelation\u001b[49m\u001b[43m,\u001b[49m\u001b[43m \u001b[49m\u001b[43mmeta\u001b[49m\u001b[43m,\u001b[49m\u001b[43m \u001b[49m\u001b[43msource_type\u001b[49m\u001b[43m,\u001b[49m\u001b[43m \u001b[49m\u001b[43mtarget_type\u001b[49m\u001b[43m,\u001b[49m\u001b[43m \u001b[49m\u001b[43medges\u001b[49m\u001b[43m)\u001b[49m\n\u001b[1;32m     42\u001b[0m \u001b[38;5;28;01mif\u001b[39;00m \u001b[38;5;129;01mnot\u001b[39;00m success:\n\u001b[1;32m     43\u001b[0m \t\u001b[38;5;28;01mbreak\u001b[39;00m\n",
      "Cell \u001b[0;32mIn[17], line 8\u001b[0m, in \u001b[0;36mingest_edges\u001b[0;34m(relation, meta, source, target, edges, limit)\u001b[0m\n\u001b[1;32m      6\u001b[0m \u001b[38;5;28;01mwhile\u001b[39;00m skip \u001b[38;5;241m<\u001b[39m \u001b[38;5;28mlen\u001b[39m(edges):\n\u001b[1;32m      7\u001b[0m \tbatch \u001b[38;5;241m=\u001b[39m edges[skip: skip\u001b[38;5;241m+\u001b[39mlimit]\n\u001b[0;32m----> 8\u001b[0m \ttx \u001b[38;5;241m=\u001b[39m \u001b[43msession\u001b[49m\u001b[38;5;241;43m.\u001b[39;49m\u001b[43mbegin_transaction\u001b[49m\u001b[43m(\u001b[49m\u001b[43m)\u001b[49m\n\u001b[1;32m      9\u001b[0m \t\u001b[38;5;28;01mtry\u001b[39;00m:\n\u001b[1;32m     10\u001b[0m \t\tquery \u001b[38;5;241m=\u001b[39m \u001b[38;5;124m'''\u001b[39m\n\u001b[1;32m     11\u001b[0m \u001b[38;5;124m\t\t\tUNWIND $batch as row\u001b[39m\n\u001b[1;32m     12\u001b[0m \u001b[38;5;124m\t\t\tMATCH (n:\u001b[39m\u001b[38;5;132;01m%s\u001b[39;00m\u001b[38;5;124m), (m:\u001b[39m\u001b[38;5;132;01m%s\u001b[39;00m\u001b[38;5;124m)\u001b[39m\n\u001b[0;32m   (...)\u001b[0m\n\u001b[1;32m     17\u001b[0m \n\u001b[1;32m     18\u001b[0m \u001b[38;5;124m\t\t\u001b[39m\u001b[38;5;124m'''\u001b[39m\u001b[38;5;241m%\u001b[39m(source, target, relation, meta)\n",
      "File \u001b[0;32m~/Documents/codebase/DataDistillery/venv/lib/python3.10/site-packages/neo4j/_sync/work/session.py:501\u001b[0m, in \u001b[0;36mSession.begin_transaction\u001b[0;34m(self, metadata, timeout)\u001b[0m\n\u001b[1;32m    496\u001b[0m \u001b[38;5;28;01mif\u001b[39;00m \u001b[38;5;28mself\u001b[39m\u001b[38;5;241m.\u001b[39m_transaction:\n\u001b[1;32m    497\u001b[0m     \u001b[38;5;28;01mraise\u001b[39;00m TransactionError(\n\u001b[1;32m    498\u001b[0m         \u001b[38;5;28mself\u001b[39m\u001b[38;5;241m.\u001b[39m_transaction, \u001b[38;5;124m\"\u001b[39m\u001b[38;5;124mExplicit transaction already open\u001b[39m\u001b[38;5;124m\"\u001b[39m\n\u001b[1;32m    499\u001b[0m     )\n\u001b[0;32m--> 501\u001b[0m \u001b[38;5;28;43mself\u001b[39;49m\u001b[38;5;241;43m.\u001b[39;49m\u001b[43m_open_transaction\u001b[49m\u001b[43m(\u001b[49m\n\u001b[1;32m    502\u001b[0m \u001b[43m    \u001b[49m\u001b[43mtx_cls\u001b[49m\u001b[38;5;241;43m=\u001b[39;49m\u001b[43mTransaction\u001b[49m\u001b[43m,\u001b[49m\u001b[43m \u001b[49m\u001b[43mapi\u001b[49m\u001b[38;5;241;43m=\u001b[39;49m\u001b[43mTelemetryAPI\u001b[49m\u001b[38;5;241;43m.\u001b[39;49m\u001b[43mTX\u001b[49m\u001b[43m,\u001b[49m\n\u001b[1;32m    503\u001b[0m \u001b[43m    \u001b[49m\u001b[43maccess_mode\u001b[49m\u001b[38;5;241;43m=\u001b[39;49m\u001b[38;5;28;43mself\u001b[39;49m\u001b[38;5;241;43m.\u001b[39;49m\u001b[43m_config\u001b[49m\u001b[38;5;241;43m.\u001b[39;49m\u001b[43mdefault_access_mode\u001b[49m\u001b[43m,\u001b[49m\u001b[43m \u001b[49m\u001b[43mmetadata\u001b[49m\u001b[38;5;241;43m=\u001b[39;49m\u001b[43mmetadata\u001b[49m\u001b[43m,\u001b[49m\n\u001b[1;32m    504\u001b[0m \u001b[43m    \u001b[49m\u001b[43mtimeout\u001b[49m\u001b[38;5;241;43m=\u001b[39;49m\u001b[43mtimeout\u001b[49m\n\u001b[1;32m    505\u001b[0m \u001b[43m\u001b[49m\u001b[43m)\u001b[49m\n\u001b[1;32m    507\u001b[0m \u001b[38;5;28;01mreturn\u001b[39;00m t\u001b[38;5;241m.\u001b[39mcast(Transaction, \u001b[38;5;28mself\u001b[39m\u001b[38;5;241m.\u001b[39m_transaction)\n",
      "File \u001b[0;32m~/Documents/codebase/DataDistillery/venv/lib/python3.10/site-packages/neo4j/_sync/work/session.py:423\u001b[0m, in \u001b[0;36mSession._open_transaction\u001b[0;34m(self, tx_cls, access_mode, api, metadata, timeout, api_success_cb)\u001b[0m\n\u001b[1;32m    412\u001b[0m \u001b[38;5;28;01mdef\u001b[39;00m \u001b[38;5;21m_open_transaction\u001b[39m(\n\u001b[1;32m    413\u001b[0m     \u001b[38;5;28mself\u001b[39m,\n\u001b[1;32m    414\u001b[0m     \u001b[38;5;241m*\u001b[39m,\n\u001b[0;32m   (...)\u001b[0m\n\u001b[1;32m    421\u001b[0m     api_success_cb: t\u001b[38;5;241m.\u001b[39mOptional[t\u001b[38;5;241m.\u001b[39mCallable[[\u001b[38;5;28mdict\u001b[39m], \u001b[38;5;28;01mNone\u001b[39;00m]] \u001b[38;5;241m=\u001b[39m \u001b[38;5;28;01mNone\u001b[39;00m,\n\u001b[1;32m    422\u001b[0m ) \u001b[38;5;241m-\u001b[39m\u001b[38;5;241m>\u001b[39m \u001b[38;5;28;01mNone\u001b[39;00m:\n\u001b[0;32m--> 423\u001b[0m     \u001b[38;5;28;43mself\u001b[39;49m\u001b[38;5;241;43m.\u001b[39;49m\u001b[43m_connect\u001b[49m\u001b[43m(\u001b[49m\u001b[43maccess_mode\u001b[49m\u001b[38;5;241;43m=\u001b[39;49m\u001b[43maccess_mode\u001b[49m\u001b[43m)\u001b[49m\n\u001b[1;32m    424\u001b[0m     \u001b[38;5;28;01massert\u001b[39;00m \u001b[38;5;28mself\u001b[39m\u001b[38;5;241m.\u001b[39m_connection \u001b[38;5;129;01mis\u001b[39;00m \u001b[38;5;129;01mnot\u001b[39;00m \u001b[38;5;28;01mNone\u001b[39;00m\n\u001b[1;32m    425\u001b[0m     \u001b[38;5;28;01mif\u001b[39;00m api \u001b[38;5;129;01mis\u001b[39;00m \u001b[38;5;129;01mnot\u001b[39;00m \u001b[38;5;28;01mNone\u001b[39;00m:\n",
      "File \u001b[0;32m~/Documents/codebase/DataDistillery/venv/lib/python3.10/site-packages/neo4j/_sync/work/session.py:130\u001b[0m, in \u001b[0;36mSession._connect\u001b[0;34m(self, access_mode, **acquire_kwargs)\u001b[0m\n\u001b[1;32m    128\u001b[0m     access_mode \u001b[38;5;241m=\u001b[39m \u001b[38;5;28mself\u001b[39m\u001b[38;5;241m.\u001b[39m_config\u001b[38;5;241m.\u001b[39mdefault_access_mode\n\u001b[1;32m    129\u001b[0m \u001b[38;5;28;01mtry\u001b[39;00m:\n\u001b[0;32m--> 130\u001b[0m     \u001b[38;5;28;43msuper\u001b[39;49m\u001b[43m(\u001b[49m\u001b[43m)\u001b[49m\u001b[38;5;241;43m.\u001b[39;49m\u001b[43m_connect\u001b[49m\u001b[43m(\u001b[49m\n\u001b[1;32m    131\u001b[0m \u001b[43m        \u001b[49m\u001b[43maccess_mode\u001b[49m\u001b[43m,\u001b[49m\u001b[43m \u001b[49m\u001b[43mauth\u001b[49m\u001b[38;5;241;43m=\u001b[39;49m\u001b[38;5;28;43mself\u001b[39;49m\u001b[38;5;241;43m.\u001b[39;49m\u001b[43m_config\u001b[49m\u001b[38;5;241;43m.\u001b[39;49m\u001b[43mauth\u001b[49m\u001b[43m,\u001b[49m\u001b[43m \u001b[49m\u001b[38;5;241;43m*\u001b[39;49m\u001b[38;5;241;43m*\u001b[39;49m\u001b[43macquire_kwargs\u001b[49m\n\u001b[1;32m    132\u001b[0m \u001b[43m    \u001b[49m\u001b[43m)\u001b[49m\n\u001b[1;32m    133\u001b[0m \u001b[38;5;28;01mexcept\u001b[39;00m asyncio\u001b[38;5;241m.\u001b[39mCancelledError:\n\u001b[1;32m    134\u001b[0m     \u001b[38;5;28mself\u001b[39m\u001b[38;5;241m.\u001b[39m_handle_cancellation(message\u001b[38;5;241m=\u001b[39m\u001b[38;5;124m\"\u001b[39m\u001b[38;5;124m_connect\u001b[39m\u001b[38;5;124m\"\u001b[39m)\n",
      "File \u001b[0;32m~/Documents/codebase/DataDistillery/venv/lib/python3.10/site-packages/neo4j/_sync/work/workspace.py:182\u001b[0m, in \u001b[0;36mWorkspace._connect\u001b[0;34m(self, access_mode, auth, **acquire_kwargs)\u001b[0m\n\u001b[1;32m    173\u001b[0m acquire_kwargs_ \u001b[38;5;241m=\u001b[39m {\n\u001b[1;32m    174\u001b[0m     \u001b[38;5;124m\"\u001b[39m\u001b[38;5;124maccess_mode\u001b[39m\u001b[38;5;124m\"\u001b[39m: access_mode,\n\u001b[1;32m    175\u001b[0m     \u001b[38;5;124m\"\u001b[39m\u001b[38;5;124mtimeout\u001b[39m\u001b[38;5;124m\"\u001b[39m: acquisition_timeout,\n\u001b[0;32m   (...)\u001b[0m\n\u001b[1;32m    179\u001b[0m     \u001b[38;5;124m\"\u001b[39m\u001b[38;5;124mliveness_check_timeout\u001b[39m\u001b[38;5;124m\"\u001b[39m: \u001b[38;5;28;01mNone\u001b[39;00m,\n\u001b[1;32m    180\u001b[0m }\n\u001b[1;32m    181\u001b[0m acquire_kwargs_\u001b[38;5;241m.\u001b[39mupdate(acquire_kwargs)\n\u001b[0;32m--> 182\u001b[0m \u001b[38;5;28mself\u001b[39m\u001b[38;5;241m.\u001b[39m_connection \u001b[38;5;241m=\u001b[39m \u001b[38;5;28;43mself\u001b[39;49m\u001b[38;5;241;43m.\u001b[39;49m\u001b[43m_pool\u001b[49m\u001b[38;5;241;43m.\u001b[39;49m\u001b[43macquire\u001b[49m\u001b[43m(\u001b[49m\u001b[38;5;241;43m*\u001b[39;49m\u001b[38;5;241;43m*\u001b[39;49m\u001b[43macquire_kwargs_\u001b[49m\u001b[43m)\u001b[49m\n\u001b[1;32m    183\u001b[0m \u001b[38;5;28mself\u001b[39m\u001b[38;5;241m.\u001b[39m_connection_access_mode \u001b[38;5;241m=\u001b[39m access_mode\n",
      "File \u001b[0;32m~/Documents/codebase/DataDistillery/venv/lib/python3.10/site-packages/neo4j/_sync/io/_pool.py:526\u001b[0m, in \u001b[0;36mBoltPool.acquire\u001b[0;34m(self, access_mode, timeout, database, bookmarks, auth, liveness_check_timeout)\u001b[0m\n\u001b[1;32m    523\u001b[0m log\u001b[38;5;241m.\u001b[39mdebug(\u001b[38;5;124m\"\u001b[39m\u001b[38;5;124m[#0000]  _: <POOL> acquire direct connection, \u001b[39m\u001b[38;5;124m\"\u001b[39m\n\u001b[1;32m    524\u001b[0m           \u001b[38;5;124m\"\u001b[39m\u001b[38;5;124maccess_mode=\u001b[39m\u001b[38;5;132;01m%r\u001b[39;00m\u001b[38;5;124m, database=\u001b[39m\u001b[38;5;132;01m%r\u001b[39;00m\u001b[38;5;124m\"\u001b[39m, access_mode, database)\n\u001b[1;32m    525\u001b[0m deadline \u001b[38;5;241m=\u001b[39m Deadline\u001b[38;5;241m.\u001b[39mfrom_timeout_or_deadline(timeout)\n\u001b[0;32m--> 526\u001b[0m \u001b[38;5;28;01mreturn\u001b[39;00m \u001b[38;5;28;43mself\u001b[39;49m\u001b[38;5;241;43m.\u001b[39;49m\u001b[43m_acquire\u001b[49m\u001b[43m(\u001b[49m\n\u001b[1;32m    527\u001b[0m \u001b[43m    \u001b[49m\u001b[38;5;28;43mself\u001b[39;49m\u001b[38;5;241;43m.\u001b[39;49m\u001b[43maddress\u001b[49m\u001b[43m,\u001b[49m\u001b[43m \u001b[49m\u001b[43mauth\u001b[49m\u001b[43m,\u001b[49m\u001b[43m \u001b[49m\u001b[43mdeadline\u001b[49m\u001b[43m,\u001b[49m\u001b[43m \u001b[49m\u001b[43mliveness_check_timeout\u001b[49m\n\u001b[1;32m    528\u001b[0m \u001b[43m\u001b[49m\u001b[43m)\u001b[49m\n",
      "File \u001b[0;32m~/Documents/codebase/DataDistillery/venv/lib/python3.10/site-packages/neo4j/_sync/io/_pool.py:313\u001b[0m, in \u001b[0;36mIOPool._acquire\u001b[0;34m(self, address, auth, deadline, liveness_check_timeout)\u001b[0m\n\u001b[1;32m    308\u001b[0m             \u001b[38;5;28;01mraise\u001b[39;00m ClientError(\n\u001b[1;32m    309\u001b[0m                 \u001b[38;5;124m\"\u001b[39m\u001b[38;5;124mfailed to obtain a connection from the pool within \u001b[39m\u001b[38;5;124m\"\u001b[39m\n\u001b[1;32m    310\u001b[0m                 \u001b[38;5;124m\"\u001b[39m\u001b[38;5;132;01m{!r}\u001b[39;00m\u001b[38;5;124ms (timeout)\u001b[39m\u001b[38;5;124m\"\u001b[39m\u001b[38;5;241m.\u001b[39mformat(deadline\u001b[38;5;241m.\u001b[39moriginal_timeout)\n\u001b[1;32m    311\u001b[0m             )\n\u001b[1;32m    312\u001b[0m log\u001b[38;5;241m.\u001b[39mdebug(\u001b[38;5;124m\"\u001b[39m\u001b[38;5;124m[#0000]  _: <POOL> trying to hand out new connection\u001b[39m\u001b[38;5;124m\"\u001b[39m)\n\u001b[0;32m--> 313\u001b[0m \u001b[38;5;28;01mreturn\u001b[39;00m \u001b[43mconnection_creator\u001b[49m\u001b[43m(\u001b[49m\u001b[43m)\u001b[49m\n",
      "File \u001b[0;32m~/Documents/codebase/DataDistillery/venv/lib/python3.10/site-packages/neo4j/_sync/io/_pool.py:163\u001b[0m, in \u001b[0;36mIOPool._acquire_new_later.<locals>.connection_creator\u001b[0;34m()\u001b[0m\n\u001b[1;32m    161\u001b[0m \u001b[38;5;28;01mtry\u001b[39;00m:\n\u001b[1;32m    162\u001b[0m     \u001b[38;5;28;01mtry\u001b[39;00m:\n\u001b[0;32m--> 163\u001b[0m         connection \u001b[38;5;241m=\u001b[39m \u001b[38;5;28;43mself\u001b[39;49m\u001b[38;5;241;43m.\u001b[39;49m\u001b[43mopener\u001b[49m\u001b[43m(\u001b[49m\n\u001b[1;32m    164\u001b[0m \u001b[43m            \u001b[49m\u001b[43maddress\u001b[49m\u001b[43m,\u001b[49m\u001b[43m \u001b[49m\u001b[43mauth\u001b[49m\u001b[43m \u001b[49m\u001b[38;5;129;43;01mor\u001b[39;49;00m\u001b[43m \u001b[49m\u001b[38;5;28;43mself\u001b[39;49m\u001b[38;5;241;43m.\u001b[39;49m\u001b[43mpool_config\u001b[49m\u001b[38;5;241;43m.\u001b[39;49m\u001b[43mauth\u001b[49m\u001b[43m,\u001b[49m\u001b[43m \u001b[49m\u001b[43mdeadline\u001b[49m\n\u001b[1;32m    165\u001b[0m \u001b[43m        \u001b[49m\u001b[43m)\u001b[49m\n\u001b[1;32m    166\u001b[0m     \u001b[38;5;28;01mexcept\u001b[39;00m ServiceUnavailable:\n\u001b[1;32m    167\u001b[0m         \u001b[38;5;28mself\u001b[39m\u001b[38;5;241m.\u001b[39mdeactivate(address)\n",
      "File \u001b[0;32m~/Documents/codebase/DataDistillery/venv/lib/python3.10/site-packages/neo4j/_sync/io/_pool.py:500\u001b[0m, in \u001b[0;36mBoltPool.open.<locals>.opener\u001b[0;34m(addr, auth_manager, deadline)\u001b[0m\n\u001b[1;32m    499\u001b[0m \u001b[38;5;28;01mdef\u001b[39;00m \u001b[38;5;21mopener\u001b[39m(addr, auth_manager, deadline):\n\u001b[0;32m--> 500\u001b[0m     \u001b[38;5;28;01mreturn\u001b[39;00m \u001b[43mBolt\u001b[49m\u001b[38;5;241;43m.\u001b[39;49m\u001b[43mopen\u001b[49m\u001b[43m(\u001b[49m\n\u001b[1;32m    501\u001b[0m \u001b[43m        \u001b[49m\u001b[43maddr\u001b[49m\u001b[43m,\u001b[49m\u001b[43m \u001b[49m\u001b[43mauth_manager\u001b[49m\u001b[38;5;241;43m=\u001b[39;49m\u001b[43mauth_manager\u001b[49m\u001b[43m,\u001b[49m\u001b[43m \u001b[49m\u001b[43mdeadline\u001b[49m\u001b[38;5;241;43m=\u001b[39;49m\u001b[43mdeadline\u001b[49m\u001b[43m,\u001b[49m\n\u001b[1;32m    502\u001b[0m \u001b[43m        \u001b[49m\u001b[43mrouting_context\u001b[49m\u001b[38;5;241;43m=\u001b[39;49m\u001b[38;5;28;43;01mNone\u001b[39;49;00m\u001b[43m,\u001b[49m\u001b[43m \u001b[49m\u001b[43mpool_config\u001b[49m\u001b[38;5;241;43m=\u001b[39;49m\u001b[43mpool_config\u001b[49m\n\u001b[1;32m    503\u001b[0m \u001b[43m    \u001b[49m\u001b[43m)\u001b[49m\n",
      "File \u001b[0;32m~/Documents/codebase/DataDistillery/venv/lib/python3.10/site-packages/neo4j/_sync/io/_bolt.py:401\u001b[0m, in \u001b[0;36mBolt.open\u001b[0;34m(cls, address, auth_manager, deadline, routing_context, pool_config)\u001b[0m\n\u001b[1;32m    397\u001b[0m \u001b[38;5;28;01mif\u001b[39;00m deadline \u001b[38;5;129;01mis\u001b[39;00m \u001b[38;5;28;01mNone\u001b[39;00m:\n\u001b[1;32m    398\u001b[0m     deadline \u001b[38;5;241m=\u001b[39m Deadline(\u001b[38;5;28;01mNone\u001b[39;00m)\n\u001b[1;32m    400\u001b[0m s, protocol_version, handshake, data \u001b[38;5;241m=\u001b[39m \\\n\u001b[0;32m--> 401\u001b[0m     \u001b[43mBoltSocket\u001b[49m\u001b[38;5;241;43m.\u001b[39;49m\u001b[43mconnect\u001b[49m\u001b[43m(\u001b[49m\n\u001b[1;32m    402\u001b[0m \u001b[43m        \u001b[49m\u001b[43maddress\u001b[49m\u001b[43m,\u001b[49m\n\u001b[1;32m    403\u001b[0m \u001b[43m        \u001b[49m\u001b[43mtcp_timeout\u001b[49m\u001b[38;5;241;43m=\u001b[39;49m\u001b[43mpool_config\u001b[49m\u001b[38;5;241;43m.\u001b[39;49m\u001b[43mconnection_timeout\u001b[49m\u001b[43m,\u001b[49m\n\u001b[1;32m    404\u001b[0m \u001b[43m        \u001b[49m\u001b[43mdeadline\u001b[49m\u001b[38;5;241;43m=\u001b[39;49m\u001b[43mdeadline\u001b[49m\u001b[43m,\u001b[49m\n\u001b[1;32m    405\u001b[0m \u001b[43m        \u001b[49m\u001b[43mcustom_resolver\u001b[49m\u001b[38;5;241;43m=\u001b[39;49m\u001b[43mpool_config\u001b[49m\u001b[38;5;241;43m.\u001b[39;49m\u001b[43mresolver\u001b[49m\u001b[43m,\u001b[49m\n\u001b[1;32m    406\u001b[0m \u001b[43m        \u001b[49m\u001b[43mssl_context\u001b[49m\u001b[38;5;241;43m=\u001b[39;49m\u001b[43mpool_config\u001b[49m\u001b[38;5;241;43m.\u001b[39;49m\u001b[43mget_ssl_context\u001b[49m\u001b[43m(\u001b[49m\u001b[43m)\u001b[49m\u001b[43m,\u001b[49m\n\u001b[1;32m    407\u001b[0m \u001b[43m        \u001b[49m\u001b[43mkeep_alive\u001b[49m\u001b[38;5;241;43m=\u001b[39;49m\u001b[43mpool_config\u001b[49m\u001b[38;5;241;43m.\u001b[39;49m\u001b[43mkeep_alive\u001b[49m\u001b[43m,\u001b[49m\n\u001b[1;32m    408\u001b[0m \u001b[43m    \u001b[49m\u001b[43m)\u001b[49m\n\u001b[1;32m    410\u001b[0m pool_config\u001b[38;5;241m.\u001b[39mprotocol_version \u001b[38;5;241m=\u001b[39m protocol_version\n\u001b[1;32m    412\u001b[0m \u001b[38;5;66;03m# Carry out Bolt subclass imports locally to avoid circular dependency\u001b[39;00m\n\u001b[1;32m    413\u001b[0m \u001b[38;5;66;03m# issues.\u001b[39;00m\n",
      "File \u001b[0;32m~/Documents/codebase/DataDistillery/venv/lib/python3.10/site-packages/neo4j/_async_compat/network/_bolt_socket.py:718\u001b[0m, in \u001b[0;36mBoltSocket.connect\u001b[0;34m(cls, address, tcp_timeout, deadline, custom_resolver, ssl_context, keep_alive)\u001b[0m\n\u001b[1;32m    713\u001b[0m     \u001b[38;5;28;01mraise\u001b[39;00m ServiceUnavailable(\n\u001b[1;32m    714\u001b[0m         \u001b[38;5;124m\"\u001b[39m\u001b[38;5;124mCouldn\u001b[39m\u001b[38;5;124m'\u001b[39m\u001b[38;5;124mt connect to \u001b[39m\u001b[38;5;132;01m%s\u001b[39;00m\u001b[38;5;124m (resolved to \u001b[39m\u001b[38;5;132;01m%s\u001b[39;00m\u001b[38;5;124m)\u001b[39m\u001b[38;5;124m\"\u001b[39m \u001b[38;5;241m%\u001b[39m (\n\u001b[1;32m    715\u001b[0m             \u001b[38;5;28mstr\u001b[39m(address), \u001b[38;5;28mtuple\u001b[39m(\u001b[38;5;28mmap\u001b[39m(\u001b[38;5;28mstr\u001b[39m, resolved_addresses)))\n\u001b[1;32m    716\u001b[0m     )\n\u001b[1;32m    717\u001b[0m \u001b[38;5;28;01melse\u001b[39;00m:\n\u001b[0;32m--> 718\u001b[0m     \u001b[38;5;28;01mraise\u001b[39;00m ServiceUnavailable(\n\u001b[1;32m    719\u001b[0m         \u001b[38;5;124m\"\u001b[39m\u001b[38;5;124mCouldn\u001b[39m\u001b[38;5;124m'\u001b[39m\u001b[38;5;124mt connect to \u001b[39m\u001b[38;5;132;01m%s\u001b[39;00m\u001b[38;5;124m (resolved to \u001b[39m\u001b[38;5;132;01m%s\u001b[39;00m\u001b[38;5;124m):\u001b[39m\u001b[38;5;130;01m\\n\u001b[39;00m\u001b[38;5;132;01m%s\u001b[39;00m\u001b[38;5;124m\"\u001b[39m \u001b[38;5;241m%\u001b[39m (\n\u001b[1;32m    720\u001b[0m             \u001b[38;5;28mstr\u001b[39m(address), \u001b[38;5;28mtuple\u001b[39m(\u001b[38;5;28mmap\u001b[39m(\u001b[38;5;28mstr\u001b[39m, resolved_addresses)),\n\u001b[1;32m    721\u001b[0m             \u001b[38;5;124m\"\u001b[39m\u001b[38;5;130;01m\\n\u001b[39;00m\u001b[38;5;124m\"\u001b[39m\u001b[38;5;241m.\u001b[39mjoin(\u001b[38;5;28mmap\u001b[39m(\u001b[38;5;28mstr\u001b[39m, errors))\n\u001b[1;32m    722\u001b[0m         )\n\u001b[1;32m    723\u001b[0m     ) \u001b[38;5;28;01mfrom\u001b[39;00m \u001b[38;5;21;01merrors\u001b[39;00m[\u001b[38;5;241m0\u001b[39m]\n",
      "\u001b[0;31mServiceUnavailable\u001b[0m: Couldn't connect to localhost:7687 (resolved to ()):\nFailed to establish connection to ResolvedIPv6Address(('::1', 7687, 0, 0)) (reason [Errno 61] Connection refused)\nFailed to establish connection to ResolvedIPv4Address(('127.0.0.1', 7687)) (reason [Errno 61] Connection refused)"
     ]
    }
   ],
   "source": [
    "edge_pattern = \"out/sab/(?P<SAB>.*)\\.edges\\.csv\"\n",
    "success = True\n",
    "for filename in glob('out/sab/*.edges.csv'):\n",
    "\t# GET ID TYPES\n",
    "\tsab = re.match(edge_pattern, filename).groupdict()['SAB']\n",
    "\tprint(sab)\n",
    "\tdf = pd.read_csv(filename, index_col=0)\n",
    "\tnode_typer = {}\n",
    "\t# if sab == 'HGNCUNIPROT':\n",
    "\t# \tfor i in df.source.unique():\n",
    "\t# \t\tnode_typer[i] = 'Gene'\n",
    "\t# \tfor i in df.target.unique():\n",
    "\t# \t\tnode_typer[i] = 'Protein'\n",
    "\t# else:\n",
    "\tfor f in node_sabs[sab]:\n",
    "\t\tnode_type = re.match(pattern, f).groupdict()['node_type']\n",
    "\t\tif len(node_type.split(\" \")) > 1:\n",
    "\t\t\tnode_type = \"`%s`\"%node_type\n",
    "\t\twith open(f) as o:\n",
    "\t\t\tcsv_reader = csv.reader(o)\n",
    "\t\t\tfor row in csv_reader:\n",
    "\t\t\t\tnode_typer[row[0]] = node_type\n",
    "\tnode_typer = pd.Series(node_typer)\n",
    "\tif len(df.index) != len(set(df.index)):\n",
    "\t\tdf = df.reset_index()\n",
    "\t\tdf = df[[i for i in df.columns if i != \"index\"]]\n",
    "\t# df[\"id\"] = df.apply(lambda x: str(uuid5(NAMESPACE_URL, \"%s_%s_%s_%s\"%(x[0], x[2], x[1], x[3]))), axis=1)\n",
    "\tfor relation in df.relation.unique():\n",
    "\t\tedges = []\n",
    "\t\td = df[df.relation == relation].dropna(axis=1, how='all')\n",
    "\t\tsource_type = \"|\".join(node_typer[df.source].unique())\n",
    "\t\ttarget_type = \"|\".join(node_typer[df.target].unique())\n",
    "\t\tprint(source_type, target_type)\n",
    "\t\tmeta = []\n",
    "\t\tfor col in d.columns:\n",
    "\t\t\tif (col not in [\"source\", 'target']):\n",
    "\t\t\t\tmeta.append(\"%s:row.%s\"%(col, col))\n",
    "\t\tedges = list(d.to_dict(orient=\"index\").values())\n",
    "\t\tprint(\"Ingesting %d %s relation of %s\"%(len(edges), relation, sab))\n",
    "\t\tmeta = \",\\n\".join(meta)\n",
    "\t\tsuccess = ingest_edges(relation, meta, source_type, target_type, edges)\n",
    "\t\tif not success:\n",
    "\t\t\tbreak\n",
    "\t\tif not success:\n",
    "\t\t\t\tbreak"
   ]
  },
  {
   "cell_type": "code",
   "execution_count": null,
   "metadata": {},
   "outputs": [],
   "source": [
    "node_sabs.keys()"
   ]
  },
  {
   "cell_type": "code",
   "execution_count": null,
   "metadata": {},
   "outputs": [],
   "source": [
    "df = pd.read_csv(filename, index_col=0)\n",
    "df.head()"
   ]
  },
  {
   "cell_type": "code",
   "execution_count": null,
   "metadata": {},
   "outputs": [],
   "source": [
    "edge_pattern = \"out/sab/(?P<SAB>.*)\\.edges\\.csv\"\n",
    "success = True\n",
    "for filename in glob('out/sab/*.edges.csv'):\n",
    "\t# GET ID TYPES\n",
    "\tsab = re.match(edge_pattern, filename).groupdict()['SAB']\n",
    "\tprint(sab)\n",
    "\tnode_typer = {}\n",
    "\tfor f in node_sabs[sab]:\n",
    "\t\tnode_type = re.match(pattern, f).groupdict()['node_type']\n",
    "\t\tif len(node_type.split(\" \")) > 1:\n",
    "\t\t\tnode_type = \"`%s`\"%node_type\n",
    "\t\twith open(f) as o:\n",
    "\t\t\tcsv_reader = csv.reader(o)\n",
    "\t\t\tfor row in csv_reader:\n",
    "\t\t\t\tnode_typer[row[0]] = node_type\n",
    "\tnode_typer = pd.Series(node_typer)\n",
    "\tdf = pd.read_csv(filename, index_col=0)\n",
    "\tif len(df.index) != len(set(df.index)):\n",
    "\t\tdf = df.reset_index()\n",
    "\t\tdf = df[[i for i in df.columns if i != \"index\"]]\n",
    "\t# df[\"id\"] = df.apply(lambda x: str(uuid5(NAMESPACE_URL, \"%s_%s_%s_%s\"%(x[0], x[2], x[1], x[3]))), axis=1)\n",
    "\tfor relation in df.relation.unique():\n",
    "\t\ttry:\n",
    "\t\t\tedges = []\n",
    "\t\t\td = df[df.relation == relation].dropna(axis=1, how='all')\n",
    "\t\t\tsource_type = \"|\".join(node_typer[df.source].unique())\n",
    "\t\t\ttarget_type = \"|\".join(node_typer[df.target].unique())\n",
    "\t\t\tprint(source_type, target_type)\n",
    "\t\texcept Exception as e:\n",
    "\t\t\tprint(e)\n",
    "\t# \tmeta = []\n",
    "\t# \tfor col in d.columns:\n",
    "\t# \t\tif (col not in [\"source\", 'target']):\n",
    "\t# \t\t\tmeta.append(\"%s:row.%s\"%(col, col))\n",
    "\t# \tedges = list(d.to_dict(orient=\"index\").values())\n",
    "\t# \tprint(\"Ingesting %d %s relation of %s\"%(len(edges), relation, sab))\n",
    "\t# \tmeta = \",\\n\".join(meta)\n",
    "\t# \tsuccess = ingest_edges(relation, meta, source_type, target_type, edges)\n",
    "\t# \tif not success:\n",
    "\t# \t\tbreak\n",
    "\t# if not success:\n",
    "\t# \t\tbreak"
   ]
  },
  {
   "cell_type": "code",
   "execution_count": null,
   "metadata": {},
   "outputs": [],
   "source": [
    "total_edges = 0\n",
    "for filename in glob('out/sab/*.edges.csv'):\n",
    "\tdf = pd.read_csv(filename, index_col=0)\n",
    "\ttotal_edges += df.shape[0]\n",
    "total_edges"
   ]
  },
  {
   "cell_type": "code",
   "execution_count": null,
   "metadata": {},
   "outputs": [],
   "source": [
    "# with GraphDatabase.driver(os.getenv('NEO4J_URL'), auth=(os.getenv('NEO4J_USER'), os.getenv('NEO4J_PASSWORD'))) as driver:\n",
    "# \t\twith driver.session(database=\"neo4j\") as session:\n",
    "# \t\t\ttx = session.begin_transaction()\n",
    "# \t\t\ttry:\n",
    "# \t\t\t\ttx.run(\"CREATE CONSTRAINT distillery_unique_id_%s IF NOT EXISTS  FOR (n:%s) REQUIRE n.id IS UNIQUE\"%(name, node_type))\n",
    "# \t\t\t\ttx.run(\"CREATE INDEX distillery_index_id_%s IF NOT EXISTS  FOR (n:%s) ON (n.id)\"%(name, node_type))\n",
    "# \t\t\t\ttx.run(\"CREATE INDEX distillery_index_label_%s IF NOT EXISTS  FOR (n:%s) ON (n.label)\"%(name, node_type))\n",
    "# \t\t\t\ttx.commit()\n",
    "# \t\t\texcept Exception as e:\n",
    "# \t\t\t\tprint(e)\n",
    "# \t\t\t\ttx.rollback()\n",
    "# \t\t\tfinally:\n",
    "# \t\t\t\ttx.close()"
   ]
  },
  {
   "cell_type": "code",
   "execution_count": null,
   "metadata": {},
   "outputs": [],
   "source": [
    "with GraphDatabase.driver(os.getenv('NEO4J_URL'), auth=(os.getenv('NEO4J_USER'), os.getenv('NEO4J_PASSWORD'))) as driver:\n",
    "\t\twith driver.session(database=\"neo4j\") as session:\n",
    "\t\t\ttx = session.begin_transaction()\n",
    "\t\t\trecord = tx.run(\"MATCH (a:Gene) RETURN a LIMIT 10\")\n",
    "\t\t\tfor i in record:\n",
    "\t\t\t\ta = i['a']"
   ]
  },
  {
   "cell_type": "code",
   "execution_count": null,
   "metadata": {},
   "outputs": [],
   "source": [
    "a.items()"
   ]
  },
  {
   "cell_type": "code",
   "execution_count": null,
   "metadata": {},
   "outputs": [],
   "source": [
    "enzyme_genes = pd.read_csv('../dd_data/HGNC_genes.txt', sep=\"\\t\", index_col=0)"
   ]
  },
  {
   "cell_type": "code",
   "execution_count": null,
   "metadata": {},
   "outputs": [],
   "source": [
    "enzyme_genes.head()"
   ]
  },
  {
   "cell_type": "code",
   "execution_count": null,
   "metadata": {},
   "outputs": [],
   "source": [
    "enzyme_ids = [int(i.split(\":\")[1]) for i in enzyme_genes[~enzyme_genes['Enzyme (EC) ID'].isna()].index]\n",
    "len(enzyme_ids)"
   ]
  },
  {
   "cell_type": "code",
   "execution_count": null,
   "metadata": {},
   "outputs": [],
   "source": [
    "records = []\n",
    "with GraphDatabase.driver(os.getenv('NEO4J_URL'), auth=(os.getenv('NEO4J_USER'), os.getenv('NEO4J_PASSWORD'))) as driver:\n",
    "\twith driver.session(database=\"neo4j\") as session:\n",
    "\t\ttx = session.begin_transaction()\n",
    "\t\trecord = tx.run('''\n",
    "\t\t\tUNWIND $batch as row\n",
    "\t\t\tMATCH (a:Gene)\n",
    "\t\t\tWHERE a.HGNC = row\t\n",
    "\t\t\tRETURN a   \n",
    "\t\t''', batch=enzyme_ids)\n",
    "\t\t\n",
    "\t\tfor i in record:\n",
    "\t\t\trecords.append(i)"
   ]
  },
  {
   "cell_type": "code",
   "execution_count": null,
   "metadata": {},
   "outputs": [],
   "source": [
    "len(records)"
   ]
  },
  {
   "cell_type": "code",
   "execution_count": null,
   "metadata": {},
   "outputs": [],
   "source": [
    "recs = []\n",
    "for i in records:\n",
    "\trecs.append(i[\"a\"][\"HGNC\"])"
   ]
  },
  {
   "cell_type": "markdown",
   "metadata": {},
   "source": [
    "## Add Enzyme"
   ]
  },
  {
   "cell_type": "code",
   "execution_count": null,
   "metadata": {},
   "outputs": [],
   "source": [
    "records = []\n",
    "with GraphDatabase.driver(os.getenv('NEO4J_URL'), auth=(os.getenv('NEO4J_USER'), os.getenv('NEO4J_PASSWORD'))) as driver:\n",
    "\twith driver.session(database=\"neo4j\") as session:\n",
    "\t\ttx = session.begin_transaction()\n",
    "\t\ttx.run('''\n",
    "\t\t\tUNWIND $batch as row\n",
    "\t\t\tMATCH (a:Gene)\n",
    "\t\t\tWHERE a.HGNC = row\t\n",
    "\t\t\tset a :Enzyme\n",
    "\t\t''', batch=enzyme_ids)\n",
    "\t\ttx.commit()"
   ]
  },
  {
   "cell_type": "code",
   "execution_count": null,
   "metadata": {},
   "outputs": [],
   "source": [
    "records = []\n",
    "with GraphDatabase.driver(os.getenv('NEO4J_URL'), auth=(os.getenv('NEO4J_USER'), os.getenv('NEO4J_PASSWORD'))) as driver:\n",
    "\twith driver.session(database=\"neo4j\") as session:\n",
    "\t\ttx = session.begin_transaction()\n",
    "\t\tresults = tx.run('''\n",
    "\t\t\tMATCH (a:Enzyme)\n",
    "\t\t\treturn a\n",
    "\t\t''')\n",
    "\t\tfor i in results:\n",
    "\t\t\trecords.append(i)"
   ]
  },
  {
   "cell_type": "code",
   "execution_count": null,
   "metadata": {},
   "outputs": [],
   "source": [
    "len(records)"
   ]
  },
  {
   "cell_type": "code",
   "execution_count": null,
   "metadata": {},
   "outputs": [],
   "source": [
    "records[0]['a'].items()"
   ]
  },
  {
   "cell_type": "code",
   "execution_count": null,
   "metadata": {},
   "outputs": [],
   "source": [
    "recs = {}\n",
    "for i in records:\n",
    "\tvals = {}\n",
    "\tfor k,v in i['a'].items():\n",
    "\t\tif (k != 'id'):\n",
    "\t\t\tvals[k] = v\n",
    "\trecs[i['a']['id']] = vals"
   ]
  },
  {
   "cell_type": "code",
   "execution_count": null,
   "metadata": {},
   "outputs": [],
   "source": [
    "len(recs)"
   ]
  },
  {
   "cell_type": "code",
   "execution_count": null,
   "metadata": {},
   "outputs": [],
   "source": [
    "df = pd.DataFrame.from_dict(recs, orient=\"index\")"
   ]
  },
  {
   "cell_type": "code",
   "execution_count": null,
   "metadata": {},
   "outputs": [],
   "source": [
    "df = df[['label', 'type', 'HGNC', 'ENSEMBL', 'OMIM',  'ORDO', 'ENTREZ', 'NCI']]"
   ]
  },
  {
   "cell_type": "code",
   "execution_count": null,
   "metadata": {},
   "outputs": [],
   "source": [
    "df.to_csv('out/sab/hgnc_enzyme.Enzyme.nodes.csv')"
   ]
  },
  {
   "cell_type": "code",
   "execution_count": null,
   "metadata": {},
   "outputs": [],
   "source": [
    "mapper = []\n",
    "with open('../dd_data/idmapping_2023_08_24.tsv') as o:\n",
    "\tcsv_reader = csv.reader(o, delimiter=\"\\t\")\n",
    "\theader = True\n",
    "\tfor row in csv_reader:\n",
    "\t\tif header:\n",
    "\t\t\theader = False\n",
    "\t\telse:\n",
    "\t\t\tmapper.append({\n",
    "\t\t\t\t\"protein\": row[0],\n",
    "\t\t\t\t\"gene\": row[1]\n",
    "\t\t\t})"
   ]
  },
  {
   "cell_type": "code",
   "execution_count": null,
   "metadata": {},
   "outputs": [],
   "source": [
    "mapper[0]"
   ]
  },
  {
   "cell_type": "code",
   "execution_count": null,
   "metadata": {},
   "outputs": [],
   "source": [
    "mapper[0]"
   ]
  },
  {
   "cell_type": "code",
   "execution_count": null,
   "metadata": {},
   "outputs": [],
   "source": [
    "proteins = []\n",
    "with GraphDatabase.driver(os.getenv('NEO4J_URL'), auth=(os.getenv('NEO4J_USER'), os.getenv('NEO4J_PASSWORD'))) as driver:\n",
    "\twith driver.session(database=\"neo4j\") as session:\n",
    "\t\ttx = session.begin_transaction()\n",
    "\t\trecord = tx.run('''\n",
    "\t\t\tUNWIND $batch as row\n",
    "\t\t\tMATCH (a:Protein)\n",
    "\t\t\tWHERE a.UNIPROTKB = row.protein \n",
    "\t\t\tRETURN a   \n",
    "\t\t''', batch=mapper)\n",
    "\t\t\n",
    "\t\tfor i in record:\n",
    "\t\t\tproteins.append(i)"
   ]
  },
  {
   "cell_type": "code",
   "execution_count": null,
   "metadata": {},
   "outputs": [],
   "source": [
    "genes = []\n",
    "with GraphDatabase.driver(os.getenv('NEO4J_URL'), auth=(os.getenv('NEO4J_USER'), os.getenv('NEO4J_PASSWORD'))) as driver:\n",
    "\twith driver.session(database=\"neo4j\") as session:\n",
    "\t\ttx = session.begin_transaction()\n",
    "\t\trecord = tx.run('''\n",
    "\t\t\tUNWIND $batch as row\n",
    "\t\t\tMATCH (a:Gene)\n",
    "\t\t\tWHERE a.HGNC = row.gene \n",
    "\t\t\tRETURN a   \n",
    "\t\t''', batch=mapper)\n",
    "\t\t\n",
    "\t\tfor i in record:\n",
    "\t\t\tgenes.append(i)"
   ]
  },
  {
   "cell_type": "code",
   "execution_count": null,
   "metadata": {},
   "outputs": [],
   "source": [
    "len(proteins)"
   ]
  },
  {
   "cell_type": "code",
   "execution_count": null,
   "metadata": {},
   "outputs": [],
   "source": [
    "len(genes)"
   ]
  },
  {
   "cell_type": "code",
   "execution_count": null,
   "metadata": {},
   "outputs": [],
   "source": [
    "proteins[0]['a']['UNIPROTKB']"
   ]
  },
  {
   "cell_type": "code",
   "execution_count": null,
   "metadata": {},
   "outputs": [],
   "source": [
    "protein_id_mapper = {}\n",
    "protein_label_mapper = {}\n",
    "for i in proteins:\n",
    "\tprotein_id_mapper[i['a']['UNIPROTKB']] = i['a'][\"id\"]\n",
    "\tprotein_label_mapper[i['a']['UNIPROTKB']] = i['a'][\"label\"]"
   ]
  },
  {
   "cell_type": "code",
   "execution_count": null,
   "metadata": {},
   "outputs": [],
   "source": [
    "gene_id_mapper = {}\n",
    "gene_label_mapper = {}\n",
    "for i in genes:\n",
    "\tgene_id_mapper[i['a']['HGNC']] = i['a'][\"id\"]\n",
    "\tgene_label_mapper[i['a']['HGNC']] = i['a'][\"label\"]"
   ]
  },
  {
   "cell_type": "code",
   "execution_count": null,
   "metadata": {},
   "outputs": [],
   "source": [
    "protein_gene = pd.read_csv('../dd_data/idmapping_2023_08_24.tsv', sep=\"\\t\", index_col=0)"
   ]
  },
  {
   "cell_type": "code",
   "execution_count": null,
   "metadata": {},
   "outputs": [],
   "source": [
    "protein_gene.index.name = \"protein\"\n",
    "protein_gene.columns = [\"gene\"]"
   ]
  },
  {
   "cell_type": "code",
   "execution_count": null,
   "metadata": {},
   "outputs": [],
   "source": [
    "protein_gene_mapper = protein_gene.to_dict()[\"gene\"]"
   ]
  },
  {
   "cell_type": "code",
   "execution_count": null,
   "metadata": {},
   "outputs": [],
   "source": [
    "protein_list = []\n",
    "gene_list = []\n",
    "prot_gene = []\n",
    "for prot, protid in protein_id_mapper.items():\n",
    "\thgnc = protein_gene_mapper[prot]\n",
    "\tif hgnc in gene_id_mapper:\n",
    "\t\tprot_gene.append({\n",
    "\t\t\t\"source\": gene_id_mapper[hgnc],\n",
    "\t\t\t\"target\": protid,\n",
    "\t\t\t\"relation\": \"is_protein\",\n",
    "\t\t\t\"sab\": \"HGNCUNIPROT\"\n",
    "\t\t})\n",
    "\t\tprotein_list.append({\n",
    "\t\t\t\"id\": protid,\n",
    "\t\t\t\"label\": protein_label_mapper[prot],\n",
    "\t\t\t\"UNIPROTKB\": prot\n",
    "\t\t})\n",
    "\t\tgene_list.append({\n",
    "\t\t\t\"id\": gene_id_mapper[hgnc],\n",
    "\t\t\t\"label\": gene_label_mapper[hgnc],\n",
    "\t\t\t\"HGNC\": hgnc\n",
    "\t\t})"
   ]
  },
  {
   "cell_type": "code",
   "execution_count": null,
   "metadata": {},
   "outputs": [],
   "source": [
    "len(protein_list), len(gene_list)"
   ]
  },
  {
   "cell_type": "code",
   "execution_count": null,
   "metadata": {},
   "outputs": [],
   "source": [
    "df = pd.DataFrame.from_records(prot_gene)"
   ]
  },
  {
   "cell_type": "code",
   "execution_count": null,
   "metadata": {},
   "outputs": [],
   "source": [
    "protein_df = pd.DataFrame.from_records(protein_list)\n",
    "gene_df = pd.DataFrame.from_records(gene_list)"
   ]
  },
  {
   "cell_type": "code",
   "execution_count": null,
   "metadata": {},
   "outputs": [],
   "source": [
    "protein_df = protein_df.set_index('id')\n",
    "gene_df = gene_df.set_index('id')\n",
    "gene_df.head()"
   ]
  },
  {
   "cell_type": "code",
   "execution_count": null,
   "metadata": {},
   "outputs": [],
   "source": [
    "protein_df.to_csv(\"out/sab/HGNCUNIPROT.Protein.nodes.csv\")\n",
    "gene_df.to_csv(\"out/sab/HGNCUNIPROT.Gene.nodes.csv\")"
   ]
  },
  {
   "cell_type": "code",
   "execution_count": null,
   "metadata": {},
   "outputs": [],
   "source": [
    "df.to_csv('out/sab/HGNCUNIPROT.edges.csv')"
   ]
  },
  {
   "cell_type": "code",
   "execution_count": null,
   "metadata": {},
   "outputs": [],
   "source": []
  }
 ],
 "metadata": {
  "kernelspec": {
   "display_name": "venv",
   "language": "python",
   "name": "python3"
  },
  "language_info": {
   "codemirror_mode": {
    "name": "ipython",
    "version": 3
   },
   "file_extension": ".py",
   "mimetype": "text/x-python",
   "name": "python",
   "nbconvert_exporter": "python",
   "pygments_lexer": "ipython3",
   "version": "3.10.14"
  }
 },
 "nbformat": 4,
 "nbformat_minor": 2
}
