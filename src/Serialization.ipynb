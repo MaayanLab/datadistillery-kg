{
 "cells": [
  {
   "cell_type": "code",
   "execution_count": 202,
   "metadata": {},
   "outputs": [],
   "source": [
    "import pandas as pd\n",
    "import csv\n",
    "from tqdm import tqdm\n",
    "import os"
   ]
  },
  {
   "cell_type": "code",
   "execution_count": 203,
   "metadata": {},
   "outputs": [],
   "source": [
    "data_dir = '../dd_data/17July2024DD_csvs/'"
   ]
  },
  {
   "cell_type": "markdown",
   "metadata": {},
   "source": [
    "## Prepare Code DF"
   ]
  },
  {
   "cell_type": "code",
   "execution_count": 3,
   "metadata": {},
   "outputs": [
    {
     "name": "stderr",
     "output_type": "stream",
     "text": [
      "/var/folders/wq/7bkxhy8j7ql194c1fbby4gy40000gn/T/ipykernel_21121/2282317464.py:1: DtypeWarning: Columns (2) have mixed types. Specify dtype option on import or set low_memory=False.\n",
      "  codes = pd.read_csv(data_dir + \"CODEs.csv\", index_col=0)\n"
     ]
    }
   ],
   "source": [
    "codes = pd.read_csv(data_dir + \"CODEs.csv\", index_col=0)"
   ]
  },
  {
   "cell_type": "code",
   "execution_count": 4,
   "metadata": {},
   "outputs": [],
   "source": [
    "concept_code = pd.read_csv(data_dir + \"CUI-CODEs.csv\")\n",
    "concept_code.columns = [\"id\", \"CodeID:ID\"]"
   ]
  },
  {
   "cell_type": "code",
   "execution_count": 5,
   "metadata": {},
   "outputs": [],
   "source": [
    "concept_code = pd.merge(concept_code, codes, on=\"CodeID:ID\", how='left')\n"
   ]
  },
  {
   "cell_type": "code",
   "execution_count": 6,
   "metadata": {},
   "outputs": [],
   "source": [
    "concept_code.columns = [\"id\", \"code_id\", \"SAB\", \"CODE\", \"value:float\",\"lowerbound:float\",\"upperbound:float\",\"unit\"]"
   ]
  },
  {
   "cell_type": "code",
   "execution_count": 7,
   "metadata": {},
   "outputs": [
    {
     "data": {
      "text/html": [
       "<div>\n",
       "<style scoped>\n",
       "    .dataframe tbody tr th:only-of-type {\n",
       "        vertical-align: middle;\n",
       "    }\n",
       "\n",
       "    .dataframe tbody tr th {\n",
       "        vertical-align: top;\n",
       "    }\n",
       "\n",
       "    .dataframe thead th {\n",
       "        text-align: right;\n",
       "    }\n",
       "</style>\n",
       "<table border=\"1\" class=\"dataframe\">\n",
       "  <thead>\n",
       "    <tr style=\"text-align: right;\">\n",
       "      <th></th>\n",
       "      <th>id</th>\n",
       "      <th>code_id</th>\n",
       "      <th>SAB</th>\n",
       "      <th>CODE</th>\n",
       "      <th>value:float</th>\n",
       "      <th>lowerbound:float</th>\n",
       "      <th>upperbound:float</th>\n",
       "      <th>unit</th>\n",
       "    </tr>\n",
       "  </thead>\n",
       "  <tbody>\n",
       "    <tr>\n",
       "      <th>0</th>\n",
       "      <td>C0000039</td>\n",
       "      <td>LNC:LP15542-1</td>\n",
       "      <td>LNC</td>\n",
       "      <td>LP15542-1</td>\n",
       "      <td>NaN</td>\n",
       "      <td>NaN</td>\n",
       "      <td>NaN</td>\n",
       "      <td>NaN</td>\n",
       "    </tr>\n",
       "    <tr>\n",
       "      <th>1</th>\n",
       "      <td>C0000107</td>\n",
       "      <td>MSH:D015059</td>\n",
       "      <td>MSH</td>\n",
       "      <td>D015059</td>\n",
       "      <td>NaN</td>\n",
       "      <td>NaN</td>\n",
       "      <td>NaN</td>\n",
       "      <td>NaN</td>\n",
       "    </tr>\n",
       "    <tr>\n",
       "      <th>2</th>\n",
       "      <td>C0000119</td>\n",
       "      <td>MSH:D015062</td>\n",
       "      <td>MSH</td>\n",
       "      <td>D015062</td>\n",
       "      <td>NaN</td>\n",
       "      <td>NaN</td>\n",
       "      <td>NaN</td>\n",
       "      <td>NaN</td>\n",
       "    </tr>\n",
       "    <tr>\n",
       "      <th>3</th>\n",
       "      <td>C0000163</td>\n",
       "      <td>CSP:0059-6844</td>\n",
       "      <td>CSP</td>\n",
       "      <td>0059-6844</td>\n",
       "      <td>NaN</td>\n",
       "      <td>NaN</td>\n",
       "      <td>NaN</td>\n",
       "      <td>NaN</td>\n",
       "    </tr>\n",
       "    <tr>\n",
       "      <th>4</th>\n",
       "      <td>C0000248</td>\n",
       "      <td>LNC:MTHU027462</td>\n",
       "      <td>LNC</td>\n",
       "      <td>MTHU027462</td>\n",
       "      <td>NaN</td>\n",
       "      <td>NaN</td>\n",
       "      <td>NaN</td>\n",
       "      <td>NaN</td>\n",
       "    </tr>\n",
       "  </tbody>\n",
       "</table>\n",
       "</div>"
      ],
      "text/plain": [
       "         id         code_id  SAB        CODE  value:float  lowerbound:float  \\\n",
       "0  C0000039   LNC:LP15542-1  LNC   LP15542-1          NaN               NaN   \n",
       "1  C0000107     MSH:D015059  MSH     D015059          NaN               NaN   \n",
       "2  C0000119     MSH:D015062  MSH     D015062          NaN               NaN   \n",
       "3  C0000163   CSP:0059-6844  CSP   0059-6844          NaN               NaN   \n",
       "4  C0000248  LNC:MTHU027462  LNC  MTHU027462          NaN               NaN   \n",
       "\n",
       "   upperbound:float  unit  \n",
       "0               NaN   NaN  \n",
       "1               NaN   NaN  \n",
       "2               NaN   NaN  \n",
       "3               NaN   NaN  \n",
       "4               NaN   NaN  "
      ]
     },
     "execution_count": 7,
     "metadata": {},
     "output_type": "execute_result"
    }
   ],
   "source": [
    "concept_code.head()"
   ]
  },
  {
   "cell_type": "markdown",
   "metadata": {},
   "source": [
    "## Prepare Label DF"
   ]
  },
  {
   "cell_type": "code",
   "execution_count": 8,
   "metadata": {},
   "outputs": [
    {
     "data": {
      "text/html": [
       "<div>\n",
       "<style scoped>\n",
       "    .dataframe tbody tr th:only-of-type {\n",
       "        vertical-align: middle;\n",
       "    }\n",
       "\n",
       "    .dataframe tbody tr th {\n",
       "        vertical-align: top;\n",
       "    }\n",
       "\n",
       "    .dataframe thead th {\n",
       "        text-align: right;\n",
       "    }\n",
       "</style>\n",
       "<table border=\"1\" class=\"dataframe\">\n",
       "  <thead>\n",
       "    <tr style=\"text-align: right;\">\n",
       "      <th></th>\n",
       "      <th>label</th>\n",
       "    </tr>\n",
       "    <tr>\n",
       "      <th>id</th>\n",
       "      <th></th>\n",
       "    </tr>\n",
       "  </thead>\n",
       "  <tbody>\n",
       "    <tr>\n",
       "      <th>C0000005</th>\n",
       "      <td>(131)I-Macroaggregated Albumin</td>\n",
       "    </tr>\n",
       "    <tr>\n",
       "      <th>C0000139</th>\n",
       "      <td>16,16-Dimethylprostaglandin E2</td>\n",
       "    </tr>\n",
       "    <tr>\n",
       "      <th>C0000163</th>\n",
       "      <td>17-Hydroxycorticosteroids</td>\n",
       "    </tr>\n",
       "    <tr>\n",
       "      <th>C0000165</th>\n",
       "      <td>17-Hydroxysteroid Dehydrogenases</td>\n",
       "    </tr>\n",
       "    <tr>\n",
       "      <th>C0000190</th>\n",
       "      <td>2'-CMP</td>\n",
       "    </tr>\n",
       "  </tbody>\n",
       "</table>\n",
       "</div>"
      ],
      "text/plain": [
       "                                     label\n",
       "id                                        \n",
       "C0000005    (131)I-Macroaggregated Albumin\n",
       "C0000139    16,16-Dimethylprostaglandin E2\n",
       "C0000163         17-Hydroxycorticosteroids\n",
       "C0000165  17-Hydroxysteroid Dehydrogenases\n",
       "C0000190                            2'-CMP"
      ]
     },
     "execution_count": 8,
     "metadata": {},
     "output_type": "execute_result"
    }
   ],
   "source": [
    "labels = pd.read_csv(data_dir + \"CUI-SUIs.csv\")\n",
    "labels.columns = ['id', 'label']\n",
    "labels = labels.set_index('id')\n",
    "labels.head()"
   ]
  },
  {
   "cell_type": "code",
   "execution_count": 9,
   "metadata": {},
   "outputs": [
    {
     "data": {
      "text/html": [
       "<div>\n",
       "<style scoped>\n",
       "    .dataframe tbody tr th:only-of-type {\n",
       "        vertical-align: middle;\n",
       "    }\n",
       "\n",
       "    .dataframe tbody tr th {\n",
       "        vertical-align: top;\n",
       "    }\n",
       "\n",
       "    .dataframe thead th {\n",
       "        text-align: right;\n",
       "    }\n",
       "</style>\n",
       "<table border=\"1\" class=\"dataframe\">\n",
       "  <thead>\n",
       "    <tr style=\"text-align: right;\">\n",
       "      <th></th>\n",
       "      <th>label</th>\n",
       "      <th>id</th>\n",
       "      <th>type</th>\n",
       "      <th>cui</th>\n",
       "    </tr>\n",
       "  </thead>\n",
       "  <tbody>\n",
       "    <tr>\n",
       "      <th>0</th>\n",
       "      <td>Dipalmitoyl Phosphatidylcholine</td>\n",
       "      <td>MSH:D015060</td>\n",
       "      <td>ET</td>\n",
       "      <td>C0000039</td>\n",
       "    </tr>\n",
       "    <tr>\n",
       "      <th>1</th>\n",
       "      <td>Cyperquat</td>\n",
       "      <td>MSH:D015655</td>\n",
       "      <td>ET</td>\n",
       "      <td>C0000098</td>\n",
       "    </tr>\n",
       "    <tr>\n",
       "      <th>2</th>\n",
       "      <td>1-Sar-8-Ile Angiotensin II</td>\n",
       "      <td>MSH:D015059</td>\n",
       "      <td>ET</td>\n",
       "      <td>C0000107</td>\n",
       "    </tr>\n",
       "    <tr>\n",
       "      <th>3</th>\n",
       "      <td>SAR ILE ANGIOTENSIN 02 01 08</td>\n",
       "      <td>MSH:D015059</td>\n",
       "      <td>DSV</td>\n",
       "      <td>C0000107</td>\n",
       "    </tr>\n",
       "    <tr>\n",
       "      <th>4</th>\n",
       "      <td>RNA, 15S</td>\n",
       "      <td>MSH:D012335</td>\n",
       "      <td>PM</td>\n",
       "      <td>C0000137</td>\n",
       "    </tr>\n",
       "  </tbody>\n",
       "</table>\n",
       "</div>"
      ],
      "text/plain": [
       "                             label           id type       cui\n",
       "0  Dipalmitoyl Phosphatidylcholine  MSH:D015060   ET  C0000039\n",
       "1                        Cyperquat  MSH:D015655   ET  C0000098\n",
       "2       1-Sar-8-Ile Angiotensin II  MSH:D015059   ET  C0000107\n",
       "3     SAR ILE ANGIOTENSIN 02 01 08  MSH:D015059  DSV  C0000107\n",
       "4                         RNA, 15S  MSH:D012335   PM  C0000137"
      ]
     },
     "execution_count": 9,
     "metadata": {},
     "output_type": "execute_result"
    }
   ],
   "source": [
    "code_labels = pd.read_csv(data_dir + \"CODE-SUIs.csv\")\n",
    "code_labels.columns = [\"label\", \"id\", \"type\", \"cui\"]\n",
    "code_labels.head()"
   ]
  },
  {
   "cell_type": "code",
   "execution_count": 10,
   "metadata": {},
   "outputs": [],
   "source": [
    "code_labels = code_labels.groupby('cui').first()"
   ]
  },
  {
   "cell_type": "code",
   "execution_count": 11,
   "metadata": {},
   "outputs": [],
   "source": [
    "cl = set(code_labels.index) \n",
    "l=set(labels.index)\n",
    "missing = cl - l"
   ]
  },
  {
   "cell_type": "code",
   "execution_count": 12,
   "metadata": {},
   "outputs": [],
   "source": [
    "labels = pd.concat([labels, code_labels.loc[list(missing), [\"label\"]]])"
   ]
  },
  {
   "cell_type": "code",
   "execution_count": 13,
   "metadata": {},
   "outputs": [
    {
     "data": {
      "text/plain": [
       "label    Stomach\n",
       "Name: C0038351, dtype: object"
      ]
     },
     "execution_count": 13,
     "metadata": {},
     "output_type": "execute_result"
    }
   ],
   "source": [
    "labels.loc['C0038351']"
   ]
  },
  {
   "cell_type": "code",
   "execution_count": 14,
   "metadata": {},
   "outputs": [
    {
     "name": "stderr",
     "output_type": "stream",
     "text": [
      "173212741it [02:18, 1250687.08it/s]\n"
     ]
    }
   ],
   "source": [
    "sabs = set()\n",
    "counter = 0\n",
    "with open(data_dir + 'CUI-CUIs.csv') as o:\n",
    "\tcsv_reader = csv.reader(o)\n",
    "\theader = None\n",
    "\trows = []\n",
    "\tfor row in tqdm(csv_reader):\n",
    "\t\tif counter == 0:\n",
    "\t\t\theader = ['source', 'target', 'relation', 'SAB', 'evidence_class', 'dcc']\n",
    "\t\t\tcounter += 1\n",
    "\t\telse:\n",
    "\t\t\tsabs.add(row[3])"
   ]
  },
  {
   "cell_type": "code",
   "execution_count": 15,
   "metadata": {},
   "outputs": [],
   "source": [
    "with open(\"out/sabs.txt\") as o:\n",
    "\told_sabs = set(o.read().strip().split(\"\\n\"))"
   ]
  },
  {
   "cell_type": "code",
   "execution_count": 16,
   "metadata": {},
   "outputs": [
    {
     "data": {
      "text/plain": [
       "{'BIOMARKER', 'DGN', 'UBKGSOURCE'}"
      ]
     },
     "execution_count": 16,
     "metadata": {},
     "output_type": "execute_result"
    }
   ],
   "source": [
    "sabs - old_sabs"
   ]
  },
  {
   "cell_type": "code",
   "execution_count": 17,
   "metadata": {},
   "outputs": [],
   "source": [
    "def get_sab_df(sab, dcc=''):\n",
    "\tcounter = 0\n",
    "\twith open(data_dir + 'CUI-CUIs.csv') as o:\n",
    "\t\tfilename = 'out/sab/%s.edges.csv'%sab\n",
    "\t\tif os.path.isfile(filename): \n",
    "\t\t\tprint(\"%s exists!\"%filename)\n",
    "\t\t\treturn pd.read_csv(filename, index_col=0)\n",
    "\t\telse:\n",
    "\t\t\tcsv_reader = csv.reader(o)\n",
    "\t\t\theader = None\n",
    "\t\t\trows = []\n",
    "\t\t\tfor row in tqdm(csv_reader):\n",
    "\t\t\t\tif counter == 0:\n",
    "\t\t\t\t\theader = ['source', 'target', 'relation', 'SAB', 'evidence_class', 'dcc']\n",
    "\t\t\t\telse:\n",
    "\t\t\t\t\tif sab == row[3]:\n",
    "\t\t\t\t\t\trows.append(row + [dcc])\n",
    "\t\t\t\tcounter += 1\n",
    "\t\t\tdf = pd.DataFrame(rows, columns=header)\n",
    "\t\t\tdf.dcc = dcc\n",
    "\t\t\tdf.to_csv(filename)\n",
    "\t\t\treturn df\n",
    "\n",
    "def get_nodes(df, sab, relations):\n",
    "\t# Get Node Ids\n",
    "\tnode_ids = {}\n",
    "\tfor relation, v in relations.items():\n",
    "\t\ttmp = df[df[\"relation\"] == relation]\n",
    "\t\tfor key, node_type in v.items():\n",
    "\t\t\tnode_index = tmp[key]\n",
    "\t\t\tif node_type not in node_ids:\n",
    "\t\t\t\tnode_ids[node_type] = set()\n",
    "\t\t\tnode_ids[node_type] = node_ids[node_type].union(node_index)\n",
    "\t# Get DF\n",
    "\tnodes = {}\n",
    "\tfor node_type, node_index in node_ids.items():\n",
    "\t\tprint(node_type)\n",
    "\t\tfilename = 'out/sab/%s.%s.nodes.csv'%(sab, node_type)\n",
    "\t\tif (os.path.isfile(filename)):\n",
    "\t\t\tprint('%s found'%filename)\n",
    "\t\t\tnode_df = pd.read_csv(filename, index_col=0)\n",
    "\t\t\tnodes[node_type] = node_df\n",
    "\t\telse:\n",
    "\t\t\tnode_index = list(node_index)\n",
    "\t\t\tnode_df = pd.DataFrame(index=node_index, columns=[\"label\", \"type\"])\n",
    "\t\t\tnode_df.index.name = \"id\"\n",
    "\t\t\tnode_df[\"type\"] = node_type\n",
    "\t\t\tnode_df[\"label\"] = node_df.index\n",
    "\t\t\twith_label = list(set(labels.index).intersection(node_index))\n",
    "\t\t\tnode_df.loc[with_label, 'label'] = labels.loc[with_label].reset_index().groupby(\"index\").first().loc[with_label, \"label\"]\n",
    "\t\t\tif node_type == \"Gene\":\n",
    "\t\t\t\tnode_df.loc[with_label, 'label'] = [i.replace(\" gene\", \"\") for i in node_df.loc[with_label, 'label']]\n",
    "\t\t\t# CODE\n",
    "\t\t\tfiltered = concept_code[concept_code[\"id\"].isin(node_df.index)]\n",
    "\t\t\tfiltered = filtered[filtered.CODE != 'NOCODE']\n",
    "\t\t\t# filter keys\n",
    "\t\t\tcode_keys = filtered.SAB.value_counts()[filtered.SAB.value_counts() > node_df.shape[0]/2].index\n",
    "\t\t\tgrouped_concept = concept_code[concept_code[\"id\"].isin(node_df.index)].groupby(\"id\")\n",
    "\t\t\tscore_df = pd.DataFrame(index=filtered.id.unique(), columns=code_keys)\n",
    "\t\t\tscore_df.index.name = 'id'\n",
    "\t\t\tgrouped_concept = filtered.groupby(\"id\")\n",
    "\t\t\tfor group in score_df.index:\n",
    "\t\t\t\tg = grouped_concept.get_group(group)\n",
    "\t\t\t\tg = g[g.SAB.isin(code_keys)]\n",
    "\t\t\t\tcols = g.SAB\n",
    "\t\t\t\tvalues = g.CODE\n",
    "\t\t\t\tscore_df.loc[group]=pd.Series(list(values), index=cols).groupby('SAB').first()\n",
    "\t\t\tnode_df = node_df.merge(score_df, on=\"id\")\n",
    "\t\t\tnode_df.to_csv(filename)\n",
    "\t\t\tnodes[node_type] = node_df\n",
    "\treturn nodes"
   ]
  },
  {
   "cell_type": "markdown",
   "metadata": {},
   "source": [
    "# LINCS"
   ]
  },
  {
   "cell_type": "code",
   "execution_count": 18,
   "metadata": {},
   "outputs": [
    {
     "name": "stdout",
     "output_type": "stream",
     "text": [
      "out/sab/LINCS.edges.csv exists!\n"
     ]
    }
   ],
   "source": [
    "sab = 'LINCS'\n",
    "dcc = 'LINCS'\n",
    "df = get_sab_df(sab, dcc)"
   ]
  },
  {
   "cell_type": "code",
   "execution_count": 19,
   "metadata": {},
   "outputs": [
    {
     "data": {
      "text/html": [
       "<div>\n",
       "<style scoped>\n",
       "    .dataframe tbody tr th:only-of-type {\n",
       "        vertical-align: middle;\n",
       "    }\n",
       "\n",
       "    .dataframe tbody tr th {\n",
       "        vertical-align: top;\n",
       "    }\n",
       "\n",
       "    .dataframe thead th {\n",
       "        text-align: right;\n",
       "    }\n",
       "</style>\n",
       "<table border=\"1\" class=\"dataframe\">\n",
       "  <thead>\n",
       "    <tr style=\"text-align: right;\">\n",
       "      <th></th>\n",
       "      <th>source</th>\n",
       "      <th>target</th>\n",
       "      <th>relation</th>\n",
       "      <th>SAB</th>\n",
       "      <th>evidence_class</th>\n",
       "      <th>dcc</th>\n",
       "    </tr>\n",
       "  </thead>\n",
       "  <tbody>\n",
       "    <tr>\n",
       "      <th>225509</th>\n",
       "      <td>PUBCHEM:10109823 CUI</td>\n",
       "      <td>PUBCHEM:11338033 CUI</td>\n",
       "      <td>in_similarity_relationship_with</td>\n",
       "      <td>LINCS</td>\n",
       "      <td>0.556670</td>\n",
       "      <td>LINCS</td>\n",
       "    </tr>\n",
       "    <tr>\n",
       "      <th>225510</th>\n",
       "      <td>PUBCHEM:2062 CUI</td>\n",
       "      <td>PUBCHEM:1379247 CUI</td>\n",
       "      <td>in_similarity_relationship_with</td>\n",
       "      <td>LINCS</td>\n",
       "      <td>0.254851</td>\n",
       "      <td>LINCS</td>\n",
       "    </tr>\n",
       "    <tr>\n",
       "      <th>225511</th>\n",
       "      <td>PUBCHEM:5517 CUI</td>\n",
       "      <td>PUBCHEM:5281912 CUI</td>\n",
       "      <td>in_similarity_relationship_with</td>\n",
       "      <td>LINCS</td>\n",
       "      <td>0.251117</td>\n",
       "      <td>LINCS</td>\n",
       "    </tr>\n",
       "    <tr>\n",
       "      <th>225512</th>\n",
       "      <td>PUBCHEM:4658599 CUI</td>\n",
       "      <td>PUBCHEM:5202 CUI</td>\n",
       "      <td>in_similarity_relationship_with</td>\n",
       "      <td>LINCS</td>\n",
       "      <td>0.251333</td>\n",
       "      <td>LINCS</td>\n",
       "    </tr>\n",
       "    <tr>\n",
       "      <th>225513</th>\n",
       "      <td>PUBCHEM:44623840 CUI</td>\n",
       "      <td>PUBCHEM:44602407 CUI</td>\n",
       "      <td>in_similarity_relationship_with</td>\n",
       "      <td>LINCS</td>\n",
       "      <td>0.307563</td>\n",
       "      <td>LINCS</td>\n",
       "    </tr>\n",
       "  </tbody>\n",
       "</table>\n",
       "</div>"
      ],
      "text/plain": [
       "                      source                target  \\\n",
       "225509  PUBCHEM:10109823 CUI  PUBCHEM:11338033 CUI   \n",
       "225510      PUBCHEM:2062 CUI   PUBCHEM:1379247 CUI   \n",
       "225511      PUBCHEM:5517 CUI   PUBCHEM:5281912 CUI   \n",
       "225512   PUBCHEM:4658599 CUI      PUBCHEM:5202 CUI   \n",
       "225513  PUBCHEM:44623840 CUI  PUBCHEM:44602407 CUI   \n",
       "\n",
       "                               relation    SAB  evidence_class    dcc  \n",
       "225509  in_similarity_relationship_with  LINCS        0.556670  LINCS  \n",
       "225510  in_similarity_relationship_with  LINCS        0.254851  LINCS  \n",
       "225511  in_similarity_relationship_with  LINCS        0.251117  LINCS  \n",
       "225512  in_similarity_relationship_with  LINCS        0.251333  LINCS  \n",
       "225513  in_similarity_relationship_with  LINCS        0.307563  LINCS  "
      ]
     },
     "execution_count": 19,
     "metadata": {},
     "output_type": "execute_result"
    }
   ],
   "source": [
    "df.head()"
   ]
  },
  {
   "cell_type": "code",
   "execution_count": 20,
   "metadata": {},
   "outputs": [
    {
     "data": {
      "text/plain": [
       "array(['in_similarity_relationship_with', 'positively_regulates',\n",
       "       'negatively_regulates'], dtype=object)"
      ]
     },
     "execution_count": 20,
     "metadata": {},
     "output_type": "execute_result"
    }
   ],
   "source": [
    "df.relation.unique()"
   ]
  },
  {
   "cell_type": "code",
   "execution_count": 21,
   "metadata": {},
   "outputs": [],
   "source": [
    "relations = {\n",
    "\t\"negatively_regulates\": {\n",
    "\t\t\"target\": \"Gene\",\n",
    "\t\t\"source\": \"Compound\",\n",
    "\t},\n",
    "\t\"positively_regulates\": {\n",
    "\t\t\"target\": \"Gene\",\n",
    "\t\t\"source\": \"Compound\",\n",
    "\t},\n",
    "\t\"in_similarity_relationship_with\": {\n",
    "\t\t\"source\": \"Compound\",\n",
    "\t\t\"target\": \"Compound\",\n",
    "\t}\n",
    "}"
   ]
  },
  {
   "cell_type": "code",
   "execution_count": 22,
   "metadata": {},
   "outputs": [],
   "source": [
    "df[df.relation.isin(list(relations.keys()))].to_csv(\"out/sab/%s.edges.csv\"%sab)"
   ]
  },
  {
   "cell_type": "code",
   "execution_count": 23,
   "metadata": {},
   "outputs": [
    {
     "name": "stdout",
     "output_type": "stream",
     "text": [
      "Gene\n",
      "out/sab/LINCS.Gene.nodes.csv found\n",
      "Compound\n",
      "out/sab/LINCS.Compound.nodes.csv found\n"
     ]
    }
   ],
   "source": [
    "nodes = get_nodes(df, sab, relations)"
   ]
  },
  {
   "cell_type": "code",
   "execution_count": 24,
   "metadata": {},
   "outputs": [
    {
     "data": {
      "text/html": [
       "<div>\n",
       "<style scoped>\n",
       "    .dataframe tbody tr th:only-of-type {\n",
       "        vertical-align: middle;\n",
       "    }\n",
       "\n",
       "    .dataframe tbody tr th {\n",
       "        vertical-align: top;\n",
       "    }\n",
       "\n",
       "    .dataframe thead th {\n",
       "        text-align: right;\n",
       "    }\n",
       "</style>\n",
       "<table border=\"1\" class=\"dataframe\">\n",
       "  <thead>\n",
       "    <tr style=\"text-align: right;\">\n",
       "      <th></th>\n",
       "      <th>label</th>\n",
       "      <th>type</th>\n",
       "      <th>ENSEMBL</th>\n",
       "      <th>HGNC</th>\n",
       "      <th>ENTREZ</th>\n",
       "      <th>OMIM</th>\n",
       "    </tr>\n",
       "    <tr>\n",
       "      <th>id</th>\n",
       "      <th></th>\n",
       "      <th></th>\n",
       "      <th></th>\n",
       "      <th></th>\n",
       "      <th></th>\n",
       "      <th></th>\n",
       "    </tr>\n",
       "  </thead>\n",
       "  <tbody>\n",
       "    <tr>\n",
       "      <th>C1412629</th>\n",
       "      <td>ATP1A2</td>\n",
       "      <td>Gene</td>\n",
       "      <td>ENSG00000018625</td>\n",
       "      <td>800.0</td>\n",
       "      <td>477.0</td>\n",
       "      <td>182340.0</td>\n",
       "    </tr>\n",
       "    <tr>\n",
       "      <th>C1413228</th>\n",
       "      <td>CD53</td>\n",
       "      <td>Gene</td>\n",
       "      <td>ENSG00000143119</td>\n",
       "      <td>1686.0</td>\n",
       "      <td>963.0</td>\n",
       "      <td>151525.0</td>\n",
       "    </tr>\n",
       "    <tr>\n",
       "      <th>C1335648</th>\n",
       "      <td>RRM1</td>\n",
       "      <td>Gene</td>\n",
       "      <td>ENSG00000167325</td>\n",
       "      <td>10451.0</td>\n",
       "      <td>6240.0</td>\n",
       "      <td>180410.0</td>\n",
       "    </tr>\n",
       "    <tr>\n",
       "      <th>C1419846</th>\n",
       "      <td>SCD</td>\n",
       "      <td>Gene</td>\n",
       "      <td>ENSG00000099194</td>\n",
       "      <td>10571.0</td>\n",
       "      <td>6319.0</td>\n",
       "      <td>604031.0</td>\n",
       "    </tr>\n",
       "    <tr>\n",
       "      <th>C1414375</th>\n",
       "      <td>ELF1</td>\n",
       "      <td>Gene</td>\n",
       "      <td>ENSG00000120690</td>\n",
       "      <td>3316.0</td>\n",
       "      <td>1997.0</td>\n",
       "      <td>189973.0</td>\n",
       "    </tr>\n",
       "  </tbody>\n",
       "</table>\n",
       "</div>"
      ],
      "text/plain": [
       "           label  type          ENSEMBL     HGNC  ENTREZ      OMIM\n",
       "id                                                                \n",
       "C1412629  ATP1A2  Gene  ENSG00000018625    800.0   477.0  182340.0\n",
       "C1413228    CD53  Gene  ENSG00000143119   1686.0   963.0  151525.0\n",
       "C1335648    RRM1  Gene  ENSG00000167325  10451.0  6240.0  180410.0\n",
       "C1419846     SCD  Gene  ENSG00000099194  10571.0  6319.0  604031.0\n",
       "C1414375    ELF1  Gene  ENSG00000120690   3316.0  1997.0  189973.0"
      ]
     },
     "execution_count": 24,
     "metadata": {},
     "output_type": "execute_result"
    }
   ],
   "source": [
    "nodes[\"Gene\"].head()"
   ]
  },
  {
   "cell_type": "markdown",
   "metadata": {},
   "source": [
    "## 4DN"
   ]
  },
  {
   "cell_type": "code",
   "execution_count": 25,
   "metadata": {},
   "outputs": [
    {
     "name": "stderr",
     "output_type": "stream",
     "text": [
      "173212741it [02:52, 1004212.33it/s]\n"
     ]
    }
   ],
   "source": [
    "sab = '4DN'\n",
    "dcc = '4DN'\n",
    "df = get_sab_df(sab, dcc)"
   ]
  },
  {
   "cell_type": "code",
   "execution_count": 26,
   "metadata": {},
   "outputs": [
    {
     "data": {
      "text/html": [
       "<div>\n",
       "<style scoped>\n",
       "    .dataframe tbody tr th:only-of-type {\n",
       "        vertical-align: middle;\n",
       "    }\n",
       "\n",
       "    .dataframe tbody tr th {\n",
       "        vertical-align: top;\n",
       "    }\n",
       "\n",
       "    .dataframe thead th {\n",
       "        text-align: right;\n",
       "    }\n",
       "</style>\n",
       "<table border=\"1\" class=\"dataframe\">\n",
       "  <thead>\n",
       "    <tr style=\"text-align: right;\">\n",
       "      <th></th>\n",
       "      <th>source</th>\n",
       "      <th>target</th>\n",
       "      <th>relation</th>\n",
       "      <th>SAB</th>\n",
       "      <th>evidence_class</th>\n",
       "      <th>dcc</th>\n",
       "    </tr>\n",
       "  </thead>\n",
       "  <tbody>\n",
       "    <tr>\n",
       "      <th>0</th>\n",
       "      <td>4DND:4DNESWST3UBH CUI</td>\n",
       "      <td>EFO:0008808 CUI</td>\n",
       "      <td>has_assay_type</td>\n",
       "      <td>4DN</td>\n",
       "      <td></td>\n",
       "      <td>4DN</td>\n",
       "    </tr>\n",
       "    <tr>\n",
       "      <th>1</th>\n",
       "      <td>4DND:4DNES21D8SP8 CUI</td>\n",
       "      <td>EFO:0008808 CUI</td>\n",
       "      <td>has_assay_type</td>\n",
       "      <td>4DN</td>\n",
       "      <td></td>\n",
       "      <td>4DN</td>\n",
       "    </tr>\n",
       "    <tr>\n",
       "      <th>2</th>\n",
       "      <td>4DND:4DNESW1SPPTD CUI</td>\n",
       "      <td>EFO:0008808 CUI</td>\n",
       "      <td>has_assay_type</td>\n",
       "      <td>4DN</td>\n",
       "      <td></td>\n",
       "      <td>4DN</td>\n",
       "    </tr>\n",
       "    <tr>\n",
       "      <th>3</th>\n",
       "      <td>4DND:4DNESN49VY8X CUI</td>\n",
       "      <td>EFO:0009974 CUI</td>\n",
       "      <td>has_assay_type</td>\n",
       "      <td>4DN</td>\n",
       "      <td></td>\n",
       "      <td>4DN</td>\n",
       "    </tr>\n",
       "    <tr>\n",
       "      <th>4</th>\n",
       "      <td>4DND:4DNES2R6PUEK CUI</td>\n",
       "      <td>EFO:0009974 CUI</td>\n",
       "      <td>has_assay_type</td>\n",
       "      <td>4DN</td>\n",
       "      <td></td>\n",
       "      <td>4DN</td>\n",
       "    </tr>\n",
       "  </tbody>\n",
       "</table>\n",
       "</div>"
      ],
      "text/plain": [
       "                  source           target        relation  SAB evidence_class  \\\n",
       "0  4DND:4DNESWST3UBH CUI  EFO:0008808 CUI  has_assay_type  4DN                  \n",
       "1  4DND:4DNES21D8SP8 CUI  EFO:0008808 CUI  has_assay_type  4DN                  \n",
       "2  4DND:4DNESW1SPPTD CUI  EFO:0008808 CUI  has_assay_type  4DN                  \n",
       "3  4DND:4DNESN49VY8X CUI  EFO:0009974 CUI  has_assay_type  4DN                  \n",
       "4  4DND:4DNES2R6PUEK CUI  EFO:0009974 CUI  has_assay_type  4DN                  \n",
       "\n",
       "   dcc  \n",
       "0  4DN  \n",
       "1  4DN  \n",
       "2  4DN  \n",
       "3  4DN  \n",
       "4  4DN  "
      ]
     },
     "execution_count": 26,
     "metadata": {},
     "output_type": "execute_result"
    }
   ],
   "source": [
    "df.head()"
   ]
  },
  {
   "cell_type": "code",
   "execution_count": 27,
   "metadata": {},
   "outputs": [
    {
     "data": {
      "text/plain": [
       "array(['has_assay_type', 'dataset_involves_cell_type', 'dataset_has_file',\n",
       "       'file_has_loop', 'loop_us_start', 'loop_us_end', 'loop_ds_start',\n",
       "       'loop_ds_end', 'loop_has_qvalue_bin', 'inverse_has_assay_type',\n",
       "       'inverse_dataset_involves_cell_type', 'inverse_dataset_has_file',\n",
       "       'inverse_file_has_loop', 'inverse_loop_us_start',\n",
       "       'inverse_loop_us_end', 'inverse_loop_ds_start',\n",
       "       'inverse_loop_ds_end', 'inverse_loop_has_qvalue_bin'], dtype=object)"
      ]
     },
     "execution_count": 27,
     "metadata": {},
     "output_type": "execute_result"
    }
   ],
   "source": [
    "df.relation.unique()"
   ]
  },
  {
   "cell_type": "code",
   "execution_count": 28,
   "metadata": {},
   "outputs": [],
   "source": [
    "relations = {\n",
    "\t\"has_assay_type\": {\n",
    "\t\t\"source\": \"4DN Dataset\",\n",
    "\t\t\"target\": \"Assay\",\n",
    "\t},\n",
    "\t\"dataset_involves_cell_type\": {\n",
    "\t\t\"source\": \"4DN Dataset\",\n",
    "\t\t\"target\": \"Anatomy\", # Uberon, EFO\n",
    "\t},\n",
    "\t\"dataset_has_file\": {\n",
    "\t\t\"source\": \"4DN Dataset\",\n",
    "\t\t\"target\": \"4DN File\",\n",
    "\t},\n",
    "\t\"file_has_loop\": {\n",
    "\t\t\"source\": \"4DN File\",\n",
    "\t\t\"target\": \"4DN Loop\",\n",
    "\t},\n",
    "\t\"loop_has_qvalue_bin\": {\n",
    "\t\t\"source\": \"4DN Loop\",\n",
    "\t\t\"target\": \"4DN QVal Bin\",\n",
    "\t},\n",
    "\t\"loop_us_start\": {\n",
    "\t\t\"source\": \"4DN Loop\",\n",
    "\t\t\"target\": \"HSCLO\",\n",
    "\t},\n",
    "\t\"loop_us_end\": {\n",
    "\t\t\"source\": \"4DN Loop\",\n",
    "\t\t\"target\": \"HSCLO\",\n",
    "\t},\n",
    "\t\"loop_ds_start\": {\n",
    "\t\t\"source\": \"4DN Loop\",\n",
    "\t\t\"target\": \"HSCLO\",\n",
    "\t},\n",
    "\t\"loop_ds_end\": {\n",
    "\t\t\"source\": \"4DN Loop\",\n",
    "\t\t\"target\": \"HSCLO\",\n",
    "\t}\n",
    "}"
   ]
  },
  {
   "cell_type": "code",
   "execution_count": 29,
   "metadata": {},
   "outputs": [
    {
     "data": {
      "text/plain": [
       "{'inverse_dataset_has_file',\n",
       " 'inverse_dataset_involves_cell_type',\n",
       " 'inverse_file_has_loop',\n",
       " 'inverse_has_assay_type',\n",
       " 'inverse_loop_ds_end',\n",
       " 'inverse_loop_ds_start',\n",
       " 'inverse_loop_has_qvalue_bin',\n",
       " 'inverse_loop_us_end',\n",
       " 'inverse_loop_us_start'}"
      ]
     },
     "execution_count": 29,
     "metadata": {},
     "output_type": "execute_result"
    }
   ],
   "source": [
    "set(df.relation) - set(relations.keys())"
   ]
  },
  {
   "cell_type": "code",
   "execution_count": 30,
   "metadata": {},
   "outputs": [],
   "source": [
    "df[df.relation.isin(list(relations.keys()))].to_csv(\"out/sab/%s.edges.csv\"%sab)"
   ]
  },
  {
   "cell_type": "code",
   "execution_count": 31,
   "metadata": {},
   "outputs": [
    {
     "name": "stdout",
     "output_type": "stream",
     "text": [
      "4DN Dataset\n",
      "Assay\n",
      "Anatomy\n",
      "4DN File\n",
      "4DN Loop\n",
      "4DN QVal Bin\n",
      "HSCLO\n"
     ]
    }
   ],
   "source": [
    "nodes = get_nodes(df, sab, relations)"
   ]
  },
  {
   "cell_type": "code",
   "execution_count": 32,
   "metadata": {},
   "outputs": [
    {
     "data": {
      "text/html": [
       "<div>\n",
       "<style scoped>\n",
       "    .dataframe tbody tr th:only-of-type {\n",
       "        vertical-align: middle;\n",
       "    }\n",
       "\n",
       "    .dataframe tbody tr th {\n",
       "        vertical-align: top;\n",
       "    }\n",
       "\n",
       "    .dataframe thead th {\n",
       "        text-align: right;\n",
       "    }\n",
       "</style>\n",
       "<table border=\"1\" class=\"dataframe\">\n",
       "  <thead>\n",
       "    <tr style=\"text-align: right;\">\n",
       "      <th></th>\n",
       "      <th>label</th>\n",
       "      <th>type</th>\n",
       "      <th>4DND</th>\n",
       "    </tr>\n",
       "    <tr>\n",
       "      <th>id</th>\n",
       "      <th></th>\n",
       "      <th></th>\n",
       "      <th></th>\n",
       "    </tr>\n",
       "  </thead>\n",
       "  <tbody>\n",
       "    <tr>\n",
       "      <th>4DND:4DNES1JP4KZ1 CUI</th>\n",
       "      <td>in situ Hi-C on HCT116 cells (containing AID-t...</td>\n",
       "      <td>4DN Dataset</td>\n",
       "      <td>4DNES1JP4KZ1</td>\n",
       "    </tr>\n",
       "    <tr>\n",
       "      <th>4DND:4DNESW1SPPTD CUI</th>\n",
       "      <td>Micro-C on H1 cells differentiated to definiti...</td>\n",
       "      <td>4DN Dataset</td>\n",
       "      <td>4DNESW1SPPTD</td>\n",
       "    </tr>\n",
       "    <tr>\n",
       "      <th>4DND:4DNES21D8SP8 CUI</th>\n",
       "      <td>Micro-C on H1-ESC cells.H1-ESC</td>\n",
       "      <td>4DN Dataset</td>\n",
       "      <td>4DNES21D8SP8</td>\n",
       "    </tr>\n",
       "    <tr>\n",
       "      <th>4DND:4DNESN49VY8X CUI</th>\n",
       "      <td>in situ Hi-C on HFFc6 cells.HFFc6</td>\n",
       "      <td>4DN Dataset</td>\n",
       "      <td>4DNESN49VY8X</td>\n",
       "    </tr>\n",
       "    <tr>\n",
       "      <th>4DND:4DNES3JX38V5 CUI</th>\n",
       "      <td>in situ Hi-C on GM12878 with MboI and bio-dATP...</td>\n",
       "      <td>4DN Dataset</td>\n",
       "      <td>4DNES3JX38V5</td>\n",
       "    </tr>\n",
       "  </tbody>\n",
       "</table>\n",
       "</div>"
      ],
      "text/plain": [
       "                                                                   label  \\\n",
       "id                                                                         \n",
       "4DND:4DNES1JP4KZ1 CUI  in situ Hi-C on HCT116 cells (containing AID-t...   \n",
       "4DND:4DNESW1SPPTD CUI  Micro-C on H1 cells differentiated to definiti...   \n",
       "4DND:4DNES21D8SP8 CUI                     Micro-C on H1-ESC cells.H1-ESC   \n",
       "4DND:4DNESN49VY8X CUI                  in situ Hi-C on HFFc6 cells.HFFc6   \n",
       "4DND:4DNES3JX38V5 CUI  in situ Hi-C on GM12878 with MboI and bio-dATP...   \n",
       "\n",
       "                              type          4DND  \n",
       "id                                                \n",
       "4DND:4DNES1JP4KZ1 CUI  4DN Dataset  4DNES1JP4KZ1  \n",
       "4DND:4DNESW1SPPTD CUI  4DN Dataset  4DNESW1SPPTD  \n",
       "4DND:4DNES21D8SP8 CUI  4DN Dataset  4DNES21D8SP8  \n",
       "4DND:4DNESN49VY8X CUI  4DN Dataset  4DNESN49VY8X  \n",
       "4DND:4DNES3JX38V5 CUI  4DN Dataset  4DNES3JX38V5  "
      ]
     },
     "execution_count": 32,
     "metadata": {},
     "output_type": "execute_result"
    }
   ],
   "source": [
    "nodes['4DN Dataset'].head()"
   ]
  },
  {
   "cell_type": "markdown",
   "metadata": {},
   "source": [
    "## ERCC"
   ]
  },
  {
   "cell_type": "code",
   "execution_count": 33,
   "metadata": {},
   "outputs": [
    {
     "name": "stdout",
     "output_type": "stream",
     "text": [
      "out/sab/ERCCRBP.edges.csv exists!\n"
     ]
    },
    {
     "data": {
      "text/html": [
       "<div>\n",
       "<style scoped>\n",
       "    .dataframe tbody tr th:only-of-type {\n",
       "        vertical-align: middle;\n",
       "    }\n",
       "\n",
       "    .dataframe tbody tr th {\n",
       "        vertical-align: top;\n",
       "    }\n",
       "\n",
       "    .dataframe thead th {\n",
       "        text-align: right;\n",
       "    }\n",
       "</style>\n",
       "<table border=\"1\" class=\"dataframe\">\n",
       "  <thead>\n",
       "    <tr style=\"text-align: right;\">\n",
       "      <th></th>\n",
       "      <th>source</th>\n",
       "      <th>target</th>\n",
       "      <th>relation</th>\n",
       "      <th>SAB</th>\n",
       "      <th>evidence_class</th>\n",
       "      <th>dcc</th>\n",
       "    </tr>\n",
       "  </thead>\n",
       "  <tbody>\n",
       "    <tr>\n",
       "      <th>0</th>\n",
       "      <td>UNIPROTKB:P49588 CUI</td>\n",
       "      <td>ENCODE.RBS.150.NO.OVERLAP:chr5.134924513.13492...</td>\n",
       "      <td>molecularly_interacts_with</td>\n",
       "      <td>ERCCRBP</td>\n",
       "      <td>NaN</td>\n",
       "      <td>ERCC</td>\n",
       "    </tr>\n",
       "    <tr>\n",
       "      <th>1</th>\n",
       "      <td>UNIPROTKB:Q9NY61 CUI</td>\n",
       "      <td>ENCODE.RBS.150.NO.OVERLAP:chr1.1341093.1341096...</td>\n",
       "      <td>molecularly_interacts_with</td>\n",
       "      <td>ERCCRBP</td>\n",
       "      <td>NaN</td>\n",
       "      <td>ERCC</td>\n",
       "    </tr>\n",
       "    <tr>\n",
       "      <th>2</th>\n",
       "      <td>UNIPROTKB:Q9NY61 CUI</td>\n",
       "      <td>ENCODE.RBS.150.NO.OVERLAP:chr1.1341218.1341221...</td>\n",
       "      <td>molecularly_interacts_with</td>\n",
       "      <td>ERCCRBP</td>\n",
       "      <td>NaN</td>\n",
       "      <td>ERCC</td>\n",
       "    </tr>\n",
       "    <tr>\n",
       "      <th>3</th>\n",
       "      <td>UNIPROTKB:Q9NY61 CUI</td>\n",
       "      <td>ENCODE.RBS.150.NO.OVERLAP:chr1.28508550.285085...</td>\n",
       "      <td>molecularly_interacts_with</td>\n",
       "      <td>ERCCRBP</td>\n",
       "      <td>NaN</td>\n",
       "      <td>ERCC</td>\n",
       "    </tr>\n",
       "    <tr>\n",
       "      <th>4</th>\n",
       "      <td>UNIPROTKB:Q9NY61 CUI</td>\n",
       "      <td>ENCODE.RBS.150.NO.OVERLAP:chr1.30935491.309355...</td>\n",
       "      <td>molecularly_interacts_with</td>\n",
       "      <td>ERCCRBP</td>\n",
       "      <td>NaN</td>\n",
       "      <td>ERCC</td>\n",
       "    </tr>\n",
       "  </tbody>\n",
       "</table>\n",
       "</div>"
      ],
      "text/plain": [
       "                 source                                             target  \\\n",
       "0  UNIPROTKB:P49588 CUI  ENCODE.RBS.150.NO.OVERLAP:chr5.134924513.13492...   \n",
       "1  UNIPROTKB:Q9NY61 CUI  ENCODE.RBS.150.NO.OVERLAP:chr1.1341093.1341096...   \n",
       "2  UNIPROTKB:Q9NY61 CUI  ENCODE.RBS.150.NO.OVERLAP:chr1.1341218.1341221...   \n",
       "3  UNIPROTKB:Q9NY61 CUI  ENCODE.RBS.150.NO.OVERLAP:chr1.28508550.285085...   \n",
       "4  UNIPROTKB:Q9NY61 CUI  ENCODE.RBS.150.NO.OVERLAP:chr1.30935491.309355...   \n",
       "\n",
       "                     relation      SAB  evidence_class   dcc  \n",
       "0  molecularly_interacts_with  ERCCRBP             NaN  ERCC  \n",
       "1  molecularly_interacts_with  ERCCRBP             NaN  ERCC  \n",
       "2  molecularly_interacts_with  ERCCRBP             NaN  ERCC  \n",
       "3  molecularly_interacts_with  ERCCRBP             NaN  ERCC  \n",
       "4  molecularly_interacts_with  ERCCRBP             NaN  ERCC  "
      ]
     },
     "execution_count": 33,
     "metadata": {},
     "output_type": "execute_result"
    }
   ],
   "source": [
    "sab = \"ERCCRBP\"\n",
    "dcc = \"ERCC\"\n",
    "df = get_sab_df(sab, dcc)\n",
    "df.head()"
   ]
  },
  {
   "cell_type": "code",
   "execution_count": 34,
   "metadata": {},
   "outputs": [
    {
     "data": {
      "text/plain": [
       "array(['molecularly_interacts_with', 'predicted_in', 'not_predicted_in',\n",
       "       'correlated_in', 'not_correlated_in', 'overlaps',\n",
       "       'inverse_molecularly_interacts_with', 'inverse_predicted_in',\n",
       "       'inverse_not_predicted_in', 'inverse_correlated_in',\n",
       "       'inverse_not_correlated_in', 'inverse_overlaps'], dtype=object)"
      ]
     },
     "execution_count": 34,
     "metadata": {},
     "output_type": "execute_result"
    }
   ],
   "source": [
    "df.relation.unique()"
   ]
  },
  {
   "cell_type": "code",
   "execution_count": 35,
   "metadata": {},
   "outputs": [],
   "source": [
    "# rels = ['molecularly_interacts_with', 'is_subsequence_of', 'predicted_in',\n",
    "#        'not_predicted_in', 'correlated_in', 'not_correlated_in',\n",
    "#        'overlaps']\n",
    "# df[df.relation.isin(rels)].to_csv(\"out/sab/%s.edges.csv\"%sab)"
   ]
  },
  {
   "cell_type": "code",
   "execution_count": 36,
   "metadata": {},
   "outputs": [
    {
     "data": {
      "text/plain": [
       "{'ENCODE.RBS.150.NO.OVERLAP'}"
      ]
     },
     "execution_count": 36,
     "metadata": {},
     "output_type": "execute_result"
    }
   ],
   "source": [
    "set([i.split(\":\")[0] for i in df[df.relation == \"overlaps\"].source])"
   ]
  },
  {
   "cell_type": "code",
   "execution_count": 37,
   "metadata": {},
   "outputs": [
    {
     "data": {
      "text/plain": [
       "{'ENCODE.RBS.150.NO.OVERLAP', 'HGNC', 'UNIPROTKB'}"
      ]
     },
     "execution_count": 37,
     "metadata": {},
     "output_type": "execute_result"
    }
   ],
   "source": [
    "set([i.split(\":\")[0] for i in df.source if not i.startswith(\"C\")])"
   ]
  },
  {
   "cell_type": "code",
   "execution_count": 38,
   "metadata": {},
   "outputs": [
    {
     "data": {
      "text/plain": [
       "array(['overlaps'], dtype=object)"
      ]
     },
     "execution_count": 38,
     "metadata": {},
     "output_type": "execute_result"
    }
   ],
   "source": [
    "relation = 'overlaps'\n",
    "change = [i for i in df[df.relation == relation].source if 'RBS.150' in i]\n",
    "ind = df[(df.source.isin(change)) & (df.relation == relation)].index\n",
    "df.loc[ind, 'relation'].unique()\n",
    "# df.loc[ind, 'relation'] = 'overlaps_exrna'"
   ]
  },
  {
   "cell_type": "code",
   "execution_count": 39,
   "metadata": {},
   "outputs": [
    {
     "data": {
      "text/plain": [
       "{'ENCODE.RBS.150.NO.OVERLAP'}"
      ]
     },
     "execution_count": 39,
     "metadata": {},
     "output_type": "execute_result"
    }
   ],
   "source": [
    "set([i.split(\":\")[0] for i in df[df.relation == 'correlated_in'].source])"
   ]
  },
  {
   "cell_type": "code",
   "execution_count": 40,
   "metadata": {},
   "outputs": [
    {
     "data": {
      "text/plain": [
       "{'C0007806', 'C0032105', 'C0036087', 'C0042036', 'C0229671'}"
      ]
     },
     "execution_count": 40,
     "metadata": {},
     "output_type": "execute_result"
    }
   ],
   "source": [
    "set([i.split(\":\")[0] for i in df[df.relation == 'correlated_in'].target])"
   ]
  },
  {
   "cell_type": "code",
   "execution_count": 41,
   "metadata": {},
   "outputs": [
    {
     "data": {
      "text/plain": [
       "array(['molecularly_interacts_with', 'predicted_in', 'not_predicted_in',\n",
       "       'correlated_in', 'not_correlated_in', 'overlaps',\n",
       "       'inverse_molecularly_interacts_with', 'inverse_predicted_in',\n",
       "       'inverse_not_predicted_in', 'inverse_correlated_in',\n",
       "       'inverse_not_correlated_in', 'inverse_overlaps'], dtype=object)"
      ]
     },
     "execution_count": 41,
     "metadata": {},
     "output_type": "execute_result"
    }
   ],
   "source": [
    "df.relation.unique()"
   ]
  },
  {
   "cell_type": "code",
   "execution_count": 42,
   "metadata": {},
   "outputs": [],
   "source": [
    "relations = {\n",
    "\t\"overlaps\": {\n",
    "\t\t\"source\": \"exRNA Loci\",\n",
    "\t\t\"target\": \"Gene\",\n",
    "\t},\n",
    "\t\"molecularly_interacts_with\": {\n",
    "\t\t\"source\": \"Protein\",\n",
    "\t\t\"target\": \"exRNA Loci\",\n",
    "\t},\n",
    "\t\"predicted_in\": {\n",
    "\t\t\"source\": \"Protein\",\n",
    "\t\t\"target\": \"Biofluid\"\n",
    "\t},\n",
    "\t\"not_predicted_in\": {\n",
    "\t\t\"source\": \"Protein\",\n",
    "\t\t\"target\": \"Biofluid\"\n",
    "\t},\n",
    "\t\"correlated_in\": {\n",
    "\t\t\"source\": \"exRNA Loci\",\n",
    "\t\t\"target\": \"Biofluid\"\n",
    "\t},\n",
    "\t\"not_correlated_in\": {\n",
    "\t\t\"source\": \"exRNA Loci\",\n",
    "\t\t\"target\": \"Biofluid\"\n",
    "\t},\t\n",
    "}"
   ]
  },
  {
   "cell_type": "code",
   "execution_count": 43,
   "metadata": {},
   "outputs": [
    {
     "data": {
      "text/plain": [
       "set()"
      ]
     },
     "execution_count": 43,
     "metadata": {},
     "output_type": "execute_result"
    }
   ],
   "source": [
    "set(relations.keys()) - set(df.relation)"
   ]
  },
  {
   "cell_type": "code",
   "execution_count": 44,
   "metadata": {},
   "outputs": [],
   "source": [
    "# relations = {\n",
    "# \t\"overlaps\": {\n",
    "# \t\t\"source\": \"RBP Binding Loci\",\n",
    "# \t\t\"target\": \"Gene\",\n",
    "# \t},\n",
    "# \t\"overlaps_exrna\": {\n",
    "# \t\t\"source\": \"exRNA Loci\",\n",
    "# \t\t\"target\": \"Gene\", # Uberon, EFO\n",
    "# \t},\n",
    "# \t\"molecularly_interacts_with\": {\n",
    "# \t\t\"source\": \"Protein\",\n",
    "# \t\t\"target\": \"RBP Binding Loci\",\n",
    "# \t},\n",
    "# \t\"is_subsequence\": {\n",
    "# \t\t\"source\": \"exRNA Loci\",\n",
    "# \t\t\"target\": \"RBP Binding Loci\",\n",
    "# \t},\n",
    "# \t\"is_subsequence_of\": {\n",
    "# \t\t\"source\": \"exRNA Loci\",\n",
    "# \t\t\"target\": \"RBP Binding Loci\",\n",
    "# \t},\n",
    "# \t\"correlated_in\": {\n",
    "# \t\t\"source\": \"exRNA Loci\",\n",
    "# \t\t\"target\": \"Biofluid\"\n",
    "# \t},\n",
    "# \t\"not_correlated_in\": {\n",
    "# \t\t\"source\": \"exRNA Loci\",\n",
    "# \t\t\"target\": \"Biofluid\"\n",
    "# \t},\n",
    "# \t\"predicted_in\": {\n",
    "# \t\t\"source\": \"Protein\",\n",
    "# \t\t\"target\": \"Biofluid\"\n",
    "# \t},\n",
    "# \t\"not_predicted_in\": {\n",
    "# \t\t\"source\": \"Protein\",\n",
    "# \t\t\"target\": \"Biofluid\"\n",
    "# \t}\n",
    "# }"
   ]
  },
  {
   "cell_type": "code",
   "execution_count": 45,
   "metadata": {},
   "outputs": [],
   "source": [
    "df[df.relation.isin(relations.keys())].to_csv(\"out/sab/%s.edges.csv\"%sab)"
   ]
  },
  {
   "cell_type": "code",
   "execution_count": 46,
   "metadata": {},
   "outputs": [
    {
     "name": "stdout",
     "output_type": "stream",
     "text": [
      "exRNA Loci\n",
      "Gene\n",
      "Protein\n",
      "Biofluid\n"
     ]
    }
   ],
   "source": [
    "nodes = get_nodes(df, sab, relations)"
   ]
  },
  {
   "cell_type": "code",
   "execution_count": 18,
   "metadata": {},
   "outputs": [
    {
     "name": "stderr",
     "output_type": "stream",
     "text": [
      "173212741it [05:38, 510969.26it/s] \n"
     ]
    },
    {
     "data": {
      "text/html": [
       "<div>\n",
       "<style scoped>\n",
       "    .dataframe tbody tr th:only-of-type {\n",
       "        vertical-align: middle;\n",
       "    }\n",
       "\n",
       "    .dataframe tbody tr th {\n",
       "        vertical-align: top;\n",
       "    }\n",
       "\n",
       "    .dataframe thead th {\n",
       "        text-align: right;\n",
       "    }\n",
       "</style>\n",
       "<table border=\"1\" class=\"dataframe\">\n",
       "  <thead>\n",
       "    <tr style=\"text-align: right;\">\n",
       "      <th></th>\n",
       "      <th>source</th>\n",
       "      <th>target</th>\n",
       "      <th>relation</th>\n",
       "      <th>SAB</th>\n",
       "      <th>evidence_class</th>\n",
       "      <th>dcc</th>\n",
       "    </tr>\n",
       "  </thead>\n",
       "  <tbody>\n",
       "    <tr>\n",
       "      <th>0</th>\n",
       "      <td>C0038351</td>\n",
       "      <td>ENCODE.CCRE.ACTIVITY:EH38E0064571.UBERON000094...</td>\n",
       "      <td>part_of</td>\n",
       "      <td>ERCCREG</td>\n",
       "      <td></td>\n",
       "      <td>ERCC</td>\n",
       "    </tr>\n",
       "    <tr>\n",
       "      <th>1</th>\n",
       "      <td>ENCODE.CCRE:EH38E0064571 CUI</td>\n",
       "      <td>ENCODE.CCRE.ACTIVITY:EH38E0064571.UBERON000094...</td>\n",
       "      <td>part_of</td>\n",
       "      <td>ERCCREG</td>\n",
       "      <td></td>\n",
       "      <td>ERCC</td>\n",
       "    </tr>\n",
       "    <tr>\n",
       "      <th>2</th>\n",
       "      <td>ENCODE.CCRE.ACTIVITY:EH38E0064571.UBERON000094...</td>\n",
       "      <td>C1333687</td>\n",
       "      <td>regulates</td>\n",
       "      <td>ERCCREG</td>\n",
       "      <td></td>\n",
       "      <td>ERCC</td>\n",
       "    </tr>\n",
       "    <tr>\n",
       "      <th>3</th>\n",
       "      <td>C0007461</td>\n",
       "      <td>ENCODE.CCRE.ACTIVITY:EH38E0064571.UBERON000187...</td>\n",
       "      <td>part_of</td>\n",
       "      <td>ERCCREG</td>\n",
       "      <td></td>\n",
       "      <td>ERCC</td>\n",
       "    </tr>\n",
       "    <tr>\n",
       "      <th>4</th>\n",
       "      <td>ENCODE.CCRE:EH38E0064571 CUI</td>\n",
       "      <td>ENCODE.CCRE.ACTIVITY:EH38E0064571.UBERON000187...</td>\n",
       "      <td>part_of</td>\n",
       "      <td>ERCCREG</td>\n",
       "      <td></td>\n",
       "      <td>ERCC</td>\n",
       "    </tr>\n",
       "  </tbody>\n",
       "</table>\n",
       "</div>"
      ],
      "text/plain": [
       "                                              source  \\\n",
       "0                                           C0038351   \n",
       "1                       ENCODE.CCRE:EH38E0064571 CUI   \n",
       "2  ENCODE.CCRE.ACTIVITY:EH38E0064571.UBERON000094...   \n",
       "3                                           C0007461   \n",
       "4                       ENCODE.CCRE:EH38E0064571 CUI   \n",
       "\n",
       "                                              target   relation      SAB  \\\n",
       "0  ENCODE.CCRE.ACTIVITY:EH38E0064571.UBERON000094...    part_of  ERCCREG   \n",
       "1  ENCODE.CCRE.ACTIVITY:EH38E0064571.UBERON000094...    part_of  ERCCREG   \n",
       "2                                           C1333687  regulates  ERCCREG   \n",
       "3  ENCODE.CCRE.ACTIVITY:EH38E0064571.UBERON000187...    part_of  ERCCREG   \n",
       "4  ENCODE.CCRE.ACTIVITY:EH38E0064571.UBERON000187...    part_of  ERCCREG   \n",
       "\n",
       "  evidence_class   dcc  \n",
       "0                 ERCC  \n",
       "1                 ERCC  \n",
       "2                 ERCC  \n",
       "3                 ERCC  \n",
       "4                 ERCC  "
      ]
     },
     "execution_count": 18,
     "metadata": {},
     "output_type": "execute_result"
    }
   ],
   "source": [
    "sab = 'ERCCREG'\n",
    "dcc = \"ERCC\"\n",
    "df = get_sab_df(sab, dcc)\n",
    "df.head()"
   ]
  },
  {
   "cell_type": "code",
   "execution_count": 19,
   "metadata": {},
   "outputs": [
    {
     "data": {
      "text/plain": [
       "array(['part_of', 'regulates', 'isa', 'located_in',\n",
       "       'negatively_regulates', 'positively_regulates', 'has_part',\n",
       "       'regulated_by', 'inverse_isa', 'location_of',\n",
       "       'negatively_regulated_by', 'positively_regulated_by'], dtype=object)"
      ]
     },
     "execution_count": 19,
     "metadata": {},
     "output_type": "execute_result"
    }
   ],
   "source": [
    "df.relation.unique()"
   ]
  },
  {
   "cell_type": "code",
   "execution_count": 36,
   "metadata": {},
   "outputs": [
    {
     "data": {
      "text/plain": [
       "array(['part_of', 'regulates', 'isa', 'located_in',\n",
       "       'negatively_regulates', 'positively_regulates'], dtype=object)"
      ]
     },
     "execution_count": 36,
     "metadata": {},
     "output_type": "execute_result"
    }
   ],
   "source": [
    "df.relation.unique()"
   ]
  },
  {
   "cell_type": "code",
   "execution_count": 20,
   "metadata": {},
   "outputs": [],
   "source": [
    "rels = ['part_of', 'regulates', 'isa', 'located_in',\n",
    "       'negatively_regulates', 'positively_regulates']\n",
    "df[df.relation.isin(rels)].to_csv(\"out/sab/%s.edges.csv\"%sab)"
   ]
  },
  {
   "cell_type": "code",
   "execution_count": 21,
   "metadata": {},
   "outputs": [
    {
     "data": {
      "text/plain": [
       "{'CLINGEN.ALLELE.REGISTRY', 'ENCODE.CCRE', 'UBERON'}"
      ]
     },
     "execution_count": 21,
     "metadata": {},
     "output_type": "execute_result"
    }
   ],
   "source": [
    "source_pref = set([i.split(\":\")[0] for i in df[df.relation == 'part_of'].source if \":\" in i])\n",
    "source_pref"
   ]
  },
  {
   "cell_type": "code",
   "execution_count": 22,
   "metadata": {},
   "outputs": [
    {
     "data": {
      "text/plain": [
       "{'ENCODE.CCRE.ACTIVITY', 'GTEXEQTL'}"
      ]
     },
     "execution_count": 22,
     "metadata": {},
     "output_type": "execute_result"
    }
   ],
   "source": [
    "target_pref = set([i.split(\":\")[0] for i in df[df.relation == 'part_of'].target])\n",
    "target_pref"
   ]
  },
  {
   "cell_type": "code",
   "execution_count": 23,
   "metadata": {},
   "outputs": [],
   "source": [
    "relation = \"part_of\"\n",
    "s = 'ENCODE.CCRE'\n",
    "t = 'ENCODE.CCRE.ACTIVITY'\n",
    "source_ids = [i for i in df[df.relation == relation].source if i.startswith(s)]\n",
    "target_ids = [i for i in df[df.relation == relation].target if i.startswith(t)]\n",
    "ind = df[(df.relation == relation) & (df.source.isin(source_ids)) & (df.target.isin(target_ids))].index\n",
    "df.loc[ind, 'relation'] = 'part_of_ccre'"
   ]
  },
  {
   "cell_type": "code",
   "execution_count": 24,
   "metadata": {},
   "outputs": [
    {
     "name": "stdout",
     "output_type": "stream",
     "text": [
      "265965\n"
     ]
    }
   ],
   "source": [
    "relation = \"part_of\"\n",
    "s = 'CLINGEN.ALLELE.REGISTRY'\n",
    "t = 'GTEXEQTL'\n",
    "source_ids = [i for i in df[df.relation == relation].source if i.startswith(s)]\n",
    "target_ids = [i for i in df[df.relation == relation].target if i.startswith(t)]\n",
    "ind = df[(df.relation == relation) & (df.source.isin(source_ids)) & (df.target.isin(target_ids))].index\n",
    "print(len(ind))\n",
    "# df.loc[ind, 'relation'] = 'part_of_clingen'"
   ]
  },
  {
   "cell_type": "code",
   "execution_count": 25,
   "metadata": {},
   "outputs": [],
   "source": [
    "df.loc[ind, 'relation'] = 'part_of_clingen'"
   ]
  },
  {
   "cell_type": "code",
   "execution_count": 26,
   "metadata": {},
   "outputs": [
    {
     "name": "stdout",
     "output_type": "stream",
     "text": [
      "265965\n"
     ]
    }
   ],
   "source": [
    "relation = \"part_of\"\n",
    "t = 'GTEXEQTL'\n",
    "target_ids = [i for i in df[df.relation == relation].target if i.startswith(t)]\n",
    "ind = df[(df.relation == relation) & (df.target.isin(target_ids))].index\n",
    "print(len(ind))\n",
    "# df.loc[ind, 'relation'] = 'part_of_clingen'"
   ]
  },
  {
   "cell_type": "code",
   "execution_count": 27,
   "metadata": {},
   "outputs": [],
   "source": [
    "df.loc[ind, 'relation'] = 'part_of_uberon'"
   ]
  },
  {
   "cell_type": "code",
   "execution_count": 28,
   "metadata": {},
   "outputs": [
    {
     "data": {
      "text/plain": [
       "array(['part_of', 'part_of_ccre', 'regulates', 'isa', 'located_in',\n",
       "       'part_of_clingen', 'part_of_uberon', 'negatively_regulates',\n",
       "       'positively_regulates', 'has_part', 'regulated_by', 'inverse_isa',\n",
       "       'location_of', 'negatively_regulated_by',\n",
       "       'positively_regulated_by'], dtype=object)"
      ]
     },
     "execution_count": 28,
     "metadata": {},
     "output_type": "execute_result"
    }
   ],
   "source": [
    "df.relation.unique()"
   ]
  },
  {
   "cell_type": "code",
   "execution_count": 29,
   "metadata": {},
   "outputs": [
    {
     "data": {
      "text/plain": [
       "array(['part_of', 'part_of_ccre', 'regulates', 'isa', 'located_in',\n",
       "       'part_of_clingen', 'part_of_uberon', 'negatively_regulates',\n",
       "       'positively_regulates', 'has_part', 'regulated_by', 'inverse_isa',\n",
       "       'location_of', 'negatively_regulated_by',\n",
       "       'positively_regulated_by'], dtype=object)"
      ]
     },
     "execution_count": 29,
     "metadata": {},
     "output_type": "execute_result"
    }
   ],
   "source": [
    "df.relation.unique()"
   ]
  },
  {
   "cell_type": "code",
   "execution_count": null,
   "metadata": {},
   "outputs": [],
   "source": [
    "'located_in',\n",
    "'negatively_regulates',\n",
    "'positively_regulates'"
   ]
  },
  {
   "cell_type": "code",
   "execution_count": 30,
   "metadata": {},
   "outputs": [],
   "source": [
    "relations = {\n",
    "\t\"isa\": {\n",
    "\t\t\"source\": \"Regulatory Element Activity\",\n",
    "\t\t\"target\": \"ENCODE CCRE Data Matrix\",\n",
    "\t},\n",
    "\t\"part_of\": {\n",
    "\t\t\"source\": \"Anatomy\",\n",
    "\t\t\"target\": \"Regulatory Element Activity\", # Uberon, EFO\n",
    "\t},\n",
    "\t\"part_of_ccre\": {\n",
    "\t\t\"source\": \"ENCODE CCRE\",\n",
    "\t\t\"target\": \"Regulatory Element Activity\",\n",
    "\t},\n",
    "\t\"part_of_clingen\": {\n",
    "\t\t\"source\": \"CLINGEN ALLELE REGISTRY\",\n",
    "\t\t\"target\": \"GTEXEQTL\",\n",
    "\t},\n",
    "\t\"part_of_uberon\": {\n",
    "\t\t\"source\": \"Anatomy\",\n",
    "\t\t\"target\": \"GTEXEQTL\"\n",
    "\t},\n",
    "\t\"regulates\": {\n",
    "\t\t\"source\": \"Regulatory Element Activity\",\n",
    "\t\t\"target\": \"Gene\"\n",
    "\t},\n",
    "\t\"negatively_regulates\": {\n",
    "\t\t\"source\": \"GTEXEQTL\",\n",
    "\t\t\"target\": \"Gene\"\n",
    "\t},\n",
    "\t\"positively_regulates\": {\n",
    "\t\t\"source\": \"GTEXEQTL\",\n",
    "\t\t\"target\": \"Gene\"\n",
    "\t},\n",
    "\t\"located_in\": {\n",
    "\t\t\"source\": \"CLINGEN ALLELE REGISTRY\",\n",
    "\t\t\"target\": \"ENCODE CCRE\"\n",
    "\t}\n",
    "}"
   ]
  },
  {
   "cell_type": "code",
   "execution_count": 31,
   "metadata": {},
   "outputs": [
    {
     "name": "stdout",
     "output_type": "stream",
     "text": [
      "Regulatory Element Activity\n",
      "ENCODE CCRE Data Matrix\n",
      "Anatomy\n",
      "ENCODE CCRE\n",
      "CLINGEN ALLELE REGISTRY\n",
      "GTEXEQTL\n",
      "Gene\n"
     ]
    }
   ],
   "source": [
    "nodes = get_nodes(df, sab, relations)"
   ]
  },
  {
   "cell_type": "code",
   "execution_count": 32,
   "metadata": {},
   "outputs": [
    {
     "data": {
      "text/html": [
       "<div>\n",
       "<style scoped>\n",
       "    .dataframe tbody tr th:only-of-type {\n",
       "        vertical-align: middle;\n",
       "    }\n",
       "\n",
       "    .dataframe tbody tr th {\n",
       "        vertical-align: top;\n",
       "    }\n",
       "\n",
       "    .dataframe thead th {\n",
       "        text-align: right;\n",
       "    }\n",
       "</style>\n",
       "<table border=\"1\" class=\"dataframe\">\n",
       "  <thead>\n",
       "    <tr style=\"text-align: right;\">\n",
       "      <th></th>\n",
       "      <th>label</th>\n",
       "      <th>type</th>\n",
       "      <th>ENSEMBL</th>\n",
       "      <th>HGNC</th>\n",
       "    </tr>\n",
       "    <tr>\n",
       "      <th>id</th>\n",
       "      <th></th>\n",
       "      <th></th>\n",
       "      <th></th>\n",
       "      <th></th>\n",
       "    </tr>\n",
       "  </thead>\n",
       "  <tbody>\n",
       "    <tr>\n",
       "      <th>ENSEMBL:ENSG00000270020 CUI</th>\n",
       "      <td>ENSG00000270020</td>\n",
       "      <td>Gene</td>\n",
       "      <td>ENSG00000270020</td>\n",
       "      <td>NaN</td>\n",
       "    </tr>\n",
       "    <tr>\n",
       "      <th>C1822930</th>\n",
       "      <td>SNORD32A</td>\n",
       "      <td>Gene</td>\n",
       "      <td>ENSG00000201675</td>\n",
       "      <td>10159</td>\n",
       "    </tr>\n",
       "    <tr>\n",
       "      <th>ENSEMBL:ENSG00000207420 CUI</th>\n",
       "      <td>Y_RNA</td>\n",
       "      <td>Gene</td>\n",
       "      <td>ENSG00000207420</td>\n",
       "      <td>NaN</td>\n",
       "    </tr>\n",
       "    <tr>\n",
       "      <th>C1421369</th>\n",
       "      <td>UQCRBP1</td>\n",
       "      <td>Gene</td>\n",
       "      <td>ENSG00000237748</td>\n",
       "      <td>12583</td>\n",
       "    </tr>\n",
       "    <tr>\n",
       "      <th>C2239655</th>\n",
       "      <td>LRIT3</td>\n",
       "      <td>Gene</td>\n",
       "      <td>ENSG00000183423</td>\n",
       "      <td>24783</td>\n",
       "    </tr>\n",
       "  </tbody>\n",
       "</table>\n",
       "</div>"
      ],
      "text/plain": [
       "                                       label  type          ENSEMBL   HGNC\n",
       "id                                                                        \n",
       "ENSEMBL:ENSG00000270020 CUI  ENSG00000270020  Gene  ENSG00000270020    NaN\n",
       "C1822930                            SNORD32A  Gene  ENSG00000201675  10159\n",
       "ENSEMBL:ENSG00000207420 CUI            Y_RNA  Gene  ENSG00000207420    NaN\n",
       "C1421369                             UQCRBP1  Gene  ENSG00000237748  12583\n",
       "C2239655                               LRIT3  Gene  ENSG00000183423  24783"
      ]
     },
     "execution_count": 32,
     "metadata": {},
     "output_type": "execute_result"
    }
   ],
   "source": [
    "nodes[\"Gene\"].head()"
   ]
  },
  {
   "cell_type": "markdown",
   "metadata": {},
   "source": [
    "## Glygen"
   ]
  },
  {
   "cell_type": "code",
   "execution_count": 47,
   "metadata": {},
   "outputs": [
    {
     "name": "stderr",
     "output_type": "stream",
     "text": [
      "173212741it [02:21, 1228168.15it/s]\n"
     ]
    },
    {
     "data": {
      "text/html": [
       "<div>\n",
       "<style scoped>\n",
       "    .dataframe tbody tr th:only-of-type {\n",
       "        vertical-align: middle;\n",
       "    }\n",
       "\n",
       "    .dataframe tbody tr th {\n",
       "        vertical-align: top;\n",
       "    }\n",
       "\n",
       "    .dataframe thead th {\n",
       "        text-align: right;\n",
       "    }\n",
       "</style>\n",
       "<table border=\"1\" class=\"dataframe\">\n",
       "  <thead>\n",
       "    <tr style=\"text-align: right;\">\n",
       "      <th></th>\n",
       "      <th>source</th>\n",
       "      <th>target</th>\n",
       "      <th>relation</th>\n",
       "      <th>SAB</th>\n",
       "      <th>evidence_class</th>\n",
       "      <th>dcc</th>\n",
       "    </tr>\n",
       "  </thead>\n",
       "  <tbody>\n",
       "    <tr>\n",
       "      <th>0</th>\n",
       "      <td>UNIPROTKB:O14490 CUI</td>\n",
       "      <td>UNIPROTKB.ISOFORM:O14490-1 CUI</td>\n",
       "      <td>has_isoform</td>\n",
       "      <td>PROTEOFORM</td>\n",
       "      <td></td>\n",
       "      <td>GlyGen</td>\n",
       "    </tr>\n",
       "    <tr>\n",
       "      <th>1</th>\n",
       "      <td>UNIPROTKB:E9Q7T7 CUI</td>\n",
       "      <td>UNIPROTKB.ISOFORM:E9Q7T7-1 CUI</td>\n",
       "      <td>has_isoform</td>\n",
       "      <td>PROTEOFORM</td>\n",
       "      <td></td>\n",
       "      <td>GlyGen</td>\n",
       "    </tr>\n",
       "    <tr>\n",
       "      <th>2</th>\n",
       "      <td>UNIPROTKB:O14513 CUI</td>\n",
       "      <td>UNIPROTKB.ISOFORM:O14513-1 CUI</td>\n",
       "      <td>has_isoform</td>\n",
       "      <td>PROTEOFORM</td>\n",
       "      <td></td>\n",
       "      <td>GlyGen</td>\n",
       "    </tr>\n",
       "    <tr>\n",
       "      <th>3</th>\n",
       "      <td>UNIPROTKB:O15355 CUI</td>\n",
       "      <td>UNIPROTKB.ISOFORM:O15355-1 CUI</td>\n",
       "      <td>has_isoform</td>\n",
       "      <td>PROTEOFORM</td>\n",
       "      <td></td>\n",
       "      <td>GlyGen</td>\n",
       "    </tr>\n",
       "    <tr>\n",
       "      <th>4</th>\n",
       "      <td>UNIPROTKB:O15488 CUI</td>\n",
       "      <td>UNIPROTKB.ISOFORM:O15488-1 CUI</td>\n",
       "      <td>has_isoform</td>\n",
       "      <td>PROTEOFORM</td>\n",
       "      <td></td>\n",
       "      <td>GlyGen</td>\n",
       "    </tr>\n",
       "  </tbody>\n",
       "</table>\n",
       "</div>"
      ],
      "text/plain": [
       "                 source                          target     relation  \\\n",
       "0  UNIPROTKB:O14490 CUI  UNIPROTKB.ISOFORM:O14490-1 CUI  has_isoform   \n",
       "1  UNIPROTKB:E9Q7T7 CUI  UNIPROTKB.ISOFORM:E9Q7T7-1 CUI  has_isoform   \n",
       "2  UNIPROTKB:O14513 CUI  UNIPROTKB.ISOFORM:O14513-1 CUI  has_isoform   \n",
       "3  UNIPROTKB:O15355 CUI  UNIPROTKB.ISOFORM:O15355-1 CUI  has_isoform   \n",
       "4  UNIPROTKB:O15488 CUI  UNIPROTKB.ISOFORM:O15488-1 CUI  has_isoform   \n",
       "\n",
       "          SAB evidence_class     dcc  \n",
       "0  PROTEOFORM                 GlyGen  \n",
       "1  PROTEOFORM                 GlyGen  \n",
       "2  PROTEOFORM                 GlyGen  \n",
       "3  PROTEOFORM                 GlyGen  \n",
       "4  PROTEOFORM                 GlyGen  "
      ]
     },
     "execution_count": 47,
     "metadata": {},
     "output_type": "execute_result"
    }
   ],
   "source": [
    "sab = 'PROTEOFORM'\n",
    "dcc = \"GlyGen\"\n",
    "df = get_sab_df(sab, dcc)\n",
    "df.head()"
   ]
  },
  {
   "cell_type": "code",
   "execution_count": 48,
   "metadata": {},
   "outputs": [
    {
     "data": {
      "text/plain": [
       "array(['has_isoform', 'has_evidence', 'sequence', 'citation',\n",
       "       'has_pro_entry', 'glycosylated_at', 'location', 'has_saccharide',\n",
       "       'has_amino_acid', 'inverse_has_isoform', 'is_evidence_for',\n",
       "       'inverse_sequence', 'inverse_citation', 'inverse_has_pro_entry',\n",
       "       'inverse_glycosylated_at', 'inverse_location',\n",
       "       'inverse_has_saccharide', 'inverse_has_amino_acid'], dtype=object)"
      ]
     },
     "execution_count": 48,
     "metadata": {},
     "output_type": "execute_result"
    }
   ],
   "source": [
    "df.relation.unique()"
   ]
  },
  {
   "cell_type": "code",
   "execution_count": 221,
   "metadata": {},
   "outputs": [
    {
     "data": {
      "text/plain": [
       "array(['has_isoform', 'has_evidence', 'sequence', 'citation',\n",
       "       'has_pro_entry', 'glycosylated_at', 'location', 'has_saccharide',\n",
       "       'has_amino_acid', 'inverse_has_isoform', 'is_evidence_for',\n",
       "       'inverse_sequence', 'inverse_citation', 'inverse_has_pro_entry',\n",
       "       'inverse_glycosylated_at', 'inverse_location',\n",
       "       'inverse_has_saccharide', 'inverse_has_amino_acid'], dtype=object)"
      ]
     },
     "execution_count": 221,
     "metadata": {},
     "output_type": "execute_result"
    }
   ],
   "source": [
    "df.relation.unique()"
   ]
  },
  {
   "cell_type": "code",
   "execution_count": 49,
   "metadata": {},
   "outputs": [],
   "source": [
    "relations = {\n",
    "\t\"has_isoform\": {\n",
    "\t\t\"source\": \"Protein\",\n",
    "\t\t\"target\": \"Isoform\",\n",
    "\t},\n",
    "\t\"has_evidence\": {\n",
    "\t\t\"source\": \"Glycoprotein\",\n",
    "\t\t\"target\": \"Glycoprotein Evidence\", # Uberon, EFO\n",
    "\t},\n",
    "\t\"sequence\": {\n",
    "\t\t\"source\": \"Glycoprotein\",\n",
    "\t\t\"target\": \"Isoform\",\n",
    "\t},\n",
    "\t\"citation\": {\n",
    "\t\t\"source\": \"Glycoprotein Evidence\",\n",
    "\t\t\"target\": \"Glycoprotein Citation\",\n",
    "\t},\n",
    "\t\"has_pro_entry\": {\n",
    "\t\t\"source\": \"Glycoprotein\",\n",
    "\t\t\"target\": \"GP ID2PRO\"\n",
    "\t},\n",
    "\t\"glycosylated_at\": {\n",
    "\t\t\"source\": \"Glycoprotein\",\n",
    "\t\t\"target\": \"Glycosylation Site\"\n",
    "\t},\n",
    "\t\"location\": {\n",
    "\t\t\"source\": \"Glycosylation Site\",\n",
    "\t\t\"target\": \"GlyGen Location\"\n",
    "\t},\n",
    "\t\"has_saccharide\": {\n",
    "\t\t\"source\": \"Glycosylation Site\",\n",
    "\t\t\"target\": \"Glytoucan\"\n",
    "\t},\n",
    "\t\"has_amino_acid\": {\n",
    "\t\t\"source\": \"GlyGen Location\",\n",
    "\t\t\"target\": \"Amino Acid\"\n",
    "\t}\n",
    "}"
   ]
  },
  {
   "cell_type": "code",
   "execution_count": 50,
   "metadata": {},
   "outputs": [],
   "source": [
    "df[df.relation.isin(relations.keys())].to_csv('out/sab/PROTEOFORM.edges.csv')"
   ]
  },
  {
   "cell_type": "code",
   "execution_count": 51,
   "metadata": {},
   "outputs": [
    {
     "name": "stdout",
     "output_type": "stream",
     "text": [
      "Protein\n",
      "Isoform\n",
      "Glycoprotein\n",
      "Glycoprotein Evidence\n",
      "Glycoprotein Citation\n",
      "GP ID2PRO\n",
      "Glycosylation Site\n",
      "GlyGen Location\n",
      "Glytoucan\n",
      "Amino Acid\n"
     ]
    }
   ],
   "source": [
    "nodes = get_nodes(df, sab, relations)"
   ]
  },
  {
   "cell_type": "code",
   "execution_count": 52,
   "metadata": {},
   "outputs": [
    {
     "name": "stderr",
     "output_type": "stream",
     "text": [
      "173212741it [02:25, 1190978.68it/s]\n"
     ]
    },
    {
     "data": {
      "text/html": [
       "<div>\n",
       "<style scoped>\n",
       "    .dataframe tbody tr th:only-of-type {\n",
       "        vertical-align: middle;\n",
       "    }\n",
       "\n",
       "    .dataframe tbody tr th {\n",
       "        vertical-align: top;\n",
       "    }\n",
       "\n",
       "    .dataframe thead th {\n",
       "        text-align: right;\n",
       "    }\n",
       "</style>\n",
       "<table border=\"1\" class=\"dataframe\">\n",
       "  <thead>\n",
       "    <tr style=\"text-align: right;\">\n",
       "      <th></th>\n",
       "      <th>source</th>\n",
       "      <th>target</th>\n",
       "      <th>relation</th>\n",
       "      <th>SAB</th>\n",
       "      <th>evidence_class</th>\n",
       "      <th>dcc</th>\n",
       "    </tr>\n",
       "  </thead>\n",
       "  <tbody>\n",
       "    <tr>\n",
       "      <th>0</th>\n",
       "      <td>GLYGEN.GLYCOSYLATION:RXN00000038 CUI</td>\n",
       "      <td>UNIPROTKB:P38649 CUI</td>\n",
       "      <td>has_enzyme_protein</td>\n",
       "      <td>GLYCANS</td>\n",
       "      <td></td>\n",
       "      <td>GlyGen</td>\n",
       "    </tr>\n",
       "    <tr>\n",
       "      <th>1</th>\n",
       "      <td>GLYCOSYLTRANSFERASE.REACTION:RXN00000011 CUI</td>\n",
       "      <td>UNIPROTKB:P38649 CUI</td>\n",
       "      <td>has_enzyme_protein</td>\n",
       "      <td>GLYCANS</td>\n",
       "      <td></td>\n",
       "      <td>GlyGen</td>\n",
       "    </tr>\n",
       "    <tr>\n",
       "      <th>2</th>\n",
       "      <td>GLYTOUCAN:G85555HC CUI</td>\n",
       "      <td>GLYGEN.SRC:G85555HC-SRC00000461 CUI</td>\n",
       "      <td>is_from_source</td>\n",
       "      <td>GLYCANS</td>\n",
       "      <td></td>\n",
       "      <td>GlyGen</td>\n",
       "    </tr>\n",
       "    <tr>\n",
       "      <th>3</th>\n",
       "      <td>GLYTOUCAN:G89102AG CUI</td>\n",
       "      <td>GLYGEN.SRC:G89102AG-SRC00000121 CUI</td>\n",
       "      <td>is_from_source</td>\n",
       "      <td>GLYCANS</td>\n",
       "      <td></td>\n",
       "      <td>GlyGen</td>\n",
       "    </tr>\n",
       "    <tr>\n",
       "      <th>4</th>\n",
       "      <td>GLYTOUCAN:G94192DA CUI</td>\n",
       "      <td>GLYGEN.GLYCOSEQUENCE:G94192DA-GLYCOSEQ00002593...</td>\n",
       "      <td>has_glycosequence</td>\n",
       "      <td>GLYCANS</td>\n",
       "      <td></td>\n",
       "      <td>GlyGen</td>\n",
       "    </tr>\n",
       "  </tbody>\n",
       "</table>\n",
       "</div>"
      ],
      "text/plain": [
       "                                         source  \\\n",
       "0          GLYGEN.GLYCOSYLATION:RXN00000038 CUI   \n",
       "1  GLYCOSYLTRANSFERASE.REACTION:RXN00000011 CUI   \n",
       "2                        GLYTOUCAN:G85555HC CUI   \n",
       "3                        GLYTOUCAN:G89102AG CUI   \n",
       "4                        GLYTOUCAN:G94192DA CUI   \n",
       "\n",
       "                                              target            relation  \\\n",
       "0                               UNIPROTKB:P38649 CUI  has_enzyme_protein   \n",
       "1                               UNIPROTKB:P38649 CUI  has_enzyme_protein   \n",
       "2                GLYGEN.SRC:G85555HC-SRC00000461 CUI      is_from_source   \n",
       "3                GLYGEN.SRC:G89102AG-SRC00000121 CUI      is_from_source   \n",
       "4  GLYGEN.GLYCOSEQUENCE:G94192DA-GLYCOSEQ00002593...   has_glycosequence   \n",
       "\n",
       "       SAB evidence_class     dcc  \n",
       "0  GLYCANS                 GlyGen  \n",
       "1  GLYCANS                 GlyGen  \n",
       "2  GLYCANS                 GlyGen  \n",
       "3  GLYCANS                 GlyGen  \n",
       "4  GLYCANS                 GlyGen  "
      ]
     },
     "execution_count": 52,
     "metadata": {},
     "output_type": "execute_result"
    }
   ],
   "source": [
    "sab = 'GLYCANS'\n",
    "dcc = \"GlyGen\"\n",
    "df = get_sab_df(sab, dcc)\n",
    "df.head()"
   ]
  },
  {
   "cell_type": "code",
   "execution_count": 53,
   "metadata": {},
   "outputs": [
    {
     "data": {
      "text/plain": [
       "array(['has_enzyme_protein', 'is_from_source', 'has_glycosequence',\n",
       "       'attached_by', 'synthesized_by', 'has_motif',\n",
       "       'has_canonical_residue', 'has_parent',\n",
       "       'inverse_has_enzyme_protein', 'inverse_is_from_source',\n",
       "       'inverse_has_glycosequence', 'inverse_attached_by',\n",
       "       'inverse_synthesized_by', 'inverse_has_motif',\n",
       "       'inverse_has_canonical_residue', 'inverse_has_parent'],\n",
       "      dtype=object)"
      ]
     },
     "execution_count": 53,
     "metadata": {},
     "output_type": "execute_result"
    }
   ],
   "source": [
    "df.relation.unique()"
   ]
  },
  {
   "cell_type": "code",
   "execution_count": 229,
   "metadata": {},
   "outputs": [
    {
     "data": {
      "text/plain": [
       "array(['has_enzyme_protein', 'is_from_source', 'has_glycosequence',\n",
       "       'attached_by', 'synthesized_by', 'has_motif',\n",
       "       'has_canonical_residue', 'has_parent',\n",
       "       'inverse_has_enzyme_protein', 'inverse_is_from_source',\n",
       "       'inverse_has_glycosequence', 'inverse_attached_by',\n",
       "       'inverse_synthesized_by', 'inverse_has_motif',\n",
       "       'inverse_has_canonical_residue', 'inverse_has_parent'],\n",
       "      dtype=object)"
      ]
     },
     "execution_count": 229,
     "metadata": {},
     "output_type": "execute_result"
    }
   ],
   "source": [
    "df.relation.unique()"
   ]
  },
  {
   "cell_type": "code",
   "execution_count": 54,
   "metadata": {},
   "outputs": [
    {
     "data": {
      "text/plain": [
       "{'GLYCOSYLTRANSFERASE.REACTION', 'GLYGEN.GLYCOSYLATION'}"
      ]
     },
     "execution_count": 54,
     "metadata": {},
     "output_type": "execute_result"
    }
   ],
   "source": [
    "set([i.split(\":\")[0] for i in df[df.relation == \"has_enzyme_protein\"].source])"
   ]
  },
  {
   "cell_type": "code",
   "execution_count": 56,
   "metadata": {},
   "outputs": [
    {
     "name": "stdout",
     "output_type": "stream",
     "text": [
      "91\n"
     ]
    }
   ],
   "source": [
    "relation = \"has_enzyme_protein\"\n",
    "s = 'GLYCOSYLTRANSFERASE.REACTION'\n",
    "source_ids = [i for i in df[df.relation == relation].source if i.startswith(s)]\n",
    "ind = df[(df.relation == relation) & (df.source.isin(source_ids))].index\n",
    "print(len(ind))\n",
    "df.loc[ind, 'relation'] = 'has_enzyme_protein_gr'"
   ]
  },
  {
   "cell_type": "code",
   "execution_count": 57,
   "metadata": {},
   "outputs": [],
   "source": [
    "relations = {\n",
    "\t\"has_enzyme_protein\": {\n",
    "\t\t\"source\": \"Glycosylation\",\n",
    "\t\t\"target\": \"Protein\",\n",
    "\t},\n",
    "\t\"has_enzyme_protein_gr\": {\n",
    "\t\t\"source\": \"Glycosyltransferase Reaction\",\n",
    "\t\t\"target\": \"Protein\",\n",
    "\t},\n",
    "\t\"is_from_source\": {\n",
    "\t\t\"source\": \"Glytoucan\",\n",
    "\t\t\"target\": \"GlyGen src\", # Uberon, EFO\n",
    "\t},\n",
    "\t\"has_glycosequence\": {\n",
    "\t\t\"source\": \"Glytoucan\",\n",
    "\t\t\"target\": \"GlyGen Glycosequence\",\n",
    "\t},\n",
    "\t\"attached_by\": {\n",
    "\t\t\"source\": \"GlyGen Residue\",\n",
    "\t\t\"target\": \"Glycosylation\",\n",
    "\t},\n",
    "\t\"synthesized_by\": {\n",
    "\t\t\"source\": \"Glytoucan\",\n",
    "\t\t\"target\": \"Glycosyltransferase Reaction\"\n",
    "\t},\n",
    "\t\"has_motif\": {\n",
    "\t\t\"source\": \"Glytoucan\",\n",
    "\t\t\"target\": \"Glycan Motif\"\n",
    "\t},\n",
    "\t\"has_canonical_residue\": {\n",
    "\t\t\"source\": \"Glytoucan\",\n",
    "\t\t\"target\": \"GlyGen Residue\"\n",
    "\t},\n",
    "\t\"has_parent\": {\n",
    "\t\t\"source\": \"GlyGen Residue\",\n",
    "\t\t\"target\": \"GlyGen Residue\"\n",
    "\t}\n",
    "}"
   ]
  },
  {
   "cell_type": "code",
   "execution_count": 58,
   "metadata": {},
   "outputs": [
    {
     "data": {
      "text/plain": [
       "{'inverse_attached_by',\n",
       " 'inverse_has_canonical_residue',\n",
       " 'inverse_has_enzyme_protein',\n",
       " 'inverse_has_glycosequence',\n",
       " 'inverse_has_motif',\n",
       " 'inverse_has_parent',\n",
       " 'inverse_is_from_source',\n",
       " 'inverse_synthesized_by'}"
      ]
     },
     "execution_count": 58,
     "metadata": {},
     "output_type": "execute_result"
    }
   ],
   "source": [
    "set(df.relation) - set(relations.keys())"
   ]
  },
  {
   "cell_type": "code",
   "execution_count": 59,
   "metadata": {},
   "outputs": [],
   "source": [
    "df[df.relation.isin(relations.keys())].to_csv('out/sab/GLYCANS.edges.csv')"
   ]
  },
  {
   "cell_type": "code",
   "execution_count": 60,
   "metadata": {},
   "outputs": [
    {
     "name": "stdout",
     "output_type": "stream",
     "text": [
      "Glycosylation\n",
      "Protein\n",
      "Glycosyltransferase Reaction\n",
      "Glytoucan\n",
      "GlyGen src\n",
      "GlyGen Glycosequence\n",
      "GlyGen Residue\n",
      "Glycan Motif\n"
     ]
    }
   ],
   "source": [
    "nodes = get_nodes(df, sab, relations)"
   ]
  },
  {
   "cell_type": "markdown",
   "metadata": {},
   "source": [
    "## GTEx"
   ]
  },
  {
   "cell_type": "code",
   "execution_count": 61,
   "metadata": {},
   "outputs": [
    {
     "name": "stderr",
     "output_type": "stream",
     "text": [
      "173212741it [04:10, 691604.61it/s] \n"
     ]
    },
    {
     "data": {
      "text/html": [
       "<div>\n",
       "<style scoped>\n",
       "    .dataframe tbody tr th:only-of-type {\n",
       "        vertical-align: middle;\n",
       "    }\n",
       "\n",
       "    .dataframe tbody tr th {\n",
       "        vertical-align: top;\n",
       "    }\n",
       "\n",
       "    .dataframe thead th {\n",
       "        text-align: right;\n",
       "    }\n",
       "</style>\n",
       "<table border=\"1\" class=\"dataframe\">\n",
       "  <thead>\n",
       "    <tr style=\"text-align: right;\">\n",
       "      <th></th>\n",
       "      <th>source</th>\n",
       "      <th>target</th>\n",
       "      <th>relation</th>\n",
       "      <th>SAB</th>\n",
       "      <th>evidence_class</th>\n",
       "      <th>dcc</th>\n",
       "    </tr>\n",
       "  </thead>\n",
       "  <tbody>\n",
       "    <tr>\n",
       "      <th>0</th>\n",
       "      <td>GTEXEXP:ENSG00000223972-5-Testis CUI</td>\n",
       "      <td>EXPBINS:0.1.0.2 CUI</td>\n",
       "      <td>has_expression</td>\n",
       "      <td>GTEXEXP</td>\n",
       "      <td></td>\n",
       "      <td>GTEx</td>\n",
       "    </tr>\n",
       "    <tr>\n",
       "      <th>1</th>\n",
       "      <td>GTEXEXP:ENSG00000227232-5-Adipose-Subcutaneous...</td>\n",
       "      <td>EXPBINS:4.0.5.0 CUI</td>\n",
       "      <td>has_expression</td>\n",
       "      <td>GTEXEXP</td>\n",
       "      <td></td>\n",
       "      <td>GTEx</td>\n",
       "    </tr>\n",
       "    <tr>\n",
       "      <th>2</th>\n",
       "      <td>GTEXEXP:ENSG00000227232-5-Adrenal-Gland CUI</td>\n",
       "      <td>EXPBINS:2.0.3.0 CUI</td>\n",
       "      <td>has_expression</td>\n",
       "      <td>GTEXEXP</td>\n",
       "      <td></td>\n",
       "      <td>GTEx</td>\n",
       "    </tr>\n",
       "    <tr>\n",
       "      <th>3</th>\n",
       "      <td>GTEXEXP:ENSG00000227232-5-Artery-Aorta CUI</td>\n",
       "      <td>EXPBINS:4.0.5.0 CUI</td>\n",
       "      <td>has_expression</td>\n",
       "      <td>GTEXEXP</td>\n",
       "      <td></td>\n",
       "      <td>GTEx</td>\n",
       "    </tr>\n",
       "    <tr>\n",
       "      <th>4</th>\n",
       "      <td>GTEXEXP:ENSG00000227232-5-Artery-Coronary CUI</td>\n",
       "      <td>EXPBINS:3.0.4.0 CUI</td>\n",
       "      <td>has_expression</td>\n",
       "      <td>GTEXEXP</td>\n",
       "      <td></td>\n",
       "      <td>GTEx</td>\n",
       "    </tr>\n",
       "  </tbody>\n",
       "</table>\n",
       "</div>"
      ],
      "text/plain": [
       "                                              source               target  \\\n",
       "0               GTEXEXP:ENSG00000223972-5-Testis CUI  EXPBINS:0.1.0.2 CUI   \n",
       "1  GTEXEXP:ENSG00000227232-5-Adipose-Subcutaneous...  EXPBINS:4.0.5.0 CUI   \n",
       "2        GTEXEXP:ENSG00000227232-5-Adrenal-Gland CUI  EXPBINS:2.0.3.0 CUI   \n",
       "3         GTEXEXP:ENSG00000227232-5-Artery-Aorta CUI  EXPBINS:4.0.5.0 CUI   \n",
       "4      GTEXEXP:ENSG00000227232-5-Artery-Coronary CUI  EXPBINS:3.0.4.0 CUI   \n",
       "\n",
       "         relation      SAB evidence_class   dcc  \n",
       "0  has_expression  GTEXEXP                 GTEx  \n",
       "1  has_expression  GTEXEXP                 GTEx  \n",
       "2  has_expression  GTEXEXP                 GTEx  \n",
       "3  has_expression  GTEXEXP                 GTEx  \n",
       "4  has_expression  GTEXEXP                 GTEx  "
      ]
     },
     "execution_count": 61,
     "metadata": {},
     "output_type": "execute_result"
    }
   ],
   "source": [
    "sab = 'GTEXEXP'\n",
    "dcc = \"GTEx\"\n",
    "df = get_sab_df(sab, dcc)\n",
    "df.head()"
   ]
  },
  {
   "cell_type": "code",
   "execution_count": 62,
   "metadata": {},
   "outputs": [
    {
     "data": {
      "text/plain": [
       "(1573380, 1573380)"
      ]
     },
     "execution_count": 62,
     "metadata": {},
     "output_type": "execute_result"
    }
   ],
   "source": [
    "len(df[df.relation == 'has_expression'].source), len(df[df.relation == 'has_expression'].source.unique())"
   ]
  },
  {
   "cell_type": "code",
   "execution_count": 63,
   "metadata": {},
   "outputs": [],
   "source": [
    "relation = \"expressed_in\"\n",
    "targets = df[df.relation == relation].target.unique()\n",
    "# s = 'GLYCOSYLTRANSFERASE.REACTION'\n",
    "# source_ids = [i for i in df[df.relation == relation].source if i.startswith(s)]\n",
    "# ind = df[(df.relation == relation) & (df.source.isin(source_ids))].index\n",
    "# print(len(ind))\n",
    "# df.loc[ind, 'relation'] = 'has_enzyme_protein_gr'"
   ]
  },
  {
   "cell_type": "code",
   "execution_count": 64,
   "metadata": {},
   "outputs": [],
   "source": [
    "tmp = concept_code[concept_code.SAB.isin(['HGNC', 'ENSEMBLE', 'UBERON', 'EFO'])]"
   ]
  },
  {
   "cell_type": "code",
   "execution_count": 65,
   "metadata": {},
   "outputs": [
    {
     "data": {
      "text/html": [
       "<div>\n",
       "<style scoped>\n",
       "    .dataframe tbody tr th:only-of-type {\n",
       "        vertical-align: middle;\n",
       "    }\n",
       "\n",
       "    .dataframe tbody tr th {\n",
       "        vertical-align: top;\n",
       "    }\n",
       "\n",
       "    .dataframe thead th {\n",
       "        text-align: right;\n",
       "    }\n",
       "</style>\n",
       "<table border=\"1\" class=\"dataframe\">\n",
       "  <thead>\n",
       "    <tr style=\"text-align: right;\">\n",
       "      <th></th>\n",
       "      <th>code_id</th>\n",
       "      <th>SAB</th>\n",
       "      <th>CODE</th>\n",
       "      <th>value:float</th>\n",
       "      <th>lowerbound:float</th>\n",
       "      <th>upperbound:float</th>\n",
       "      <th>unit</th>\n",
       "    </tr>\n",
       "    <tr>\n",
       "      <th>id</th>\n",
       "      <th></th>\n",
       "      <th></th>\n",
       "      <th></th>\n",
       "      <th></th>\n",
       "      <th></th>\n",
       "      <th></th>\n",
       "      <th></th>\n",
       "    </tr>\n",
       "  </thead>\n",
       "  <tbody>\n",
       "    <tr>\n",
       "      <th>C0000696</th>\n",
       "      <td>UBERON:0006135</td>\n",
       "      <td>UBERON</td>\n",
       "      <td>6135</td>\n",
       "      <td>NaN</td>\n",
       "      <td>NaN</td>\n",
       "      <td>NaN</td>\n",
       "      <td>NaN</td>\n",
       "    </tr>\n",
       "    <tr>\n",
       "      <th>C0000726</th>\n",
       "      <td>UBERON:0000916</td>\n",
       "      <td>UBERON</td>\n",
       "      <td>0000916</td>\n",
       "      <td>NaN</td>\n",
       "      <td>NaN</td>\n",
       "      <td>NaN</td>\n",
       "      <td>NaN</td>\n",
       "    </tr>\n",
       "    <tr>\n",
       "      <th>C0000739</th>\n",
       "      <td>UBERON:0002378</td>\n",
       "      <td>UBERON</td>\n",
       "      <td>0002378</td>\n",
       "      <td>NaN</td>\n",
       "      <td>NaN</td>\n",
       "      <td>NaN</td>\n",
       "      <td>NaN</td>\n",
       "    </tr>\n",
       "    <tr>\n",
       "      <th>C0000741</th>\n",
       "      <td>UBERON:0001646</td>\n",
       "      <td>UBERON</td>\n",
       "      <td>0001646</td>\n",
       "      <td>NaN</td>\n",
       "      <td>NaN</td>\n",
       "      <td>NaN</td>\n",
       "      <td>NaN</td>\n",
       "    </tr>\n",
       "    <tr>\n",
       "      <th>C0000773</th>\n",
       "      <td>EFO:0009565</td>\n",
       "      <td>EFO</td>\n",
       "      <td>0009565</td>\n",
       "      <td>NaN</td>\n",
       "      <td>NaN</td>\n",
       "      <td>NaN</td>\n",
       "      <td>NaN</td>\n",
       "    </tr>\n",
       "  </tbody>\n",
       "</table>\n",
       "</div>"
      ],
      "text/plain": [
       "                 code_id     SAB     CODE  value:float  lowerbound:float  \\\n",
       "id                                                                         \n",
       "C0000696  UBERON:0006135  UBERON     6135          NaN               NaN   \n",
       "C0000726  UBERON:0000916  UBERON  0000916          NaN               NaN   \n",
       "C0000739  UBERON:0002378  UBERON  0002378          NaN               NaN   \n",
       "C0000741  UBERON:0001646  UBERON  0001646          NaN               NaN   \n",
       "C0000773     EFO:0009565     EFO  0009565          NaN               NaN   \n",
       "\n",
       "          upperbound:float  unit  \n",
       "id                                \n",
       "C0000696               NaN   NaN  \n",
       "C0000726               NaN   NaN  \n",
       "C0000739               NaN   NaN  \n",
       "C0000741               NaN   NaN  \n",
       "C0000773               NaN   NaN  "
      ]
     },
     "execution_count": 65,
     "metadata": {},
     "output_type": "execute_result"
    }
   ],
   "source": [
    "tmp = tmp.groupby(\"id\").first()\n",
    "tmp.head()"
   ]
  },
  {
   "cell_type": "code",
   "execution_count": 66,
   "metadata": {},
   "outputs": [
    {
     "data": {
      "text/plain": [
       "(34623, 44, 34579)"
      ]
     },
     "execution_count": 66,
     "metadata": {},
     "output_type": "execute_result"
    }
   ],
   "source": [
    "anatomy_index = set(targets).intersection(tmp[tmp.SAB.isin(['UBERON', 'EFO'])].index)\n",
    "gene_index = set(targets).intersection(tmp[tmp.SAB.isin(['HGNC', 'ENSEMBLE'])].index)\n",
    "len(targets), len(anatomy_index), len(gene_index)"
   ]
  },
  {
   "cell_type": "code",
   "execution_count": 67,
   "metadata": {},
   "outputs": [
    {
     "name": "stdout",
     "output_type": "stream",
     "text": [
      "1573380\n"
     ]
    }
   ],
   "source": [
    "s = 'expressed_in'\n",
    "ind = df[(df.relation == relation) & (df.target.isin(gene_index))].index\n",
    "print(len(ind))"
   ]
  },
  {
   "cell_type": "code",
   "execution_count": 68,
   "metadata": {},
   "outputs": [],
   "source": [
    "df.loc[ind, 'relation'] = 'expressed_in_gene'"
   ]
  },
  {
   "cell_type": "code",
   "execution_count": 69,
   "metadata": {},
   "outputs": [
    {
     "name": "stdout",
     "output_type": "stream",
     "text": [
      "1573380\n"
     ]
    }
   ],
   "source": [
    "s = 'expressed_in'\n",
    "ind = df[(df.relation == relation) & (df.target.isin(anatomy_index))].index\n",
    "print(len(ind))"
   ]
  },
  {
   "cell_type": "code",
   "execution_count": 70,
   "metadata": {},
   "outputs": [],
   "source": [
    "df.loc[ind, 'relation'] = 'expressed_in_anatomy'"
   ]
  },
  {
   "cell_type": "code",
   "execution_count": 71,
   "metadata": {},
   "outputs": [],
   "source": [
    "relations = {\n",
    "\t\"expressed_in_gene\": {\n",
    "\t\t\"source\": \"GTEXEXP\",\n",
    "\t\t\"target\": \"Gene\",\n",
    "\t},\n",
    "\t\"expressed_in_anatomy\": {\n",
    "\t\t\"source\": \"GTEXEXP\",\n",
    "\t\t\"target\": \"Anatomy\",\n",
    "\t},\n",
    "\t\"has_expression\": {\n",
    "\t\t\"source\": \"GTEXEXP\",\n",
    "\t\t\"target\": \"EXPBINS\",\n",
    "\t},\n",
    "}"
   ]
  },
  {
   "cell_type": "code",
   "execution_count": 72,
   "metadata": {},
   "outputs": [
    {
     "data": {
      "text/plain": [
       "array(['has_expression', 'expressed_in_gene', 'expressed_in_anatomy',\n",
       "       'inverse_has_expression', 'expresses'], dtype=object)"
      ]
     },
     "execution_count": 72,
     "metadata": {},
     "output_type": "execute_result"
    }
   ],
   "source": [
    "df.relation.unique()"
   ]
  },
  {
   "cell_type": "code",
   "execution_count": 73,
   "metadata": {},
   "outputs": [
    {
     "name": "stdout",
     "output_type": "stream",
     "text": [
      "GTEXEXP\n",
      "Gene\n",
      "Anatomy\n",
      "EXPBINS\n"
     ]
    }
   ],
   "source": [
    "nodes = get_nodes(df, sab, relations)"
   ]
  },
  {
   "cell_type": "code",
   "execution_count": 74,
   "metadata": {},
   "outputs": [],
   "source": [
    "gtexexp = df[df.relation == \"has_expression\"].source.unique()"
   ]
  },
  {
   "cell_type": "code",
   "execution_count": 75,
   "metadata": {},
   "outputs": [
    {
     "data": {
      "text/plain": [
       "1573380"
      ]
     },
     "execution_count": 75,
     "metadata": {},
     "output_type": "execute_result"
    }
   ],
   "source": [
    "len(gtexexp)"
   ]
  },
  {
   "cell_type": "code",
   "execution_count": 76,
   "metadata": {},
   "outputs": [],
   "source": [
    "bins_dict = {}\n",
    "for i, row in df[df.relation == \"has_expression\"].iterrows():\n",
    "\tsource = row[\"source\"]\n",
    "\ttarget = row[\"target\"]\n",
    "\ttmp = target.replace(\" CUI\", \"\").split(\":\")[1]\n",
    "\tscore = \".\".join(tmp.split(\".\")[2:])\n",
    "\tbins_dict[source] = float(score)"
   ]
  },
  {
   "cell_type": "code",
   "execution_count": 77,
   "metadata": {},
   "outputs": [
    {
     "data": {
      "text/plain": [
       "(1573380, 1573380, 1573380)"
      ]
     },
     "execution_count": 77,
     "metadata": {},
     "output_type": "execute_result"
    }
   ],
   "source": [
    "anatomy_dict = {}\n",
    "for i, row in df[df.relation == \"expressed_in_anatomy\"].iterrows():\n",
    "\tsource = row[\"source\"]\n",
    "\ttarget = row[\"target\"]\n",
    "\tanatomy_dict[source] = target\n",
    "\n",
    "gene_dict = {}\n",
    "for i, row in df[df.relation == \"expressed_in_gene\"].iterrows():\n",
    "\tsource = row[\"source\"]\n",
    "\ttarget = row[\"target\"]\n",
    "\tgene_dict[source] = target\n",
    "len(anatomy_dict), len(gene_dict), len(bins_dict)"
   ]
  },
  {
   "cell_type": "code",
   "execution_count": 78,
   "metadata": {},
   "outputs": [],
   "source": [
    "# source\ttarget\trelation\tSAB\tevidence_class\tdcc\n",
    "\n",
    "ind = len(df.index)\n",
    "rows = {}\n",
    "for k, score in bins_dict.items():\n",
    "\tanatomy = anatomy_dict[k]\n",
    "\tgene = gene_dict[k]\n",
    "\trow = [gene, anatomy, \"expressed_in\", \"GTEXEXP\", score, \"GTEx\"]\n",
    "\trows[ind] = row\n",
    "\tind += 1"
   ]
  },
  {
   "cell_type": "code",
   "execution_count": 79,
   "metadata": {},
   "outputs": [
    {
     "data": {
      "text/html": [
       "<div>\n",
       "<style scoped>\n",
       "    .dataframe tbody tr th:only-of-type {\n",
       "        vertical-align: middle;\n",
       "    }\n",
       "\n",
       "    .dataframe tbody tr th {\n",
       "        vertical-align: top;\n",
       "    }\n",
       "\n",
       "    .dataframe thead th {\n",
       "        text-align: right;\n",
       "    }\n",
       "</style>\n",
       "<table border=\"1\" class=\"dataframe\">\n",
       "  <thead>\n",
       "    <tr style=\"text-align: right;\">\n",
       "      <th></th>\n",
       "      <th>source</th>\n",
       "      <th>target</th>\n",
       "      <th>relation</th>\n",
       "      <th>SAB</th>\n",
       "      <th>evidence_class</th>\n",
       "      <th>dcc</th>\n",
       "    </tr>\n",
       "  </thead>\n",
       "  <tbody>\n",
       "    <tr>\n",
       "      <th>9440280</th>\n",
       "      <td>C2239334</td>\n",
       "      <td>C0039597</td>\n",
       "      <td>expressed_in</td>\n",
       "      <td>GTEXEXP</td>\n",
       "      <td>0.2</td>\n",
       "      <td>GTEx</td>\n",
       "    </tr>\n",
       "    <tr>\n",
       "      <th>9440281</th>\n",
       "      <td>C2829144</td>\n",
       "      <td>C0222331</td>\n",
       "      <td>expressed_in</td>\n",
       "      <td>GTEXEXP</td>\n",
       "      <td>5.0</td>\n",
       "      <td>GTEx</td>\n",
       "    </tr>\n",
       "    <tr>\n",
       "      <th>9440282</th>\n",
       "      <td>C2829144</td>\n",
       "      <td>C0001625</td>\n",
       "      <td>expressed_in</td>\n",
       "      <td>GTEXEXP</td>\n",
       "      <td>3.0</td>\n",
       "      <td>GTEx</td>\n",
       "    </tr>\n",
       "    <tr>\n",
       "      <th>9440283</th>\n",
       "      <td>C2829144</td>\n",
       "      <td>C0003956</td>\n",
       "      <td>expressed_in</td>\n",
       "      <td>GTEXEXP</td>\n",
       "      <td>5.0</td>\n",
       "      <td>GTEx</td>\n",
       "    </tr>\n",
       "    <tr>\n",
       "      <th>9440284</th>\n",
       "      <td>C2829144</td>\n",
       "      <td>C0205042</td>\n",
       "      <td>expressed_in</td>\n",
       "      <td>GTEXEXP</td>\n",
       "      <td>4.0</td>\n",
       "      <td>GTEx</td>\n",
       "    </tr>\n",
       "  </tbody>\n",
       "</table>\n",
       "</div>"
      ],
      "text/plain": [
       "           source    target      relation      SAB  evidence_class   dcc\n",
       "9440280  C2239334  C0039597  expressed_in  GTEXEXP             0.2  GTEx\n",
       "9440281  C2829144  C0222331  expressed_in  GTEXEXP             5.0  GTEx\n",
       "9440282  C2829144  C0001625  expressed_in  GTEXEXP             3.0  GTEx\n",
       "9440283  C2829144  C0003956  expressed_in  GTEXEXP             5.0  GTEx\n",
       "9440284  C2829144  C0205042  expressed_in  GTEXEXP             4.0  GTEx"
      ]
     },
     "execution_count": 79,
     "metadata": {},
     "output_type": "execute_result"
    }
   ],
   "source": [
    "concat_df = pd.DataFrame.from_dict(rows, orient=\"index\", columns=df.columns)\n",
    "concat_df.head()"
   ]
  },
  {
   "cell_type": "code",
   "execution_count": 80,
   "metadata": {},
   "outputs": [],
   "source": [
    "df = pd.concat([df, concat_df])"
   ]
  },
  {
   "cell_type": "code",
   "execution_count": 81,
   "metadata": {},
   "outputs": [],
   "source": [
    "ind = df[df.relation == 'expressed_in_gene'].index\n",
    "df.loc[ind, 'relation'] = 'expressed_in'\n",
    "ind = df[df.relation == 'expressed_in_anatomy'].index\n",
    "df.loc[ind, 'relation'] = 'expressed_in'"
   ]
  },
  {
   "cell_type": "code",
   "execution_count": 82,
   "metadata": {},
   "outputs": [],
   "source": [
    "df = pd.concat([df, concat_df])"
   ]
  },
  {
   "cell_type": "code",
   "execution_count": 83,
   "metadata": {},
   "outputs": [],
   "source": [
    "df.to_csv('out/sab/GTEXEXP.edges.csv')"
   ]
  },
  {
   "cell_type": "code",
   "execution_count": 84,
   "metadata": {},
   "outputs": [
    {
     "data": {
      "text/plain": [
       "array(['has_expression', 'expressed_in', 'inverse_has_expression',\n",
       "       'expresses'], dtype=object)"
      ]
     },
     "execution_count": 84,
     "metadata": {},
     "output_type": "execute_result"
    }
   ],
   "source": [
    "df.relation.unique()"
   ]
  },
  {
   "cell_type": "code",
   "execution_count": 218,
   "metadata": {},
   "outputs": [
    {
     "data": {
      "text/plain": [
       "array(['has_expression', 'expressed_in', 'inverse_has_expression',\n",
       "       'expresses'], dtype=object)"
      ]
     },
     "execution_count": 218,
     "metadata": {},
     "output_type": "execute_result"
    }
   ],
   "source": [
    "df.relation.unique()"
   ]
  },
  {
   "cell_type": "code",
   "execution_count": 85,
   "metadata": {},
   "outputs": [],
   "source": [
    "df[df.relation.isin(['expressed_in', 'has_expression'])].to_csv('out/sab/GTEXEXP.edges.csv')"
   ]
  },
  {
   "cell_type": "code",
   "execution_count": 86,
   "metadata": {},
   "outputs": [
    {
     "name": "stderr",
     "output_type": "stream",
     "text": [
      "173212741it [04:17, 671529.63it/s] \n"
     ]
    },
    {
     "data": {
      "text/html": [
       "<div>\n",
       "<style scoped>\n",
       "    .dataframe tbody tr th:only-of-type {\n",
       "        vertical-align: middle;\n",
       "    }\n",
       "\n",
       "    .dataframe tbody tr th {\n",
       "        vertical-align: top;\n",
       "    }\n",
       "\n",
       "    .dataframe thead th {\n",
       "        text-align: right;\n",
       "    }\n",
       "</style>\n",
       "<table border=\"1\" class=\"dataframe\">\n",
       "  <thead>\n",
       "    <tr style=\"text-align: right;\">\n",
       "      <th></th>\n",
       "      <th>source</th>\n",
       "      <th>target</th>\n",
       "      <th>relation</th>\n",
       "      <th>SAB</th>\n",
       "      <th>evidence_class</th>\n",
       "      <th>dcc</th>\n",
       "    </tr>\n",
       "  </thead>\n",
       "  <tbody>\n",
       "    <tr>\n",
       "      <th>0</th>\n",
       "      <td>GTEXEQTL:eQTL.chr1.1434243.G.A.b38.Cells.Cultu...</td>\n",
       "      <td>C1428335</td>\n",
       "      <td>located_in</td>\n",
       "      <td>GTEXEQTL</td>\n",
       "      <td></td>\n",
       "      <td>GTEx</td>\n",
       "    </tr>\n",
       "    <tr>\n",
       "      <th>1</th>\n",
       "      <td>GTEXEQTL:eQTL.chr1.1497758.C.T.b38.Cells.Cultu...</td>\n",
       "      <td>C1428335</td>\n",
       "      <td>located_in</td>\n",
       "      <td>GTEXEQTL</td>\n",
       "      <td></td>\n",
       "      <td>GTEx</td>\n",
       "    </tr>\n",
       "    <tr>\n",
       "      <th>2</th>\n",
       "      <td>GTEXEQTL:eQTL.chr1.1499000.C.A.b38.Cells.Cultu...</td>\n",
       "      <td>C1428335</td>\n",
       "      <td>located_in</td>\n",
       "      <td>GTEXEQTL</td>\n",
       "      <td></td>\n",
       "      <td>GTEx</td>\n",
       "    </tr>\n",
       "    <tr>\n",
       "      <th>3</th>\n",
       "      <td>GTEXEQTL:eQTL.chr1.1499128.C.T.b38.Cells.Cultu...</td>\n",
       "      <td>C1428335</td>\n",
       "      <td>located_in</td>\n",
       "      <td>GTEXEQTL</td>\n",
       "      <td></td>\n",
       "      <td>GTEx</td>\n",
       "    </tr>\n",
       "    <tr>\n",
       "      <th>4</th>\n",
       "      <td>GTEXEQTL:eQTL.chr1.1499639.G.T.b38.Cells.Cultu...</td>\n",
       "      <td>C1428335</td>\n",
       "      <td>located_in</td>\n",
       "      <td>GTEXEQTL</td>\n",
       "      <td></td>\n",
       "      <td>GTEx</td>\n",
       "    </tr>\n",
       "  </tbody>\n",
       "</table>\n",
       "</div>"
      ],
      "text/plain": [
       "                                              source    target    relation  \\\n",
       "0  GTEXEQTL:eQTL.chr1.1434243.G.A.b38.Cells.Cultu...  C1428335  located_in   \n",
       "1  GTEXEQTL:eQTL.chr1.1497758.C.T.b38.Cells.Cultu...  C1428335  located_in   \n",
       "2  GTEXEQTL:eQTL.chr1.1499000.C.A.b38.Cells.Cultu...  C1428335  located_in   \n",
       "3  GTEXEQTL:eQTL.chr1.1499128.C.T.b38.Cells.Cultu...  C1428335  located_in   \n",
       "4  GTEXEQTL:eQTL.chr1.1499639.G.T.b38.Cells.Cultu...  C1428335  located_in   \n",
       "\n",
       "        SAB evidence_class   dcc  \n",
       "0  GTEXEQTL                 GTEx  \n",
       "1  GTEXEQTL                 GTEx  \n",
       "2  GTEXEQTL                 GTEx  \n",
       "3  GTEXEQTL                 GTEx  \n",
       "4  GTEXEQTL                 GTEx  "
      ]
     },
     "execution_count": 86,
     "metadata": {},
     "output_type": "execute_result"
    }
   ],
   "source": [
    "sab = 'GTEXEQTL'\n",
    "dcc = \"GTEx\"\n",
    "df = get_sab_df(sab, dcc)\n",
    "df.head()"
   ]
  },
  {
   "cell_type": "code",
   "execution_count": 87,
   "metadata": {},
   "outputs": [
    {
     "data": {
      "text/plain": [
       "array(['located_in', 'p_value', 'location_of', 'inverse_p_value'],\n",
       "      dtype=object)"
      ]
     },
     "execution_count": 87,
     "metadata": {},
     "output_type": "execute_result"
    }
   ],
   "source": [
    "df.relation.unique()"
   ]
  },
  {
   "cell_type": "code",
   "execution_count": 88,
   "metadata": {},
   "outputs": [
    {
     "data": {
      "text/plain": [
       "array(['C1428335', 'C3146465', 'C1823788', ...,\n",
       "       'HSCLO:chr12.69390001-69391000 CUI',\n",
       "       'HSCLO:chr12.69391001-69392000 CUI',\n",
       "       'HSCLO:chr12.69396001-69397000 CUI'], dtype=object)"
      ]
     },
     "execution_count": 88,
     "metadata": {},
     "output_type": "execute_result"
    }
   ],
   "source": [
    "df[df.relation == 'located_in'].target.unique()"
   ]
  },
  {
   "cell_type": "code",
   "execution_count": 89,
   "metadata": {},
   "outputs": [],
   "source": [
    "targets = df[df.relation == 'located_in'].target.unique()"
   ]
  },
  {
   "cell_type": "code",
   "execution_count": 90,
   "metadata": {},
   "outputs": [
    {
     "data": {
      "text/plain": [
       "(12814, 48, 301, 12465)"
      ]
     },
     "execution_count": 90,
     "metadata": {},
     "output_type": "execute_result"
    }
   ],
   "source": [
    "tmp = concept_code[concept_code.SAB.isin(['UBERON', 'EFO', 'HSCLO', 'HGNC'])]\n",
    "hsclo_index = set(targets).intersection(tmp[tmp.SAB.isin(['HSCLO'])][\"id\"])\n",
    "gene_index = set(targets).intersection(tmp[tmp.SAB.isin(['HGNC'])][\"id\"])\n",
    "anatomy_index = set(targets).intersection(tmp[tmp.SAB.isin(['UBERON', 'EFO'])][\"id\"])\n",
    "len(targets), len(anatomy_index), len(gene_index), len(hsclo_index)"
   ]
  },
  {
   "cell_type": "code",
   "execution_count": 91,
   "metadata": {},
   "outputs": [
    {
     "name": "stdout",
     "output_type": "stream",
     "text": [
      "1240810\n"
     ]
    }
   ],
   "source": [
    "relation = 'located_in'\n",
    "ind = df[(df.relation == relation) & (df.target.isin(hsclo_index))].index\n",
    "print(len(ind))"
   ]
  },
  {
   "cell_type": "code",
   "execution_count": 92,
   "metadata": {},
   "outputs": [],
   "source": [
    "df.loc[ind, 'relation'] = 'located_in_hsclo'"
   ]
  },
  {
   "cell_type": "code",
   "execution_count": 93,
   "metadata": {},
   "outputs": [
    {
     "name": "stdout",
     "output_type": "stream",
     "text": [
      "1240810\n"
     ]
    }
   ],
   "source": [
    "relation = 'located_in'\n",
    "ind = df[(df.relation == relation) & (df.target.isin(anatomy_index))].index\n",
    "print(len(ind))"
   ]
  },
  {
   "cell_type": "code",
   "execution_count": 94,
   "metadata": {},
   "outputs": [],
   "source": [
    "df.loc[ind, 'relation'] = 'located_in_anatomy'"
   ]
  },
  {
   "cell_type": "code",
   "execution_count": 95,
   "metadata": {},
   "outputs": [
    {
     "name": "stdout",
     "output_type": "stream",
     "text": [
      "2041208\n"
     ]
    }
   ],
   "source": [
    "relation = 'located_in'\n",
    "ind = df[(df.relation == relation) & (df.target.isin(gene_index))].index\n",
    "print(len(ind))"
   ]
  },
  {
   "cell_type": "code",
   "execution_count": 96,
   "metadata": {},
   "outputs": [],
   "source": [
    "df.loc[ind, 'relation'] = 'located_in_gene'"
   ]
  },
  {
   "cell_type": "code",
   "execution_count": 97,
   "metadata": {},
   "outputs": [],
   "source": [
    "relations = {\n",
    "\t\"located_in_gene\": {\n",
    "\t\t\"source\": \"GTEXEQTL\",\n",
    "\t\t\"target\": \"Gene\",\n",
    "\t},\n",
    "\t\"located_in_anatomy\": {\n",
    "\t\t\"source\": \"GTEXEQTL\",\n",
    "\t\t\"target\": \"Anatomy\",\n",
    "\t},\n",
    "\t\"located_in_hsclo\": {\n",
    "\t\t\"source\": \"GTEXEQTL\",\n",
    "\t\t\"target\": \"HSCLO\",\n",
    "\t},\n",
    "\t\"p_value\": {\n",
    "\t\t\"source\": \"GTEXEQTL\",\n",
    "\t\t\"target\": \"GTEXPVALUEBIN\",\n",
    "\t},\n",
    "}"
   ]
  },
  {
   "cell_type": "code",
   "execution_count": 98,
   "metadata": {},
   "outputs": [
    {
     "name": "stdout",
     "output_type": "stream",
     "text": [
      "GTEXEQTL\n",
      "Gene\n",
      "Anatomy\n",
      "HSCLO\n",
      "GTEXPVALUEBIN\n"
     ]
    }
   ],
   "source": [
    "nodes = get_nodes(df, sab, relations)"
   ]
  },
  {
   "cell_type": "code",
   "execution_count": 99,
   "metadata": {},
   "outputs": [
    {
     "data": {
      "text/plain": [
       "array(['located_in_gene', 'located_in_anatomy', 'located_in_hsclo',\n",
       "       'p_value', 'location_of', 'inverse_p_value'], dtype=object)"
      ]
     },
     "execution_count": 99,
     "metadata": {},
     "output_type": "execute_result"
    }
   ],
   "source": [
    "df.relation.unique()"
   ]
  },
  {
   "cell_type": "code",
   "execution_count": 100,
   "metadata": {},
   "outputs": [
    {
     "data": {
      "text/plain": [
       "array(['located_in', 'p_value'], dtype=object)"
      ]
     },
     "execution_count": 100,
     "metadata": {},
     "output_type": "execute_result"
    }
   ],
   "source": [
    "df = df[df.relation.isin(relations.keys())]\n",
    "ind = df[df.relation == 'located_in_gene'].index\n",
    "df.loc[ind, 'relation'] = 'located_in'\n",
    "ind = df[df.relation == 'located_in_anatomy'].index\n",
    "df.loc[ind, 'relation'] = 'located_in'\n",
    "ind = df[df.relation == 'located_in_hsclo'].index\n",
    "df.loc[ind, 'relation'] = 'located_in'\n",
    "df.relation.unique()"
   ]
  },
  {
   "cell_type": "code",
   "execution_count": 101,
   "metadata": {},
   "outputs": [],
   "source": [
    "df.to_csv('out/sab/GTEXEQTL.edges.csv')"
   ]
  },
  {
   "cell_type": "markdown",
   "metadata": {},
   "source": [
    "## HubMAP"
   ]
  },
  {
   "cell_type": "code",
   "execution_count": 102,
   "metadata": {},
   "outputs": [
    {
     "name": "stderr",
     "output_type": "stream",
     "text": [
      "173212741it [02:12, 1306013.67it/s]\n"
     ]
    },
    {
     "data": {
      "text/html": [
       "<div>\n",
       "<style scoped>\n",
       "    .dataframe tbody tr th:only-of-type {\n",
       "        vertical-align: middle;\n",
       "    }\n",
       "\n",
       "    .dataframe tbody tr th {\n",
       "        vertical-align: top;\n",
       "    }\n",
       "\n",
       "    .dataframe thead th {\n",
       "        text-align: right;\n",
       "    }\n",
       "</style>\n",
       "<table border=\"1\" class=\"dataframe\">\n",
       "  <thead>\n",
       "    <tr style=\"text-align: right;\">\n",
       "      <th></th>\n",
       "      <th>source</th>\n",
       "      <th>target</th>\n",
       "      <th>relation</th>\n",
       "      <th>SAB</th>\n",
       "      <th>evidence_class</th>\n",
       "      <th>dcc</th>\n",
       "    </tr>\n",
       "  </thead>\n",
       "  <tbody>\n",
       "    <tr>\n",
       "      <th>0</th>\n",
       "      <td>AZ:0000000 CUI</td>\n",
       "      <td>AZ:9000000 CUI</td>\n",
       "      <td>isa</td>\n",
       "      <td>AZ</td>\n",
       "      <td></td>\n",
       "      <td>HuBMAP</td>\n",
       "    </tr>\n",
       "    <tr>\n",
       "      <th>1</th>\n",
       "      <td>AZ:0100000 CUI</td>\n",
       "      <td>AZ:9000000 CUI</td>\n",
       "      <td>isa</td>\n",
       "      <td>AZ</td>\n",
       "      <td></td>\n",
       "      <td>HuBMAP</td>\n",
       "    </tr>\n",
       "    <tr>\n",
       "      <th>2</th>\n",
       "      <td>C0018787</td>\n",
       "      <td>AZ:0100000 CUI</td>\n",
       "      <td>isa</td>\n",
       "      <td>AZ</td>\n",
       "      <td></td>\n",
       "      <td>HuBMAP</td>\n",
       "    </tr>\n",
       "    <tr>\n",
       "      <th>3</th>\n",
       "      <td>C0022646</td>\n",
       "      <td>AZ:0100000 CUI</td>\n",
       "      <td>isa</td>\n",
       "      <td>AZ</td>\n",
       "      <td></td>\n",
       "      <td>HuBMAP</td>\n",
       "    </tr>\n",
       "    <tr>\n",
       "      <th>4</th>\n",
       "      <td>C0024109</td>\n",
       "      <td>AZ:0100000 CUI</td>\n",
       "      <td>isa</td>\n",
       "      <td>AZ</td>\n",
       "      <td></td>\n",
       "      <td>HuBMAP</td>\n",
       "    </tr>\n",
       "  </tbody>\n",
       "</table>\n",
       "</div>"
      ],
      "text/plain": [
       "           source          target relation SAB evidence_class     dcc\n",
       "0  AZ:0000000 CUI  AZ:9000000 CUI      isa  AZ                 HuBMAP\n",
       "1  AZ:0100000 CUI  AZ:9000000 CUI      isa  AZ                 HuBMAP\n",
       "2        C0018787  AZ:0100000 CUI      isa  AZ                 HuBMAP\n",
       "3        C0022646  AZ:0100000 CUI      isa  AZ                 HuBMAP\n",
       "4        C0024109  AZ:0100000 CUI      isa  AZ                 HuBMAP"
      ]
     },
     "execution_count": 102,
     "metadata": {},
     "output_type": "execute_result"
    }
   ],
   "source": [
    "sab = 'AZ'\n",
    "dcc = \"HuBMAP\"\n",
    "df = get_sab_df(sab, dcc)\n",
    "df.head()"
   ]
  },
  {
   "cell_type": "code",
   "execution_count": 103,
   "metadata": {},
   "outputs": [
    {
     "data": {
      "text/plain": [
       "array(['isa', 'located_in', 'inverse_isa', 'location_of'], dtype=object)"
      ]
     },
     "execution_count": 103,
     "metadata": {},
     "output_type": "execute_result"
    }
   ],
   "source": [
    "df.relation.unique()"
   ]
  },
  {
   "cell_type": "code",
   "execution_count": 104,
   "metadata": {},
   "outputs": [],
   "source": [
    "relations = {\n",
    "\t\"isa\": {\n",
    "\t\t\"source\": \"Anatomy\",\n",
    "\t\t\"target\": \"Anatomy\",\n",
    "\t},\n",
    "\t\"located_in\": {\n",
    "\t\t\"source\": \"Anatomy\",\n",
    "\t\t\"target\": \"Anatomy\",\n",
    "\t}\n",
    "}"
   ]
  },
  {
   "cell_type": "code",
   "execution_count": 105,
   "metadata": {},
   "outputs": [],
   "source": [
    "df[df.relation.isin(list(relations.keys()))].to_csv(\"out/sab/%s.edges.csv\"%sab)"
   ]
  },
  {
   "cell_type": "code",
   "execution_count": 106,
   "metadata": {},
   "outputs": [
    {
     "name": "stdout",
     "output_type": "stream",
     "text": [
      "Anatomy\n"
     ]
    }
   ],
   "source": [
    "nodes = get_nodes(df, sab, relations)"
   ]
  },
  {
   "cell_type": "code",
   "execution_count": 107,
   "metadata": {},
   "outputs": [
    {
     "name": "stderr",
     "output_type": "stream",
     "text": [
      "173212741it [02:11, 1315917.32it/s]\n"
     ]
    },
    {
     "data": {
      "text/html": [
       "<div>\n",
       "<style scoped>\n",
       "    .dataframe tbody tr th:only-of-type {\n",
       "        vertical-align: middle;\n",
       "    }\n",
       "\n",
       "    .dataframe tbody tr th {\n",
       "        vertical-align: top;\n",
       "    }\n",
       "\n",
       "    .dataframe thead th {\n",
       "        text-align: right;\n",
       "    }\n",
       "</style>\n",
       "<table border=\"1\" class=\"dataframe\">\n",
       "  <thead>\n",
       "    <tr style=\"text-align: right;\">\n",
       "      <th></th>\n",
       "      <th>source</th>\n",
       "      <th>target</th>\n",
       "      <th>relation</th>\n",
       "      <th>SAB</th>\n",
       "      <th>evidence_class</th>\n",
       "      <th>dcc</th>\n",
       "    </tr>\n",
       "  </thead>\n",
       "  <tbody>\n",
       "    <tr>\n",
       "      <th>0</th>\n",
       "      <td>C0206131</td>\n",
       "      <td>C1539593</td>\n",
       "      <td>has_marker_gene_in_heart</td>\n",
       "      <td>HMAZ</td>\n",
       "      <td></td>\n",
       "      <td>HuBMAP</td>\n",
       "    </tr>\n",
       "    <tr>\n",
       "      <th>1</th>\n",
       "      <td>C0206131</td>\n",
       "      <td>C1412105</td>\n",
       "      <td>has_marker_gene_in_heart</td>\n",
       "      <td>HMAZ</td>\n",
       "      <td></td>\n",
       "      <td>HuBMAP</td>\n",
       "    </tr>\n",
       "    <tr>\n",
       "      <th>2</th>\n",
       "      <td>C0206131</td>\n",
       "      <td>C1424138</td>\n",
       "      <td>has_marker_gene_in_heart</td>\n",
       "      <td>HMAZ</td>\n",
       "      <td></td>\n",
       "      <td>HuBMAP</td>\n",
       "    </tr>\n",
       "    <tr>\n",
       "      <th>3</th>\n",
       "      <td>C0206131</td>\n",
       "      <td>C3470887</td>\n",
       "      <td>has_marker_gene_in_heart</td>\n",
       "      <td>HMAZ</td>\n",
       "      <td></td>\n",
       "      <td>HuBMAP</td>\n",
       "    </tr>\n",
       "    <tr>\n",
       "      <th>4</th>\n",
       "      <td>C0206131</td>\n",
       "      <td>C1367441</td>\n",
       "      <td>has_marker_gene_in_heart</td>\n",
       "      <td>HMAZ</td>\n",
       "      <td></td>\n",
       "      <td>HuBMAP</td>\n",
       "    </tr>\n",
       "  </tbody>\n",
       "</table>\n",
       "</div>"
      ],
      "text/plain": [
       "     source    target                  relation   SAB evidence_class     dcc\n",
       "0  C0206131  C1539593  has_marker_gene_in_heart  HMAZ                 HuBMAP\n",
       "1  C0206131  C1412105  has_marker_gene_in_heart  HMAZ                 HuBMAP\n",
       "2  C0206131  C1424138  has_marker_gene_in_heart  HMAZ                 HuBMAP\n",
       "3  C0206131  C3470887  has_marker_gene_in_heart  HMAZ                 HuBMAP\n",
       "4  C0206131  C1367441  has_marker_gene_in_heart  HMAZ                 HuBMAP"
      ]
     },
     "execution_count": 107,
     "metadata": {},
     "output_type": "execute_result"
    }
   ],
   "source": [
    "sab = 'HMAZ'\n",
    "dcc = \"HuBMAP\"\n",
    "df = get_sab_df(sab, dcc)\n",
    "df.head()"
   ]
  },
  {
   "cell_type": "code",
   "execution_count": 108,
   "metadata": {},
   "outputs": [
    {
     "data": {
      "text/plain": [
       "array(['has_marker_gene_in_heart', 'has_marker_gene_in_kidney',\n",
       "       'has_marker_gene_in_liver', 'inverse_has_marker_gene_in_heart',\n",
       "       'inverse_has_marker_gene_in_kidney',\n",
       "       'inverse_has_marker_gene_in_liver'], dtype=object)"
      ]
     },
     "execution_count": 108,
     "metadata": {},
     "output_type": "execute_result"
    }
   ],
   "source": [
    "df.relation.unique()"
   ]
  },
  {
   "cell_type": "code",
   "execution_count": 109,
   "metadata": {},
   "outputs": [],
   "source": [
    "relations = {\n",
    "\t\"has_marker_gene_in_heart\": {\n",
    "\t\t\"source\": \"Anatomy\",\n",
    "\t\t\"target\": \"Gene\",\n",
    "\t},\n",
    "\t\"has_marker_gene_in_kidney\": {\n",
    "\t\t\"source\": \"Anatomy\",\n",
    "\t\t\"target\": \"Gene\",\n",
    "\t},\n",
    "\t\"has_marker_gene_in_liver\": {\n",
    "\t\t\"source\": \"Anatomy\",\n",
    "\t\t\"target\": \"Gene\",\n",
    "\t}\n",
    "}"
   ]
  },
  {
   "cell_type": "code",
   "execution_count": 110,
   "metadata": {},
   "outputs": [],
   "source": [
    "df[df.relation.isin(list(relations.keys()))].to_csv(\"out/sab/%s.edges.csv\"%sab)"
   ]
  },
  {
   "cell_type": "code",
   "execution_count": 111,
   "metadata": {},
   "outputs": [
    {
     "name": "stdout",
     "output_type": "stream",
     "text": [
      "Anatomy\n",
      "Gene\n"
     ]
    }
   ],
   "source": [
    "nodes = get_nodes(df, sab, relations)"
   ]
  },
  {
   "cell_type": "markdown",
   "metadata": {},
   "source": [
    "## IDG"
   ]
  },
  {
   "cell_type": "code",
   "execution_count": 112,
   "metadata": {},
   "outputs": [
    {
     "name": "stderr",
     "output_type": "stream",
     "text": [
      "173212741it [02:52, 1006565.06it/s]\n"
     ]
    },
    {
     "data": {
      "text/html": [
       "<div>\n",
       "<style scoped>\n",
       "    .dataframe tbody tr th:only-of-type {\n",
       "        vertical-align: middle;\n",
       "    }\n",
       "\n",
       "    .dataframe tbody tr th {\n",
       "        vertical-align: top;\n",
       "    }\n",
       "\n",
       "    .dataframe thead th {\n",
       "        text-align: right;\n",
       "    }\n",
       "</style>\n",
       "<table border=\"1\" class=\"dataframe\">\n",
       "  <thead>\n",
       "    <tr style=\"text-align: right;\">\n",
       "      <th></th>\n",
       "      <th>source</th>\n",
       "      <th>target</th>\n",
       "      <th>relation</th>\n",
       "      <th>SAB</th>\n",
       "      <th>evidence_class</th>\n",
       "      <th>dcc</th>\n",
       "    </tr>\n",
       "  </thead>\n",
       "  <tbody>\n",
       "    <tr>\n",
       "      <th>0</th>\n",
       "      <td>PUBCHEM:286 CUI</td>\n",
       "      <td>UNIPROTKB:P32929 CUI</td>\n",
       "      <td>bioactivity</td>\n",
       "      <td>IDGP</td>\n",
       "      <td>IC50</td>\n",
       "      <td>IDG</td>\n",
       "    </tr>\n",
       "    <tr>\n",
       "      <th>1</th>\n",
       "      <td>PUBCHEM:185909 CUI</td>\n",
       "      <td>UNIPROTKB:P32929 CUI</td>\n",
       "      <td>bioactivity</td>\n",
       "      <td>IDGP</td>\n",
       "      <td>IC50</td>\n",
       "      <td>IDG</td>\n",
       "    </tr>\n",
       "    <tr>\n",
       "      <th>2</th>\n",
       "      <td>PUBCHEM:439742 CUI</td>\n",
       "      <td>UNIPROTKB:P32929 CUI</td>\n",
       "      <td>bioactivity</td>\n",
       "      <td>IDGP</td>\n",
       "      <td>IC50</td>\n",
       "      <td>IDG</td>\n",
       "    </tr>\n",
       "    <tr>\n",
       "      <th>3</th>\n",
       "      <td>PUBCHEM:6436272 CUI</td>\n",
       "      <td>UNIPROTKB:P32929 CUI</td>\n",
       "      <td>bioactivity</td>\n",
       "      <td>IDGP</td>\n",
       "      <td>IC50</td>\n",
       "      <td>IDG</td>\n",
       "    </tr>\n",
       "    <tr>\n",
       "      <th>4</th>\n",
       "      <td>PUBCHEM:1312632 CUI</td>\n",
       "      <td>UNIPROTKB:Q969H4 CUI</td>\n",
       "      <td>bioactivity</td>\n",
       "      <td>IDGP</td>\n",
       "      <td>Kd</td>\n",
       "      <td>IDG</td>\n",
       "    </tr>\n",
       "  </tbody>\n",
       "</table>\n",
       "</div>"
      ],
      "text/plain": [
       "                source                target     relation   SAB  \\\n",
       "0      PUBCHEM:286 CUI  UNIPROTKB:P32929 CUI  bioactivity  IDGP   \n",
       "1   PUBCHEM:185909 CUI  UNIPROTKB:P32929 CUI  bioactivity  IDGP   \n",
       "2   PUBCHEM:439742 CUI  UNIPROTKB:P32929 CUI  bioactivity  IDGP   \n",
       "3  PUBCHEM:6436272 CUI  UNIPROTKB:P32929 CUI  bioactivity  IDGP   \n",
       "4  PUBCHEM:1312632 CUI  UNIPROTKB:Q969H4 CUI  bioactivity  IDGP   \n",
       "\n",
       "  evidence_class  dcc  \n",
       "0           IC50  IDG  \n",
       "1           IC50  IDG  \n",
       "2           IC50  IDG  \n",
       "3           IC50  IDG  \n",
       "4             Kd  IDG  "
      ]
     },
     "execution_count": 112,
     "metadata": {},
     "output_type": "execute_result"
    }
   ],
   "source": [
    "sab = 'IDGP'\n",
    "dcc = \"IDG\"\n",
    "df = get_sab_df(sab, dcc)\n",
    "df.head()"
   ]
  },
  {
   "cell_type": "code",
   "execution_count": 113,
   "metadata": {},
   "outputs": [
    {
     "data": {
      "text/plain": [
       "array(['bioactivity', 'inverse_bioactivity'], dtype=object)"
      ]
     },
     "execution_count": 113,
     "metadata": {},
     "output_type": "execute_result"
    }
   ],
   "source": [
    "df.relation.unique()"
   ]
  },
  {
   "cell_type": "code",
   "execution_count": 114,
   "metadata": {},
   "outputs": [],
   "source": [
    "relations = {\n",
    "\t\"bioactivity\": {\n",
    "\t\t\"source\": \"Compound\",\n",
    "\t\t\"target\": \"Protein\",\n",
    "\t},\n",
    "}"
   ]
  },
  {
   "cell_type": "code",
   "execution_count": 115,
   "metadata": {},
   "outputs": [],
   "source": [
    "df[df.relation.isin(list(relations.keys()))].to_csv(\"out/sab/%s.edges.csv\"%sab)"
   ]
  },
  {
   "cell_type": "code",
   "execution_count": 116,
   "metadata": {},
   "outputs": [
    {
     "name": "stdout",
     "output_type": "stream",
     "text": [
      "Compound\n",
      "Protein\n"
     ]
    }
   ],
   "source": [
    "nodes = get_nodes(df, sab, relations)"
   ]
  },
  {
   "cell_type": "code",
   "execution_count": 117,
   "metadata": {},
   "outputs": [
    {
     "name": "stderr",
     "output_type": "stream",
     "text": [
      "173212741it [02:11, 1322187.94it/s]\n"
     ]
    },
    {
     "data": {
      "text/html": [
       "<div>\n",
       "<style scoped>\n",
       "    .dataframe tbody tr th:only-of-type {\n",
       "        vertical-align: middle;\n",
       "    }\n",
       "\n",
       "    .dataframe tbody tr th {\n",
       "        vertical-align: top;\n",
       "    }\n",
       "\n",
       "    .dataframe thead th {\n",
       "        text-align: right;\n",
       "    }\n",
       "</style>\n",
       "<table border=\"1\" class=\"dataframe\">\n",
       "  <thead>\n",
       "    <tr style=\"text-align: right;\">\n",
       "      <th></th>\n",
       "      <th>source</th>\n",
       "      <th>target</th>\n",
       "      <th>relation</th>\n",
       "      <th>SAB</th>\n",
       "      <th>evidence_class</th>\n",
       "      <th>dcc</th>\n",
       "    </tr>\n",
       "  </thead>\n",
       "  <tbody>\n",
       "    <tr>\n",
       "      <th>0</th>\n",
       "      <td>PUBCHEM:54684141 CUI</td>\n",
       "      <td>SNOMEDCT_US:33339001 CUI</td>\n",
       "      <td>indication</td>\n",
       "      <td>IDGD</td>\n",
       "      <td></td>\n",
       "      <td>IDG</td>\n",
       "    </tr>\n",
       "    <tr>\n",
       "      <th>1</th>\n",
       "      <td>PUBCHEM:5311101 CUI</td>\n",
       "      <td>C0155880</td>\n",
       "      <td>indication</td>\n",
       "      <td>IDGD</td>\n",
       "      <td></td>\n",
       "      <td>IDG</td>\n",
       "    </tr>\n",
       "    <tr>\n",
       "      <th>2</th>\n",
       "      <td>PUBCHEM:456201 CUI</td>\n",
       "      <td>C0036508</td>\n",
       "      <td>indication</td>\n",
       "      <td>IDGD</td>\n",
       "      <td></td>\n",
       "      <td>IDG</td>\n",
       "    </tr>\n",
       "    <tr>\n",
       "      <th>3</th>\n",
       "      <td>PUBCHEM:4744 CUI</td>\n",
       "      <td>C0003950</td>\n",
       "      <td>indication</td>\n",
       "      <td>IDGD</td>\n",
       "      <td></td>\n",
       "      <td>IDG</td>\n",
       "    </tr>\n",
       "    <tr>\n",
       "      <th>4</th>\n",
       "      <td>PUBCHEM:6067 CUI</td>\n",
       "      <td>C0030920</td>\n",
       "      <td>indication</td>\n",
       "      <td>IDGD</td>\n",
       "      <td></td>\n",
       "      <td>IDG</td>\n",
       "    </tr>\n",
       "  </tbody>\n",
       "</table>\n",
       "</div>"
      ],
      "text/plain": [
       "                 source                    target    relation   SAB  \\\n",
       "0  PUBCHEM:54684141 CUI  SNOMEDCT_US:33339001 CUI  indication  IDGD   \n",
       "1   PUBCHEM:5311101 CUI                  C0155880  indication  IDGD   \n",
       "2    PUBCHEM:456201 CUI                  C0036508  indication  IDGD   \n",
       "3      PUBCHEM:4744 CUI                  C0003950  indication  IDGD   \n",
       "4      PUBCHEM:6067 CUI                  C0030920  indication  IDGD   \n",
       "\n",
       "  evidence_class  dcc  \n",
       "0                 IDG  \n",
       "1                 IDG  \n",
       "2                 IDG  \n",
       "3                 IDG  \n",
       "4                 IDG  "
      ]
     },
     "execution_count": 117,
     "metadata": {},
     "output_type": "execute_result"
    }
   ],
   "source": [
    "sab = 'IDGD'\n",
    "dcc = \"IDG\"\n",
    "df = get_sab_df(sab, dcc)\n",
    "df.head()"
   ]
  },
  {
   "cell_type": "code",
   "execution_count": 118,
   "metadata": {},
   "outputs": [
    {
     "data": {
      "text/plain": [
       "array(['indication', 'inverse_indication'], dtype=object)"
      ]
     },
     "execution_count": 118,
     "metadata": {},
     "output_type": "execute_result"
    }
   ],
   "source": [
    "df.relation.unique()"
   ]
  },
  {
   "cell_type": "code",
   "execution_count": 119,
   "metadata": {},
   "outputs": [],
   "source": [
    "relations = {\n",
    "\t\"indication\": {\n",
    "\t\t\"source\": \"Compound\",\n",
    "\t\t\"target\": \"Disease or Phenotype\",\n",
    "\t},\n",
    "}"
   ]
  },
  {
   "cell_type": "code",
   "execution_count": 120,
   "metadata": {},
   "outputs": [],
   "source": [
    "df[df.relation.isin(list(relations.keys()))].to_csv(\"out/sab/%s.edges.csv\"%sab)"
   ]
  },
  {
   "cell_type": "code",
   "execution_count": 121,
   "metadata": {},
   "outputs": [
    {
     "name": "stdout",
     "output_type": "stream",
     "text": [
      "Compound\n",
      "Disease or Phenotype\n"
     ]
    }
   ],
   "source": [
    "nodes = get_nodes(df, sab, relations)"
   ]
  },
  {
   "cell_type": "markdown",
   "metadata": {},
   "source": [
    "## Kid's First"
   ]
  },
  {
   "cell_type": "code",
   "execution_count": 122,
   "metadata": {},
   "outputs": [
    {
     "name": "stderr",
     "output_type": "stream",
     "text": [
      "173212741it [02:10, 1323484.41it/s]\n"
     ]
    },
    {
     "data": {
      "text/html": [
       "<div>\n",
       "<style scoped>\n",
       "    .dataframe tbody tr th:only-of-type {\n",
       "        vertical-align: middle;\n",
       "    }\n",
       "\n",
       "    .dataframe tbody tr th {\n",
       "        vertical-align: top;\n",
       "    }\n",
       "\n",
       "    .dataframe thead th {\n",
       "        text-align: right;\n",
       "    }\n",
       "</style>\n",
       "<table border=\"1\" class=\"dataframe\">\n",
       "  <thead>\n",
       "    <tr style=\"text-align: right;\">\n",
       "      <th></th>\n",
       "      <th>source</th>\n",
       "      <th>target</th>\n",
       "      <th>relation</th>\n",
       "      <th>SAB</th>\n",
       "      <th>evidence_class</th>\n",
       "      <th>dcc</th>\n",
       "    </tr>\n",
       "  </thead>\n",
       "  <tbody>\n",
       "    <tr>\n",
       "      <th>0</th>\n",
       "      <td>KFPT:PT-9X741E8Z CUI</td>\n",
       "      <td>KFCOHORT:SD-0TYVY1TW CUI</td>\n",
       "      <td>belongs_to_cohort</td>\n",
       "      <td>KF</td>\n",
       "      <td></td>\n",
       "      <td>KF</td>\n",
       "    </tr>\n",
       "    <tr>\n",
       "      <th>1</th>\n",
       "      <td>KFPT:PT-0AQN56EH CUI</td>\n",
       "      <td>KFCOHORT:SD-NMVV8A1Y CUI</td>\n",
       "      <td>belongs_to_cohort</td>\n",
       "      <td>KF</td>\n",
       "      <td></td>\n",
       "      <td>KF</td>\n",
       "    </tr>\n",
       "    <tr>\n",
       "      <th>2</th>\n",
       "      <td>KFPT:PT-1HNTASHD CUI</td>\n",
       "      <td>KFCOHORT:SD-NMVV8A1Y CUI</td>\n",
       "      <td>belongs_to_cohort</td>\n",
       "      <td>KF</td>\n",
       "      <td></td>\n",
       "      <td>KF</td>\n",
       "    </tr>\n",
       "    <tr>\n",
       "      <th>3</th>\n",
       "      <td>KFPT:PT-2KE662T4 CUI</td>\n",
       "      <td>KFCOHORT:SD-NMVV8A1Y CUI</td>\n",
       "      <td>belongs_to_cohort</td>\n",
       "      <td>KF</td>\n",
       "      <td></td>\n",
       "      <td>KF</td>\n",
       "    </tr>\n",
       "    <tr>\n",
       "      <th>4</th>\n",
       "      <td>KFPT:PT-2Q0TYD81 CUI</td>\n",
       "      <td>KFCOHORT:SD-NMVV8A1Y CUI</td>\n",
       "      <td>belongs_to_cohort</td>\n",
       "      <td>KF</td>\n",
       "      <td></td>\n",
       "      <td>KF</td>\n",
       "    </tr>\n",
       "  </tbody>\n",
       "</table>\n",
       "</div>"
      ],
      "text/plain": [
       "                 source                    target           relation SAB  \\\n",
       "0  KFPT:PT-9X741E8Z CUI  KFCOHORT:SD-0TYVY1TW CUI  belongs_to_cohort  KF   \n",
       "1  KFPT:PT-0AQN56EH CUI  KFCOHORT:SD-NMVV8A1Y CUI  belongs_to_cohort  KF   \n",
       "2  KFPT:PT-1HNTASHD CUI  KFCOHORT:SD-NMVV8A1Y CUI  belongs_to_cohort  KF   \n",
       "3  KFPT:PT-2KE662T4 CUI  KFCOHORT:SD-NMVV8A1Y CUI  belongs_to_cohort  KF   \n",
       "4  KFPT:PT-2Q0TYD81 CUI  KFCOHORT:SD-NMVV8A1Y CUI  belongs_to_cohort  KF   \n",
       "\n",
       "  evidence_class dcc  \n",
       "0                 KF  \n",
       "1                 KF  \n",
       "2                 KF  \n",
       "3                 KF  \n",
       "4                 KF  "
      ]
     },
     "execution_count": 122,
     "metadata": {},
     "output_type": "execute_result"
    }
   ],
   "source": [
    "sab = 'KF'\n",
    "dcc = \"KF\"\n",
    "df = get_sab_df(sab, dcc)\n",
    "df.head()"
   ]
  },
  {
   "cell_type": "code",
   "execution_count": 123,
   "metadata": {},
   "outputs": [
    {
     "data": {
      "text/plain": [
       "array(['belongs_to_cohort', 'has_phenotype', 'gene_has_variants',\n",
       "       'inverse_belongs_to_cohort', 'phenotype_of',\n",
       "       'inverse_gene_has_variants'], dtype=object)"
      ]
     },
     "execution_count": 123,
     "metadata": {},
     "output_type": "execute_result"
    }
   ],
   "source": [
    "df.relation.unique()"
   ]
  },
  {
   "cell_type": "code",
   "execution_count": 124,
   "metadata": {},
   "outputs": [],
   "source": [
    "relations = {\n",
    "\t\"has_phenotype\": {\n",
    "\t\t\"source\": \"KFPT\",\n",
    "\t\t\"target\": \"Disease or Phenotype\",\n",
    "\t},\n",
    "\t\"belongs_to_cohort\": {\n",
    "\t\t\"source\": \"KFGENEBIN\",\n",
    "\t\t\"target\": \"KFCOHORT\",\n",
    "\t},\n",
    "\t\"gene_has_variants\": {\n",
    "\t\t\"source\": \"KFGENEBIN\",\n",
    "\t\t\"target\": \"Gene\",\n",
    "\t},\n",
    "\t\"belongs_to_cohort\": {\n",
    "\t\t\"source\": \"KFPT\",\n",
    "\t\t\"target\": \"KFCOHORT\",\n",
    "\t},\n",
    "}"
   ]
  },
  {
   "cell_type": "code",
   "execution_count": 125,
   "metadata": {},
   "outputs": [],
   "source": [
    "df[df.relation.isin(list(relations.keys()))].to_csv(\"out/sab/%s.edges.csv\"%sab)"
   ]
  },
  {
   "cell_type": "code",
   "execution_count": 126,
   "metadata": {},
   "outputs": [
    {
     "data": {
      "text/plain": [
       "{'KFGENEBIN', 'KFPT'}"
      ]
     },
     "execution_count": 126,
     "metadata": {},
     "output_type": "execute_result"
    }
   ],
   "source": [
    "set([i.split(\":\")[0] for i in df[df.relation == 'belongs_to_cohort'].source.unique()])"
   ]
  },
  {
   "cell_type": "code",
   "execution_count": 127,
   "metadata": {},
   "outputs": [],
   "source": [
    "kfpt = []\n",
    "genebin = []\n",
    "for i in df[df.relation == 'belongs_to_cohort'].source.unique():\n",
    "\tif 'KFPT:' in i:\n",
    "\t\tkfpt.append(i)\n",
    "\telse:\n",
    "\t\tgenebin.append(i)\n"
   ]
  },
  {
   "cell_type": "code",
   "execution_count": 128,
   "metadata": {},
   "outputs": [
    {
     "data": {
      "text/plain": [
       "13375"
      ]
     },
     "execution_count": 128,
     "metadata": {},
     "output_type": "execute_result"
    }
   ],
   "source": [
    "ind = df[(df.relation == 'belongs_to_cohort') & (df.source.isin(genebin))].index\n",
    "len(ind)"
   ]
  },
  {
   "cell_type": "code",
   "execution_count": 129,
   "metadata": {},
   "outputs": [],
   "source": [
    "df.loc[ind, 'relation'] = 'belongs_to_cohort_bin'"
   ]
  },
  {
   "cell_type": "code",
   "execution_count": 130,
   "metadata": {},
   "outputs": [],
   "source": [
    "relations = {\n",
    "\t\"has_phenotype\": {\n",
    "\t\t\"source\": \"KFPT\",\n",
    "\t\t\"target\": \"Disease or Phenotype\",\n",
    "\t},\n",
    "\t\"belongs_to_cohort_bin\": {\n",
    "\t\t\"source\": \"KFGENEBIN\",\n",
    "\t\t\"target\": \"KFCOHORT\",\n",
    "\t},\n",
    "\t\"gene_has_variants\": {\n",
    "\t\t\"source\": \"KFGENEBIN\",\n",
    "\t\t\"target\": \"Gene\",\n",
    "\t},\n",
    "\t\"belongs_to_cohort\": {\n",
    "\t\t\"source\": \"KFPT\",\n",
    "\t\t\"target\": \"KFCOHORT\",\n",
    "\t},\n",
    "}"
   ]
  },
  {
   "cell_type": "code",
   "execution_count": 131,
   "metadata": {},
   "outputs": [
    {
     "name": "stdout",
     "output_type": "stream",
     "text": [
      "KFPT\n",
      "Disease or Phenotype\n",
      "KFGENEBIN\n",
      "KFCOHORT\n",
      "Gene\n"
     ]
    }
   ],
   "source": [
    "nodes = get_nodes(df, sab, relations)"
   ]
  },
  {
   "cell_type": "markdown",
   "metadata": {},
   "source": [
    "## MoTrPAC"
   ]
  },
  {
   "cell_type": "code",
   "execution_count": 133,
   "metadata": {},
   "outputs": [
    {
     "name": "stderr",
     "output_type": "stream",
     "text": [
      "173212741it [02:15, 1274441.50it/s]\n"
     ]
    },
    {
     "data": {
      "text/html": [
       "<div>\n",
       "<style scoped>\n",
       "    .dataframe tbody tr th:only-of-type {\n",
       "        vertical-align: middle;\n",
       "    }\n",
       "\n",
       "    .dataframe tbody tr th {\n",
       "        vertical-align: top;\n",
       "    }\n",
       "\n",
       "    .dataframe thead th {\n",
       "        text-align: right;\n",
       "    }\n",
       "</style>\n",
       "<table border=\"1\" class=\"dataframe\">\n",
       "  <thead>\n",
       "    <tr style=\"text-align: right;\">\n",
       "      <th></th>\n",
       "      <th>source</th>\n",
       "      <th>target</th>\n",
       "      <th>relation</th>\n",
       "      <th>SAB</th>\n",
       "      <th>evidence_class</th>\n",
       "      <th>dcc</th>\n",
       "    </tr>\n",
       "  </thead>\n",
       "  <tbody>\n",
       "    <tr>\n",
       "      <th>0</th>\n",
       "      <td>MOTRPAC:ENSRNOG00000000012-gastrocnemius-male CUI</td>\n",
       "      <td>ENSEMBL:ENSRNOG00000000012 CUI</td>\n",
       "      <td>associated_with</td>\n",
       "      <td>MOTRPAC</td>\n",
       "      <td></td>\n",
       "      <td>MoTrPAC</td>\n",
       "    </tr>\n",
       "    <tr>\n",
       "      <th>1</th>\n",
       "      <td>MOTRPAC:ENSRNOG00000000073-gastrocnemius-male CUI</td>\n",
       "      <td>ENSEMBL:ENSRNOG00000000073 CUI</td>\n",
       "      <td>associated_with</td>\n",
       "      <td>MOTRPAC</td>\n",
       "      <td></td>\n",
       "      <td>MoTrPAC</td>\n",
       "    </tr>\n",
       "    <tr>\n",
       "      <th>2</th>\n",
       "      <td>MOTRPAC:ENSRNOG00000000130-gastrocnemius-male CUI</td>\n",
       "      <td>ENSEMBL:ENSRNOG00000000130 CUI</td>\n",
       "      <td>associated_with</td>\n",
       "      <td>MOTRPAC</td>\n",
       "      <td></td>\n",
       "      <td>MoTrPAC</td>\n",
       "    </tr>\n",
       "    <tr>\n",
       "      <th>3</th>\n",
       "      <td>MOTRPAC:ENSRNOG00000000165-gastrocnemius-male CUI</td>\n",
       "      <td>ENSEMBL:ENSRNOG00000000165 CUI</td>\n",
       "      <td>associated_with</td>\n",
       "      <td>MOTRPAC</td>\n",
       "      <td></td>\n",
       "      <td>MoTrPAC</td>\n",
       "    </tr>\n",
       "    <tr>\n",
       "      <th>4</th>\n",
       "      <td>MOTRPAC:ENSRNOG00000000245-gastrocnemius-male CUI</td>\n",
       "      <td>ENSEMBL:ENSRNOG00000000245 CUI</td>\n",
       "      <td>associated_with</td>\n",
       "      <td>MOTRPAC</td>\n",
       "      <td></td>\n",
       "      <td>MoTrPAC</td>\n",
       "    </tr>\n",
       "  </tbody>\n",
       "</table>\n",
       "</div>"
      ],
      "text/plain": [
       "                                              source  \\\n",
       "0  MOTRPAC:ENSRNOG00000000012-gastrocnemius-male CUI   \n",
       "1  MOTRPAC:ENSRNOG00000000073-gastrocnemius-male CUI   \n",
       "2  MOTRPAC:ENSRNOG00000000130-gastrocnemius-male CUI   \n",
       "3  MOTRPAC:ENSRNOG00000000165-gastrocnemius-male CUI   \n",
       "4  MOTRPAC:ENSRNOG00000000245-gastrocnemius-male CUI   \n",
       "\n",
       "                           target         relation      SAB evidence_class  \\\n",
       "0  ENSEMBL:ENSRNOG00000000012 CUI  associated_with  MOTRPAC                  \n",
       "1  ENSEMBL:ENSRNOG00000000073 CUI  associated_with  MOTRPAC                  \n",
       "2  ENSEMBL:ENSRNOG00000000130 CUI  associated_with  MOTRPAC                  \n",
       "3  ENSEMBL:ENSRNOG00000000165 CUI  associated_with  MOTRPAC                  \n",
       "4  ENSEMBL:ENSRNOG00000000245 CUI  associated_with  MOTRPAC                  \n",
       "\n",
       "       dcc  \n",
       "0  MoTrPAC  \n",
       "1  MoTrPAC  \n",
       "2  MoTrPAC  \n",
       "3  MoTrPAC  \n",
       "4  MoTrPAC  "
      ]
     },
     "execution_count": 133,
     "metadata": {},
     "output_type": "execute_result"
    }
   ],
   "source": [
    "sab = 'MOTRPAC'\n",
    "dcc = \"MoTrPAC\"\n",
    "df = get_sab_df(sab, dcc)\n",
    "df.head()"
   ]
  },
  {
   "cell_type": "code",
   "execution_count": 134,
   "metadata": {},
   "outputs": [
    {
     "data": {
      "text/plain": [
       "array(['associated_with', 'located_in', 'sex', 'inverse_associated_with',\n",
       "       'location_of', 'inverse_sex'], dtype=object)"
      ]
     },
     "execution_count": 134,
     "metadata": {},
     "output_type": "execute_result"
    }
   ],
   "source": [
    "df.relation.unique()"
   ]
  },
  {
   "cell_type": "code",
   "execution_count": 135,
   "metadata": {},
   "outputs": [],
   "source": [
    "relations = {\n",
    "\t\"associated_with\": {\n",
    "\t\t\"source\": \"MOTRPAC\",\n",
    "\t\t\"target\": \"Gene\",\n",
    "\t},\n",
    "\t\"located_in\": {\n",
    "\t\t\"source\": \"MOTRPAC\",\n",
    "\t\t\"target\": \"Anatomy\",\n",
    "\t},\n",
    "\t\"sex\": {\n",
    "\t\t\"source\": \"MOTRPAC\",\n",
    "\t\t\"target\": \"Sex\",\n",
    "\t}\n",
    "}"
   ]
  },
  {
   "cell_type": "code",
   "execution_count": 136,
   "metadata": {},
   "outputs": [
    {
     "data": {
      "text/plain": [
       "{'inverse_associated_with', 'inverse_sex', 'location_of'}"
      ]
     },
     "execution_count": 136,
     "metadata": {},
     "output_type": "execute_result"
    }
   ],
   "source": [
    "set(df.relation) - set(relations.keys())"
   ]
  },
  {
   "cell_type": "code",
   "execution_count": 137,
   "metadata": {},
   "outputs": [],
   "source": [
    "df[df.relation.isin(list(relations.keys()))].to_csv(\"out/sab/%s.edges.csv\"%sab)"
   ]
  },
  {
   "cell_type": "code",
   "execution_count": 138,
   "metadata": {},
   "outputs": [
    {
     "name": "stdout",
     "output_type": "stream",
     "text": [
      "MOTRPAC\n",
      "Gene\n",
      "Anatomy\n",
      "Sex\n"
     ]
    }
   ],
   "source": [
    "nodes = get_nodes(df, sab, relations)"
   ]
  },
  {
   "cell_type": "markdown",
   "metadata": {},
   "source": [
    "## MW"
   ]
  },
  {
   "cell_type": "code",
   "execution_count": 139,
   "metadata": {},
   "outputs": [
    {
     "name": "stderr",
     "output_type": "stream",
     "text": [
      "173212741it [02:13, 1294193.52it/s]\n"
     ]
    },
    {
     "data": {
      "text/html": [
       "<div>\n",
       "<style scoped>\n",
       "    .dataframe tbody tr th:only-of-type {\n",
       "        vertical-align: middle;\n",
       "    }\n",
       "\n",
       "    .dataframe tbody tr th {\n",
       "        vertical-align: top;\n",
       "    }\n",
       "\n",
       "    .dataframe thead th {\n",
       "        text-align: right;\n",
       "    }\n",
       "</style>\n",
       "<table border=\"1\" class=\"dataframe\">\n",
       "  <thead>\n",
       "    <tr style=\"text-align: right;\">\n",
       "      <th></th>\n",
       "      <th>source</th>\n",
       "      <th>target</th>\n",
       "      <th>relation</th>\n",
       "      <th>SAB</th>\n",
       "      <th>evidence_class</th>\n",
       "      <th>dcc</th>\n",
       "    </tr>\n",
       "  </thead>\n",
       "  <tbody>\n",
       "    <tr>\n",
       "      <th>0</th>\n",
       "      <td>C0021853</td>\n",
       "      <td>C0030234</td>\n",
       "      <td>produces</td>\n",
       "      <td>MW</td>\n",
       "      <td></td>\n",
       "      <td>Metabolomics</td>\n",
       "    </tr>\n",
       "    <tr>\n",
       "      <th>1</th>\n",
       "      <td>C0021853</td>\n",
       "      <td>C0070210</td>\n",
       "      <td>produces</td>\n",
       "      <td>MW</td>\n",
       "      <td></td>\n",
       "      <td>Metabolomics</td>\n",
       "    </tr>\n",
       "    <tr>\n",
       "      <th>2</th>\n",
       "      <td>C0021853</td>\n",
       "      <td>C0023139</td>\n",
       "      <td>produces</td>\n",
       "      <td>MW</td>\n",
       "      <td></td>\n",
       "      <td>Metabolomics</td>\n",
       "    </tr>\n",
       "    <tr>\n",
       "      <th>3</th>\n",
       "      <td>C0021853</td>\n",
       "      <td>PUBCHEM:3893 CUI</td>\n",
       "      <td>produces</td>\n",
       "      <td>MW</td>\n",
       "      <td></td>\n",
       "      <td>Metabolomics</td>\n",
       "    </tr>\n",
       "    <tr>\n",
       "      <th>4</th>\n",
       "      <td>C0021853</td>\n",
       "      <td>C0027138</td>\n",
       "      <td>produces</td>\n",
       "      <td>MW</td>\n",
       "      <td></td>\n",
       "      <td>Metabolomics</td>\n",
       "    </tr>\n",
       "  </tbody>\n",
       "</table>\n",
       "</div>"
      ],
      "text/plain": [
       "     source            target  relation SAB evidence_class           dcc\n",
       "0  C0021853          C0030234  produces  MW                 Metabolomics\n",
       "1  C0021853          C0070210  produces  MW                 Metabolomics\n",
       "2  C0021853          C0023139  produces  MW                 Metabolomics\n",
       "3  C0021853  PUBCHEM:3893 CUI  produces  MW                 Metabolomics\n",
       "4  C0021853          C0027138  produces  MW                 Metabolomics"
      ]
     },
     "execution_count": 139,
     "metadata": {},
     "output_type": "execute_result"
    }
   ],
   "source": [
    "sab = 'MW'\n",
    "dcc = \"Metabolomics\"\n",
    "df = get_sab_df(sab, dcc)\n",
    "df.head()"
   ]
  },
  {
   "cell_type": "code",
   "execution_count": 140,
   "metadata": {},
   "outputs": [
    {
     "data": {
      "text/plain": [
       "array(['produces', 'causally_influences', 'correlated_with_condition',\n",
       "       'produced_by', 'causally_influenced_by',\n",
       "       'inverse_correlated_with_condition'], dtype=object)"
      ]
     },
     "execution_count": 140,
     "metadata": {},
     "output_type": "execute_result"
    }
   ],
   "source": [
    "df.relation.unique()"
   ]
  },
  {
   "cell_type": "code",
   "execution_count": 141,
   "metadata": {},
   "outputs": [],
   "source": [
    "target = df[df.relation == 'produces'].target.unique()"
   ]
  },
  {
   "cell_type": "code",
   "execution_count": 142,
   "metadata": {},
   "outputs": [
    {
     "data": {
      "text/html": [
       "<div>\n",
       "<style scoped>\n",
       "    .dataframe tbody tr th:only-of-type {\n",
       "        vertical-align: middle;\n",
       "    }\n",
       "\n",
       "    .dataframe tbody tr th {\n",
       "        vertical-align: top;\n",
       "    }\n",
       "\n",
       "    .dataframe thead th {\n",
       "        text-align: right;\n",
       "    }\n",
       "</style>\n",
       "<table border=\"1\" class=\"dataframe\">\n",
       "  <thead>\n",
       "    <tr style=\"text-align: right;\">\n",
       "      <th></th>\n",
       "      <th>label</th>\n",
       "    </tr>\n",
       "  </thead>\n",
       "  <tbody>\n",
       "    <tr>\n",
       "      <th>PUBCHEM:4914 CUI</th>\n",
       "      <td>Procaine</td>\n",
       "    </tr>\n",
       "    <tr>\n",
       "      <th>PUBCHEM:8096 CUI</th>\n",
       "      <td>3,3'-Thiobispropanoic acid</td>\n",
       "    </tr>\n",
       "    <tr>\n",
       "      <th>PUBCHEM:33255 CUI</th>\n",
       "      <td>Cefazolin</td>\n",
       "    </tr>\n",
       "    <tr>\n",
       "      <th>C0061298</th>\n",
       "      <td>glaucarubinone</td>\n",
       "    </tr>\n",
       "    <tr>\n",
       "      <th>C0061414</th>\n",
       "      <td>glucose-1-phosphate</td>\n",
       "    </tr>\n",
       "    <tr>\n",
       "      <th>...</th>\n",
       "      <td>...</td>\n",
       "    </tr>\n",
       "    <tr>\n",
       "      <th>PUBCHEM:1833 CUI</th>\n",
       "      <td>2-(5-Methoxy-1H-indol-3-yl)-ethylamine</td>\n",
       "    </tr>\n",
       "    <tr>\n",
       "      <th>C0002139</th>\n",
       "      <td>Alloisoleucine</td>\n",
       "    </tr>\n",
       "    <tr>\n",
       "      <th>C0007299</th>\n",
       "      <td>carteolol</td>\n",
       "    </tr>\n",
       "    <tr>\n",
       "      <th>PUBCHEM:5280882 CUI</th>\n",
       "      <td>PGC2</td>\n",
       "    </tr>\n",
       "    <tr>\n",
       "      <th>PUBCHEM:94180 CUI</th>\n",
       "      <td>2-hydroxyoctanoic acid</td>\n",
       "    </tr>\n",
       "  </tbody>\n",
       "</table>\n",
       "<p>9297 rows × 1 columns</p>\n",
       "</div>"
      ],
      "text/plain": [
       "                                                      label\n",
       "PUBCHEM:4914 CUI                                   Procaine\n",
       "PUBCHEM:8096 CUI                 3,3'-Thiobispropanoic acid\n",
       "PUBCHEM:33255 CUI                                 Cefazolin\n",
       "C0061298                                     glaucarubinone\n",
       "C0061414                                glucose-1-phosphate\n",
       "...                                                     ...\n",
       "PUBCHEM:1833 CUI     2-(5-Methoxy-1H-indol-3-yl)-ethylamine\n",
       "C0002139                                     Alloisoleucine\n",
       "C0007299                                          carteolol\n",
       "PUBCHEM:5280882 CUI                                    PGC2\n",
       "PUBCHEM:94180 CUI                    2-hydroxyoctanoic acid\n",
       "\n",
       "[9297 rows x 1 columns]"
      ]
     },
     "execution_count": 142,
     "metadata": {},
     "output_type": "execute_result"
    }
   ],
   "source": [
    "labels.loc[list(set(target).intersection(labels.index))]"
   ]
  },
  {
   "cell_type": "code",
   "execution_count": 143,
   "metadata": {},
   "outputs": [],
   "source": [
    "from glob import glob"
   ]
  },
  {
   "cell_type": "code",
   "execution_count": 144,
   "metadata": {},
   "outputs": [],
   "source": [
    "relations = {\n",
    "\t\"produces\": {\n",
    "\t\t\"source\": \"Anatomy\",\n",
    "\t\t\"target\": \"Metabolite\",\n",
    "\t},\n",
    "\t\"causally_influences\": {\n",
    "\t\t\"source\": \"Gene\",\n",
    "\t\t\"target\": \"Metabolite\",\n",
    "\t},\n",
    "\t\"correlated_with_condition\": {\n",
    "\t\t\"source\": \"Metabolite\",\n",
    "\t\t\"target\": \"Disease or Phenotype\",\n",
    "\t}\n",
    "}"
   ]
  },
  {
   "cell_type": "code",
   "execution_count": 145,
   "metadata": {},
   "outputs": [],
   "source": [
    "df[df.relation.isin(list(relations.keys()))].to_csv(\"out/sab/%s.edges.csv\"%sab)"
   ]
  },
  {
   "cell_type": "code",
   "execution_count": 146,
   "metadata": {},
   "outputs": [],
   "source": [
    "df = df[df.relation.isin(list(relations.keys()))]"
   ]
  },
  {
   "cell_type": "code",
   "execution_count": 147,
   "metadata": {},
   "outputs": [
    {
     "name": "stdout",
     "output_type": "stream",
     "text": [
      "Anatomy\n",
      "Metabolite\n",
      "Gene\n",
      "Disease or Phenotype\n"
     ]
    }
   ],
   "source": [
    "nodes = get_nodes(df, sab, relations)"
   ]
  },
  {
   "cell_type": "code",
   "execution_count": 148,
   "metadata": {},
   "outputs": [],
   "source": [
    "nodes[\"Metabolite\"] = nodes[\"Metabolite\"].loc[[i for i in nodes['Metabolite'].index if i != 'C0035298']]"
   ]
  },
  {
   "cell_type": "code",
   "execution_count": 149,
   "metadata": {},
   "outputs": [
    {
     "data": {
      "text/plain": [
       "label      all-<i>trans</i>-retinal\n",
       "type                     Metabolite\n",
       "PUBCHEM                      638015\n",
       "Name: PUBCHEM:638015 CUI, dtype: object"
      ]
     },
     "execution_count": 149,
     "metadata": {},
     "output_type": "execute_result"
    }
   ],
   "source": [
    "nodes[\"Metabolite\"].loc['PUBCHEM:638015 CUI']"
   ]
  },
  {
   "cell_type": "code",
   "execution_count": 150,
   "metadata": {},
   "outputs": [],
   "source": [
    "nodes[\"Metabolite\"].loc['C1426339', 'label'] = 'COQ4'"
   ]
  },
  {
   "cell_type": "code",
   "execution_count": 151,
   "metadata": {},
   "outputs": [
    {
     "data": {
      "text/html": [
       "<div>\n",
       "<style scoped>\n",
       "    .dataframe tbody tr th:only-of-type {\n",
       "        vertical-align: middle;\n",
       "    }\n",
       "\n",
       "    .dataframe tbody tr th {\n",
       "        vertical-align: top;\n",
       "    }\n",
       "\n",
       "    .dataframe thead th {\n",
       "        text-align: right;\n",
       "    }\n",
       "</style>\n",
       "<table border=\"1\" class=\"dataframe\">\n",
       "  <thead>\n",
       "    <tr style=\"text-align: right;\">\n",
       "      <th></th>\n",
       "      <th>label</th>\n",
       "      <th>type</th>\n",
       "      <th>PUBCHEM</th>\n",
       "    </tr>\n",
       "    <tr>\n",
       "      <th>id</th>\n",
       "      <th></th>\n",
       "      <th></th>\n",
       "      <th></th>\n",
       "    </tr>\n",
       "  </thead>\n",
       "  <tbody>\n",
       "    <tr>\n",
       "      <th>C3495801</th>\n",
       "      <td>Granulomatosis with polyangiitis</td>\n",
       "      <td>Metabolite</td>\n",
       "      <td>145459098</td>\n",
       "    </tr>\n",
       "    <tr>\n",
       "      <th>C0033036</th>\n",
       "      <td>Atrial Premature Complexes</td>\n",
       "      <td>Metabolite</td>\n",
       "      <td>145459091</td>\n",
       "    </tr>\n",
       "    <tr>\n",
       "      <th>C0038454</th>\n",
       "      <td>Cerebrovascular accident</td>\n",
       "      <td>Metabolite</td>\n",
       "      <td>6131</td>\n",
       "    </tr>\n",
       "  </tbody>\n",
       "</table>\n",
       "</div>"
      ],
      "text/plain": [
       "                                     label        type    PUBCHEM\n",
       "id                                                               \n",
       "C3495801  Granulomatosis with polyangiitis  Metabolite  145459098\n",
       "C0033036        Atrial Premature Complexes  Metabolite  145459091\n",
       "C0038454          Cerebrovascular accident  Metabolite       6131"
      ]
     },
     "execution_count": 151,
     "metadata": {},
     "output_type": "execute_result"
    }
   ],
   "source": [
    "nodes['Metabolite'].loc[['C3495801', 'C0033036', 'C0038454']]"
   ]
  },
  {
   "cell_type": "code",
   "execution_count": 152,
   "metadata": {},
   "outputs": [
    {
     "name": "stdout",
     "output_type": "stream",
     "text": [
      "PUBMED:6131 CUI\n",
      "PUBMED:145459091 CUI\n",
      "PUBMED:145459098 CUI\n"
     ]
    },
    {
     "data": {
      "text/plain": [
       "9725"
      ]
     },
     "execution_count": 152,
     "metadata": {},
     "output_type": "execute_result"
    }
   ],
   "source": [
    "new_index = []\n",
    "id_mapper = {}\n",
    "for k,v in nodes['Metabolite'].iterrows():\n",
    "\tif k in ['C3495801', 'C0033036', 'C0038454']:\n",
    "\t\tindex = \"PUBMED:%d CUI\"%int(v[\"PUBCHEM\"])\n",
    "\t\tnew_index.append(index)\n",
    "\t\tid_mapper[k] = index\n",
    "\t\tprint(index)\n",
    "\telse:\n",
    "\t\tnew_index.append(k)\n",
    "len(new_index)"
   ]
  },
  {
   "cell_type": "code",
   "execution_count": 153,
   "metadata": {},
   "outputs": [],
   "source": [
    "nodes['Metabolite'].loc['PUBMED:145459098 CUI', 'label'] = \"(3'-5')-Guanylyladenosine\"\n",
    "nodes['Metabolite'].loc['PUBMED:145459091 CUI', 'label'] = \"(3'-5')-Adenylylcytidine\"\n",
    "nodes['Metabolite'].loc['PUBMED:6131 CUI', 'label'] = \"5'-Cytidylic acid\""
   ]
  },
  {
   "cell_type": "code",
   "execution_count": 154,
   "metadata": {},
   "outputs": [
    {
     "data": {
      "text/plain": [
       "{'C0038454': 'PUBMED:6131 CUI',\n",
       " 'C0033036': 'PUBMED:145459091 CUI',\n",
       " 'C3495801': 'PUBMED:145459098 CUI'}"
      ]
     },
     "execution_count": 154,
     "metadata": {},
     "output_type": "execute_result"
    }
   ],
   "source": [
    "id_mapper"
   ]
  },
  {
   "cell_type": "code",
   "execution_count": 155,
   "metadata": {},
   "outputs": [],
   "source": [
    "for k,v in df[df.source.isin(['C3495801', 'C0033036', 'C0038454'])].iterrows():\n",
    "\tsource = id_mapper[v['source']]\n",
    "\tdf.at[k, 'source'] = source"
   ]
  },
  {
   "cell_type": "code",
   "execution_count": 156,
   "metadata": {},
   "outputs": [],
   "source": [
    "for k,v in df[df.target.isin(['C3495801', 'C0033036', 'C0038454'])].iterrows():\n",
    "\ttarget = id_mapper[v['target']]\n",
    "\tdf.at[k, 'target'] = target"
   ]
  },
  {
   "cell_type": "code",
   "execution_count": 157,
   "metadata": {},
   "outputs": [],
   "source": [
    "nodes[\"Metabolite\"].loc[[i for i in nodes[\"Metabolite\"].index if i not in ['C3495801', 'C0033036', 'C0038454']]].to_csv('out/sab/%s.%s.nodes.csv'%(sab,'Metabolite'))"
   ]
  },
  {
   "cell_type": "code",
   "execution_count": 158,
   "metadata": {},
   "outputs": [],
   "source": [
    "ind = df[df.target == 'C0035298'].index\n",
    "\n",
    "df.loc[ind, 'target'] = 'PUBCHEM:638015 CUI'"
   ]
  },
  {
   "cell_type": "code",
   "execution_count": 159,
   "metadata": {},
   "outputs": [],
   "source": [
    "df.to_csv('out/sab/%s.edges.csv'%sab)"
   ]
  },
  {
   "cell_type": "markdown",
   "metadata": {},
   "source": [
    "## SPARC"
   ]
  },
  {
   "cell_type": "code",
   "execution_count": 160,
   "metadata": {},
   "outputs": [
    {
     "name": "stderr",
     "output_type": "stream",
     "text": [
      "173212741it [02:11, 1319807.60it/s]\n"
     ]
    },
    {
     "data": {
      "text/html": [
       "<div>\n",
       "<style scoped>\n",
       "    .dataframe tbody tr th:only-of-type {\n",
       "        vertical-align: middle;\n",
       "    }\n",
       "\n",
       "    .dataframe tbody tr th {\n",
       "        vertical-align: top;\n",
       "    }\n",
       "\n",
       "    .dataframe thead th {\n",
       "        text-align: right;\n",
       "    }\n",
       "</style>\n",
       "<table border=\"1\" class=\"dataframe\">\n",
       "  <thead>\n",
       "    <tr style=\"text-align: right;\">\n",
       "      <th></th>\n",
       "      <th>source</th>\n",
       "      <th>target</th>\n",
       "      <th>relation</th>\n",
       "      <th>SAB</th>\n",
       "      <th>evidence_class</th>\n",
       "      <th>dcc</th>\n",
       "    </tr>\n",
       "  </thead>\n",
       "  <tbody>\n",
       "    <tr>\n",
       "      <th>0</th>\n",
       "      <td>C0228398</td>\n",
       "      <td>C2331300</td>\n",
       "      <td>isa</td>\n",
       "      <td>NPO</td>\n",
       "      <td></td>\n",
       "      <td>SPARC</td>\n",
       "    </tr>\n",
       "    <tr>\n",
       "      <th>1</th>\n",
       "      <td>C0224520</td>\n",
       "      <td>C0224518</td>\n",
       "      <td>isa</td>\n",
       "      <td>NPO</td>\n",
       "      <td></td>\n",
       "      <td>SPARC</td>\n",
       "    </tr>\n",
       "    <tr>\n",
       "      <th>2</th>\n",
       "      <td>C0036700</td>\n",
       "      <td>C0752060</td>\n",
       "      <td>part_of</td>\n",
       "      <td>NPO</td>\n",
       "      <td></td>\n",
       "      <td>SPARC</td>\n",
       "    </tr>\n",
       "    <tr>\n",
       "      <th>3</th>\n",
       "      <td>C0038246</td>\n",
       "      <td>C0446846</td>\n",
       "      <td>isa</td>\n",
       "      <td>NPO</td>\n",
       "      <td></td>\n",
       "      <td>SPARC</td>\n",
       "    </tr>\n",
       "    <tr>\n",
       "      <th>4</th>\n",
       "      <td>NIFSTD:sao925531236 CUI</td>\n",
       "      <td>NIFSTD:sao1593305396 CUI</td>\n",
       "      <td>isa</td>\n",
       "      <td>NPO</td>\n",
       "      <td></td>\n",
       "      <td>SPARC</td>\n",
       "    </tr>\n",
       "  </tbody>\n",
       "</table>\n",
       "</div>"
      ],
      "text/plain": [
       "                    source                    target relation  SAB  \\\n",
       "0                 C0228398                  C2331300      isa  NPO   \n",
       "1                 C0224520                  C0224518      isa  NPO   \n",
       "2                 C0036700                  C0752060  part_of  NPO   \n",
       "3                 C0038246                  C0446846      isa  NPO   \n",
       "4  NIFSTD:sao925531236 CUI  NIFSTD:sao1593305396 CUI      isa  NPO   \n",
       "\n",
       "  evidence_class    dcc  \n",
       "0                 SPARC  \n",
       "1                 SPARC  \n",
       "2                 SPARC  \n",
       "3                 SPARC  \n",
       "4                 SPARC  "
      ]
     },
     "execution_count": 160,
     "metadata": {},
     "output_type": "execute_result"
    }
   ],
   "source": [
    "sab = 'NPO'\n",
    "dcc = \"SPARC\"\n",
    "df = get_sab_df(sab, dcc)\n",
    "df.head()"
   ]
  },
  {
   "cell_type": "code",
   "execution_count": 161,
   "metadata": {},
   "outputs": [
    {
     "data": {
      "text/plain": [
       "array(['isa', 'part_of', 'contributes_to_morphology_of', 'is_part_of',\n",
       "       'delineates', 'isdelineatedby', 'has_role', 'inverse_isa',\n",
       "       'has_part', 'inverse_contributes_to_morphology_of',\n",
       "       'inverse_is_part_of', 'inverse_delineates',\n",
       "       'inverse_isdelineatedby', 'role_of'], dtype=object)"
      ]
     },
     "execution_count": 161,
     "metadata": {},
     "output_type": "execute_result"
    }
   ],
   "source": [
    "df.relation.unique()"
   ]
  },
  {
   "cell_type": "code",
   "execution_count": 162,
   "metadata": {},
   "outputs": [
    {
     "data": {
      "text/plain": [
       "(7974, 6)"
      ]
     },
     "execution_count": 162,
     "metadata": {},
     "output_type": "execute_result"
    }
   ],
   "source": [
    "df.shape"
   ]
  },
  {
   "cell_type": "code",
   "execution_count": 163,
   "metadata": {},
   "outputs": [
    {
     "data": {
      "text/plain": [
       "1912"
      ]
     },
     "execution_count": 163,
     "metadata": {},
     "output_type": "execute_result"
    }
   ],
   "source": [
    "ids = [i for i in df.source.unique()] + [i for i in df.target.unique()]\n",
    "ids = list(set(ids))\n",
    "len(ids)"
   ]
  },
  {
   "cell_type": "code",
   "execution_count": 164,
   "metadata": {},
   "outputs": [
    {
     "data": {
      "text/plain": [
       "array(['LCH_NW', 'MTH', 'NCI', 'LNC', 'CSP', 'UWDA', 'MSH', 'SNOMEDCT_US',\n",
       "       'PSY', 'FMA', 'CHV', 'ICF-CY', 'ICF', 'NEU', 'OMIM', 'MMSL',\n",
       "       'HL7V2.5', 'NCBI', 'MEDCIN', 'MEDLINEPLUS', 'DRUGBANK', 'CPM',\n",
       "       'MTHICD9', 'GO', 'SNOMEDCT_VET', 'GS', 'RXNORM', 'VANDF',\n",
       "       'ICD10AM', 'MTHSPL', 'PDQ', 'NDDF', 'SRC', 'MDR', 'AOT', 'ATC',\n",
       "       'USP', 'ICPC2ICD10ENG', 'UBERON', 'CHEBI', 'PATO', 'PR', 'CL',\n",
       "       'SO', 'OBI', 'CARO', 'MONDO', 'EFO', 'MA', 'ZFA', 'AZ', 'PUBCHEM',\n",
       "       'ENTREZ', 'NIFSTD', 'ILX', 'ILX.TR', 'NIFSTD.NIFEXT', 'NIFSTD.NLX',\n",
       "       'NIFSTD.NLX.MOL', 'NIFSTD.NLX.ORG', 'PAX.PAXSPN', 'PAX.PAXRAT'],\n",
       "      dtype=object)"
      ]
     },
     "execution_count": 164,
     "metadata": {},
     "output_type": "execute_result"
    }
   ],
   "source": [
    "concept_code[concept_code.id.isin(ids)].SAB.unique()"
   ]
  },
  {
   "cell_type": "code",
   "execution_count": 165,
   "metadata": {},
   "outputs": [],
   "source": [
    "tmp = concept_code[concept_code.id.isin(ids)].groupby('id')"
   ]
  },
  {
   "cell_type": "code",
   "execution_count": 166,
   "metadata": {},
   "outputs": [
    {
     "data": {
      "text/plain": [
       "1912"
      ]
     },
     "execution_count": 166,
     "metadata": {},
     "output_type": "execute_result"
    }
   ],
   "source": [
    "len(ids)"
   ]
  },
  {
   "cell_type": "code",
   "execution_count": 167,
   "metadata": {},
   "outputs": [],
   "source": [
    "def is_substring(l, substring):\n",
    "\tfor i in l:\n",
    "\t\tif substring in i:\n",
    "\t\t\treturn True\n",
    "\telse:\n",
    "\t\treturn False"
   ]
  },
  {
   "cell_type": "code",
   "execution_count": 168,
   "metadata": {},
   "outputs": [],
   "source": [
    "mapping = {}\n",
    "for g in tmp.groups:\n",
    "\tgroup = tmp.get_group(g)\n",
    "\tif 'UBERON' in list(group.SAB):\n",
    "\t\tgr = \"Anatomy\"\n",
    "\telif 'ENTREZ' in list(group.SAB):\n",
    "\t\tgr = \"Gene\"\n",
    "\telif 'PUBCHEM' in list(group.SAB):\n",
    "\t\tgr = \"Compound\"\n",
    "\telif is_substring(list(group.SAB), 'NIFSTD'):\n",
    "\t\tgr = \"NIFSTD\"\n",
    "\telif is_substring(list(group.SAB), 'PAX'):\n",
    "\t\tgr = \"Anatomy\"\n",
    "\telif 'FMA' in list(group.SAB):\n",
    "\t\tgr = \"Anatomy\"\n",
    "\telif 'PATO' in list(group.SAB):\n",
    "\t\tgr = \"PATO\"\n",
    "\telif 'PR' in list(group.SAB):\n",
    "\t\tgr = \"Protein\"\n",
    "\telif 'NCBI' in list(group.SAB):\n",
    "\t\tgr = \"Taxon\"\n",
    "\telif 'CHEBI' in list(group.SAB):\n",
    "\t\tgr = \"Compound\"\n",
    "\telif 'LNC' in list(group.SAB):\n",
    "\t\tgr = \"Anatomy\"\n",
    "\telif 'OBI' in list(group.SAB):\n",
    "\t\tgr = \"Taxon\"\n",
    "\telif 'CL' in list(group.SAB):\n",
    "\t\tgr = \"Anatomy\"\n",
    "\telif 'FMA' in list(group.SAB):\n",
    "\t\tgr = \"Anatomy\"\n",
    "\telif 'ILX' in list(group.SAB):\n",
    "\t\tgr = \"ILX\"\n",
    "\telif 'ILX.TR' in list(group.SAB):\n",
    "\t\tgr = \"ILX\"\n",
    "\telif 'UWDA' in list(group.SAB):\n",
    "\t\tgr = \"Anatomy\"\n",
    "\telse:\n",
    "\t\tgr = list(group.SAB)[0]\n",
    "\tif gr not in mapping:\n",
    "\t\tmapping[gr] = []\n",
    "\tmapping[gr].append(g)"
   ]
  },
  {
   "cell_type": "code",
   "execution_count": 169,
   "metadata": {},
   "outputs": [
    {
     "name": "stdout",
     "output_type": "stream",
     "text": [
      "Anatomy 1225\n",
      "Compound 122\n",
      "Taxon 67\n",
      "GO 9\n",
      "Gene 122\n",
      "ILX 227\n",
      "NIFSTD 83\n",
      "PATO 12\n",
      "Protein 41\n",
      "SO 4\n"
     ]
    }
   ],
   "source": [
    "for k,v in mapping.items():\n",
    "\tprint(k, len(v))"
   ]
  },
  {
   "cell_type": "code",
   "execution_count": 170,
   "metadata": {},
   "outputs": [
    {
     "name": "stdout",
     "output_type": "stream",
     "text": [
      "Anatomy\n",
      "Compound\n",
      "Taxon\n",
      "GO\n",
      "Gene\n",
      "ILX\n",
      "NIFSTD\n",
      "PATO\n",
      "Protein\n",
      "SO\n"
     ]
    }
   ],
   "source": [
    "nodes = {}\n",
    "for node_type, node_index in mapping.items():\n",
    "\tprint(node_type)\n",
    "\tfilename = 'out/sab/%s.%s.nodes.csv'%(sab, node_type)\n",
    "\tif (os.path.isfile(filename)):\n",
    "\t\tprint('%s found'%filename)\n",
    "\t\tnode_df = pd.read_csv(filename, index_col=0)\n",
    "\t\tnodes[node_type] = node_df\n",
    "\telse:\n",
    "\t\tnode_index = list(node_index)\n",
    "\t\tnode_df = pd.DataFrame(index=node_index, columns=[\"label\", \"type\"])\n",
    "\t\tnode_df.index.name = \"id\"\n",
    "\t\tnode_df[\"type\"] = node_type\n",
    "\t\tnode_df[\"label\"] = node_df.index\n",
    "\t\twith_label = list(set(labels.index).intersection(node_index))\n",
    "\t\tnode_df.loc[with_label, 'label'] = labels.loc[with_label, \"label\"]\n",
    "\t\tif node_type == \"Gene\":\n",
    "\t\t\tnode_df.loc[with_label, 'label'] = [i.replace(\" gene\", \"\") for i in node_df.loc[with_label, 'label']]\n",
    "\t\t# CODE\n",
    "\t\tfiltered = concept_code[concept_code[\"id\"].isin(node_df.index)]\n",
    "\t\tfiltered = filtered[filtered.CODE != 'NOCODE']\n",
    "\t\t# filter keys\n",
    "\t\tcode_keys = filtered.SAB.value_counts()[filtered.SAB.value_counts() > node_df.shape[0]/2].index\n",
    "\t\tgrouped_concept = concept_code[concept_code[\"id\"].isin(node_df.index)].groupby(\"id\")\n",
    "\t\tscore_df = pd.DataFrame(index=filtered.id.unique(), columns=code_keys)\n",
    "\t\tscore_df.index.name = 'id'\n",
    "\t\tgrouped_concept = filtered.groupby(\"id\")\n",
    "\t\tfor group in score_df.index:\n",
    "\t\t\tg = grouped_concept.get_group(group)\n",
    "\t\t\tg = g[g.SAB.isin(code_keys)]\n",
    "\t\t\tcols = g.SAB\n",
    "\t\t\tvalues = g.CODE\n",
    "\t\t\tscore_df.loc[group]=pd.Series(list(values), index=cols).groupby('SAB').first()\n",
    "\t\tnode_df = node_df.merge(score_df, on=\"id\")\n",
    "\t\tnode_df.to_csv(filename)\n",
    "\t\tnodes[node_type] = node_df"
   ]
  },
  {
   "cell_type": "code",
   "execution_count": 171,
   "metadata": {},
   "outputs": [
    {
     "data": {
      "text/plain": [
       "array(['isa', 'part_of', 'contributes_to_morphology_of', 'is_part_of',\n",
       "       'delineates', 'isdelineatedby', 'has_role', 'inverse_isa',\n",
       "       'has_part', 'inverse_contributes_to_morphology_of',\n",
       "       'inverse_is_part_of', 'inverse_delineates',\n",
       "       'inverse_isdelineatedby', 'role_of'], dtype=object)"
      ]
     },
     "execution_count": 171,
     "metadata": {},
     "output_type": "execute_result"
    }
   ],
   "source": [
    "df.relation.unique()"
   ]
  },
  {
   "cell_type": "code",
   "execution_count": 172,
   "metadata": {},
   "outputs": [],
   "source": [
    "relations = [\n",
    "'isa',\n",
    "'part_of',\n",
    "'is_part_of',\n",
    "'contributes_to_morphology_of',\n",
    "'delineates',\n",
    "'isdelineatedby',\n",
    "'has_role',\n",
    "]"
   ]
  },
  {
   "cell_type": "code",
   "execution_count": 173,
   "metadata": {},
   "outputs": [],
   "source": [
    "df[df.relation.isin(relations)].to_csv(\"out/sab/%s.edges.csv\"%sab)"
   ]
  },
  {
   "cell_type": "code",
   "execution_count": null,
   "metadata": {},
   "outputs": [
    {
     "name": "stdout",
     "output_type": "stream",
     "text": [
      "IDG\n",
      "File Paths:\n",
      "['IDGD.edges.csv', 'IDGP.Protein.nodes.csv', 'IDGP.edges.csv', 'IDGP.Compound.nodes.csv', 'IDGD.Compound.nodes.csv', 'IDGD.Disease.nodes.csv']\n",
      "GlyGen\n",
      "File Paths:\n",
      "['GLYCANS.Glytoucan.nodes.csv', 'PROTEOFORM.Glycoprotein.nodes.csv', 'PROTEOFORM.Isoform.nodes.csv', 'PROTEOFORM.Glytoucan.nodes.csv', 'PROTEOFORM.GlyGen Location.nodes.csv', 'PROTEOFORM.Amino Acid.nodes.csv', 'GLYCANS.edges.csv', 'PROTEOFORM.Glycoprotein Citation.nodes.csv', 'GLYCANS.GlyGen Residue.nodes.csv', 'PROTEOFORM.Protein.nodes.csv', 'GLYCANS.Glycan Motif.nodes.csv', 'PROTEOFORM.Glycoprotein Evidence.nodes.csv', 'GLYCANS.Glycosyltransferase Reaction.nodes.csv', 'GLYCANS.Glycosylation.nodes.csv', 'PROTEOFORM.GP ID2PRO.nodes.csv', 'GLYCANS.GlyGen src.nodes.csv', 'GLYCANS.GlyGen Glycosequence.nodes.csv', 'GLYCANS.Protein.nodes.csv', 'PROTEOFORM.edges.csv', 'PROTEOFORM.Glycosylation Site.nodes.csv']\n",
      "4DN\n",
      "File Paths:\n",
      "['4DN.4DN File.nodes.csv', '4DN.Anatomy.nodes.csv', '4DN.edges.csv', '4DN.4DN QVal Bin.nodes.csv', '4DN.Assay.nodes.csv', '4DN.HSCLO.nodes.csv', '4DN.4DN Loop.nodes.csv', '4DN.4DN Dataset.nodes.csv']\n",
      "ERCC\n",
      "File Paths:\n",
      "['ERCCRBP.Gene.nodes.csv', 'ERCCREG.edges.csv', 'ERCCRBP.RBP Binding Loci.nodes.csv', 'ERCCRBP.exRNA Loci.nodes.csv', 'ERCCRBP.Biofluid.nodes.csv', 'ERCCREG.Regulatory Element Activity.nodes.csv', 'ERCCRBP.Protein.nodes.csv', 'ERCCREG.Anatomy.nodes.csv', 'ERCCREG.ENCODE CCRE Data Matrix.nodes.csv', 'ERCCREG.Gene.nodes.csv', 'ERCCRBP.edges.csv', 'ERCCREG.GTEXEQTL.nodes.csv', 'ERCCREG.CLINGEN ALLELE REGISTRY.nodes.csv', 'ERCCREG.ENCODE CCRE.nodes.csv']\n",
      "MoTrPAC\n",
      "File Paths:\n",
      "['MOTRPAC.MOTRPAC.nodes.csv', 'MOTRPAC.edges.csv', 'MOTRPAC.Anatomy.nodes.csv', 'MOTRPAC.Gene.nodes.csv', 'MOTRPAC.Sex.nodes.csv']\n",
      "KF\n",
      "File Paths:\n",
      "['KF.GENE.nodes.csv', 'KF.edges.csv', 'KF.KFPT.nodes.csv', 'KF.KFGENEBIN.nodes.csv', 'KF.KFCOHORT.nodes.csv', 'KF.Phenotype.nodes.csv']\n",
      "SPARC\n",
      "File Paths:\n",
      "['NPO.SO.nodes.csv', 'NPO.ILX.nodes.csv', 'NPO.Compound.nodes.csv', 'NPO.PATO.nodes.csv', 'NPO.NIFSTD.nodes.csv', 'NPO.GO.nodes.csv', 'NPO.Taxon.nodes.csv', 'NPO.Anatomy.nodes.csv', 'NPO.edges.csv', 'NPO.Gene.nodes.csv', 'NPO.Protein.nodes.csv']\n",
      "LINCS\n",
      "File Paths:\n",
      "['LINCS.Gene.nodes.csv', 'LINCS.edges.csv', 'LINCS.Compound.nodes.csv']\n",
      "GTEx\n",
      "File Paths:\n",
      "['GTEXEXP.Gene.nodes.csv', 'GTEXEQTL.HSCLO.nodes.csv', 'GTEXEXP.Anatomy.nodes.csv', 'GTEXEQTL.edges.csv', 'GTEXEXP.EXPBINS.nodes.csv', 'GTEXEQTL.Anatomy.nodes.csv', 'GTEXEQTL.GTEXPVALUEBIN.nodes.csv', 'GTEXEXP.edges.csv', 'GTEXEQTL.GTEXEQTL.nodes.csv', 'GTEXEQTL.Gene.nodes.csv', 'GTEXEXP.GTEXEXP.nodes.csv']\n",
      "MW\n",
      "File Paths:\n",
      "['MW.Metabolite.nodes.csv', 'MW.edges.csv', 'MW.Compound.nodes.csv', 'MW.Phenotypes.nodes.csv', 'MW.Disease.nodes.csv', 'MW.Gene.nodes.csv', 'MW.Anatomy.nodes.csv']\n",
      "HuBMAP\n",
      "File Paths:\n",
      "['HMAZ.Gene.nodes.csv', 'HMAZ.Anatomy.nodes.csv', 'HMAZ.edges.csv', 'AZ.Anatomy.nodes.csv', 'AZ.edges.csv']\n"
     ]
    }
   ],
   "source": [
    "# for dcc, filenames in dcc_filename.items():\n",
    "# \tprint(dcc)\n",
    "# \tcompress(filenames, dcc)"
   ]
  },
  {
   "cell_type": "markdown",
   "metadata": {},
   "source": [
    "## Other Files\n",
    "### CLINVAR"
   ]
  },
  {
   "cell_type": "code",
   "execution_count": 204,
   "metadata": {},
   "outputs": [
    {
     "ename": "FileNotFoundError",
     "evalue": "[Errno 2] No such file or directory: '../dd_data/17July2024DD_csvs/CUI-CUIs.csv'",
     "output_type": "error",
     "traceback": [
      "\u001b[0;31m---------------------------------------------------------------------------\u001b[0m",
      "\u001b[0;31mFileNotFoundError\u001b[0m                         Traceback (most recent call last)",
      "Cell \u001b[0;32mIn[204], line 2\u001b[0m\n\u001b[1;32m      1\u001b[0m sab \u001b[38;5;241m=\u001b[39m \u001b[38;5;124m'\u001b[39m\u001b[38;5;124mCLINVAR\u001b[39m\u001b[38;5;124m'\u001b[39m\n\u001b[0;32m----> 2\u001b[0m df \u001b[38;5;241m=\u001b[39m \u001b[43mget_sab_df\u001b[49m\u001b[43m(\u001b[49m\u001b[43msab\u001b[49m\u001b[43m)\u001b[49m\n\u001b[1;32m      3\u001b[0m df\u001b[38;5;241m.\u001b[39mhead()\n",
      "Cell \u001b[0;32mIn[17], line 3\u001b[0m, in \u001b[0;36mget_sab_df\u001b[0;34m(sab, dcc)\u001b[0m\n\u001b[1;32m      1\u001b[0m \u001b[38;5;28;01mdef\u001b[39;00m \u001b[38;5;21mget_sab_df\u001b[39m(sab, dcc\u001b[38;5;241m=\u001b[39m\u001b[38;5;124m'\u001b[39m\u001b[38;5;124m'\u001b[39m):\n\u001b[1;32m      2\u001b[0m \tcounter \u001b[38;5;241m=\u001b[39m \u001b[38;5;241m0\u001b[39m\n\u001b[0;32m----> 3\u001b[0m \t\u001b[38;5;28;01mwith\u001b[39;00m \u001b[38;5;28;43mopen\u001b[39;49m\u001b[43m(\u001b[49m\u001b[43mdata_dir\u001b[49m\u001b[43m \u001b[49m\u001b[38;5;241;43m+\u001b[39;49m\u001b[43m \u001b[49m\u001b[38;5;124;43m'\u001b[39;49m\u001b[38;5;124;43mCUI-CUIs.csv\u001b[39;49m\u001b[38;5;124;43m'\u001b[39;49m\u001b[43m)\u001b[49m \u001b[38;5;28;01mas\u001b[39;00m o:\n\u001b[1;32m      4\u001b[0m \t\tfilename \u001b[38;5;241m=\u001b[39m \u001b[38;5;124m'\u001b[39m\u001b[38;5;124mout/sab/\u001b[39m\u001b[38;5;132;01m%s\u001b[39;00m\u001b[38;5;124m.edges.csv\u001b[39m\u001b[38;5;124m'\u001b[39m\u001b[38;5;241m%\u001b[39msab\n\u001b[1;32m      5\u001b[0m \t\t\u001b[38;5;28;01mif\u001b[39;00m os\u001b[38;5;241m.\u001b[39mpath\u001b[38;5;241m.\u001b[39misfile(filename): \n",
      "File \u001b[0;32m~/Documents/codebase/DataDistillery/venv/lib/python3.10/site-packages/IPython/core/interactiveshell.py:284\u001b[0m, in \u001b[0;36m_modified_open\u001b[0;34m(file, *args, **kwargs)\u001b[0m\n\u001b[1;32m    277\u001b[0m \u001b[38;5;28;01mif\u001b[39;00m file \u001b[38;5;129;01min\u001b[39;00m {\u001b[38;5;241m0\u001b[39m, \u001b[38;5;241m1\u001b[39m, \u001b[38;5;241m2\u001b[39m}:\n\u001b[1;32m    278\u001b[0m     \u001b[38;5;28;01mraise\u001b[39;00m \u001b[38;5;167;01mValueError\u001b[39;00m(\n\u001b[1;32m    279\u001b[0m         \u001b[38;5;124mf\u001b[39m\u001b[38;5;124m\"\u001b[39m\u001b[38;5;124mIPython won\u001b[39m\u001b[38;5;124m'\u001b[39m\u001b[38;5;124mt let you open fd=\u001b[39m\u001b[38;5;132;01m{\u001b[39;00mfile\u001b[38;5;132;01m}\u001b[39;00m\u001b[38;5;124m by default \u001b[39m\u001b[38;5;124m\"\u001b[39m\n\u001b[1;32m    280\u001b[0m         \u001b[38;5;124m\"\u001b[39m\u001b[38;5;124mas it is likely to crash IPython. If you know what you are doing, \u001b[39m\u001b[38;5;124m\"\u001b[39m\n\u001b[1;32m    281\u001b[0m         \u001b[38;5;124m\"\u001b[39m\u001b[38;5;124myou can use builtins\u001b[39m\u001b[38;5;124m'\u001b[39m\u001b[38;5;124m open.\u001b[39m\u001b[38;5;124m\"\u001b[39m\n\u001b[1;32m    282\u001b[0m     )\n\u001b[0;32m--> 284\u001b[0m \u001b[38;5;28;01mreturn\u001b[39;00m \u001b[43mio_open\u001b[49m\u001b[43m(\u001b[49m\u001b[43mfile\u001b[49m\u001b[43m,\u001b[49m\u001b[43m \u001b[49m\u001b[38;5;241;43m*\u001b[39;49m\u001b[43margs\u001b[49m\u001b[43m,\u001b[49m\u001b[43m \u001b[49m\u001b[38;5;241;43m*\u001b[39;49m\u001b[38;5;241;43m*\u001b[39;49m\u001b[43mkwargs\u001b[49m\u001b[43m)\u001b[49m\n",
      "\u001b[0;31mFileNotFoundError\u001b[0m: [Errno 2] No such file or directory: '../dd_data/17July2024DD_csvs/CUI-CUIs.csv'"
     ]
    }
   ],
   "source": [
    "sab = 'CLINVAR'\n",
    "df = get_sab_df(sab)\n",
    "df.head()"
   ]
  },
  {
   "cell_type": "code",
   "execution_count": 206,
   "metadata": {},
   "outputs": [
    {
     "data": {
      "text/html": [
       "<div>\n",
       "<style scoped>\n",
       "    .dataframe tbody tr th:only-of-type {\n",
       "        vertical-align: middle;\n",
       "    }\n",
       "\n",
       "    .dataframe tbody tr th {\n",
       "        vertical-align: top;\n",
       "    }\n",
       "\n",
       "    .dataframe thead th {\n",
       "        text-align: right;\n",
       "    }\n",
       "</style>\n",
       "<table border=\"1\" class=\"dataframe\">\n",
       "  <thead>\n",
       "    <tr style=\"text-align: right;\">\n",
       "      <th></th>\n",
       "      <th>source</th>\n",
       "      <th>target</th>\n",
       "      <th>relation</th>\n",
       "      <th>SAB</th>\n",
       "      <th>evidence_class</th>\n",
       "      <th>dcc</th>\n",
       "    </tr>\n",
       "  </thead>\n",
       "  <tbody>\n",
       "    <tr>\n",
       "      <th>0</th>\n",
       "      <td>41c1d77f-da64-5851-a9a1-64b97a2c2755</td>\n",
       "      <td>ade0b23c-d4fa-52c1-b202-b5f6461e8358</td>\n",
       "      <td>gene_associated_with_disease_or_phenotype</td>\n",
       "      <td>CLINVAR</td>\n",
       "      <td>NaN</td>\n",
       "      <td>NaN</td>\n",
       "    </tr>\n",
       "    <tr>\n",
       "      <th>1</th>\n",
       "      <td>41c1d77f-da64-5851-a9a1-64b97a2c2755</td>\n",
       "      <td>362612f1-2149-5e02-91a3-854fb72da454</td>\n",
       "      <td>gene_associated_with_disease_or_phenotype</td>\n",
       "      <td>CLINVAR</td>\n",
       "      <td>NaN</td>\n",
       "      <td>NaN</td>\n",
       "    </tr>\n",
       "    <tr>\n",
       "      <th>2</th>\n",
       "      <td>de85472e-53a1-50f7-a20d-7ec256eff945</td>\n",
       "      <td>73fa4088-748c-5396-91b8-f6b92d895d10</td>\n",
       "      <td>gene_associated_with_disease_or_phenotype</td>\n",
       "      <td>CLINVAR</td>\n",
       "      <td>NaN</td>\n",
       "      <td>NaN</td>\n",
       "    </tr>\n",
       "    <tr>\n",
       "      <th>3</th>\n",
       "      <td>de85472e-53a1-50f7-a20d-7ec256eff945</td>\n",
       "      <td>ebe6f385-4bd7-5d11-ba46-171a40fdc947</td>\n",
       "      <td>gene_associated_with_disease_or_phenotype</td>\n",
       "      <td>CLINVAR</td>\n",
       "      <td>NaN</td>\n",
       "      <td>NaN</td>\n",
       "    </tr>\n",
       "    <tr>\n",
       "      <th>4</th>\n",
       "      <td>de85472e-53a1-50f7-a20d-7ec256eff945</td>\n",
       "      <td>5ba85480-3d16-512d-ad51-22132b49e374</td>\n",
       "      <td>gene_associated_with_disease_or_phenotype</td>\n",
       "      <td>CLINVAR</td>\n",
       "      <td>NaN</td>\n",
       "      <td>NaN</td>\n",
       "    </tr>\n",
       "  </tbody>\n",
       "</table>\n",
       "</div>"
      ],
      "text/plain": [
       "                                 source                                target  \\\n",
       "0  41c1d77f-da64-5851-a9a1-64b97a2c2755  ade0b23c-d4fa-52c1-b202-b5f6461e8358   \n",
       "1  41c1d77f-da64-5851-a9a1-64b97a2c2755  362612f1-2149-5e02-91a3-854fb72da454   \n",
       "2  de85472e-53a1-50f7-a20d-7ec256eff945  73fa4088-748c-5396-91b8-f6b92d895d10   \n",
       "3  de85472e-53a1-50f7-a20d-7ec256eff945  ebe6f385-4bd7-5d11-ba46-171a40fdc947   \n",
       "4  de85472e-53a1-50f7-a20d-7ec256eff945  5ba85480-3d16-512d-ad51-22132b49e374   \n",
       "\n",
       "                                    relation      SAB  evidence_class  dcc  \n",
       "0  gene_associated_with_disease_or_phenotype  CLINVAR             NaN  NaN  \n",
       "1  gene_associated_with_disease_or_phenotype  CLINVAR             NaN  NaN  \n",
       "2  gene_associated_with_disease_or_phenotype  CLINVAR             NaN  NaN  \n",
       "3  gene_associated_with_disease_or_phenotype  CLINVAR             NaN  NaN  \n",
       "4  gene_associated_with_disease_or_phenotype  CLINVAR             NaN  NaN  "
      ]
     },
     "execution_count": 206,
     "metadata": {},
     "output_type": "execute_result"
    }
   ],
   "source": [
    "df = pd.read_csv(\"out/sab/CLINVAR.edges.csv\", index_col=0)\n",
    "df.head()"
   ]
  },
  {
   "cell_type": "code",
   "execution_count": 175,
   "metadata": {},
   "outputs": [
    {
     "data": {
      "text/plain": [
       "array(['gene_associated_with_disease_or_phenotype',\n",
       "       'inverse_gene_associated_with_disease_or_phenotype'], dtype=object)"
      ]
     },
     "execution_count": 175,
     "metadata": {},
     "output_type": "execute_result"
    }
   ],
   "source": [
    "df.relation.unique()"
   ]
  },
  {
   "cell_type": "code",
   "execution_count": 176,
   "metadata": {},
   "outputs": [
    {
     "data": {
      "text/plain": [
       "{'DOID', 'EFO', 'HP', 'MEDGEN', 'MONDO', 'MSH', 'OMIM'}"
      ]
     },
     "execution_count": 176,
     "metadata": {},
     "output_type": "execute_result"
    }
   ],
   "source": [
    "set(i.split(\":\")[0] for i in df[df.relation == 'gene_associated_with_disease_or_phenotype'].target if \":\" in i)"
   ]
  },
  {
   "cell_type": "code",
   "execution_count": 177,
   "metadata": {},
   "outputs": [],
   "source": [
    "relations = [\"gene_associated_with_disease_or_phenotype\"]\n",
    "df[df.relation.isin(relations)].to_csv(\"out/sab/%s.edges.csv\"%sab)"
   ]
  },
  {
   "cell_type": "code",
   "execution_count": 178,
   "metadata": {},
   "outputs": [
    {
     "data": {
      "text/plain": [
       "label    A2ML1 gene\n",
       "Name: C1825487, dtype: object"
      ]
     },
     "execution_count": 178,
     "metadata": {},
     "output_type": "execute_result"
    }
   ],
   "source": [
    "labels.loc['C1825487']"
   ]
  },
  {
   "cell_type": "code",
   "execution_count": 179,
   "metadata": {},
   "outputs": [],
   "source": [
    "relations = {\n",
    "\t\"gene_associated_with_disease_or_phenotype\": {\n",
    "\t\t\"source\": \"Gene\",\n",
    "\t\t\"target\": \"Disease or Phenotype\",\n",
    "\t}\n",
    "}"
   ]
  },
  {
   "cell_type": "code",
   "execution_count": 180,
   "metadata": {},
   "outputs": [
    {
     "name": "stdout",
     "output_type": "stream",
     "text": [
      "Gene\n",
      "Disease or Phenotype\n"
     ]
    }
   ],
   "source": [
    "nodes = get_nodes(df, sab, relations)"
   ]
  },
  {
   "cell_type": "code",
   "execution_count": 181,
   "metadata": {},
   "outputs": [
    {
     "data": {
      "text/plain": [
       "Index([ 68277,  68278, 104175, 104176, 104177, 104178, 104179, 104180, 104181,\n",
       "       104182, 104183, 104184, 104185],\n",
       "      dtype='int64')"
      ]
     },
     "execution_count": 181,
     "metadata": {},
     "output_type": "execute_result"
    }
   ],
   "source": [
    "ind = df[df.target == 'C1417848'].index\n",
    "ind"
   ]
  },
  {
   "cell_type": "code",
   "execution_count": 182,
   "metadata": {},
   "outputs": [],
   "source": [
    "df.loc[[i for i in df.index if i not in ind]].to_csv(\"out/sab/%s.edges.csv\"%sab)"
   ]
  },
  {
   "cell_type": "code",
   "execution_count": 183,
   "metadata": {},
   "outputs": [
    {
     "ename": "KeyError",
     "evalue": "'C1417848'",
     "output_type": "error",
     "traceback": [
      "\u001b[0;31m---------------------------------------------------------------------------\u001b[0m",
      "\u001b[0;31mKeyError\u001b[0m                                  Traceback (most recent call last)",
      "File \u001b[0;32m~/Documents/codebase/DataDistillery/venv/lib/python3.10/site-packages/pandas/core/indexes/base.py:3653\u001b[0m, in \u001b[0;36mIndex.get_loc\u001b[0;34m(self, key)\u001b[0m\n\u001b[1;32m   3652\u001b[0m \u001b[38;5;28;01mtry\u001b[39;00m:\n\u001b[0;32m-> 3653\u001b[0m     \u001b[38;5;28;01mreturn\u001b[39;00m \u001b[38;5;28;43mself\u001b[39;49m\u001b[38;5;241;43m.\u001b[39;49m\u001b[43m_engine\u001b[49m\u001b[38;5;241;43m.\u001b[39;49m\u001b[43mget_loc\u001b[49m\u001b[43m(\u001b[49m\u001b[43mcasted_key\u001b[49m\u001b[43m)\u001b[49m\n\u001b[1;32m   3654\u001b[0m \u001b[38;5;28;01mexcept\u001b[39;00m \u001b[38;5;167;01mKeyError\u001b[39;00m \u001b[38;5;28;01mas\u001b[39;00m err:\n",
      "File \u001b[0;32m~/Documents/codebase/DataDistillery/venv/lib/python3.10/site-packages/pandas/_libs/index.pyx:147\u001b[0m, in \u001b[0;36mpandas._libs.index.IndexEngine.get_loc\u001b[0;34m()\u001b[0m\n",
      "File \u001b[0;32m~/Documents/codebase/DataDistillery/venv/lib/python3.10/site-packages/pandas/_libs/index.pyx:176\u001b[0m, in \u001b[0;36mpandas._libs.index.IndexEngine.get_loc\u001b[0;34m()\u001b[0m\n",
      "File \u001b[0;32mpandas/_libs/hashtable_class_helper.pxi:7080\u001b[0m, in \u001b[0;36mpandas._libs.hashtable.PyObjectHashTable.get_item\u001b[0;34m()\u001b[0m\n",
      "File \u001b[0;32mpandas/_libs/hashtable_class_helper.pxi:7088\u001b[0m, in \u001b[0;36mpandas._libs.hashtable.PyObjectHashTable.get_item\u001b[0;34m()\u001b[0m\n",
      "\u001b[0;31mKeyError\u001b[0m: 'C1417848'",
      "\nThe above exception was the direct cause of the following exception:\n",
      "\u001b[0;31mKeyError\u001b[0m                                  Traceback (most recent call last)",
      "Cell \u001b[0;32mIn[183], line 1\u001b[0m\n\u001b[0;32m----> 1\u001b[0m \u001b[43mnodes\u001b[49m\u001b[43m[\u001b[49m\u001b[38;5;124;43m'\u001b[39;49m\u001b[38;5;124;43mDisease or Phenotype\u001b[39;49m\u001b[38;5;124;43m'\u001b[39;49m\u001b[43m]\u001b[49m\u001b[38;5;241;43m.\u001b[39;49m\u001b[43mloc\u001b[49m\u001b[43m[\u001b[49m\u001b[38;5;124;43m'\u001b[39;49m\u001b[38;5;124;43mC1417848\u001b[39;49m\u001b[38;5;124;43m'\u001b[39;49m\u001b[43m]\u001b[49m\n",
      "File \u001b[0;32m~/Documents/codebase/DataDistillery/venv/lib/python3.10/site-packages/pandas/core/indexing.py:1103\u001b[0m, in \u001b[0;36m_LocationIndexer.__getitem__\u001b[0;34m(self, key)\u001b[0m\n\u001b[1;32m   1100\u001b[0m axis \u001b[38;5;241m=\u001b[39m \u001b[38;5;28mself\u001b[39m\u001b[38;5;241m.\u001b[39maxis \u001b[38;5;129;01mor\u001b[39;00m \u001b[38;5;241m0\u001b[39m\n\u001b[1;32m   1102\u001b[0m maybe_callable \u001b[38;5;241m=\u001b[39m com\u001b[38;5;241m.\u001b[39mapply_if_callable(key, \u001b[38;5;28mself\u001b[39m\u001b[38;5;241m.\u001b[39mobj)\n\u001b[0;32m-> 1103\u001b[0m \u001b[38;5;28;01mreturn\u001b[39;00m \u001b[38;5;28;43mself\u001b[39;49m\u001b[38;5;241;43m.\u001b[39;49m\u001b[43m_getitem_axis\u001b[49m\u001b[43m(\u001b[49m\u001b[43mmaybe_callable\u001b[49m\u001b[43m,\u001b[49m\u001b[43m \u001b[49m\u001b[43maxis\u001b[49m\u001b[38;5;241;43m=\u001b[39;49m\u001b[43maxis\u001b[49m\u001b[43m)\u001b[49m\n",
      "File \u001b[0;32m~/Documents/codebase/DataDistillery/venv/lib/python3.10/site-packages/pandas/core/indexing.py:1343\u001b[0m, in \u001b[0;36m_LocIndexer._getitem_axis\u001b[0;34m(self, key, axis)\u001b[0m\n\u001b[1;32m   1341\u001b[0m \u001b[38;5;66;03m# fall thru to straight lookup\u001b[39;00m\n\u001b[1;32m   1342\u001b[0m \u001b[38;5;28mself\u001b[39m\u001b[38;5;241m.\u001b[39m_validate_key(key, axis)\n\u001b[0;32m-> 1343\u001b[0m \u001b[38;5;28;01mreturn\u001b[39;00m \u001b[38;5;28;43mself\u001b[39;49m\u001b[38;5;241;43m.\u001b[39;49m\u001b[43m_get_label\u001b[49m\u001b[43m(\u001b[49m\u001b[43mkey\u001b[49m\u001b[43m,\u001b[49m\u001b[43m \u001b[49m\u001b[43maxis\u001b[49m\u001b[38;5;241;43m=\u001b[39;49m\u001b[43maxis\u001b[49m\u001b[43m)\u001b[49m\n",
      "File \u001b[0;32m~/Documents/codebase/DataDistillery/venv/lib/python3.10/site-packages/pandas/core/indexing.py:1293\u001b[0m, in \u001b[0;36m_LocIndexer._get_label\u001b[0;34m(self, label, axis)\u001b[0m\n\u001b[1;32m   1291\u001b[0m \u001b[38;5;28;01mdef\u001b[39;00m \u001b[38;5;21m_get_label\u001b[39m(\u001b[38;5;28mself\u001b[39m, label, axis: AxisInt):\n\u001b[1;32m   1292\u001b[0m     \u001b[38;5;66;03m# GH#5567 this will fail if the label is not present in the axis.\u001b[39;00m\n\u001b[0;32m-> 1293\u001b[0m     \u001b[38;5;28;01mreturn\u001b[39;00m \u001b[38;5;28;43mself\u001b[39;49m\u001b[38;5;241;43m.\u001b[39;49m\u001b[43mobj\u001b[49m\u001b[38;5;241;43m.\u001b[39;49m\u001b[43mxs\u001b[49m\u001b[43m(\u001b[49m\u001b[43mlabel\u001b[49m\u001b[43m,\u001b[49m\u001b[43m \u001b[49m\u001b[43maxis\u001b[49m\u001b[38;5;241;43m=\u001b[39;49m\u001b[43maxis\u001b[49m\u001b[43m)\u001b[49m\n",
      "File \u001b[0;32m~/Documents/codebase/DataDistillery/venv/lib/python3.10/site-packages/pandas/core/generic.py:4095\u001b[0m, in \u001b[0;36mNDFrame.xs\u001b[0;34m(self, key, axis, level, drop_level)\u001b[0m\n\u001b[1;32m   4093\u001b[0m             new_index \u001b[38;5;241m=\u001b[39m index[loc]\n\u001b[1;32m   4094\u001b[0m \u001b[38;5;28;01melse\u001b[39;00m:\n\u001b[0;32m-> 4095\u001b[0m     loc \u001b[38;5;241m=\u001b[39m \u001b[43mindex\u001b[49m\u001b[38;5;241;43m.\u001b[39;49m\u001b[43mget_loc\u001b[49m\u001b[43m(\u001b[49m\u001b[43mkey\u001b[49m\u001b[43m)\u001b[49m\n\u001b[1;32m   4097\u001b[0m     \u001b[38;5;28;01mif\u001b[39;00m \u001b[38;5;28misinstance\u001b[39m(loc, np\u001b[38;5;241m.\u001b[39mndarray):\n\u001b[1;32m   4098\u001b[0m         \u001b[38;5;28;01mif\u001b[39;00m loc\u001b[38;5;241m.\u001b[39mdtype \u001b[38;5;241m==\u001b[39m np\u001b[38;5;241m.\u001b[39mbool_:\n",
      "File \u001b[0;32m~/Documents/codebase/DataDistillery/venv/lib/python3.10/site-packages/pandas/core/indexes/base.py:3655\u001b[0m, in \u001b[0;36mIndex.get_loc\u001b[0;34m(self, key)\u001b[0m\n\u001b[1;32m   3653\u001b[0m     \u001b[38;5;28;01mreturn\u001b[39;00m \u001b[38;5;28mself\u001b[39m\u001b[38;5;241m.\u001b[39m_engine\u001b[38;5;241m.\u001b[39mget_loc(casted_key)\n\u001b[1;32m   3654\u001b[0m \u001b[38;5;28;01mexcept\u001b[39;00m \u001b[38;5;167;01mKeyError\u001b[39;00m \u001b[38;5;28;01mas\u001b[39;00m err:\n\u001b[0;32m-> 3655\u001b[0m     \u001b[38;5;28;01mraise\u001b[39;00m \u001b[38;5;167;01mKeyError\u001b[39;00m(key) \u001b[38;5;28;01mfrom\u001b[39;00m \u001b[38;5;21;01merr\u001b[39;00m\n\u001b[1;32m   3656\u001b[0m \u001b[38;5;28;01mexcept\u001b[39;00m \u001b[38;5;167;01mTypeError\u001b[39;00m:\n\u001b[1;32m   3657\u001b[0m     \u001b[38;5;66;03m# If we have a listlike key, _check_indexing_error will raise\u001b[39;00m\n\u001b[1;32m   3658\u001b[0m     \u001b[38;5;66;03m#  InvalidIndexError. Otherwise we fall through and re-raise\u001b[39;00m\n\u001b[1;32m   3659\u001b[0m     \u001b[38;5;66;03m#  the TypeError.\u001b[39;00m\n\u001b[1;32m   3660\u001b[0m     \u001b[38;5;28mself\u001b[39m\u001b[38;5;241m.\u001b[39m_check_indexing_error(key)\n",
      "\u001b[0;31mKeyError\u001b[0m: 'C1417848'"
     ]
    }
   ],
   "source": [
    "nodes['Disease or Phenotype'].loc['C1417848']"
   ]
  },
  {
   "cell_type": "code",
   "execution_count": 184,
   "metadata": {},
   "outputs": [],
   "source": [
    "nodes['Disease or Phenotype'].loc[[i for i in nodes['Disease or Phenotype'].index if i != 'C1417848']].to_csv(\"out/sab/%s.%s.nodes.csv\"%(sab, 'Disease or Phenotype'))"
   ]
  },
  {
   "cell_type": "code",
   "execution_count": 209,
   "metadata": {},
   "outputs": [],
   "source": [
    "df[df.relation == 'gene_associated_with_disease_or_phenotype'].to_csv('out/sab/CLINVAR.edges.csv')"
   ]
  },
  {
   "cell_type": "markdown",
   "metadata": {},
   "source": [
    "### HGNCHPO"
   ]
  },
  {
   "cell_type": "code",
   "execution_count": 185,
   "metadata": {},
   "outputs": [
    {
     "name": "stderr",
     "output_type": "stream",
     "text": [
      "173212741it [03:14, 891596.23it/s] \n"
     ]
    },
    {
     "data": {
      "text/html": [
       "<div>\n",
       "<style scoped>\n",
       "    .dataframe tbody tr th:only-of-type {\n",
       "        vertical-align: middle;\n",
       "    }\n",
       "\n",
       "    .dataframe tbody tr th {\n",
       "        vertical-align: top;\n",
       "    }\n",
       "\n",
       "    .dataframe thead th {\n",
       "        text-align: right;\n",
       "    }\n",
       "</style>\n",
       "<table border=\"1\" class=\"dataframe\">\n",
       "  <thead>\n",
       "    <tr style=\"text-align: right;\">\n",
       "      <th></th>\n",
       "      <th>source</th>\n",
       "      <th>target</th>\n",
       "      <th>relation</th>\n",
       "      <th>SAB</th>\n",
       "      <th>evidence_class</th>\n",
       "      <th>dcc</th>\n",
       "    </tr>\n",
       "  </thead>\n",
       "  <tbody>\n",
       "    <tr>\n",
       "      <th>0</th>\n",
       "      <td>C1826605</td>\n",
       "      <td>C4025901</td>\n",
       "      <td>associated_with</td>\n",
       "      <td>HGNCHPO</td>\n",
       "      <td></td>\n",
       "      <td></td>\n",
       "    </tr>\n",
       "    <tr>\n",
       "      <th>1</th>\n",
       "      <td>C1826605</td>\n",
       "      <td>C4021817</td>\n",
       "      <td>associated_with</td>\n",
       "      <td>HGNCHPO</td>\n",
       "      <td></td>\n",
       "      <td></td>\n",
       "    </tr>\n",
       "    <tr>\n",
       "      <th>2</th>\n",
       "      <td>C1826605</td>\n",
       "      <td>C0026633</td>\n",
       "      <td>associated_with</td>\n",
       "      <td>HGNCHPO</td>\n",
       "      <td></td>\n",
       "      <td></td>\n",
       "    </tr>\n",
       "    <tr>\n",
       "      <th>3</th>\n",
       "      <td>C1826605</td>\n",
       "      <td>C2183966</td>\n",
       "      <td>associated_with</td>\n",
       "      <td>HGNCHPO</td>\n",
       "      <td></td>\n",
       "      <td></td>\n",
       "    </tr>\n",
       "    <tr>\n",
       "      <th>4</th>\n",
       "      <td>C1826605</td>\n",
       "      <td>C4025887</td>\n",
       "      <td>associated_with</td>\n",
       "      <td>HGNCHPO</td>\n",
       "      <td></td>\n",
       "      <td></td>\n",
       "    </tr>\n",
       "  </tbody>\n",
       "</table>\n",
       "</div>"
      ],
      "text/plain": [
       "     source    target         relation      SAB evidence_class dcc\n",
       "0  C1826605  C4025901  associated_with  HGNCHPO                   \n",
       "1  C1826605  C4021817  associated_with  HGNCHPO                   \n",
       "2  C1826605  C0026633  associated_with  HGNCHPO                   \n",
       "3  C1826605  C2183966  associated_with  HGNCHPO                   \n",
       "4  C1826605  C4025887  associated_with  HGNCHPO                   "
      ]
     },
     "execution_count": 185,
     "metadata": {},
     "output_type": "execute_result"
    }
   ],
   "source": [
    "sab = 'HGNCHPO'\n",
    "df = get_sab_df(sab)\n",
    "df.head()"
   ]
  },
  {
   "cell_type": "code",
   "execution_count": 186,
   "metadata": {},
   "outputs": [
    {
     "data": {
      "text/plain": [
       "array(['associated_with', 'inverse_associated_with'], dtype=object)"
      ]
     },
     "execution_count": 186,
     "metadata": {},
     "output_type": "execute_result"
    }
   ],
   "source": [
    "df.relation.unique()"
   ]
  },
  {
   "cell_type": "code",
   "execution_count": 187,
   "metadata": {},
   "outputs": [],
   "source": [
    "hp = df[df.relation == 'associated_with'].target.unique()"
   ]
  },
  {
   "cell_type": "code",
   "execution_count": 188,
   "metadata": {},
   "outputs": [],
   "source": [
    "df[df.relation == 'associated_with'].to_csv(\"out/sab/%s.edges.csv\"%sab)"
   ]
  },
  {
   "cell_type": "code",
   "execution_count": 189,
   "metadata": {},
   "outputs": [],
   "source": [
    "relations = {\n",
    "\t\"associated_with\": {\n",
    "\t\t\"source\": \"Gene\",\n",
    "\t\t\"target\": \"Disease or Phenotype\",\n",
    "\t}\n",
    "}"
   ]
  },
  {
   "cell_type": "code",
   "execution_count": 190,
   "metadata": {},
   "outputs": [
    {
     "name": "stdout",
     "output_type": "stream",
     "text": [
      "Gene\n",
      "Disease or Phenotype\n"
     ]
    }
   ],
   "source": [
    "nodes = get_nodes(df, sab, relations)"
   ]
  },
  {
   "cell_type": "markdown",
   "metadata": {},
   "source": [
    "### MSIGDB"
   ]
  },
  {
   "cell_type": "code",
   "execution_count": 191,
   "metadata": {},
   "outputs": [
    {
     "name": "stderr",
     "output_type": "stream",
     "text": [
      "173212741it [03:04, 936987.95it/s] \n"
     ]
    },
    {
     "data": {
      "text/html": [
       "<div>\n",
       "<style scoped>\n",
       "    .dataframe tbody tr th:only-of-type {\n",
       "        vertical-align: middle;\n",
       "    }\n",
       "\n",
       "    .dataframe tbody tr th {\n",
       "        vertical-align: top;\n",
       "    }\n",
       "\n",
       "    .dataframe thead th {\n",
       "        text-align: right;\n",
       "    }\n",
       "</style>\n",
       "<table border=\"1\" class=\"dataframe\">\n",
       "  <thead>\n",
       "    <tr style=\"text-align: right;\">\n",
       "      <th></th>\n",
       "      <th>source</th>\n",
       "      <th>target</th>\n",
       "      <th>relation</th>\n",
       "      <th>SAB</th>\n",
       "      <th>evidence_class</th>\n",
       "      <th>dcc</th>\n",
       "    </tr>\n",
       "  </thead>\n",
       "  <tbody>\n",
       "    <tr>\n",
       "      <th>0</th>\n",
       "      <td>MSIGDB:M40835 CUI</td>\n",
       "      <td>C1424141</td>\n",
       "      <td>targets_expression_of_gene</td>\n",
       "      <td>MSIGDB</td>\n",
       "      <td></td>\n",
       "      <td></td>\n",
       "    </tr>\n",
       "    <tr>\n",
       "      <th>1</th>\n",
       "      <td>MSIGDB:M1556 CUI</td>\n",
       "      <td>C1424200</td>\n",
       "      <td>chr_band_contains_gene</td>\n",
       "      <td>MSIGDB</td>\n",
       "      <td></td>\n",
       "      <td></td>\n",
       "    </tr>\n",
       "    <tr>\n",
       "      <th>2</th>\n",
       "      <td>MSIGDB:M1884 CUI</td>\n",
       "      <td>C1424528</td>\n",
       "      <td>pathway_associated_with_gene</td>\n",
       "      <td>MSIGDB</td>\n",
       "      <td></td>\n",
       "      <td></td>\n",
       "    </tr>\n",
       "    <tr>\n",
       "      <th>3</th>\n",
       "      <td>MSIGDB:M39822 CUI</td>\n",
       "      <td>C1424528</td>\n",
       "      <td>pathway_associated_with_gene</td>\n",
       "      <td>MSIGDB</td>\n",
       "      <td></td>\n",
       "      <td></td>\n",
       "    </tr>\n",
       "    <tr>\n",
       "      <th>4</th>\n",
       "      <td>MSIGDB:M752 CUI</td>\n",
       "      <td>C1424528</td>\n",
       "      <td>pathway_associated_with_gene</td>\n",
       "      <td>MSIGDB</td>\n",
       "      <td></td>\n",
       "      <td></td>\n",
       "    </tr>\n",
       "  </tbody>\n",
       "</table>\n",
       "</div>"
      ],
      "text/plain": [
       "              source    target                      relation     SAB  \\\n",
       "0  MSIGDB:M40835 CUI  C1424141    targets_expression_of_gene  MSIGDB   \n",
       "1   MSIGDB:M1556 CUI  C1424200        chr_band_contains_gene  MSIGDB   \n",
       "2   MSIGDB:M1884 CUI  C1424528  pathway_associated_with_gene  MSIGDB   \n",
       "3  MSIGDB:M39822 CUI  C1424528  pathway_associated_with_gene  MSIGDB   \n",
       "4    MSIGDB:M752 CUI  C1424528  pathway_associated_with_gene  MSIGDB   \n",
       "\n",
       "  evidence_class dcc  \n",
       "0                     \n",
       "1                     \n",
       "2                     \n",
       "3                     \n",
       "4                     "
      ]
     },
     "execution_count": 191,
     "metadata": {},
     "output_type": "execute_result"
    }
   ],
   "source": [
    "sab = 'MSIGDB'\n",
    "df = get_sab_df(sab)\n",
    "df.head()"
   ]
  },
  {
   "cell_type": "code",
   "execution_count": 192,
   "metadata": {},
   "outputs": [
    {
     "data": {
      "text/plain": [
       "array(['targets_expression_of_gene', 'chr_band_contains_gene',\n",
       "       'pathway_associated_with_gene', 'has_marker_gene',\n",
       "       'has_signature_gene', 'inverse_targets_expression_of_gene',\n",
       "       'inverse_chr_band_contains_gene',\n",
       "       'inverse_pathway_associated_with_gene', 'inverse_has_marker_gene',\n",
       "       'inverse_has_signature_gene'], dtype=object)"
      ]
     },
     "execution_count": 192,
     "metadata": {},
     "output_type": "execute_result"
    }
   ],
   "source": [
    "df.relation.unique()"
   ]
  },
  {
   "cell_type": "code",
   "execution_count": 193,
   "metadata": {},
   "outputs": [],
   "source": [
    "d = df[df.relation == 'has_signature_gene']"
   ]
  },
  {
   "cell_type": "code",
   "execution_count": 194,
   "metadata": {},
   "outputs": [
    {
     "data": {
      "text/plain": [
       "{'MSIGDB'}"
      ]
     },
     "execution_count": 194,
     "metadata": {},
     "output_type": "execute_result"
    }
   ],
   "source": [
    "set([i.split(\":\")[0] for i in d.source])"
   ]
  },
  {
   "cell_type": "code",
   "execution_count": 195,
   "metadata": {},
   "outputs": [
    {
     "data": {
      "text/plain": [
       "SAB\n",
       "ENSEMBL        4384\n",
       "MTH            4384\n",
       "HGNC           4384\n",
       "ENTREZ         4380\n",
       "OMIM           4349\n",
       "NCI            2376\n",
       "ORDO           1576\n",
       "LNC             346\n",
       "CHV              46\n",
       "PDQ              38\n",
       "MONDO            30\n",
       "MSH              22\n",
       "CSP              16\n",
       "EFO              13\n",
       "LCH_NW            5\n",
       "SNOMEDCT_US       4\n",
       "CHEBI             2\n",
       "AOT               1\n",
       "DOID              1\n",
       "Name: count, dtype: int64"
      ]
     },
     "execution_count": 195,
     "metadata": {},
     "output_type": "execute_result"
    }
   ],
   "source": [
    "concept_code[concept_code.id.isin(d.target.unique())].SAB.value_counts()"
   ]
  },
  {
   "cell_type": "code",
   "execution_count": 196,
   "metadata": {},
   "outputs": [],
   "source": [
    "relations = {\n",
    "\t'targets_expression_of_gene': {\n",
    "\t\t\"source\": \"MSIGDB\",\n",
    "\t\t\"target\": \"Gene\"\n",
    "\t},\n",
    "\t\"chr_band_contains_gene\": {\n",
    "\t\t\"source\": \"MSIGDB\",\n",
    "\t\t\"target\": \"Gene\"\n",
    "\t},\n",
    "\t\"pathway_associated_with_gene\": {\n",
    "\t\t\"source\": \"MSIGDB\",\n",
    "\t\t\"target\": \"Gene\"\n",
    "\t},\n",
    "\t\"has_marker_gene\": {\n",
    "\t\t\"source\": \"MSIGDB\",\n",
    "\t\t\"target\": \"Gene\"\n",
    "\t},\n",
    "\t\"has_signature_gene\": {\n",
    "\t\t\"source\": \"MSIGDB\",\n",
    "\t\t\"target\": \"Gene\"\n",
    "\t},\n",
    "\t\"has_signature_gene\": {\n",
    "\t\t\"source\": \"MSIGDB\",\n",
    "\t\t\"target\": \"Gene\"\n",
    "\t}\n",
    "}"
   ]
  },
  {
   "cell_type": "code",
   "execution_count": 197,
   "metadata": {},
   "outputs": [],
   "source": [
    "df[df.relation.isin(list(relations.keys()))].to_csv(\"out/sab/%s.edges.csv\"%sab)"
   ]
  },
  {
   "cell_type": "code",
   "execution_count": 198,
   "metadata": {},
   "outputs": [
    {
     "name": "stdout",
     "output_type": "stream",
     "text": [
      "MSIGDB\n",
      "Gene\n"
     ]
    }
   ],
   "source": [
    "nodes = get_nodes(df, sab, relations)"
   ]
  },
  {
   "cell_type": "markdown",
   "metadata": {},
   "source": [
    "## Biomarker Partnersip"
   ]
  },
  {
   "cell_type": "code",
   "execution_count": 199,
   "metadata": {},
   "outputs": [
    {
     "name": "stderr",
     "output_type": "stream",
     "text": [
      "173212741it [02:18, 1246522.43it/s]\n"
     ]
    },
    {
     "data": {
      "text/html": [
       "<div>\n",
       "<style scoped>\n",
       "    .dataframe tbody tr th:only-of-type {\n",
       "        vertical-align: middle;\n",
       "    }\n",
       "\n",
       "    .dataframe tbody tr th {\n",
       "        vertical-align: top;\n",
       "    }\n",
       "\n",
       "    .dataframe thead th {\n",
       "        text-align: right;\n",
       "    }\n",
       "</style>\n",
       "<table border=\"1\" class=\"dataframe\">\n",
       "  <thead>\n",
       "    <tr style=\"text-align: right;\">\n",
       "      <th></th>\n",
       "      <th>source</th>\n",
       "      <th>target</th>\n",
       "      <th>relation</th>\n",
       "      <th>SAB</th>\n",
       "      <th>evidence_class</th>\n",
       "      <th>dcc</th>\n",
       "    </tr>\n",
       "  </thead>\n",
       "  <tbody>\n",
       "    <tr>\n",
       "      <th>0</th>\n",
       "      <td>BIOMARKER:AN3902-1 CUI</td>\n",
       "      <td>DBSNP:rs7785013 CUI</td>\n",
       "      <td>indicated_by_presence_of</td>\n",
       "      <td>BIOMARKER</td>\n",
       "      <td></td>\n",
       "      <td></td>\n",
       "    </tr>\n",
       "    <tr>\n",
       "      <th>1</th>\n",
       "      <td>BIOMARKER:AN3902-1 CUI</td>\n",
       "      <td>C0005767</td>\n",
       "      <td>determined_using_sample_from</td>\n",
       "      <td>BIOMARKER</td>\n",
       "      <td></td>\n",
       "      <td></td>\n",
       "    </tr>\n",
       "    <tr>\n",
       "      <th>2</th>\n",
       "      <td>BIOMARKER:AN3902-1 CUI</td>\n",
       "      <td>OBCI:0000008 CUI</td>\n",
       "      <td>has_best_classification</td>\n",
       "      <td>BIOMARKER</td>\n",
       "      <td></td>\n",
       "      <td></td>\n",
       "    </tr>\n",
       "    <tr>\n",
       "      <th>3</th>\n",
       "      <td>BIOMARKER:AN3902-1 CUI</td>\n",
       "      <td>C0684249</td>\n",
       "      <td>_indicates_risk_of_developing</td>\n",
       "      <td>BIOMARKER</td>\n",
       "      <td></td>\n",
       "      <td></td>\n",
       "    </tr>\n",
       "    <tr>\n",
       "      <th>4</th>\n",
       "      <td>BIOMARKER:AN3903-1 CUI</td>\n",
       "      <td>DBSNP:rs73159014 CUI</td>\n",
       "      <td>indicated_by_presence_of</td>\n",
       "      <td>BIOMARKER</td>\n",
       "      <td></td>\n",
       "      <td></td>\n",
       "    </tr>\n",
       "  </tbody>\n",
       "</table>\n",
       "</div>"
      ],
      "text/plain": [
       "                   source                target  \\\n",
       "0  BIOMARKER:AN3902-1 CUI   DBSNP:rs7785013 CUI   \n",
       "1  BIOMARKER:AN3902-1 CUI              C0005767   \n",
       "2  BIOMARKER:AN3902-1 CUI      OBCI:0000008 CUI   \n",
       "3  BIOMARKER:AN3902-1 CUI              C0684249   \n",
       "4  BIOMARKER:AN3903-1 CUI  DBSNP:rs73159014 CUI   \n",
       "\n",
       "                        relation        SAB evidence_class dcc  \n",
       "0       indicated_by_presence_of  BIOMARKER                     \n",
       "1   determined_using_sample_from  BIOMARKER                     \n",
       "2        has_best_classification  BIOMARKER                     \n",
       "3  _indicates_risk_of_developing  BIOMARKER                     \n",
       "4       indicated_by_presence_of  BIOMARKER                     "
      ]
     },
     "execution_count": 199,
     "metadata": {},
     "output_type": "execute_result"
    }
   ],
   "source": [
    "sab = 'BIOMARKER'\n",
    "df = get_sab_df(sab)\n",
    "df.head()"
   ]
  },
  {
   "cell_type": "code",
   "execution_count": 201,
   "metadata": {},
   "outputs": [
    {
     "data": {
      "text/plain": [
       "array(['indicated_by_presence_of', 'determined_using_sample_from',\n",
       "       'has_best_classification', '_indicates_risk_of_developing',\n",
       "       'indicated_by_above_normal_level_of', 'diagnostic_for',\n",
       "       'indicated_by_below_normal_level_of', 'prognostic_for',\n",
       "       'monitors_status_of', 'inverse_indicated_by_presence_of',\n",
       "       'inverse_determined_using_sample_from',\n",
       "       'inverse_has_best_classification',\n",
       "       'inverse__indicates_risk_of_developing',\n",
       "       'inverse_indicated_by_above_normal_level_of',\n",
       "       'inverse_diagnostic_for',\n",
       "       'inverse_indicated_by_below_normal_level_of',\n",
       "       'inverse_prognostic_for', 'inverse_monitors_status_of'],\n",
       "      dtype=object)"
      ]
     },
     "execution_count": 201,
     "metadata": {},
     "output_type": "execute_result"
    }
   ],
   "source": [
    "df.relation.unique()"
   ]
  },
  {
   "cell_type": "code",
   "execution_count": null,
   "metadata": {},
   "outputs": [],
   "source": []
  },
  {
   "cell_type": "code",
   "execution_count": 3,
   "metadata": {},
   "outputs": [],
   "source": [
    "from glob import glob"
   ]
  },
  {
   "cell_type": "code",
   "execution_count": 30,
   "metadata": {},
   "outputs": [
    {
     "name": "stderr",
     "output_type": "stream",
     "text": [
      "  0%|          | 0/85 [00:00<?, ?it/s]"
     ]
    },
    {
     "name": "stderr",
     "output_type": "stream",
     "text": [
      "100%|██████████| 85/85 [00:34<00:00,  2.45it/s]\n"
     ]
    }
   ],
   "source": [
    "for filename in tqdm(glob('out/sab/*nodes.csv')):\n",
    "\tdf = pd.read_csv(filename, index_col=0)\n",
    "\tdf.astype(str).to_csv(filename)\n"
   ]
  },
  {
   "cell_type": "code",
   "execution_count": 48,
   "metadata": {},
   "outputs": [
    {
     "name": "stderr",
     "output_type": "stream",
     "text": [
      "  0%|          | 0/85 [00:00<?, ?it/s]"
     ]
    },
    {
     "name": "stderr",
     "output_type": "stream",
     "text": [
      "100%|██████████| 85/85 [00:40<00:00,  2.09it/s]\n"
     ]
    }
   ],
   "source": [
    "for filename in tqdm(glob('out/sab/*nodes.csv')):\n",
    "\tdf = pd.read_csv(filename, index_col=0)\n",
    "\t\n",
    "\tcolumns = ['label', 'type']\n",
    "\tfor col in df.columns:\n",
    "\t\tif col not in columns or col != 'NCI':\n",
    "\t\t\tind = df[~df[col].isna()].index\n",
    "\t\t\tdf.loc[ind, col] = df.loc[ind, col].apply(lambda x: '%s:%d'%(col, int(x)) if (type(x) == float or type(x) == int) else x)\n",
    "\t\t\tcolumns.append(col)\n",
    "\tdf.to_csv(filename)"
   ]
  },
  {
   "cell_type": "code",
   "execution_count": 18,
   "metadata": {},
   "outputs": [
    {
     "data": {
      "text/plain": [
       "21"
      ]
     },
     "execution_count": 18,
     "metadata": {},
     "output_type": "execute_result"
    }
   ],
   "source": [
    "sab_dict = {\n",
    "\t\"LINCS\": [\"LINCS\"],\n",
    "\t\"4DN\": [\"4DN\"],\n",
    "\t\"ERCC\": [\"ERCCRBP\", \"ERCCREG\"],\n",
    "\t\"GlyGen\": [\"PROTEOFORM\", \"GLYCANS\"],\n",
    "\t\"GTEx\": [\"GTEXEXP\", \"GTEXEQTL\"],\n",
    "\t\"HuBMAP\": [\"AZ\", \"HMAZ\"],\n",
    "\t\"IDG\": [\"IDGP\", \"IDGD\"],\n",
    "\t\"KF\": [\"KF\"],\n",
    "\t\"MoTrPAC\": [\"MOTRPAC\"],\n",
    "\t\"MW\": [\"MW\"],\n",
    "\t\"SPARC\": [\"NPO\"],\n",
    "\t\"CLINVAR\": [\"CLINVAR\"],\n",
    "\t\"HGNCHPO\": [\"HGNCHPO\"],\n",
    "\t\"MSIGDB\": [\"MSIGDB\"],\n",
    "\t\"HGNCUNIPROT\": [\"HGNCUNIPROT\"],\n",
    "\t\"HGNCENZ\": [\"HGNCENZ\"]\n",
    "\t\n",
    "}\n",
    "\n",
    "\n",
    "dcc_sabs = set()\n",
    "for i in sab_dict.values():\n",
    "\tdcc_sabs = dcc_sabs.union(i)\n",
    "len(dcc_sabs)"
   ]
  },
  {
   "cell_type": "code",
   "execution_count": 34,
   "metadata": {},
   "outputs": [
    {
     "data": {
      "text/html": [
       "<div>\n",
       "<style scoped>\n",
       "    .dataframe tbody tr th:only-of-type {\n",
       "        vertical-align: middle;\n",
       "    }\n",
       "\n",
       "    .dataframe tbody tr th {\n",
       "        vertical-align: top;\n",
       "    }\n",
       "\n",
       "    .dataframe thead th {\n",
       "        text-align: right;\n",
       "    }\n",
       "</style>\n",
       "<table border=\"1\" class=\"dataframe\">\n",
       "  <thead>\n",
       "    <tr style=\"text-align: right;\">\n",
       "      <th></th>\n",
       "      <th>label</th>\n",
       "      <th>type</th>\n",
       "      <th>HGNC</th>\n",
       "      <th>ENSEMBL</th>\n",
       "      <th>OMIM</th>\n",
       "      <th>ORDO</th>\n",
       "      <th>ENTREZ</th>\n",
       "      <th>NCI</th>\n",
       "    </tr>\n",
       "  </thead>\n",
       "  <tbody>\n",
       "    <tr>\n",
       "      <th>5c17d548-700e-5f58-af5a-e1d3fe19e691</th>\n",
       "      <td>ADSS1</td>\n",
       "      <td>Gene</td>\n",
       "      <td>20093</td>\n",
       "      <td>ENSG00000185100</td>\n",
       "      <td>612498.0</td>\n",
       "      <td>469928.0</td>\n",
       "      <td>122622.0</td>\n",
       "      <td>NaN</td>\n",
       "    </tr>\n",
       "    <tr>\n",
       "      <th>824f348c-029c-5a95-a0a2-7aac6ed3339a</th>\n",
       "      <td>MAPK8</td>\n",
       "      <td>Gene</td>\n",
       "      <td>6881</td>\n",
       "      <td>ENSG00000107643</td>\n",
       "      <td>601158.0</td>\n",
       "      <td>NaN</td>\n",
       "      <td>5599.0</td>\n",
       "      <td>NaN</td>\n",
       "    </tr>\n",
       "    <tr>\n",
       "      <th>04b1db5c-26ef-52b0-8330-d35da65847a1</th>\n",
       "      <td>QTRT1</td>\n",
       "      <td>Gene</td>\n",
       "      <td>23797</td>\n",
       "      <td>ENSG00000213339</td>\n",
       "      <td>609615.0</td>\n",
       "      <td>NaN</td>\n",
       "      <td>81890.0</td>\n",
       "      <td>NaN</td>\n",
       "    </tr>\n",
       "    <tr>\n",
       "      <th>346a68f6-3a95-5f06-9eb5-3c485ebc1973</th>\n",
       "      <td>PTGS1</td>\n",
       "      <td>Gene</td>\n",
       "      <td>9604</td>\n",
       "      <td>ENSG00000095303</td>\n",
       "      <td>176805.0</td>\n",
       "      <td>NaN</td>\n",
       "      <td>5742.0</td>\n",
       "      <td>NaN</td>\n",
       "    </tr>\n",
       "    <tr>\n",
       "      <th>6969bb6a-32b9-5b4e-ac1c-56c7f64776fe</th>\n",
       "      <td>HM13</td>\n",
       "      <td>Gene</td>\n",
       "      <td>16435</td>\n",
       "      <td>ENSG00000101294</td>\n",
       "      <td>607106.0</td>\n",
       "      <td>NaN</td>\n",
       "      <td>81502.0</td>\n",
       "      <td>NaN</td>\n",
       "    </tr>\n",
       "  </tbody>\n",
       "</table>\n",
       "</div>"
      ],
      "text/plain": [
       "                                      label  type   HGNC          ENSEMBL  \\\n",
       "5c17d548-700e-5f58-af5a-e1d3fe19e691  ADSS1  Gene  20093  ENSG00000185100   \n",
       "824f348c-029c-5a95-a0a2-7aac6ed3339a  MAPK8  Gene   6881  ENSG00000107643   \n",
       "04b1db5c-26ef-52b0-8330-d35da65847a1  QTRT1  Gene  23797  ENSG00000213339   \n",
       "346a68f6-3a95-5f06-9eb5-3c485ebc1973  PTGS1  Gene   9604  ENSG00000095303   \n",
       "6969bb6a-32b9-5b4e-ac1c-56c7f64776fe   HM13  Gene  16435  ENSG00000101294   \n",
       "\n",
       "                                          OMIM      ORDO    ENTREZ  NCI  \n",
       "5c17d548-700e-5f58-af5a-e1d3fe19e691  612498.0  469928.0  122622.0  NaN  \n",
       "824f348c-029c-5a95-a0a2-7aac6ed3339a  601158.0       NaN    5599.0  NaN  \n",
       "04b1db5c-26ef-52b0-8330-d35da65847a1  609615.0       NaN   81890.0  NaN  \n",
       "346a68f6-3a95-5f06-9eb5-3c485ebc1973  176805.0       NaN    5742.0  NaN  \n",
       "6969bb6a-32b9-5b4e-ac1c-56c7f64776fe  607106.0       NaN   81502.0  NaN  "
      ]
     },
     "execution_count": 34,
     "metadata": {},
     "output_type": "execute_result"
    }
   ],
   "source": [
    "df = pd.read_csv('out/sab/hgnc_enzyme.Enzyme.nodes.csv', index_col=0)\n",
    "df.head()"
   ]
  },
  {
   "cell_type": "code",
   "execution_count": 46,
   "metadata": {},
   "outputs": [
    {
     "data": {
      "text/plain": [
       "5c17d548-700e-5f58-af5a-e1d3fe19e691    blah\n",
       "d4513ef4-e71a-5350-b138-b45e9735fa1d    blah\n",
       "a728b6a9-7ee0-56b2-b87d-c6d99f69cb07    blah\n",
       "c55f6180-5f5c-5395-98d4-4d731e20a07f    blah\n",
       "5dfa2a20-0fe6-54c2-87c4-6103155f3ac4    blah\n",
       "                                        ... \n",
       "2052cb2d-1b4f-5570-878a-c4f8662d9780    blah\n",
       "382fa520-924a-5d05-ae90-b467d1ae7985    blah\n",
       "772b77ea-de31-53cb-92b0-96536be9ed47    blah\n",
       "32ab3dca-3319-5551-b028-61bc2cfdcded    blah\n",
       "77e9a191-cb6f-5fea-868d-a8a3dc394446    blah\n",
       "Name: ORDO, Length: 761, dtype: object"
      ]
     },
     "execution_count": 46,
     "metadata": {},
     "output_type": "execute_result"
    }
   ],
   "source": [
    "df[~df.ORDO.isna()].ORDO.apply(lambda x: 'blah' if (type(x) == float or type(x) == int) else 'ORDO:%d'%int(x))"
   ]
  },
  {
   "cell_type": "code",
   "execution_count": 19,
   "metadata": {},
   "outputs": [],
   "source": [
    "file_sabs = set()\n",
    "for i in glob('out/sab/*.csv'):\n",
    "\ts = i.split(\".\")[0].replace(\"out/sab/\", \"\")\n",
    "\tfile_sabs.add(s)"
   ]
  },
  {
   "cell_type": "code",
   "execution_count": 20,
   "metadata": {},
   "outputs": [
    {
     "data": {
      "text/plain": [
       "(21, 21, 21)"
      ]
     },
     "execution_count": 20,
     "metadata": {},
     "output_type": "execute_result"
    }
   ],
   "source": [
    "len(file_sabs), len(dcc_sabs), len(file_sabs.intersection(dcc_sabs))"
   ]
  },
  {
   "cell_type": "code",
   "execution_count": 21,
   "metadata": {},
   "outputs": [],
   "source": [
    "import zlib\n",
    "import zipfile\n",
    "\n",
    "def compress(file_names, zip_name):\n",
    "    print(\"File Paths:\")\n",
    "    print(file_names)\n",
    "\n",
    "    path = \"out/sab/\"\n",
    "\n",
    "    # Select the compression mode ZIP_DEFLATED for compression\n",
    "    # or zipfile.ZIP_STORED to just store the file\n",
    "    compression = zipfile.ZIP_DEFLATED\n",
    "\n",
    "    # create the zip file first parameter path/name, second mode\n",
    "    zf = zipfile.ZipFile(\"out/compressed/%s.zip\"%zip_name, mode=\"w\")\n",
    "    try:\n",
    "        for file_name in file_names:\n",
    "            # Add file to the zip file\n",
    "            # first parameter file to zip, second filename in zip\n",
    "            zf.write(path + file_name, file_name, compress_type=compression)\n",
    "\n",
    "    except FileNotFoundError:\n",
    "        print(\"An error occurred\")\n",
    "    finally:\n",
    "        # Don't forget to close the file!\n",
    "        zf.close()"
   ]
  },
  {
   "cell_type": "code",
   "execution_count": 22,
   "metadata": {},
   "outputs": [],
   "source": [
    "dict_sab = {}\n",
    "for k,v in sab_dict.items():\n",
    "\tfor i in v:\n",
    "\t\tdict_sab[i] = k"
   ]
  },
  {
   "cell_type": "code",
   "execution_count": 23,
   "metadata": {},
   "outputs": [],
   "source": [
    "dcc_filename = {}\n",
    "for i in glob('out/sab/*.csv'):\n",
    "\tfilename = i.replace(\"out/sab/\", \"\")\n",
    "\tsab = filename.split(\".\")[0]\n",
    "\tdcc = dict_sab[sab]\n",
    "\tif dcc not in dcc_filename:\n",
    "\t\tdcc_filename[dcc] = []\n",
    "\tdcc_filename[dcc].append(filename)"
   ]
  },
  {
   "cell_type": "code",
   "execution_count": 24,
   "metadata": {},
   "outputs": [
    {
     "name": "stdout",
     "output_type": "stream",
     "text": [
      "File Paths:\n",
      "['HGNCUNIPROT.Protein.edges.csv', 'HGNCUNIPROT.Gene.edges.csv', 'HGNCUNIPROT.edges.csv']\n",
      "File Paths:\n",
      "['IDGD.edges.csv', 'IDGP.Protein.nodes.csv', 'IDGP.edges.csv', 'IDGD.Disease or Phenotype.nodes.csv', 'IDGP.Compound.nodes.csv', 'IDGD.Compound.nodes.csv']\n",
      "File Paths:\n",
      "['GLYCANS.Glytoucan.nodes.csv', 'PROTEOFORM.Glycoprotein.nodes.csv', 'PROTEOFORM.Isoform.nodes.csv', 'PROTEOFORM.Glytoucan.nodes.csv', 'PROTEOFORM.GlyGen Location.nodes.csv', 'PROTEOFORM.Amino Acid.nodes.csv', 'GLYCANS.edges.csv', 'PROTEOFORM.Glycoprotein Citation.nodes.csv', 'GLYCANS.GlyGen Residue.nodes.csv', 'PROTEOFORM.Protein.nodes.csv', 'GLYCANS.Glycan Motif.nodes.csv', 'PROTEOFORM.Glycoprotein Evidence.nodes.csv', 'GLYCANS.Glycosyltransferase Reaction.nodes.csv', 'GLYCANS.Glycosylation.nodes.csv', 'PROTEOFORM.GP ID2PRO.nodes.csv', 'GLYCANS.GlyGen src.nodes.csv', 'GLYCANS.GlyGen Glycosequence.nodes.csv', 'GLYCANS.Protein.nodes.csv', 'PROTEOFORM.edges.csv', 'PROTEOFORM.Glycosylation Site.nodes.csv']\n",
      "File Paths:\n",
      "['4DN.4DN File.nodes.csv', '4DN.Anatomy.nodes.csv', '4DN.edges.csv', '4DN.4DN QVal Bin.nodes.csv', '4DN.Assay.nodes.csv', '4DN.HSCLO.nodes.csv', '4DN.4DN Loop.nodes.csv', '4DN.4DN Dataset.nodes.csv']\n",
      "File Paths:\n",
      "['ERCCRBP.Gene.nodes.csv', 'ERCCREG.edges.csv', 'ERCCRBP.RBP Binding Loci.nodes.csv', 'ERCCRBP.exRNA Loci.nodes.csv', 'ERCCRBP.Biofluid.nodes.csv', 'ERCCREG.Regulatory Element Activity.nodes.csv', 'ERCCRBP.Protein.nodes.csv', 'ERCCREG.Anatomy.nodes.csv', 'ERCCREG.ENCODE CCRE Data Matrix.nodes.csv', 'ERCCREG.Gene.nodes.csv', 'ERCCRBP.edges.csv', 'ERCCREG.GTEXEQTL.nodes.csv', 'ERCCREG.CLINGEN ALLELE REGISTRY.nodes.csv', 'ERCCREG.ENCODE CCRE.nodes.csv']\n",
      "File Paths:\n",
      "['MOTRPAC.MOTRPAC.nodes.csv', 'MOTRPAC.edges.csv', 'MOTRPAC.Anatomy.nodes.csv', 'MOTRPAC.Gene.nodes.csv', 'MOTRPAC.Sex.nodes.csv']\n",
      "File Paths:\n",
      "['KF.Gene.nodes.csv', 'KF.edges.csv', 'KF.KFPT.nodes.csv', 'KF.KFGENEBIN.nodes.csv', 'KF.KFCOHORT.nodes.csv', 'KF.Disease or Phenotype.nodes.csv']\n",
      "File Paths:\n",
      "['NPO.SO.nodes.csv', 'NPO.ILX.nodes.csv', 'NPO.Compound.nodes.csv', 'NPO.PATO.nodes.csv', 'NPO.NIFSTD.nodes.csv', 'NPO.GO.nodes.csv', 'NPO.Taxon.nodes.csv', 'NPO.Anatomy.nodes.csv', 'NPO.edges.csv', 'NPO.Gene.nodes.csv', 'NPO.Protein.nodes.csv']\n",
      "File Paths:\n",
      "['HGNCHPO.edges.csv', 'HGNCHPO.Gene.nodes.csv', 'HGNCHPO.Disease or Phenotype.nodes.csv']\n",
      "File Paths:\n",
      "['CLINVAR.Gene.nodes.csv', 'CLINVAR.Disease or Phenotype.nodes.csv', 'CLINVAR.edges.csv']\n",
      "File Paths:\n",
      "['LINCS.Gene.nodes.csv', 'LINCS.edges.csv', 'LINCS.Compound.nodes.csv']\n",
      "File Paths:\n",
      "['GTEXEXP.Gene.nodes.csv', 'GTEXEQTL.HSCLO.nodes.csv', 'GTEXEXP.Anatomy.nodes.csv', 'GTEXEQTL.edges.csv', 'GTEXEXP.EXPBINS.nodes.csv', 'GTEXEQTL.Anatomy.nodes.csv', 'GTEXEQTL.GTEXPVALUEBIN.nodes.csv', 'GTEXEXP.edges.csv', 'GTEXEQTL.GTEXEQTL.nodes.csv', 'GTEXEQTL.Gene.nodes.csv', 'GTEXEXP.GTEXEXP.nodes.csv']\n",
      "File Paths:\n",
      "['HGNCENZ.Enzyme.nodes.csv']\n",
      "File Paths:\n",
      "['MW.Metabolite.nodes.csv', 'MW.edges.csv', 'MW.Disease or Phenotype.nodes.csv', 'MW.Gene.nodes.csv', 'MW.Anatomy.nodes.csv']\n",
      "File Paths:\n",
      "['HMAZ.Gene.nodes.csv', 'HMAZ.Anatomy.nodes.csv', 'HMAZ.edges.csv', 'AZ.Anatomy.nodes.csv', 'AZ.edges.csv']\n",
      "File Paths:\n",
      "['MSIGDB.MSIGDB.nodes.csv', 'MSIGDB.Gene.nodes.csv', 'MSIGDB.edges.csv']\n"
     ]
    }
   ],
   "source": [
    "for dcc, filenames in dcc_filename.items():\n",
    "\tcompress(filenames, dcc)"
   ]
  },
  {
   "cell_type": "code",
   "execution_count": 516,
   "metadata": {},
   "outputs": [
    {
     "data": {
      "text/html": [
       "<div>\n",
       "<style scoped>\n",
       "    .dataframe tbody tr th:only-of-type {\n",
       "        vertical-align: middle;\n",
       "    }\n",
       "\n",
       "    .dataframe tbody tr th {\n",
       "        vertical-align: top;\n",
       "    }\n",
       "\n",
       "    .dataframe thead th {\n",
       "        text-align: right;\n",
       "    }\n",
       "</style>\n",
       "<table border=\"1\" class=\"dataframe\">\n",
       "  <thead>\n",
       "    <tr style=\"text-align: right;\">\n",
       "      <th></th>\n",
       "      <th>id</th>\n",
       "      <th>code_id</th>\n",
       "      <th>SAB</th>\n",
       "      <th>CODE</th>\n",
       "      <th>value:float</th>\n",
       "      <th>lowerbound:float</th>\n",
       "      <th>upperbound:float</th>\n",
       "      <th>unit</th>\n",
       "    </tr>\n",
       "  </thead>\n",
       "  <tbody>\n",
       "    <tr>\n",
       "      <th>1503118</th>\n",
       "      <td>C1417848</td>\n",
       "      <td>MTH:NOCODE</td>\n",
       "      <td>MTH</td>\n",
       "      <td>NOCODE</td>\n",
       "      <td>NaN</td>\n",
       "      <td>NaN</td>\n",
       "      <td>NaN</td>\n",
       "      <td>NaN</td>\n",
       "    </tr>\n",
       "    <tr>\n",
       "      <th>3184031</th>\n",
       "      <td>C1417848</td>\n",
       "      <td>OMIM:162080</td>\n",
       "      <td>OMIM</td>\n",
       "      <td>162080</td>\n",
       "      <td>NaN</td>\n",
       "      <td>NaN</td>\n",
       "      <td>NaN</td>\n",
       "      <td>NaN</td>\n",
       "    </tr>\n",
       "    <tr>\n",
       "      <th>4303000</th>\n",
       "      <td>C1417848</td>\n",
       "      <td>HGNC:8002</td>\n",
       "      <td>HGNC</td>\n",
       "      <td>8002</td>\n",
       "      <td>NaN</td>\n",
       "      <td>NaN</td>\n",
       "      <td>NaN</td>\n",
       "      <td>NaN</td>\n",
       "    </tr>\n",
       "    <tr>\n",
       "      <th>4965231</th>\n",
       "      <td>C1417848</td>\n",
       "      <td>ORDO:123930</td>\n",
       "      <td>ORDO</td>\n",
       "      <td>123930</td>\n",
       "      <td>NaN</td>\n",
       "      <td>NaN</td>\n",
       "      <td>NaN</td>\n",
       "      <td>NaN</td>\n",
       "    </tr>\n",
       "    <tr>\n",
       "      <th>5032941</th>\n",
       "      <td>C1417848</td>\n",
       "      <td>MONDO:0005283</td>\n",
       "      <td>MONDO</td>\n",
       "      <td>0005283</td>\n",
       "      <td>NaN</td>\n",
       "      <td>NaN</td>\n",
       "      <td>NaN</td>\n",
       "      <td>NaN</td>\n",
       "    </tr>\n",
       "    <tr>\n",
       "      <th>5088526</th>\n",
       "      <td>C1417848</td>\n",
       "      <td>EFO:0003839</td>\n",
       "      <td>EFO</td>\n",
       "      <td>0003839</td>\n",
       "      <td>NaN</td>\n",
       "      <td>NaN</td>\n",
       "      <td>NaN</td>\n",
       "      <td>NaN</td>\n",
       "    </tr>\n",
       "    <tr>\n",
       "      <th>5139873</th>\n",
       "      <td>C1417848</td>\n",
       "      <td>ENSEMBL:ENSG00000129535</td>\n",
       "      <td>ENSEMBL</td>\n",
       "      <td>ENSG00000129535</td>\n",
       "      <td>13.0</td>\n",
       "      <td>24078662.0</td>\n",
       "      <td>24115010.0</td>\n",
       "      <td>NaN</td>\n",
       "    </tr>\n",
       "    <tr>\n",
       "      <th>5593888</th>\n",
       "      <td>C1417848</td>\n",
       "      <td>ENTREZ:4901</td>\n",
       "      <td>ENTREZ</td>\n",
       "      <td>4901</td>\n",
       "      <td>NaN</td>\n",
       "      <td>24078662.0</td>\n",
       "      <td>24114949.0</td>\n",
       "      <td>NaN</td>\n",
       "    </tr>\n",
       "  </tbody>\n",
       "</table>\n",
       "</div>"
      ],
      "text/plain": [
       "               id                  code_id      SAB             CODE  \\\n",
       "1503118  C1417848               MTH:NOCODE      MTH           NOCODE   \n",
       "3184031  C1417848              OMIM:162080     OMIM           162080   \n",
       "4303000  C1417848                HGNC:8002     HGNC             8002   \n",
       "4965231  C1417848              ORDO:123930     ORDO           123930   \n",
       "5032941  C1417848            MONDO:0005283    MONDO          0005283   \n",
       "5088526  C1417848              EFO:0003839      EFO          0003839   \n",
       "5139873  C1417848  ENSEMBL:ENSG00000129535  ENSEMBL  ENSG00000129535   \n",
       "5593888  C1417848              ENTREZ:4901   ENTREZ             4901   \n",
       "\n",
       "         value:float  lowerbound:float  upperbound:float  unit  \n",
       "1503118          NaN               NaN               NaN   NaN  \n",
       "3184031          NaN               NaN               NaN   NaN  \n",
       "4303000          NaN               NaN               NaN   NaN  \n",
       "4965231          NaN               NaN               NaN   NaN  \n",
       "5032941          NaN               NaN               NaN   NaN  \n",
       "5088526          NaN               NaN               NaN   NaN  \n",
       "5139873         13.0        24078662.0        24115010.0   NaN  \n",
       "5593888          NaN        24078662.0        24114949.0   NaN  "
      ]
     },
     "execution_count": 516,
     "metadata": {},
     "output_type": "execute_result"
    }
   ],
   "source": [
    "concept_code[concept_code.id == 'C1417848']"
   ]
  },
  {
   "cell_type": "code",
   "execution_count": 8,
   "metadata": {},
   "outputs": [
    {
     "name": "stdout",
     "output_type": "stream",
     "text": [
      "out/sab/GTEXEXP.Anatomy.nodes.csv\n",
      "out/sab/GTEXEQTL.Anatomy.nodes.csv\n",
      "out/sab/ERCCRBP.Biofluid.nodes.csv\n",
      "out/sab/MOTRPAC.Anatomy.nodes.csv\n",
      "out/sab/NPO.Taxon.nodes.csv\n",
      "out/sab/ERCCREG.Anatomy.nodes.csv\n",
      "out/sab/IDGD.Disease or Phenotype.nodes.csv\n",
      "out/sab/MW.Disease or Phenotype.nodes.csv\n",
      "out/sab/MW.Anatomy.nodes.csv\n",
      "out/sab/KF.Disease or Phenotype.nodes.csv\n"
     ]
    }
   ],
   "source": [
    "for filename in glob('out/sab/*.nodes.csv'):\n",
    "\tdf = pd.read_csv(filename, index_col=0)\n",
    "\tnew_col = [i for i in df.columns if \"SNOMED\" not in i.upper()]\n",
    "\tif len(new_col) < len(df.columns):\n",
    "\t\tprint(filename)\n",
    "\t\tdf[new_col].to_csv(filename)"
   ]
  },
  {
   "cell_type": "code",
   "execution_count": null,
   "metadata": {},
   "outputs": [],
   "source": []
  }
 ],
 "metadata": {
  "kernelspec": {
   "display_name": "venv",
   "language": "python",
   "name": "python3"
  },
  "language_info": {
   "codemirror_mode": {
    "name": "ipython",
    "version": 3
   },
   "file_extension": ".py",
   "mimetype": "text/x-python",
   "name": "python",
   "nbconvert_exporter": "python",
   "pygments_lexer": "ipython3",
   "version": "3.10.14"
  }
 },
 "nbformat": 4,
 "nbformat_minor": 2
}
