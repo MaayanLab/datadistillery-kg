{
 "cells": [
  {
   "cell_type": "code",
   "execution_count": 1,
   "metadata": {},
   "outputs": [],
   "source": [
    "import json\n",
    "import pandas as pd\n",
    "from glob import glob\n",
    "import os"
   ]
  },
  {
   "cell_type": "code",
   "execution_count": 2,
   "metadata": {},
   "outputs": [],
   "source": [
    "with open('../download_detailed.json') as o:\n",
    "\tdownloads = json.loads(o.read())"
   ]
  },
  {
   "cell_type": "code",
   "execution_count": 3,
   "metadata": {},
   "outputs": [],
   "source": [
    "sab_dict = {\n",
    "\t\"LINCS\": [\"LINCS\"],\n",
    "\t\"4DN\": [\"4DN\"],\n",
    "\t\"ERCC\": [\"ERCCRBP\", \"ERCCREG\"],\n",
    "\t\"GlyGen\": [\"PROTEOFORM\", \"GLYCANS\"],\n",
    "\t\"GTEx\": [\"GTEXEXP\", \"GTEXEQTL\"],\n",
    "\t\"HuBMAP\": [\"AZ\", \"HMAZ\"],\n",
    "\t\"IDG\": [\"IDGP\", \"IDGD\"],\n",
    "\t\"KF\": [\"KF\"],\n",
    "\t\"MoTrPAC\": [\"MOTRPAC\"],\n",
    "\t\"MW\": [\"MW\"],\n",
    "\t\"SPARC\": [\"NPO\"],\n",
    "\t\"CLINVAR\": [\"CLINVAR\"],\n",
    "\t\"HGNCHPO\": [\"HGNCHPO\"],\n",
    "\t\"MSIGDB\": [\"MSIGDB\"],\n",
    "\t\"HGNCUNIPROT\": [\"HGNCUNIPROT\"],\n",
    "\t\"HGNCENZ\": [\"HGNCENZ\"]\n",
    "}\n"
   ]
  },
  {
   "cell_type": "code",
   "execution_count": 8,
   "metadata": {},
   "outputs": [],
   "source": [
    "desc = {}\n",
    "for i in downloads:\n",
    "\tdesc[i[\"source\"]] = i[\"description\"]"
   ]
  },
  {
   "cell_type": "code",
   "execution_count": 9,
   "metadata": {},
   "outputs": [
    {
     "data": {
      "text/plain": [
       "{'GTEX': 'Expression and eQTL data from GTEx',\n",
       " 'HGNCHPO': 'HGNC gene node mapping to Human Phenotype Ontology',\n",
       " 'MoTrPAC': 'Differential gene expression data from endurance training exercise of young adult rats',\n",
       " 'KF': 'Genotypic and phenotypic data from the Pediatric Cardiac Genetics Consortium cohort in Kids First',\n",
       " '4DN': 'Chromatin loops called from Hi-C experiments performed in select cell lines',\n",
       " 'LINCS': 'Gene expression data from drug perturbation, as well as drug-drug similarity',\n",
       " 'Metabolomics Workbench': 'Metabolite relationships with gene, disease, and cell',\n",
       " 'CLINVAR': 'Assertions between human genes and phenotypes',\n",
       " 'GLYGEN': 'Associations from multiple glycomics database',\n",
       " 'ERCC': 'eCLIP-seq and CHIP-seq associations from ERCC',\n",
       " 'MSIGDB': 'Five subsets of MSigDB v7.4 datasets',\n",
       " 'IDG': 'Relationships between compounds, diseases, and proteins'}"
      ]
     },
     "execution_count": 9,
     "metadata": {},
     "output_type": "execute_result"
    }
   ],
   "source": [
    "desc"
   ]
  },
  {
   "cell_type": "code",
   "execution_count": null,
   "metadata": {},
   "outputs": [],
   "source": [
    "dcc_descriptions = {\n",
    "\t'LINCS': 'Gene expression data from drug perturbation, as well as drug-drug similarity',\n",
    "\t'4DN': 'Chromatin loops called from Hi-C experiments performed in select cell lines',\n",
    "\t'ERCC': 'eCLIP-seq and CHIP-seq associations from ERCC',\n",
    "\t'GlyGen': 'Associations from multiple glycomics database',\n",
    "\t'GTEx': 'Expression and eQTL data from GTEx',\n",
    "\t\"HuBMAP\": \"Tissue, cell-type and gene specific markers from single-cell data\",\n",
    "\t'IDG': 'Relationships between compounds, diseases, and proteins',\n",
    "\t'KF': 'Genotypic and phenotypic data from the Pediatric Cardiac Genetics Consortium cohort in Kids First',\n",
    "\t'MoTrPAC': 'Differential gene expression data from endurance training exercise of young adult rats',\n",
    "\t'MW': 'Metabolite relationships with gene, disease, and cell',\n",
    "\t\"SPARC\": \"The SPARC Knowledge base of the Automatic Nervous System (SCKAN)\",\n",
    "\t'CLINVAR': 'Assertions between human genes and phenotypes',\n",
    "\t'HGNCHPO': 'HGNC gene node mapping to Human Phenotype Ontology',\n",
    "\t'MSIGDB': 'Five subsets of MSigDB v7.4 datasets',\n",
    "\t\"HGNCUNIPROT\": \"Gene-Protein relationships\",\n",
    "\t\"HGNCENZ\": \"Enzyme Genes\",\n",
    "}"
   ]
  },
  {
   "cell_type": "code",
   "execution_count": 4,
   "metadata": {},
   "outputs": [],
   "source": [
    "def get_file_size(filename):\n",
    "    size = float(os.path.getsize(filename))\n",
    "    if size > 1000000000:\n",
    "        return \"%.2fGB\"%(size/1000000000)\n",
    "    if size > 1000000:\n",
    "        return \"%.2fMB\"%(size/1000000)\n",
    "    if size > 1000:\n",
    "        return \"%.2fKB\"%(size/1000)\n",
    "    else: return \"%d bytes\"%int(size)"
   ]
  },
  {
   "cell_type": "code",
   "execution_count": 7,
   "metadata": {},
   "outputs": [
    {
     "data": {
      "text/plain": [
       "{'source': 'GTEX',\n",
       " 'description': 'Expression and eQTL data from GTEx',\n",
       " 'terms': 2862091,\n",
       " 'edges': 36369763,\n",
       " 'url': 'https://s3.amazonaws.com/maayan-kg/dd-kg/042624/assertions/GTEX.edges.zip',\n",
       " 'size': '4.35GB',\n",
       " 'updated': '10-26-2023'}"
      ]
     },
     "execution_count": 7,
     "metadata": {},
     "output_type": "execute_result"
    }
   ],
   "source": [
    "downloads[0]"
   ]
  },
  {
   "cell_type": "code",
   "execution_count": 5,
   "metadata": {},
   "outputs": [],
   "source": [
    "downloads = []\n",
    "for filename in glob('out/compressed/*.zip'):\n",
    "\tdcc = filename.replace(\"out/compressed/\", \"\").replace(\".zip\", \"\")\n",
    "\tmeta = {\n",
    "\t\t\"source\": dcc,\n",
    "\t\t\"url\": \"https://s3.amazonaws.com/maayan-kg/dd-kg/042624/%s.zip\"%dcc,\n",
    "\t\t\"size\": get_file_size(filename)\n",
    "\t}\n",
    "\tnodes = set()\n",
    "\tedge_count = 0\n",
    "\tfor sab in sab_dict[dcc]:\n",
    "\t\tdf = pd.read_csv(\"out/sab/%s.edges.csv\"%sab)\n",
    "\t\tedge_count = edge_count + len(df.index)\n",
    "\t\tnodes = nodes.union(df.source).union(df.target)\n",
    "\tmeta[\"edges\"] = edge_count\n",
    "\tmeta[\"nodes\"] = len(nodes)"
   ]
  },
  {
   "cell_type": "code",
   "execution_count": 6,
   "metadata": {},
   "outputs": [
    {
     "data": {
      "text/plain": [
       "'51.62MB'"
      ]
     },
     "execution_count": 6,
     "metadata": {},
     "output_type": "execute_result"
    }
   ],
   "source": [
    "filesize"
   ]
  },
  {
   "cell_type": "code",
   "execution_count": null,
   "metadata": {},
   "outputs": [],
   "source": []
  }
 ],
 "metadata": {
  "kernelspec": {
   "display_name": "venv",
   "language": "python",
   "name": "python3"
  },
  "language_info": {
   "codemirror_mode": {
    "name": "ipython",
    "version": 3
   },
   "file_extension": ".py",
   "mimetype": "text/x-python",
   "name": "python",
   "nbconvert_exporter": "python",
   "pygments_lexer": "ipython3",
   "version": "3.10.14"
  }
 },
 "nbformat": 4,
 "nbformat_minor": 2
}
