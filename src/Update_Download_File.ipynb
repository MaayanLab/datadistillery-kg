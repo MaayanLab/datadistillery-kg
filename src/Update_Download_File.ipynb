{
 "cells": [
  {
   "cell_type": "code",
   "execution_count": 1,
   "metadata": {},
   "outputs": [],
   "source": [
    "import json\n",
    "import pandas as pd\n",
    "from glob import glob\n",
    "import os"
   ]
  },
  {
   "cell_type": "code",
   "execution_count": 7,
   "metadata": {},
   "outputs": [],
   "source": [
    "with open('downloads.json') as o:\n",
    "\tdownloads = json.loads(o.read())"
   ]
  },
  {
   "cell_type": "code",
   "execution_count": 8,
   "metadata": {},
   "outputs": [],
   "source": [
    "sab_dict = {\n",
    "\t\"LINCS\": [\"LINCS\"],\n",
    "\t\"4DN\": [\"4DN\"],\n",
    "\t\"ERCC\": [\"ERCCRBP\", \"ERCCREG\"],\n",
    "\t\"GlyGen\": [\"PROTEOFORM\", \"GLYCANS\"],\n",
    "\t\"GTEx\": [\"GTEXEXP\", \"GTEXEQTL\"],\n",
    "\t\"HuBMAP\": [\"AZ\", \"HMAZ\"],\n",
    "\t\"IDG\": [\"IDGP\", \"IDGD\"],\n",
    "\t\"KF\": [\"KF\"],\n",
    "\t\"MoTrPAC\": [\"MOTRPAC\"],\n",
    "\t\"MW\": [\"MW\"],\n",
    "\t\"SPARC\": [\"NPO\"],\n",
    "\t\"CLINVAR\": [\"CLINVAR\"],\n",
    "\t\"HGNCHPO\": [\"HGNCHPO\"],\n",
    "\t\"MSIGDB\": [\"MSIGDB\"],\n",
    "\t\"HGNCUNIPROT\": [\"HGNCUNIPROT\"],\n",
    "\t\"HGNCENZ\": [\"HGNCENZ\"],\n",
    "\t\"ARCHS4\": [\"ARCHS4\"]\n",
    "}\n"
   ]
  },
  {
   "cell_type": "code",
   "execution_count": 9,
   "metadata": {},
   "outputs": [],
   "source": [
    "desc = {}\n",
    "for i in downloads:\n",
    "\tdesc[i[\"source\"]] = i[\"description\"]"
   ]
  },
  {
   "cell_type": "code",
   "execution_count": 10,
   "metadata": {},
   "outputs": [
    {
     "data": {
      "text/plain": [
       "{'HuBMAP': 'Tissue, cell-type and gene specific markers from single-cell data',\n",
       " 'IDG': 'Relationships between compounds, diseases, and proteins',\n",
       " 'GlyGen': 'Associations from multiple glycomics database',\n",
       " 'HGNCENZ': 'Enzyme Genes',\n",
       " 'GTEx': 'Expression and eQTL data from GTEx',\n",
       " 'SPARC': 'The SPARC Knowledge base of the Automatic Nervous System (SCKAN)',\n",
       " 'HGNCHPO': 'HGNC gene node mapping to Human Phenotype Ontology',\n",
       " 'CLINVAR': 'Assertions between human genes and phenotypes',\n",
       " 'MoTrPAC': 'Differential gene expression data from endurance training exercise of young adult rats',\n",
       " 'HGNCUNIPROT': 'Gene-Protein relationships',\n",
       " 'KF': 'Genotypic and phenotypic data from the Pediatric Cardiac Genetics Consortium cohort in Kids First',\n",
       " 'LINCS': 'Gene expression data from drug perturbation, as well as drug-drug similarity',\n",
       " 'MW': 'Metabolite relationships with gene, disease, and cell',\n",
       " 'MSIGDB': 'Five subsets of MSigDB v7.4 datasets',\n",
       " 'ERCC': 'eCLIP-seq and CHIP-seq associations from ERCC',\n",
       " '4DN': 'Chromatin loops called from Hi-C experiments performed in select cell lines'}"
      ]
     },
     "execution_count": 10,
     "metadata": {},
     "output_type": "execute_result"
    }
   ],
   "source": [
    "desc"
   ]
  },
  {
   "cell_type": "code",
   "execution_count": 11,
   "metadata": {},
   "outputs": [],
   "source": [
    "dcc_descriptions = {\n",
    "\t'LINCS': 'Gene expression data from drug perturbation, as well as drug-drug similarity',\n",
    "\t'4DN': 'Chromatin loops called from Hi-C experiments performed in select cell lines',\n",
    "\t'ERCC': 'eCLIP-seq and CHIP-seq associations from ERCC',\n",
    "\t'GlyGen': 'Associations from multiple glycomics database',\n",
    "\t'GTEx': 'Expression and eQTL data from GTEx',\n",
    "\t\"HuBMAP\": \"Tissue, cell-type and gene specific markers from single-cell data\",\n",
    "\t'IDG': 'Relationships between compounds, diseases, and proteins',\n",
    "\t'KF': 'Genotypic and phenotypic data from the Pediatric Cardiac Genetics Consortium cohort in Kids First',\n",
    "\t'MoTrPAC': 'Differential gene expression data from endurance training exercise of young adult rats',\n",
    "\t'MW': 'Metabolite relationships with gene, disease, and cell',\n",
    "\t\"SPARC\": \"The SPARC Knowledge base of the Automatic Nervous System (SCKAN)\",\n",
    "\t'CLINVAR': 'Assertions between human genes and phenotypes',\n",
    "\t'HGNCHPO': 'HGNC gene node mapping to Human Phenotype Ontology',\n",
    "\t'MSIGDB': 'Five subsets of MSigDB v7.4 datasets',\n",
    "\t\"HGNCUNIPROT\": \"Gene-Protein relationships\",\n",
    "\t\"HGNCENZ\": \"Enzyme Genes\",\n",
    "\t\"ARCHS4\": \"Coexpression Matrix based on Human RNA-seq studies from GEO\",\n",
    "}"
   ]
  },
  {
   "cell_type": "code",
   "execution_count": 12,
   "metadata": {},
   "outputs": [],
   "source": [
    "def get_file_size(filename):\n",
    "    size = float(os.path.getsize(filename))\n",
    "    if size > 1000000000:\n",
    "        return \"%.2fGB\"%(size/1000000000)\n",
    "    if size > 1000000:\n",
    "        return \"%.2fMB\"%(size/1000000)\n",
    "    if size > 1000:\n",
    "        return \"%.2fKB\"%(size/1000)\n",
    "    else: return \"%d bytes\"%int(size)"
   ]
  },
  {
   "cell_type": "code",
   "execution_count": 13,
   "metadata": {},
   "outputs": [
    {
     "data": {
      "text/plain": [
       "{'source': 'HuBMAP',\n",
       " 'description': 'Tissue, cell-type and gene specific markers from single-cell data',\n",
       " 'url': 'https://s3.amazonaws.com/maayan-kg/dd-kg/042624/HuBMAP.zip',\n",
       " 'size': '70.99KB',\n",
       " 'updated': '04-24-2024',\n",
       " 'terms': 843,\n",
       " 'edges': 1234}"
      ]
     },
     "execution_count": 13,
     "metadata": {},
     "output_type": "execute_result"
    }
   ],
   "source": [
    "downloads[0]"
   ]
  },
  {
   "cell_type": "code",
   "execution_count": 14,
   "metadata": {},
   "outputs": [],
   "source": [
    "downloads = []\n",
    "for filename in glob('out/compressed/*.zip'):\n",
    "\tdcc = filename.replace(\"out/compressed/\", \"\").replace(\".zip\", \"\")\n",
    "\tmeta = {\n",
    "\t\t\"source\": dcc,\n",
    "\t\t\"description\": dcc_descriptions[dcc],\n",
    "\t\t\"url\": \"https://s3.amazonaws.com/maayan-kg/dd-kg/042624/%s.zip\"%dcc,\n",
    "\t\t\"size\": get_file_size(filename),\n",
    "\t\t\"updated\": '04-24-2024',\n",
    "\t}\n",
    "\tnodes = set()\n",
    "\tedge_count = 0\n",
    "\tfor sab in sab_dict[dcc]:\n",
    "\t\tif os.path.isfile(\"out/sab/%s.edges.csv\"%sab):\n",
    "\t\t\tdf = pd.read_csv(\"out/sab/%s.edges.csv\"%sab)\n",
    "\t\t\tedge_count = edge_count + len(df.index)\n",
    "\t\t\tnodes = nodes.union(df.source).union(df.target)\n",
    "\t\telif sab == 'HGNCENZ':\n",
    "\t\t\tdf = pd.read_csv(\"out/sab/HGNCENZ.Enzyme.nodes.csv\", index_col=0)\n",
    "\t\t\tnodes = set(df.index)\n",
    "\tmeta[\"terms\"] = len(nodes)\n",
    "\tif edge_count:\n",
    "\t\tmeta[\"edges\"] = edge_count\n",
    "\tdownloads.append(meta)\n",
    "\t"
   ]
  },
  {
   "cell_type": "code",
   "execution_count": 15,
   "metadata": {},
   "outputs": [
    {
     "data": {
      "text/plain": [
       "{'source': 'HuBMAP',\n",
       " 'description': 'Tissue, cell-type and gene specific markers from single-cell data',\n",
       " 'url': 'https://s3.amazonaws.com/maayan-kg/dd-kg/042624/HuBMAP.zip',\n",
       " 'size': '70.99KB',\n",
       " 'updated': '04-24-2024',\n",
       " 'terms': 843,\n",
       " 'edges': 1234}"
      ]
     },
     "execution_count": 15,
     "metadata": {},
     "output_type": "execute_result"
    }
   ],
   "source": [
    "downloads[0]"
   ]
  },
  {
   "cell_type": "code",
   "execution_count": 16,
   "metadata": {},
   "outputs": [],
   "source": [
    "with open('downloads.json', 'w') as o:\n",
    "\to.write(json.dumps(downloads, indent=4))"
   ]
  },
  {
   "cell_type": "code",
   "execution_count": null,
   "metadata": {},
   "outputs": [],
   "source": []
  }
 ],
 "metadata": {
  "kernelspec": {
   "display_name": "venv",
   "language": "python",
   "name": "python3"
  },
  "language_info": {
   "codemirror_mode": {
    "name": "ipython",
    "version": 3
   },
   "file_extension": ".py",
   "mimetype": "text/x-python",
   "name": "python",
   "nbconvert_exporter": "python",
   "pygments_lexer": "ipython3",
   "version": "3.10.14"
  }
 },
 "nbformat": 4,
 "nbformat_minor": 2
}
