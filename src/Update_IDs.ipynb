{
 "cells": [
  {
   "cell_type": "code",
   "execution_count": 1,
   "metadata": {},
   "outputs": [],
   "source": [
    "import pandas as pd\n",
    "import csv\n",
    "from tqdm import tqdm\n",
    "import json\n",
    "from glob import glob\n",
    "from uuid import uuid5, NAMESPACE_URL"
   ]
  },
  {
   "cell_type": "code",
   "execution_count": 15,
   "metadata": {},
   "outputs": [
    {
     "name": "stderr",
     "output_type": "stream",
     "text": [
      "100%|██████████| 84/84 [00:43<00:00,  1.93it/s]\n"
     ]
    }
   ],
   "source": [
    "name_id_mapper = {}\n",
    "id_mapper = {}\n",
    "for filename in tqdm(glob('out/sab_umls/*.nodes.csv')):\n",
    "\twith open(filename) as o:\n",
    "\t\tcsv_reader = csv.reader(o)\n",
    "\t\theader = True\n",
    "\t\tfor row in csv_reader:\n",
    "\t\t\tif header:\n",
    "\t\t\t\theader = False\n",
    "\t\t\telse:\n",
    "\t\t\t\tcid = row[0]\n",
    "\t\t\t\tname = cid if \":\" in cid else row[1]\n",
    "\t\t\t\tuid = str(uuid5(NAMESPACE_URL, name))\n",
    "\t\t\t\tname_id_mapper[name] = uid\n",
    "\t\t\t\tid_mapper[cid] = uid"
   ]
  },
  {
   "cell_type": "code",
   "execution_count": 16,
   "metadata": {},
   "outputs": [],
   "source": [
    "with open('out/name_id_mapper.json', \"w\") as o:\n",
    "\to.write(json.dumps(name_id_mapper))\n",
    "\n",
    "with open('out/id_mapper.json', \"w\") as o:\n",
    "\to.write(json.dumps(id_mapper))"
   ]
  },
  {
   "cell_type": "code",
   "execution_count": 17,
   "metadata": {},
   "outputs": [
    {
     "data": {
      "text/plain": [
       "'C3812978'"
      ]
     },
     "execution_count": 17,
     "metadata": {},
     "output_type": "execute_result"
    }
   ],
   "source": [
    "[i for i in id_mapper.keys() if \":\" not in i][0]"
   ]
  },
  {
   "cell_type": "code",
   "execution_count": 18,
   "metadata": {},
   "outputs": [
    {
     "name": "stderr",
     "output_type": "stream",
     "text": [
      "100%|██████████| 84/84 [04:37<00:00,  3.31s/it]\n"
     ]
    }
   ],
   "source": [
    "for filename in tqdm(glob('out/sab_umls/*.nodes.csv')):\n",
    "\tdf = pd.read_csv(filename, index_col=0)\n",
    "\tnew_index = []\n",
    "\tnew_col = {}\n",
    "\tfor i, row in df.iterrows():\n",
    "\t\tname = row[\"label\"]\n",
    "\t\tif \":\" in i:\n",
    "\t\t\tname = i\n",
    "\t\t\tcol, val = i.replace(\" CUI\", \"\").split(\":\")\n",
    "\t\t\tif col not in new_col:\n",
    "\t\t\t\tnew_col[col] = {\"index\": [], \"values\": []}\n",
    "\t\t\tnew_col[col][\"index\"].append(i)\n",
    "\t\t\tnew_col[col][\"values\"].append(str(val))\n",
    "\t\tnew_index.append(name_id_mapper[name])\n",
    "\tfor k,v in new_col.items():\n",
    "\t\tdf.loc[v[\"index\"], k] = v[\"values\"]\n",
    "\tdf.index = new_index\n",
    "\tdf[~df.index.duplicated(keep='first')].to_csv(filename.replace(\"sab_umls\", \"sab\"))\n",
    "\t"
   ]
  },
  {
   "cell_type": "code",
   "execution_count": 19,
   "metadata": {},
   "outputs": [
    {
     "name": "stderr",
     "output_type": "stream",
     "text": [
      "100%|██████████| 19/19 [03:32<00:00, 11.19s/it]\n"
     ]
    }
   ],
   "source": [
    "for filename in tqdm(glob('out/sab_umls/*.edges.csv')):\n",
    "\tnew_filename = filename.replace(\"sab_umls\", \"sab\")\n",
    "\twith open(filename) as o:\n",
    "\t\tcsv_reader = csv.reader(o)\n",
    "\t\twith open(new_filename, 'w') as w:\n",
    "\t\t\tcsv_writer = csv.writer(w)\n",
    "\t\t\theader = True\n",
    "\t\t\tfor row in csv_reader:\n",
    "\t\t\t\tif header:\n",
    "\t\t\t\t\theader = False\n",
    "\t\t\t\t\tcsv_writer.writerow(row)\n",
    "\t\t\t\telse:\n",
    "\t\t\t\t\tnew_row = row\n",
    "\t\t\t\t\tnew_row[1] = id_mapper[new_row[1]]\n",
    "\t\t\t\t\tnew_row[2] = id_mapper[new_row[2]]\n",
    "\t\t\t\t\tcsv_writer.writerow(new_row)\n"
   ]
  },
  {
   "cell_type": "markdown",
   "metadata": {},
   "source": [
    "8196998 nodes\n",
    "36046773 edges\n"
   ]
  },
  {
   "cell_type": "code",
   "execution_count": 20,
   "metadata": {},
   "outputs": [
    {
     "data": {
      "text/plain": [
       "8196986"
      ]
     },
     "execution_count": 20,
     "metadata": {},
     "output_type": "execute_result"
    }
   ],
   "source": [
    "len(set(id_mapper.values()))"
   ]
  },
  {
   "cell_type": "code",
   "execution_count": 21,
   "metadata": {},
   "outputs": [
    {
     "data": {
      "text/plain": [
       "'GLYTOUCAN:G99760DU CUI'"
      ]
     },
     "execution_count": 21,
     "metadata": {},
     "output_type": "execute_result"
    }
   ],
   "source": [
    "list(id_mapper.keys())[0]"
   ]
  },
  {
   "cell_type": "code",
   "execution_count": 22,
   "metadata": {},
   "outputs": [
    {
     "data": {
      "text/plain": [
       "'7c256cfc-61b7-5568-b997-eea76e864673'"
      ]
     },
     "execution_count": 22,
     "metadata": {},
     "output_type": "execute_result"
    }
   ],
   "source": [
    "id_mapper['GLYTOUCAN:G99760DU CUI']"
   ]
  },
  {
   "cell_type": "code",
   "execution_count": 2,
   "metadata": {},
   "outputs": [
    {
     "name": "stderr",
     "output_type": "stream",
     "text": [
      "100%|██████████| 84/84 [00:12<00:00,  6.53it/s]\n"
     ]
    }
   ],
   "source": [
    "all_nodes = set()\n",
    "for filename in tqdm(glob('out/sab/*.nodes.csv')):\n",
    "\twith open(filename) as o:\n",
    "\t\tcsv_reader = csv.reader(o)\n",
    "\t\theader = True\n",
    "\t\tfor row in csv_reader:\n",
    "\t\t\tif header:\n",
    "\t\t\t\theader = False\n",
    "\t\t\telse:\n",
    "\t\t\t\tcid = row[0]\n",
    "\t\t\t\tall_nodes.add(cid)\n"
   ]
  },
  {
   "cell_type": "code",
   "execution_count": 3,
   "metadata": {},
   "outputs": [
    {
     "data": {
      "text/plain": [
       "8196986"
      ]
     },
     "execution_count": 3,
     "metadata": {},
     "output_type": "execute_result"
    }
   ],
   "source": [
    "len(all_nodes)"
   ]
  },
  {
   "cell_type": "code",
   "execution_count": 25,
   "metadata": {},
   "outputs": [
    {
     "name": "stderr",
     "output_type": "stream",
     "text": [
      "  0%|          | 0/19 [00:00<?, ?it/s]"
     ]
    },
    {
     "name": "stderr",
     "output_type": "stream",
     "text": [
      "100%|██████████| 19/19 [01:14<00:00,  3.93s/it]\n"
     ]
    }
   ],
   "source": [
    "for filename in tqdm(glob('out/sab/*.edges.csv')):\n",
    "\twith open(filename) as o:\n",
    "\t\tcsv_reader = csv.reader(o)\n",
    "\t\theader = True\n",
    "\t\tfor row in csv_reader:\n",
    "\t\t\tif header:\n",
    "\t\t\t\theader = False\n",
    "\t\t\telse:\n",
    "\t\t\t\tif row[1] not in all_nodes:\n",
    "\t\t\t\t\tprint(row)\n",
    "\t\t\t\t\tbreak\n",
    "\t\t\t\tif row[2] not in all_nodes:\n",
    "\t\t\t\t\tprint(row)\n",
    "\t\t\t\t\tbreak"
   ]
  },
  {
   "cell_type": "code",
   "execution_count": null,
   "metadata": {},
   "outputs": [],
   "source": []
  }
 ],
 "metadata": {
  "kernelspec": {
   "display_name": "venv",
   "language": "python",
   "name": "python3"
  },
  "language_info": {
   "codemirror_mode": {
    "name": "ipython",
    "version": 3
   },
   "file_extension": ".py",
   "mimetype": "text/x-python",
   "name": "python",
   "nbconvert_exporter": "python",
   "pygments_lexer": "ipython3",
   "version": "3.10.14"
  }
 },
 "nbformat": 4,
 "nbformat_minor": 2
}
