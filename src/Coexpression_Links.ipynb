{
 "cells": [
  {
   "cell_type": "code",
   "execution_count": 1,
   "metadata": {},
   "outputs": [],
   "source": [
    "import pandas as pd\n",
    "from glob import glob\n",
    "from tqdm import tqdm\n",
    "import csv"
   ]
  },
  {
   "cell_type": "code",
   "execution_count": 2,
   "metadata": {},
   "outputs": [],
   "source": [
    "coexpression = pd.read_feather('https://s3.amazonaws.com/mssm-data/human_correlation_archs4.f')"
   ]
  },
  {
   "cell_type": "code",
   "execution_count": 3,
   "metadata": {},
   "outputs": [],
   "source": [
    "coexpression.index = coexpression.columns"
   ]
  },
  {
   "cell_type": "code",
   "execution_count": 4,
   "metadata": {},
   "outputs": [
    {
     "data": {
      "text/plain": [
       "(26415, 26415)"
      ]
     },
     "execution_count": 4,
     "metadata": {},
     "output_type": "execute_result"
    }
   ],
   "source": [
    "coexpression.shape"
   ]
  },
  {
   "cell_type": "code",
   "execution_count": 5,
   "metadata": {},
   "outputs": [
    {
     "name": "stderr",
     "output_type": "stream",
     "text": [
      "15807it [00:00, 43168.48it/s]\n",
      "13375it [00:00, 41967.92it/s]\n",
      "3983it [00:00, 39907.39it/s]\n",
      "4419it [00:00, 39820.88it/s]\n",
      "34579it [00:00, 35515.94it/s]\n",
      "677it [00:00, 36933.79it/s]\n",
      "4547it [00:00, 35751.64it/s]\n",
      "49987it [00:01, 46975.46it/s]\n"
     ]
    },
    {
     "name": "stdout",
     "output_type": "stream",
     "text": [
      "out/sab/MOTRPAC.Gene.nodes.csv\n"
     ]
    },
    {
     "name": "stderr",
     "output_type": "stream",
     "text": [
      "301it [00:00, 35361.76it/s]\n",
      "34702it [00:00, 42026.29it/s]\n",
      "1061it [00:00, 39046.39it/s]\n"
     ]
    },
    {
     "name": "stdout",
     "output_type": "stream",
     "text": [
      "out/sab/NPO.Gene.nodes.csv\n"
     ]
    },
    {
     "name": "stderr",
     "output_type": "stream",
     "text": [
      "8334it [00:00, 49844.19it/s]\n"
     ]
    }
   ],
   "source": [
    "genes = {}\n",
    "for filename in glob('out/sab/*Gene.nodes.csv'):\n",
    "\tdf = pd.read_csv(filename, index_col=0)\n",
    "\tif 'HGNC' in df.columns:\n",
    "\t\tfor i, row in tqdm(df.iterrows()):\n",
    "\t\t\tif i not in genes:\n",
    "\t\t\t\tgenes[i] = {}\n",
    "\t\t\tgenes[i] = {**genes[i], **row}\n",
    "\telse: \n",
    "\t\tprint(filename)\n"
   ]
  },
  {
   "cell_type": "code",
   "execution_count": 6,
   "metadata": {},
   "outputs": [
    {
     "data": {
      "text/plain": [
       "57541"
      ]
     },
     "execution_count": 6,
     "metadata": {},
     "output_type": "execute_result"
    }
   ],
   "source": [
    "len(genes)"
   ]
  },
  {
   "cell_type": "code",
   "execution_count": 7,
   "metadata": {},
   "outputs": [],
   "source": [
    "gene_names = set(i['label'] for i in genes.values())"
   ]
  },
  {
   "cell_type": "code",
   "execution_count": 8,
   "metadata": {},
   "outputs": [
    {
     "data": {
      "text/plain": [
       "56635"
      ]
     },
     "execution_count": 8,
     "metadata": {},
     "output_type": "execute_result"
    }
   ],
   "source": [
    "len(gene_names)"
   ]
  },
  {
   "cell_type": "code",
   "execution_count": 9,
   "metadata": {},
   "outputs": [],
   "source": [
    "human_genes = gene_names.intersection(coexpression.columns)"
   ]
  },
  {
   "cell_type": "code",
   "execution_count": 10,
   "metadata": {},
   "outputs": [
    {
     "data": {
      "text/plain": [
       "20998"
      ]
     },
     "execution_count": 10,
     "metadata": {},
     "output_type": "execute_result"
    }
   ],
   "source": [
    "len(human_genes)"
   ]
  },
  {
   "cell_type": "code",
   "execution_count": 11,
   "metadata": {},
   "outputs": [],
   "source": [
    "genes_df = pd.DataFrame.from_dict(genes, orient='index')"
   ]
  },
  {
   "cell_type": "code",
   "execution_count": 12,
   "metadata": {},
   "outputs": [],
   "source": [
    "human_genes_df = genes_df[(genes_df.label.isin(human_genes)) & (~genes_df.HGNC.isna())]"
   ]
  },
  {
   "cell_type": "code",
   "execution_count": 13,
   "metadata": {},
   "outputs": [
    {
     "data": {
      "text/plain": [
       "(20997, 8)"
      ]
     },
     "execution_count": 13,
     "metadata": {},
     "output_type": "execute_result"
    }
   ],
   "source": [
    "human_genes_df.shape"
   ]
  },
  {
   "cell_type": "code",
   "execution_count": 14,
   "metadata": {},
   "outputs": [],
   "source": [
    "gene_id = {}\n",
    "for i,row in human_genes_df.iterrows():\n",
    "\tgene_id[row['label']] = i"
   ]
  },
  {
   "cell_type": "code",
   "execution_count": 15,
   "metadata": {},
   "outputs": [
    {
     "name": "stderr",
     "output_type": "stream",
     "text": [
      "20997it [01:23, 252.53it/s]\n"
     ]
    }
   ],
   "source": [
    "relation = \"predicted_ARCHS4_coexpression\"\n",
    "with open(\"out/SAB/ARCHS4.edges.csv\", \"w\") as o:\n",
    "\tcsv_writer = csv.writer(o)\n",
    "\tcsv_writer.writerow([\"\", \"source\", \"target\", \"relation\", \"SAB\", \"evidence_class\", \"predicted\"])\n",
    "\tindex = 0\n",
    "\tfor uid, row in tqdm(human_genes_df.iterrows()):\n",
    "\t\tgene = row['label']\n",
    "\t\tval = coexpression[gene].sort_values(ascending=False)[1:]\n",
    "\t\tcount = 0\n",
    "\t\tfor coex, val in val.items():\n",
    "\t\t\tif coex != gene and coex in gene_id:\n",
    "\t\t\t\tcid = gene_id[coex]\n",
    "\t\t\t\tcsv_writer.writerow([index, uid, cid, relation, 'ARCHS4', val, \"true\"])\n",
    "\t\t\t\tcount += 1\n",
    "\t\t\tif count == 10:\n",
    "\t\t\t\tbreak\n",
    "\t\tindex += 1\n",
    "\n",
    "\n"
   ]
  },
  {
   "cell_type": "markdown",
   "metadata": {},
   "source": []
  },
  {
   "cell_type": "code",
   "execution_count": 18,
   "metadata": {},
   "outputs": [],
   "source": [
    "human_genes_df.to_csv(\"out/SAB/ARCHS4.Gene.nodes.csv\")"
   ]
  },
  {
   "cell_type": "code",
   "execution_count": 19,
   "metadata": {},
   "outputs": [],
   "source": [
    "import zlib\n",
    "import zipfile\n",
    "\n",
    "def compress(file_names, zip_name):\n",
    "    print(\"File Paths:\")\n",
    "    print(file_names)\n",
    "\n",
    "    path = \"out/sab/\"\n",
    "\n",
    "    # Select the compression mode ZIP_DEFLATED for compression\n",
    "    # or zipfile.ZIP_STORED to just store the file\n",
    "    compression = zipfile.ZIP_DEFLATED\n",
    "\n",
    "    # create the zip file first parameter path/name, second mode\n",
    "    zf = zipfile.ZipFile(\"out/compressed/%s.zip\"%zip_name, mode=\"w\")\n",
    "    try:\n",
    "        for file_name in file_names:\n",
    "            # Add file to the zip file\n",
    "            # first parameter file to zip, second filename in zip\n",
    "            zf.write(path + file_name, file_name, compress_type=compression)\n",
    "\n",
    "    except FileNotFoundError:\n",
    "        print(\"An error occurred\")\n",
    "    finally:\n",
    "        # Don't forget to close the file!\n",
    "        zf.close()"
   ]
  },
  {
   "cell_type": "code",
   "execution_count": 21,
   "metadata": {},
   "outputs": [
    {
     "name": "stdout",
     "output_type": "stream",
     "text": [
      "File Paths:\n",
      "['ARCHS4.Gene.nodes.csv', 'ARCHS4.edges.csv']\n"
     ]
    }
   ],
   "source": [
    "compress([\"ARCHS4.Gene.nodes.csv\", \"ARCHS4.edges.csv\"], \"ARCHS4\")"
   ]
  },
  {
   "cell_type": "code",
   "execution_count": null,
   "metadata": {},
   "outputs": [],
   "source": []
  }
 ],
 "metadata": {
  "kernelspec": {
   "display_name": "venv",
   "language": "python",
   "name": "python3"
  },
  "language_info": {
   "codemirror_mode": {
    "name": "ipython",
    "version": 3
   },
   "file_extension": ".py",
   "mimetype": "text/x-python",
   "name": "python",
   "nbconvert_exporter": "python",
   "pygments_lexer": "ipython3",
   "version": "3.10.14"
  }
 },
 "nbformat": 4,
 "nbformat_minor": 2
}
