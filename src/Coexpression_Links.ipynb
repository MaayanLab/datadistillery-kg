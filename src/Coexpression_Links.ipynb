{
 "cells": [
  {
   "cell_type": "code",
   "execution_count": 1,
   "metadata": {},
   "outputs": [],
   "source": [
    "import pandas as pd\n",
    "from glob import glob\n",
    "from tqdm import tqdm\n",
    "import csv\n",
    "import requests\n",
    "import os"
   ]
  },
  {
   "cell_type": "code",
   "execution_count": 2,
   "metadata": {},
   "outputs": [],
   "source": [
    "coexpression = pd.read_feather('https://s3.amazonaws.com/mssm-data/human_correlation_archs4.f')"
   ]
  },
  {
   "cell_type": "code",
   "execution_count": 3,
   "metadata": {},
   "outputs": [],
   "source": [
    "coexpression.index = coexpression.columns"
   ]
  },
  {
   "cell_type": "code",
   "execution_count": 4,
   "metadata": {},
   "outputs": [
    {
     "data": {
      "text/plain": [
       "(26415, 26415)"
      ]
     },
     "execution_count": 4,
     "metadata": {},
     "output_type": "execute_result"
    }
   ],
   "source": [
    "coexpression.shape"
   ]
  },
  {
   "cell_type": "code",
   "execution_count": 5,
   "metadata": {},
   "outputs": [
    {
     "name": "stderr",
     "output_type": "stream",
     "text": [
      "13801it [00:00, 43136.07it/s]\n",
      "13375it [00:00, 44137.09it/s]\n",
      "3982it [00:00, 40771.50it/s]\n",
      "4419it [00:00, 41753.22it/s]\n",
      "34579it [00:00, 37480.84it/s]\n",
      "677it [00:00, 32733.63it/s]\n",
      "4547it [00:00, 39372.04it/s]\n",
      "49987it [00:01, 47117.54it/s]\n"
     ]
    },
    {
     "name": "stdout",
     "output_type": "stream",
     "text": [
      "out/sab/MOTRPAC.Gene.nodes.csv\n"
     ]
    },
    {
     "name": "stderr",
     "output_type": "stream",
     "text": [
      "301it [00:00, 33777.97it/s]\n",
      "34702it [00:00, 43628.63it/s]\n",
      "1061it [00:00, 40311.58it/s]"
     ]
    },
    {
     "name": "stdout",
     "output_type": "stream",
     "text": [
      "out/sab/NPO.Gene.nodes.csv\n"
     ]
    },
    {
     "name": "stderr",
     "output_type": "stream",
     "text": [
      "\n"
     ]
    }
   ],
   "source": [
    "genes = {}\n",
    "for filename in glob('out/sab/*Gene.nodes.csv'):\n",
    "\tdf = pd.read_csv(filename, index_col=0)\n",
    "\tif 'HGNC' in df.columns:\n",
    "\t\tfor i, row in tqdm(df.iterrows()):\n",
    "\t\t\tif i not in genes:\n",
    "\t\t\t\tgenes[i] = {}\n",
    "\t\t\tgenes[i] = {**genes[i], **row}\n",
    "\telse: \n",
    "\t\tprint(filename)\n"
   ]
  },
  {
   "cell_type": "code",
   "execution_count": 6,
   "metadata": {},
   "outputs": [
    {
     "data": {
      "text/plain": [
       "57393"
      ]
     },
     "execution_count": 6,
     "metadata": {},
     "output_type": "execute_result"
    }
   ],
   "source": [
    "len(genes)"
   ]
  },
  {
   "cell_type": "code",
   "execution_count": 7,
   "metadata": {},
   "outputs": [],
   "source": [
    "gene_names = set(i['label'] for i in genes.values())"
   ]
  },
  {
   "cell_type": "code",
   "execution_count": 8,
   "metadata": {},
   "outputs": [
    {
     "data": {
      "text/plain": [
       "56534"
      ]
     },
     "execution_count": 8,
     "metadata": {},
     "output_type": "execute_result"
    }
   ],
   "source": [
    "len(gene_names)"
   ]
  },
  {
   "cell_type": "code",
   "execution_count": 9,
   "metadata": {},
   "outputs": [],
   "source": [
    "human_genes = gene_names.intersection(coexpression.columns)"
   ]
  },
  {
   "cell_type": "code",
   "execution_count": 10,
   "metadata": {},
   "outputs": [
    {
     "data": {
      "text/plain": [
       "20998"
      ]
     },
     "execution_count": 10,
     "metadata": {},
     "output_type": "execute_result"
    }
   ],
   "source": [
    "len(human_genes)"
   ]
  },
  {
   "cell_type": "code",
   "execution_count": 11,
   "metadata": {},
   "outputs": [],
   "source": [
    "genes_df = pd.DataFrame.from_dict(genes, orient='index')"
   ]
  },
  {
   "cell_type": "code",
   "execution_count": 12,
   "metadata": {},
   "outputs": [],
   "source": [
    "human_genes_df = genes_df[(genes_df.label.isin(human_genes)) & (~genes_df.HGNC.isna())]"
   ]
  },
  {
   "cell_type": "code",
   "execution_count": 13,
   "metadata": {},
   "outputs": [
    {
     "data": {
      "text/plain": [
       "(20997, 8)"
      ]
     },
     "execution_count": 13,
     "metadata": {},
     "output_type": "execute_result"
    }
   ],
   "source": [
    "human_genes_df.shape"
   ]
  },
  {
   "cell_type": "code",
   "execution_count": 14,
   "metadata": {},
   "outputs": [],
   "source": [
    "gene_id = {}\n",
    "for i,row in human_genes_df.iterrows():\n",
    "\tgene_id[row['label']] = i"
   ]
  },
  {
   "cell_type": "code",
   "execution_count": 15,
   "metadata": {},
   "outputs": [],
   "source": [
    "for i in glob(\"out/sab/*predicted*\"):\n",
    "\tprint(i)"
   ]
  },
  {
   "cell_type": "code",
   "execution_count": 16,
   "metadata": {},
   "outputs": [],
   "source": [
    "filtered_coex = coexpression.loc[human_genes_df.label, human_genes_df.label]"
   ]
  },
  {
   "cell_type": "code",
   "execution_count": 17,
   "metadata": {},
   "outputs": [
    {
     "name": "stderr",
     "output_type": "stream",
     "text": [
      "20997it [01:06, 315.36it/s]\n"
     ]
    }
   ],
   "source": [
    "relation = \"ARCHS4_coexpressed_genes\"\n",
    "with open(\"out/SAB/ARCHS4.edges.csv\", \"w\") as o:\n",
    "\tcsv_writer = csv.writer(o)\n",
    "\tcsv_writer.writerow([\"\", \"source\", \"target\", \"relation\", \"SAB\", \"evidence_class\", \"hidden\"])\n",
    "\tindex = 0\n",
    "\tfor uid, row in tqdm(human_genes_df.iterrows()):\n",
    "\t\tgene = row['label']\n",
    "\t\tval = coexpression[gene].sort_values(ascending=False)[1:]\n",
    "\t\tcount = 0\n",
    "\t\tfor coex, val in val.items():\n",
    "\t\t\tif coex != gene and coex in gene_id:\n",
    "\t\t\t\tcid = gene_id[coex]\n",
    "\t\t\t\tcsv_writer.writerow([index, uid, cid, relation, 'ARCHS4', val, \"true\"])\n",
    "\t\t\t\tcount += 1\n",
    "\t\t\tif count == 10:\n",
    "\t\t\t\tbreak\n",
    "\t\tindex += 1\n",
    "\n",
    "\n"
   ]
  },
  {
   "cell_type": "markdown",
   "metadata": {},
   "source": []
  },
  {
   "cell_type": "code",
   "execution_count": 18,
   "metadata": {},
   "outputs": [],
   "source": [
    "human_genes_df.to_csv(\"out/SAB/ARCHS4.Gene.nodes.csv\")"
   ]
  },
  {
   "cell_type": "code",
   "execution_count": 19,
   "metadata": {},
   "outputs": [],
   "source": [
    "import zlib\n",
    "import zipfile\n",
    "\n",
    "def compress(file_names, zip_name):\n",
    "    print(\"File Paths:\")\n",
    "    print(file_names)\n",
    "\n",
    "    path = \"out/sab/\"\n",
    "\n",
    "    # Select the compression mode ZIP_DEFLATED for compression\n",
    "    # or zipfile.ZIP_STORED to just store the file\n",
    "    compression = zipfile.ZIP_DEFLATED\n",
    "\n",
    "    # create the zip file first parameter path/name, second mode\n",
    "    zf = zipfile.ZipFile(\"out/compressed/%s.zip\"%zip_name, mode=\"w\")\n",
    "    try:\n",
    "        for file_name in file_names:\n",
    "            # Add file to the zip file\n",
    "            # first parameter file to zip, second filename in zip\n",
    "            zf.write(path + file_name, file_name, compress_type=compression)\n",
    "\n",
    "    except FileNotFoundError:\n",
    "        print(\"An error occurred\")\n",
    "    finally:\n",
    "        # Don't forget to close the file!\n",
    "        zf.close()"
   ]
  },
  {
   "cell_type": "code",
   "execution_count": 58,
   "metadata": {},
   "outputs": [
    {
     "name": "stdout",
     "output_type": "stream",
     "text": [
      "File Paths:\n",
      "['ARCHS4.Gene.nodes.csv', 'ARCHS4.edges.csv']\n"
     ]
    }
   ],
   "source": [
    "compress([\"ARCHS4.Gene.nodes.csv\", \"ARCHS4.edges.csv\"], \"ARCHS4\")"
   ]
  },
  {
   "cell_type": "markdown",
   "metadata": {},
   "source": [
    "## Predicted Links"
   ]
  },
  {
   "cell_type": "code",
   "execution_count": 19,
   "metadata": {},
   "outputs": [],
   "source": [
    "def fetch_and_save_library(library, file):\n",
    "  ''' Download file from {url}, save it to {file}, and subsequently read it with {reader} using pandas options on {**kwargs}.\n",
    "  '''\n",
    "  if not os.path.exists(file):\n",
    "    if os.path.dirname(file):\n",
    "      os.makedirs(os.path.dirname(file), exist_ok=True)\n",
    "    gmt_url = \"https://maayanlab.cloud/Enrichr/geneSetLibrary?mode=text&libraryName=%s\"%library\n",
    "    res = requests.get(gmt_url)\n",
    "    gmt = res.text\n",
    "    with open(file, 'w') as o:\n",
    "        o.write(gmt)\n",
    "  \n",
    "  with open(file) as o:\n",
    "    return o.read().strip().split(\"\\n\")"
   ]
  },
  {
   "cell_type": "code",
   "execution_count": 20,
   "metadata": {},
   "outputs": [],
   "source": [
    "library = \"LINCS_L1000_Chem_Pert_Consensus_Sigs\"\n",
    "gmt = fetch_and_save_library(library, \"gmt/%s\"%library)"
   ]
  },
  {
   "cell_type": "code",
   "execution_count": 21,
   "metadata": {},
   "outputs": [
    {
     "data": {
      "text/plain": [
       "(5425, 5425)"
      ]
     },
     "execution_count": 21,
     "metadata": {},
     "output_type": "execute_result"
    }
   ],
   "source": [
    "up_gene_sets = {}\n",
    "down_gene_sets = {}\n",
    "for line in gmt:\n",
    "\tannot, _ , *genes = line.split(\"\\t\")\n",
    "\tdirection = \"Up\" if \" Up\" in annot else \"Down\"\n",
    "\tlabel = annot.replace(\" %s\"%direction, \"\")\n",
    "\tif direction == \"Up\":\n",
    "\t\tup_gene_sets[label] = genes\n",
    "\tif direction == \"Down\":\n",
    "\t\tdown_gene_sets[label] = genes\n",
    "len(up_gene_sets), len(down_gene_sets)"
   ]
  },
  {
   "cell_type": "markdown",
   "metadata": {},
   "source": []
  },
  {
   "cell_type": "code",
   "execution_count": 22,
   "metadata": {},
   "outputs": [
    {
     "data": {
      "text/html": [
       "<div>\n",
       "<style scoped>\n",
       "    .dataframe tbody tr th:only-of-type {\n",
       "        vertical-align: middle;\n",
       "    }\n",
       "\n",
       "    .dataframe tbody tr th {\n",
       "        vertical-align: top;\n",
       "    }\n",
       "\n",
       "    .dataframe thead th {\n",
       "        text-align: right;\n",
       "    }\n",
       "</style>\n",
       "<table border=\"1\" class=\"dataframe\">\n",
       "  <thead>\n",
       "    <tr style=\"text-align: right;\">\n",
       "      <th></th>\n",
       "      <th>label</th>\n",
       "      <th>type</th>\n",
       "      <th>PUBCHEM</th>\n",
       "    </tr>\n",
       "  </thead>\n",
       "  <tbody>\n",
       "    <tr>\n",
       "      <th>d361115c-2fc0-5686-821c-180822af818e</th>\n",
       "      <td>2-{3-[4-(4-Fluoro-phenyl)-piperazin-1-yl]-prop...</td>\n",
       "      <td>Compound</td>\n",
       "      <td>60785</td>\n",
       "    </tr>\n",
       "    <tr>\n",
       "      <th>ae8ceddb-ce98-558f-ab31-69e61e168d30</th>\n",
       "      <td>SA-1939938</td>\n",
       "      <td>Compound</td>\n",
       "      <td>60184895</td>\n",
       "    </tr>\n",
       "    <tr>\n",
       "      <th>43393ef6-f13d-50f8-9c2b-12cf4957f0b6</th>\n",
       "      <td>MW-STK33-1C</td>\n",
       "      <td>Compound</td>\n",
       "      <td>5765514</td>\n",
       "    </tr>\n",
       "    <tr>\n",
       "      <th>a4e9db83-a66b-5821-8b84-a51cb934ee03</th>\n",
       "      <td>calcipotriol</td>\n",
       "      <td>Compound</td>\n",
       "      <td>5288783</td>\n",
       "    </tr>\n",
       "    <tr>\n",
       "      <th>168f06a8-6c5e-5583-95d1-b62210bec876</th>\n",
       "      <td>Triprolidine</td>\n",
       "      <td>Compound</td>\n",
       "      <td>5282443</td>\n",
       "    </tr>\n",
       "  </tbody>\n",
       "</table>\n",
       "</div>"
      ],
      "text/plain": [
       "                                                                                  label  \\\n",
       "d361115c-2fc0-5686-821c-180822af818e  2-{3-[4-(4-Fluoro-phenyl)-piperazin-1-yl]-prop...   \n",
       "ae8ceddb-ce98-558f-ab31-69e61e168d30                                         SA-1939938   \n",
       "43393ef6-f13d-50f8-9c2b-12cf4957f0b6                                        MW-STK33-1C   \n",
       "a4e9db83-a66b-5821-8b84-a51cb934ee03                                       calcipotriol   \n",
       "168f06a8-6c5e-5583-95d1-b62210bec876                                       Triprolidine   \n",
       "\n",
       "                                          type   PUBCHEM  \n",
       "d361115c-2fc0-5686-821c-180822af818e  Compound     60785  \n",
       "ae8ceddb-ce98-558f-ab31-69e61e168d30  Compound  60184895  \n",
       "43393ef6-f13d-50f8-9c2b-12cf4957f0b6  Compound   5765514  \n",
       "a4e9db83-a66b-5821-8b84-a51cb934ee03  Compound   5288783  \n",
       "168f06a8-6c5e-5583-95d1-b62210bec876  Compound   5282443  "
      ]
     },
     "execution_count": 22,
     "metadata": {},
     "output_type": "execute_result"
    }
   ],
   "source": [
    "nodes_df = pd.read_csv('out/sab/LINCS.Compound.nodes.csv', index_col=0)\n",
    "nodes_df.head()"
   ]
  },
  {
   "cell_type": "code",
   "execution_count": 23,
   "metadata": {},
   "outputs": [
    {
     "data": {
      "text/plain": [
       "(4518, (4523, 3))"
      ]
     },
     "execution_count": 23,
     "metadata": {},
     "output_type": "execute_result"
    }
   ],
   "source": [
    "node_id_mapper = {}\n",
    "for k,v in nodes_df.label.items():\n",
    "\tif v.lower() not in node_id_mapper:\n",
    "\t\tnode_id_mapper[v.lower()] = k\n",
    "len(node_id_mapper), nodes_df.shape"
   ]
  },
  {
   "cell_type": "code",
   "execution_count": 24,
   "metadata": {},
   "outputs": [
    {
     "data": {
      "text/plain": [
       "(3341, 2084)"
      ]
     },
     "execution_count": 24,
     "metadata": {},
     "output_type": "execute_result"
    }
   ],
   "source": [
    "gene_sets = up_gene_sets\n",
    "missing = set()\n",
    "matched = set()\n",
    "for l, genes in gene_sets.items():\n",
    "\tlabel = l.lower()\n",
    "\tif label not in node_id_mapper:\n",
    "\t\tmissing.add(label)\n",
    "\telse:\n",
    "\t\tmatched.add(label)\n",
    "len(matched), len(missing)\n",
    "\n"
   ]
  },
  {
   "cell_type": "code",
   "execution_count": 25,
   "metadata": {},
   "outputs": [],
   "source": [
    "with open(\"out/SAB/ARCHS4.edges.csv\", \"a\") as o:\n",
    "\tcsv_writer = csv.writer(o)\n",
    "\t# csv_writer.writerow([\"\", \"source\", \"target\", \"relation\", \"SAB\", \"evidence_class\", \"hi\"])\n",
    "\tindex = 0\n",
    "\trelation = \"ARCHS4_coexpressed_genes_LINCS_Up\"\n",
    "\tfor label, genes in up_gene_sets.items():\n",
    "\t\tl = label.lower()\n",
    "\t\tif l in node_id_mapper:\n",
    "\t\t\tuid = node_id_mapper[l]\n",
    "\t\t\tmatched_genes = list(set(genes).intersection(filtered_coex.index))\n",
    "\t\t\tmean_coex = filtered_coex[matched_genes].mean(1).sort_values(ascending=False)\n",
    "\t\t\tcount = 0\n",
    "\t\t\tfor coex, val in mean_coex.items():\n",
    "\t\t\t\tif coex != gene and coex in gene_id:\n",
    "\t\t\t\t\tcid = gene_id[coex]\n",
    "\t\t\t\t\tcsv_writer.writerow([index, uid, cid, relation, 'ARCHS4', val, \"true\"])\n",
    "\t\t\t\t\tcount += 1\n",
    "\t\t\t\tif count == 10:\n",
    "\t\t\t\t\tbreak\n",
    "\t\t\tindex += 1\n",
    "\t\n",
    "\trelation = \"ARCHS4_coexpressed_genes_LINCS_Down\"\n",
    "\tfor label, genes in down_gene_sets.items():\n",
    "\t\tl = label.lower()\n",
    "\t\tif l in node_id_mapper:\n",
    "\t\t\tmatched_genes = list(set(genes).intersection(filtered_coex.index))\n",
    "\t\t\tmean_coex = filtered_coex[matched_genes].mean(1).sort_values(ascending=False)\n",
    "\t\t\tcount = 0\n",
    "\t\t\tfor coex, val in mean_coex.items():\n",
    "\t\t\t\tif coex != gene and coex in gene_id:\n",
    "\t\t\t\t\tcid = gene_id[coex]\n",
    "\t\t\t\t\tcsv_writer.writerow([index, uid, cid, relation, 'ARCS4', val, \"true\"])\n",
    "\t\t\t\t\tcount += 1\n",
    "\t\t\t\tif count == 10:\n",
    "\t\t\t\t\tbreak\n",
    "\t\t\tindex += 1"
   ]
  },
  {
   "cell_type": "markdown",
   "metadata": {},
   "source": [
    "## MW"
   ]
  },
  {
   "cell_type": "code",
   "execution_count": 26,
   "metadata": {},
   "outputs": [],
   "source": [
    "library = \"Metabolomics_Workbench_Metabolites_2022\"\n",
    "gmt = fetch_and_save_library(library, \"gmt/%s\"%library)"
   ]
  },
  {
   "cell_type": "code",
   "execution_count": 27,
   "metadata": {},
   "outputs": [
    {
     "data": {
      "text/html": [
       "<div>\n",
       "<style scoped>\n",
       "    .dataframe tbody tr th:only-of-type {\n",
       "        vertical-align: middle;\n",
       "    }\n",
       "\n",
       "    .dataframe tbody tr th {\n",
       "        vertical-align: top;\n",
       "    }\n",
       "\n",
       "    .dataframe thead th {\n",
       "        text-align: right;\n",
       "    }\n",
       "</style>\n",
       "<table border=\"1\" class=\"dataframe\">\n",
       "  <thead>\n",
       "    <tr style=\"text-align: right;\">\n",
       "      <th></th>\n",
       "      <th>label</th>\n",
       "      <th>type</th>\n",
       "      <th>PUBCHEM</th>\n",
       "      <th>HMDB</th>\n",
       "      <th>PUBMED</th>\n",
       "    </tr>\n",
       "  </thead>\n",
       "  <tbody>\n",
       "    <tr>\n",
       "      <th>d560db96-2ad7-5410-9015-f209f93be814</th>\n",
       "      <td>Procaine</td>\n",
       "      <td>Metabolite</td>\n",
       "      <td>4914.0</td>\n",
       "      <td>NaN</td>\n",
       "      <td>NaN</td>\n",
       "    </tr>\n",
       "    <tr>\n",
       "      <th>1d723a50-eddb-5946-ab30-95b9e6f7cf4e</th>\n",
       "      <td>3,3'-Thiobispropanoic acid</td>\n",
       "      <td>Metabolite</td>\n",
       "      <td>8096.0</td>\n",
       "      <td>NaN</td>\n",
       "      <td>NaN</td>\n",
       "    </tr>\n",
       "    <tr>\n",
       "      <th>41242503-8812-5a54-800f-d7ddb050a62d</th>\n",
       "      <td>Cefazolin</td>\n",
       "      <td>Metabolite</td>\n",
       "      <td>33255.0</td>\n",
       "      <td>NaN</td>\n",
       "      <td>NaN</td>\n",
       "    </tr>\n",
       "    <tr>\n",
       "      <th>f9ea4ebd-0fcc-5d54-b0c5-86f9810079b5</th>\n",
       "      <td>hexanoylcarnitine</td>\n",
       "      <td>Metabolite</td>\n",
       "      <td>6426853.0</td>\n",
       "      <td>NaN</td>\n",
       "      <td>NaN</td>\n",
       "    </tr>\n",
       "    <tr>\n",
       "      <th>83b461e0-3807-5196-b679-eea7f78cf2c4</th>\n",
       "      <td>glaucarubinone</td>\n",
       "      <td>Metabolite</td>\n",
       "      <td>441796.0</td>\n",
       "      <td>NaN</td>\n",
       "      <td>NaN</td>\n",
       "    </tr>\n",
       "  </tbody>\n",
       "</table>\n",
       "</div>"
      ],
      "text/plain": [
       "                                                           label        type  \\\n",
       "d560db96-2ad7-5410-9015-f209f93be814                    Procaine  Metabolite   \n",
       "1d723a50-eddb-5946-ab30-95b9e6f7cf4e  3,3'-Thiobispropanoic acid  Metabolite   \n",
       "41242503-8812-5a54-800f-d7ddb050a62d                   Cefazolin  Metabolite   \n",
       "f9ea4ebd-0fcc-5d54-b0c5-86f9810079b5           hexanoylcarnitine  Metabolite   \n",
       "83b461e0-3807-5196-b679-eea7f78cf2c4              glaucarubinone  Metabolite   \n",
       "\n",
       "                                        PUBCHEM HMDB  PUBMED  \n",
       "d560db96-2ad7-5410-9015-f209f93be814     4914.0  NaN     NaN  \n",
       "1d723a50-eddb-5946-ab30-95b9e6f7cf4e     8096.0  NaN     NaN  \n",
       "41242503-8812-5a54-800f-d7ddb050a62d    33255.0  NaN     NaN  \n",
       "f9ea4ebd-0fcc-5d54-b0c5-86f9810079b5  6426853.0  NaN     NaN  \n",
       "83b461e0-3807-5196-b679-eea7f78cf2c4   441796.0  NaN     NaN  "
      ]
     },
     "execution_count": 27,
     "metadata": {},
     "output_type": "execute_result"
    }
   ],
   "source": [
    "nodes_df = pd.read_csv('out/sab/MW.Metabolite.nodes.csv', index_col=0)\n",
    "nodes_df.head()"
   ]
  },
  {
   "cell_type": "code",
   "execution_count": 28,
   "metadata": {},
   "outputs": [
    {
     "data": {
      "text/plain": [
       "233"
      ]
     },
     "execution_count": 28,
     "metadata": {},
     "output_type": "execute_result"
    }
   ],
   "source": [
    "gene_sets = {}\n",
    "for line in gmt:\n",
    "\tlabel, _ , *genes = line.split(\"\\t\")\n",
    "\tdirection = \"Up\" if \" Up\" in annot else \"Down\"\n",
    "\tgene_sets[label] = genes\n",
    "len(gene_sets)"
   ]
  },
  {
   "cell_type": "code",
   "execution_count": 29,
   "metadata": {},
   "outputs": [
    {
     "name": "stdout",
     "output_type": "stream",
     "text": [
      "9007 (9725, 5)\n"
     ]
    },
    {
     "data": {
      "text/plain": [
       "(156, 77)"
      ]
     },
     "execution_count": 29,
     "metadata": {},
     "output_type": "execute_result"
    }
   ],
   "source": [
    "node_id_mapper = {}\n",
    "for k,v in nodes_df.label.items():\n",
    "\tif v.lower() not in node_id_mapper:\n",
    "\t\tnode_id_mapper[v.lower()] = k\n",
    "print(len(node_id_mapper), nodes_df.shape)\n",
    "\n",
    "missing = set()\n",
    "matched = set()\n",
    "for l, genes in gene_sets.items():\n",
    "\tlabel = l.lower()\n",
    "\tif label not in node_id_mapper:\n",
    "\t\tmissing.add(label)\n",
    "\telse:\n",
    "\t\tmatched.add(label)\n",
    "len(matched), len(missing)\n",
    "\n"
   ]
  },
  {
   "cell_type": "code",
   "execution_count": 30,
   "metadata": {},
   "outputs": [],
   "source": [
    "with open(\"out/SAB/ARCHS4.edges.csv\", \"a\") as o:\n",
    "\tcsv_writer = csv.writer(o)\n",
    "\t# csv_writer.writerow([\"\", \"source\", \"target\", \"relation\", \"SAB\", \"evidence_class\", \"predicted\"])\n",
    "\tindex = 0\n",
    "\trelation = \"ARCHS4_coexpressed_genes_MW\"\n",
    "\tfor label, genes in gene_sets.items():\n",
    "\t\tl = label.lower()\n",
    "\t\tif l in node_id_mapper:\n",
    "\t\t\tuid = node_id_mapper[l]\n",
    "\t\t\tmatched_genes = list(set(genes).intersection(filtered_coex.index))\n",
    "\t\t\tmean_coex = filtered_coex[matched_genes].mean(1).sort_values(ascending=False)\n",
    "\t\t\tcount = 0\n",
    "\t\t\tfor coex, val in mean_coex.items():\n",
    "\t\t\t\tif coex != gene and coex in gene_id:\n",
    "\t\t\t\t\tcid = gene_id[coex]\n",
    "\t\t\t\t\tcsv_writer.writerow([index, uid, cid, relation, 'ARCHS4', val, \"true\"])\n",
    "\t\t\t\t\tcount += 1\n",
    "\t\t\t\tif count == 10:\n",
    "\t\t\t\t\tbreak\n",
    "\t\t\tindex += 1"
   ]
  },
  {
   "cell_type": "markdown",
   "metadata": {},
   "source": [
    "## GTEx\n",
    "GTex Signatures have multiple context. Should we have multiple edges or consensus?"
   ]
  },
  {
   "cell_type": "code",
   "execution_count": 31,
   "metadata": {},
   "outputs": [],
   "source": [
    "library = \"GTEx_Tissues_V8_2023\"\n",
    "gmt = fetch_and_save_library(library, \"gmt/%s\"%library)"
   ]
  },
  {
   "cell_type": "code",
   "execution_count": 32,
   "metadata": {},
   "outputs": [],
   "source": [
    "import re"
   ]
  },
  {
   "cell_type": "code",
   "execution_count": 33,
   "metadata": {},
   "outputs": [
    {
     "data": {
      "text/plain": [
       "511"
      ]
     },
     "execution_count": 33,
     "metadata": {},
     "output_type": "execute_result"
    }
   ],
   "source": [
    "# Issue: Different Context, Should I have consensus sigs????\n",
    "gene_sets = {}\n",
    "dirs = set()\n",
    "pattern = \"(?P<tissue>.*) (?P<sex>.*) (?P<age>[0-9]*-[0-9]*) (?P<direction>.*)\"\n",
    "for line in gmt:\n",
    "\tannot, _ , *genes = line.split(\"\\t\")\n",
    "\tdirection = \"Up\" if \" Up\" in annot else \"Down\"\n",
    "\tdirs.add(direction)\n",
    "\tlabel = annot.replace(\" %s\"%direction, \"\")\n",
    "\tgene_sets[label] = genes\n",
    "len(gene_sets)"
   ]
  },
  {
   "cell_type": "code",
   "execution_count": 34,
   "metadata": {},
   "outputs": [
    {
     "data": {
      "text/plain": [
       "{'tissue': 'Bladder Bo', 'sex': 'Female', 'age': '40-49', 'direction': 'Up'}"
      ]
     },
     "execution_count": 34,
     "metadata": {},
     "output_type": "execute_result"
    }
   ],
   "source": [
    "annot = \"Bladder Bo Female 40-49 Up\"\n",
    "re.match(pattern, annot).groupdict()"
   ]
  },
  {
   "cell_type": "code",
   "execution_count": 35,
   "metadata": {},
   "outputs": [
    {
     "data": {
      "text/html": [
       "<div>\n",
       "<style scoped>\n",
       "    .dataframe tbody tr th:only-of-type {\n",
       "        vertical-align: middle;\n",
       "    }\n",
       "\n",
       "    .dataframe tbody tr th {\n",
       "        vertical-align: top;\n",
       "    }\n",
       "\n",
       "    .dataframe thead th {\n",
       "        text-align: right;\n",
       "    }\n",
       "</style>\n",
       "<table border=\"1\" class=\"dataframe\">\n",
       "  <thead>\n",
       "    <tr style=\"text-align: right;\">\n",
       "      <th></th>\n",
       "      <th>label</th>\n",
       "      <th>type</th>\n",
       "      <th>LNC</th>\n",
       "      <th>UBERON</th>\n",
       "      <th>FMA</th>\n",
       "      <th>NCI</th>\n",
       "      <th>SNOMEDCT_US</th>\n",
       "      <th>CHV</th>\n",
       "      <th>UWDA</th>\n",
       "      <th>MSH</th>\n",
       "      <th>EFO</th>\n",
       "    </tr>\n",
       "  </thead>\n",
       "  <tbody>\n",
       "    <tr>\n",
       "      <th>dc62d6d3-7d4d-56c1-97ef-f2087c46d03d</th>\n",
       "      <td>Hypothalamic structure</td>\n",
       "      <td>Anatomy</td>\n",
       "      <td>NaN</td>\n",
       "      <td>1898.0</td>\n",
       "      <td>62008.0</td>\n",
       "      <td>C12458</td>\n",
       "      <td>67923007.0</td>\n",
       "      <td>6498.0</td>\n",
       "      <td>NaN</td>\n",
       "      <td>D007031</td>\n",
       "      <td>NaN</td>\n",
       "    </tr>\n",
       "    <tr>\n",
       "      <th>4e273fbd-7db9-56d9-ad00-de7e246f33fc</th>\n",
       "      <td>Structure of putamen</td>\n",
       "      <td>Anatomy</td>\n",
       "      <td>NaN</td>\n",
       "      <td>1874.0</td>\n",
       "      <td>61834.0</td>\n",
       "      <td>C12452</td>\n",
       "      <td>89278009.0</td>\n",
       "      <td>10426.0</td>\n",
       "      <td>NaN</td>\n",
       "      <td>D011699</td>\n",
       "      <td>NaN</td>\n",
       "    </tr>\n",
       "    <tr>\n",
       "      <th>5ca230ff-6fcf-585a-a008-2ac2b7c3452f</th>\n",
       "      <td>Body of pancreas</td>\n",
       "      <td>Anatomy</td>\n",
       "      <td>NaN</td>\n",
       "      <td>1150.0</td>\n",
       "      <td>14518.0</td>\n",
       "      <td>C12270</td>\n",
       "      <td>40133006.0</td>\n",
       "      <td>22141.0</td>\n",
       "      <td>14518.0</td>\n",
       "      <td>NaN</td>\n",
       "      <td>NaN</td>\n",
       "    </tr>\n",
       "    <tr>\n",
       "      <th>8ac4cdaa-ad7a-5652-9fb5-aa8af53480f8</th>\n",
       "      <td>Esophageal Squamous Epithelium</td>\n",
       "      <td>Anatomy</td>\n",
       "      <td>NaN</td>\n",
       "      <td>6920.0</td>\n",
       "      <td>NaN</td>\n",
       "      <td>C49222</td>\n",
       "      <td>NaN</td>\n",
       "      <td>NaN</td>\n",
       "      <td>NaN</td>\n",
       "      <td>NaN</td>\n",
       "      <td>NaN</td>\n",
       "    </tr>\n",
       "    <tr>\n",
       "      <th>e186ef2e-b773-502f-87c6-d6f4606dbce1</th>\n",
       "      <td>Thyroid Gland</td>\n",
       "      <td>Anatomy</td>\n",
       "      <td>LP7636-6</td>\n",
       "      <td>2046.0</td>\n",
       "      <td>9603.0</td>\n",
       "      <td>C160209</td>\n",
       "      <td>69748006.0</td>\n",
       "      <td>12262.0</td>\n",
       "      <td>9603.0</td>\n",
       "      <td>D013961</td>\n",
       "      <td>NaN</td>\n",
       "    </tr>\n",
       "  </tbody>\n",
       "</table>\n",
       "</div>"
      ],
      "text/plain": [
       "                                                               label     type  \\\n",
       "dc62d6d3-7d4d-56c1-97ef-f2087c46d03d          Hypothalamic structure  Anatomy   \n",
       "4e273fbd-7db9-56d9-ad00-de7e246f33fc            Structure of putamen  Anatomy   \n",
       "5ca230ff-6fcf-585a-a008-2ac2b7c3452f                Body of pancreas  Anatomy   \n",
       "8ac4cdaa-ad7a-5652-9fb5-aa8af53480f8  Esophageal Squamous Epithelium  Anatomy   \n",
       "e186ef2e-b773-502f-87c6-d6f4606dbce1                   Thyroid Gland  Anatomy   \n",
       "\n",
       "                                           LNC  UBERON      FMA      NCI  \\\n",
       "dc62d6d3-7d4d-56c1-97ef-f2087c46d03d       NaN  1898.0  62008.0   C12458   \n",
       "4e273fbd-7db9-56d9-ad00-de7e246f33fc       NaN  1874.0  61834.0   C12452   \n",
       "5ca230ff-6fcf-585a-a008-2ac2b7c3452f       NaN  1150.0  14518.0   C12270   \n",
       "8ac4cdaa-ad7a-5652-9fb5-aa8af53480f8       NaN  6920.0      NaN   C49222   \n",
       "e186ef2e-b773-502f-87c6-d6f4606dbce1  LP7636-6  2046.0   9603.0  C160209   \n",
       "\n",
       "                                      SNOMEDCT_US      CHV     UWDA      MSH  \\\n",
       "dc62d6d3-7d4d-56c1-97ef-f2087c46d03d   67923007.0   6498.0      NaN  D007031   \n",
       "4e273fbd-7db9-56d9-ad00-de7e246f33fc   89278009.0  10426.0      NaN  D011699   \n",
       "5ca230ff-6fcf-585a-a008-2ac2b7c3452f   40133006.0  22141.0  14518.0      NaN   \n",
       "8ac4cdaa-ad7a-5652-9fb5-aa8af53480f8          NaN      NaN      NaN      NaN   \n",
       "e186ef2e-b773-502f-87c6-d6f4606dbce1   69748006.0  12262.0   9603.0  D013961   \n",
       "\n",
       "                                      EFO  \n",
       "dc62d6d3-7d4d-56c1-97ef-f2087c46d03d  NaN  \n",
       "4e273fbd-7db9-56d9-ad00-de7e246f33fc  NaN  \n",
       "5ca230ff-6fcf-585a-a008-2ac2b7c3452f  NaN  \n",
       "8ac4cdaa-ad7a-5652-9fb5-aa8af53480f8  NaN  \n",
       "e186ef2e-b773-502f-87c6-d6f4606dbce1  NaN  "
      ]
     },
     "execution_count": 35,
     "metadata": {},
     "output_type": "execute_result"
    }
   ],
   "source": [
    "nodes_df = pd.read_csv('out/sab/GTEXEQTL.Anatomy.nodes.csv', index_col=0)\n",
    "nodes_df.head()"
   ]
  },
  {
   "cell_type": "code",
   "execution_count": 36,
   "metadata": {},
   "outputs": [
    {
     "name": "stdout",
     "output_type": "stream",
     "text": [
      "48 (48, 11)\n"
     ]
    }
   ],
   "source": [
    "node_id_mapper = {}\n",
    "for k,v in nodes_df.label.items():\n",
    "\tif v.lower() not in node_id_mapper:\n",
    "\t\tnode_id_mapper[v.lower()] = k\n",
    "print(len(node_id_mapper), nodes_df.shape)"
   ]
  },
  {
   "cell_type": "code",
   "execution_count": 37,
   "metadata": {},
   "outputs": [
    {
     "data": {
      "text/html": [
       "<div>\n",
       "<style scoped>\n",
       "    .dataframe tbody tr th:only-of-type {\n",
       "        vertical-align: middle;\n",
       "    }\n",
       "\n",
       "    .dataframe tbody tr th {\n",
       "        vertical-align: top;\n",
       "    }\n",
       "\n",
       "    .dataframe thead th {\n",
       "        text-align: right;\n",
       "    }\n",
       "</style>\n",
       "<table border=\"1\" class=\"dataframe\">\n",
       "  <thead>\n",
       "    <tr style=\"text-align: right;\">\n",
       "      <th></th>\n",
       "      <th>label</th>\n",
       "      <th>type</th>\n",
       "      <th>LNC</th>\n",
       "      <th>UBERON</th>\n",
       "      <th>FMA</th>\n",
       "      <th>NCI</th>\n",
       "      <th>SNOMEDCT_US</th>\n",
       "      <th>CHV</th>\n",
       "      <th>UWDA</th>\n",
       "      <th>MSH</th>\n",
       "      <th>EFO</th>\n",
       "    </tr>\n",
       "  </thead>\n",
       "  <tbody>\n",
       "    <tr>\n",
       "      <th>dc62d6d3-7d4d-56c1-97ef-f2087c46d03d</th>\n",
       "      <td>Hypothalamic structure</td>\n",
       "      <td>Anatomy</td>\n",
       "      <td>NaN</td>\n",
       "      <td>1898.0</td>\n",
       "      <td>62008.0</td>\n",
       "      <td>C12458</td>\n",
       "      <td>67923007.0</td>\n",
       "      <td>6498.0</td>\n",
       "      <td>NaN</td>\n",
       "      <td>D007031</td>\n",
       "      <td>NaN</td>\n",
       "    </tr>\n",
       "    <tr>\n",
       "      <th>5ca230ff-6fcf-585a-a008-2ac2b7c3452f</th>\n",
       "      <td>Body of pancreas</td>\n",
       "      <td>Anatomy</td>\n",
       "      <td>NaN</td>\n",
       "      <td>1150.0</td>\n",
       "      <td>14518.0</td>\n",
       "      <td>C12270</td>\n",
       "      <td>40133006.0</td>\n",
       "      <td>22141.0</td>\n",
       "      <td>14518.0</td>\n",
       "      <td>NaN</td>\n",
       "      <td>NaN</td>\n",
       "    </tr>\n",
       "    <tr>\n",
       "      <th>8ac4cdaa-ad7a-5652-9fb5-aa8af53480f8</th>\n",
       "      <td>Esophageal Squamous Epithelium</td>\n",
       "      <td>Anatomy</td>\n",
       "      <td>NaN</td>\n",
       "      <td>6920.0</td>\n",
       "      <td>NaN</td>\n",
       "      <td>C49222</td>\n",
       "      <td>NaN</td>\n",
       "      <td>NaN</td>\n",
       "      <td>NaN</td>\n",
       "      <td>NaN</td>\n",
       "      <td>NaN</td>\n",
       "    </tr>\n",
       "    <tr>\n",
       "      <th>8ed9557e-1f3e-5cb0-9c30-52ef753bf355</th>\n",
       "      <td>Pituitary Gland</td>\n",
       "      <td>Anatomy</td>\n",
       "      <td>LP113983-3</td>\n",
       "      <td>7.0</td>\n",
       "      <td>13889.0</td>\n",
       "      <td>C12399</td>\n",
       "      <td>56329008.0</td>\n",
       "      <td>9761.0</td>\n",
       "      <td>13889.0</td>\n",
       "      <td>D010902</td>\n",
       "      <td>NaN</td>\n",
       "    </tr>\n",
       "    <tr>\n",
       "      <th>e186ef2e-b773-502f-87c6-d6f4606dbce1</th>\n",
       "      <td>Thyroid Gland</td>\n",
       "      <td>Anatomy</td>\n",
       "      <td>LP7636-6</td>\n",
       "      <td>2046.0</td>\n",
       "      <td>9603.0</td>\n",
       "      <td>C160209</td>\n",
       "      <td>69748006.0</td>\n",
       "      <td>12262.0</td>\n",
       "      <td>9603.0</td>\n",
       "      <td>D013961</td>\n",
       "      <td>NaN</td>\n",
       "    </tr>\n",
       "  </tbody>\n",
       "</table>\n",
       "</div>"
      ],
      "text/plain": [
       "                                                               label     type  \\\n",
       "dc62d6d3-7d4d-56c1-97ef-f2087c46d03d          Hypothalamic structure  Anatomy   \n",
       "5ca230ff-6fcf-585a-a008-2ac2b7c3452f                Body of pancreas  Anatomy   \n",
       "8ac4cdaa-ad7a-5652-9fb5-aa8af53480f8  Esophageal Squamous Epithelium  Anatomy   \n",
       "8ed9557e-1f3e-5cb0-9c30-52ef753bf355                 Pituitary Gland  Anatomy   \n",
       "e186ef2e-b773-502f-87c6-d6f4606dbce1                   Thyroid Gland  Anatomy   \n",
       "\n",
       "                                             LNC  UBERON      FMA      NCI  \\\n",
       "dc62d6d3-7d4d-56c1-97ef-f2087c46d03d         NaN  1898.0  62008.0   C12458   \n",
       "5ca230ff-6fcf-585a-a008-2ac2b7c3452f         NaN  1150.0  14518.0   C12270   \n",
       "8ac4cdaa-ad7a-5652-9fb5-aa8af53480f8         NaN  6920.0      NaN   C49222   \n",
       "8ed9557e-1f3e-5cb0-9c30-52ef753bf355  LP113983-3     7.0  13889.0   C12399   \n",
       "e186ef2e-b773-502f-87c6-d6f4606dbce1    LP7636-6  2046.0   9603.0  C160209   \n",
       "\n",
       "                                      SNOMEDCT_US      CHV     UWDA      MSH  \\\n",
       "dc62d6d3-7d4d-56c1-97ef-f2087c46d03d   67923007.0   6498.0      NaN  D007031   \n",
       "5ca230ff-6fcf-585a-a008-2ac2b7c3452f   40133006.0  22141.0  14518.0      NaN   \n",
       "8ac4cdaa-ad7a-5652-9fb5-aa8af53480f8          NaN      NaN      NaN      NaN   \n",
       "8ed9557e-1f3e-5cb0-9c30-52ef753bf355   56329008.0   9761.0  13889.0  D010902   \n",
       "e186ef2e-b773-502f-87c6-d6f4606dbce1   69748006.0  12262.0   9603.0  D013961   \n",
       "\n",
       "                                      EFO  \n",
       "dc62d6d3-7d4d-56c1-97ef-f2087c46d03d  NaN  \n",
       "5ca230ff-6fcf-585a-a008-2ac2b7c3452f  NaN  \n",
       "8ac4cdaa-ad7a-5652-9fb5-aa8af53480f8  NaN  \n",
       "8ed9557e-1f3e-5cb0-9c30-52ef753bf355  NaN  \n",
       "e186ef2e-b773-502f-87c6-d6f4606dbce1  NaN  "
      ]
     },
     "execution_count": 37,
     "metadata": {},
     "output_type": "execute_result"
    }
   ],
   "source": [
    "nodes_df = pd.read_csv('out/sab/GTEXEXP.Anatomy.nodes.csv', index_col=0)\n",
    "nodes_df.head()"
   ]
  },
  {
   "cell_type": "code",
   "execution_count": 38,
   "metadata": {},
   "outputs": [
    {
     "name": "stdout",
     "output_type": "stream",
     "text": [
      "53 (44, 11)\n"
     ]
    }
   ],
   "source": [
    "for k,v in nodes_df.label.items():\n",
    "\tif v.lower() not in node_id_mapper:\n",
    "\t\tnode_id_mapper[v.lower()] = k\n",
    "print(len(node_id_mapper), nodes_df.shape)"
   ]
  },
  {
   "cell_type": "code",
   "execution_count": 39,
   "metadata": {},
   "outputs": [
    {
     "data": {
      "text/plain": [
       "(0, 511)"
      ]
     },
     "execution_count": 39,
     "metadata": {},
     "output_type": "execute_result"
    }
   ],
   "source": [
    "missing = set()\n",
    "matched = set()\n",
    "for l, genes in gene_sets.items():\n",
    "\tlabel = l.lower()\n",
    "\tif label not in node_id_mapper:\n",
    "\t\tmissing.add(label)\n",
    "\telse:\n",
    "\t\tmatched.add(label)\n",
    "len(matched), len(missing)\n",
    "\n"
   ]
  },
  {
   "cell_type": "markdown",
   "metadata": {},
   "source": [
    "## IDG"
   ]
  },
  {
   "cell_type": "code",
   "execution_count": 40,
   "metadata": {},
   "outputs": [],
   "source": [
    "library = \"IDG_Drug_Targets_2022\"\n",
    "gmt = fetch_and_save_library(library, \"gmt/%s\"%library)"
   ]
  },
  {
   "cell_type": "code",
   "execution_count": 41,
   "metadata": {},
   "outputs": [
    {
     "data": {
      "text/plain": [
       "888"
      ]
     },
     "execution_count": 41,
     "metadata": {},
     "output_type": "execute_result"
    }
   ],
   "source": [
    "# Issue: Different Context, Should I have consensus sigs????\n",
    "gene_sets = {}\n",
    "dirs = set()\n",
    "for line in gmt:\n",
    "\tlabel, _ , *genes = line.split(\"\\t\")\n",
    "\tgene_sets[label] = genes\n",
    "len(gene_sets)"
   ]
  },
  {
   "cell_type": "code",
   "execution_count": 42,
   "metadata": {},
   "outputs": [
    {
     "data": {
      "text/html": [
       "<div>\n",
       "<style scoped>\n",
       "    .dataframe tbody tr th:only-of-type {\n",
       "        vertical-align: middle;\n",
       "    }\n",
       "\n",
       "    .dataframe tbody tr th {\n",
       "        vertical-align: top;\n",
       "    }\n",
       "\n",
       "    .dataframe thead th {\n",
       "        text-align: right;\n",
       "    }\n",
       "</style>\n",
       "<table border=\"1\" class=\"dataframe\">\n",
       "  <thead>\n",
       "    <tr style=\"text-align: right;\">\n",
       "      <th></th>\n",
       "      <th>label</th>\n",
       "      <th>type</th>\n",
       "      <th>PUBCHEM</th>\n",
       "    </tr>\n",
       "  </thead>\n",
       "  <tbody>\n",
       "    <tr>\n",
       "      <th>e69476ca-67a9-5b04-8f2d-9618e54f8b66</th>\n",
       "      <td>4-chloro-2-fluoro-5-(4-(3-fluorophenyl)-4-(2-(...</td>\n",
       "      <td>Compound</td>\n",
       "      <td>54580324</td>\n",
       "    </tr>\n",
       "    <tr>\n",
       "      <th>a4b29d0d-de05-57f8-b596-992fb0898185</th>\n",
       "      <td>1-(3-fluorobenzyl)-3-(1-((1-(4-(trifluoromethy...</td>\n",
       "      <td>Compound</td>\n",
       "      <td>11712583</td>\n",
       "    </tr>\n",
       "    <tr>\n",
       "      <th>57eb7630-1925-5e09-b134-bcc47ead1d99</th>\n",
       "      <td>5-Sulfamoyl-thieno[2,3-b]thiophene-2-carboxyli...</td>\n",
       "      <td>Compound</td>\n",
       "      <td>14700212</td>\n",
       "    </tr>\n",
       "    <tr>\n",
       "      <th>db4b22a5-7932-56ea-92c9-f88277000de6</th>\n",
       "      <td>US9278954, 1.65</td>\n",
       "      <td>Compound</td>\n",
       "      <td>118919539</td>\n",
       "    </tr>\n",
       "    <tr>\n",
       "      <th>b80140a4-a8d1-5941-bcf5-9fc0602cd840</th>\n",
       "      <td>2-(4-tert-butylphenyl)-4-(4-((1-methyl-1H-imid...</td>\n",
       "      <td>Compound</td>\n",
       "      <td>11626096</td>\n",
       "    </tr>\n",
       "  </tbody>\n",
       "</table>\n",
       "</div>"
      ],
      "text/plain": [
       "                                                                                  label  \\\n",
       "e69476ca-67a9-5b04-8f2d-9618e54f8b66  4-chloro-2-fluoro-5-(4-(3-fluorophenyl)-4-(2-(...   \n",
       "a4b29d0d-de05-57f8-b596-992fb0898185  1-(3-fluorobenzyl)-3-(1-((1-(4-(trifluoromethy...   \n",
       "57eb7630-1925-5e09-b134-bcc47ead1d99  5-Sulfamoyl-thieno[2,3-b]thiophene-2-carboxyli...   \n",
       "db4b22a5-7932-56ea-92c9-f88277000de6                                    US9278954, 1.65   \n",
       "b80140a4-a8d1-5941-bcf5-9fc0602cd840  2-(4-tert-butylphenyl)-4-(4-((1-methyl-1H-imid...   \n",
       "\n",
       "                                          type    PUBCHEM  \n",
       "e69476ca-67a9-5b04-8f2d-9618e54f8b66  Compound   54580324  \n",
       "a4b29d0d-de05-57f8-b596-992fb0898185  Compound   11712583  \n",
       "57eb7630-1925-5e09-b134-bcc47ead1d99  Compound   14700212  \n",
       "db4b22a5-7932-56ea-92c9-f88277000de6  Compound  118919539  \n",
       "b80140a4-a8d1-5941-bcf5-9fc0602cd840  Compound   11626096  "
      ]
     },
     "execution_count": 42,
     "metadata": {},
     "output_type": "execute_result"
    }
   ],
   "source": [
    "nodes_df = pd.read_csv('out/sab/IDGP.Compound.nodes.csv', index_col=0)\n",
    "nodes_df.head()"
   ]
  },
  {
   "cell_type": "code",
   "execution_count": 43,
   "metadata": {},
   "outputs": [
    {
     "name": "stdout",
     "output_type": "stream",
     "text": [
      "322568 (324293, 3)\n"
     ]
    }
   ],
   "source": [
    "node_id_mapper = {}\n",
    "for k,v in nodes_df.label.items():\n",
    "\tif v.lower() not in node_id_mapper:\n",
    "\t\tnode_id_mapper[v.lower()] = k\n",
    "print(len(node_id_mapper), nodes_df.shape)\n",
    "\n"
   ]
  },
  {
   "cell_type": "code",
   "execution_count": 44,
   "metadata": {},
   "outputs": [
    {
     "data": {
      "text/html": [
       "<div>\n",
       "<style scoped>\n",
       "    .dataframe tbody tr th:only-of-type {\n",
       "        vertical-align: middle;\n",
       "    }\n",
       "\n",
       "    .dataframe tbody tr th {\n",
       "        vertical-align: top;\n",
       "    }\n",
       "\n",
       "    .dataframe thead th {\n",
       "        text-align: right;\n",
       "    }\n",
       "</style>\n",
       "<table border=\"1\" class=\"dataframe\">\n",
       "  <thead>\n",
       "    <tr style=\"text-align: right;\">\n",
       "      <th></th>\n",
       "      <th>label</th>\n",
       "      <th>type</th>\n",
       "      <th>PUBCHEM</th>\n",
       "    </tr>\n",
       "  </thead>\n",
       "  <tbody>\n",
       "    <tr>\n",
       "      <th>3c84c739-0851-5512-b041-af9bb76d18f9</th>\n",
       "      <td>Thiocolchicoside</td>\n",
       "      <td>Compound</td>\n",
       "      <td>9915886</td>\n",
       "    </tr>\n",
       "    <tr>\n",
       "      <th>31b33745-5c09-5ba9-9752-b96a9f51f946</th>\n",
       "      <td>Darolutamide</td>\n",
       "      <td>Compound</td>\n",
       "      <td>67171867</td>\n",
       "    </tr>\n",
       "    <tr>\n",
       "      <th>41242503-8812-5a54-800f-d7ddb050a62d</th>\n",
       "      <td>Cefazolin</td>\n",
       "      <td>Compound</td>\n",
       "      <td>33255</td>\n",
       "    </tr>\n",
       "    <tr>\n",
       "      <th>b93561c4-1424-5689-85ef-389e8cd7b0b1</th>\n",
       "      <td>netarsudil</td>\n",
       "      <td>Compound</td>\n",
       "      <td>66599893</td>\n",
       "    </tr>\n",
       "    <tr>\n",
       "      <th>e8ead698-de45-5008-b25f-9bb387a98ae6</th>\n",
       "      <td>Xipamide</td>\n",
       "      <td>Compound</td>\n",
       "      <td>26618</td>\n",
       "    </tr>\n",
       "  </tbody>\n",
       "</table>\n",
       "</div>"
      ],
      "text/plain": [
       "                                                 label      type   PUBCHEM\n",
       "3c84c739-0851-5512-b041-af9bb76d18f9  Thiocolchicoside  Compound   9915886\n",
       "31b33745-5c09-5ba9-9752-b96a9f51f946      Darolutamide  Compound  67171867\n",
       "41242503-8812-5a54-800f-d7ddb050a62d         Cefazolin  Compound     33255\n",
       "b93561c4-1424-5689-85ef-389e8cd7b0b1        netarsudil  Compound  66599893\n",
       "e8ead698-de45-5008-b25f-9bb387a98ae6          Xipamide  Compound     26618"
      ]
     },
     "execution_count": 44,
     "metadata": {},
     "output_type": "execute_result"
    }
   ],
   "source": [
    "nodes_df = pd.read_csv('out/sab/IDGD.Compound.nodes.csv', index_col=0)\n",
    "nodes_df.head()"
   ]
  },
  {
   "cell_type": "code",
   "execution_count": 45,
   "metadata": {},
   "outputs": [
    {
     "name": "stdout",
     "output_type": "stream",
     "text": [
      "323556\n"
     ]
    }
   ],
   "source": [
    "for k,v in nodes_df.label.items():\n",
    "\tif v.lower() not in node_id_mapper:\n",
    "\t\tnode_id_mapper[v.lower()] = k\n",
    "print(len(node_id_mapper))\n",
    "\n"
   ]
  },
  {
   "cell_type": "code",
   "execution_count": 46,
   "metadata": {},
   "outputs": [
    {
     "data": {
      "text/plain": [
       "(514, 374)"
      ]
     },
     "execution_count": 46,
     "metadata": {},
     "output_type": "execute_result"
    }
   ],
   "source": [
    "missing = set()\n",
    "matched = set()\n",
    "for l, genes in gene_sets.items():\n",
    "\tlabel = l.lower()\n",
    "\tif label not in node_id_mapper:\n",
    "\t\tmissing.add(label)\n",
    "\telse:\n",
    "\t\tmatched.add(label)\n",
    "len(matched), len(missing)\n",
    "\n"
   ]
  },
  {
   "cell_type": "code",
   "execution_count": 47,
   "metadata": {},
   "outputs": [],
   "source": [
    "with open(\"out/SAB/ARCHS4.edges.csv\", \"a\") as o:\n",
    "\tcsv_writer = csv.writer(o)\n",
    "\t# csv_writer.writerow([\"\", \"source\", \"target\", \"relation\", \"SAB\", \"evidence_class\", \"predicted\"])\n",
    "\tindex = 0\n",
    "\trelation = \"ARCHS4_coexpressed_genes_IDG\"\n",
    "\tfor label, genes in gene_sets.items():\n",
    "\t\tl = label.lower()\n",
    "\t\tif l in node_id_mapper:\n",
    "\t\t\tuid = node_id_mapper[l]\n",
    "\t\t\tmatched_genes = list(set(genes).intersection(filtered_coex.index))\n",
    "\t\t\tmean_coex = filtered_coex[matched_genes].mean(1).sort_values(ascending=False)\n",
    "\t\t\tcount = 0\n",
    "\t\t\tfor coex, val in mean_coex.items():\n",
    "\t\t\t\tif coex != gene and coex in gene_id:\n",
    "\t\t\t\t\tcid = gene_id[coex]\n",
    "\t\t\t\t\tcsv_writer.writerow([index, uid, cid, relation, 'ARCHS4', val, \"true\"])\n",
    "\t\t\t\t\tcount += 1\n",
    "\t\t\t\tif count == 10:\n",
    "\t\t\t\t\tbreak\n",
    "\t\t\tindex += 1"
   ]
  },
  {
   "cell_type": "markdown",
   "metadata": {},
   "source": [
    "## HuBMAP"
   ]
  },
  {
   "cell_type": "code",
   "execution_count": 48,
   "metadata": {},
   "outputs": [],
   "source": [
    "library = \"HuBMAP_ASCTplusB_augmented_2022\"\n",
    "gmt = fetch_and_save_library(library, \"gmt/%s\"%library)"
   ]
  },
  {
   "cell_type": "code",
   "execution_count": 49,
   "metadata": {},
   "outputs": [
    {
     "data": {
      "text/plain": [
       "777"
      ]
     },
     "execution_count": 49,
     "metadata": {},
     "output_type": "execute_result"
    }
   ],
   "source": [
    "gene_sets = {}\n",
    "dirs = set()\n",
    "for line in gmt:\n",
    "\tlabel, _ , *genes = line.split(\"\\t\")\n",
    "\tgene_sets[label] = genes\n",
    "len(gene_sets)"
   ]
  },
  {
   "cell_type": "code",
   "execution_count": 50,
   "metadata": {},
   "outputs": [
    {
     "data": {
      "text/plain": [
       "'Hillock Cell Of Prostatic urethra - Prostate Gland'"
      ]
     },
     "execution_count": 50,
     "metadata": {},
     "output_type": "execute_result"
    }
   ],
   "source": [
    "label"
   ]
  },
  {
   "cell_type": "code",
   "execution_count": 51,
   "metadata": {},
   "outputs": [
    {
     "data": {
      "text/plain": [
       "dict_keys(['Paneth Cell Of Epithelium Proper Of Small intestine - Small Intestine', 'Duodenal Goblet cell - Small Intestine', 'Tuft cell - Small Intestine', 'absorptive - Small Intestine', 'enterocyte - Small Intestine', 'Endocrine Lineage cell - Small Intestine', 'Stem cell - Small Intestine', 'endothelial - Small Intestine', 'myofibroblast - Small Intestine', 'fibroblast - Small Intestine', 'B cell - Small Intestine', 'plasma - Small Intestine', 'CD4+ T - Small Intestine', 'Regulatory CD4+ T - Small Intestine', 'CD8+ T - Small Intestine', 'macrophage - Small Intestine', 'Mast cell - Small Intestine', 'fibroblasts - Small Intestine', 'Endothelial cells - Small Intestine', 'Epithelial Stem cells - Small Intestine', 'Paneth - Small Intestine', 'endocrine - Small Intestine', 'Jejunal Goblet cell - Small Intestine', 'enterocytes - Small Intestine', 'Tuft cells - Small Intestine', 'myofibroblasts - Small Intestine', 'macrophages - Small Intestine', 'Mast cells - Small Intestine', 'endoethlial - Small Intestine', 'goblet - Small Intestine', 'Endothelial Cell Of Hepatic sinusoid - Liver', 'Kupffer cell - Liver', 'Hepatic Stellate cell - Liver', 'hepatocyte - Liver', 'Periportal Region hepatocyte - Liver', 'Centrilobular Region hepatocyte - Liver', 'Vein Endothelial cell - Liver', 'Stratified Cuboidal Epithelial cell - Liver', 'Columnar/Cuboidal Epithelial cell - Liver', 'Afferent neuron - Liver', 'Endothelial Cell Of artery - Liver', 'Portal fibroblast - Liver', 'Hepatic Oval Stem cell - Liver', 'Dendritic Cell, human - Liver', 'Conventional Dendritic cell - Liver', 'CD1c-positive Myeloid Dendritic cell - Liver', 'Plasmacytoid Dendritic cell - Liver', 'CD8 TRm (Residence memory) - Liver', 'CD4-positive, Alpha-Beta T cell - Liver', 'CD8-positive, Alpha-Beta Memory T Cell, CD45RO-positive - Liver', 'Type I NK T cell - Liver', 'Eomes Low Liver NK cell - Liver', 'TBet Low Liver NK cell - Liver', 'Natural Killer cell - Liver', 'Hepatic Pit cell - Liver', 'Articular chondrocyte - Knee', 'Hypertrophic chondrocyte - Knee', 'Residual Hypertrophic Chondrocytes - Knee', 'osteocyte - Knee', 'osteoblast - Knee', 'Multinuclear osteoclast - Knee', 'Epithelial Cell Of amnion - Placenta', 'Embryonic fibroblast - Placenta', 'Extravillous trophoblast - Placenta', 'Endometrial Epithelial Cells - Placenta', 'Endometrial Stromal Cells (decidua) - Placenta', 'Endothelial cell - Placenta', 'Uterine NK Cells - Placenta', 'Uterine macrophage - Placenta', 'Regulatory T Cell - Placenta', 'Cytotoxic T Cell - Placenta', 'B Cell (Including Plasma cells) - Placenta', 'Syncytiotrophoblast cell - Placenta', 'Mononuclear Cytotrophoblast cell - Placenta', 'Hofbauer cell - Placenta', 'Placental Stromal Cells - Placenta', 'Placental Microvascular Endothelial Cells - Placenta', 'Stromal Cell Of endometrium - Placenta', 'Amacrine cell - Eye', 'Glutamic Acid Decarboxylase 65 cell - Eye', 'A8 Bistratified Small-Field cell - Eye', 'Wide Field cell - Eye', 'Semilunar Type 1 cell - Eye', 'Semilunar Type 3 cell - Eye', 'Semilunar cell - Eye', 'Starburst Amacrine cell - Eye', 'Retinal Bipolar neuron - Eye', 'Blue Cone Bipolar cell - Eye', 'Diffuse Bipolar 1 (DB1) - Eye', 'Diffuse Bipolar 2 cell - Eye', 'Diffuse Bipolar 3A cell - Eye', 'Diffuse Bipolar 3B cell - Eye', 'Diffuse Bipolar 4 cell - Eye', 'Flat Midget Bipolar cell - Eye', 'Invaginating Bipolar cell - Eye', 'ON-bipolar cell - Eye', 'Rod Bipolar cell - Eye', 'Capillary Layer Of choroid - Eye', 'Retinal Cone cell - Eye', 'Retinal Blood Vessel Endothelial cell - Eye', 'Retinal Ganglion cell - Eye', 'Primary Lens fiber - Eye', 'Retina Horizontal cell - Eye', 'Lens Epithelial cell - Eye', 'Lens Fiber cell - Eye', 'Secondary Lens fiber - Eye', 'Obsolete Muller cell - Eye', 'Retinal Rod cell - Eye', 'Retinal Pigment Epithelial cell - Eye', 'Corneal Endothelial cell - Eye', 'keratocyte - Eye', 'telocyte - Eye', 'Corneal Epithelial cell - Eye', 'Basal Cell Of Epithelium Of trachea - Respiratory System', 'Tracheal Goblet cell - Respiratory System', 'Brush Cell Of trachea - Respiratory System', 'Ciliated Columnar Cell Of Tracheobronchial tree - Respiratory System', 'Dense-Core Granulated Cell Of Epithelium Of trachea - Respiratory System', 'Serous Cell Of Epithelium Of trachea - Respiratory System', 'Smooth Muscle Cell Of trachea - Respiratory System', 'Submucosal Gland Ciliated Duct cells - Respiratory System', 'Submucosal Gland Basal cells - Respiratory System', 'Submucosal Gland secretory - Respiratory System', 'Submucosal Gland Collecting Duct epithelium - Respiratory System', 'Submucosal Gland Mucous cells - Respiratory System', 'Submucosal Gland Serous cells - Respiratory System', 'Myoepithelial cell - Respiratory System', 'Tracheobronchial chondrocyte - Respiratory System', 'Endothelial Cell Of artery - Respiratory System', 'Blood Vessel Smooth Muscle cell - Respiratory System', 'Venous Endothelial cell - Respiratory System', 'Ciliated Cell Of The bronchus - Respiratory System', 'Basal Epithelial Cell Of Tracheobronchial tree - Respiratory System', 'Lung Goblet cell - Respiratory System', 'Lung Neuroendocrine cell - Respiratory System', 'Brush Cell Of Trachebronchial tree - Respiratory System', 'Pulmonary ionocyte - Respiratory System', 'Serous Cell Of Epithelium Of bronchus - Respiratory System', 'Bronchial Smooth Muscle cell - Respiratory System', 'Pulmonary Artery Endothelial cell - Respiratory System', 'Smooth Muscle Cell Of The Pulmonary artery - Respiratory System', 'Tracheobronchial Smooth Muscle cell - Respiratory System', 'Club cell - Respiratory System', 'Basal Cells Of Terminal Ciliated Ducts Of Submucosal glands - Respiratory System', 'Ciliated Cuboidal epithelium - Respiratory System', 'Serous Cell Of Epithelium Of Lobular bronchiole - Respiratory System', 'Smooth Muscle cells - Respiratory System', 'Basal Cell Of Epithelium Of Lobular bronchiole - Respiratory System', 'Serous Cell Of Epithelium Of Terminal bronchiole - Respiratory System', 'Basal Cell Of Epithelium Of Terminal bronchiole - Respiratory System', 'Bronchioalveolar Stem cells - Respiratory System', 'Lung Matrix Fibroblast 2 - Respiratory System', 'Matrix Fibroblast 1/(Lipofibroblast) - Respiratory System', 'Type I pneumocyte - Respiratory System', 'Type II pneumocyte - Respiratory System', 'Myofibroblast cell - Respiratory System', 'Pericyte cell - Respiratory System', 'CAP1 - Respiratory System', 'CAP2 - Respiratory System', 'Pulmonary Venous Endothelial cell - Respiratory System', 'Adult Endothelial Progenitor cell - Respiratory System', 'Endothelial Cell Of Lymphatic vessel - Respiratory System', 'Mesothelial Cell Of Visceral pleura - Respiratory System', 'basal - Respiratory System', 'Alveolar macrophage - Respiratory System', 'Interstitial macrophage - Respiratory System', 'Connective Tissue Type Mast cell - Respiratory System', 'Mucosal Type Mast cell - Respiratory System', 'Classical monocyte - Respiratory System', 'Non-Classical monocyte - Respiratory System', 'basophil - Respiratory System', 'Lung Parenchyma Resident eosinophil - Respiratory System', 'granulocyte - Respiratory System', 'T cell - Respiratory System', 'Resident Memory CD8 T cell - Respiratory System', 'B cell - Respiratory System', 'Plasma cell - Respiratory System', 'Natural Killer cell - Respiratory System', 'CD141-positive Myeloid Dendritic cell - Respiratory System', 'CD1c-positive Myeloid Dendritic cell - Respiratory System', 'Plasmacytoid Dendritic cell - Respiratory System', 'Regulatory T cell - Respiratory System', 'Naive Thymus-Derived CD4-positive, Alpha-Beta T cell - Respiratory System', 'Naive Thymus-Derived CD8-positive, Alpha-Beta T cell - Respiratory System', 'Central Memory CD4-positive, Alpha-Beta T cell - Respiratory System', 'Central Memory CD8-positive, Alpha-Beta T cell - Respiratory System', 'Mucosal Invariant T cell - Respiratory System', 'CD16-negative, CD56-bright Natural Killer cell - Respiratory System', 'megakaryocyte - Respiratory System', 'Keratinocyte (Corneocyte) - Skin', 'keratinocyte - Skin', 'Epidermal Langerhans cell - Skin', 'Prickle cell - Skin', 'Merkel cell - Skin', 'Basal cell - Skin', 'Melanocyte Of skin - Skin', 'Keratinocyte (Onychocyte) - Skin', 'Keratinocyte Stem cell - Skin', 'Secretory cell - Skin', 'Myoepithelial Cell Of Sweat gland - Skin', 'Skin fibroblast - Skin', 'Mast cell - Skin', 'Dermal Dendritic cell - Skin', 'macrophage - Skin', 'T-helper 1 cell - Skin', 'Cytotoxic T cell - Skin', 'Regulatory T cell - Skin', 'Natural Killer cell - Skin', 'Group 1 Innate Lymphoid cell - Skin', 'Group 2 Innate Lymphoid cell - Skin', 'Group 3 Innate Lymphoid cell - Skin', 'B cell - Skin', 'Plasma cell - Skin', 'neutrophil - Skin', 'eosinophil - Skin', 'neuron - Skin', 'Schwann cell - Skin', 'Perineurial cells - Skin', 'Endothelial cell - Skin', 'Vascular Associated Smooth Muscle cell - Skin', 'Type I Cell Of Carotid body - Skin', 'Pericyte cell - Skin', 'Endothelial Cell Of Lymphatic vessel - Skin', 'Subcutaneous Fat cell - Skin', 'Perineural cell - Skin', 'Uterine Smooth Muscle cell - Uterus', 'Endothelial cell - Uterus', 'SOX9+ Epithelial cell - Uterus', 'Ciliated Epithelial cell - Uterus', 'Glandular Epithelial cell - Uterus', 'Luminal Epithelial cell - Uterus', 'Stromal cell - Uterus', 'Perivascular Support cell - Uterus', 'macrophage - Uterus', 'lymphocyte - Uterus', 'Uterine Natural Killer cell - Uterus', 'Uterine Dendritic cells - Uterus', 'B cell - Uterus', 'T cell - Uterus', 'Innate Lymphoid cell - Uterus', 'Mast cell - Uterus', 'Thymic Capsular fibroblast - Thoracic Thymus', 'macrophage - Thoracic Thymus', 'Blood Vessel Endothelial cell - Thoracic Thymus', 'Thymic Interlobular fibroblast - Thoracic Thymus', 'Erythroid Lineage cell - Thoracic Thymus', 'Mast cell - Thoracic Thymus', 'Early T Lineage precursor - Thoracic Thymus', 'Double Negative Thymocyte 2 - Thoracic Thymus', 'Double Negative Thymocyte 3 - Thoracic Thymus', 'Double Negative Thymocyte 4 - Thoracic Thymus', 'Thymic Cortical macrophage - Thoracic Thymus', 'Double-Positive, Alpha-Beta thymocyte - Thoracic Thymus', 'Thymic Plasmacytoid Dendritic cell - Thoracic Thymus', 'Cortical Thymic Epithelial cell - Thoracic Thymus', 'Unswitched Memory B cell - Thoracic Thymus', 'Class Switched Memory B cell - Thoracic Thymus', 'Plasma cell - Thoracic Thymus', 'monocyte - Thoracic Thymus', 'Mature CD4 Single-Positive thymocyte - Thoracic Thymus', 'Mature CD8 Single-Positive thymocyte - Thoracic Thymus', 'Thymic macrophage - Thoracic Thymus', 'CD8alpha-positive Thymic Conventional Dendritic cell - Thoracic Thymus', 'CD8alpha-negative Thymic Conventional Dendritic cell - Thoracic Thymus', 'Endothelial Cell Of Lymphatic vessel - Thoracic Thymus', 'Corticomedullary Thymic Epithelial cell - Thoracic Thymus', 'CD4-positive, Alpha-Beta Cytotoxic T cell - Thoracic Thymus', 'CD4-positive, Alpha-Beta Memory T cell - Thoracic Thymus', 'CD8-positive, Alpha-Beta Memory T cell - Thoracic Thymus', 'CD8aa(I) thymocyte - Thoracic Thymus', 'CD8aa(II) thymocyte - Thoracic Thymus', 'T Follicular Helper cell - Thoracic Thymus', 'Naive Regulatory T cell - Thoracic Thymus', 'Gamma-Delta T cell - Thoracic Thymus', 'T-helper 17 cell - Thoracic Thymus', 'Immature NK T cell - Thoracic Thymus', 'Thymic Medullary macrophage - Thoracic Thymus', 'Naive B cell - Thoracic Thymus', 'Group 3 Innate Lymphoid Cell, human - Thoracic Thymus', 'Natural Killer cell - Thoracic Thymus', 'Medullary Thymic Epithelial Cell Type 1 - Thoracic Thymus', 'Medullary Thymic Epithelial Cell Type 2 - Thoracic Thymus', 'Medullary Thymic Epithelial Cell Type 3 - Thoracic Thymus', 'Medullary Thymic Epithelial Cell Type 4', 'Myo-Medullary Thymic Epithelial cell - Thoracic Thymus', 'Neuro-Medullary Thymic Epithelial cell - Thoracic Thymus', 'Splenic Endothelial cell - Spleen', 'Catecholaminergic Neuron - Spleen', 'Naive B cell - Spleen', 'Memory B cell - Spleen', 'Class Switched Memory B cell - Spleen', 'Adventitial Stromal Cell - Spleen', 'Splenic Stromal Cell (non-FRC/non-FDC) - Spleen', 'Splenic Pericyte - Spleen', 'Splenic Stromal Sheath Cell - Spleen', 'Splenic Red Pulp macrophage - Spleen', 'Reticular Cell Of Splenic sinusoid - Spleen', 'Splenic Littoral Cell - Spleen', 'Splenic Red Pulp Stromal Cell - Spleen', 'Hematopoietic Stem cell - Spleen', 'CD14-positive, CD16-low monocyte - Spleen', 'erythrocyte - Spleen', 'B cell - Spleen', 'CD8-positive, Alpha-Beta T cell - Spleen', 'CD8-positive, Alpha-Beta Memory T cell - Spleen', 'Plasma cell - Spleen', 'plasmablast - Spleen', 'Dendritic Cell, human - Spleen', 'platelet - Spleen', 'Natural Killer cell - Spleen', 'Reticular Cell Of Splenic cord - Spleen', 'neutrophil - Spleen', 'Splenic Perifollicular Zone macrophage - Spleen', 'Stromal Cell - Spleen', 'CD141-positive Myeloid Dendritic cell - Spleen', 'CD1c-positive Myeloid Dendritic cell - Spleen', 'Monocyte-Derived DC - Spleen', 'Plasmacytoid Dendritic Cell, human - Spleen', 'DEC205+ DC - Spleen', 'Endothelial Cell Of Lymphatic vessel - Spleen', 'Follicular Dendritic cell - Spleen', 'Splenic White Pulp macrophage - Spleen', 'Germinal Center B cell - Spleen', 'T Follicular Helper cell - Spleen', 'T Follicular Regulatory Cell - Spleen', 'Splenic Tingible Body macrophage - Spleen', 'Mantle Zone B Cell - Spleen', 'Transitional Stage B cell - Spleen', 'Superficial Zone B Cell - Spleen', 'Splenic Marginal Zone macrophage - Spleen', 'CD4-positive Helper T cell - Spleen', 'Group 3 Innate Lymphoid Cell, human - Spleen', 'Naive Thymus-Derived CD4-positive, Alpha-Beta T cell - Spleen', 'Naive Thymus-Derived CD8-positive, Alpha-Beta T cell - Spleen', 'Effector CD8-positive, Alpha-Beta T cell - Spleen', 'CD8-positive, Alpha-Beta Cytotoxic T cell - Spleen', 'Regulatory T cell - Spleen', 'Interdigitating Dendritic Cells - Spleen', 'Cytotoxic Memory T Cell - Spleen', 'CD4-positive, Alpha-Beta Memory T cell - Spleen', 'Myofibroblast cell - Spleen', 'Gamma-Delta T cell - Spleen', 'Endothelial Cell Of artery - Spleen', 'Vein Endothelial cell - Spleen', 'Subcapsular Dendritic Cell - Spleen', 'Endothelial cell - Fallopian Tube', 'macrophage - Fallopian Tube', 'CD8+ T-cells - Fallopian Tube', 'Natural Killer cell - Fallopian Tube', 'CD4+ T-cell - Fallopian Tube', 'Langerhans cell - Fallopian Tube', 'monocyte - Fallopian Tube', 'Dendritic cell - Fallopian Tube', 'B cell - Fallopian Tube', 'Plasma cell - Fallopian Tube', 'Secretory Epithelial cell - Fallopian Tube', 'Intercalary Of Fallopian Tube isthmus - Fallopian Tube', 'Intercalary Of Fallopian Tube ampulla - Fallopian Tube', 'Enterocyte Of Epithelium Of Large intestine - Large Intestine', 'Large Intestine Crypt Goblet cell - Large Intestine', 'Intestinal Crypt Stem Cell Of Large intestine - Large Intestine', 'Paneth Cell Of colon - Large Intestine', 'Neuroendocrine cell - Large Intestine', 'Transit Amplifying Cell Of colon - Large Intestine', 'Intestinal Tuft cell - Large Intestine', 'CD8-alpha-alpha-positive, Alpha-Beta Intraepithelial T cell - Large Intestine', 'Surface Intraepithelial CD8+ Lymphocyte gamma/delta - Large Intestine', 'CD8-alpha-beta-positive, Alpha-Beta Intraepithelial T cell - Large Intestine', 'CD4-positive, Alpha-Beta Intraepithelial T cell - Large Intestine', 'CD4-negative, CD8-negative, Alpha-Beta Intraepithelial T cell - Large Intestine', 'Mature eosinophil - Large Intestine', 'Pericryptal Fibroblastic sheath - Large Intestine', 'Capillary Endothelial cell - Large Intestine', 'Endothelial Cell Of Lymphatic vessel - Large Intestine', 'Pericyte cell - Large Intestine', 'fibroblast - Large Intestine', 'Schwann cell - Large Intestine', 'ganglion - Large Intestine', 'Lymphocyte Of Large Intestine Lamina propria - Large Intestine', 'macrophage - Large Intestine', 'Endothelial Cell Of High Endothelial venule - Large Intestine', 'Plasma cell - Large Intestine', 'Mast cell - Large Intestine', 'Mature neutrophil - Large Intestine', 'Dendritic cell - Large Intestine', 'Fat cell - Large Intestine', 'Endothelial Cell Of arteriole - Large Intestine', 'Endothelial Cell Of venule - Large Intestine', 'Smooth Muscle Cell Of Large intestine - Large Intestine', 'Mesothelial Cell Of Visceral peritoneum - Large Intestine', 'Transitional Epithelial cell - Large Intestine', 'Simple Columnar Epithelial cell - Large Intestine', 'Stratified Squamous Epithelial cell - Large Intestine', 'Langerhans cell - Large Intestine', 'melanocyte - Large Intestine', 'Merkel cell - Large Intestine', 'keratinocyte - Large Intestine', 'Sebum Secreting cell - Large Intestine', 'Eccrine cell - Large Intestine', 'Apocrine cell - Large Intestine', 'T-helper 1 cell - Large Intestine', 'Cytotoxic T cell - Large Intestine', 'Regulatory T cell - Large Intestine', 'B cell - Large Intestine', 'Perineural cell - Large Intestine', 'Type I Cell Of Carotid body - Large Intestine', 'Immature NK T Cell Stage IV - Large Intestine', 'Vein Endothelial cell - Large Intestine', 'Skeletal Muscle cell - Large Intestine', 'Cardiac Pacemaker Cell Of Sinoatrial node - Heart', 'Endothelial Cell Of artery - Heart', 'Smooth Muscle Cell Of The Coronary artery - Heart', 'fibroblast - Heart', 'Cardiac Muscle cell - Heart', 'Cardiac Atrium fibroblast - Heart', 'macrophage - Heart', 'neuronal - Heart', 'Cardiac Endothelial cell - Heart', 'Vascular Associated Smooth Muscle cell - Heart', 'pericyte - Heart', 'Telocyte (Interstitial Like Cell Of cajal) - Heart', 'lymphocyte - Heart', 'Dendritic Cell, human - Heart', 'Fat cell - Heart', 'Blood Vessel Endothelial cell - Heart', 'Cardiac Ventricle fibroblast - Heart', 'Heart Valve cell - Heart', 'Valve Interstitial cell - Heart', 'Mesothelial cell - Heart', 'Epicardial adipocyte - Heart', 'Schwann cell - Heart', 'Myofibroblast cell - Lymph Node', 'Blood Vessel Endothelial cell - Lymph Node', 'Pericyte cell - Lymph Node', 'Endothelial Cell Of Lymphatic vessel - Lymph Node', 'Lymph Node Subcapsular Sinus macrophage - Lymph Node', 'Marginal Reticular Cell - Lymph Node', 'Lymphatic Endothelial Cell -Subcapsular Sinus Ceiling - Lymph Node', 'Lymphatic Endothelial Cell-Subcapsular Sinus Floor - Lymph Node', 'Lymphatic Endothelial Cell-Trabeculae - Lymph Node', 'Follicular Dendritic cell - Lymph Node', 'Naive B cell - Lymph Node', 'Memory B cell - Lymph Node', 'macrophage - Lymph Node', 'Centrocyte - Lymph Node', 'T Follicular Helper cell - Lymph Node', 'T Follicular Regulatory Cell - Lymph Node', 'Lymph Node Tingible Body macrophage - Lymph Node', 'plasmablast - Lymph Node', 'Centroblast - Lymph Node', 'B Cell Zone Reticular Cell - Lymph Node', 'Naive Thymus-Derived CD4-positive, Alpha-Beta T cell - Lymph Node', 'CD4-positive, Alpha-Beta Memory T cell - Lymph Node', 'T-helper 1 cell - Lymph Node', 'T-helper 2 cell - Lymph Node', 'T-helper 17 cell - Lymph Node', 'Regulatory T cell - Lymph Node', 'Cytotoxic T cell - Lymph Node', 'Naive Thymus-Derived CD8-positive, Alpha-Beta T cell - Lymph Node', 'CD8-positive, Alpha-Beta Memory T cell - Lymph Node', 'Natural Killer cell - Lymph Node', 'T Cell Zone Reticular Cell - Lymph Node', 'Dendritic cell - Lymph Node', 'CD1c-positive Myeloid Dendritic cell - Lymph Node', 'Plasmacytoid Dendritic Cell, human - Lymph Node', 'CD141-positive Myeloid Dendritic cell - Lymph Node', 'Gamma-Delta T cell - Lymph Node', 'Mast cell - Lymph Node', 'Plasma cell - Lymph Node', 'Monocytoid B Cell - Lymph Node', 'B cell - Lymph Node', 'Medullary Reticular Cell - Lymph Node', 'T cell - Lymph Node', 'Lymphatic Endothelial Cell Of Medulla Ceiling - Lymph Node', 'Sympathetic neuron - Lymph Node', 'Hilus Cell Of ovary - Ovary', 'Inh L1 LAMP5 PVRL2 - Brain', 'Inh L1 LAMP5 RAB11FIP1 - Brain', 'Inh L1-6 LAMP5 AARD - Brain', 'Inh L1-6 LAMP5 NES - Brain', 'Inh L1-6 LAMP5 CA1 - Brain', 'Inh L5-6 LAMP5 CRABP1 - Brain', 'Inh L3-6 PAX6 LINC01497 - Brain', 'Inh L1 PAX6 MIR101-1 - Brain', 'Inh L1 LAMP5 BMP2 - Brain', 'Inh L1 LAMP5 NMBR - Brain', 'Inh L1 PAX6 CHRFAM7A - Brain', 'Inh L1-6 VIP SLC7A6OS - Brain', 'Inh L2 PAX6 FREM2 - Brain', 'Inh L1-2 VIP HTR3A - Brain', 'Inh L1-2 VIP WNT4 - Brain', 'Inh L1 PVALB SST ASIC4 - Brain', 'Inh L1 SST P4HA3 - Brain', 'Inh L1 SST DEFB108B - Brain', 'Inh L1-3 VIP CBLN1 - Brain', 'Inh L1-2 VIP EXPH5 - Brain', 'Inh L1-3 VIP HSPB6 - Brain', 'Inh L1-2 VIP PTGER3 - Brain', 'Inh L1-2 VIP SCML4 - Brain', 'Inh L1-3 VIP FNDC1 - Brain', 'Inh L1-3 VIP CHRNA2 - Brain', 'Inh L2 VIP SLC6A16 - Brain', 'Inh L1 VIP KLHDC8B - Brain', 'Inh L3-5 VIP IGDCC3 - Brain', 'Inh L1-5 VIP SMOC1 - Brain', 'Inh L3-5 VIP HS3ST3A1 - Brain', 'Inh L5-6 VIP COL4A3 - Brain', 'Inh L1-5 VIP CD27-AS1 - Brain', 'Inh L2-5 VIP BSPRY - Brain', 'Inh L2-5 VIP SOX11 - Brain', 'Inh L3-6 VIP ZIM2-AS1 - Brain', 'Inh L1-5 VIP PHLDB3 - Brain', 'Inh L1-5 VIP LINC01013 - Brain', 'Inh L3-6 VIP UG0898H09 - Brain', 'Inh L3-5 VIP TAC3 - Brain', 'Inh L1-6 SST NPY (Sset Chodl) - Brain', 'Inh L3-5 SST CDH3 - Brain', 'Inh L5 SST RPL35AP11 - Brain', 'Inh L5-6 SST ISX - Brain', 'Inh L5-6 PVALB SST CRHR2 - Brain', 'Inh L3-5 SST OR5AH1P - Brain', 'Inh L3-5 SST GGTLC3 - Brain', 'Inh L2-3 SST NMU - Brain', 'Inh L5-6 SST PAWR - Brain', 'Inh L5-6 SST PIK3CD - Brain', 'Inh L1-2 SST CCNJL - Brain', 'Inh L1-3 SST FAM20A - Brain', 'Inh L5-6 SST BEAN1 - Brain', 'Inh L5-6 SST DNAJC14 - Brain', 'Inh L5-6 SST C4orf26 - Brain', 'Inh L5-6 SST FBN2 - Brain', 'Inh L5-6 SST KLHL1 - Brain', 'Inh L6 SST TH - Brain', 'Inh L5-6 PVALB KCNIP2 - Brain', 'Inh L5-6 PVALB ZFPM2-AS1 - Brain', 'Inh L3-5 PVALB ISG20 - Brain', 'Inh L5 PVALB LRIG3 - Brain', 'Inh L2-5 PVALB HHIPL1 - Brain', 'Inh L2-5 PVALB RPH3AL - Brain', 'Inh L3 PVALB SAMD13 - Brain', 'Inh L1-2 PVALB CDK20 - Brain', 'Inh L2 PVALB FRZB - Brain', 'Inh L1-2 SST CLIC6 - Brain', 'Inh L5-6 PVALB GAPDHP60 - Brain', 'Inh L5-6 PVALB FAM150B - Brain', 'Inh L5-6 PVALB MEPE - Brain', 'Inh L1-6 PVALB COL15A1 (Chandelier) - Brain', 'Exc L2 LAMP5 KCNG3 - Brain', 'Exc L2 LINC00507 ATP7B - Brain', 'Exc L2 LINC00507 GLRA3 - Brain', 'Exc L2-3 RORB RTKN2 - Brain', 'Exc L2-3 LINC00507 DSG3 - Brain', 'Exc L3 LAMP5 CARM1P1 - Brain', 'Exc L2-3 RORB CCDC68 - Brain', 'Exc L2-3 RORB PTPN3 - Brain', 'Exc L3 THEMIS ENPEP - Brain', 'Exc L3-5 RORB TNNT2 - Brain', 'Exc L3-5 RORB LAMA4 - Brain', 'Exc L5 THEMIS VILL - Brain', 'Exc L3 RORB OTOGL - Brain', 'Exc L5 THEMIS SLC22A18 - Brain', 'Exc L5-6 THEMIS TNFAIP6 - Brain', 'Exc L3-5 RORB LNX2 - Brain', 'Exc L3-5 RORB RPRM - Brain', 'Exc L5 RORB MED8 - Brain', 'Exc L5 THEMIS FGF10 - Brain', 'Exc L6 THEMIS LINC00343 - Brain', 'Exc L6 THEMIS SLN - Brain', 'Exc L5-6 THEMIS SMYD1 (L6 IT Car3) - Brain', 'Exc L5-6 FEZF2 OR1L8 - Brain', 'Exc L5 THEMIS RGPD6 - Brain', 'Exc L5-6 FEZF2 C9orf135-AS1 - Brain', 'Exc L5-6 FEZF2 FILIP1L - Brain', 'Exc L5-6 FEZF2 SH2D1B - Brain', 'Exc L6 FEZF2 PDYN - Brain', 'Exc L6 FEZF2 PROKR2 - Brain', 'Exc L5-6 FEZF2 CFTR - Brain', 'Exc L6 FEZF2 KLK7 - Brain', 'Exc L6 FEZF2 POGK - Brain', 'Exc L5 FEZF2 CSN1S1 - Brain', 'Exc L3-5 FEZF2 ASGR2 - Brain', 'Exc L3-5 FEZF2 LINC01107 - Brain', 'Exc L5 FEZF2 PKD2L1 - Brain', 'Exc L5 FEZF2 NREP-AS1 - Brain', 'Exc L5 FEZF2 RNF144A-AS1 - Brain', 'OPC L1-6 PDGFRA COL20A1 - Brain', 'Oligo L2-6 OPALIN MAP6D1 - Brain', 'Oligo L3-6 OPALIN ENPP6 - Brain', 'Oligo L2-6 OPALIN FTH1P3 - Brain', 'Oligo L5-6 OPALIN LDLRAP1 - Brain', 'Astro L1-6 FGFR3 AQP1 - Brain', 'Astro L1 FGFR3 SERPINI2 - Brain', 'Astro L1-6 FGFR3 PLCG1 - Brain', 'Endo L2-5 NOSTRIN SRGN - Brain', 'VLMC L1-5 PDGFRA COLEC12 - Brain', 'Micro L1-6 TYROBP CD74 - Brain', 'Pancreatic Acinar cell - Pancreas', 'Simple Columnar Epithelial cell - Pancreas', 'Flat Epithelial cells - Pancreas', 'Pancreatic Goblet cell - Pancreas', 'Brush cell - Pancreas', 'Type EC Enteroendocrine cell - Pancreas', 'B cell - Pancreas', 'T cell - Pancreas', 'macrophage - Pancreas', 'Dendritic cell - Pancreas', 'Pancreatic A cell - Pancreas', 'Type B Pancreatic cell - Pancreas', 'Pancreatic D cell - Pancreas', 'Pancreatic PP cell - Pancreas', 'Pancreatic Epsilon cell - Pancreas', 'Gastrin Secreting cell - Pancreas', 'Activated Stellate cell - Pancreas', 'Quiescent Stellate cell - Pancreas', 'Fat cell - Pancreas', 'Basal Cell Of Bladder urothelium - Urinary Bladder', 'Intermediate Cell Of Bladder urothelium - Urinary Bladder', 'Superficial Cell Of Bladder urothelium - Urinary Bladder', 'Detrusor Smooth Muscle Cell Of bladder - Urinary Bladder', 'Myofibroblast Cell Of bladder - Urinary Bladder', 'PI16+ Fibroblast Cell Of bladder - Urinary Bladder', 'DPT+ Fibroblast Cell Of bladder - Urinary Bladder', 'Lipofibroblast Cell Of bladder - Urinary Bladder', 'Endothelial Cell Of bladder - Urinary Bladder', 'Vascular Smooth Muscle Cell Of bladder - Urinary Bladder', 'Pericyte Cell Of bladder - Urinary Bladder', 'Immature B cell - Blood', 'Memory B cell - Blood', 'Naive B cell - Blood', 'Transitional Stage B cell - Blood', 'CD141-positive Myeloid Dendritic cell - Blood', 'CD1c-positive Myeloid Dendritic cell - Blood', 'Plasmacytoid Dendritic Cell, human - Blood', 'Immature Conventional Dendritic cell - Blood', 'CD14-positive monocyte - Blood', 'CD14-low, CD16-positive monocyte - Blood', 'neutrophil - Blood', 'eosinophil - Blood', 'basophil - Blood', 'Naive Thymus-Derived CD4-positive, Alpha-Beta T cell - Blood', 'CD4 T Cell memory - Blood', 'CD4 T Cell Effector Memory CD45RA - Blood', 'Naive Thymus-Derived CD8-positive, Alpha-Beta T cell - Blood', 'CD8 T Cell memory - Blood', 'Effector CD8-positive, Alpha-Beta T cell - Blood', 'Effector Memory CD8-positive, Alpha-Beta T Cell, Terminally differentiated - Blood', 'Mature CD8 T cell - Blood', 'CD16-negative, CD56-bright Natural Killer cell - Blood', 'Mature Natural Killer cell - Blood', 'Regulatory T cell - Blood', 'Capsule Mesenchymal Stromal cell - Kidney', 'Parietal Epithelial cell - Kidney', 'Glomerular Visceral Epithelial cell - Kidney', 'Glomerular Capillary Endothelial cell - Kidney', 'Glomerular Mesangial cell - Kidney', 'Epithelial Cell Of Proximal tubule - Kidney', 'Proximal Tubule Epithelial Cell Segment 1 - Kidney', 'Proximal Tubule Epithelial Cell Segment 2 - Kidney', 'Proximal Tubule Cell Epithelial Segment 3 - Kidney', 'Kidney Loop Of Henle Thin Descending Limb Epithelial cell - Kidney', 'Descending Thin Limb Cell Type 1 - Kidney', 'Descending Thin Limb Cell Type 2 - Kidney', 'Descending Thin Limb Cell Type 3 - Kidney', 'Kidney Loop Of Henle Thin Ascending Limb Epithelial cell - Kidney', 'Kidney Loop Of Henle Thick Ascending Limb Epithelial cell - Kidney', 'Kidney Loop Of Henle Cortical Thick Ascending Limb Epithelial cell - Kidney', 'Kidney Loop Of Henle Medullary Thick Ascending Limb Epithelial cell - Kidney', 'Macula Densa Epithelial cell - Kidney', 'Kidney Distal Convoluted Tubule Epithelial cell - Kidney', 'Distal Convoluted Tubule Cell Type 1 - Kidney', 'Distal Convoluted Tubule Cell Type 2 - Kidney', 'Kidney Connecting Tubule Epithelial cell - Kidney', 'Connecting Tubule Principal Cell - Kidney', 'Connecting Tubule Intercalated Cell - Kidney', 'Connecting Tubule Intercalated Cell Type A - Kidney', 'Connecting Tubule Intercalated Cell Type B - Kidney', 'Kidney Collecting Duct Epithelial cell - Kidney', 'Kidney Collecting Duct Principal cell - Kidney', 'Kidney Cortex Collecting Duct Principal cell - Kidney', 'Kidney Outer Medulla Collecting Duct Principal cell - Kidney', 'Kidney Inner Medulla Collecting Duct Principal cell - Kidney', 'Transitional Principal-Intercalated cell - Kidney', 'Kidney Collecting Duct Intercalated cell - Kidney', 'Collecting Duct Intercalated Cell Type A - Kidney', 'Kidney Cortex Collecting Duct Intercalated cell - Kidney', 'Kidney Outer Medulla Collecting Duct Intercalated cell - Kidney', 'Renal Beta-Intercalated cell - Kidney', 'Endothelial cell - Kidney', 'Kidney Afferent Arteriole Endothelial cell - Kidney', 'Kidney Efferent Arteriole Endothelial cell - Kidney', 'Peritubular Capillary Endothelial cell - Kidney', 'Vasa Recta Descending Limb cell - Kidney', 'Vasa Recta Ascending Limb cell - Kidney', 'Endothelial Cell Of Lymphatic vessel - Kidney', 'Renal Interstitial pericyte - Kidney', 'Kidney Granular cell - Kidney', 'Kidney Interstitial fibroblast - Kidney', 'Kidney Interstitial myofibroblast - Kidney', 'Kidney Resident macrophage - Kidney', 'Non-Classical monocyte - Kidney', 'Natural Killer cell - Kidney', 'Mature NK T cell - Kidney', 'Dendritic Cell, human - Kidney', 'Conventional Dendritic cell - Kidney', 'Plasmacytoid Dendritic Cell, human - Kidney', 'monocyte - Kidney', 'T cell - Kidney', 'Cytotoxic T cell - Kidney', 'B cell - Kidney', 'Plasma cell - Kidney', 'neutrophil - Kidney', 'Mast cell - Kidney', 'Precursor B cell - Bone Marrow', 'Immature B cell - Bone Marrow', 'Memory B cell - Bone Marrow', 'Naive B cell - Bone Marrow', 'Plasma cell - Bone Marrow', 'pro-B cell - Bone Marrow', 'Transitional Stage B cell - Bone Marrow', 'Conventional Dendritic cell - Bone Marrow', 'Dendritic Cell, human - Bone Marrow', 'Plasmacytoid Dendritic Cell, human - Bone Marrow', 'Immature Conventional Dendritic cell - Bone Marrow', 'Erythroid Lineage cell - Bone Marrow', 'Megakaryocyte (MK) - Bone Marrow', 'Megakaryocyte Progenitor cell - Bone Marrow', 'Megakaryocyte-Erythroid Progenitor cell - Bone Marrow', 'Common Lymphoid progenitor - Bone Marrow', 'Common Myeloid progenitor - Bone Marrow', 'Granulocyte-Macrophage Progenitor Cell (GMP) - Bone Marrow', 'Hematopoietic Stem cell - Bone Marrow', 'Lympho-Myeloid Progenitor Cell (LMPP) - Bone Marrow', 'Hematopoietic Multipotent Progenitor cell - Bone Marrow', 'CD14-positive monocyte - Bone Marrow', 'CD14-low, CD16-positive monocyte - Bone Marrow', 'promonocyte - Bone Marrow', 'Myeloid Progenitor (MOP) - Bone Marrow', 'myelocyte - Bone Marrow', 'neutrophil - Bone Marrow', 'promyelocyte - Bone Marrow', 'eosinophil - Bone Marrow', 'basophil - Bone Marrow', 'Mast cell - Bone Marrow', 'CD4 naive - Bone Marrow', 'CD4 T Cell memory - Bone Marrow', 'CD4 T Cell Effector Memory CD45RA - Bone Marrow', 'CD8 naive - Bone Marrow', 'CD8 T Cell memory - Bone Marrow', 'CD8 T Cell Effector memory - Bone Marrow', 'Effector Memory CD8-positive, Alpha-Beta T Cell, Terminally differentiated - Bone Marrow', 'Mature CD8 T cell - Bone Marrow', 'CD16-negative, CD56-bright Natural Killer cell - Bone Marrow', 'Mature Natural Killer cell - Bone Marrow', 'Regulatory T cell - Bone Marrow', 'Basal Cell Of Ureter urothelium - Ureter', 'Intermediate Cell Of Ureter urothelium - Ureter', 'Superficial Cell Of Ureter urothelium - Ureter', 'Detrusor Smooth Muscle Cell Of ureter - Ureter', 'Myofibroblast Cell Of ureter - Ureter', 'PI16+ Fibroblast Cell Of ureter - Ureter', 'DPT+ Fibroblast Cell Of ureter - Ureter', 'Lipofibroblast Cell Of ureter - Ureter', 'Endothelial Cell Of ureter - Ureter', 'Vascular Smooth Muscle Cell Of ureter - Ureter', 'Pericyte Cell Of ureter - Ureter', 'Luminal Cell Of Prostate epithelium - Prostate Gland', 'Basal Cell Of Prostate epithelium - Prostate Gland', 'Endocrine-Paracrine Cell Of Prostate gland - Prostate Gland', 'Smooth Muscle Cell Of prostate - Prostate Gland', 'Prostate Gland Microvascular Endothelial cell - Prostate Gland', 'Periepithelial fibroblast - Prostate Gland', 'Interstitial fibroblast - Prostate Gland', 'Vascular Smooth muscle - Prostate Gland', 'Prostate perictye - Prostate Gland', 'Basal Cell Of Prostatic urethra - Prostate Gland', 'Club Cell Of Prostatic urethra - Prostate Gland', 'Hillock Cell Of Prostatic urethra - Prostate Gland'])"
      ]
     },
     "execution_count": 51,
     "metadata": {},
     "output_type": "execute_result"
    }
   ],
   "source": [
    "gene_sets.keys()"
   ]
  },
  {
   "cell_type": "code",
   "execution_count": 52,
   "metadata": {},
   "outputs": [
    {
     "data": {
      "text/html": [
       "<div>\n",
       "<style scoped>\n",
       "    .dataframe tbody tr th:only-of-type {\n",
       "        vertical-align: middle;\n",
       "    }\n",
       "\n",
       "    .dataframe tbody tr th {\n",
       "        vertical-align: top;\n",
       "    }\n",
       "\n",
       "    .dataframe thead th {\n",
       "        text-align: right;\n",
       "    }\n",
       "</style>\n",
       "<table border=\"1\" class=\"dataframe\">\n",
       "  <thead>\n",
       "    <tr style=\"text-align: right;\">\n",
       "      <th></th>\n",
       "      <th>label</th>\n",
       "      <th>type</th>\n",
       "      <th>AZ</th>\n",
       "      <th>CL</th>\n",
       "    </tr>\n",
       "  </thead>\n",
       "  <tbody>\n",
       "    <tr>\n",
       "      <th>9412f8ee-f98c-5f7d-bfa7-700a765e3100</th>\n",
       "      <td>non-classical monocyte</td>\n",
       "      <td>Anatomy</td>\n",
       "      <td>55</td>\n",
       "      <td>875.0</td>\n",
       "    </tr>\n",
       "    <tr>\n",
       "      <th>3ccdfeb4-78e8-5e6f-8aa8-297ce6a03ef5</th>\n",
       "      <td>fibroblast</td>\n",
       "      <td>Anatomy</td>\n",
       "      <td>41</td>\n",
       "      <td>57.0</td>\n",
       "    </tr>\n",
       "    <tr>\n",
       "      <th>ae7fc97c-9139-5ccf-9700-1a01f48e82d1</th>\n",
       "      <td>kidney outer medulla collecting duct principal...</td>\n",
       "      <td>Anatomy</td>\n",
       "      <td>57</td>\n",
       "      <td>1000716.0</td>\n",
       "    </tr>\n",
       "    <tr>\n",
       "      <th>55efbc35-3f92-5cc5-a457-d4a15043f889</th>\n",
       "      <td>kidney cortex collecting duct intercalated cell</td>\n",
       "      <td>Anatomy</td>\n",
       "      <td>30</td>\n",
       "      <td>1000715.0</td>\n",
       "    </tr>\n",
       "    <tr>\n",
       "      <th>5d35b5d4-8925-5c9f-99eb-a63326686223</th>\n",
       "      <td>Regular atrial cardiac myocyte</td>\n",
       "      <td>Anatomy</td>\n",
       "      <td>3</td>\n",
       "      <td>2129.0</td>\n",
       "    </tr>\n",
       "  </tbody>\n",
       "</table>\n",
       "</div>"
      ],
      "text/plain": [
       "                                                                                  label  \\\n",
       "9412f8ee-f98c-5f7d-bfa7-700a765e3100                             non-classical monocyte   \n",
       "3ccdfeb4-78e8-5e6f-8aa8-297ce6a03ef5                                         fibroblast   \n",
       "ae7fc97c-9139-5ccf-9700-1a01f48e82d1  kidney outer medulla collecting duct principal...   \n",
       "55efbc35-3f92-5cc5-a457-d4a15043f889    kidney cortex collecting duct intercalated cell   \n",
       "5d35b5d4-8925-5c9f-99eb-a63326686223                     Regular atrial cardiac myocyte   \n",
       "\n",
       "                                         type  AZ         CL  \n",
       "9412f8ee-f98c-5f7d-bfa7-700a765e3100  Anatomy  55      875.0  \n",
       "3ccdfeb4-78e8-5e6f-8aa8-297ce6a03ef5  Anatomy  41       57.0  \n",
       "ae7fc97c-9139-5ccf-9700-1a01f48e82d1  Anatomy  57  1000716.0  \n",
       "55efbc35-3f92-5cc5-a457-d4a15043f889  Anatomy  30  1000715.0  \n",
       "5d35b5d4-8925-5c9f-99eb-a63326686223  Anatomy   3     2129.0  "
      ]
     },
     "execution_count": 52,
     "metadata": {},
     "output_type": "execute_result"
    }
   ],
   "source": [
    "nodes_df = pd.read_csv('out/sab/HMAZ.Anatomy.nodes.csv', index_col=0)\n",
    "nodes_df.head()"
   ]
  },
  {
   "cell_type": "code",
   "execution_count": 53,
   "metadata": {},
   "outputs": [
    {
     "name": "stdout",
     "output_type": "stream",
     "text": [
      "92 (92, 4)\n"
     ]
    }
   ],
   "source": [
    "node_id_mapper = {}\n",
    "for k,v in nodes_df.label.items():\n",
    "\tif v.lower() not in node_id_mapper:\n",
    "\t\tnode_id_mapper[v.lower()] = k\n",
    "print(len(node_id_mapper), nodes_df.shape)\n",
    "\n"
   ]
  },
  {
   "cell_type": "code",
   "execution_count": 54,
   "metadata": {},
   "outputs": [
    {
     "data": {
      "text/plain": [
       "(36, 572)"
      ]
     },
     "execution_count": 54,
     "metadata": {},
     "output_type": "execute_result"
    }
   ],
   "source": [
    "missing = set()\n",
    "matched = set()\n",
    "for l, genes in gene_sets.items():\n",
    "\tlabel = l.lower().split(\" - \")[0]\n",
    "\tif label not in node_id_mapper:\n",
    "\t\tmissing.add(label)\n",
    "\telse:\n",
    "\t\tmatched.add(label)\n",
    "len(matched), len(missing)\n",
    "\n"
   ]
  },
  {
   "cell_type": "code",
   "execution_count": 55,
   "metadata": {},
   "outputs": [],
   "source": [
    "with open(\"out/SAB/ARCHS4.edges.csv\", \"a\") as o:\n",
    "\tcsv_writer = csv.writer(o)\n",
    "\t# csv_writer.writerow([\"\", \"source\", \"target\", \"relation\", \"SAB\", \"evidence_class\", \"predicted\"])\n",
    "\tindex = 0\n",
    "\trelation = \"ARCHS4_coexpressed_genes_HuBMAP\"\n",
    "\tfor label, genes in gene_sets.items():\n",
    "\t\tl = label.lower().split(\" - \")[0]\n",
    "\t\tif l in node_id_mapper:\n",
    "\t\t\tuid = node_id_mapper[l]\n",
    "\t\t\tmatched_genes = list(set(genes).intersection(filtered_coex.index))\n",
    "\t\t\tmean_coex = filtered_coex[matched_genes].mean(1).sort_values(ascending=False)\n",
    "\t\t\tcount = 0\n",
    "\t\t\tfor coex, val in mean_coex.items():\n",
    "\t\t\t\tif coex != gene and coex in gene_id:\n",
    "\t\t\t\t\tcid = gene_id[coex]\n",
    "\t\t\t\t\tcsv_writer.writerow([index, uid, cid, relation, 'ARCHS4', val, \"true\"])\n",
    "\t\t\t\t\tcount += 1\n",
    "\t\t\t\tif count == 10:\n",
    "\t\t\t\t\tbreak\n",
    "\t\t\tindex += 1"
   ]
  },
  {
   "cell_type": "markdown",
   "metadata": {},
   "source": [
    "## GlyGen"
   ]
  },
  {
   "cell_type": "code",
   "execution_count": 56,
   "metadata": {},
   "outputs": [],
   "source": [
    "library = \"GlyGen_Glycosylated_Proteins_2022\"\n",
    "gmt = fetch_and_save_library(library, \"gmt/%s\"%library)"
   ]
  },
  {
   "cell_type": "code",
   "execution_count": 57,
   "metadata": {},
   "outputs": [
    {
     "data": {
      "text/plain": [
       "338"
      ]
     },
     "execution_count": 57,
     "metadata": {},
     "output_type": "execute_result"
    }
   ],
   "source": [
    "gene_sets = {}\n",
    "dirs = set()\n",
    "for line in gmt:\n",
    "\tlabel, _ , *genes = line.split(\"\\t\")\n",
    "\tgene_sets[label] = genes\n",
    "len(gene_sets)"
   ]
  },
  {
   "cell_type": "code",
   "execution_count": 58,
   "metadata": {},
   "outputs": [
    {
     "data": {
      "text/html": [
       "<div>\n",
       "<style scoped>\n",
       "    .dataframe tbody tr th:only-of-type {\n",
       "        vertical-align: middle;\n",
       "    }\n",
       "\n",
       "    .dataframe tbody tr th {\n",
       "        vertical-align: top;\n",
       "    }\n",
       "\n",
       "    .dataframe thead th {\n",
       "        text-align: right;\n",
       "    }\n",
       "</style>\n",
       "<table border=\"1\" class=\"dataframe\">\n",
       "  <thead>\n",
       "    <tr style=\"text-align: right;\">\n",
       "      <th></th>\n",
       "      <th>label</th>\n",
       "      <th>type</th>\n",
       "      <th>GLYTOUCAN</th>\n",
       "    </tr>\n",
       "  </thead>\n",
       "  <tbody>\n",
       "    <tr>\n",
       "      <th>7fd257c7-6899-5323-b2ba-08ee6765425c</th>\n",
       "      <td>1314.43</td>\n",
       "      <td>Glytoucan</td>\n",
       "      <td>G27172ZA</td>\n",
       "    </tr>\n",
       "    <tr>\n",
       "      <th>5833bb06-4b85-5c27-8930-5de7bafc6ac8</th>\n",
       "      <td>1786.65</td>\n",
       "      <td>Glytoucan</td>\n",
       "      <td>G42824SU</td>\n",
       "    </tr>\n",
       "    <tr>\n",
       "      <th>24e5b929-9448-57d5-a50f-a97756888e66</th>\n",
       "      <td>2209.82</td>\n",
       "      <td>Glytoucan</td>\n",
       "      <td>G99691UT</td>\n",
       "    </tr>\n",
       "    <tr>\n",
       "      <th>34af2b59-996b-5968-b248-03f867602db5</th>\n",
       "      <td>1347.48</td>\n",
       "      <td>Glytoucan</td>\n",
       "      <td>G28565EX</td>\n",
       "    </tr>\n",
       "    <tr>\n",
       "      <th>d0b1ef0c-7bb3-56d4-ad72-10d1d4e4a9f1</th>\n",
       "      <td>2370.88</td>\n",
       "      <td>Glytoucan</td>\n",
       "      <td>G66689PB</td>\n",
       "    </tr>\n",
       "  </tbody>\n",
       "</table>\n",
       "</div>"
      ],
      "text/plain": [
       "                                        label       type GLYTOUCAN\n",
       "7fd257c7-6899-5323-b2ba-08ee6765425c  1314.43  Glytoucan  G27172ZA\n",
       "5833bb06-4b85-5c27-8930-5de7bafc6ac8  1786.65  Glytoucan  G42824SU\n",
       "24e5b929-9448-57d5-a50f-a97756888e66  2209.82  Glytoucan  G99691UT\n",
       "34af2b59-996b-5968-b248-03f867602db5  1347.48  Glytoucan  G28565EX\n",
       "d0b1ef0c-7bb3-56d4-ad72-10d1d4e4a9f1  2370.88  Glytoucan  G66689PB"
      ]
     },
     "execution_count": 58,
     "metadata": {},
     "output_type": "execute_result"
    }
   ],
   "source": [
    "nodes_df = pd.read_csv('out/sab/GLYCANS.Glytoucan.nodes.csv', index_col=0)\n",
    "nodes_df.head()"
   ]
  },
  {
   "cell_type": "code",
   "execution_count": 59,
   "metadata": {},
   "outputs": [
    {
     "name": "stdout",
     "output_type": "stream",
     "text": [
      "33755 (33755, 3)\n"
     ]
    }
   ],
   "source": [
    "node_id_mapper = {}\n",
    "for k,v in nodes_df.GLYTOUCAN.items():\n",
    "\tif v.lower() not in node_id_mapper:\n",
    "\t\tnode_id_mapper[v.lower()] = k\n",
    "print(len(node_id_mapper), nodes_df.shape)\n",
    "\n"
   ]
  },
  {
   "cell_type": "code",
   "execution_count": 60,
   "metadata": {},
   "outputs": [
    {
     "data": {
      "text/html": [
       "<div>\n",
       "<style scoped>\n",
       "    .dataframe tbody tr th:only-of-type {\n",
       "        vertical-align: middle;\n",
       "    }\n",
       "\n",
       "    .dataframe tbody tr th {\n",
       "        vertical-align: top;\n",
       "    }\n",
       "\n",
       "    .dataframe thead th {\n",
       "        text-align: right;\n",
       "    }\n",
       "</style>\n",
       "<table border=\"1\" class=\"dataframe\">\n",
       "  <thead>\n",
       "    <tr style=\"text-align: right;\">\n",
       "      <th></th>\n",
       "      <th>label</th>\n",
       "      <th>type</th>\n",
       "      <th>GLYTOUCAN</th>\n",
       "    </tr>\n",
       "  </thead>\n",
       "  <tbody>\n",
       "    <tr>\n",
       "      <th>6293c02a-b11b-51d2-a63c-c8bcbcf94ef6</th>\n",
       "      <td>2222.78</td>\n",
       "      <td>Glytoucan</td>\n",
       "      <td>G59616TT</td>\n",
       "    </tr>\n",
       "    <tr>\n",
       "      <th>06140b52-f59e-5361-b7dc-ac172d3716c9</th>\n",
       "      <td>586.22</td>\n",
       "      <td>Glytoucan</td>\n",
       "      <td>G32550BI</td>\n",
       "    </tr>\n",
       "    <tr>\n",
       "      <th>b30bb963-08c1-52e0-81ac-2d5f84d346c5</th>\n",
       "      <td>1462.54</td>\n",
       "      <td>Glytoucan</td>\n",
       "      <td>G80858MF</td>\n",
       "    </tr>\n",
       "    <tr>\n",
       "      <th>d215eed3-8336-5711-ac14-1f251d7fcae1</th>\n",
       "      <td>2475.89</td>\n",
       "      <td>Glytoucan</td>\n",
       "      <td>G60743GT</td>\n",
       "    </tr>\n",
       "    <tr>\n",
       "      <th>853af05a-dca0-5ca4-a8ff-fbfd0f22c8f9</th>\n",
       "      <td>3755.33</td>\n",
       "      <td>Glytoucan</td>\n",
       "      <td>G90784AP</td>\n",
       "    </tr>\n",
       "  </tbody>\n",
       "</table>\n",
       "</div>"
      ],
      "text/plain": [
       "                                        label       type GLYTOUCAN\n",
       "6293c02a-b11b-51d2-a63c-c8bcbcf94ef6  2222.78  Glytoucan  G59616TT\n",
       "06140b52-f59e-5361-b7dc-ac172d3716c9   586.22  Glytoucan  G32550BI\n",
       "b30bb963-08c1-52e0-81ac-2d5f84d346c5  1462.54  Glytoucan  G80858MF\n",
       "d215eed3-8336-5711-ac14-1f251d7fcae1  2475.89  Glytoucan  G60743GT\n",
       "853af05a-dca0-5ca4-a8ff-fbfd0f22c8f9  3755.33  Glytoucan  G90784AP"
      ]
     },
     "execution_count": 60,
     "metadata": {},
     "output_type": "execute_result"
    }
   ],
   "source": [
    "nodes_df = pd.read_csv('out/sab/PROTEOFORM.Glytoucan.nodes.csv', index_col=0)\n",
    "nodes_df.head()"
   ]
  },
  {
   "cell_type": "code",
   "execution_count": 61,
   "metadata": {},
   "outputs": [
    {
     "name": "stdout",
     "output_type": "stream",
     "text": [
      "33755 (1554, 3)\n"
     ]
    }
   ],
   "source": [
    "for k,v in nodes_df.GLYTOUCAN.items():\n",
    "\tif v.lower() not in node_id_mapper:\n",
    "\t\tnode_id_mapper[v.lower()] = k\n",
    "print(len(node_id_mapper), nodes_df.shape)\n",
    "\n"
   ]
  },
  {
   "cell_type": "code",
   "execution_count": 62,
   "metadata": {},
   "outputs": [
    {
     "data": {
      "text/plain": [
       "(338, 0)"
      ]
     },
     "execution_count": 62,
     "metadata": {},
     "output_type": "execute_result"
    }
   ],
   "source": [
    "missing = set()\n",
    "matched = set()\n",
    "for l, genes in gene_sets.items():\n",
    "\tlabel = l.lower().split(\" - \")[0]\n",
    "\tif label not in node_id_mapper:\n",
    "\t\tmissing.add(label)\n",
    "\telse:\n",
    "\t\tmatched.add(label)\n",
    "len(matched), len(missing)\n",
    "\n"
   ]
  },
  {
   "cell_type": "code",
   "execution_count": 63,
   "metadata": {},
   "outputs": [],
   "source": [
    "with open(\"out/SAB/ARCHS4.edges.csv\", \"a\") as o:\n",
    "\tcsv_writer = csv.writer(o)\n",
    "\t# csv_writer.writerow([\"\", \"source\", \"target\", \"relation\", \"SAB\", \"evidence_class\", \"predicted\"])\n",
    "\tindex = 0\n",
    "\trelation = \"ARCHS4_coexpressed_genes_Glygen\"\n",
    "\tfor label, genes in gene_sets.items():\n",
    "\t\tl = label.lower()\n",
    "\t\tif l in node_id_mapper:\n",
    "\t\t\tuid = node_id_mapper[l]\n",
    "\t\t\tmatched_genes = list(set(genes).intersection(filtered_coex.index))\n",
    "\t\t\tmean_coex = filtered_coex[matched_genes].mean(1).sort_values(ascending=False)\n",
    "\t\t\tcount = 0\n",
    "\t\t\tfor coex, val in mean_coex.items():\n",
    "\t\t\t\tif coex != gene and coex in gene_id:\n",
    "\t\t\t\t\tcid = gene_id[coex]\n",
    "\t\t\t\t\tcsv_writer.writerow([index, uid, cid, relation, 'ARCHS4', val, \"true\"])\n",
    "\t\t\t\t\tcount += 1\n",
    "\t\t\t\tif count == 10:\n",
    "\t\t\t\t\tbreak\n",
    "\t\t\tindex += 1"
   ]
  },
  {
   "cell_type": "code",
   "execution_count": 64,
   "metadata": {},
   "outputs": [
    {
     "ename": "NameError",
     "evalue": "name 'compress' is not defined",
     "output_type": "error",
     "traceback": [
      "\u001b[0;31m---------------------------------------------------------------------------\u001b[0m",
      "\u001b[0;31mNameError\u001b[0m                                 Traceback (most recent call last)",
      "Cell \u001b[0;32mIn[64], line 1\u001b[0m\n\u001b[0;32m----> 1\u001b[0m \u001b[43mcompress\u001b[49m([\u001b[38;5;124m\"\u001b[39m\u001b[38;5;124mARCHS4.Gene.nodes.csv\u001b[39m\u001b[38;5;124m\"\u001b[39m, \u001b[38;5;124m\"\u001b[39m\u001b[38;5;124mARCHS4.edges.csv\u001b[39m\u001b[38;5;124m\"\u001b[39m], \u001b[38;5;124m\"\u001b[39m\u001b[38;5;124mARCHS4\u001b[39m\u001b[38;5;124m\"\u001b[39m)\n",
      "\u001b[0;31mNameError\u001b[0m: name 'compress' is not defined"
     ]
    }
   ],
   "source": [
    "compress([\"ARCHS4.Gene.nodes.csv\", \"ARCHS4.edges.csv\"], \"ARCHS4\")"
   ]
  },
  {
   "cell_type": "code",
   "execution_count": 65,
   "metadata": {},
   "outputs": [
    {
     "data": {
      "text/html": [
       "<div>\n",
       "<style scoped>\n",
       "    .dataframe tbody tr th:only-of-type {\n",
       "        vertical-align: middle;\n",
       "    }\n",
       "\n",
       "    .dataframe tbody tr th {\n",
       "        vertical-align: top;\n",
       "    }\n",
       "\n",
       "    .dataframe thead th {\n",
       "        text-align: right;\n",
       "    }\n",
       "</style>\n",
       "<table border=\"1\" class=\"dataframe\">\n",
       "  <thead>\n",
       "    <tr style=\"text-align: right;\">\n",
       "      <th></th>\n",
       "      <th>source</th>\n",
       "      <th>target</th>\n",
       "      <th>relation</th>\n",
       "      <th>SAB</th>\n",
       "      <th>evidence_class</th>\n",
       "      <th>hidden</th>\n",
       "    </tr>\n",
       "  </thead>\n",
       "  <tbody>\n",
       "    <tr>\n",
       "      <th>0</th>\n",
       "      <td>2bbf802a-884e-5db4-a738-c858576cc15f</td>\n",
       "      <td>daa8439b-908e-5074-a367-a3c60cba1ddb</td>\n",
       "      <td>ARCHS4_coexpressed_genes</td>\n",
       "      <td>ARCHS4</td>\n",
       "      <td>0.496020</td>\n",
       "      <td>True</td>\n",
       "    </tr>\n",
       "    <tr>\n",
       "      <th>1</th>\n",
       "      <td>2bbf802a-884e-5db4-a738-c858576cc15f</td>\n",
       "      <td>c96cb7ae-137e-53c5-8eec-116e6a4cd154</td>\n",
       "      <td>ARCHS4_coexpressed_genes</td>\n",
       "      <td>ARCHS4</td>\n",
       "      <td>0.494161</td>\n",
       "      <td>True</td>\n",
       "    </tr>\n",
       "    <tr>\n",
       "      <th>2</th>\n",
       "      <td>2bbf802a-884e-5db4-a738-c858576cc15f</td>\n",
       "      <td>0feee71b-83da-5cb5-830d-2f08f52b58bb</td>\n",
       "      <td>ARCHS4_coexpressed_genes</td>\n",
       "      <td>ARCHS4</td>\n",
       "      <td>0.438561</td>\n",
       "      <td>True</td>\n",
       "    </tr>\n",
       "    <tr>\n",
       "      <th>3</th>\n",
       "      <td>2bbf802a-884e-5db4-a738-c858576cc15f</td>\n",
       "      <td>07976098-bb80-5780-8c58-82d929750767</td>\n",
       "      <td>ARCHS4_coexpressed_genes</td>\n",
       "      <td>ARCHS4</td>\n",
       "      <td>0.438128</td>\n",
       "      <td>True</td>\n",
       "    </tr>\n",
       "    <tr>\n",
       "      <th>4</th>\n",
       "      <td>2bbf802a-884e-5db4-a738-c858576cc15f</td>\n",
       "      <td>3e0ca18d-2ad1-5511-8f19-26e41b343c96</td>\n",
       "      <td>ARCHS4_coexpressed_genes</td>\n",
       "      <td>ARCHS4</td>\n",
       "      <td>0.426753</td>\n",
       "      <td>True</td>\n",
       "    </tr>\n",
       "  </tbody>\n",
       "</table>\n",
       "</div>"
      ],
      "text/plain": [
       "                                 source                                target  \\\n",
       "0  2bbf802a-884e-5db4-a738-c858576cc15f  daa8439b-908e-5074-a367-a3c60cba1ddb   \n",
       "1  2bbf802a-884e-5db4-a738-c858576cc15f  c96cb7ae-137e-53c5-8eec-116e6a4cd154   \n",
       "2  2bbf802a-884e-5db4-a738-c858576cc15f  0feee71b-83da-5cb5-830d-2f08f52b58bb   \n",
       "3  2bbf802a-884e-5db4-a738-c858576cc15f  07976098-bb80-5780-8c58-82d929750767   \n",
       "4  2bbf802a-884e-5db4-a738-c858576cc15f  3e0ca18d-2ad1-5511-8f19-26e41b343c96   \n",
       "\n",
       "                   relation     SAB  evidence_class  hidden  \n",
       "0  ARCHS4_coexpressed_genes  ARCHS4        0.496020    True  \n",
       "1  ARCHS4_coexpressed_genes  ARCHS4        0.494161    True  \n",
       "2  ARCHS4_coexpressed_genes  ARCHS4        0.438561    True  \n",
       "3  ARCHS4_coexpressed_genes  ARCHS4        0.438128    True  \n",
       "4  ARCHS4_coexpressed_genes  ARCHS4        0.426753    True  "
      ]
     },
     "execution_count": 65,
     "metadata": {},
     "output_type": "execute_result"
    }
   ],
   "source": [
    "df = pd.read_csv(\"out/sab/ARCHS4.edges.csv\")\n",
    "df = df[['source', 'target', 'relation', 'SAB', 'evidence_class',\n",
    "       'hidden']]\n",
    "df.head()"
   ]
  },
  {
   "cell_type": "code",
   "execution_count": 66,
   "metadata": {},
   "outputs": [],
   "source": [
    "df[\"hidden_tag\"] = ''\n",
    "for i,row in df.iterrows():\n",
    "\trelation = row[\"relation\"]\n",
    "\tif relation == 'ARCHS4_coexpressed_genes':\n",
    "\t\tdf.at[i,\"hidden_tag\"] = \"gene-gene coexpression\"\n",
    "\telse:\n",
    "\t\tdf.at[i,\"hidden_tag\"] = \"predicted term-gene association via coexpression\""
   ]
  },
  {
   "cell_type": "code",
   "execution_count": null,
   "metadata": {},
   "outputs": [],
   "source": []
  },
  {
   "cell_type": "code",
   "execution_count": 67,
   "metadata": {},
   "outputs": [],
   "source": [
    "df.to_csv(\"out/sab/ARCHS4.edges.csv\")"
   ]
  },
  {
   "cell_type": "code",
   "execution_count": null,
   "metadata": {},
   "outputs": [],
   "source": []
  }
 ],
 "metadata": {
  "kernelspec": {
   "display_name": "venv",
   "language": "python",
   "name": "python3"
  },
  "language_info": {
   "codemirror_mode": {
    "name": "ipython",
    "version": 3
   },
   "file_extension": ".py",
   "mimetype": "text/x-python",
   "name": "python",
   "nbconvert_exporter": "python",
   "pygments_lexer": "ipython3",
   "version": "3.10.14"
  }
 },
 "nbformat": 4,
 "nbformat_minor": 2
}
