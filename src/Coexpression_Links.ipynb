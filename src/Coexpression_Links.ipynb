{
 "cells": [
  {
   "cell_type": "code",
   "execution_count": 1,
   "metadata": {},
   "outputs": [],
   "source": [
    "import pandas as pd\n",
    "from glob import glob\n",
    "from tqdm import tqdm\n",
    "import csv\n",
    "import requests\n",
    "import os"
   ]
  },
  {
   "cell_type": "code",
   "execution_count": 2,
   "metadata": {},
   "outputs": [],
   "source": [
    "coexpression = pd.read_feather('https://s3.amazonaws.com/mssm-data/human_correlation_archs4.f')"
   ]
  },
  {
   "cell_type": "code",
   "execution_count": 3,
   "metadata": {},
   "outputs": [],
   "source": [
    "coexpression.index = coexpression.columns"
   ]
  },
  {
   "cell_type": "code",
   "execution_count": 4,
   "metadata": {},
   "outputs": [
    {
     "data": {
      "text/plain": [
       "(26415, 26415)"
      ]
     },
     "execution_count": 4,
     "metadata": {},
     "output_type": "execute_result"
    }
   ],
   "source": [
    "coexpression.shape"
   ]
  },
  {
   "cell_type": "code",
   "execution_count": 5,
   "metadata": {},
   "outputs": [
    {
     "name": "stderr",
     "output_type": "stream",
     "text": [
      "15807it [00:00, 43352.10it/s]\n",
      "13375it [00:00, 44262.42it/s]\n",
      "3983it [00:00, 40992.58it/s]\n",
      "4419it [00:00, 43333.66it/s]\n",
      "34579it [00:00, 43903.37it/s]\n",
      "677it [00:00, 38841.46it/s]\n",
      "4547it [00:00, 41155.23it/s]\n",
      "49987it [00:01, 47631.76it/s]\n"
     ]
    },
    {
     "name": "stdout",
     "output_type": "stream",
     "text": [
      "out/sab/MOTRPAC.Gene.nodes.csv\n"
     ]
    },
    {
     "name": "stderr",
     "output_type": "stream",
     "text": [
      "20997it [00:00, 41167.30it/s]\n",
      "301it [00:00, 37739.08it/s]\n",
      "34702it [00:00, 45659.38it/s]\n",
      "1061it [00:00, 42530.29it/s]\n"
     ]
    },
    {
     "name": "stdout",
     "output_type": "stream",
     "text": [
      "out/sab/NPO.Gene.nodes.csv\n"
     ]
    },
    {
     "name": "stderr",
     "output_type": "stream",
     "text": [
      "8334it [00:00, 53599.32it/s]\n"
     ]
    }
   ],
   "source": [
    "genes = {}\n",
    "for filename in glob('out/sab/*Gene.nodes.csv'):\n",
    "\tdf = pd.read_csv(filename, index_col=0)\n",
    "\tif 'HGNC' in df.columns:\n",
    "\t\tfor i, row in tqdm(df.iterrows()):\n",
    "\t\t\tif i not in genes:\n",
    "\t\t\t\tgenes[i] = {}\n",
    "\t\t\tgenes[i] = {**genes[i], **row}\n",
    "\telse: \n",
    "\t\tprint(filename)\n"
   ]
  },
  {
   "cell_type": "code",
   "execution_count": 6,
   "metadata": {},
   "outputs": [
    {
     "data": {
      "text/plain": [
       "57541"
      ]
     },
     "execution_count": 6,
     "metadata": {},
     "output_type": "execute_result"
    }
   ],
   "source": [
    "len(genes)"
   ]
  },
  {
   "cell_type": "code",
   "execution_count": 7,
   "metadata": {},
   "outputs": [],
   "source": [
    "gene_names = set(i['label'] for i in genes.values())"
   ]
  },
  {
   "cell_type": "code",
   "execution_count": 8,
   "metadata": {},
   "outputs": [
    {
     "data": {
      "text/plain": [
       "56635"
      ]
     },
     "execution_count": 8,
     "metadata": {},
     "output_type": "execute_result"
    }
   ],
   "source": [
    "len(gene_names)"
   ]
  },
  {
   "cell_type": "code",
   "execution_count": 9,
   "metadata": {},
   "outputs": [],
   "source": [
    "human_genes = gene_names.intersection(coexpression.columns)"
   ]
  },
  {
   "cell_type": "code",
   "execution_count": 10,
   "metadata": {},
   "outputs": [
    {
     "data": {
      "text/plain": [
       "20998"
      ]
     },
     "execution_count": 10,
     "metadata": {},
     "output_type": "execute_result"
    }
   ],
   "source": [
    "len(human_genes)"
   ]
  },
  {
   "cell_type": "code",
   "execution_count": 11,
   "metadata": {},
   "outputs": [],
   "source": [
    "genes_df = pd.DataFrame.from_dict(genes, orient='index')"
   ]
  },
  {
   "cell_type": "code",
   "execution_count": 12,
   "metadata": {},
   "outputs": [],
   "source": [
    "human_genes_df = genes_df[(genes_df.label.isin(human_genes)) & (~genes_df.HGNC.isna())]"
   ]
  },
  {
   "cell_type": "code",
   "execution_count": 13,
   "metadata": {},
   "outputs": [
    {
     "data": {
      "text/plain": [
       "(20997, 8)"
      ]
     },
     "execution_count": 13,
     "metadata": {},
     "output_type": "execute_result"
    }
   ],
   "source": [
    "human_genes_df.shape"
   ]
  },
  {
   "cell_type": "code",
   "execution_count": 14,
   "metadata": {},
   "outputs": [],
   "source": [
    "gene_id = {}\n",
    "for i,row in human_genes_df.iterrows():\n",
    "\tgene_id[row['label']] = i"
   ]
  },
  {
   "cell_type": "code",
   "execution_count": 15,
   "metadata": {},
   "outputs": [],
   "source": [
    "for i in glob(\"out/sab/*predicted*\"):\n",
    "\tprint(i)"
   ]
  },
  {
   "cell_type": "code",
   "execution_count": 16,
   "metadata": {},
   "outputs": [],
   "source": [
    "filtered_coex = coexpression.loc[human_genes_df.label, human_genes_df.label]"
   ]
  },
  {
   "cell_type": "code",
   "execution_count": 17,
   "metadata": {},
   "outputs": [
    {
     "name": "stderr",
     "output_type": "stream",
     "text": [
      "20997it [00:49, 428.48it/s]\n"
     ]
    }
   ],
   "source": [
    "relation = \"ARCHS4_coexpressed_genes\"\n",
    "with open(\"out/SAB/ARCHS4.edges.csv\", \"w\") as o:\n",
    "\tcsv_writer = csv.writer(o)\n",
    "\tcsv_writer.writerow([\"\", \"source\", \"target\", \"relation\", \"SAB\", \"evidence_class\", \"hidden\"])\n",
    "\tindex = 0\n",
    "\tfor uid, row in tqdm(human_genes_df.iterrows()):\n",
    "\t\tgene = row['label']\n",
    "\t\tval = coexpression[gene].sort_values(ascending=False)[1:]\n",
    "\t\tcount = 0\n",
    "\t\tfor coex, val in val.items():\n",
    "\t\t\tif coex != gene and coex in gene_id:\n",
    "\t\t\t\tcid = gene_id[coex]\n",
    "\t\t\t\tcsv_writer.writerow([index, uid, cid, relation, 'ARCHS4', val, \"true\"])\n",
    "\t\t\t\tcount += 1\n",
    "\t\t\tif count == 10:\n",
    "\t\t\t\tbreak\n",
    "\t\tindex += 1\n",
    "\n",
    "\n"
   ]
  },
  {
   "cell_type": "markdown",
   "metadata": {},
   "source": []
  },
  {
   "cell_type": "code",
   "execution_count": 18,
   "metadata": {},
   "outputs": [],
   "source": [
    "human_genes_df.to_csv(\"out/SAB/ARCHS4.Gene.nodes.csv\")"
   ]
  },
  {
   "cell_type": "code",
   "execution_count": 19,
   "metadata": {},
   "outputs": [],
   "source": [
    "import zlib\n",
    "import zipfile\n",
    "\n",
    "def compress(file_names, zip_name):\n",
    "    print(\"File Paths:\")\n",
    "    print(file_names)\n",
    "\n",
    "    path = \"out/sab/\"\n",
    "\n",
    "    # Select the compression mode ZIP_DEFLATED for compression\n",
    "    # or zipfile.ZIP_STORED to just store the file\n",
    "    compression = zipfile.ZIP_DEFLATED\n",
    "\n",
    "    # create the zip file first parameter path/name, second mode\n",
    "    zf = zipfile.ZipFile(\"out/compressed/%s.zip\"%zip_name, mode=\"w\")\n",
    "    try:\n",
    "        for file_name in file_names:\n",
    "            # Add file to the zip file\n",
    "            # first parameter file to zip, second filename in zip\n",
    "            zf.write(path + file_name, file_name, compress_type=compression)\n",
    "\n",
    "    except FileNotFoundError:\n",
    "        print(\"An error occurred\")\n",
    "    finally:\n",
    "        # Don't forget to close the file!\n",
    "        zf.close()"
   ]
  },
  {
   "cell_type": "code",
   "execution_count": 58,
   "metadata": {},
   "outputs": [
    {
     "name": "stdout",
     "output_type": "stream",
     "text": [
      "File Paths:\n",
      "['ARCHS4.Gene.nodes.csv', 'ARCHS4.edges.csv']\n"
     ]
    }
   ],
   "source": [
    "compress([\"ARCHS4.Gene.nodes.csv\", \"ARCHS4.edges.csv\"], \"ARCHS4\")"
   ]
  },
  {
   "cell_type": "markdown",
   "metadata": {},
   "source": [
    "## Predicted Links"
   ]
  },
  {
   "cell_type": "code",
   "execution_count": 20,
   "metadata": {},
   "outputs": [],
   "source": [
    "def fetch_and_save_library(library, file):\n",
    "  ''' Download file from {url}, save it to {file}, and subsequently read it with {reader} using pandas options on {**kwargs}.\n",
    "  '''\n",
    "  if not os.path.exists(file):\n",
    "    if os.path.dirname(file):\n",
    "      os.makedirs(os.path.dirname(file), exist_ok=True)\n",
    "    gmt_url = \"https://maayanlab.cloud/Enrichr/geneSetLibrary?mode=text&libraryName=%s\"%library\n",
    "    res = requests.get(gmt_url)\n",
    "    gmt = res.text\n",
    "    with open(file, 'w') as o:\n",
    "        o.write(gmt)\n",
    "  \n",
    "  with open(file) as o:\n",
    "    return o.read().strip().split(\"\\n\")"
   ]
  },
  {
   "cell_type": "code",
   "execution_count": 21,
   "metadata": {},
   "outputs": [],
   "source": [
    "library = \"LINCS_L1000_Chem_Pert_Consensus_Sigs\"\n",
    "gmt = fetch_and_save_library(library, \"gmt/%s\"%library)"
   ]
  },
  {
   "cell_type": "code",
   "execution_count": 22,
   "metadata": {},
   "outputs": [
    {
     "data": {
      "text/plain": [
       "(5425, 5425)"
      ]
     },
     "execution_count": 22,
     "metadata": {},
     "output_type": "execute_result"
    }
   ],
   "source": [
    "up_gene_sets = {}\n",
    "down_gene_sets = {}\n",
    "for line in gmt:\n",
    "\tannot, _ , *genes = line.split(\"\\t\")\n",
    "\tdirection = \"Up\" if \" Up\" in annot else \"Down\"\n",
    "\tlabel = annot.replace(\" %s\"%direction, \"\")\n",
    "\tif direction == \"Up\":\n",
    "\t\tup_gene_sets[label] = genes\n",
    "\tif direction == \"Down\":\n",
    "\t\tdown_gene_sets[label] = genes\n",
    "len(up_gene_sets), len(down_gene_sets)"
   ]
  },
  {
   "cell_type": "code",
   "execution_count": 23,
   "metadata": {},
   "outputs": [
    {
     "data": {
      "text/html": [
       "<div>\n",
       "<style scoped>\n",
       "    .dataframe tbody tr th:only-of-type {\n",
       "        vertical-align: middle;\n",
       "    }\n",
       "\n",
       "    .dataframe tbody tr th {\n",
       "        vertical-align: top;\n",
       "    }\n",
       "\n",
       "    .dataframe thead th {\n",
       "        text-align: right;\n",
       "    }\n",
       "</style>\n",
       "<table border=\"1\" class=\"dataframe\">\n",
       "  <thead>\n",
       "    <tr style=\"text-align: right;\">\n",
       "      <th></th>\n",
       "      <th>label</th>\n",
       "      <th>type</th>\n",
       "      <th>PUBCHEM</th>\n",
       "    </tr>\n",
       "  </thead>\n",
       "  <tbody>\n",
       "    <tr>\n",
       "      <th>83c01dbd-ecc3-593a-8b51-5b6d2ac2b4d9</th>\n",
       "      <td>Lucitanib</td>\n",
       "      <td>Compound</td>\n",
       "      <td>PUBCHEM:25031915</td>\n",
       "    </tr>\n",
       "    <tr>\n",
       "      <th>f1bfe06d-6336-5fb6-a0a3-0e6f8b72463f</th>\n",
       "      <td>vismodegib</td>\n",
       "      <td>Compound</td>\n",
       "      <td>PUBCHEM:24776445</td>\n",
       "    </tr>\n",
       "    <tr>\n",
       "      <th>a817b1e4-32c7-556c-9eb4-286b40acd9af</th>\n",
       "      <td>indirubin</td>\n",
       "      <td>Compound</td>\n",
       "      <td>PUBCHEM:5318433</td>\n",
       "    </tr>\n",
       "    <tr>\n",
       "      <th>0dd385a8-9364-5554-b32d-d79b7573f9b7</th>\n",
       "      <td>(+)-4-((alpha R)-((2S,5R)-4-allyl-2,5-dimethyl...</td>\n",
       "      <td>Compound</td>\n",
       "      <td>PUBCHEM:123924</td>\n",
       "    </tr>\n",
       "    <tr>\n",
       "      <th>09e0a3d6-d9f5-5118-8929-a46472085648</th>\n",
       "      <td>actinomycin-d</td>\n",
       "      <td>Compound</td>\n",
       "      <td>PUBCHEM:2019</td>\n",
       "    </tr>\n",
       "  </tbody>\n",
       "</table>\n",
       "</div>"
      ],
      "text/plain": [
       "                                                                                  label  \\\n",
       "83c01dbd-ecc3-593a-8b51-5b6d2ac2b4d9                                          Lucitanib   \n",
       "f1bfe06d-6336-5fb6-a0a3-0e6f8b72463f                                         vismodegib   \n",
       "a817b1e4-32c7-556c-9eb4-286b40acd9af                                          indirubin   \n",
       "0dd385a8-9364-5554-b32d-d79b7573f9b7  (+)-4-((alpha R)-((2S,5R)-4-allyl-2,5-dimethyl...   \n",
       "09e0a3d6-d9f5-5118-8929-a46472085648                                      actinomycin-d   \n",
       "\n",
       "                                          type           PUBCHEM  \n",
       "83c01dbd-ecc3-593a-8b51-5b6d2ac2b4d9  Compound  PUBCHEM:25031915  \n",
       "f1bfe06d-6336-5fb6-a0a3-0e6f8b72463f  Compound  PUBCHEM:24776445  \n",
       "a817b1e4-32c7-556c-9eb4-286b40acd9af  Compound   PUBCHEM:5318433  \n",
       "0dd385a8-9364-5554-b32d-d79b7573f9b7  Compound    PUBCHEM:123924  \n",
       "09e0a3d6-d9f5-5118-8929-a46472085648  Compound      PUBCHEM:2019  "
      ]
     },
     "execution_count": 23,
     "metadata": {},
     "output_type": "execute_result"
    }
   ],
   "source": [
    "nodes_df = pd.read_csv('out/sab/LINCS.Compound.nodes.csv', index_col=0)\n",
    "nodes_df.head()"
   ]
  },
  {
   "cell_type": "code",
   "execution_count": 24,
   "metadata": {},
   "outputs": [
    {
     "data": {
      "text/plain": [
       "(4518, (4523, 3))"
      ]
     },
     "execution_count": 24,
     "metadata": {},
     "output_type": "execute_result"
    }
   ],
   "source": [
    "node_id_mapper = {}\n",
    "for k,v in nodes_df.label.items():\n",
    "\tif v.lower() not in node_id_mapper:\n",
    "\t\tnode_id_mapper[v.lower()] = k\n",
    "len(node_id_mapper), nodes_df.shape"
   ]
  },
  {
   "cell_type": "code",
   "execution_count": 25,
   "metadata": {},
   "outputs": [
    {
     "data": {
      "text/plain": [
       "(3341, 2084)"
      ]
     },
     "execution_count": 25,
     "metadata": {},
     "output_type": "execute_result"
    }
   ],
   "source": [
    "gene_sets = up_gene_sets\n",
    "missing = set()\n",
    "matched = set()\n",
    "for l, genes in gene_sets.items():\n",
    "\tlabel = l.lower()\n",
    "\tif label not in node_id_mapper:\n",
    "\t\tmissing.add(label)\n",
    "\telse:\n",
    "\t\tmatched.add(label)\n",
    "len(matched), len(missing)\n",
    "\n"
   ]
  },
  {
   "cell_type": "code",
   "execution_count": 26,
   "metadata": {},
   "outputs": [],
   "source": [
    "with open(\"out/SAB/ARCHS4.edges.csv\", \"a\") as o:\n",
    "\tcsv_writer = csv.writer(o)\n",
    "\t# csv_writer.writerow([\"\", \"source\", \"target\", \"relation\", \"SAB\", \"evidence_class\", \"hi\"])\n",
    "\tindex = 0\n",
    "\trelation = \"ARCHS4_coexpressed_genes_LINCS_Up\"\n",
    "\tfor label, genes in up_gene_sets.items():\n",
    "\t\tl = label.lower()\n",
    "\t\tif l in node_id_mapper:\n",
    "\t\t\tuid = node_id_mapper[l]\n",
    "\t\t\tmatched_genes = list(set(genes).intersection(filtered_coex.index))\n",
    "\t\t\tmean_coex = filtered_coex[matched_genes].mean(1).sort_values(ascending=False)\n",
    "\t\t\tcount = 0\n",
    "\t\t\tfor coex, val in mean_coex.items():\n",
    "\t\t\t\tif coex != gene and coex in gene_id:\n",
    "\t\t\t\t\tcid = gene_id[coex]\n",
    "\t\t\t\t\tcsv_writer.writerow([index, uid, cid, relation, 'ARCHS4', val, \"true\"])\n",
    "\t\t\t\t\tcount += 1\n",
    "\t\t\t\tif count == 10:\n",
    "\t\t\t\t\tbreak\n",
    "\t\t\tindex += 1\n",
    "\t\n",
    "\trelation = \"ARCHS4_coexpressed_genes_LINCS_Down\"\n",
    "\tfor label, genes in down_gene_sets.items():\n",
    "\t\tl = label.lower()\n",
    "\t\tif l in node_id_mapper:\n",
    "\t\t\tmatched_genes = list(set(genes).intersection(filtered_coex.index))\n",
    "\t\t\tmean_coex = filtered_coex[matched_genes].mean(1).sort_values(ascending=False)\n",
    "\t\t\tcount = 0\n",
    "\t\t\tfor coex, val in mean_coex.items():\n",
    "\t\t\t\tif coex != gene and coex in gene_id:\n",
    "\t\t\t\t\tcid = gene_id[coex]\n",
    "\t\t\t\t\tcsv_writer.writerow([index, uid, cid, relation, 'ARCS4', val, \"true\"])\n",
    "\t\t\t\t\tcount += 1\n",
    "\t\t\t\tif count == 10:\n",
    "\t\t\t\t\tbreak\n",
    "\t\t\tindex += 1"
   ]
  },
  {
   "cell_type": "markdown",
   "metadata": {},
   "source": [
    "## MW"
   ]
  },
  {
   "cell_type": "code",
   "execution_count": 27,
   "metadata": {},
   "outputs": [],
   "source": [
    "library = \"Metabolomics_Workbench_Metabolites_2022\"\n",
    "gmt = fetch_and_save_library(library, \"gmt/%s\"%library)"
   ]
  },
  {
   "cell_type": "code",
   "execution_count": 28,
   "metadata": {},
   "outputs": [
    {
     "data": {
      "text/html": [
       "<div>\n",
       "<style scoped>\n",
       "    .dataframe tbody tr th:only-of-type {\n",
       "        vertical-align: middle;\n",
       "    }\n",
       "\n",
       "    .dataframe tbody tr th {\n",
       "        vertical-align: top;\n",
       "    }\n",
       "\n",
       "    .dataframe thead th {\n",
       "        text-align: right;\n",
       "    }\n",
       "</style>\n",
       "<table border=\"1\" class=\"dataframe\">\n",
       "  <thead>\n",
       "    <tr style=\"text-align: right;\">\n",
       "      <th></th>\n",
       "      <th>label</th>\n",
       "      <th>type</th>\n",
       "      <th>PUBCHEM</th>\n",
       "      <th>HMDB</th>\n",
       "      <th>PUBMED</th>\n",
       "    </tr>\n",
       "  </thead>\n",
       "  <tbody>\n",
       "    <tr>\n",
       "      <th>1482623c-3863-5b24-98f3-8f2bc7ba2d0d</th>\n",
       "      <td>trans-Zeatin</td>\n",
       "      <td>Metabolite</td>\n",
       "      <td>PUBCHEM:449093</td>\n",
       "      <td>NaN</td>\n",
       "      <td>NaN</td>\n",
       "    </tr>\n",
       "    <tr>\n",
       "      <th>81320127-4c07-5fdd-b96c-ee3160837e79</th>\n",
       "      <td>urea</td>\n",
       "      <td>Metabolite</td>\n",
       "      <td>PUBCHEM:1176</td>\n",
       "      <td>NaN</td>\n",
       "      <td>NaN</td>\n",
       "    </tr>\n",
       "    <tr>\n",
       "      <th>28a2d30c-d88c-575c-894f-e50ad71a17a9</th>\n",
       "      <td>Phe-Thr</td>\n",
       "      <td>Metabolite</td>\n",
       "      <td>PUBCHEM:145453498</td>\n",
       "      <td>NaN</td>\n",
       "      <td>NaN</td>\n",
       "    </tr>\n",
       "    <tr>\n",
       "      <th>ae0c3a8a-dc2b-5e88-aba3-22bbb4d6d40e</th>\n",
       "      <td>Dynorphin A</td>\n",
       "      <td>Metabolite</td>\n",
       "      <td>PUBCHEM:53481554</td>\n",
       "      <td>NaN</td>\n",
       "      <td>NaN</td>\n",
       "    </tr>\n",
       "    <tr>\n",
       "      <th>55f2e909-bf87-57d9-bce2-e734969adc66</th>\n",
       "      <td>clorazepate</td>\n",
       "      <td>Metabolite</td>\n",
       "      <td>PUBCHEM:2809</td>\n",
       "      <td>NaN</td>\n",
       "      <td>NaN</td>\n",
       "    </tr>\n",
       "  </tbody>\n",
       "</table>\n",
       "</div>"
      ],
      "text/plain": [
       "                                             label        type  \\\n",
       "1482623c-3863-5b24-98f3-8f2bc7ba2d0d  trans-Zeatin  Metabolite   \n",
       "81320127-4c07-5fdd-b96c-ee3160837e79          urea  Metabolite   \n",
       "28a2d30c-d88c-575c-894f-e50ad71a17a9       Phe-Thr  Metabolite   \n",
       "ae0c3a8a-dc2b-5e88-aba3-22bbb4d6d40e   Dynorphin A  Metabolite   \n",
       "55f2e909-bf87-57d9-bce2-e734969adc66   clorazepate  Metabolite   \n",
       "\n",
       "                                                PUBCHEM HMDB PUBMED  \n",
       "1482623c-3863-5b24-98f3-8f2bc7ba2d0d     PUBCHEM:449093  NaN    NaN  \n",
       "81320127-4c07-5fdd-b96c-ee3160837e79       PUBCHEM:1176  NaN    NaN  \n",
       "28a2d30c-d88c-575c-894f-e50ad71a17a9  PUBCHEM:145453498  NaN    NaN  \n",
       "ae0c3a8a-dc2b-5e88-aba3-22bbb4d6d40e   PUBCHEM:53481554  NaN    NaN  \n",
       "55f2e909-bf87-57d9-bce2-e734969adc66       PUBCHEM:2809  NaN    NaN  "
      ]
     },
     "execution_count": 28,
     "metadata": {},
     "output_type": "execute_result"
    }
   ],
   "source": [
    "nodes_df = pd.read_csv('out/sab/MW.Metabolite.nodes.csv', index_col=0)\n",
    "nodes_df.head()"
   ]
  },
  {
   "cell_type": "code",
   "execution_count": 29,
   "metadata": {},
   "outputs": [
    {
     "data": {
      "text/plain": [
       "233"
      ]
     },
     "execution_count": 29,
     "metadata": {},
     "output_type": "execute_result"
    }
   ],
   "source": [
    "gene_sets = {}\n",
    "for line in gmt:\n",
    "\tlabel, _ , *genes = line.split(\"\\t\")\n",
    "\tdirection = \"Up\" if \" Up\" in annot else \"Down\"\n",
    "\tgene_sets[label] = genes\n",
    "len(gene_sets)"
   ]
  },
  {
   "cell_type": "code",
   "execution_count": 30,
   "metadata": {},
   "outputs": [
    {
     "name": "stdout",
     "output_type": "stream",
     "text": [
      "8912 (9627, 5)\n"
     ]
    },
    {
     "data": {
      "text/plain": [
       "(156, 77)"
      ]
     },
     "execution_count": 30,
     "metadata": {},
     "output_type": "execute_result"
    }
   ],
   "source": [
    "node_id_mapper = {}\n",
    "for k,v in nodes_df.label.items():\n",
    "\tif v.lower() not in node_id_mapper:\n",
    "\t\tnode_id_mapper[v.lower()] = k\n",
    "print(len(node_id_mapper), nodes_df.shape)\n",
    "\n",
    "missing = set()\n",
    "matched = set()\n",
    "for l, genes in gene_sets.items():\n",
    "\tlabel = l.lower()\n",
    "\tif label not in node_id_mapper:\n",
    "\t\tmissing.add(label)\n",
    "\telse:\n",
    "\t\tmatched.add(label)\n",
    "len(matched), len(missing)\n",
    "\n"
   ]
  },
  {
   "cell_type": "code",
   "execution_count": 31,
   "metadata": {},
   "outputs": [],
   "source": [
    "with open(\"out/SAB/ARCHS4.edges.csv\", \"a\") as o:\n",
    "\tcsv_writer = csv.writer(o)\n",
    "\t# csv_writer.writerow([\"\", \"source\", \"target\", \"relation\", \"SAB\", \"evidence_class\", \"predicted\"])\n",
    "\tindex = 0\n",
    "\trelation = \"ARCHS4_coexpressed_genes_MW\"\n",
    "\tfor label, genes in gene_sets.items():\n",
    "\t\tl = label.lower()\n",
    "\t\tif l in node_id_mapper:\n",
    "\t\t\tuid = node_id_mapper[l]\n",
    "\t\t\tmatched_genes = list(set(genes).intersection(filtered_coex.index))\n",
    "\t\t\tmean_coex = filtered_coex[matched_genes].mean(1).sort_values(ascending=False)\n",
    "\t\t\tcount = 0\n",
    "\t\t\tfor coex, val in mean_coex.items():\n",
    "\t\t\t\tif coex != gene and coex in gene_id:\n",
    "\t\t\t\t\tcid = gene_id[coex]\n",
    "\t\t\t\t\tcsv_writer.writerow([index, uid, cid, relation, 'ARCHS4', val, \"true\"])\n",
    "\t\t\t\t\tcount += 1\n",
    "\t\t\t\tif count == 10:\n",
    "\t\t\t\t\tbreak\n",
    "\t\t\tindex += 1"
   ]
  },
  {
   "cell_type": "markdown",
   "metadata": {},
   "source": [
    "## GTEx\n",
    "GTex Signatures have multiple context. Should we have multiple edges or consensus?"
   ]
  },
  {
   "cell_type": "code",
   "execution_count": 54,
   "metadata": {},
   "outputs": [],
   "source": [
    "library = \"GTEx_Tissues_V8_2023\"\n",
    "gmt = fetch_and_save_library(library, \"gmt/%s\"%library)"
   ]
  },
  {
   "cell_type": "code",
   "execution_count": 70,
   "metadata": {},
   "outputs": [],
   "source": [
    "import re"
   ]
  },
  {
   "cell_type": "code",
   "execution_count": 72,
   "metadata": {},
   "outputs": [
    {
     "data": {
      "text/plain": [
       "511"
      ]
     },
     "execution_count": 72,
     "metadata": {},
     "output_type": "execute_result"
    }
   ],
   "source": [
    "# Issue: Different Context, Should I have consensus sigs????\n",
    "gene_sets = {}\n",
    "dirs = set()\n",
    "pattern = \"(?P<tissue>.*) (?P<sex>.*) (?P<age>[0-9]*-[0-9]*) (?P<direction>.*)\"\n",
    "for line in gmt:\n",
    "\tannot, _ , *genes = line.split(\"\\t\")\n",
    "\tdirection = \"Up\" if \" Up\" in annot else \"Down\"\n",
    "\tdirs.add(direction)\n",
    "\tlabel = annot.replace(\" %s\"%direction, \"\")\n",
    "\tgene_sets[label] = genes\n",
    "len(gene_sets)"
   ]
  },
  {
   "cell_type": "code",
   "execution_count": 75,
   "metadata": {},
   "outputs": [
    {
     "data": {
      "text/plain": [
       "{'tissue': 'Bladder Bo', 'sex': 'Female', 'age': '40-49', 'direction': 'Up'}"
      ]
     },
     "execution_count": 75,
     "metadata": {},
     "output_type": "execute_result"
    }
   ],
   "source": [
    "annot = \"Bladder Bo Female 40-49 Up\"\n",
    "re.match(pattern, annot).groupdict()"
   ]
  },
  {
   "cell_type": "code",
   "execution_count": 55,
   "metadata": {},
   "outputs": [
    {
     "data": {
      "text/html": [
       "<div>\n",
       "<style scoped>\n",
       "    .dataframe tbody tr th:only-of-type {\n",
       "        vertical-align: middle;\n",
       "    }\n",
       "\n",
       "    .dataframe tbody tr th {\n",
       "        vertical-align: top;\n",
       "    }\n",
       "\n",
       "    .dataframe thead th {\n",
       "        text-align: right;\n",
       "    }\n",
       "</style>\n",
       "<table border=\"1\" class=\"dataframe\">\n",
       "  <thead>\n",
       "    <tr style=\"text-align: right;\">\n",
       "      <th></th>\n",
       "      <th>label</th>\n",
       "      <th>type</th>\n",
       "      <th>LNC</th>\n",
       "      <th>UBERON</th>\n",
       "      <th>FMA</th>\n",
       "      <th>NCI</th>\n",
       "      <th>CHV</th>\n",
       "      <th>UWDA</th>\n",
       "      <th>MSH</th>\n",
       "      <th>EFO</th>\n",
       "    </tr>\n",
       "  </thead>\n",
       "  <tbody>\n",
       "    <tr>\n",
       "      <th>16a311cd-fb0f-5163-8979-3695d3683a4c</th>\n",
       "      <td>Subcutaneous Fat</td>\n",
       "      <td>Anatomy</td>\n",
       "      <td>NaN</td>\n",
       "      <td>UBERON:2190</td>\n",
       "      <td>FMA:74315</td>\n",
       "      <td>C33645</td>\n",
       "      <td>CHV:21586</td>\n",
       "      <td>UWDA:78251</td>\n",
       "      <td>D050151</td>\n",
       "      <td>NaN</td>\n",
       "    </tr>\n",
       "    <tr>\n",
       "      <th>714f924a-f3b5-51e1-a323-2a1b70dbf7d2</th>\n",
       "      <td>lymphoblast</td>\n",
       "      <td>Anatomy</td>\n",
       "      <td>MTHU015669</td>\n",
       "      <td>NaN</td>\n",
       "      <td>FMA:83030</td>\n",
       "      <td>C13013</td>\n",
       "      <td>CHV:22371</td>\n",
       "      <td>NaN</td>\n",
       "      <td>NaN</td>\n",
       "      <td>NaN</td>\n",
       "    </tr>\n",
       "    <tr>\n",
       "      <th>e186ef2e-b773-502f-87c6-d6f4606dbce1</th>\n",
       "      <td>Thyroid Gland</td>\n",
       "      <td>Anatomy</td>\n",
       "      <td>LP7636-6</td>\n",
       "      <td>UBERON:2046</td>\n",
       "      <td>FMA:9603</td>\n",
       "      <td>C160209</td>\n",
       "      <td>CHV:12262</td>\n",
       "      <td>UWDA:9603</td>\n",
       "      <td>D013961</td>\n",
       "      <td>NaN</td>\n",
       "    </tr>\n",
       "    <tr>\n",
       "      <th>724b2390-7f15-5de7-ab1c-094b1f2c88cb</th>\n",
       "      <td>Myocardium of left ventricle</td>\n",
       "      <td>Anatomy</td>\n",
       "      <td>NaN</td>\n",
       "      <td>UBERON:6566</td>\n",
       "      <td>FMA:9558</td>\n",
       "      <td>NaN</td>\n",
       "      <td>NaN</td>\n",
       "      <td>UWDA:9558</td>\n",
       "      <td>NaN</td>\n",
       "      <td>NaN</td>\n",
       "    </tr>\n",
       "    <tr>\n",
       "      <th>5f9a4728-3943-58de-842a-dada7e9cced4</th>\n",
       "      <td>lower leg skin</td>\n",
       "      <td>Anatomy</td>\n",
       "      <td>NaN</td>\n",
       "      <td>UBERON:4264</td>\n",
       "      <td>NaN</td>\n",
       "      <td>NaN</td>\n",
       "      <td>NaN</td>\n",
       "      <td>NaN</td>\n",
       "      <td>NaN</td>\n",
       "      <td>NaN</td>\n",
       "    </tr>\n",
       "  </tbody>\n",
       "</table>\n",
       "</div>"
      ],
      "text/plain": [
       "                                                             label     type  \\\n",
       "16a311cd-fb0f-5163-8979-3695d3683a4c              Subcutaneous Fat  Anatomy   \n",
       "714f924a-f3b5-51e1-a323-2a1b70dbf7d2                   lymphoblast  Anatomy   \n",
       "e186ef2e-b773-502f-87c6-d6f4606dbce1                 Thyroid Gland  Anatomy   \n",
       "724b2390-7f15-5de7-ab1c-094b1f2c88cb  Myocardium of left ventricle  Anatomy   \n",
       "5f9a4728-3943-58de-842a-dada7e9cced4                lower leg skin  Anatomy   \n",
       "\n",
       "                                             LNC       UBERON        FMA  \\\n",
       "16a311cd-fb0f-5163-8979-3695d3683a4c         NaN  UBERON:2190  FMA:74315   \n",
       "714f924a-f3b5-51e1-a323-2a1b70dbf7d2  MTHU015669          NaN  FMA:83030   \n",
       "e186ef2e-b773-502f-87c6-d6f4606dbce1    LP7636-6  UBERON:2046   FMA:9603   \n",
       "724b2390-7f15-5de7-ab1c-094b1f2c88cb         NaN  UBERON:6566   FMA:9558   \n",
       "5f9a4728-3943-58de-842a-dada7e9cced4         NaN  UBERON:4264        NaN   \n",
       "\n",
       "                                          NCI        CHV        UWDA      MSH  \\\n",
       "16a311cd-fb0f-5163-8979-3695d3683a4c   C33645  CHV:21586  UWDA:78251  D050151   \n",
       "714f924a-f3b5-51e1-a323-2a1b70dbf7d2   C13013  CHV:22371         NaN      NaN   \n",
       "e186ef2e-b773-502f-87c6-d6f4606dbce1  C160209  CHV:12262   UWDA:9603  D013961   \n",
       "724b2390-7f15-5de7-ab1c-094b1f2c88cb      NaN        NaN   UWDA:9558      NaN   \n",
       "5f9a4728-3943-58de-842a-dada7e9cced4      NaN        NaN         NaN      NaN   \n",
       "\n",
       "                                      EFO  \n",
       "16a311cd-fb0f-5163-8979-3695d3683a4c  NaN  \n",
       "714f924a-f3b5-51e1-a323-2a1b70dbf7d2  NaN  \n",
       "e186ef2e-b773-502f-87c6-d6f4606dbce1  NaN  \n",
       "724b2390-7f15-5de7-ab1c-094b1f2c88cb  NaN  \n",
       "5f9a4728-3943-58de-842a-dada7e9cced4  NaN  "
      ]
     },
     "execution_count": 55,
     "metadata": {},
     "output_type": "execute_result"
    }
   ],
   "source": [
    "nodes_df = pd.read_csv('out/sab/GTEXEQTL.Anatomy.nodes.csv', index_col=0)\n",
    "nodes_df.head()"
   ]
  },
  {
   "cell_type": "code",
   "execution_count": 57,
   "metadata": {},
   "outputs": [
    {
     "name": "stdout",
     "output_type": "stream",
     "text": [
      "48 (48, 10)\n"
     ]
    }
   ],
   "source": [
    "node_id_mapper = {}\n",
    "for k,v in nodes_df.label.items():\n",
    "\tif v.lower() not in node_id_mapper:\n",
    "\t\tnode_id_mapper[v.lower()] = k\n",
    "print(len(node_id_mapper), nodes_df.shape)"
   ]
  },
  {
   "cell_type": "code",
   "execution_count": 58,
   "metadata": {},
   "outputs": [
    {
     "data": {
      "text/html": [
       "<div>\n",
       "<style scoped>\n",
       "    .dataframe tbody tr th:only-of-type {\n",
       "        vertical-align: middle;\n",
       "    }\n",
       "\n",
       "    .dataframe tbody tr th {\n",
       "        vertical-align: top;\n",
       "    }\n",
       "\n",
       "    .dataframe thead th {\n",
       "        text-align: right;\n",
       "    }\n",
       "</style>\n",
       "<table border=\"1\" class=\"dataframe\">\n",
       "  <thead>\n",
       "    <tr style=\"text-align: right;\">\n",
       "      <th></th>\n",
       "      <th>label</th>\n",
       "      <th>type</th>\n",
       "      <th>LNC</th>\n",
       "      <th>UBERON</th>\n",
       "      <th>FMA</th>\n",
       "      <th>NCI</th>\n",
       "      <th>CHV</th>\n",
       "      <th>UWDA</th>\n",
       "      <th>MSH</th>\n",
       "      <th>EFO</th>\n",
       "    </tr>\n",
       "  </thead>\n",
       "  <tbody>\n",
       "    <tr>\n",
       "      <th>16a311cd-fb0f-5163-8979-3695d3683a4c</th>\n",
       "      <td>Subcutaneous Fat</td>\n",
       "      <td>Anatomy</td>\n",
       "      <td>NaN</td>\n",
       "      <td>UBERON:2190</td>\n",
       "      <td>FMA:74315</td>\n",
       "      <td>C33645</td>\n",
       "      <td>CHV:21586</td>\n",
       "      <td>UWDA:78251</td>\n",
       "      <td>D050151</td>\n",
       "      <td>NaN</td>\n",
       "    </tr>\n",
       "    <tr>\n",
       "      <th>714f924a-f3b5-51e1-a323-2a1b70dbf7d2</th>\n",
       "      <td>lymphoblast</td>\n",
       "      <td>Anatomy</td>\n",
       "      <td>MTHU015669</td>\n",
       "      <td>NaN</td>\n",
       "      <td>FMA:83030</td>\n",
       "      <td>C13013</td>\n",
       "      <td>CHV:22371</td>\n",
       "      <td>NaN</td>\n",
       "      <td>NaN</td>\n",
       "      <td>NaN</td>\n",
       "    </tr>\n",
       "    <tr>\n",
       "      <th>e186ef2e-b773-502f-87c6-d6f4606dbce1</th>\n",
       "      <td>Thyroid Gland</td>\n",
       "      <td>Anatomy</td>\n",
       "      <td>LP7636-6</td>\n",
       "      <td>UBERON:2046</td>\n",
       "      <td>FMA:9603</td>\n",
       "      <td>C160209</td>\n",
       "      <td>CHV:12262</td>\n",
       "      <td>UWDA:9603</td>\n",
       "      <td>D013961</td>\n",
       "      <td>NaN</td>\n",
       "    </tr>\n",
       "    <tr>\n",
       "      <th>724b2390-7f15-5de7-ab1c-094b1f2c88cb</th>\n",
       "      <td>Myocardium of left ventricle</td>\n",
       "      <td>Anatomy</td>\n",
       "      <td>NaN</td>\n",
       "      <td>UBERON:6566</td>\n",
       "      <td>FMA:9558</td>\n",
       "      <td>NaN</td>\n",
       "      <td>NaN</td>\n",
       "      <td>UWDA:9558</td>\n",
       "      <td>NaN</td>\n",
       "      <td>NaN</td>\n",
       "    </tr>\n",
       "    <tr>\n",
       "      <th>7dfd85af-bcd2-5186-9915-4bd01eee3537</th>\n",
       "      <td>Ascending aorta structure</td>\n",
       "      <td>Anatomy</td>\n",
       "      <td>LP7010-4</td>\n",
       "      <td>UBERON:1496</td>\n",
       "      <td>FMA:3736</td>\n",
       "      <td>C32150</td>\n",
       "      <td>CHV:1499</td>\n",
       "      <td>UWDA:3736</td>\n",
       "      <td>D001013</td>\n",
       "      <td>NaN</td>\n",
       "    </tr>\n",
       "  </tbody>\n",
       "</table>\n",
       "</div>"
      ],
      "text/plain": [
       "                                                             label     type  \\\n",
       "16a311cd-fb0f-5163-8979-3695d3683a4c              Subcutaneous Fat  Anatomy   \n",
       "714f924a-f3b5-51e1-a323-2a1b70dbf7d2                   lymphoblast  Anatomy   \n",
       "e186ef2e-b773-502f-87c6-d6f4606dbce1                 Thyroid Gland  Anatomy   \n",
       "724b2390-7f15-5de7-ab1c-094b1f2c88cb  Myocardium of left ventricle  Anatomy   \n",
       "7dfd85af-bcd2-5186-9915-4bd01eee3537     Ascending aorta structure  Anatomy   \n",
       "\n",
       "                                             LNC       UBERON        FMA  \\\n",
       "16a311cd-fb0f-5163-8979-3695d3683a4c         NaN  UBERON:2190  FMA:74315   \n",
       "714f924a-f3b5-51e1-a323-2a1b70dbf7d2  MTHU015669          NaN  FMA:83030   \n",
       "e186ef2e-b773-502f-87c6-d6f4606dbce1    LP7636-6  UBERON:2046   FMA:9603   \n",
       "724b2390-7f15-5de7-ab1c-094b1f2c88cb         NaN  UBERON:6566   FMA:9558   \n",
       "7dfd85af-bcd2-5186-9915-4bd01eee3537    LP7010-4  UBERON:1496   FMA:3736   \n",
       "\n",
       "                                          NCI        CHV        UWDA      MSH  \\\n",
       "16a311cd-fb0f-5163-8979-3695d3683a4c   C33645  CHV:21586  UWDA:78251  D050151   \n",
       "714f924a-f3b5-51e1-a323-2a1b70dbf7d2   C13013  CHV:22371         NaN      NaN   \n",
       "e186ef2e-b773-502f-87c6-d6f4606dbce1  C160209  CHV:12262   UWDA:9603  D013961   \n",
       "724b2390-7f15-5de7-ab1c-094b1f2c88cb      NaN        NaN   UWDA:9558      NaN   \n",
       "7dfd85af-bcd2-5186-9915-4bd01eee3537   C32150   CHV:1499   UWDA:3736  D001013   \n",
       "\n",
       "                                      EFO  \n",
       "16a311cd-fb0f-5163-8979-3695d3683a4c  NaN  \n",
       "714f924a-f3b5-51e1-a323-2a1b70dbf7d2  NaN  \n",
       "e186ef2e-b773-502f-87c6-d6f4606dbce1  NaN  \n",
       "724b2390-7f15-5de7-ab1c-094b1f2c88cb  NaN  \n",
       "7dfd85af-bcd2-5186-9915-4bd01eee3537  NaN  "
      ]
     },
     "execution_count": 58,
     "metadata": {},
     "output_type": "execute_result"
    }
   ],
   "source": [
    "nodes_df = pd.read_csv('out/sab/GTEXEXP.Anatomy.nodes.csv', index_col=0)\n",
    "nodes_df.head()"
   ]
  },
  {
   "cell_type": "code",
   "execution_count": 59,
   "metadata": {},
   "outputs": [
    {
     "name": "stdout",
     "output_type": "stream",
     "text": [
      "53 (44, 10)\n"
     ]
    }
   ],
   "source": [
    "for k,v in nodes_df.label.items():\n",
    "\tif v.lower() not in node_id_mapper:\n",
    "\t\tnode_id_mapper[v.lower()] = k\n",
    "print(len(node_id_mapper), nodes_df.shape)"
   ]
  },
  {
   "cell_type": "code",
   "execution_count": null,
   "metadata": {},
   "outputs": [],
   "source": [
    "missing = set()\n",
    "matched = set()\n",
    "for l, genes in gene_sets.items():\n",
    "\tlabel = l.lower()\n",
    "\tif label not in node_id_mapper:\n",
    "\t\tmissing.add(label)\n",
    "\telse:\n",
    "\t\tmatched.add(label)\n",
    "len(matched), len(missing)\n",
    "\n"
   ]
  },
  {
   "cell_type": "markdown",
   "metadata": {},
   "source": [
    "## IDG"
   ]
  },
  {
   "cell_type": "code",
   "execution_count": 32,
   "metadata": {},
   "outputs": [],
   "source": [
    "library = \"IDG_Drug_Targets_2022\"\n",
    "gmt = fetch_and_save_library(library, \"gmt/%s\"%library)"
   ]
  },
  {
   "cell_type": "code",
   "execution_count": 33,
   "metadata": {},
   "outputs": [
    {
     "data": {
      "text/plain": [
       "888"
      ]
     },
     "execution_count": 33,
     "metadata": {},
     "output_type": "execute_result"
    }
   ],
   "source": [
    "# Issue: Different Context, Should I have consensus sigs????\n",
    "gene_sets = {}\n",
    "dirs = set()\n",
    "for line in gmt:\n",
    "\tlabel, _ , *genes = line.split(\"\\t\")\n",
    "\tgene_sets[label] = genes\n",
    "len(gene_sets)"
   ]
  },
  {
   "cell_type": "code",
   "execution_count": 34,
   "metadata": {},
   "outputs": [
    {
     "data": {
      "text/html": [
       "<div>\n",
       "<style scoped>\n",
       "    .dataframe tbody tr th:only-of-type {\n",
       "        vertical-align: middle;\n",
       "    }\n",
       "\n",
       "    .dataframe tbody tr th {\n",
       "        vertical-align: top;\n",
       "    }\n",
       "\n",
       "    .dataframe thead th {\n",
       "        text-align: right;\n",
       "    }\n",
       "</style>\n",
       "<table border=\"1\" class=\"dataframe\">\n",
       "  <thead>\n",
       "    <tr style=\"text-align: right;\">\n",
       "      <th></th>\n",
       "      <th>label</th>\n",
       "      <th>type</th>\n",
       "      <th>PUBCHEM</th>\n",
       "    </tr>\n",
       "  </thead>\n",
       "  <tbody>\n",
       "    <tr>\n",
       "      <th>a4b7096e-14a6-5b32-918d-e3bbfbce8549</th>\n",
       "      <td>(R)-N-(1-(1-(4-(3-cyano-1H-indazol-1-yl)-2-flu...</td>\n",
       "      <td>Compound</td>\n",
       "      <td>PUBCHEM:56676610</td>\n",
       "    </tr>\n",
       "    <tr>\n",
       "      <th>f44958e6-f175-5419-935f-22497387f77d</th>\n",
       "      <td>1-(2-Benzyl-allyl)-4-[2-[bis(4-fluorophenyl)me...</td>\n",
       "      <td>Compound</td>\n",
       "      <td>PUBCHEM:24825331</td>\n",
       "    </tr>\n",
       "    <tr>\n",
       "      <th>90ee6480-4a38-5997-b682-dc6b62f0094e</th>\n",
       "      <td>(S)-2-Acetylamino-4-methyl-pentanoic acid ((S)...</td>\n",
       "      <td>Compound</td>\n",
       "      <td>PUBCHEM:18458068</td>\n",
       "    </tr>\n",
       "    <tr>\n",
       "      <th>938524b6-fadb-5a3a-8587-fc6417860903</th>\n",
       "      <td>3-(2'-((2-chloro-2'-methyl-4'-(trifluoromethyl...</td>\n",
       "      <td>Compound</td>\n",
       "      <td>PUBCHEM:122190362</td>\n",
       "    </tr>\n",
       "    <tr>\n",
       "      <th>7f325250-92f8-519d-a51d-59ae53f2778f</th>\n",
       "      <td>US9409907, 183</td>\n",
       "      <td>Compound</td>\n",
       "      <td>PUBCHEM:73386889</td>\n",
       "    </tr>\n",
       "  </tbody>\n",
       "</table>\n",
       "</div>"
      ],
      "text/plain": [
       "                                                                                  label  \\\n",
       "a4b7096e-14a6-5b32-918d-e3bbfbce8549  (R)-N-(1-(1-(4-(3-cyano-1H-indazol-1-yl)-2-flu...   \n",
       "f44958e6-f175-5419-935f-22497387f77d  1-(2-Benzyl-allyl)-4-[2-[bis(4-fluorophenyl)me...   \n",
       "90ee6480-4a38-5997-b682-dc6b62f0094e  (S)-2-Acetylamino-4-methyl-pentanoic acid ((S)...   \n",
       "938524b6-fadb-5a3a-8587-fc6417860903  3-(2'-((2-chloro-2'-methyl-4'-(trifluoromethyl...   \n",
       "7f325250-92f8-519d-a51d-59ae53f2778f                                     US9409907, 183   \n",
       "\n",
       "                                          type            PUBCHEM  \n",
       "a4b7096e-14a6-5b32-918d-e3bbfbce8549  Compound   PUBCHEM:56676610  \n",
       "f44958e6-f175-5419-935f-22497387f77d  Compound   PUBCHEM:24825331  \n",
       "90ee6480-4a38-5997-b682-dc6b62f0094e  Compound   PUBCHEM:18458068  \n",
       "938524b6-fadb-5a3a-8587-fc6417860903  Compound  PUBCHEM:122190362  \n",
       "7f325250-92f8-519d-a51d-59ae53f2778f  Compound   PUBCHEM:73386889  "
      ]
     },
     "execution_count": 34,
     "metadata": {},
     "output_type": "execute_result"
    }
   ],
   "source": [
    "nodes_df = pd.read_csv('out/sab/IDGP.Compound.nodes.csv', index_col=0)\n",
    "nodes_df.head()"
   ]
  },
  {
   "cell_type": "code",
   "execution_count": 35,
   "metadata": {},
   "outputs": [
    {
     "name": "stdout",
     "output_type": "stream",
     "text": [
      "322568 (324293, 3)\n"
     ]
    }
   ],
   "source": [
    "node_id_mapper = {}\n",
    "for k,v in nodes_df.label.items():\n",
    "\tif v.lower() not in node_id_mapper:\n",
    "\t\tnode_id_mapper[v.lower()] = k\n",
    "print(len(node_id_mapper), nodes_df.shape)\n",
    "\n"
   ]
  },
  {
   "cell_type": "code",
   "execution_count": 36,
   "metadata": {},
   "outputs": [
    {
     "data": {
      "text/html": [
       "<div>\n",
       "<style scoped>\n",
       "    .dataframe tbody tr th:only-of-type {\n",
       "        vertical-align: middle;\n",
       "    }\n",
       "\n",
       "    .dataframe tbody tr th {\n",
       "        vertical-align: top;\n",
       "    }\n",
       "\n",
       "    .dataframe thead th {\n",
       "        text-align: right;\n",
       "    }\n",
       "</style>\n",
       "<table border=\"1\" class=\"dataframe\">\n",
       "  <thead>\n",
       "    <tr style=\"text-align: right;\">\n",
       "      <th></th>\n",
       "      <th>label</th>\n",
       "      <th>type</th>\n",
       "      <th>PUBCHEM</th>\n",
       "    </tr>\n",
       "  </thead>\n",
       "  <tbody>\n",
       "    <tr>\n",
       "      <th>a4b7096e-14a6-5b32-918d-e3bbfbce8549</th>\n",
       "      <td>(R)-N-(1-(1-(4-(3-cyano-1H-indazol-1-yl)-2-flu...</td>\n",
       "      <td>Compound</td>\n",
       "      <td>PUBCHEM:56676610</td>\n",
       "    </tr>\n",
       "    <tr>\n",
       "      <th>f44958e6-f175-5419-935f-22497387f77d</th>\n",
       "      <td>1-(2-Benzyl-allyl)-4-[2-[bis(4-fluorophenyl)me...</td>\n",
       "      <td>Compound</td>\n",
       "      <td>PUBCHEM:24825331</td>\n",
       "    </tr>\n",
       "    <tr>\n",
       "      <th>90ee6480-4a38-5997-b682-dc6b62f0094e</th>\n",
       "      <td>(S)-2-Acetylamino-4-methyl-pentanoic acid ((S)...</td>\n",
       "      <td>Compound</td>\n",
       "      <td>PUBCHEM:18458068</td>\n",
       "    </tr>\n",
       "    <tr>\n",
       "      <th>938524b6-fadb-5a3a-8587-fc6417860903</th>\n",
       "      <td>3-(2'-((2-chloro-2'-methyl-4'-(trifluoromethyl...</td>\n",
       "      <td>Compound</td>\n",
       "      <td>PUBCHEM:122190362</td>\n",
       "    </tr>\n",
       "    <tr>\n",
       "      <th>7f325250-92f8-519d-a51d-59ae53f2778f</th>\n",
       "      <td>US9409907, 183</td>\n",
       "      <td>Compound</td>\n",
       "      <td>PUBCHEM:73386889</td>\n",
       "    </tr>\n",
       "  </tbody>\n",
       "</table>\n",
       "</div>"
      ],
      "text/plain": [
       "                                                                                  label  \\\n",
       "a4b7096e-14a6-5b32-918d-e3bbfbce8549  (R)-N-(1-(1-(4-(3-cyano-1H-indazol-1-yl)-2-flu...   \n",
       "f44958e6-f175-5419-935f-22497387f77d  1-(2-Benzyl-allyl)-4-[2-[bis(4-fluorophenyl)me...   \n",
       "90ee6480-4a38-5997-b682-dc6b62f0094e  (S)-2-Acetylamino-4-methyl-pentanoic acid ((S)...   \n",
       "938524b6-fadb-5a3a-8587-fc6417860903  3-(2'-((2-chloro-2'-methyl-4'-(trifluoromethyl...   \n",
       "7f325250-92f8-519d-a51d-59ae53f2778f                                     US9409907, 183   \n",
       "\n",
       "                                          type            PUBCHEM  \n",
       "a4b7096e-14a6-5b32-918d-e3bbfbce8549  Compound   PUBCHEM:56676610  \n",
       "f44958e6-f175-5419-935f-22497387f77d  Compound   PUBCHEM:24825331  \n",
       "90ee6480-4a38-5997-b682-dc6b62f0094e  Compound   PUBCHEM:18458068  \n",
       "938524b6-fadb-5a3a-8587-fc6417860903  Compound  PUBCHEM:122190362  \n",
       "7f325250-92f8-519d-a51d-59ae53f2778f  Compound   PUBCHEM:73386889  "
      ]
     },
     "execution_count": 36,
     "metadata": {},
     "output_type": "execute_result"
    }
   ],
   "source": [
    "nodes_df = pd.read_csv('out/sab/IDGP.Compound.nodes.csv', index_col=0)\n",
    "nodes_df.head()"
   ]
  },
  {
   "cell_type": "code",
   "execution_count": 37,
   "metadata": {},
   "outputs": [
    {
     "name": "stdout",
     "output_type": "stream",
     "text": [
      "322568\n"
     ]
    }
   ],
   "source": [
    "for k,v in nodes_df.label.items():\n",
    "\tif v.lower() not in node_id_mapper:\n",
    "\t\tnode_id_mapper[v.lower()] = k\n",
    "print(len(node_id_mapper))\n",
    "\n"
   ]
  },
  {
   "cell_type": "code",
   "execution_count": 38,
   "metadata": {},
   "outputs": [
    {
     "data": {
      "text/plain": [
       "(444, 444)"
      ]
     },
     "execution_count": 38,
     "metadata": {},
     "output_type": "execute_result"
    }
   ],
   "source": [
    "missing = set()\n",
    "matched = set()\n",
    "for l, genes in gene_sets.items():\n",
    "\tlabel = l.lower()\n",
    "\tif label not in node_id_mapper:\n",
    "\t\tmissing.add(label)\n",
    "\telse:\n",
    "\t\tmatched.add(label)\n",
    "len(matched), len(missing)\n",
    "\n"
   ]
  },
  {
   "cell_type": "code",
   "execution_count": 39,
   "metadata": {},
   "outputs": [],
   "source": [
    "with open(\"out/SAB/ARCHS4.edges.csv\", \"a\") as o:\n",
    "\tcsv_writer = csv.writer(o)\n",
    "\t# csv_writer.writerow([\"\", \"source\", \"target\", \"relation\", \"SAB\", \"evidence_class\", \"predicted\"])\n",
    "\tindex = 0\n",
    "\trelation = \"ARCHS4_coexpressed_genes_IDG\"\n",
    "\tfor label, genes in gene_sets.items():\n",
    "\t\tl = label.lower()\n",
    "\t\tif l in node_id_mapper:\n",
    "\t\t\tuid = node_id_mapper[l]\n",
    "\t\t\tmatched_genes = list(set(genes).intersection(filtered_coex.index))\n",
    "\t\t\tmean_coex = filtered_coex[matched_genes].mean(1).sort_values(ascending=False)\n",
    "\t\t\tcount = 0\n",
    "\t\t\tfor coex, val in mean_coex.items():\n",
    "\t\t\t\tif coex != gene and coex in gene_id:\n",
    "\t\t\t\t\tcid = gene_id[coex]\n",
    "\t\t\t\t\tcsv_writer.writerow([index, uid, cid, relation, 'ARCHS4', val, \"true\"])\n",
    "\t\t\t\t\tcount += 1\n",
    "\t\t\t\tif count == 10:\n",
    "\t\t\t\t\tbreak\n",
    "\t\t\tindex += 1"
   ]
  },
  {
   "cell_type": "markdown",
   "metadata": {},
   "source": [
    "## HuBMAP"
   ]
  },
  {
   "cell_type": "code",
   "execution_count": 40,
   "metadata": {},
   "outputs": [],
   "source": [
    "library = \"HuBMAP_ASCTplusB_augmented_2022\"\n",
    "gmt = fetch_and_save_library(library, \"gmt/%s\"%library)"
   ]
  },
  {
   "cell_type": "code",
   "execution_count": 41,
   "metadata": {},
   "outputs": [
    {
     "data": {
      "text/plain": [
       "777"
      ]
     },
     "execution_count": 41,
     "metadata": {},
     "output_type": "execute_result"
    }
   ],
   "source": [
    "gene_sets = {}\n",
    "dirs = set()\n",
    "for line in gmt:\n",
    "\tlabel, _ , *genes = line.split(\"\\t\")\n",
    "\tgene_sets[label] = genes\n",
    "len(gene_sets)"
   ]
  },
  {
   "cell_type": "code",
   "execution_count": 42,
   "metadata": {},
   "outputs": [
    {
     "data": {
      "text/plain": [
       "'Hillock Cell Of Prostatic urethra - Prostate Gland'"
      ]
     },
     "execution_count": 42,
     "metadata": {},
     "output_type": "execute_result"
    }
   ],
   "source": [
    "label"
   ]
  },
  {
   "cell_type": "code",
   "execution_count": 43,
   "metadata": {},
   "outputs": [
    {
     "data": {
      "text/plain": [
       "dict_keys(['Paneth Cell Of Epithelium Proper Of Small intestine - Small Intestine', 'Duodenal Goblet cell - Small Intestine', 'Tuft cell - Small Intestine', 'absorptive - Small Intestine', 'enterocyte - Small Intestine', 'Endocrine Lineage cell - Small Intestine', 'Stem cell - Small Intestine', 'endothelial - Small Intestine', 'myofibroblast - Small Intestine', 'fibroblast - Small Intestine', 'B cell - Small Intestine', 'plasma - Small Intestine', 'CD4+ T - Small Intestine', 'Regulatory CD4+ T - Small Intestine', 'CD8+ T - Small Intestine', 'macrophage - Small Intestine', 'Mast cell - Small Intestine', 'fibroblasts - Small Intestine', 'Endothelial cells - Small Intestine', 'Epithelial Stem cells - Small Intestine', 'Paneth - Small Intestine', 'endocrine - Small Intestine', 'Jejunal Goblet cell - Small Intestine', 'enterocytes - Small Intestine', 'Tuft cells - Small Intestine', 'myofibroblasts - Small Intestine', 'macrophages - Small Intestine', 'Mast cells - Small Intestine', 'endoethlial - Small Intestine', 'goblet - Small Intestine', 'Endothelial Cell Of Hepatic sinusoid - Liver', 'Kupffer cell - Liver', 'Hepatic Stellate cell - Liver', 'hepatocyte - Liver', 'Periportal Region hepatocyte - Liver', 'Centrilobular Region hepatocyte - Liver', 'Vein Endothelial cell - Liver', 'Stratified Cuboidal Epithelial cell - Liver', 'Columnar/Cuboidal Epithelial cell - Liver', 'Afferent neuron - Liver', 'Endothelial Cell Of artery - Liver', 'Portal fibroblast - Liver', 'Hepatic Oval Stem cell - Liver', 'Dendritic Cell, human - Liver', 'Conventional Dendritic cell - Liver', 'CD1c-positive Myeloid Dendritic cell - Liver', 'Plasmacytoid Dendritic cell - Liver', 'CD8 TRm (Residence memory) - Liver', 'CD4-positive, Alpha-Beta T cell - Liver', 'CD8-positive, Alpha-Beta Memory T Cell, CD45RO-positive - Liver', 'Type I NK T cell - Liver', 'Eomes Low Liver NK cell - Liver', 'TBet Low Liver NK cell - Liver', 'Natural Killer cell - Liver', 'Hepatic Pit cell - Liver', 'Articular chondrocyte - Knee', 'Hypertrophic chondrocyte - Knee', 'Residual Hypertrophic Chondrocytes - Knee', 'osteocyte - Knee', 'osteoblast - Knee', 'Multinuclear osteoclast - Knee', 'Epithelial Cell Of amnion - Placenta', 'Embryonic fibroblast - Placenta', 'Extravillous trophoblast - Placenta', 'Endometrial Epithelial Cells - Placenta', 'Endometrial Stromal Cells (decidua) - Placenta', 'Endothelial cell - Placenta', 'Uterine NK Cells - Placenta', 'Uterine macrophage - Placenta', 'Regulatory T Cell - Placenta', 'Cytotoxic T Cell - Placenta', 'B Cell (Including Plasma cells) - Placenta', 'Syncytiotrophoblast cell - Placenta', 'Mononuclear Cytotrophoblast cell - Placenta', 'Hofbauer cell - Placenta', 'Placental Stromal Cells - Placenta', 'Placental Microvascular Endothelial Cells - Placenta', 'Stromal Cell Of endometrium - Placenta', 'Amacrine cell - Eye', 'Glutamic Acid Decarboxylase 65 cell - Eye', 'A8 Bistratified Small-Field cell - Eye', 'Wide Field cell - Eye', 'Semilunar Type 1 cell - Eye', 'Semilunar Type 3 cell - Eye', 'Semilunar cell - Eye', 'Starburst Amacrine cell - Eye', 'Retinal Bipolar neuron - Eye', 'Blue Cone Bipolar cell - Eye', 'Diffuse Bipolar 1 (DB1) - Eye', 'Diffuse Bipolar 2 cell - Eye', 'Diffuse Bipolar 3A cell - Eye', 'Diffuse Bipolar 3B cell - Eye', 'Diffuse Bipolar 4 cell - Eye', 'Flat Midget Bipolar cell - Eye', 'Invaginating Bipolar cell - Eye', 'ON-bipolar cell - Eye', 'Rod Bipolar cell - Eye', 'Capillary Layer Of choroid - Eye', 'Retinal Cone cell - Eye', 'Retinal Blood Vessel Endothelial cell - Eye', 'Retinal Ganglion cell - Eye', 'Primary Lens fiber - Eye', 'Retina Horizontal cell - Eye', 'Lens Epithelial cell - Eye', 'Lens Fiber cell - Eye', 'Secondary Lens fiber - Eye', 'Obsolete Muller cell - Eye', 'Retinal Rod cell - Eye', 'Retinal Pigment Epithelial cell - Eye', 'Corneal Endothelial cell - Eye', 'keratocyte - Eye', 'telocyte - Eye', 'Corneal Epithelial cell - Eye', 'Basal Cell Of Epithelium Of trachea - Respiratory System', 'Tracheal Goblet cell - Respiratory System', 'Brush Cell Of trachea - Respiratory System', 'Ciliated Columnar Cell Of Tracheobronchial tree - Respiratory System', 'Dense-Core Granulated Cell Of Epithelium Of trachea - Respiratory System', 'Serous Cell Of Epithelium Of trachea - Respiratory System', 'Smooth Muscle Cell Of trachea - Respiratory System', 'Submucosal Gland Ciliated Duct cells - Respiratory System', 'Submucosal Gland Basal cells - Respiratory System', 'Submucosal Gland secretory - Respiratory System', 'Submucosal Gland Collecting Duct epithelium - Respiratory System', 'Submucosal Gland Mucous cells - Respiratory System', 'Submucosal Gland Serous cells - Respiratory System', 'Myoepithelial cell - Respiratory System', 'Tracheobronchial chondrocyte - Respiratory System', 'Endothelial Cell Of artery - Respiratory System', 'Blood Vessel Smooth Muscle cell - Respiratory System', 'Venous Endothelial cell - Respiratory System', 'Ciliated Cell Of The bronchus - Respiratory System', 'Basal Epithelial Cell Of Tracheobronchial tree - Respiratory System', 'Lung Goblet cell - Respiratory System', 'Lung Neuroendocrine cell - Respiratory System', 'Brush Cell Of Trachebronchial tree - Respiratory System', 'Pulmonary ionocyte - Respiratory System', 'Serous Cell Of Epithelium Of bronchus - Respiratory System', 'Bronchial Smooth Muscle cell - Respiratory System', 'Pulmonary Artery Endothelial cell - Respiratory System', 'Smooth Muscle Cell Of The Pulmonary artery - Respiratory System', 'Tracheobronchial Smooth Muscle cell - Respiratory System', 'Club cell - Respiratory System', 'Basal Cells Of Terminal Ciliated Ducts Of Submucosal glands - Respiratory System', 'Ciliated Cuboidal epithelium - Respiratory System', 'Serous Cell Of Epithelium Of Lobular bronchiole - Respiratory System', 'Smooth Muscle cells - Respiratory System', 'Basal Cell Of Epithelium Of Lobular bronchiole - Respiratory System', 'Serous Cell Of Epithelium Of Terminal bronchiole - Respiratory System', 'Basal Cell Of Epithelium Of Terminal bronchiole - Respiratory System', 'Bronchioalveolar Stem cells - Respiratory System', 'Lung Matrix Fibroblast 2 - Respiratory System', 'Matrix Fibroblast 1/(Lipofibroblast) - Respiratory System', 'Type I pneumocyte - Respiratory System', 'Type II pneumocyte - Respiratory System', 'Myofibroblast cell - Respiratory System', 'Pericyte cell - Respiratory System', 'CAP1 - Respiratory System', 'CAP2 - Respiratory System', 'Pulmonary Venous Endothelial cell - Respiratory System', 'Adult Endothelial Progenitor cell - Respiratory System', 'Endothelial Cell Of Lymphatic vessel - Respiratory System', 'Mesothelial Cell Of Visceral pleura - Respiratory System', 'basal - Respiratory System', 'Alveolar macrophage - Respiratory System', 'Interstitial macrophage - Respiratory System', 'Connective Tissue Type Mast cell - Respiratory System', 'Mucosal Type Mast cell - Respiratory System', 'Classical monocyte - Respiratory System', 'Non-Classical monocyte - Respiratory System', 'basophil - Respiratory System', 'Lung Parenchyma Resident eosinophil - Respiratory System', 'granulocyte - Respiratory System', 'T cell - Respiratory System', 'Resident Memory CD8 T cell - Respiratory System', 'B cell - Respiratory System', 'Plasma cell - Respiratory System', 'Natural Killer cell - Respiratory System', 'CD141-positive Myeloid Dendritic cell - Respiratory System', 'CD1c-positive Myeloid Dendritic cell - Respiratory System', 'Plasmacytoid Dendritic cell - Respiratory System', 'Regulatory T cell - Respiratory System', 'Naive Thymus-Derived CD4-positive, Alpha-Beta T cell - Respiratory System', 'Naive Thymus-Derived CD8-positive, Alpha-Beta T cell - Respiratory System', 'Central Memory CD4-positive, Alpha-Beta T cell - Respiratory System', 'Central Memory CD8-positive, Alpha-Beta T cell - Respiratory System', 'Mucosal Invariant T cell - Respiratory System', 'CD16-negative, CD56-bright Natural Killer cell - Respiratory System', 'megakaryocyte - Respiratory System', 'Keratinocyte (Corneocyte) - Skin', 'keratinocyte - Skin', 'Epidermal Langerhans cell - Skin', 'Prickle cell - Skin', 'Merkel cell - Skin', 'Basal cell - Skin', 'Melanocyte Of skin - Skin', 'Keratinocyte (Onychocyte) - Skin', 'Keratinocyte Stem cell - Skin', 'Secretory cell - Skin', 'Myoepithelial Cell Of Sweat gland - Skin', 'Skin fibroblast - Skin', 'Mast cell - Skin', 'Dermal Dendritic cell - Skin', 'macrophage - Skin', 'T-helper 1 cell - Skin', 'Cytotoxic T cell - Skin', 'Regulatory T cell - Skin', 'Natural Killer cell - Skin', 'Group 1 Innate Lymphoid cell - Skin', 'Group 2 Innate Lymphoid cell - Skin', 'Group 3 Innate Lymphoid cell - Skin', 'B cell - Skin', 'Plasma cell - Skin', 'neutrophil - Skin', 'eosinophil - Skin', 'neuron - Skin', 'Schwann cell - Skin', 'Perineurial cells - Skin', 'Endothelial cell - Skin', 'Vascular Associated Smooth Muscle cell - Skin', 'Type I Cell Of Carotid body - Skin', 'Pericyte cell - Skin', 'Endothelial Cell Of Lymphatic vessel - Skin', 'Subcutaneous Fat cell - Skin', 'Perineural cell - Skin', 'Uterine Smooth Muscle cell - Uterus', 'Endothelial cell - Uterus', 'SOX9+ Epithelial cell - Uterus', 'Ciliated Epithelial cell - Uterus', 'Glandular Epithelial cell - Uterus', 'Luminal Epithelial cell - Uterus', 'Stromal cell - Uterus', 'Perivascular Support cell - Uterus', 'macrophage - Uterus', 'lymphocyte - Uterus', 'Uterine Natural Killer cell - Uterus', 'Uterine Dendritic cells - Uterus', 'B cell - Uterus', 'T cell - Uterus', 'Innate Lymphoid cell - Uterus', 'Mast cell - Uterus', 'Thymic Capsular fibroblast - Thoracic Thymus', 'macrophage - Thoracic Thymus', 'Blood Vessel Endothelial cell - Thoracic Thymus', 'Thymic Interlobular fibroblast - Thoracic Thymus', 'Erythroid Lineage cell - Thoracic Thymus', 'Mast cell - Thoracic Thymus', 'Early T Lineage precursor - Thoracic Thymus', 'Double Negative Thymocyte 2 - Thoracic Thymus', 'Double Negative Thymocyte 3 - Thoracic Thymus', 'Double Negative Thymocyte 4 - Thoracic Thymus', 'Thymic Cortical macrophage - Thoracic Thymus', 'Double-Positive, Alpha-Beta thymocyte - Thoracic Thymus', 'Thymic Plasmacytoid Dendritic cell - Thoracic Thymus', 'Cortical Thymic Epithelial cell - Thoracic Thymus', 'Unswitched Memory B cell - Thoracic Thymus', 'Class Switched Memory B cell - Thoracic Thymus', 'Plasma cell - Thoracic Thymus', 'monocyte - Thoracic Thymus', 'Mature CD4 Single-Positive thymocyte - Thoracic Thymus', 'Mature CD8 Single-Positive thymocyte - Thoracic Thymus', 'Thymic macrophage - Thoracic Thymus', 'CD8alpha-positive Thymic Conventional Dendritic cell - Thoracic Thymus', 'CD8alpha-negative Thymic Conventional Dendritic cell - Thoracic Thymus', 'Endothelial Cell Of Lymphatic vessel - Thoracic Thymus', 'Corticomedullary Thymic Epithelial cell - Thoracic Thymus', 'CD4-positive, Alpha-Beta Cytotoxic T cell - Thoracic Thymus', 'CD4-positive, Alpha-Beta Memory T cell - Thoracic Thymus', 'CD8-positive, Alpha-Beta Memory T cell - Thoracic Thymus', 'CD8aa(I) thymocyte - Thoracic Thymus', 'CD8aa(II) thymocyte - Thoracic Thymus', 'T Follicular Helper cell - Thoracic Thymus', 'Naive Regulatory T cell - Thoracic Thymus', 'Gamma-Delta T cell - Thoracic Thymus', 'T-helper 17 cell - Thoracic Thymus', 'Immature NK T cell - Thoracic Thymus', 'Thymic Medullary macrophage - Thoracic Thymus', 'Naive B cell - Thoracic Thymus', 'Group 3 Innate Lymphoid Cell, human - Thoracic Thymus', 'Natural Killer cell - Thoracic Thymus', 'Medullary Thymic Epithelial Cell Type 1 - Thoracic Thymus', 'Medullary Thymic Epithelial Cell Type 2 - Thoracic Thymus', 'Medullary Thymic Epithelial Cell Type 3 - Thoracic Thymus', 'Medullary Thymic Epithelial Cell Type 4', 'Myo-Medullary Thymic Epithelial cell - Thoracic Thymus', 'Neuro-Medullary Thymic Epithelial cell - Thoracic Thymus', 'Splenic Endothelial cell - Spleen', 'Catecholaminergic Neuron - Spleen', 'Naive B cell - Spleen', 'Memory B cell - Spleen', 'Class Switched Memory B cell - Spleen', 'Adventitial Stromal Cell - Spleen', 'Splenic Stromal Cell (non-FRC/non-FDC) - Spleen', 'Splenic Pericyte - Spleen', 'Splenic Stromal Sheath Cell - Spleen', 'Splenic Red Pulp macrophage - Spleen', 'Reticular Cell Of Splenic sinusoid - Spleen', 'Splenic Littoral Cell - Spleen', 'Splenic Red Pulp Stromal Cell - Spleen', 'Hematopoietic Stem cell - Spleen', 'CD14-positive, CD16-low monocyte - Spleen', 'erythrocyte - Spleen', 'B cell - Spleen', 'CD8-positive, Alpha-Beta T cell - Spleen', 'CD8-positive, Alpha-Beta Memory T cell - Spleen', 'Plasma cell - Spleen', 'plasmablast - Spleen', 'Dendritic Cell, human - Spleen', 'platelet - Spleen', 'Natural Killer cell - Spleen', 'Reticular Cell Of Splenic cord - Spleen', 'neutrophil - Spleen', 'Splenic Perifollicular Zone macrophage - Spleen', 'Stromal Cell - Spleen', 'CD141-positive Myeloid Dendritic cell - Spleen', 'CD1c-positive Myeloid Dendritic cell - Spleen', 'Monocyte-Derived DC - Spleen', 'Plasmacytoid Dendritic Cell, human - Spleen', 'DEC205+ DC - Spleen', 'Endothelial Cell Of Lymphatic vessel - Spleen', 'Follicular Dendritic cell - Spleen', 'Splenic White Pulp macrophage - Spleen', 'Germinal Center B cell - Spleen', 'T Follicular Helper cell - Spleen', 'T Follicular Regulatory Cell - Spleen', 'Splenic Tingible Body macrophage - Spleen', 'Mantle Zone B Cell - Spleen', 'Transitional Stage B cell - Spleen', 'Superficial Zone B Cell - Spleen', 'Splenic Marginal Zone macrophage - Spleen', 'CD4-positive Helper T cell - Spleen', 'Group 3 Innate Lymphoid Cell, human - Spleen', 'Naive Thymus-Derived CD4-positive, Alpha-Beta T cell - Spleen', 'Naive Thymus-Derived CD8-positive, Alpha-Beta T cell - Spleen', 'Effector CD8-positive, Alpha-Beta T cell - Spleen', 'CD8-positive, Alpha-Beta Cytotoxic T cell - Spleen', 'Regulatory T cell - Spleen', 'Interdigitating Dendritic Cells - Spleen', 'Cytotoxic Memory T Cell - Spleen', 'CD4-positive, Alpha-Beta Memory T cell - Spleen', 'Myofibroblast cell - Spleen', 'Gamma-Delta T cell - Spleen', 'Endothelial Cell Of artery - Spleen', 'Vein Endothelial cell - Spleen', 'Subcapsular Dendritic Cell - Spleen', 'Endothelial cell - Fallopian Tube', 'macrophage - Fallopian Tube', 'CD8+ T-cells - Fallopian Tube', 'Natural Killer cell - Fallopian Tube', 'CD4+ T-cell - Fallopian Tube', 'Langerhans cell - Fallopian Tube', 'monocyte - Fallopian Tube', 'Dendritic cell - Fallopian Tube', 'B cell - Fallopian Tube', 'Plasma cell - Fallopian Tube', 'Secretory Epithelial cell - Fallopian Tube', 'Intercalary Of Fallopian Tube isthmus - Fallopian Tube', 'Intercalary Of Fallopian Tube ampulla - Fallopian Tube', 'Enterocyte Of Epithelium Of Large intestine - Large Intestine', 'Large Intestine Crypt Goblet cell - Large Intestine', 'Intestinal Crypt Stem Cell Of Large intestine - Large Intestine', 'Paneth Cell Of colon - Large Intestine', 'Neuroendocrine cell - Large Intestine', 'Transit Amplifying Cell Of colon - Large Intestine', 'Intestinal Tuft cell - Large Intestine', 'CD8-alpha-alpha-positive, Alpha-Beta Intraepithelial T cell - Large Intestine', 'Surface Intraepithelial CD8+ Lymphocyte gamma/delta - Large Intestine', 'CD8-alpha-beta-positive, Alpha-Beta Intraepithelial T cell - Large Intestine', 'CD4-positive, Alpha-Beta Intraepithelial T cell - Large Intestine', 'CD4-negative, CD8-negative, Alpha-Beta Intraepithelial T cell - Large Intestine', 'Mature eosinophil - Large Intestine', 'Pericryptal Fibroblastic sheath - Large Intestine', 'Capillary Endothelial cell - Large Intestine', 'Endothelial Cell Of Lymphatic vessel - Large Intestine', 'Pericyte cell - Large Intestine', 'fibroblast - Large Intestine', 'Schwann cell - Large Intestine', 'ganglion - Large Intestine', 'Lymphocyte Of Large Intestine Lamina propria - Large Intestine', 'macrophage - Large Intestine', 'Endothelial Cell Of High Endothelial venule - Large Intestine', 'Plasma cell - Large Intestine', 'Mast cell - Large Intestine', 'Mature neutrophil - Large Intestine', 'Dendritic cell - Large Intestine', 'Fat cell - Large Intestine', 'Endothelial Cell Of arteriole - Large Intestine', 'Endothelial Cell Of venule - Large Intestine', 'Smooth Muscle Cell Of Large intestine - Large Intestine', 'Mesothelial Cell Of Visceral peritoneum - Large Intestine', 'Transitional Epithelial cell - Large Intestine', 'Simple Columnar Epithelial cell - Large Intestine', 'Stratified Squamous Epithelial cell - Large Intestine', 'Langerhans cell - Large Intestine', 'melanocyte - Large Intestine', 'Merkel cell - Large Intestine', 'keratinocyte - Large Intestine', 'Sebum Secreting cell - Large Intestine', 'Eccrine cell - Large Intestine', 'Apocrine cell - Large Intestine', 'T-helper 1 cell - Large Intestine', 'Cytotoxic T cell - Large Intestine', 'Regulatory T cell - Large Intestine', 'B cell - Large Intestine', 'Perineural cell - Large Intestine', 'Type I Cell Of Carotid body - Large Intestine', 'Immature NK T Cell Stage IV - Large Intestine', 'Vein Endothelial cell - Large Intestine', 'Skeletal Muscle cell - Large Intestine', 'Cardiac Pacemaker Cell Of Sinoatrial node - Heart', 'Endothelial Cell Of artery - Heart', 'Smooth Muscle Cell Of The Coronary artery - Heart', 'fibroblast - Heart', 'Cardiac Muscle cell - Heart', 'Cardiac Atrium fibroblast - Heart', 'macrophage - Heart', 'neuronal - Heart', 'Cardiac Endothelial cell - Heart', 'Vascular Associated Smooth Muscle cell - Heart', 'pericyte - Heart', 'Telocyte (Interstitial Like Cell Of cajal) - Heart', 'lymphocyte - Heart', 'Dendritic Cell, human - Heart', 'Fat cell - Heart', 'Blood Vessel Endothelial cell - Heart', 'Cardiac Ventricle fibroblast - Heart', 'Heart Valve cell - Heart', 'Valve Interstitial cell - Heart', 'Mesothelial cell - Heart', 'Epicardial adipocyte - Heart', 'Schwann cell - Heart', 'Myofibroblast cell - Lymph Node', 'Blood Vessel Endothelial cell - Lymph Node', 'Pericyte cell - Lymph Node', 'Endothelial Cell Of Lymphatic vessel - Lymph Node', 'Lymph Node Subcapsular Sinus macrophage - Lymph Node', 'Marginal Reticular Cell - Lymph Node', 'Lymphatic Endothelial Cell -Subcapsular Sinus Ceiling - Lymph Node', 'Lymphatic Endothelial Cell-Subcapsular Sinus Floor - Lymph Node', 'Lymphatic Endothelial Cell-Trabeculae - Lymph Node', 'Follicular Dendritic cell - Lymph Node', 'Naive B cell - Lymph Node', 'Memory B cell - Lymph Node', 'macrophage - Lymph Node', 'Centrocyte - Lymph Node', 'T Follicular Helper cell - Lymph Node', 'T Follicular Regulatory Cell - Lymph Node', 'Lymph Node Tingible Body macrophage - Lymph Node', 'plasmablast - Lymph Node', 'Centroblast - Lymph Node', 'B Cell Zone Reticular Cell - Lymph Node', 'Naive Thymus-Derived CD4-positive, Alpha-Beta T cell - Lymph Node', 'CD4-positive, Alpha-Beta Memory T cell - Lymph Node', 'T-helper 1 cell - Lymph Node', 'T-helper 2 cell - Lymph Node', 'T-helper 17 cell - Lymph Node', 'Regulatory T cell - Lymph Node', 'Cytotoxic T cell - Lymph Node', 'Naive Thymus-Derived CD8-positive, Alpha-Beta T cell - Lymph Node', 'CD8-positive, Alpha-Beta Memory T cell - Lymph Node', 'Natural Killer cell - Lymph Node', 'T Cell Zone Reticular Cell - Lymph Node', 'Dendritic cell - Lymph Node', 'CD1c-positive Myeloid Dendritic cell - Lymph Node', 'Plasmacytoid Dendritic Cell, human - Lymph Node', 'CD141-positive Myeloid Dendritic cell - Lymph Node', 'Gamma-Delta T cell - Lymph Node', 'Mast cell - Lymph Node', 'Plasma cell - Lymph Node', 'Monocytoid B Cell - Lymph Node', 'B cell - Lymph Node', 'Medullary Reticular Cell - Lymph Node', 'T cell - Lymph Node', 'Lymphatic Endothelial Cell Of Medulla Ceiling - Lymph Node', 'Sympathetic neuron - Lymph Node', 'Hilus Cell Of ovary - Ovary', 'Inh L1 LAMP5 PVRL2 - Brain', 'Inh L1 LAMP5 RAB11FIP1 - Brain', 'Inh L1-6 LAMP5 AARD - Brain', 'Inh L1-6 LAMP5 NES - Brain', 'Inh L1-6 LAMP5 CA1 - Brain', 'Inh L5-6 LAMP5 CRABP1 - Brain', 'Inh L3-6 PAX6 LINC01497 - Brain', 'Inh L1 PAX6 MIR101-1 - Brain', 'Inh L1 LAMP5 BMP2 - Brain', 'Inh L1 LAMP5 NMBR - Brain', 'Inh L1 PAX6 CHRFAM7A - Brain', 'Inh L1-6 VIP SLC7A6OS - Brain', 'Inh L2 PAX6 FREM2 - Brain', 'Inh L1-2 VIP HTR3A - Brain', 'Inh L1-2 VIP WNT4 - Brain', 'Inh L1 PVALB SST ASIC4 - Brain', 'Inh L1 SST P4HA3 - Brain', 'Inh L1 SST DEFB108B - Brain', 'Inh L1-3 VIP CBLN1 - Brain', 'Inh L1-2 VIP EXPH5 - Brain', 'Inh L1-3 VIP HSPB6 - Brain', 'Inh L1-2 VIP PTGER3 - Brain', 'Inh L1-2 VIP SCML4 - Brain', 'Inh L1-3 VIP FNDC1 - Brain', 'Inh L1-3 VIP CHRNA2 - Brain', 'Inh L2 VIP SLC6A16 - Brain', 'Inh L1 VIP KLHDC8B - Brain', 'Inh L3-5 VIP IGDCC3 - Brain', 'Inh L1-5 VIP SMOC1 - Brain', 'Inh L3-5 VIP HS3ST3A1 - Brain', 'Inh L5-6 VIP COL4A3 - Brain', 'Inh L1-5 VIP CD27-AS1 - Brain', 'Inh L2-5 VIP BSPRY - Brain', 'Inh L2-5 VIP SOX11 - Brain', 'Inh L3-6 VIP ZIM2-AS1 - Brain', 'Inh L1-5 VIP PHLDB3 - Brain', 'Inh L1-5 VIP LINC01013 - Brain', 'Inh L3-6 VIP UG0898H09 - Brain', 'Inh L3-5 VIP TAC3 - Brain', 'Inh L1-6 SST NPY (Sset Chodl) - Brain', 'Inh L3-5 SST CDH3 - Brain', 'Inh L5 SST RPL35AP11 - Brain', 'Inh L5-6 SST ISX - Brain', 'Inh L5-6 PVALB SST CRHR2 - Brain', 'Inh L3-5 SST OR5AH1P - Brain', 'Inh L3-5 SST GGTLC3 - Brain', 'Inh L2-3 SST NMU - Brain', 'Inh L5-6 SST PAWR - Brain', 'Inh L5-6 SST PIK3CD - Brain', 'Inh L1-2 SST CCNJL - Brain', 'Inh L1-3 SST FAM20A - Brain', 'Inh L5-6 SST BEAN1 - Brain', 'Inh L5-6 SST DNAJC14 - Brain', 'Inh L5-6 SST C4orf26 - Brain', 'Inh L5-6 SST FBN2 - Brain', 'Inh L5-6 SST KLHL1 - Brain', 'Inh L6 SST TH - Brain', 'Inh L5-6 PVALB KCNIP2 - Brain', 'Inh L5-6 PVALB ZFPM2-AS1 - Brain', 'Inh L3-5 PVALB ISG20 - Brain', 'Inh L5 PVALB LRIG3 - Brain', 'Inh L2-5 PVALB HHIPL1 - Brain', 'Inh L2-5 PVALB RPH3AL - Brain', 'Inh L3 PVALB SAMD13 - Brain', 'Inh L1-2 PVALB CDK20 - Brain', 'Inh L2 PVALB FRZB - Brain', 'Inh L1-2 SST CLIC6 - Brain', 'Inh L5-6 PVALB GAPDHP60 - Brain', 'Inh L5-6 PVALB FAM150B - Brain', 'Inh L5-6 PVALB MEPE - Brain', 'Inh L1-6 PVALB COL15A1 (Chandelier) - Brain', 'Exc L2 LAMP5 KCNG3 - Brain', 'Exc L2 LINC00507 ATP7B - Brain', 'Exc L2 LINC00507 GLRA3 - Brain', 'Exc L2-3 RORB RTKN2 - Brain', 'Exc L2-3 LINC00507 DSG3 - Brain', 'Exc L3 LAMP5 CARM1P1 - Brain', 'Exc L2-3 RORB CCDC68 - Brain', 'Exc L2-3 RORB PTPN3 - Brain', 'Exc L3 THEMIS ENPEP - Brain', 'Exc L3-5 RORB TNNT2 - Brain', 'Exc L3-5 RORB LAMA4 - Brain', 'Exc L5 THEMIS VILL - Brain', 'Exc L3 RORB OTOGL - Brain', 'Exc L5 THEMIS SLC22A18 - Brain', 'Exc L5-6 THEMIS TNFAIP6 - Brain', 'Exc L3-5 RORB LNX2 - Brain', 'Exc L3-5 RORB RPRM - Brain', 'Exc L5 RORB MED8 - Brain', 'Exc L5 THEMIS FGF10 - Brain', 'Exc L6 THEMIS LINC00343 - Brain', 'Exc L6 THEMIS SLN - Brain', 'Exc L5-6 THEMIS SMYD1 (L6 IT Car3) - Brain', 'Exc L5-6 FEZF2 OR1L8 - Brain', 'Exc L5 THEMIS RGPD6 - Brain', 'Exc L5-6 FEZF2 C9orf135-AS1 - Brain', 'Exc L5-6 FEZF2 FILIP1L - Brain', 'Exc L5-6 FEZF2 SH2D1B - Brain', 'Exc L6 FEZF2 PDYN - Brain', 'Exc L6 FEZF2 PROKR2 - Brain', 'Exc L5-6 FEZF2 CFTR - Brain', 'Exc L6 FEZF2 KLK7 - Brain', 'Exc L6 FEZF2 POGK - Brain', 'Exc L5 FEZF2 CSN1S1 - Brain', 'Exc L3-5 FEZF2 ASGR2 - Brain', 'Exc L3-5 FEZF2 LINC01107 - Brain', 'Exc L5 FEZF2 PKD2L1 - Brain', 'Exc L5 FEZF2 NREP-AS1 - Brain', 'Exc L5 FEZF2 RNF144A-AS1 - Brain', 'OPC L1-6 PDGFRA COL20A1 - Brain', 'Oligo L2-6 OPALIN MAP6D1 - Brain', 'Oligo L3-6 OPALIN ENPP6 - Brain', 'Oligo L2-6 OPALIN FTH1P3 - Brain', 'Oligo L5-6 OPALIN LDLRAP1 - Brain', 'Astro L1-6 FGFR3 AQP1 - Brain', 'Astro L1 FGFR3 SERPINI2 - Brain', 'Astro L1-6 FGFR3 PLCG1 - Brain', 'Endo L2-5 NOSTRIN SRGN - Brain', 'VLMC L1-5 PDGFRA COLEC12 - Brain', 'Micro L1-6 TYROBP CD74 - Brain', 'Pancreatic Acinar cell - Pancreas', 'Simple Columnar Epithelial cell - Pancreas', 'Flat Epithelial cells - Pancreas', 'Pancreatic Goblet cell - Pancreas', 'Brush cell - Pancreas', 'Type EC Enteroendocrine cell - Pancreas', 'B cell - Pancreas', 'T cell - Pancreas', 'macrophage - Pancreas', 'Dendritic cell - Pancreas', 'Pancreatic A cell - Pancreas', 'Type B Pancreatic cell - Pancreas', 'Pancreatic D cell - Pancreas', 'Pancreatic PP cell - Pancreas', 'Pancreatic Epsilon cell - Pancreas', 'Gastrin Secreting cell - Pancreas', 'Activated Stellate cell - Pancreas', 'Quiescent Stellate cell - Pancreas', 'Fat cell - Pancreas', 'Basal Cell Of Bladder urothelium - Urinary Bladder', 'Intermediate Cell Of Bladder urothelium - Urinary Bladder', 'Superficial Cell Of Bladder urothelium - Urinary Bladder', 'Detrusor Smooth Muscle Cell Of bladder - Urinary Bladder', 'Myofibroblast Cell Of bladder - Urinary Bladder', 'PI16+ Fibroblast Cell Of bladder - Urinary Bladder', 'DPT+ Fibroblast Cell Of bladder - Urinary Bladder', 'Lipofibroblast Cell Of bladder - Urinary Bladder', 'Endothelial Cell Of bladder - Urinary Bladder', 'Vascular Smooth Muscle Cell Of bladder - Urinary Bladder', 'Pericyte Cell Of bladder - Urinary Bladder', 'Immature B cell - Blood', 'Memory B cell - Blood', 'Naive B cell - Blood', 'Transitional Stage B cell - Blood', 'CD141-positive Myeloid Dendritic cell - Blood', 'CD1c-positive Myeloid Dendritic cell - Blood', 'Plasmacytoid Dendritic Cell, human - Blood', 'Immature Conventional Dendritic cell - Blood', 'CD14-positive monocyte - Blood', 'CD14-low, CD16-positive monocyte - Blood', 'neutrophil - Blood', 'eosinophil - Blood', 'basophil - Blood', 'Naive Thymus-Derived CD4-positive, Alpha-Beta T cell - Blood', 'CD4 T Cell memory - Blood', 'CD4 T Cell Effector Memory CD45RA - Blood', 'Naive Thymus-Derived CD8-positive, Alpha-Beta T cell - Blood', 'CD8 T Cell memory - Blood', 'Effector CD8-positive, Alpha-Beta T cell - Blood', 'Effector Memory CD8-positive, Alpha-Beta T Cell, Terminally differentiated - Blood', 'Mature CD8 T cell - Blood', 'CD16-negative, CD56-bright Natural Killer cell - Blood', 'Mature Natural Killer cell - Blood', 'Regulatory T cell - Blood', 'Capsule Mesenchymal Stromal cell - Kidney', 'Parietal Epithelial cell - Kidney', 'Glomerular Visceral Epithelial cell - Kidney', 'Glomerular Capillary Endothelial cell - Kidney', 'Glomerular Mesangial cell - Kidney', 'Epithelial Cell Of Proximal tubule - Kidney', 'Proximal Tubule Epithelial Cell Segment 1 - Kidney', 'Proximal Tubule Epithelial Cell Segment 2 - Kidney', 'Proximal Tubule Cell Epithelial Segment 3 - Kidney', 'Kidney Loop Of Henle Thin Descending Limb Epithelial cell - Kidney', 'Descending Thin Limb Cell Type 1 - Kidney', 'Descending Thin Limb Cell Type 2 - Kidney', 'Descending Thin Limb Cell Type 3 - Kidney', 'Kidney Loop Of Henle Thin Ascending Limb Epithelial cell - Kidney', 'Kidney Loop Of Henle Thick Ascending Limb Epithelial cell - Kidney', 'Kidney Loop Of Henle Cortical Thick Ascending Limb Epithelial cell - Kidney', 'Kidney Loop Of Henle Medullary Thick Ascending Limb Epithelial cell - Kidney', 'Macula Densa Epithelial cell - Kidney', 'Kidney Distal Convoluted Tubule Epithelial cell - Kidney', 'Distal Convoluted Tubule Cell Type 1 - Kidney', 'Distal Convoluted Tubule Cell Type 2 - Kidney', 'Kidney Connecting Tubule Epithelial cell - Kidney', 'Connecting Tubule Principal Cell - Kidney', 'Connecting Tubule Intercalated Cell - Kidney', 'Connecting Tubule Intercalated Cell Type A - Kidney', 'Connecting Tubule Intercalated Cell Type B - Kidney', 'Kidney Collecting Duct Epithelial cell - Kidney', 'Kidney Collecting Duct Principal cell - Kidney', 'Kidney Cortex Collecting Duct Principal cell - Kidney', 'Kidney Outer Medulla Collecting Duct Principal cell - Kidney', 'Kidney Inner Medulla Collecting Duct Principal cell - Kidney', 'Transitional Principal-Intercalated cell - Kidney', 'Kidney Collecting Duct Intercalated cell - Kidney', 'Collecting Duct Intercalated Cell Type A - Kidney', 'Kidney Cortex Collecting Duct Intercalated cell - Kidney', 'Kidney Outer Medulla Collecting Duct Intercalated cell - Kidney', 'Renal Beta-Intercalated cell - Kidney', 'Endothelial cell - Kidney', 'Kidney Afferent Arteriole Endothelial cell - Kidney', 'Kidney Efferent Arteriole Endothelial cell - Kidney', 'Peritubular Capillary Endothelial cell - Kidney', 'Vasa Recta Descending Limb cell - Kidney', 'Vasa Recta Ascending Limb cell - Kidney', 'Endothelial Cell Of Lymphatic vessel - Kidney', 'Renal Interstitial pericyte - Kidney', 'Kidney Granular cell - Kidney', 'Kidney Interstitial fibroblast - Kidney', 'Kidney Interstitial myofibroblast - Kidney', 'Kidney Resident macrophage - Kidney', 'Non-Classical monocyte - Kidney', 'Natural Killer cell - Kidney', 'Mature NK T cell - Kidney', 'Dendritic Cell, human - Kidney', 'Conventional Dendritic cell - Kidney', 'Plasmacytoid Dendritic Cell, human - Kidney', 'monocyte - Kidney', 'T cell - Kidney', 'Cytotoxic T cell - Kidney', 'B cell - Kidney', 'Plasma cell - Kidney', 'neutrophil - Kidney', 'Mast cell - Kidney', 'Precursor B cell - Bone Marrow', 'Immature B cell - Bone Marrow', 'Memory B cell - Bone Marrow', 'Naive B cell - Bone Marrow', 'Plasma cell - Bone Marrow', 'pro-B cell - Bone Marrow', 'Transitional Stage B cell - Bone Marrow', 'Conventional Dendritic cell - Bone Marrow', 'Dendritic Cell, human - Bone Marrow', 'Plasmacytoid Dendritic Cell, human - Bone Marrow', 'Immature Conventional Dendritic cell - Bone Marrow', 'Erythroid Lineage cell - Bone Marrow', 'Megakaryocyte (MK) - Bone Marrow', 'Megakaryocyte Progenitor cell - Bone Marrow', 'Megakaryocyte-Erythroid Progenitor cell - Bone Marrow', 'Common Lymphoid progenitor - Bone Marrow', 'Common Myeloid progenitor - Bone Marrow', 'Granulocyte-Macrophage Progenitor Cell (GMP) - Bone Marrow', 'Hematopoietic Stem cell - Bone Marrow', 'Lympho-Myeloid Progenitor Cell (LMPP) - Bone Marrow', 'Hematopoietic Multipotent Progenitor cell - Bone Marrow', 'CD14-positive monocyte - Bone Marrow', 'CD14-low, CD16-positive monocyte - Bone Marrow', 'promonocyte - Bone Marrow', 'Myeloid Progenitor (MOP) - Bone Marrow', 'myelocyte - Bone Marrow', 'neutrophil - Bone Marrow', 'promyelocyte - Bone Marrow', 'eosinophil - Bone Marrow', 'basophil - Bone Marrow', 'Mast cell - Bone Marrow', 'CD4 naive - Bone Marrow', 'CD4 T Cell memory - Bone Marrow', 'CD4 T Cell Effector Memory CD45RA - Bone Marrow', 'CD8 naive - Bone Marrow', 'CD8 T Cell memory - Bone Marrow', 'CD8 T Cell Effector memory - Bone Marrow', 'Effector Memory CD8-positive, Alpha-Beta T Cell, Terminally differentiated - Bone Marrow', 'Mature CD8 T cell - Bone Marrow', 'CD16-negative, CD56-bright Natural Killer cell - Bone Marrow', 'Mature Natural Killer cell - Bone Marrow', 'Regulatory T cell - Bone Marrow', 'Basal Cell Of Ureter urothelium - Ureter', 'Intermediate Cell Of Ureter urothelium - Ureter', 'Superficial Cell Of Ureter urothelium - Ureter', 'Detrusor Smooth Muscle Cell Of ureter - Ureter', 'Myofibroblast Cell Of ureter - Ureter', 'PI16+ Fibroblast Cell Of ureter - Ureter', 'DPT+ Fibroblast Cell Of ureter - Ureter', 'Lipofibroblast Cell Of ureter - Ureter', 'Endothelial Cell Of ureter - Ureter', 'Vascular Smooth Muscle Cell Of ureter - Ureter', 'Pericyte Cell Of ureter - Ureter', 'Luminal Cell Of Prostate epithelium - Prostate Gland', 'Basal Cell Of Prostate epithelium - Prostate Gland', 'Endocrine-Paracrine Cell Of Prostate gland - Prostate Gland', 'Smooth Muscle Cell Of prostate - Prostate Gland', 'Prostate Gland Microvascular Endothelial cell - Prostate Gland', 'Periepithelial fibroblast - Prostate Gland', 'Interstitial fibroblast - Prostate Gland', 'Vascular Smooth muscle - Prostate Gland', 'Prostate perictye - Prostate Gland', 'Basal Cell Of Prostatic urethra - Prostate Gland', 'Club Cell Of Prostatic urethra - Prostate Gland', 'Hillock Cell Of Prostatic urethra - Prostate Gland'])"
      ]
     },
     "execution_count": 43,
     "metadata": {},
     "output_type": "execute_result"
    }
   ],
   "source": [
    "gene_sets.keys()"
   ]
  },
  {
   "cell_type": "code",
   "execution_count": 44,
   "metadata": {},
   "outputs": [
    {
     "data": {
      "text/html": [
       "<div>\n",
       "<style scoped>\n",
       "    .dataframe tbody tr th:only-of-type {\n",
       "        vertical-align: middle;\n",
       "    }\n",
       "\n",
       "    .dataframe tbody tr th {\n",
       "        vertical-align: top;\n",
       "    }\n",
       "\n",
       "    .dataframe thead th {\n",
       "        text-align: right;\n",
       "    }\n",
       "</style>\n",
       "<table border=\"1\" class=\"dataframe\">\n",
       "  <thead>\n",
       "    <tr style=\"text-align: right;\">\n",
       "      <th></th>\n",
       "      <th>label</th>\n",
       "      <th>type</th>\n",
       "      <th>AZ</th>\n",
       "      <th>CL</th>\n",
       "    </tr>\n",
       "  </thead>\n",
       "  <tbody>\n",
       "    <tr>\n",
       "      <th>0a62794d-65e7-5865-8884-873c47b601e9</th>\n",
       "      <td>Capillary Endothelial Cells</td>\n",
       "      <td>Anatomy</td>\n",
       "      <td>AZ:5</td>\n",
       "      <td>CL:2144</td>\n",
       "    </tr>\n",
       "    <tr>\n",
       "      <th>cdf14e95-744f-561a-877b-bd8b74822d73</th>\n",
       "      <td>innate lymphoid cell</td>\n",
       "      <td>Anatomy</td>\n",
       "      <td>AZ:9</td>\n",
       "      <td>CL:1065</td>\n",
       "    </tr>\n",
       "    <tr>\n",
       "      <th>e61fa17d-817a-541e-af7f-9ec8869a7972</th>\n",
       "      <td>Kidney_L3_T cell</td>\n",
       "      <td>Anatomy</td>\n",
       "      <td>AZ:69</td>\n",
       "      <td>NaN</td>\n",
       "    </tr>\n",
       "    <tr>\n",
       "      <th>5cf92c83-33a9-5faf-b957-6e9880f6bb0a</th>\n",
       "      <td>alternatively activated macrophage</td>\n",
       "      <td>Anatomy</td>\n",
       "      <td>AZ:46</td>\n",
       "      <td>CL:890</td>\n",
       "    </tr>\n",
       "    <tr>\n",
       "      <th>0fa76653-3d12-551b-9cd9-f6aed515817d</th>\n",
       "      <td>macula densa epithelial cell</td>\n",
       "      <td>Anatomy</td>\n",
       "      <td>AZ:47</td>\n",
       "      <td>CL:1000850</td>\n",
       "    </tr>\n",
       "  </tbody>\n",
       "</table>\n",
       "</div>"
      ],
      "text/plain": [
       "                                                                   label  \\\n",
       "0a62794d-65e7-5865-8884-873c47b601e9         Capillary Endothelial Cells   \n",
       "cdf14e95-744f-561a-877b-bd8b74822d73                innate lymphoid cell   \n",
       "e61fa17d-817a-541e-af7f-9ec8869a7972                    Kidney_L3_T cell   \n",
       "5cf92c83-33a9-5faf-b957-6e9880f6bb0a  alternatively activated macrophage   \n",
       "0fa76653-3d12-551b-9cd9-f6aed515817d        macula densa epithelial cell   \n",
       "\n",
       "                                         type     AZ          CL  \n",
       "0a62794d-65e7-5865-8884-873c47b601e9  Anatomy   AZ:5     CL:2144  \n",
       "cdf14e95-744f-561a-877b-bd8b74822d73  Anatomy   AZ:9     CL:1065  \n",
       "e61fa17d-817a-541e-af7f-9ec8869a7972  Anatomy  AZ:69         NaN  \n",
       "5cf92c83-33a9-5faf-b957-6e9880f6bb0a  Anatomy  AZ:46      CL:890  \n",
       "0fa76653-3d12-551b-9cd9-f6aed515817d  Anatomy  AZ:47  CL:1000850  "
      ]
     },
     "execution_count": 44,
     "metadata": {},
     "output_type": "execute_result"
    }
   ],
   "source": [
    "nodes_df = pd.read_csv('out/sab/HMAZ.Anatomy.nodes.csv', index_col=0)\n",
    "nodes_df.head()"
   ]
  },
  {
   "cell_type": "code",
   "execution_count": 45,
   "metadata": {},
   "outputs": [
    {
     "name": "stdout",
     "output_type": "stream",
     "text": [
      "92 (92, 4)\n"
     ]
    }
   ],
   "source": [
    "node_id_mapper = {}\n",
    "for k,v in nodes_df.label.items():\n",
    "\tif v.lower() not in node_id_mapper:\n",
    "\t\tnode_id_mapper[v.lower()] = k\n",
    "print(len(node_id_mapper), nodes_df.shape)\n",
    "\n"
   ]
  },
  {
   "cell_type": "code",
   "execution_count": 46,
   "metadata": {},
   "outputs": [
    {
     "data": {
      "text/plain": [
       "(37, 571)"
      ]
     },
     "execution_count": 46,
     "metadata": {},
     "output_type": "execute_result"
    }
   ],
   "source": [
    "missing = set()\n",
    "matched = set()\n",
    "for l, genes in gene_sets.items():\n",
    "\tlabel = l.lower().split(\" - \")[0]\n",
    "\tif label not in node_id_mapper:\n",
    "\t\tmissing.add(label)\n",
    "\telse:\n",
    "\t\tmatched.add(label)\n",
    "len(matched), len(missing)\n",
    "\n"
   ]
  },
  {
   "cell_type": "code",
   "execution_count": 47,
   "metadata": {},
   "outputs": [],
   "source": [
    "with open(\"out/SAB/ARCHS4.edges.csv\", \"a\") as o:\n",
    "\tcsv_writer = csv.writer(o)\n",
    "\t# csv_writer.writerow([\"\", \"source\", \"target\", \"relation\", \"SAB\", \"evidence_class\", \"predicted\"])\n",
    "\tindex = 0\n",
    "\trelation = \"ARCHS4_coexpressed_genes_HuBMAP\"\n",
    "\tfor label, genes in gene_sets.items():\n",
    "\t\tl = label.lower().split(\" - \")[0]\n",
    "\t\tif l in node_id_mapper:\n",
    "\t\t\tuid = node_id_mapper[l]\n",
    "\t\t\tmatched_genes = list(set(genes).intersection(filtered_coex.index))\n",
    "\t\t\tmean_coex = filtered_coex[matched_genes].mean(1).sort_values(ascending=False)\n",
    "\t\t\tcount = 0\n",
    "\t\t\tfor coex, val in mean_coex.items():\n",
    "\t\t\t\tif coex != gene and coex in gene_id:\n",
    "\t\t\t\t\tcid = gene_id[coex]\n",
    "\t\t\t\t\tcsv_writer.writerow([index, uid, cid, relation, 'ARCHS4', val, \"true\"])\n",
    "\t\t\t\t\tcount += 1\n",
    "\t\t\t\tif count == 10:\n",
    "\t\t\t\t\tbreak\n",
    "\t\t\tindex += 1"
   ]
  },
  {
   "cell_type": "markdown",
   "metadata": {},
   "source": [
    "## GlyGen"
   ]
  },
  {
   "cell_type": "code",
   "execution_count": 48,
   "metadata": {},
   "outputs": [],
   "source": [
    "library = \"GlyGen_Glycosylated_Proteins_2022\"\n",
    "gmt = fetch_and_save_library(library, \"gmt/%s\"%library)"
   ]
  },
  {
   "cell_type": "code",
   "execution_count": 49,
   "metadata": {},
   "outputs": [
    {
     "data": {
      "text/plain": [
       "338"
      ]
     },
     "execution_count": 49,
     "metadata": {},
     "output_type": "execute_result"
    }
   ],
   "source": [
    "gene_sets = {}\n",
    "dirs = set()\n",
    "for line in gmt:\n",
    "\tlabel, _ , *genes = line.split(\"\\t\")\n",
    "\tgene_sets[label] = genes\n",
    "len(gene_sets)"
   ]
  },
  {
   "cell_type": "code",
   "execution_count": 50,
   "metadata": {},
   "outputs": [
    {
     "data": {
      "text/html": [
       "<div>\n",
       "<style scoped>\n",
       "    .dataframe tbody tr th:only-of-type {\n",
       "        vertical-align: middle;\n",
       "    }\n",
       "\n",
       "    .dataframe tbody tr th {\n",
       "        vertical-align: top;\n",
       "    }\n",
       "\n",
       "    .dataframe thead th {\n",
       "        text-align: right;\n",
       "    }\n",
       "</style>\n",
       "<table border=\"1\" class=\"dataframe\">\n",
       "  <thead>\n",
       "    <tr style=\"text-align: right;\">\n",
       "      <th></th>\n",
       "      <th>label</th>\n",
       "      <th>type</th>\n",
       "      <th>GLYTOUCAN</th>\n",
       "    </tr>\n",
       "  </thead>\n",
       "  <tbody>\n",
       "    <tr>\n",
       "      <th>7c256cfc-61b7-5568-b997-eea76e864673</th>\n",
       "      <td>543.22</td>\n",
       "      <td>Glytoucan</td>\n",
       "      <td>G99760DU</td>\n",
       "    </tr>\n",
       "    <tr>\n",
       "      <th>d670b459-3855-567a-a8bb-22a923da9863</th>\n",
       "      <td>2296.82</td>\n",
       "      <td>Glytoucan</td>\n",
       "      <td>G29633ZY</td>\n",
       "    </tr>\n",
       "    <tr>\n",
       "      <th>0086247d-4539-5920-ae9a-259b5937d101</th>\n",
       "      <td>1031.35</td>\n",
       "      <td>Glytoucan</td>\n",
       "      <td>G51580UF</td>\n",
       "    </tr>\n",
       "    <tr>\n",
       "      <th>e52f9968-3f99-58d6-8403-28248acc3e03</th>\n",
       "      <td>1772.67</td>\n",
       "      <td>Glytoucan</td>\n",
       "      <td>G75594VJ</td>\n",
       "    </tr>\n",
       "    <tr>\n",
       "      <th>bd812aa8-eb47-583d-9e11-d2f496e674fd</th>\n",
       "      <td>383.14</td>\n",
       "      <td>Glytoucan</td>\n",
       "      <td>G67600YJ</td>\n",
       "    </tr>\n",
       "  </tbody>\n",
       "</table>\n",
       "</div>"
      ],
      "text/plain": [
       "                                        label       type GLYTOUCAN\n",
       "7c256cfc-61b7-5568-b997-eea76e864673   543.22  Glytoucan  G99760DU\n",
       "d670b459-3855-567a-a8bb-22a923da9863  2296.82  Glytoucan  G29633ZY\n",
       "0086247d-4539-5920-ae9a-259b5937d101  1031.35  Glytoucan  G51580UF\n",
       "e52f9968-3f99-58d6-8403-28248acc3e03  1772.67  Glytoucan  G75594VJ\n",
       "bd812aa8-eb47-583d-9e11-d2f496e674fd   383.14  Glytoucan  G67600YJ"
      ]
     },
     "execution_count": 50,
     "metadata": {},
     "output_type": "execute_result"
    }
   ],
   "source": [
    "nodes_df = pd.read_csv('out/sab/GLYCANS.Glytoucan.nodes.csv', index_col=0)\n",
    "nodes_df.head()"
   ]
  },
  {
   "cell_type": "code",
   "execution_count": 51,
   "metadata": {},
   "outputs": [
    {
     "name": "stdout",
     "output_type": "stream",
     "text": [
      "33755 (33755, 3)\n"
     ]
    }
   ],
   "source": [
    "node_id_mapper = {}\n",
    "for k,v in nodes_df.GLYTOUCAN.items():\n",
    "\tif v.lower() not in node_id_mapper:\n",
    "\t\tnode_id_mapper[v.lower()] = k\n",
    "print(len(node_id_mapper), nodes_df.shape)\n",
    "\n"
   ]
  },
  {
   "cell_type": "code",
   "execution_count": 52,
   "metadata": {},
   "outputs": [
    {
     "data": {
      "text/html": [
       "<div>\n",
       "<style scoped>\n",
       "    .dataframe tbody tr th:only-of-type {\n",
       "        vertical-align: middle;\n",
       "    }\n",
       "\n",
       "    .dataframe tbody tr th {\n",
       "        vertical-align: top;\n",
       "    }\n",
       "\n",
       "    .dataframe thead th {\n",
       "        text-align: right;\n",
       "    }\n",
       "</style>\n",
       "<table border=\"1\" class=\"dataframe\">\n",
       "  <thead>\n",
       "    <tr style=\"text-align: right;\">\n",
       "      <th></th>\n",
       "      <th>label</th>\n",
       "      <th>type</th>\n",
       "      <th>GLYTOUCAN</th>\n",
       "    </tr>\n",
       "  </thead>\n",
       "  <tbody>\n",
       "    <tr>\n",
       "      <th>deb8bfae-3697-5d85-90d3-9235a790e064</th>\n",
       "      <td>label:2749</td>\n",
       "      <td>Glytoucan</td>\n",
       "      <td>G61806WR</td>\n",
       "    </tr>\n",
       "    <tr>\n",
       "      <th>4a7e16fe-f74f-50c3-9606-94f68329f671</th>\n",
       "      <td>label:2151</td>\n",
       "      <td>Glytoucan</td>\n",
       "      <td>G78644BR</td>\n",
       "    </tr>\n",
       "    <tr>\n",
       "      <th>e149e361-6dbc-54a9-95cf-9fc6063fd933</th>\n",
       "      <td>label:2192</td>\n",
       "      <td>Glytoucan</td>\n",
       "      <td>G40124HY</td>\n",
       "    </tr>\n",
       "    <tr>\n",
       "      <th>f08e54f9-956b-5744-b79a-218ab3462f84</th>\n",
       "      <td>label:2224</td>\n",
       "      <td>Glytoucan</td>\n",
       "      <td>G83229XP</td>\n",
       "    </tr>\n",
       "    <tr>\n",
       "      <th>06936788-a612-5831-824a-e0e9acd8a7b4</th>\n",
       "      <td>label:2256</td>\n",
       "      <td>Glytoucan</td>\n",
       "      <td>G31615DN</td>\n",
       "    </tr>\n",
       "  </tbody>\n",
       "</table>\n",
       "</div>"
      ],
      "text/plain": [
       "                                           label       type GLYTOUCAN\n",
       "deb8bfae-3697-5d85-90d3-9235a790e064  label:2749  Glytoucan  G61806WR\n",
       "4a7e16fe-f74f-50c3-9606-94f68329f671  label:2151  Glytoucan  G78644BR\n",
       "e149e361-6dbc-54a9-95cf-9fc6063fd933  label:2192  Glytoucan  G40124HY\n",
       "f08e54f9-956b-5744-b79a-218ab3462f84  label:2224  Glytoucan  G83229XP\n",
       "06936788-a612-5831-824a-e0e9acd8a7b4  label:2256  Glytoucan  G31615DN"
      ]
     },
     "execution_count": 52,
     "metadata": {},
     "output_type": "execute_result"
    }
   ],
   "source": [
    "nodes_df = pd.read_csv('out/sab/PROTEOFORM.Glytoucan.nodes.csv', index_col=0)\n",
    "nodes_df.head()"
   ]
  },
  {
   "cell_type": "code",
   "execution_count": 53,
   "metadata": {},
   "outputs": [
    {
     "name": "stdout",
     "output_type": "stream",
     "text": [
      "33755 (1554, 3)\n"
     ]
    }
   ],
   "source": [
    "for k,v in nodes_df.GLYTOUCAN.items():\n",
    "\tif v.lower() not in node_id_mapper:\n",
    "\t\tnode_id_mapper[v.lower()] = k\n",
    "print(len(node_id_mapper), nodes_df.shape)\n",
    "\n"
   ]
  },
  {
   "cell_type": "code",
   "execution_count": 54,
   "metadata": {},
   "outputs": [
    {
     "data": {
      "text/plain": [
       "(338, 0)"
      ]
     },
     "execution_count": 54,
     "metadata": {},
     "output_type": "execute_result"
    }
   ],
   "source": [
    "missing = set()\n",
    "matched = set()\n",
    "for l, genes in gene_sets.items():\n",
    "\tlabel = l.lower().split(\" - \")[0]\n",
    "\tif label not in node_id_mapper:\n",
    "\t\tmissing.add(label)\n",
    "\telse:\n",
    "\t\tmatched.add(label)\n",
    "len(matched), len(missing)\n",
    "\n"
   ]
  },
  {
   "cell_type": "code",
   "execution_count": 55,
   "metadata": {},
   "outputs": [],
   "source": [
    "with open(\"out/SAB/ARCHS4.edges.csv\", \"a\") as o:\n",
    "\tcsv_writer = csv.writer(o)\n",
    "\t# csv_writer.writerow([\"\", \"source\", \"target\", \"relation\", \"SAB\", \"evidence_class\", \"predicted\"])\n",
    "\tindex = 0\n",
    "\trelation = \"ARCHS4_coexpressed_genes_Glygen\"\n",
    "\tfor label, genes in gene_sets.items():\n",
    "\t\tl = label.lower()\n",
    "\t\tif l in node_id_mapper:\n",
    "\t\t\tuid = node_id_mapper[l]\n",
    "\t\t\tmatched_genes = list(set(genes).intersection(filtered_coex.index))\n",
    "\t\t\tmean_coex = filtered_coex[matched_genes].mean(1).sort_values(ascending=False)\n",
    "\t\t\tcount = 0\n",
    "\t\t\tfor coex, val in mean_coex.items():\n",
    "\t\t\t\tif coex != gene and coex in gene_id:\n",
    "\t\t\t\t\tcid = gene_id[coex]\n",
    "\t\t\t\t\tcsv_writer.writerow([index, uid, cid, relation, 'ARCHS4', val, \"true\"])\n",
    "\t\t\t\t\tcount += 1\n",
    "\t\t\t\tif count == 10:\n",
    "\t\t\t\t\tbreak\n",
    "\t\t\tindex += 1"
   ]
  },
  {
   "cell_type": "code",
   "execution_count": 56,
   "metadata": {},
   "outputs": [
    {
     "name": "stdout",
     "output_type": "stream",
     "text": [
      "File Paths:\n",
      "['ARCHS4.Gene.nodes.csv', 'ARCHS4.edges.csv']\n"
     ]
    }
   ],
   "source": [
    "compress([\"ARCHS4.Gene.nodes.csv\", \"ARCHS4.edges.csv\"], \"ARCHS4\")"
   ]
  },
  {
   "cell_type": "code",
   "execution_count": null,
   "metadata": {},
   "outputs": [],
   "source": []
  }
 ],
 "metadata": {
  "kernelspec": {
   "display_name": "venv",
   "language": "python",
   "name": "python3"
  },
  "language_info": {
   "codemirror_mode": {
    "name": "ipython",
    "version": 3
   },
   "file_extension": ".py",
   "mimetype": "text/x-python",
   "name": "python",
   "nbconvert_exporter": "python",
   "pygments_lexer": "ipython3",
   "version": "3.10.14"
  }
 },
 "nbformat": 4,
 "nbformat_minor": 2
}
