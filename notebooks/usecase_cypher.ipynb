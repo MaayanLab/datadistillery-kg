{
 "cells": [
  {
   "cell_type": "code",
   "execution_count": 1,
   "metadata": {},
   "outputs": [],
   "source": [
    "import os\n",
    "import requests\n",
    "import ipycytoscape\n",
    "from py2neo import Graph\n",
    "import seaborn as sns\n",
    "import random\n",
    "from dotenv import load_dotenv\n",
    "import pandas as pd\n",
    "from IPython.display import display, Markdown\n",
    "import json"
   ]
  },
  {
   "cell_type": "code",
   "execution_count": 2,
   "metadata": {},
   "outputs": [],
   "source": [
    "load_dotenv()\n",
    "graph = Graph(os.getenv('NEO4j_URL'), auth=(os.getenv('NEO4J_USER'), os.getenv('NEO4J_PASSWORD')))"
   ]
  },
  {
   "cell_type": "markdown",
   "metadata": {},
   "source": [
    "## Cypher Helper"
   ]
  },
  {
   "cell_type": "code",
   "execution_count": 3,
   "metadata": {},
   "outputs": [],
   "source": [
    "style = [{\n",
    "            \"selector\": 'node',\n",
    "            \"style\": {\n",
    "            'background-color': 'data(color)',\n",
    "            'border-color': 'data(borderColor)',\n",
    "            'border-width': 'data(borderWidth)',\n",
    "            'label': 'data(label)',\n",
    "            \"text-valign\": \"center\",\n",
    "            \"text-halign\": \"center\",\n",
    "            'width': \"50\",\n",
    "            'height': \"50\",\n",
    "            }\n",
    "        },\n",
    "        {\n",
    "            \"selector\": 'edge',\n",
    "            \"style\": {\n",
    "            'curve-style': 'straight',\n",
    "            'line-color': 'data(lineColor)',\n",
    "            'width': '3',\n",
    "            'label': 'data(relation)',\n",
    "            \"text-rotation\": \"autorotate\",\n",
    "            \"text-margin-x\": \"0px\",\n",
    "            \"text-margin-y\": \"0px\",\n",
    "            'font-size': '12px',\n",
    "            'target-arrow-shape': \"data(directed)\",\n",
    "            'target-endpoint': 'outside-to-node',\n",
    "            'source-endpoint': 'outside-to-node',\n",
    "            'target-arrow-color': 'data(lineColor)',\n",
    "            }\n",
    "        },\n",
    "        {\n",
    "            \"selector\": 'node.highlight',\n",
    "            \"style\": {\n",
    "                'border-color': 'gray',\n",
    "                'border-width': '2px',\n",
    "                'font-weight': 'bold',\n",
    "                'font-size': '18px',\n",
    "                'width': \"90\",\n",
    "                'height': \"90\",\n",
    "            }\n",
    "        },\n",
    "        {\n",
    "            \"selector\": 'node.focused',\n",
    "            \"style\": {\n",
    "                'border-color': 'gray',\n",
    "                'border-width': '2px',\n",
    "                'font-weight': 'bold',\n",
    "                'font-size': '18px',\n",
    "                'width': \"90\",\n",
    "                'height': \"90\",\n",
    "            }\n",
    "        },\n",
    "        {\n",
    "            \"selector\": 'edge.focusedColored',\n",
    "            \"style\": {\n",
    "                'line-color': '#F8333C',\n",
    "                'width': '6'\n",
    "            }\n",
    "        },\n",
    "        {\n",
    "            \"selector\": 'node.semitransp',\n",
    "            \"style\":{ 'opacity': '0.5' }\n",
    "        },\n",
    "        {\n",
    "            \"selector\": 'node.focusedSemitransp',\n",
    "            \"style\":{ 'opacity': '0.5' }\n",
    "        },\n",
    "        {\n",
    "            \"selector\": 'edge.colored',\n",
    "            \"style\": {\n",
    "                'line-color': '#F8333C',\n",
    "                'target-arrow-color': '#F8333C',\n",
    "                'width': '6'\n",
    "            }\n",
    "        },\n",
    "        {\n",
    "            \"selector\": 'edge.semitransp',\n",
    "            \"style\":{ 'opacity': '0.5' }\n",
    "        },\n",
    "        {\n",
    "            \"selector\": 'edge.focusedSemitransp',\n",
    "            \"style\":{ 'opacity': '0.5' }\n",
    "        }]"
   ]
  },
  {
   "cell_type": "code",
   "execution_count": 4,
   "metadata": {},
   "outputs": [],
   "source": [
    "palette = sns.color_palette().as_hex()\n",
    "def cypher(query):\n",
    "    if query == \"\": return\n",
    "    results = graph.run(query).data()\n",
    "    nodes = {}\n",
    "    edges = []\n",
    "    colors = {}\n",
    "    relations = {}\n",
    "    for i in results:\n",
    "        for vals in i.values():\n",
    "            for node in vals.nodes:\n",
    "                label = str(node.labels)\n",
    "                if label not in colors:\n",
    "                    colors[label] = palette[len(colors) % len(sns.color_palette())]\n",
    "                color = colors[label]\n",
    "                n = {\"kind\": label, \"color\": color}\n",
    "                for k,v in node.items():\n",
    "                    n[k] = v\n",
    "                if 'GTEXEXP' in n:\n",
    "                    n[\"label\"] = n['GTEXEXP']\n",
    "                nodes[n[\"id\"]] = n\n",
    "            for relation in vals.relationships:\n",
    "                r = {\n",
    "                    \"kind\": \"relation\",\n",
    "                    \"source\": relation.nodes[0][\"id\"],\n",
    "                    \"target\": relation.nodes[1][\"id\"]\n",
    "                    }\n",
    "                for k,v in relation.items():\n",
    "                    r[k] = v\n",
    "                r[\"relation\"] = r[\"relation\"].replace(\"_\",\" \")\n",
    "                edges.append(r)\n",
    "                if r[\"relation\"] not in relations:\n",
    "                    relations[r[\"relation\"]] = pd.DataFrame(\"-\", index=[], columns=[\"name\", \"relation\", \"SAB\", \"evidence\"])\n",
    "    for edge in edges:\n",
    "        start = nodes[edge[\"source\"]]\n",
    "        end = nodes[edge[\"target\"]]\n",
    "        relation = edge[\"relation\"]\n",
    "        if relation not in colors:\n",
    "            colors[relation] = palette[len(colors) % len(sns.color_palette())]\n",
    "        color = colors[relation]\n",
    "    cytoscapeobj = ipycytoscape.CytoscapeWidget()\n",
    "    cytoscapeobj.graph.add_graph_from_json({\n",
    "        \"nodes\": list(nodes.values()),\n",
    "        \"edges\": edges\n",
    "    }) \n",
    "    cytoscapeobj.set_style(style)\n",
    "    display(cytoscapeobj)\n"
   ]
  },
  {
   "cell_type": "markdown",
   "metadata": {},
   "source": [
    "### Use Case 1\n",
    "Find all CF data points that are linked to evidence related to <gene> in <tissue> and report the CF datasets where those data points are found."
   ]
  },
  {
   "cell_type": "code",
   "execution_count": 30,
   "metadata": {},
   "outputs": [
    {
     "ename": "ClientError",
     "evalue": "[Statement.SyntaxError] Invalid input 'ORDER': expected\n  \",\"\n  \"CALL\"\n  \"CREATE\"\n  \"DELETE\"\n  \"DETACH\"\n  \"FOREACH\"\n  \"LOAD\"\n  \"MATCH\"\n  \"MERGE\"\n  \"OPTIONAL\"\n  \"REMOVE\"\n  \"RETURN\"\n  \"SET\"\n  \"UNION\"\n  \"UNWIND\"\n  \"USE\"\n  \"USING\"\n  \"WHERE\"\n  \"WITH\"\n  <EOF> (line 3, column 1 (offset: 135))\n\"ORDER BY r1.evidence DESC\"\n ^",
     "output_type": "error",
     "traceback": [
      "\u001b[0;31m---------------------------------------------------------------------------\u001b[0m",
      "\u001b[0;31mClientError\u001b[0m                               Traceback (most recent call last)",
      "Cell \u001b[0;32mIn[30], line 10\u001b[0m\n\u001b[1;32m      3\u001b[0m limit \u001b[39m=\u001b[39m \u001b[39m5\u001b[39m\n\u001b[1;32m      4\u001b[0m query \u001b[39m=\u001b[39m \u001b[39m'''\u001b[39m\n\u001b[1;32m      5\u001b[0m \u001b[39mMATCH p=(a:`Gene or Genome` \u001b[39m\u001b[39m{\u001b[39m\u001b[39mlabel: \u001b[39m\u001b[39m\"\u001b[39m\u001b[39m%s\u001b[39;00m\u001b[39m\"\u001b[39m\u001b[39m})-[r1:expresses]-(b:GTEXEXP)-[r2:expresses]-(c:Tissue \u001b[39m\u001b[39m{\u001b[39m\u001b[39mlabel: \u001b[39m\u001b[39m\"\u001b[39m\u001b[39m%s\u001b[39;00m\u001b[39m\"\u001b[39m\u001b[39m}) \u001b[39m\n\u001b[1;32m      6\u001b[0m \u001b[39mORDER BY r1.evidence DESC \u001b[39m\n\u001b[1;32m      7\u001b[0m \u001b[39mRETURN p\u001b[39m\n\u001b[1;32m      8\u001b[0m \u001b[39mLIMIT \u001b[39m\u001b[39m%d\u001b[39;00m\n\u001b[1;32m      9\u001b[0m \u001b[39m'''\u001b[39m\u001b[39m%\u001b[39m(gene_symbol, tissue, limit)\n\u001b[0;32m---> 10\u001b[0m table \u001b[39m=\u001b[39m cypher(query)\n",
      "Cell \u001b[0;32mIn[18], line 4\u001b[0m, in \u001b[0;36mcypher\u001b[0;34m(query)\u001b[0m\n\u001b[1;32m      2\u001b[0m \u001b[39mdef\u001b[39;00m \u001b[39mcypher\u001b[39m(query):\n\u001b[1;32m      3\u001b[0m     \u001b[39mif\u001b[39;00m query \u001b[39m==\u001b[39m \u001b[39m\"\u001b[39m\u001b[39m\"\u001b[39m: \u001b[39mreturn\u001b[39;00m\n\u001b[0;32m----> 4\u001b[0m     results \u001b[39m=\u001b[39m graph\u001b[39m.\u001b[39;49mrun(query)\u001b[39m.\u001b[39mdata()\n\u001b[1;32m      5\u001b[0m     nodes \u001b[39m=\u001b[39m {}\n\u001b[1;32m      6\u001b[0m     edges \u001b[39m=\u001b[39m []\n",
      "File \u001b[0;32m~/Documents/codebase/DataDistillery/venv/lib/python3.10/site-packages/py2neo/database.py:405\u001b[0m, in \u001b[0;36mGraph.run\u001b[0;34m(self, cypher, parameters, **kwparameters)\u001b[0m\n\u001b[1;32m    395\u001b[0m \u001b[39mdef\u001b[39;00m \u001b[39mrun\u001b[39m(\u001b[39mself\u001b[39m, cypher, parameters\u001b[39m=\u001b[39m\u001b[39mNone\u001b[39;00m, \u001b[39m*\u001b[39m\u001b[39m*\u001b[39mkwparameters):\n\u001b[1;32m    396\u001b[0m \u001b[39m    \u001b[39m\u001b[39m\"\"\" Run a single read/write query within an auto-commit\u001b[39;00m\n\u001b[1;32m    397\u001b[0m \u001b[39m    :class:`~py2neo.Transaction`.\u001b[39;00m\n\u001b[1;32m    398\u001b[0m \n\u001b[0;32m   (...)\u001b[0m\n\u001b[1;32m    403\u001b[0m \u001b[39m    :return:\u001b[39;00m\n\u001b[1;32m    404\u001b[0m \u001b[39m    \"\"\"\u001b[39;00m\n\u001b[0;32m--> 405\u001b[0m     \u001b[39mreturn\u001b[39;00m \u001b[39mself\u001b[39;49m\u001b[39m.\u001b[39;49mauto()\u001b[39m.\u001b[39;49mrun(cypher, parameters, \u001b[39m*\u001b[39;49m\u001b[39m*\u001b[39;49mkwparameters)\n",
      "File \u001b[0;32m~/Documents/codebase/DataDistillery/venv/lib/python3.10/site-packages/py2neo/database.py:992\u001b[0m, in \u001b[0;36mTransaction.run\u001b[0;34m(self, cypher, parameters, **kwparameters)\u001b[0m\n\u001b[1;32m    988\u001b[0m     \u001b[39melse\u001b[39;00m:\n\u001b[1;32m    989\u001b[0m         result \u001b[39m=\u001b[39m \u001b[39mself\u001b[39m\u001b[39m.\u001b[39m_connector\u001b[39m.\u001b[39mauto_run(cypher, parameters,\n\u001b[1;32m    990\u001b[0m                                           graph_name\u001b[39m=\u001b[39m\u001b[39mself\u001b[39m\u001b[39m.\u001b[39mgraph\u001b[39m.\u001b[39mname,\n\u001b[1;32m    991\u001b[0m                                           readonly\u001b[39m=\u001b[39m\u001b[39mself\u001b[39m\u001b[39m.\u001b[39mreadonly)\n\u001b[0;32m--> 992\u001b[0m     \u001b[39mself\u001b[39;49m\u001b[39m.\u001b[39;49m_connector\u001b[39m.\u001b[39;49mpull(result, \u001b[39m-\u001b[39;49m\u001b[39m1\u001b[39;49m)\n\u001b[1;32m    993\u001b[0m     \u001b[39mreturn\u001b[39;00m Cursor(result, hydrant)\n\u001b[1;32m    994\u001b[0m \u001b[39mfinally\u001b[39;00m:\n",
      "File \u001b[0;32m~/Documents/codebase/DataDistillery/venv/lib/python3.10/site-packages/py2neo/client/__init__.py:1434\u001b[0m, in \u001b[0;36mConnector.pull\u001b[0;34m(self, result, n)\u001b[0m\n\u001b[1;32m   1432\u001b[0m cx \u001b[39m=\u001b[39m \u001b[39mself\u001b[39m\u001b[39m.\u001b[39m_reacquire(result\u001b[39m.\u001b[39mtransaction)\n\u001b[1;32m   1433\u001b[0m \u001b[39mtry\u001b[39;00m:\n\u001b[0;32m-> 1434\u001b[0m     cx\u001b[39m.\u001b[39;49mpull(result, n\u001b[39m=\u001b[39;49mn)\n\u001b[1;32m   1435\u001b[0m \u001b[39mexcept\u001b[39;00m (ConnectionUnavailable, ConnectionBroken):\n\u001b[1;32m   1436\u001b[0m     \u001b[39mself\u001b[39m\u001b[39m.\u001b[39mprune(cx\u001b[39m.\u001b[39mprofile)\n",
      "File \u001b[0;32m~/Documents/codebase/DataDistillery/venv/lib/python3.10/site-packages/py2neo/client/bolt.py:1001\u001b[0m, in \u001b[0;36mBolt4x0.pull\u001b[0;34m(self, result, n, capacity)\u001b[0m\n\u001b[1;32m    998\u001b[0m     raise_from(ConnectionBroken(\u001b[39m\"\u001b[39m\u001b[39mTransaction broken by disconnection \u001b[39m\u001b[39m\"\u001b[39m\n\u001b[1;32m    999\u001b[0m                                 \u001b[39m\"\u001b[39m\u001b[39mduring pull\u001b[39m\u001b[39m\"\u001b[39m), error)\n\u001b[1;32m   1000\u001b[0m \u001b[39melse\u001b[39;00m:\n\u001b[0;32m-> 1001\u001b[0m     \u001b[39mself\u001b[39;49m\u001b[39m.\u001b[39;49m_audit(\u001b[39mself\u001b[39;49m\u001b[39m.\u001b[39;49m_transaction)\n\u001b[1;32m   1002\u001b[0m     \u001b[39mreturn\u001b[39;00m response\n",
      "File \u001b[0;32m~/Documents/codebase/DataDistillery/venv/lib/python3.10/site-packages/py2neo/client/bolt.py:810\u001b[0m, in \u001b[0;36mBolt1._audit\u001b[0;34m(self, task)\u001b[0m\n\u001b[1;32m    808\u001b[0m     \u001b[39mreturn\u001b[39;00m\n\u001b[1;32m    809\u001b[0m \u001b[39mtry\u001b[39;00m:\n\u001b[0;32m--> 810\u001b[0m     task\u001b[39m.\u001b[39;49maudit()\n\u001b[1;32m    811\u001b[0m \u001b[39mexcept\u001b[39;00m Neo4jError:\n\u001b[1;32m    812\u001b[0m     \u001b[39mself\u001b[39m\u001b[39m.\u001b[39mreset(force\u001b[39m=\u001b[39m\u001b[39mTrue\u001b[39;00m)\n",
      "File \u001b[0;32m~/Documents/codebase/DataDistillery/venv/lib/python3.10/site-packages/py2neo/client/bolt.py:1140\u001b[0m, in \u001b[0;36mItemizedTask.audit\u001b[0;34m(self)\u001b[0m\n\u001b[1;32m   1138\u001b[0m \u001b[39mdef\u001b[39;00m \u001b[39maudit\u001b[39m(\u001b[39mself\u001b[39m):\n\u001b[1;32m   1139\u001b[0m     \u001b[39mfor\u001b[39;00m item \u001b[39min\u001b[39;00m \u001b[39mself\u001b[39m\u001b[39m.\u001b[39m_items:\n\u001b[0;32m-> 1140\u001b[0m         item\u001b[39m.\u001b[39;49maudit()\n",
      "File \u001b[0;32m~/Documents/codebase/DataDistillery/venv/lib/python3.10/site-packages/py2neo/client/bolt.py:1140\u001b[0m, in \u001b[0;36mItemizedTask.audit\u001b[0;34m(self)\u001b[0m\n\u001b[1;32m   1138\u001b[0m \u001b[39mdef\u001b[39;00m \u001b[39maudit\u001b[39m(\u001b[39mself\u001b[39m):\n\u001b[1;32m   1139\u001b[0m     \u001b[39mfor\u001b[39;00m item \u001b[39min\u001b[39;00m \u001b[39mself\u001b[39m\u001b[39m.\u001b[39m_items:\n\u001b[0;32m-> 1140\u001b[0m         item\u001b[39m.\u001b[39;49maudit()\n",
      "File \u001b[0;32m~/Documents/codebase/DataDistillery/venv/lib/python3.10/site-packages/py2neo/client/bolt.py:1303\u001b[0m, in \u001b[0;36mBoltResponse.audit\u001b[0;34m(self)\u001b[0m\n\u001b[1;32m   1301\u001b[0m \u001b[39mif\u001b[39;00m \u001b[39mself\u001b[39m\u001b[39m.\u001b[39m_failure:\n\u001b[1;32m   1302\u001b[0m     \u001b[39mself\u001b[39m\u001b[39m.\u001b[39mset_ignored()\n\u001b[0;32m-> 1303\u001b[0m     \u001b[39mraise\u001b[39;00m \u001b[39mself\u001b[39m\u001b[39m.\u001b[39m_failure\n",
      "\u001b[0;31mClientError\u001b[0m: [Statement.SyntaxError] Invalid input 'ORDER': expected\n  \",\"\n  \"CALL\"\n  \"CREATE\"\n  \"DELETE\"\n  \"DETACH\"\n  \"FOREACH\"\n  \"LOAD\"\n  \"MATCH\"\n  \"MERGE\"\n  \"OPTIONAL\"\n  \"REMOVE\"\n  \"RETURN\"\n  \"SET\"\n  \"UNION\"\n  \"UNWIND\"\n  \"USE\"\n  \"USING\"\n  \"WHERE\"\n  \"WITH\"\n  <EOF> (line 3, column 1 (offset: 135))\n\"ORDER BY r1.evidence DESC\"\n ^"
     ]
    }
   ],
   "source": [
    "gene_symbol = \"FABP4 gene\"\n",
    "tissue = \"breast epithelium\"\n",
    "limit = 5\n",
    "query = '''\n",
    "MATCH p=(a:`Gene or Genome` {label: \"%s\"})-[r1:expresses]-(b:GTEXEXP)-[r2:expresses]-(c:Tissue {label: \"%s\"}) \n",
    "ORDER BY r1.evidence DESC \n",
    "RETURN p\n",
    "LIMIT %d\n",
    "'''%(gene_symbol, tissue, limit)\n",
    "table = cypher(query)"
   ]
  },
  {
   "cell_type": "code",
   "execution_count": 31,
   "metadata": {},
   "outputs": [
    {
     "name": "stdout",
     "output_type": "stream",
     "text": [
      "\n",
      "MATCH p=(a:`Gene or Genome` {label: \"FABP4 gene\"})-[r1:expresses]-(b:GTEXEXP)-[r2:expresses]-(c:Tissue {label: \"breast epithelium\"}) \n",
      "ORDER BY r1.evidence DESC \n",
      "RETURN p\n",
      "LIMIT 5\n",
      "\n"
     ]
    }
   ],
   "source": [
    "query = '''\n",
    "MATCH p=(a:`Gene or Genome` {label: \"%s\"})-[r1:expresses]-(b:GTEXEXP)-[r2:expresses]-(c:Tissue {label: \"%s\"}) \n",
    "RETURN p\n",
    "ORDER BY r1.evidence DESC \n",
    "LIMIT %d\n",
    "'''%(gene_symbol, tissue, limit)\n",
    "print(query)"
   ]
  },
  {
   "cell_type": "markdown",
   "metadata": {},
   "source": [
    "### Use Case 2\n",
    "Find all genes that are highly expressed in the GTEx <tissue> dataset and may be perturbed by a specific compound based on data from the LINCS L1000 dataset and known drug targets found in data curated by IDG.\n"
   ]
  },
  {
   "cell_type": "code",
   "execution_count": 12,
   "metadata": {},
   "outputs": [
    {
     "data": {
      "application/vnd.jupyter.widget-view+json": {
       "model_id": "0f6ef4474a1d49278215194e3d5bebbc",
       "version_major": 2,
       "version_minor": 0
      },
      "text/plain": [
       "CytoscapeWidget(cytoscape_layout={'name': 'cola'}, cytoscape_style=[{'selector': 'node', 'style': {'background…"
      ]
     },
     "metadata": {},
     "output_type": "display_data"
    }
   ],
   "source": [
    "gene_symbol = \"CES1 gene\"\n",
    "limit = 5\n",
    "query = '''\n",
    "MATCH p=(a:`Gene, Protein, or Genome` {label: \"%s\"})-[r1:`negatively regulates`]-(b:Drug) \n",
    "    RETURN p\n",
    "    ORDER BY r1.evidence DESC \n",
    "    LIMIT %d\n",
    "UNION\n",
    "MATCH p=(a:`Gene, Protein, or Genome` {label: \"%s\"})-[r1:`positively regulates`]-(b:Drug) \n",
    "    RETURN p \n",
    "    ORDER BY r1.evidence DESC \n",
    "    LIMIT %d\n",
    "UNION\n",
    "MATCH p=(a:`Gene, Protein, or Genome` {label: \"%s\"})-[r1:`bioactivity`]-(b:Drug) \n",
    "    RETURN p \n",
    "    ORDER BY r1.evidence DESC \n",
    "    LIMIT %d\n",
    "UNION\n",
    "    MATCH p=(a:`Gene, Protein, or Genome` {label: \"%s\"})-[r1:expresses]-(b:GTEXEXP)-[r2:expresses]-(c:Tissue) \n",
    "    RETURN p \n",
    "    ORDER BY r1.evidence DESC \n",
    "    LIMIT %d\n",
    "'''%(gene_symbol, limit, gene_symbol, limit, gene_symbol, limit, gene_symbol, limit)\n",
    "table = cypher(query)"
   ]
  },
  {
   "cell_type": "code",
   "execution_count": null,
   "metadata": {},
   "outputs": [],
   "source": [
    "'''MATCH q=(t:Tissue {label: \"Subcutaneous Fat\"})-[r1:expresses]-(b:GTEXEXP)-[r2:expresses]-(g:`Gene, Protein, or Genome`) \n",
    "WITH q, g\n",
    "LIMIT 25\n",
    "CALL {\n",
    "    WITH q, g\n",
    "        MATCH p=(g)-[r1:`bioactivity`]-(a:Drug)\n",
    "            RETURN p\n",
    "        LIMIT 10\n",
    "    UNION\n",
    "    WITH q, g\n",
    "        MATCH p=(g)-[r1:`positively regulates`]-(a:Drug)\n",
    "            RETURN p\n",
    "            ORDER BY r1.evidence DESC \n",
    "        LIMIT 10\n",
    "    UNION\n",
    "        WITH q, g\n",
    "        MATCH p=(g)-[r1:`negatively regulates`]-(a:Drug)\n",
    "            RETURN p\n",
    "            ORDER BY r1.evidence ASC \n",
    "        LIMIT 10\n",
    "}\n",
    "WITH COLLECT([p,q]) as tmp\n",
    "UNWIND tmp as p\n",
    "RETURN p'''"
   ]
  },
  {
   "cell_type": "code",
   "execution_count": 9,
   "metadata": {},
   "outputs": [
    {
     "name": "stdout",
     "output_type": "stream",
     "text": [
      "\n",
      "MATCH p=(a:`Gene or Genome` {label: \"CES1 gene\"})-[r1:`negatively regulates`]-(b:Drug) \n",
      "    RETURN p\n",
      "    ORDER BY r1.evidence DESC \n",
      "    LIMIT 5\n",
      "UNION\n",
      "MATCH p=(a:`Gene or Genome` {label: \"CES1 gene\"})-[r1:`positively regulates`]-(b:Drug) \n",
      "    RETURN p \n",
      "    ORDER BY r1.evidence DESC \n",
      "    LIMIT 5\n",
      "UNION\n",
      "MATCH p=(a:`Gene or Genome` {label: \"CES1 gene\"})-[r1:`bioactivity`]-(b:Drug) \n",
      "    RETURN p \n",
      "    ORDER BY r1.evidence DESC \n",
      "    LIMIT 5\n",
      "UNION\n",
      "MATCH p=(a:`Gene or Genome` {label: \"CES1 gene\"})-[r1:expresses]-(b:GTEXEXP)-[r2:expresses]-(c:Tissue) \n",
      "RETURN p \n",
      "ORDER BY r1.evidence DESC \n",
      "LIMIT 5\n",
      "\n"
     ]
    }
   ],
   "source": [
    "print(query)"
   ]
  },
  {
   "cell_type": "markdown",
   "metadata": {},
   "source": [
    "### Use Case 4\n",
    "For a specific drug transporter or drug processing enzyme, find the tissue where these transporters and enzymes are highly expressed (GTEx), and the drugs that may induce or suppress the expression of these genes (LINCS).\n"
   ]
  },
  {
   "cell_type": "code",
   "execution_count": 19,
   "metadata": {},
   "outputs": [
    {
     "data": {
      "application/vnd.jupyter.widget-view+json": {
       "model_id": "2fb2189c7fa9488aace34eae91dcd0c2",
       "version_major": 2,
       "version_minor": 0
      },
      "text/plain": [
       "CytoscapeWidget(cytoscape_layout={'name': 'cola'}, cytoscape_style=[{'selector': 'node', 'style': {'background…"
      ]
     },
     "metadata": {},
     "output_type": "display_data"
    }
   ],
   "source": [
    "gene_symbol = \"CES1 gene\"\n",
    "limit = 5\n",
    "query = '''\n",
    "MATCH p=(a:`Gene or Genome` {label: \"%s\"})-[r1:`negatively regulates`]-(b:Drug) \n",
    "    RETURN p\n",
    "    ORDER BY r1.evidence DESC \n",
    "    LIMIT %d\n",
    "UNION\n",
    "MATCH p=(a:`Gene or Genome` {label: \"%s\"})-[r1:`positively regulates`]-(b:Drug) \n",
    "    RETURN p \n",
    "    ORDER BY r1.evidence DESC \n",
    "    LIMIT %d\n",
    "UNION\n",
    "MATCH p=(a:`Gene or Genome` {label: \"%s\"})-[r1:expresses]-(b:GTEXEXP)-[r2:expresses]-(c:Tissue) \n",
    "RETURN p \n",
    "ORDER BY r1.evidence DESC \n",
    "LIMIT %d\n",
    "'''%(gene_symbol, limit, gene_symbol, limit, gene_symbol, limit)\n",
    "table = cypher(query)"
   ]
  },
  {
   "cell_type": "markdown",
   "metadata": {},
   "source": [
    "## MW"
   ]
  },
  {
   "cell_type": "code",
   "execution_count": null,
   "metadata": {},
   "outputs": [],
   "source": [
    "'''\n",
    "MATCH p=(d:Disease {label: 'glutathione synthetase deficiency'})-[:`correlated with condition`]-(m)\n",
    "WITH p, d, m\n",
    "LIMIT 25\n",
    "CALL {\n",
    "    WITH p, d, m\n",
    "    MATCH q=(a:Tissue)-[:produces]-(m)\n",
    "    RETURN q\n",
    "    LIMIT 5\n",
    "}\n",
    "WITH COLLECT([p,q]) as tmp\n",
    "UNWIND tmp as p\n",
    "RETURN p\n",
    "'''"
   ]
  }
 ],
 "metadata": {
  "kernelspec": {
   "display_name": "venv",
   "language": "python",
   "name": "python3"
  },
  "language_info": {
   "codemirror_mode": {
    "name": "ipython",
    "version": 3
   },
   "file_extension": ".py",
   "mimetype": "text/x-python",
   "name": "python",
   "nbconvert_exporter": "python",
   "pygments_lexer": "ipython3",
   "version": "3.10.9"
  },
  "orig_nbformat": 4
 },
 "nbformat": 4,
 "nbformat_minor": 2
}
