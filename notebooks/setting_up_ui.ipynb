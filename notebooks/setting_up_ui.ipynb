{
 "cells": [
  {
   "attachments": {},
   "cell_type": "markdown",
   "metadata": {},
   "source": [
    "# Building the UI\n",
    "In addition to the Neo4j console and the notebook earlier, we can provide develop a public facing website that we can share with the public without providing them write access to the neo4j database.\n",
    "\n",
    "The UI provides single and two-term search where the latter uses allShortestPath to query all the shortest paths between two terms. To build the UI, we need to create a UI schema that is built using the data that was ingested in the graph db. This notebook automates the creation of this schema file."
   ]
  },
  {
   "cell_type": "code",
   "execution_count": 1,
   "metadata": {},
   "outputs": [],
   "source": [
    "import re\n",
    "import json\n",
    "from glob import glob\n",
    "import pandas as pd\n",
    "import glasbey\n",
    "import seaborn as sns\n",
    "import random\n",
    "\n",
    "sns.set()"
   ]
  },
  {
   "cell_type": "code",
   "execution_count": 2,
   "metadata": {},
   "outputs": [
    {
     "data": {
      "text/plain": [
       "114"
      ]
     },
     "execution_count": 2,
     "metadata": {},
     "output_type": "execute_result"
    }
   ],
   "source": [
    "counter = 0\n",
    "for filename in glob(\"../out/0915/filtered/nodes/*.nodes.csv\"):\n",
    "    counter += 1\n",
    "counter"
   ]
  },
  {
   "cell_type": "code",
   "execution_count": 3,
   "metadata": {},
   "outputs": [
    {
     "data": {
      "image/png": "[encoded data removed]",
      "text/plain": [
       "<Figure size 11400x100 with 1 Axes>"
      ]
     },
     "metadata": {},
     "output_type": "display_data"
    }
   ],
   "source": [
    "palette = glasbey.create_palette(palette_size=counter, lightness_bounds=(65, 80))\n",
    "sns.palplot(palette)"
   ]
  },
  {
   "cell_type": "code",
   "execution_count": 4,
   "metadata": {},
   "outputs": [
    {
     "data": {
      "text/plain": [
       "'#35d71c'"
      ]
     },
     "execution_count": 4,
     "metadata": {},
     "output_type": "execute_result"
    }
   ],
   "source": [
    "palette[0]"
   ]
  },
  {
   "cell_type": "code",
   "execution_count": 5,
   "metadata": {},
   "outputs": [],
   "source": [
    "filenames = sorted([i for i in glob(\"../out/0915/filtered/nodes/*.nodes.csv\")])\n",
    "random.shuffle(filenames)\n"
   ]
  },
  {
   "attachments": {},
   "cell_type": "markdown",
   "metadata": {},
   "source": [
    "## Node Schema\n",
    "\n",
    "```\n",
    "{\n",
    "    \"node\": \"Gene\",\n",
    "    \"example\": [\n",
    "        \"COPB2\",\n",
    "        \"SDF2L1\"\n",
    "    ],\n",
    "    \"display\": [\n",
    "        {\n",
    "            \"label\": \"Gene ID\",\n",
    "            \"text\": \"${id}\",\n",
    "            \"type\": \"text\"\n",
    "        },\n",
    "        {\n",
    "            \"label\": \"label\",\n",
    "            \"text\": \"${label}\",\n",
    "            \"type\": \"text\"\n",
    "        },\n",
    "        {\n",
    "            \"label\": \"uri\",\n",
    "            \"text\": \"${uri}\",\n",
    "            \"href\": \"${uri}\",\n",
    "            \"type\": \"link\"\n",
    "        }\n",
    "    ],\n",
    "    \"search\": [\n",
    "        \"id\",\n",
    "        \"label\"\n",
    "    ],\n",
    "    \"color\": \"#c5e1a5\"\n",
    "}\n",
    "\n",
    "```\n",
    "This is a node schema for the node \"Gene\". The example field will display as an example on the UI while the display field tells the UI what to display as a tooltip. Meanwhile, search tells the UI that we can search both id and label fields of the nodes. Node colors are automatically generated but can otherwise be set using the field color for more customization."
   ]
  },
  {
   "cell_type": "code",
   "execution_count": 12,
   "metadata": {},
   "outputs": [],
   "source": [
    "node_schema = []\n",
    "node_pattern = \"(?P<directory>.+)/(?P<label>.+)\\.(?P<entity>.+)\\.csv\"\n",
    "counter = 0\n",
    "for filename in filenames:\n",
    "    match = re.match(node_pattern, filename).groupdict()\n",
    "    label = match[\"label\"].replace(\"_\", \" \")\n",
    "    df = pd.read_csv(filename, low_memory=False)\n",
    "    display = []\n",
    "    search = []\n",
    "    for i in df.columns:\n",
    "        if i == \"id\":\n",
    "            display.append({\n",
    "                'label': '%s ID'%label,\n",
    "                'text': \"${%s}\"%i,\n",
    "                'type': 'text'\n",
    "            })\n",
    "        else:\n",
    "            val = str(df.at[0, i])\n",
    "            if val.startswith(\"http\"):\n",
    "                display.append({\n",
    "                    'label': i,\n",
    "                    'text': \"${%s}\"%i,\n",
    "                    'href': \"${%s}\"%i,\n",
    "                    'type': 'link'\n",
    "                })\n",
    "            else:\n",
    "                display.append({\n",
    "                    'label': i,\n",
    "                    'text': \"${%s}\"%i,\n",
    "                    'type': 'text'\n",
    "                })\n",
    "    examples = [i for i in df[\"label\"].unique() if type(i) == str][0:2]\n",
    "    node = {\n",
    "        \"node\": label,\n",
    "        \"example\": examples,\n",
    "        \"display\": display,\n",
    "        \"relation\": [],\n",
    "        \"search\": [i for i in df.columns if \"value\" not in i and \"lowerbound\" not in i and \"upperbound\" not in i and \"is_\" not in i ],\n",
    "        \"color\": palette[counter]\n",
    "    }\n",
    "    counter += 1\n",
    "    node_schema.append(node)\n",
    "        "
   ]
  },
  {
   "attachments": {},
   "cell_type": "markdown",
   "metadata": {},
   "source": [
    "## Edge Schema\n",
    "```\n",
    "{\n",
    "    \"match\": [\n",
    "        \"KEGG\"\n",
    "    ],\n",
    "    \"selected\": true,\n",
    "    \"display\": [\n",
    "        {\n",
    "            \"label\": \"source\",\n",
    "            \"text\": \"${source}\",\n",
    "            \"type\": \"text\"\n",
    "        },\n",
    "        {\n",
    "            \"label\": \"relation\",\n",
    "            \"text\": \"${relation}\",\n",
    "            \"type\": \"text\"\n",
    "        },\n",
    "        {\n",
    "            \"label\": \"target\",\n",
    "            \"text\": \"${target}\",\n",
    "            \"type\": \"text\"\n",
    "        },\n",
    "        {\n",
    "            \"label\": \"source label\",\n",
    "            \"text\": \"${source_label}\",\n",
    "            \"type\": \"text\"\n",
    "        },\n",
    "        {\n",
    "            \"label\": \"target label\",\n",
    "            \"text\": \"${target_label}\",\n",
    "            \"type\": \"text\"\n",
    "        },\n",
    "        {\n",
    "            \"label\": \"resource\",\n",
    "            \"text\": \"${resource}\",\n",
    "            \"href\": \"${resource}\",\n",
    "            \"type\": \"link\"\n",
    "        }\n",
    "    ]\n",
    "}\n",
    "```\n",
    "\n",
    "This is the same with node schema with a few differences, first match allows you to match multiple edge types and selected is a field that allows us to select what edges are queried by default when doing two term searches."
   ]
  },
  {
   "cell_type": "code",
   "execution_count": 13,
   "metadata": {},
   "outputs": [
    {
     "data": {
      "text/plain": [
       "3"
      ]
     },
     "execution_count": 13,
     "metadata": {},
     "output_type": "execute_result"
    }
   ],
   "source": [
    "edge_schema = []\n",
    "edge_pattern = \"(?P<directory>.+)/(?P<source_type>.+)\\.(?P<relation>.+)\\.(?P<target_type>.+)\\.(?P<entity>.+)\\.csv\"\n",
    "edge_dict = {}\n",
    "for filename in glob(\"../out/0915/filtered/edges/*.edges.csv\"):\n",
    "   match = re.match(edge_pattern, filename).groupdict()\n",
    "   entity = match[\"entity\"]\n",
    "   source_type = match[\"source_type\"]\n",
    "   relation = match[\"relation\"].replace(\"_\", \" \")\n",
    "   edge = {\n",
    "      # \"match\": [relation],\n",
    "      \"selected\": True,\n",
    "   }\n",
    "   order = [\"evidence\", \"ASC\"] if \"negative\" in relation.lower() else [\"evidence\", \"DESC\"]\n",
    "   color = \"#bdbdbd\"\n",
    "   if \"positive\" in relation.lower():\n",
    "       color = \"#90caf9\" \n",
    "   elif \"negative\" in relation.lower():\n",
    "      color = \"#ef9a9a\"\n",
    "   edge[\"order\"] = order\n",
    "   edge[\"color\"] = color\n",
    "   df = pd.read_csv(filename)\n",
    "   display = []\n",
    "   for i in df.columns:\n",
    "      if i == \"id\":\n",
    "         display.append({\n",
    "               'label': '%s ID'%label,\n",
    "               'text': \"${%s}\"%i,\n",
    "               'type': 'text'\n",
    "         })\n",
    "      else:\n",
    "         val = str(df.at[0, i])\n",
    "         if val.startswith(\"http\"):\n",
    "               display.append({\n",
    "                  'label': i.replace(\"_\", \" \"),\n",
    "                  'text': \"${%s}\"%i,\n",
    "                  'href': \"${%s}\"%i,\n",
    "                  'type': 'link'\n",
    "               })\n",
    "         else:\n",
    "               display.append({\n",
    "                  'label': i.replace(\"_\", \" \"),\n",
    "                  'text': \"${%s}\"%i,\n",
    "                  'type': 'text'\n",
    "               })\n",
    "         edge[\"display\"] = display\n",
    "   edge_cols = \",\".join(list(df.columns) + order + [color])\n",
    "   if edge_cols not in edge_dict:\n",
    "       edge_dict[edge_cols] = {\n",
    "           \"match\": [relation],\n",
    "           **edge\n",
    "       }\n",
    "   else:\n",
    "       edge_dict[edge_cols][\"match\"].append(relation)\n",
    "\n",
    "for k in edge_dict:\n",
    "    edge_dict[k][\"match\"] = list(set(edge_dict[k][\"match\"]))\n",
    "edge_schema = list(edge_dict.values())\n",
    "len(edge_schema)\n",
    "         "
   ]
  },
  {
   "attachments": {},
   "cell_type": "markdown",
   "metadata": {},
   "source": [
    "## Additional schema\n",
    "\n",
    "The next part are miscellaneous schemas that you can use to modify our UI. Notice the tabs field, this is where we define the pages in our knowledge graph as well as the components that you want to render.\n",
    "\n",
    "Currently we have the following components available:\n",
    "1. KnowledgeGraph: this renders the single and two term search components\n",
    "2. Markdown: this is for rendering static markdown files, useful for tutorials\n",
    "3. Enrichment: For enrichment page.\n",
    "   \n",
    "Each component takes specific props like init_function that initializes/prefetch the static props for the page. For this example, we only look at the KnowledgeGraph component. For more information on how to use the other components you can check: https://maayanlab.cloud/enrichr-kg/api/knowledge_graph/schema"
   ]
  },
  {
   "cell_type": "code",
   "execution_count": 24,
   "metadata": {},
   "outputs": [],
   "source": [
    "rest = {\n",
    "    \"header\": {\n",
    "\t\t\"title\": \"Data Distillery Knowledge Graph\",\n",
    "\t\t\"icon\": {\n",
    "\t\t\t\"src\": \"https://s3.amazonaws.com/maayan-kg/cfde-kg/assets/CFDE.png\",\n",
    "\t\t\t\"favicon\": \"https://s3.amazonaws.com/maayan-kg/cfde-kg/assets/favicon.png\",\n",
    "\t\t\t\"faviconTitle\": \"Data Distillery KG\",\n",
    "\t\t\t\"alt\": \"Data Distillery\",\n",
    "\t\t\t\"key\": \"data_distillery_logo\",\n",
    "\t\t\t\"width\": 100,\n",
    "\t\t\t\"height\": 100\n",
    "\t\t},\n",
    "\t\t\"tabs\": [\n",
    "\t\t\t{\n",
    "\t\t\t\t\"endpoint\": \"/\",\n",
    "\t\t\t\t\"label\": \"Term & Gene Search\",\n",
    "\t\t\t\t\"type\": \"page\",\n",
    "\t\t\t\t\"component\": \"KnowledgeGraph\",\n",
    "\t\t\t\t\"props\": {\n",
    "\t\t\t\t\t\"init_function\": \"initialize_kg\",\n",
    "                    \"initial_query\": {\n",
    "                        \"start\": \"Gene\",\n",
    "                        \"start_term\": \"CES1 gene\",\n",
    "                        \"start_field\": \"label\", \n",
    "                        \"relation\": \"positively regulates\"\n",
    "\t\t\t\t\t}\n",
    "\t\t\t\t}\n",
    "\t\t\t},\n",
    "            {\n",
    "\t\t\t\t\"endpoint\": \"/tissue2drugs\",\n",
    "\t\t\t\t\"label\": \"Use Case 2: Tissue2Drugs\",\n",
    "\t\t\t\t\"type\": \"page\",\n",
    "\t\t\t\t\"component\": \"DistilleryUseCase\",\n",
    "\t\t\t\t\"props\": {\n",
    "\t\t\t\t\t\"init_function\": \"initialize_kg\",\n",
    "\t\t\t\t\t\"title\":\"Use Case 2: Tissue2Drugs\",\n",
    "\t\t\t\t\t\"description\":\"Find all genes that are highly expressed in the GTEx <tissue> dataset and may be perturbed by a specific compound based on data from the LINCS L1000 dataset and known drug targets found in data curated by IDG.\",\n",
    "\t\t\t\t\t\"endpoint\":\"/api/distillery/usecase/tissue2drugs\",\n",
    "\t\t\t\t\t\"type\":\"Tissue\",\n",
    "                    \"options_endpoint\": \"/api/distillery/usecase/gtex_tissue\",\n",
    "                    \"fields\": [\"UBERON\", \"id\", \"label\"],\n",
    "                    \"default_term\":'breast epithelium', \n",
    "\t\t\t\t}\n",
    "\t\t\t},\n",
    "            {\n",
    "\t\t\t\t\"endpoint\": \"/mw_diseases\",\n",
    "\t\t\t\t\"label\": \"Use Case 3: MW Disease\",\n",
    "\t\t\t\t\"type\": \"page\",\n",
    "\t\t\t\t\"component\": \"DistilleryUseCase\",\n",
    "\t\t\t\t\"props\": {\n",
    "\t\t\t\t\t\"init_function\": \"initialize_kg\",\n",
    "\t\t\t\t\t\"title\":\"Use Case 3: MWDiseases\",\n",
    "\t\t\t\t\t\"description\":\"For a specific disease in Metabolomics Workbench data, find all IDG and GTEx data that may be related by disease and tissue type.\",\n",
    "\t\t\t\t\t\"endpoint\":\"/api/distillery/usecase/mw\",\n",
    "\t\t\t\t\t\"type\":\"Disease\",\n",
    "                    \"options_endpoint\": \"/api/distillery/usecase/mw_diseases\",\n",
    "                    \"fields\": [\"DOID\", \"id\", \"label\", \"MONDO\", \"ORPHANET\", \"HP\"],\n",
    "                    \"default_term\":'breast epithelium', \n",
    "\t\t\t\t}\n",
    "\t\t\t},\n",
    "            {\n",
    "\t\t\t\t\"endpoint\": \"/enzyminer\",\n",
    "\t\t\t\t\"label\": \"Use Case 4: Enzyminer\",\n",
    "\t\t\t\t\"type\": \"page\",\n",
    "\t\t\t\t\"component\": \"DistilleryUseCase\",\n",
    "\t\t\t\t\"props\": {\n",
    "\t\t\t\t\t\"init_function\": \"initialize_kg\",\n",
    "                    \"relations\":[\"positively regulates\", \"negatively regulates\", \"expresses\"],\n",
    "\t\t\t\t\t\"title\":\"Use Case 4: EnzyMiner\",\n",
    "\t\t\t\t\t\"description\":\"Select a gene to view drugs that up or down regulate it as well as tissues that highly expresses it.\",\n",
    "\t\t\t\t\t\"endpoint\":\"/api/knowledge_graph\",\n",
    "\t\t\t\t\t\"type\":\"Gene\",\n",
    "                    \"options_endpoint\": \"/api/knowledge_graph/node_search\",\n",
    "                    \"fields\": [\"ENTREZ\", \"UNIPROTKB\", \"label\", \"HGNC\"],\n",
    "                    \"default_term\":'CES1 gene', \n",
    "\t\t\t\t\t\"checkbox_filter\": {\"is_Enzyme\":True}, \n",
    "\t\t\t\t\t\"filter_text\":\"Enzyme\",\n",
    "\t\t\t\t}\n",
    "\t\t\t}\n",
    "\t\t]\n",
    "\t},\n",
    "\t\"footer\": [\n",
    "\t\t{\n",
    "\t\t\t\"type\": \"github\",\n",
    "\t\t\t\"code\": \"https://github.com/MaayanLab/enrichr-kg\",\n",
    "\t\t\t\"issues\": \"https://github.com/MaayanLab/enrichr-kg/issues\"\n",
    "\t\t},\n",
    "\t\t{\n",
    "\t\t\t\"type\": \"icon\",\n",
    "\t\t\t\"key\": \"cfde_icon\",\n",
    "\t\t\t\"src\": \"https://s3.amazonaws.com/maayan-kg/cfde-kg/assets/CFDE.png\",\n",
    "\t\t\t\"alt\": \"MaayanLab\",\n",
    "\t\t\t\"href\": \"https://www.nih-cfde.org/\",\n",
    "\t\t\t\"height\": 120,\n",
    "\t\t\t\"width\": 200\n",
    "\t\t}\n",
    "\n",
    "\t],\n",
    "    \"ui\": {\n",
    "        \"background\": \"#763C76\"\n",
    "\t}\n",
    "}"
   ]
  },
  {
   "attachments": {},
   "cell_type": "markdown",
   "metadata": {},
   "source": [
    "## Putting it all together"
   ]
  },
  {
   "cell_type": "code",
   "execution_count": 25,
   "metadata": {},
   "outputs": [],
   "source": [
    "schema = {\n",
    "    \"nodes\": node_schema,\n",
    "    \"edges\": edge_schema,\n",
    "    **rest\n",
    "}\n",
    "\n",
    "with open(\"../schema.json\", 'w') as o:\n",
    "    o.write(json.dumps(schema, indent=4))"
   ]
  },
  {
   "attachments": {},
   "cell_type": "markdown",
   "metadata": {},
   "source": [
    "Once you have the schema, you can upload it and obtain a link, then set the following as env variable:\n",
    "\n",
    "```\n",
    "## landing endpoint\n",
    "NEXT_PUBLIC_PREFIX=\n",
    "\n",
    "## NEO4 specs\n",
    "NEO4J_URL=bolt://localhost:7687\n",
    "NEO4J_USER=neo4j\n",
    "NEO4J_NAME=kg\n",
    "NEO4J_PASSWORD=mysecretpassword\n",
    "\n",
    "# The link to the schema\n",
    "NEXT_PUBLIC_SCHEMA=https://s3.amazonaws.com/maayan-kg/enrichr-kg/assets/schema.json\n",
    "\n",
    "# set this if you are using assets (images etc) from different domains\n",
    "NEXT_PUBLIC_DOMAINS=minio.dokku.maayanlab.cloud,github.com,minio.dev.maayanlab.cloud,s3.amazonaws.com\n",
    "\n",
    "\n",
    "NEXT_PUBLIC_HOST=http://localhost:3000\n",
    "\n",
    "```\n",
    "\n",
    "Then run the following:\n",
    "\n",
    "```\n",
    "docker-compose up\n",
    "```\n",
    "\n",
    "http://localhost:3000/ should now be accessible (provided you kept the same prefix as above, if you set it to say, /kg, the the site is accessible on http://localhost:3000/kg)\n"
   ]
  },
  {
   "cell_type": "code",
   "execution_count": null,
   "metadata": {},
   "outputs": [],
   "source": []
  }
 ],
 "metadata": {
  "kernelspec": {
   "display_name": "venv",
   "language": "python",
   "name": "python3"
  },
  "language_info": {
   "codemirror_mode": {
    "name": "ipython",
    "version": 3
   },
   "file_extension": ".py",
   "mimetype": "text/x-python",
   "name": "python",
   "nbconvert_exporter": "python",
   "pygments_lexer": "ipython3",
   "version": "3.10.9"
  },
  "orig_nbformat": 4,
  "vscode": {
   "interpreter": {
    "hash": "798122c9e4f43102ac6a3a7c51d7fe95ee01edcdc77ff31e968bccde04a8b5dc"
   }
  }
 },
 "nbformat": 4,
 "nbformat_minor": 2
}
