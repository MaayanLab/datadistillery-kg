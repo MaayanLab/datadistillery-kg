{
 "cells": [
  {
   "cell_type": "code",
   "execution_count": 1,
   "metadata": {},
   "outputs": [],
   "source": [
    "import boto3\n",
    "from botocore.exceptions import ClientError\n",
    "from glob import glob\n",
    "import pandas as pd\n",
    "from glob import glob\n",
    "import re\n",
    "import csv"
   ]
  },
  {
   "cell_type": "code",
   "execution_count": 2,
   "metadata": {},
   "outputs": [],
   "source": [
    "edge_pattern = \"(?P<directory>.+)/(?P<source_type>.+)\\.(?P<relation>.+)\\.(?P<target_type>.+)\\.(?P<entity>.+)\\.csv\""
   ]
  },
  {
   "cell_type": "code",
   "execution_count": 3,
   "metadata": {},
   "outputs": [
    {
     "ename": "KeyboardInterrupt",
     "evalue": "",
     "output_type": "error",
     "traceback": [
      "\u001b[0;31m---------------------------------------------------------------------------\u001b[0m",
      "\u001b[0;31mKeyboardInterrupt\u001b[0m                         Traceback (most recent call last)",
      "\u001b[1;32m/Users/maayanlab/Documents/codebase/DataDistillery/assertion.ipynb Cell 3\u001b[0m line \u001b[0;36m1\n\u001b[1;32m     <a href='vscode-notebook-cell:/Users/maayanlab/Documents/codebase/DataDistillery/assertion.ipynb#W2sZmlsZQ%3D%3D?line=9'>10</a>\u001b[0m csv_writer \u001b[39m=\u001b[39m csv\u001b[39m.\u001b[39mwriter(o)\n\u001b[1;32m     <a href='vscode-notebook-cell:/Users/maayanlab/Documents/codebase/DataDistillery/assertion.ipynb#W2sZmlsZQ%3D%3D?line=10'>11</a>\u001b[0m \u001b[39mfor\u001b[39;00m i, row \u001b[39min\u001b[39;00m df[df\u001b[39m.\u001b[39mDCC \u001b[39m==\u001b[39m dcc]\u001b[39m.\u001b[39miterrows():\n\u001b[0;32m---> <a href='vscode-notebook-cell:/Users/maayanlab/Documents/codebase/DataDistillery/assertion.ipynb#W2sZmlsZQ%3D%3D?line=11'>12</a>\u001b[0m     csv_writer\u001b[39m.\u001b[39mwriterow([row[k] \u001b[39mfor\u001b[39;00m k \u001b[39min\u001b[39;00m cols])\n",
      "\u001b[1;32m/Users/maayanlab/Documents/codebase/DataDistillery/assertion.ipynb Cell 3\u001b[0m line \u001b[0;36m1\n\u001b[1;32m     <a href='vscode-notebook-cell:/Users/maayanlab/Documents/codebase/DataDistillery/assertion.ipynb#W2sZmlsZQ%3D%3D?line=9'>10</a>\u001b[0m csv_writer \u001b[39m=\u001b[39m csv\u001b[39m.\u001b[39mwriter(o)\n\u001b[1;32m     <a href='vscode-notebook-cell:/Users/maayanlab/Documents/codebase/DataDistillery/assertion.ipynb#W2sZmlsZQ%3D%3D?line=10'>11</a>\u001b[0m \u001b[39mfor\u001b[39;00m i, row \u001b[39min\u001b[39;00m df[df\u001b[39m.\u001b[39mDCC \u001b[39m==\u001b[39m dcc]\u001b[39m.\u001b[39miterrows():\n\u001b[0;32m---> <a href='vscode-notebook-cell:/Users/maayanlab/Documents/codebase/DataDistillery/assertion.ipynb#W2sZmlsZQ%3D%3D?line=11'>12</a>\u001b[0m     csv_writer\u001b[39m.\u001b[39mwriterow([row[k] \u001b[39mfor\u001b[39;00m k \u001b[39min\u001b[39;00m cols])\n",
      "File \u001b[0;32m~/Documents/codebase/DataDistillery/venv/lib/python3.10/site-packages/pandas/core/series.py:1007\u001b[0m, in \u001b[0;36mSeries.__getitem__\u001b[0;34m(self, key)\u001b[0m\n\u001b[1;32m   1004\u001b[0m     \u001b[39mreturn\u001b[39;00m \u001b[39mself\u001b[39m\u001b[39m.\u001b[39m_values[key]\n\u001b[1;32m   1006\u001b[0m \u001b[39melif\u001b[39;00m key_is_scalar:\n\u001b[0;32m-> 1007\u001b[0m     \u001b[39mreturn\u001b[39;00m \u001b[39mself\u001b[39;49m\u001b[39m.\u001b[39;49m_get_value(key)\n\u001b[1;32m   1009\u001b[0m \u001b[39mif\u001b[39;00m is_hashable(key):\n\u001b[1;32m   1010\u001b[0m     \u001b[39m# Otherwise index.get_value will raise InvalidIndexError\u001b[39;00m\n\u001b[1;32m   1011\u001b[0m     \u001b[39mtry\u001b[39;00m:\n\u001b[1;32m   1012\u001b[0m         \u001b[39m# For labels that don't resolve as scalars like tuples and frozensets\u001b[39;00m\n",
      "File \u001b[0;32m~/Documents/codebase/DataDistillery/venv/lib/python3.10/site-packages/pandas/core/series.py:1099\u001b[0m, in \u001b[0;36mSeries._get_value\u001b[0;34m(self, label, takeable)\u001b[0m\n\u001b[1;32m   1096\u001b[0m     new_mgr \u001b[39m=\u001b[39m \u001b[39mself\u001b[39m\u001b[39m.\u001b[39m_mgr\u001b[39m.\u001b[39mgetitem_mgr(indexer)\n\u001b[1;32m   1097\u001b[0m     \u001b[39mreturn\u001b[39;00m \u001b[39mself\u001b[39m\u001b[39m.\u001b[39m_constructor(new_mgr)\u001b[39m.\u001b[39m__finalize__(\u001b[39mself\u001b[39m)\n\u001b[0;32m-> 1099\u001b[0m \u001b[39mdef\u001b[39;00m \u001b[39m_get_value\u001b[39m(\u001b[39mself\u001b[39m, label, takeable: \u001b[39mbool\u001b[39m \u001b[39m=\u001b[39m \u001b[39mFalse\u001b[39;00m):\n\u001b[1;32m   1100\u001b[0m \u001b[39m    \u001b[39m\u001b[39m\"\"\"\u001b[39;00m\n\u001b[1;32m   1101\u001b[0m \u001b[39m    Quickly retrieve single value at passed index label.\u001b[39;00m\n\u001b[1;32m   1102\u001b[0m \n\u001b[0;32m   (...)\u001b[0m\n\u001b[1;32m   1110\u001b[0m \u001b[39m    scalar value\u001b[39;00m\n\u001b[1;32m   1111\u001b[0m \u001b[39m    \"\"\"\u001b[39;00m\n\u001b[1;32m   1112\u001b[0m     \u001b[39mif\u001b[39;00m takeable:\n",
      "\u001b[0;31mKeyboardInterrupt\u001b[0m: "
     ]
    }
   ],
   "source": [
    "cols = ['source', 'source_type', 'source_label', 'relation', 'target', 'target_type',  'target_label', 'SAB', 'DCC', 'evidence']\n",
    "for filename in glob(\"out/0915/filtered/edges/*\"):\n",
    "    df = pd.read_csv(filename)\n",
    "    match = re.match(edge_pattern, filename).groupdict()\n",
    "    df[\"source_type\"] = match[\"source_type\"]\n",
    "    df[\"target_type\"] = match[\"target_type\"]\n",
    "    df = df[cols]\n",
    "    for dcc in df.DCC.unique():\n",
    "        with open(\"out/assertions/%s.edges.csv\"%dcc, 'a') as o:\n",
    "            csv_writer = csv.writer(o)\n",
    "            for i, row in df[df.DCC == dcc].iterrows():\n",
    "                csv_writer.writerow([row[k] for k in cols])\n",
    "        \n",
    "        "
   ]
  },
  {
   "cell_type": "code",
   "execution_count": null,
   "metadata": {},
   "outputs": [],
   "source": []
  }
 ],
 "metadata": {
  "kernelspec": {
   "display_name": "venv",
   "language": "python",
   "name": "python3"
  },
  "language_info": {
   "codemirror_mode": {
    "name": "ipython",
    "version": 3
   },
   "file_extension": ".py",
   "mimetype": "text/x-python",
   "name": "python",
   "nbconvert_exporter": "python",
   "pygments_lexer": "ipython3",
   "version": "3.10.9"
  },
  "orig_nbformat": 4
 },
 "nbformat": 4,
 "nbformat_minor": 2
}
