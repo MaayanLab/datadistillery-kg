{
 "cells": [
  {
   "cell_type": "code",
   "execution_count": 1,
   "metadata": {},
   "outputs": [],
   "source": [
    "from neo4j import GraphDatabase\n",
    "import pandas as pd\n",
    "from dotenv import load_dotenv\n",
    "from glob import glob\n",
    "import re\n",
    "import os\n",
    "import numpy as np\n",
    "from tqdm import tqdm\n",
    "from uuid import uuid5, NAMESPACE_URL"
   ]
  },
  {
   "cell_type": "code",
   "execution_count": 2,
   "metadata": {},
   "outputs": [
    {
     "data": {
      "text/plain": [
       "True"
      ]
     },
     "execution_count": 2,
     "metadata": {},
     "output_type": "execute_result"
    }
   ],
   "source": [
    "load_dotenv()"
   ]
  },
  {
   "cell_type": "code",
   "execution_count": 3,
   "metadata": {},
   "outputs": [
    {
     "name": "stderr",
     "output_type": "stream",
     "text": [
      "100%|██████████| 84/84 [00:00<00:00, 184558.16it/s]\n"
     ]
    }
   ],
   "source": [
    "pattern = \"out/sab/(?P<SAB>.*)\\.(?P<node_type>.+)\\.nodes\\.csv\"\n",
    "node_types = {}\n",
    "for filename in tqdm(glob('out/sab/*.nodes.csv')):\n",
    "\tnode_type = re.match(pattern, filename).groupdict()['node_type']\n",
    "\tif node_type not in node_types:\n",
    "\t\tnode_types[node_type] = []\n",
    "\tnode_types[node_type].append(filename)"
   ]
  },
  {
   "cell_type": "code",
   "execution_count": 4,
   "metadata": {},
   "outputs": [],
   "source": [
    "node_ids = {}\n",
    "for k,v in node_types.items():\n",
    "\tnode_ids[k] = set()\n",
    "\tfor filename in v:\n",
    "\t\tdf = pd.read_csv(filename, index_col=0)\n",
    "\t\tnode_ids[k] = node_ids[k].union(df.index)"
   ]
  },
  {
   "cell_type": "code",
   "execution_count": 5,
   "metadata": {},
   "outputs": [
    {
     "data": {
      "text/plain": [
       "8196986"
      ]
     },
     "execution_count": 5,
     "metadata": {},
     "output_type": "execute_result"
    }
   ],
   "source": [
    "all_nodes = set()\n",
    "for k,v in node_ids.items():\n",
    "\tall_nodes = all_nodes.union(v)\n",
    "len(all_nodes)"
   ]
  },
  {
   "cell_type": "code",
   "execution_count": 6,
   "metadata": {},
   "outputs": [
    {
     "name": "stdout",
     "output_type": "stream",
     "text": [
      "('Gene', 'Metabolite') 1\n",
      "('Anatomy', 'Disease or Phenotype') 1\n",
      "('Anatomy', 'Biofluid') 3\n",
      "('Compound', 'Metabolite') 1305\n",
      "('PATO', 'Sex') 2\n"
     ]
    }
   ],
   "source": [
    "nodes = {}\n",
    "for node_type_a, ids_a in node_ids.items():\n",
    "\tfor node_type_b, ids_b in node_ids.items():\n",
    "\t\tif node_type_a != node_type_b:\n",
    "\t\t\tintersect = ids_a.intersection(ids_b)\n",
    "\t\t\tif len(intersect):\n",
    "\t\t\t\tnode_ids[node_type_a] = node_ids[node_type_a] - intersect\n",
    "\t\t\t\tnode_ids[node_type_b] = node_ids[node_type_b] - intersect\n",
    "\t\t\t\tnodes[(node_type_a, node_type_b)] = intersect\n",
    "\t\t\t\tprint((node_type_a, node_type_b), len(intersect))"
   ]
  },
  {
   "cell_type": "code",
   "execution_count": 7,
   "metadata": {},
   "outputs": [],
   "source": [
    "for k,v in node_ids.items():\n",
    "\tnodes[(k)] = v"
   ]
  },
  {
   "cell_type": "code",
   "execution_count": 10,
   "metadata": {},
   "outputs": [
    {
     "name": "stdout",
     "output_type": "stream",
     "text": [
      "('Gene', 'Metabolite')\n",
      "('Anatomy', 'Disease or Phenotype')\n",
      "('Anatomy', 'Biofluid')\n",
      "('Compound', 'Metabolite')\n",
      "('PATO', 'Sex')\n",
      "Glytoucan\n",
      "Glycoprotein\n",
      "Isoform\n",
      "Protein\n",
      "4DN File\n",
      "Gene\n",
      "MOTRPAC\n",
      "Anatomy\n",
      "GlyGen Location\n",
      "SO\n",
      "ILX\n",
      "Amino Acid\n",
      "Compound\n",
      "HSCLO\n",
      "Metabolite\n",
      "Glycoprotein Citation\n",
      "PATO\n",
      "MSIGDB\n",
      "EXPBINS\n",
      "RBP Binding Loci\n",
      "NIFSTD\n",
      "GTEXPVALUEBIN\n",
      "GlyGen Residue\n",
      "Disease or Phenotype\n",
      "exRNA Loci\n",
      "4DN QVal Bin\n",
      "Biofluid\n",
      "GO\n",
      "Glycan Motif\n",
      "Assay\n",
      "Regulatory Element Activity\n",
      "Glycoprotein Evidence\n",
      "Taxon\n",
      "ENCODE CCRE Data Matrix\n",
      "Glycosyltransferase Reaction\n",
      "Glycosylation\n",
      "KFPT\n",
      "GTEXEQTL\n",
      "KFGENEBIN\n",
      "GP ID2PRO\n",
      "GlyGen src\n",
      "GlyGen Glycosequence\n",
      "KFCOHORT\n",
      "Sex\n",
      "CLINGEN ALLELE REGISTRY\n",
      "4DN Loop\n",
      "ENCODE CCRE\n",
      "GTEXEXP\n",
      "4DN Dataset\n",
      "Glycosylation Site\n"
     ]
    }
   ],
   "source": [
    "all_nodes = set()\n",
    "for k,v in nodes.items():\n",
    "\tprint(k)\n",
    "\tall_nodes = all_nodes.union(v)"
   ]
  },
  {
   "cell_type": "code",
   "execution_count": 11,
   "metadata": {},
   "outputs": [
    {
     "data": {
      "text/plain": [
       "8196986"
      ]
     },
     "execution_count": 11,
     "metadata": {},
     "output_type": "execute_result"
    }
   ],
   "source": [
    "len(all_nodes)"
   ]
  },
  {
   "cell_type": "code",
   "execution_count": 12,
   "metadata": {},
   "outputs": [
    {
     "data": {
      "text/plain": [
       "55"
      ]
     },
     "execution_count": 12,
     "metadata": {},
     "output_type": "execute_result"
    }
   ],
   "source": [
    "len(nodes)"
   ]
  },
  {
   "cell_type": "code",
   "execution_count": 13,
   "metadata": {},
   "outputs": [
    {
     "data": {
      "text/plain": [
       "'bolt://localhost:7687'"
      ]
     },
     "execution_count": 13,
     "metadata": {},
     "output_type": "execute_result"
    }
   ],
   "source": [
    "os.getenv('NEO4J_URL')"
   ]
  },
  {
   "cell_type": "code",
   "execution_count": 14,
   "metadata": {},
   "outputs": [],
   "source": [
    "def index_nodes(node_type, name):\n",
    "\twith GraphDatabase.driver(os.getenv('NEO4J_URL'), auth=(os.getenv('NEO4J_USER'), os.getenv('NEO4J_PASSWORD'))) as driver:\n",
    "\t\twith driver.session(database=\"neo4j\") as session:\n",
    "\t\t\ttx = session.begin_transaction()\n",
    "\t\t\ttry:\n",
    "\t\t\t\ttx.run(\"CREATE CONSTRAINT distillery_unique_id_%s IF NOT EXISTS  FOR (n:%s) REQUIRE n.id IS UNIQUE\"%(name, node_type))\n",
    "\t\t\t\ttx.run(\"CREATE INDEX distillery_index_id_%s IF NOT EXISTS  FOR (n:%s) ON (n.id)\"%(name, node_type))\n",
    "\t\t\t\ttx.run(\"CREATE INDEX distillery_index_label_%s IF NOT EXISTS  FOR (n:%s) ON (n.label)\"%(name, node_type))\n",
    "\t\t\t\ttx.commit()\n",
    "\t\t\texcept Exception as e:\n",
    "\t\t\t\tprint(e)\n",
    "\t\t\t\ttx.rollback()\n",
    "\t\t\tfinally:\n",
    "\t\t\t\ttx.close()"
   ]
  },
  {
   "cell_type": "code",
   "execution_count": 15,
   "metadata": {},
   "outputs": [],
   "source": [
    "for node_type in node_types:\n",
    "\tn = node_type\n",
    "\tif len(node_type.split(\" \")) > 1:\n",
    "\t\tn = \"`%s`\"%node_type\n",
    "\tindex_nodes(n, node_type.replace(\" \", \"_\"))"
   ]
  },
  {
   "cell_type": "code",
   "execution_count": 16,
   "metadata": {},
   "outputs": [],
   "source": [
    "def ingest_node(node_type, nodes, limit=10000):\n",
    "\tsuccess = True\n",
    "\twith GraphDatabase.driver(os.getenv('NEO4J_URL'), auth=(os.getenv('NEO4J_USER'), os.getenv('NEO4J_PASSWORD'))) as driver:\n",
    "\t\twith driver.session(database=\"neo4j\") as session:\n",
    "\t\t\tskip = 0\n",
    "\t\t\tprint(\"Ingesting: %s\"%(\", \".join(node_type)))\n",
    "\t\t\twhile skip < len(nodes):\n",
    "\t\t\t\tbatch = nodes[skip: skip+limit]\n",
    "\t\t\t\ttx = session.begin_transaction()\n",
    "\t\t\t\ttry:\n",
    "\t\t\t\t\tquery = '''\n",
    "\t\t\t\t\t\tUNWIND $batch as map\n",
    "\t\t\t\t\t\tCREATE (n:%s)\n",
    "\t\t\t\t\t\tSET n = map\n",
    "\t\t\t\t\t'''%(\":\".join(node_type))\n",
    "\t\t\t\t\ttx.run(query, {\"batch\": batch})\n",
    "\t\t\t\t\tskip += limit\n",
    "\t\t\t\t\ttx.commit()\n",
    "\t\t\t\texcept Exception as e:\n",
    "\t\t\t\t\tprint(\"Error rolling back...\")\n",
    "\t\t\t\t\tprint(\"Exception\", e)\n",
    "\t\t\t\t\ttx.rollback()\n",
    "\t\t\t\t\tsuccess = False\n",
    "\t\t\t\t\tbreak\n",
    "\t\t\t\tfinally:\n",
    "\t\t\t\t\ttx.close()\n",
    "\t\t\telse:\n",
    "\t\t\t\tsuccess = True\t\t\t\n",
    "\treturn success"
   ]
  },
  {
   "cell_type": "code",
   "execution_count": 17,
   "metadata": {},
   "outputs": [
    {
     "name": "stdout",
     "output_type": "stream",
     "text": [
      "Ingesting: Gene, Metabolite\n",
      "Ingesting: Anatomy, `Disease or Phenotype`\n",
      "Ingesting: Anatomy, Biofluid\n",
      "Ingesting: Compound, Metabolite\n",
      "Ingesting: PATO, Sex\n",
      "Ingesting: Glytoucan\n",
      "Ingesting: Glycoprotein\n",
      "Ingesting: Isoform\n",
      "Ingesting: Protein\n",
      "Ingesting: `4DN File`\n",
      "Ingesting: Gene\n",
      "Ingesting: MOTRPAC\n",
      "Ingesting: Anatomy\n",
      "Ingesting: `GlyGen Location`\n",
      "Ingesting: SO\n",
      "Ingesting: ILX\n",
      "Ingesting: `Amino Acid`\n",
      "Ingesting: Compound\n",
      "Ingesting: HSCLO\n",
      "Ingesting: Metabolite\n",
      "Ingesting: `Glycoprotein Citation`\n",
      "Ingesting: PATO\n",
      "Ingesting: MSIGDB\n",
      "Ingesting: EXPBINS\n",
      "Ingesting: `RBP Binding Loci`\n",
      "Ingesting: NIFSTD\n",
      "Ingesting: GTEXPVALUEBIN\n",
      "Ingesting: `GlyGen Residue`\n",
      "Ingesting: `Disease or Phenotype`\n",
      "Ingesting: `exRNA Loci`\n",
      "Ingesting: `4DN QVal Bin`\n",
      "Ingesting: Biofluid\n",
      "Ingesting: GO\n",
      "Ingesting: `Glycan Motif`\n",
      "Ingesting: Assay\n",
      "Ingesting: `Regulatory Element Activity`\n",
      "Ingesting: `Glycoprotein Evidence`\n",
      "Ingesting: Taxon\n",
      "Ingesting: `ENCODE CCRE Data Matrix`\n",
      "Ingesting: `Glycosyltransferase Reaction`\n",
      "Ingesting: Glycosylation\n",
      "Ingesting: KFPT\n",
      "Ingesting: GTEXEQTL\n",
      "Ingesting: KFGENEBIN\n",
      "Ingesting: `GP ID2PRO`\n",
      "Ingesting: `GlyGen src`\n",
      "Ingesting: `GlyGen Glycosequence`\n",
      "Ingesting: KFCOHORT\n",
      "Ingesting: Sex\n",
      "Ingesting: `CLINGEN ALLELE REGISTRY`\n",
      "Ingesting: `4DN Loop`\n",
      "Ingesting: `ENCODE CCRE`\n",
      "Ingesting: GTEXEXP\n",
      "Ingesting: `4DN Dataset`\n",
      "Ingesting: `Glycosylation Site`\n"
     ]
    }
   ],
   "source": [
    "\n",
    "for node_type, node_ids in nodes.items():\n",
    "\tnode_type = node_type if type(node_type) == tuple else [node_type]\n",
    "\tnode_dict = {}\n",
    "\tfor t in node_type:\n",
    "\t\tfilenames = node_types[t]\n",
    "\t\tfor file in filenames:\n",
    "\t\t\tdf = pd.read_csv(file, index_col=0)\n",
    "\t\t\tidx = list(node_ids.intersection(df.index))\n",
    "\t\t\tdf = df.loc[idx]\n",
    "\t\t\tfor k,row in df.iterrows():\n",
    "\t\t\t\tv = {}\n",
    "\t\t\t\tfor i,j in row.items():\n",
    "\t\t\t\t\tif type(j) == str:\n",
    "\t\t\t\t\t\tv[i] = j\n",
    "\t\t\t\t\telif not np.isnan(j):\n",
    "\t\t\t\t\t\tv[i] = int(j)\n",
    "\t\t\t\tif k not in node_dict:\n",
    "\t\t\t\t\tnode_dict[k] = {\n",
    "\t\t\t\t\t\t\"id\": k,\n",
    "\t\t\t\t\t\t**v\n",
    "\t\t\t\t\t}\n",
    "\t\t\t\telse:\n",
    "\t\t\t\t\tnode_dict[k] = {\n",
    "\t\t\t\t\t\t**node_dict[k],\n",
    "\t\t\t\t\t\t**v\n",
    "\t\t\t\t\t}\n",
    "\tn = []\n",
    "\tfor i in node_type:\n",
    "\t\tif len(i.split(\" \")) > 1:\n",
    "\t\t\tn.append(\"`%s`\"%i)\n",
    "\t\telse:\n",
    "\t\t\tn.append(i)\n",
    "\t\n",
    "\tr = ingest_node(n, list(node_dict.values()))\n",
    "\tif not r:\n",
    "\t\tbreak\n",
    "\t"
   ]
  },
  {
   "cell_type": "code",
   "execution_count": 18,
   "metadata": {},
   "outputs": [
    {
     "name": "stdout",
     "output_type": "stream",
     "text": [
      "out/sab/4DN.Anatomy.nodes.csv\n",
      "out/sab/GTEXEXP.Anatomy.nodes.csv\n",
      "out/sab/GTEXEQTL.Anatomy.nodes.csv\n",
      "out/sab/HMAZ.Anatomy.nodes.csv\n",
      "out/sab/MOTRPAC.Anatomy.nodes.csv\n",
      "out/sab/ERCCREG.Anatomy.nodes.csv\n",
      "out/sab/NPO.Anatomy.nodes.csv\n",
      "out/sab/AZ.Anatomy.nodes.csv\n",
      "out/sab/MW.Anatomy.nodes.csv\n"
     ]
    }
   ],
   "source": [
    "pattern = \"out/sab/(?P<SAB>.*)\\.(?P<node_type>.+)\\.nodes\\.csv\"\n",
    "node_sabs = {}\n",
    "for filename in glob('out/sab/*.nodes.csv'):\n",
    "\tif \"Anatomy\" in filename:\n",
    "\t\tprint(filename)\n",
    "\tsab = re.match(pattern, filename).groupdict()['SAB']\n",
    "\tif sab not in node_sabs:\n",
    "\t\tnode_sabs[sab] = []\n",
    "\tnode_sabs[sab].append(filename)"
   ]
  },
  {
   "cell_type": "code",
   "execution_count": 19,
   "metadata": {},
   "outputs": [],
   "source": [
    "def ingest_edges(relation, meta, source, target, edges, limit=10000):\n",
    "\tsuccess = True\n",
    "\twith GraphDatabase.driver(os.getenv('NEO4J_URL'), auth=(os.getenv('NEO4J_USER'), os.getenv('NEO4J_PASSWORD'))) as driver:\n",
    "\t\twith driver.session(database=\"neo4j\") as session:\n",
    "\t\t\tskip = 0\n",
    "\t\t\twhile skip < len(edges):\n",
    "\t\t\t\tbatch = edges[skip: skip+limit]\n",
    "\t\t\t\ttx = session.begin_transaction()\n",
    "\t\t\t\ttry:\n",
    "\t\t\t\t\tquery = '''\n",
    "\t\t\t\t\t\tUNWIND $batch as row\n",
    "\t\t\t\t\t\tMATCH (n:%s), (m:%s)\n",
    "\t\t\t\t\t\tWHERE n.id=row.source and m.id=row.target\n",
    "\t\t\t\t\t\tCREATE (n)-[r:%s {\n",
    "\t\t\t\t\t\t\t%s\n",
    "\t\t\t\t\t\t}]->(m)\n",
    "\n",
    "\t\t\t\t\t'''%(source, target, relation, meta)\n",
    "\t\t\t\t\ttx.run(query, {\"batch\": batch})\n",
    "\t\t\t\t\tskip += limit\n",
    "\t\t\t\t\ttx.commit()\n",
    "\t\t\t\texcept Exception as e:\n",
    "\t\t\t\t\tprint(\"Error rolling back...\")\n",
    "\t\t\t\t\tprint(\"Exception\", e)\n",
    "\t\t\t\t\ttx.rollback()\n",
    "\t\t\t\t\tsuccess = False\n",
    "\t\t\t\t\tbreak\n",
    "\t\t\t\tfinally:\n",
    "\t\t\t\t\ttx.close()\n",
    "\t\t\telse:\n",
    "\t\t\t\tsuccess = True\t\t\t\n",
    "\treturn success"
   ]
  },
  {
   "cell_type": "code",
   "execution_count": 20,
   "metadata": {},
   "outputs": [],
   "source": [
    "import csv"
   ]
  },
  {
   "cell_type": "code",
   "execution_count": 21,
   "metadata": {},
   "outputs": [
    {
     "name": "stdout",
     "output_type": "stream",
     "text": [
      "IDGD\n",
      "Compound `Disease or Phenotype`\n",
      "Ingesting 7287 indication relation of IDGD\n",
      "HGNCHPO\n",
      "Gene `Disease or Phenotype`\n",
      "Ingesting 657199 associated_with relation of HGNCHPO\n",
      "GLYCANS\n",
      "Glycosylation|`Glycosyltransferase Reaction`|Glytoucan|`GlyGen Residue` Protein|`GlyGen src`|`GlyGen Glycosequence`|Glycosylation|`Glycosyltransferase Reaction`|`Glycan Motif`|`GlyGen Residue`\n",
      "Ingesting 182 has_enzyme_protein relation of GLYCANS\n",
      "Glycosylation|`Glycosyltransferase Reaction`|Glytoucan|`GlyGen Residue` Protein|`GlyGen src`|`GlyGen Glycosequence`|Glycosylation|`Glycosyltransferase Reaction`|`Glycan Motif`|`GlyGen Residue`\n",
      "Ingesting 30986 is_from_source relation of GLYCANS\n",
      "Glycosylation|`Glycosyltransferase Reaction`|Glytoucan|`GlyGen Residue` Protein|`GlyGen src`|`GlyGen Glycosequence`|Glycosylation|`Glycosyltransferase Reaction`|`Glycan Motif`|`GlyGen Residue`\n",
      "Ingesting 117146 has_glycosequence relation of GLYCANS\n",
      "Glycosylation|`Glycosyltransferase Reaction`|Glytoucan|`GlyGen Residue` Protein|`GlyGen src`|`GlyGen Glycosequence`|Glycosylation|`Glycosyltransferase Reaction`|`Glycan Motif`|`GlyGen Residue`\n",
      "Ingesting 349 attached_by relation of GLYCANS\n",
      "Glycosylation|`Glycosyltransferase Reaction`|Glytoucan|`GlyGen Residue` Protein|`GlyGen src`|`GlyGen Glycosequence`|Glycosylation|`Glycosyltransferase Reaction`|`Glycan Motif`|`GlyGen Residue`\n",
      "Ingesting 210563 synthesized_by relation of GLYCANS\n",
      "Glycosylation|`Glycosyltransferase Reaction`|Glytoucan|`GlyGen Residue` Protein|`GlyGen src`|`GlyGen Glycosequence`|Glycosylation|`Glycosyltransferase Reaction`|`Glycan Motif`|`GlyGen Residue`\n",
      "Ingesting 19321 has_motif relation of GLYCANS\n",
      "Glycosylation|`Glycosyltransferase Reaction`|Glytoucan|`GlyGen Residue` Protein|`GlyGen src`|`GlyGen Glycosequence`|Glycosylation|`Glycosyltransferase Reaction`|`Glycan Motif`|`GlyGen Residue`\n",
      "Ingesting 86033 has_canonical_residue relation of GLYCANS\n",
      "Glycosylation|`Glycosyltransferase Reaction`|Glytoucan|`GlyGen Residue` Protein|`GlyGen src`|`GlyGen Glycosequence`|Glycosylation|`Glycosyltransferase Reaction`|`Glycan Motif`|`GlyGen Residue`\n",
      "Ingesting 79 has_parent relation of GLYCANS\n",
      "KF\n",
      "KFPT|KFGENEBIN KFCOHORT|`Disease or Phenotype`|Gene\n",
      "Ingesting 18704 belongs_to_cohort relation of KF\n",
      "KFPT|KFGENEBIN KFCOHORT|`Disease or Phenotype`|Gene\n",
      "Ingesting 44611 has_phenotype relation of KF\n",
      "KFPT|KFGENEBIN KFCOHORT|`Disease or Phenotype`|Gene\n",
      "Ingesting 13375 gene_has_variants relation of KF\n",
      "GTEXEQTL\n",
      "GTEXEQTL Gene|Anatomy|HSCLO|GTEXPVALUEBIN\n",
      "Ingesting 4522828 located_in relation of GTEXEQTL\n",
      "GTEXEQTL Gene|Anatomy|HSCLO|GTEXPVALUEBIN\n",
      "Ingesting 1251403 p_value relation of GTEXEQTL\n",
      "MOTRPAC\n",
      "MOTRPAC Gene|Anatomy|Sex\n",
      "Ingesting 8570 associated_with relation of MOTRPAC\n",
      "MOTRPAC Gene|Anatomy|Sex\n",
      "Ingesting 8571 located_in relation of MOTRPAC\n",
      "MOTRPAC Gene|Anatomy|Sex\n",
      "Ingesting 8571 sex relation of MOTRPAC\n",
      "IDGP\n",
      "Compound Protein\n",
      "Ingesting 428636 bioactivity relation of IDGP\n",
      "ERCCREG\n",
      "Anatomy|`ENCODE CCRE`|`Regulatory Element Activity`|`CLINGEN ALLELE REGISTRY`|GTEXEQTL `Regulatory Element Activity`|Gene|`ENCODE CCRE Data Matrix`|`ENCODE CCRE`|GTEXEQTL\n",
      "Ingesting 4925800 part_of relation of ERCCREG\n",
      "Anatomy|`ENCODE CCRE`|`Regulatory Element Activity`|`CLINGEN ALLELE REGISTRY`|GTEXEQTL `Regulatory Element Activity`|Gene|`ENCODE CCRE Data Matrix`|`ENCODE CCRE`|GTEXEQTL\n",
      "Ingesting 4804247 regulates relation of ERCCREG\n",
      "Anatomy|`ENCODE CCRE`|`Regulatory Element Activity`|`CLINGEN ALLELE REGISTRY`|GTEXEQTL `Regulatory Element Activity`|Gene|`ENCODE CCRE Data Matrix`|`ENCODE CCRE`|GTEXEQTL\n",
      "Ingesting 4793066 isa relation of ERCCREG\n",
      "Anatomy|`ENCODE CCRE`|`Regulatory Element Activity`|`CLINGEN ALLELE REGISTRY`|GTEXEQTL `Regulatory Element Activity`|Gene|`ENCODE CCRE Data Matrix`|`ENCODE CCRE`|GTEXEQTL\n",
      "Ingesting 63051 located_in relation of ERCCREG\n",
      "Anatomy|`ENCODE CCRE`|`Regulatory Element Activity`|`CLINGEN ALLELE REGISTRY`|GTEXEQTL `Regulatory Element Activity`|Gene|`ENCODE CCRE Data Matrix`|`ENCODE CCRE`|GTEXEQTL\n",
      "Ingesting 156836 negatively_regulates relation of ERCCREG\n",
      "Anatomy|`ENCODE CCRE`|`Regulatory Element Activity`|`CLINGEN ALLELE REGISTRY`|GTEXEQTL `Regulatory Element Activity`|Gene|`ENCODE CCRE Data Matrix`|`ENCODE CCRE`|GTEXEQTL\n",
      "Ingesting 154093 positively_regulates relation of ERCCREG\n",
      "4DN\n",
      "`4DN Dataset`|`4DN File`|`4DN Loop` Assay|Anatomy|`4DN File`|`4DN Loop`|HSCLO|`4DN QVal Bin`\n",
      "Ingesting 24 has_assay_type relation of 4DN\n",
      "`4DN Dataset`|`4DN File`|`4DN Loop` Assay|Anatomy|`4DN File`|`4DN Loop`|HSCLO|`4DN QVal Bin`\n",
      "Ingesting 12 dataset_involves_cell_type relation of 4DN\n",
      "`4DN Dataset`|`4DN File`|`4DN Loop` Assay|Anatomy|`4DN File`|`4DN Loop`|HSCLO|`4DN QVal Bin`\n",
      "Ingesting 12 dataset_has_file relation of 4DN\n",
      "`4DN Dataset`|`4DN File`|`4DN Loop` Assay|Anatomy|`4DN File`|`4DN Loop`|HSCLO|`4DN QVal Bin`\n",
      "Ingesting 215821 file_has_loop relation of 4DN\n",
      "`4DN Dataset`|`4DN File`|`4DN Loop` Assay|Anatomy|`4DN File`|`4DN Loop`|HSCLO|`4DN QVal Bin`\n",
      "Ingesting 215818 loop_us_start relation of 4DN\n",
      "`4DN Dataset`|`4DN File`|`4DN Loop` Assay|Anatomy|`4DN File`|`4DN Loop`|HSCLO|`4DN QVal Bin`\n",
      "Ingesting 215822 loop_us_end relation of 4DN\n",
      "`4DN Dataset`|`4DN File`|`4DN Loop` Assay|Anatomy|`4DN File`|`4DN Loop`|HSCLO|`4DN QVal Bin`\n",
      "Ingesting 215822 loop_ds_start relation of 4DN\n",
      "`4DN Dataset`|`4DN File`|`4DN Loop` Assay|Anatomy|`4DN File`|`4DN Loop`|HSCLO|`4DN QVal Bin`\n",
      "Ingesting 215822 loop_ds_end relation of 4DN\n",
      "`4DN Dataset`|`4DN File`|`4DN Loop` Assay|Anatomy|`4DN File`|`4DN Loop`|HSCLO|`4DN QVal Bin`\n",
      "Ingesting 215822 loop_has_qvalue_bin relation of 4DN\n",
      "LINCS\n",
      "Compound Compound|Gene\n",
      "Ingesting 20785 in_similarity_relationship_with relation of LINCS\n",
      "Compound Compound|Gene\n",
      "Ingesting 112750 positively_regulates relation of LINCS\n",
      "Compound Compound|Gene\n",
      "Ingesting 112759 negatively_regulates relation of LINCS\n",
      "MW\n",
      "Anatomy|Gene|Metabolite Metabolite|`Disease or Phenotype`\n",
      "Ingesting 48455 produces relation of MW\n",
      "Anatomy|Gene|Metabolite Metabolite|`Disease or Phenotype`\n",
      "Ingesting 7354 causally_influences relation of MW\n",
      "Anatomy|Gene|Metabolite Metabolite|`Disease or Phenotype`\n",
      "Ingesting 4979 correlated_with_condition relation of MW\n",
      "GTEXEXP\n",
      "GTEXEXP|Gene EXPBINS|Gene|Anatomy\n",
      "Ingesting 1573380 has_expression relation of GTEXEXP\n",
      "GTEXEXP|Gene EXPBINS|Gene|Anatomy\n",
      "Ingesting 6293520 expressed_in relation of GTEXEXP\n",
      "CLINVAR\n",
      "Gene `Disease or Phenotype`\n",
      "Ingesting 61898 gene_associated_with_disease_or_phenotype relation of CLINVAR\n",
      "ERCCRBP\n",
      "Protein|`exRNA Loci`|`RBP Binding Loci` `RBP Binding Loci`|Biofluid|Gene\n",
      "Ingesting 690919 molecularly_interacts_with relation of ERCCRBP\n",
      "Protein|`exRNA Loci`|`RBP Binding Loci` `RBP Binding Loci`|Biofluid|Gene\n",
      "Ingesting 462261 is_subsequence_of relation of ERCCRBP\n",
      "Protein|`exRNA Loci`|`RBP Binding Loci` `RBP Binding Loci`|Biofluid|Gene\n",
      "Ingesting 268 predicted_in relation of ERCCRBP\n",
      "Protein|`exRNA Loci`|`RBP Binding Loci` `RBP Binding Loci`|Biofluid|Gene\n",
      "Ingesting 116 not_predicted_in relation of ERCCRBP\n",
      "Protein|`exRNA Loci`|`RBP Binding Loci` `RBP Binding Loci`|Biofluid|Gene\n",
      "Ingesting 22092 correlated_in relation of ERCCRBP\n",
      "Protein|`exRNA Loci`|`RBP Binding Loci` `RBP Binding Loci`|Biofluid|Gene\n",
      "Ingesting 102 not_correlated_in relation of ERCCRBP\n",
      "Protein|`exRNA Loci`|`RBP Binding Loci` `RBP Binding Loci`|Biofluid|Gene\n",
      "Ingesting 1255623 overlaps relation of ERCCRBP\n",
      "NPO\n",
      "NIFSTD|Anatomy|Taxon|ILX|Compound|Gene|PATO|Protein|GO|SO NIFSTD|Anatomy|Taxon|Compound|Protein|SO|PATO|ILX|GO\n",
      "Ingesting 2621 isa relation of NPO\n",
      "NIFSTD|Anatomy|Taxon|ILX|Compound|Gene|PATO|Protein|GO|SO NIFSTD|Anatomy|Taxon|Compound|Protein|SO|PATO|ILX|GO\n",
      "Ingesting 1091 part_of relation of NPO\n",
      "NIFSTD|Anatomy|Taxon|ILX|Compound|Gene|PATO|Protein|GO|SO NIFSTD|Anatomy|Taxon|Compound|Protein|SO|PATO|ILX|GO\n",
      "Ingesting 88 is_part_of relation of NPO\n",
      "NIFSTD|Anatomy|Taxon|ILX|Compound|Gene|PATO|Protein|GO|SO NIFSTD|Anatomy|Taxon|Compound|Protein|SO|PATO|ILX|GO\n",
      "Ingesting 175 contributes_to_morphology_of relation of NPO\n",
      "NIFSTD|Anatomy|Taxon|ILX|Compound|Gene|PATO|Protein|GO|SO NIFSTD|Anatomy|Taxon|Compound|Protein|SO|PATO|ILX|GO\n",
      "Ingesting 1 delineates relation of NPO\n",
      "NIFSTD|Anatomy|Taxon|ILX|Compound|Gene|PATO|Protein|GO|SO NIFSTD|Anatomy|Taxon|Compound|Protein|SO|PATO|ILX|GO\n",
      "Ingesting 1 isdelineatedby relation of NPO\n",
      "NIFSTD|Anatomy|Taxon|ILX|Compound|Gene|PATO|Protein|GO|SO NIFSTD|Anatomy|Taxon|Compound|Protein|SO|PATO|ILX|GO\n",
      "Ingesting 1 has_role relation of NPO\n",
      "MSIGDB\n",
      "MSIGDB Gene\n",
      "Ingesting 670712 targets_expression_of_gene relation of MSIGDB\n",
      "MSIGDB Gene\n",
      "Ingesting 22911 chr_band_contains_gene relation of MSIGDB\n",
      "MSIGDB Gene\n",
      "Ingesting 486646 pathway_associated_with_gene relation of MSIGDB\n",
      "MSIGDB Gene\n",
      "Ingesting 104759 has_marker_gene relation of MSIGDB\n",
      "MSIGDB Gene\n",
      "Ingesting 7321 has_signature_gene relation of MSIGDB\n",
      "HMAZ\n",
      "Anatomy Gene\n",
      "Ingesting 200 has_marker_gene_in_heart relation of HMAZ\n",
      "Anatomy Gene\n",
      "Ingesting 485 has_marker_gene_in_kidney relation of HMAZ\n",
      "Anatomy Gene\n",
      "Ingesting 225 has_marker_gene_in_liver relation of HMAZ\n",
      "PROTEOFORM\n",
      "Protein|Glycoprotein|`Glycoprotein Evidence`|`Glycosylation Site`|`GlyGen Location` Isoform|`Glycoprotein Evidence`|`Glycoprotein Citation`|`GP ID2PRO`|`Glycosylation Site`|`GlyGen Location`|Glytoucan|`Amino Acid`\n",
      "Ingesting 8404 has_isoform relation of PROTEOFORM\n",
      "Protein|Glycoprotein|`Glycoprotein Evidence`|`Glycosylation Site`|`GlyGen Location` Isoform|`Glycoprotein Evidence`|`Glycoprotein Citation`|`GP ID2PRO`|`Glycosylation Site`|`GlyGen Location`|Glytoucan|`Amino Acid`\n",
      "Ingesting 120158 has_evidence relation of PROTEOFORM\n",
      "Protein|Glycoprotein|`Glycoprotein Evidence`|`Glycosylation Site`|`GlyGen Location` Isoform|`Glycoprotein Evidence`|`Glycoprotein Citation`|`GP ID2PRO`|`Glycosylation Site`|`GlyGen Location`|Glytoucan|`Amino Acid`\n",
      "Ingesting 61353 sequence relation of PROTEOFORM\n",
      "Protein|Glycoprotein|`Glycoprotein Evidence`|`Glycosylation Site`|`GlyGen Location` Isoform|`Glycoprotein Evidence`|`Glycoprotein Citation`|`GP ID2PRO`|`Glycosylation Site`|`GlyGen Location`|Glytoucan|`Amino Acid`\n",
      "Ingesting 2088 citation relation of PROTEOFORM\n",
      "Protein|Glycoprotein|`Glycoprotein Evidence`|`Glycosylation Site`|`GlyGen Location` Isoform|`Glycoprotein Evidence`|`Glycoprotein Citation`|`GP ID2PRO`|`Glycosylation Site`|`GlyGen Location`|Glytoucan|`Amino Acid`\n",
      "Ingesting 61353 has_pro_entry relation of PROTEOFORM\n",
      "Protein|Glycoprotein|`Glycoprotein Evidence`|`Glycosylation Site`|`GlyGen Location` Isoform|`Glycoprotein Evidence`|`Glycoprotein Citation`|`GP ID2PRO`|`Glycosylation Site`|`GlyGen Location`|Glytoucan|`Amino Acid`\n",
      "Ingesting 52450 glycosylated_at relation of PROTEOFORM\n",
      "Protein|Glycoprotein|`Glycoprotein Evidence`|`Glycosylation Site`|`GlyGen Location` Isoform|`Glycoprotein Evidence`|`Glycoprotein Citation`|`GP ID2PRO`|`Glycosylation Site`|`GlyGen Location`|Glytoucan|`Amino Acid`\n",
      "Ingesting 52450 location relation of PROTEOFORM\n",
      "Protein|Glycoprotein|`Glycoprotein Evidence`|`Glycosylation Site`|`GlyGen Location` Isoform|`Glycoprotein Evidence`|`Glycoprotein Citation`|`GP ID2PRO`|`Glycosylation Site`|`GlyGen Location`|Glytoucan|`Amino Acid`\n",
      "Ingesting 44763 has_saccharide relation of PROTEOFORM\n",
      "Protein|Glycoprotein|`Glycoprotein Evidence`|`Glycosylation Site`|`GlyGen Location` Isoform|`Glycoprotein Evidence`|`Glycoprotein Citation`|`GP ID2PRO`|`Glycosylation Site`|`GlyGen Location`|Glytoucan|`Amino Acid`\n",
      "Ingesting 52450 has_amino_acid relation of PROTEOFORM\n",
      "AZ\n",
      "Anatomy Anatomy\n",
      "Ingesting 165 isa relation of AZ\n",
      "Anatomy Anatomy\n",
      "Ingesting 159 located_in relation of AZ\n"
     ]
    }
   ],
   "source": [
    "edge_pattern = \"out/sab/(?P<SAB>.*)\\.edges\\.csv\"\n",
    "success = True\n",
    "for filename in glob('out/sab/*.edges.csv'):\n",
    "\t# GET ID TYPES\n",
    "\tsab = re.match(edge_pattern, filename).groupdict()['SAB']\n",
    "\tprint(sab)\n",
    "\tnode_typer = {}\n",
    "\tfor f in node_sabs[sab]:\n",
    "\t\tnode_type = re.match(pattern, f).groupdict()['node_type']\n",
    "\t\tif len(node_type.split(\" \")) > 1:\n",
    "\t\t\tnode_type = \"`%s`\"%node_type\n",
    "\t\twith open(f) as o:\n",
    "\t\t\tcsv_reader = csv.reader(o)\n",
    "\t\t\tfor row in csv_reader:\n",
    "\t\t\t\tnode_typer[row[0]] = node_type\n",
    "\tnode_typer = pd.Series(node_typer)\n",
    "\tdf = pd.read_csv(filename, index_col=0)\n",
    "\tif len(df.index) != len(set(df.index)):\n",
    "\t\tdf = df.reset_index()\n",
    "\t\tdf = df[[i for i in df.columns if i != \"index\"]]\n",
    "\t# df[\"id\"] = df.apply(lambda x: str(uuid5(NAMESPACE_URL, \"%s_%s_%s_%s\"%(x[0], x[2], x[1], x[3]))), axis=1)\n",
    "\tfor relation in df.relation.unique():\n",
    "\t\tedges = []\n",
    "\t\td = df[df.relation == relation].dropna(axis=1, how='all')\n",
    "\t\tsource_type = \"|\".join(node_typer[df.source].unique())\n",
    "\t\ttarget_type = \"|\".join(node_typer[df.target].unique())\n",
    "\t\tprint(source_type, target_type)\n",
    "\t\tmeta = []\n",
    "\t\tfor col in d.columns:\n",
    "\t\t\tif (col not in [\"source\", 'target']):\n",
    "\t\t\t\tmeta.append(\"%s:row.%s\"%(col, col))\n",
    "\t\tedges = list(d.to_dict(orient=\"index\").values())\n",
    "\t\tprint(\"Ingesting %d %s relation of %s\"%(len(edges), relation, sab))\n",
    "\t\tmeta = \",\\n\".join(meta)\n",
    "\t\tsuccess = ingest_edges(relation, meta, source_type, target_type, edges)\n",
    "\t\tif not success:\n",
    "\t\t\tbreak\n",
    "\tif not success:\n",
    "\t\t\tbreak"
   ]
  },
  {
   "cell_type": "code",
   "execution_count": null,
   "metadata": {},
   "outputs": [],
   "source": [
    "[i for i in node_typer.index if 'ENCODE' in i]"
   ]
  },
  {
   "cell_type": "code",
   "execution_count": null,
   "metadata": {},
   "outputs": [],
   "source": [
    "edge_pattern = \"out/sab/(?P<SAB>.*)\\.edges\\.csv\"\n",
    "success = True\n",
    "for filename in glob('out/sab/*.edges.csv'):\n",
    "\t# GET ID TYPES\n",
    "\tsab = re.match(edge_pattern, filename).groupdict()['SAB']\n",
    "\tprint(sab)\n",
    "\tnode_typer = {}\n",
    "\tfor f in node_sabs[sab]:\n",
    "\t\tnode_type = re.match(pattern, f).groupdict()['node_type']\n",
    "\t\tif len(node_type.split(\" \")) > 1:\n",
    "\t\t\tnode_type = \"`%s`\"%node_type\n",
    "\t\twith open(f) as o:\n",
    "\t\t\tcsv_reader = csv.reader(o)\n",
    "\t\t\tfor row in csv_reader:\n",
    "\t\t\t\tnode_typer[row[0]] = node_type\n",
    "\tnode_typer = pd.Series(node_typer)\n",
    "\tdf = pd.read_csv(filename, index_col=0)\n",
    "\tif len(df.index) != len(set(df.index)):\n",
    "\t\tdf = df.reset_index()\n",
    "\t\tdf = df[[i for i in df.columns if i != \"index\"]]\n",
    "\t# df[\"id\"] = df.apply(lambda x: str(uuid5(NAMESPACE_URL, \"%s_%s_%s_%s\"%(x[0], x[2], x[1], x[3]))), axis=1)\n",
    "\tfor relation in df.relation.unique():\n",
    "\t\ttry:\n",
    "\t\t\tedges = []\n",
    "\t\t\td = df[df.relation == relation].dropna(axis=1, how='all')\n",
    "\t\t\tsource_type = \"|\".join(node_typer[df.source].unique())\n",
    "\t\t\ttarget_type = \"|\".join(node_typer[df.target].unique())\n",
    "\t\t\tprint(source_type, target_type)\n",
    "\t\texcept Exception as e:\n",
    "\t\t\tprint(e)\n",
    "\t# \tmeta = []\n",
    "\t# \tfor col in d.columns:\n",
    "\t# \t\tif (col not in [\"source\", 'target']):\n",
    "\t# \t\t\tmeta.append(\"%s:row.%s\"%(col, col))\n",
    "\t# \tedges = list(d.to_dict(orient=\"index\").values())\n",
    "\t# \tprint(\"Ingesting %d %s relation of %s\"%(len(edges), relation, sab))\n",
    "\t# \tmeta = \",\\n\".join(meta)\n",
    "\t# \tsuccess = ingest_edges(relation, meta, source_type, target_type, edges)\n",
    "\t# \tif not success:\n",
    "\t# \t\tbreak\n",
    "\t# if not success:\n",
    "\t# \t\tbreak"
   ]
  },
  {
   "cell_type": "code",
   "execution_count": null,
   "metadata": {},
   "outputs": [],
   "source": [
    "total_edges = 0\n",
    "for filename in glob('out/sab/*.edges.csv'):\n",
    "\tdf = pd.read_csv(filename, index_col=0)\n",
    "\ttotal_edges += df.shape[0]\n",
    "total_edges"
   ]
  },
  {
   "cell_type": "code",
   "execution_count": null,
   "metadata": {},
   "outputs": [],
   "source": []
  }
 ],
 "metadata": {
  "kernelspec": {
   "display_name": "venv",
   "language": "python",
   "name": "python3"
  },
  "language_info": {
   "codemirror_mode": {
    "name": "ipython",
    "version": 3
   },
   "file_extension": ".py",
   "mimetype": "text/x-python",
   "name": "python",
   "nbconvert_exporter": "python",
   "pygments_lexer": "ipython3",
   "version": "3.10.14"
  }
 },
 "nbformat": 4,
 "nbformat_minor": 2
}
